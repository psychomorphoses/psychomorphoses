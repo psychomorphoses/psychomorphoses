  {
   "cell_type": "markdown",
   "id": "e96e4ae6",
   "metadata": {},
   "source": [
    "# Статистический анализ данных сервиса аренды самокатов GoFast\n",
    "\n",
    "**Описание проекта**\n",
    "\n",
    "Заказчиком исследования стал сервис аренды самокатов GoFast, который передал данные о некоторых пользователях из нескольких городов, а также об их поездках. Чтобы совершать поездки по городу, пользователи сервиса GoFast пользуются мобильным приложением\n",
    "\n",
    "**Цель исследования** - проанализировать данные и проверить некоторые гипотезы, которые могут помочь бизнесу вырасти\n",
    "\n",
    "**Описание данных:**\n",
    "\n",
    "В основных данных есть информация о пользователях, их поездках и подписках.\n",
    "\n",
    "Пути к файлам:\n",
    "- */datasets/users_go.csv*\n",
    "- */datasets/rides_go.csv*\n",
    "- */datasets/subscriptions_go.csv*\n",
    "\n",
    "Переменные:\n",
    "\n",
    "*Пользователи*:\n",
    "\n",
    "- user_id - уникальный идентификатор пользователя\n",
    "- name - имя пользователя\n",
    "- age - возраст\n",
    "- city - город\n",
    "- subscription_type - тип подписки (free, ultra)\n",
    "\n",
    "*Поездки*:\n",
    "\n",
    "- user_id - уникальный идентификатор пользователя\n",
    "- distance - расстояние, которое пользователь проехал в текущей сессии (в метрах)\n",
    "- duration - продолжительность сессии (в минутах) — время с того момента, как пользователь нажал кнопку «Начать поездку» до - момента, как он нажал кнопку «Завершить поездку»\n",
    "- date - дата совершения поездки\n",
    "\n",
    "*Подписки*:\n",
    "\n",
    "- subscription_type - тип подписки\n",
    "- minute_price - стоимость одной минуты поездки по данной подписке\n",
    "- start_ride_price - стоимость начала поездки\n",
    "- subscription_fee - стоимость ежемесячного платежа\n",
    "\n",
    "**План исследования:**\n",
    "\n",
    "1. Загрузка данных\n",
    "2. Предобработка данных\n",
    "3. Исследовательский анализ данных\n",
    "4. Объединение данных\n",
    "5. Подсчёт выручки\n",
    "6. Проверка гипотез\n",
    "7. Общий вывод"
   ]
  },
  {
   "cell_type": "markdown",
   "id": "5f1be521",
   "metadata": {},
   "source": [
    "<div class=\"alert alert-block alert-success\">✔️\n",
    "    \n",
    "\n",
    "__Комментарий от ревьюера №1__\n",
    "\n",
    "\n",
    "Отличная практика - расписывать цель и основные этапы своими словами (этот навык очень поможет на фильнальном проекте).\n",
    "</div>"
   ]
  },
  {
   "cell_type": "code",
   "execution_count": 1,
   "id": "72576667",
   "metadata": {},
   "outputs": [],
   "source": [
    "import pandas as pd\n",
    "import matplotlib.pyplot as plt\n",
    "from scipy import stats as st\n",
    "from scipy.stats import binom\n",
    "import numpy as np\n",
    "import seaborn as sns"
   ]
  },
  {
   "cell_type": "markdown",
   "id": "c42cbe00",
   "metadata": {},
   "source": [
    "#### Шаг 1. Загрузка данных"
   ]
  },
  {
   "cell_type": "code",
   "execution_count": 2,
   "id": "eff9f206",
   "metadata": {},
   "outputs": [],
   "source": [
    "users = pd.read_csv('/datasets/users_go.csv')\n",
    "rides = pd.read_csv('/datasets/rides_go.csv')\n",
    "subscriptions = pd.read_csv('/datasets/subscriptions_go.csv')"
   ]
  },
  {
   "cell_type": "code",
   "execution_count": 3,
   "id": "ae8d154c",
   "metadata": {},
   "outputs": [
    {
     "data": {
      "text/html": [
       "<div>\n",
       "<style scoped>\n",
       "    .dataframe tbody tr th:only-of-type {\n",
       "        vertical-align: middle;\n",
       "    }\n",
       "\n",
       "    .dataframe tbody tr th {\n",
       "        vertical-align: top;\n",
       "    }\n",
       "\n",
       "    .dataframe thead th {\n",
       "        text-align: right;\n",
       "    }\n",
       "</style>\n",
       "<table border=\"1\" class=\"dataframe\">\n",
       "  <thead>\n",
       "    <tr style=\"text-align: right;\">\n",
       "      <th></th>\n",
       "      <th>user_id</th>\n",
       "      <th>name</th>\n",
       "      <th>age</th>\n",
       "      <th>city</th>\n",
       "      <th>subscription_type</th>\n",
       "    </tr>\n",
       "  </thead>\n",
       "  <tbody>\n",
       "    <tr>\n",
       "      <th>0</th>\n",
       "      <td>1</td>\n",
       "      <td>Кира</td>\n",
       "      <td>22</td>\n",
       "      <td>Тюмень</td>\n",
       "      <td>ultra</td>\n",
       "    </tr>\n",
       "    <tr>\n",
       "      <th>1</th>\n",
       "      <td>2</td>\n",
       "      <td>Станислав</td>\n",
       "      <td>31</td>\n",
       "      <td>Омск</td>\n",
       "      <td>ultra</td>\n",
       "    </tr>\n",
       "    <tr>\n",
       "      <th>2</th>\n",
       "      <td>3</td>\n",
       "      <td>Алексей</td>\n",
       "      <td>20</td>\n",
       "      <td>Москва</td>\n",
       "      <td>ultra</td>\n",
       "    </tr>\n",
       "    <tr>\n",
       "      <th>3</th>\n",
       "      <td>4</td>\n",
       "      <td>Константин</td>\n",
       "      <td>26</td>\n",
       "      <td>Ростов-на-Дону</td>\n",
       "      <td>ultra</td>\n",
       "    </tr>\n",
       "    <tr>\n",
       "      <th>4</th>\n",
       "      <td>5</td>\n",
       "      <td>Адель</td>\n",
       "      <td>28</td>\n",
       "      <td>Омск</td>\n",
       "      <td>ultra</td>\n",
       "    </tr>\n",
       "    <tr>\n",
       "      <th>...</th>\n",
       "      <td>...</td>\n",
       "      <td>...</td>\n",
       "      <td>...</td>\n",
       "      <td>...</td>\n",
       "      <td>...</td>\n",
       "    </tr>\n",
       "    <tr>\n",
       "      <th>1560</th>\n",
       "      <td>829</td>\n",
       "      <td>Федор</td>\n",
       "      <td>29</td>\n",
       "      <td>Пятигорск</td>\n",
       "      <td>free</td>\n",
       "    </tr>\n",
       "    <tr>\n",
       "      <th>1561</th>\n",
       "      <td>809</td>\n",
       "      <td>Юрий</td>\n",
       "      <td>26</td>\n",
       "      <td>Сочи</td>\n",
       "      <td>free</td>\n",
       "    </tr>\n",
       "    <tr>\n",
       "      <th>1562</th>\n",
       "      <td>307</td>\n",
       "      <td>Ясмина</td>\n",
       "      <td>19</td>\n",
       "      <td>Краснодар</td>\n",
       "      <td>ultra</td>\n",
       "    </tr>\n",
       "    <tr>\n",
       "      <th>1563</th>\n",
       "      <td>47</td>\n",
       "      <td>Юрий</td>\n",
       "      <td>28</td>\n",
       "      <td>Тюмень</td>\n",
       "      <td>ultra</td>\n",
       "    </tr>\n",
       "    <tr>\n",
       "      <th>1564</th>\n",
       "      <td>1045</td>\n",
       "      <td>Артемий</td>\n",
       "      <td>28</td>\n",
       "      <td>Ростов-на-Дону</td>\n",
       "      <td>free</td>\n",
       "    </tr>\n",
       "  </tbody>\n",
       "</table>\n",
       "<p>1565 rows × 5 columns</p>\n",
       "</div>"
      ],
      "text/plain": [
       "      user_id        name  age            city subscription_type\n",
       "0           1        Кира   22          Тюмень             ultra\n",
       "1           2   Станислав   31            Омск             ultra\n",
       "2           3     Алексей   20          Москва             ultra\n",
       "3           4  Константин   26  Ростов-на-Дону             ultra\n",
       "4           5       Адель   28            Омск             ultra\n",
       "...       ...         ...  ...             ...               ...\n",
       "1560      829       Федор   29       Пятигорск              free\n",
       "1561      809        Юрий   26            Сочи              free\n",
       "1562      307      Ясмина   19       Краснодар             ultra\n",
       "1563       47        Юрий   28          Тюмень             ultra\n",
       "1564     1045     Артемий   28  Ростов-на-Дону              free\n",
       "\n",
       "[1565 rows x 5 columns]"
      ]
     },
     "execution_count": 3,
     "metadata": {},
     "output_type": "execute_result"
    }
   ],
   "source": [
    "users"
   ]
  },
  {
   "cell_type": "code",
   "execution_count": 4,
   "id": "9cec0631",
   "metadata": {},
   "outputs": [
    {
     "name": "stdout",
     "output_type": "stream",
     "text": [
      "<class 'pandas.core.frame.DataFrame'>\n",
      "RangeIndex: 1565 entries, 0 to 1564\n",
      "Data columns (total 5 columns):\n",
      " #   Column             Non-Null Count  Dtype \n",
      "---  ------             --------------  ----- \n",
      " 0   user_id            1565 non-null   int64 \n",
      " 1   name               1565 non-null   object\n",
      " 2   age                1565 non-null   int64 \n",
      " 3   city               1565 non-null   object\n",
      " 4   subscription_type  1565 non-null   object\n",
      "dtypes: int64(2), object(3)\n",
      "memory usage: 61.3+ KB\n"
     ]
    }
   ],
   "source": [
    "users.info()"
   ]
  },
  {
   "cell_type": "code",
   "execution_count": 5,
   "id": "d948ac13",
   "metadata": {},
   "outputs": [
    {
     "data": {
      "text/html": [
       "<div>\n",
       "<style scoped>\n",
       "    .dataframe tbody tr th:only-of-type {\n",
       "        vertical-align: middle;\n",
       "    }\n",
       "\n",
       "    .dataframe tbody tr th {\n",
       "        vertical-align: top;\n",
       "    }\n",
       "\n",
       "    .dataframe thead th {\n",
       "        text-align: right;\n",
       "    }\n",
       "</style>\n",
       "<table border=\"1\" class=\"dataframe\">\n",
       "  <thead>\n",
       "    <tr style=\"text-align: right;\">\n",
       "      <th></th>\n",
       "      <th>user_id</th>\n",
       "      <th>age</th>\n",
       "    </tr>\n",
       "  </thead>\n",
       "  <tbody>\n",
       "    <tr>\n",
       "      <th>count</th>\n",
       "      <td>1565.000000</td>\n",
       "      <td>1565.000000</td>\n",
       "    </tr>\n",
       "    <tr>\n",
       "      <th>mean</th>\n",
       "      <td>762.633866</td>\n",
       "      <td>24.922045</td>\n",
       "    </tr>\n",
       "    <tr>\n",
       "      <th>std</th>\n",
       "      <td>443.260155</td>\n",
       "      <td>4.553496</td>\n",
       "    </tr>\n",
       "    <tr>\n",
       "      <th>min</th>\n",
       "      <td>1.000000</td>\n",
       "      <td>12.000000</td>\n",
       "    </tr>\n",
       "    <tr>\n",
       "      <th>25%</th>\n",
       "      <td>378.000000</td>\n",
       "      <td>22.000000</td>\n",
       "    </tr>\n",
       "    <tr>\n",
       "      <th>50%</th>\n",
       "      <td>762.000000</td>\n",
       "      <td>25.000000</td>\n",
       "    </tr>\n",
       "    <tr>\n",
       "      <th>75%</th>\n",
       "      <td>1146.000000</td>\n",
       "      <td>28.000000</td>\n",
       "    </tr>\n",
       "    <tr>\n",
       "      <th>max</th>\n",
       "      <td>1534.000000</td>\n",
       "      <td>43.000000</td>\n",
       "    </tr>\n",
       "  </tbody>\n",
       "</table>\n",
       "</div>"
      ],
      "text/plain": [
       "           user_id          age\n",
       "count  1565.000000  1565.000000\n",
       "mean    762.633866    24.922045\n",
       "std     443.260155     4.553496\n",
       "min       1.000000    12.000000\n",
       "25%     378.000000    22.000000\n",
       "50%     762.000000    25.000000\n",
       "75%    1146.000000    28.000000\n",
       "max    1534.000000    43.000000"
      ]
     },
     "execution_count": 5,
     "metadata": {},
     "output_type": "execute_result"
    }
   ],
   "source": [
    "users.describe()"
   ]
  },
  {
   "cell_type": "code",
   "execution_count": 6,
   "id": "3faa7aca",
   "metadata": {},
   "outputs": [
    {
     "data": {
      "text/plain": [
       "1534"
      ]
     },
     "execution_count": 6,
     "metadata": {},
     "output_type": "execute_result"
    }
   ],
   "source": [
    "len(users['user_id'].unique())"
   ]
  },
  {
   "cell_type": "markdown",
   "id": "3a9066d5",
   "metadata": {},
   "source": [
    "В таблице users представлены данные по 1534 пользователям (1565 строк всего, есть дубликаты). Пропусков нет, тип данных верный."
   ]
  },
  {
   "cell_type": "code",
   "execution_count": 7,
   "id": "af6d202c",
   "metadata": {},
   "outputs": [
    {
     "data": {
      "text/html": [
       "<div>\n",
       "<style scoped>\n",
       "    .dataframe tbody tr th:only-of-type {\n",
       "        vertical-align: middle;\n",
       "    }\n",
       "\n",
       "    .dataframe tbody tr th {\n",
       "        vertical-align: top;\n",
       "    }\n",
       "\n",
       "    .dataframe thead th {\n",
       "        text-align: right;\n",
       "    }\n",
       "</style>\n",
       "<table border=\"1\" class=\"dataframe\">\n",
       "  <thead>\n",
       "    <tr style=\"text-align: right;\">\n",
       "      <th></th>\n",
       "      <th>user_id</th>\n",
       "      <th>distance</th>\n",
       "      <th>duration</th>\n",
       "      <th>date</th>\n",
       "    </tr>\n",
       "  </thead>\n",
       "  <tbody>\n",
       "    <tr>\n",
       "      <th>0</th>\n",
       "      <td>1</td>\n",
       "      <td>4409.919140</td>\n",
       "      <td>25.599769</td>\n",
       "      <td>2021-01-01</td>\n",
       "    </tr>\n",
       "    <tr>\n",
       "      <th>1</th>\n",
       "      <td>1</td>\n",
       "      <td>2617.592153</td>\n",
       "      <td>15.816871</td>\n",
       "      <td>2021-01-18</td>\n",
       "    </tr>\n",
       "    <tr>\n",
       "      <th>2</th>\n",
       "      <td>1</td>\n",
       "      <td>754.159807</td>\n",
       "      <td>6.232113</td>\n",
       "      <td>2021-04-20</td>\n",
       "    </tr>\n",
       "    <tr>\n",
       "      <th>3</th>\n",
       "      <td>1</td>\n",
       "      <td>2694.783254</td>\n",
       "      <td>18.511000</td>\n",
       "      <td>2021-08-11</td>\n",
       "    </tr>\n",
       "    <tr>\n",
       "      <th>4</th>\n",
       "      <td>1</td>\n",
       "      <td>4028.687306</td>\n",
       "      <td>26.265803</td>\n",
       "      <td>2021-08-28</td>\n",
       "    </tr>\n",
       "    <tr>\n",
       "      <th>...</th>\n",
       "      <td>...</td>\n",
       "      <td>...</td>\n",
       "      <td>...</td>\n",
       "      <td>...</td>\n",
       "    </tr>\n",
       "    <tr>\n",
       "      <th>18063</th>\n",
       "      <td>1534</td>\n",
       "      <td>3781.098080</td>\n",
       "      <td>19.822962</td>\n",
       "      <td>2021-11-04</td>\n",
       "    </tr>\n",
       "    <tr>\n",
       "      <th>18064</th>\n",
       "      <td>1534</td>\n",
       "      <td>2840.423057</td>\n",
       "      <td>21.409799</td>\n",
       "      <td>2021-11-16</td>\n",
       "    </tr>\n",
       "    <tr>\n",
       "      <th>18065</th>\n",
       "      <td>1534</td>\n",
       "      <td>3826.185507</td>\n",
       "      <td>18.435051</td>\n",
       "      <td>2021-11-18</td>\n",
       "    </tr>\n",
       "    <tr>\n",
       "      <th>18066</th>\n",
       "      <td>1534</td>\n",
       "      <td>2902.308661</td>\n",
       "      <td>16.674362</td>\n",
       "      <td>2021-11-27</td>\n",
       "    </tr>\n",
       "    <tr>\n",
       "      <th>18067</th>\n",
       "      <td>1534</td>\n",
       "      <td>2371.711192</td>\n",
       "      <td>15.893917</td>\n",
       "      <td>2021-12-29</td>\n",
       "    </tr>\n",
       "  </tbody>\n",
       "</table>\n",
       "<p>18068 rows × 4 columns</p>\n",
       "</div>"
      ],
      "text/plain": [
       "       user_id     distance   duration        date\n",
       "0            1  4409.919140  25.599769  2021-01-01\n",
       "1            1  2617.592153  15.816871  2021-01-18\n",
       "2            1   754.159807   6.232113  2021-04-20\n",
       "3            1  2694.783254  18.511000  2021-08-11\n",
       "4            1  4028.687306  26.265803  2021-08-28\n",
       "...        ...          ...        ...         ...\n",
       "18063     1534  3781.098080  19.822962  2021-11-04\n",
       "18064     1534  2840.423057  21.409799  2021-11-16\n",
       "18065     1534  3826.185507  18.435051  2021-11-18\n",
       "18066     1534  2902.308661  16.674362  2021-11-27\n",
       "18067     1534  2371.711192  15.893917  2021-12-29\n",
       "\n",
       "[18068 rows x 4 columns]"
      ]
     },
     "execution_count": 7,
     "metadata": {},
     "output_type": "execute_result"
    }
   ],
   "source": [
    "rides"
   ]
  },
  {
   "cell_type": "code",
   "execution_count": 8,
   "id": "b96ecb0f",
   "metadata": {},
   "outputs": [
    {
     "name": "stdout",
     "output_type": "stream",
     "text": [
      "<class 'pandas.core.frame.DataFrame'>\n",
      "RangeIndex: 18068 entries, 0 to 18067\n",
      "Data columns (total 4 columns):\n",
      " #   Column    Non-Null Count  Dtype  \n",
      "---  ------    --------------  -----  \n",
      " 0   user_id   18068 non-null  int64  \n",
      " 1   distance  18068 non-null  float64\n",
      " 2   duration  18068 non-null  float64\n",
      " 3   date      18068 non-null  object \n",
      "dtypes: float64(2), int64(1), object(1)\n",
      "memory usage: 564.8+ KB\n"
     ]
    }
   ],
   "source": [
    "rides.info()"
   ]
  },
  {
   "cell_type": "code",
   "execution_count": 9,
   "id": "00f9b2e8",
   "metadata": {},
   "outputs": [
    {
     "data": {
      "text/html": [
       "<div>\n",
       "<style scoped>\n",
       "    .dataframe tbody tr th:only-of-type {\n",
       "        vertical-align: middle;\n",
       "    }\n",
       "\n",
       "    .dataframe tbody tr th {\n",
       "        vertical-align: top;\n",
       "    }\n",
       "\n",
       "    .dataframe thead th {\n",
       "        text-align: right;\n",
       "    }\n",
       "</style>\n",
       "<table border=\"1\" class=\"dataframe\">\n",
       "  <thead>\n",
       "    <tr style=\"text-align: right;\">\n",
       "      <th></th>\n",
       "      <th>user_id</th>\n",
       "      <th>distance</th>\n",
       "      <th>duration</th>\n",
       "    </tr>\n",
       "  </thead>\n",
       "  <tbody>\n",
       "    <tr>\n",
       "      <th>count</th>\n",
       "      <td>18068.000000</td>\n",
       "      <td>18068.000000</td>\n",
       "      <td>18068.000000</td>\n",
       "    </tr>\n",
       "    <tr>\n",
       "      <th>mean</th>\n",
       "      <td>842.869936</td>\n",
       "      <td>3070.659976</td>\n",
       "      <td>17.805011</td>\n",
       "    </tr>\n",
       "    <tr>\n",
       "      <th>std</th>\n",
       "      <td>434.734317</td>\n",
       "      <td>1116.831209</td>\n",
       "      <td>6.091051</td>\n",
       "    </tr>\n",
       "    <tr>\n",
       "      <th>min</th>\n",
       "      <td>1.000000</td>\n",
       "      <td>0.855683</td>\n",
       "      <td>0.500000</td>\n",
       "    </tr>\n",
       "    <tr>\n",
       "      <th>25%</th>\n",
       "      <td>487.000000</td>\n",
       "      <td>2543.226360</td>\n",
       "      <td>13.597563</td>\n",
       "    </tr>\n",
       "    <tr>\n",
       "      <th>50%</th>\n",
       "      <td>889.000000</td>\n",
       "      <td>3133.609994</td>\n",
       "      <td>17.678395</td>\n",
       "    </tr>\n",
       "    <tr>\n",
       "      <th>75%</th>\n",
       "      <td>1213.250000</td>\n",
       "      <td>3776.222735</td>\n",
       "      <td>21.724800</td>\n",
       "    </tr>\n",
       "    <tr>\n",
       "      <th>max</th>\n",
       "      <td>1534.000000</td>\n",
       "      <td>7211.007745</td>\n",
       "      <td>40.823963</td>\n",
       "    </tr>\n",
       "  </tbody>\n",
       "</table>\n",
       "</div>"
      ],
      "text/plain": [
       "            user_id      distance      duration\n",
       "count  18068.000000  18068.000000  18068.000000\n",
       "mean     842.869936   3070.659976     17.805011\n",
       "std      434.734317   1116.831209      6.091051\n",
       "min        1.000000      0.855683      0.500000\n",
       "25%      487.000000   2543.226360     13.597563\n",
       "50%      889.000000   3133.609994     17.678395\n",
       "75%     1213.250000   3776.222735     21.724800\n",
       "max     1534.000000   7211.007745     40.823963"
      ]
     },
     "execution_count": 9,
     "metadata": {},
     "output_type": "execute_result"
    }
   ],
   "source": [
    "rides.describe()"
   ]
  },
  {
   "cell_type": "markdown",
   "id": "9664c51e",
   "metadata": {},
   "source": [
    "В таблице rides представлены данные по 18068 поездкам. Пропусков нет. Тип данных нужно изменить только в столбце date, необходимо привести к типу даты."
   ]
  },
  {
   "cell_type": "code",
   "execution_count": 10,
   "id": "8d26f3cc",
   "metadata": {},
   "outputs": [
    {
     "data": {
      "text/html": [
       "<div>\n",
       "<style scoped>\n",
       "    .dataframe tbody tr th:only-of-type {\n",
       "        vertical-align: middle;\n",
       "    }\n",
       "\n",
       "    .dataframe tbody tr th {\n",
       "        vertical-align: top;\n",
       "    }\n",
       "\n",
       "    .dataframe thead th {\n",
       "        text-align: right;\n",
       "    }\n",
       "</style>\n",
       "<table border=\"1\" class=\"dataframe\">\n",
       "  <thead>\n",
       "    <tr style=\"text-align: right;\">\n",
       "      <th></th>\n",
       "      <th>subscription_type</th>\n",
       "      <th>minute_price</th>\n",
       "      <th>start_ride_price</th>\n",
       "      <th>subscription_fee</th>\n",
       "    </tr>\n",
       "  </thead>\n",
       "  <tbody>\n",
       "    <tr>\n",
       "      <th>0</th>\n",
       "      <td>free</td>\n",
       "      <td>8</td>\n",
       "      <td>50</td>\n",
       "      <td>0</td>\n",
       "    </tr>\n",
       "    <tr>\n",
       "      <th>1</th>\n",
       "      <td>ultra</td>\n",
       "      <td>6</td>\n",
       "      <td>0</td>\n",
       "      <td>199</td>\n",
       "    </tr>\n",
       "  </tbody>\n",
       "</table>\n",
       "</div>"
      ],
      "text/plain": [
       "  subscription_type  minute_price  start_ride_price  subscription_fee\n",
       "0              free             8                50                 0\n",
       "1             ultra             6                 0               199"
      ]
     },
     "execution_count": 10,
     "metadata": {},
     "output_type": "execute_result"
    }
   ],
   "source": [
    "subscriptions"
   ]
  },
  {
   "cell_type": "code",
   "execution_count": 11,
   "id": "a06df79a",
   "metadata": {},
   "outputs": [
    {
     "name": "stdout",
     "output_type": "stream",
     "text": [
      "<class 'pandas.core.frame.DataFrame'>\n",
      "RangeIndex: 2 entries, 0 to 1\n",
      "Data columns (total 4 columns):\n",
      " #   Column             Non-Null Count  Dtype \n",
      "---  ------             --------------  ----- \n",
      " 0   subscription_type  2 non-null      object\n",
      " 1   minute_price       2 non-null      int64 \n",
      " 2   start_ride_price   2 non-null      int64 \n",
      " 3   subscription_fee   2 non-null      int64 \n",
      "dtypes: int64(3), object(1)\n",
      "memory usage: 192.0+ bytes\n"
     ]
    }
   ],
   "source": [
    "subscriptions.info()"
   ]
  },
  {
   "cell_type": "code",
   "execution_count": 12,
   "id": "b303419d",
   "metadata": {},
   "outputs": [
    {
     "data": {
      "text/html": [
       "<div>\n",
       "<style scoped>\n",
       "    .dataframe tbody tr th:only-of-type {\n",
       "        vertical-align: middle;\n",
       "    }\n",
       "\n",
       "    .dataframe tbody tr th {\n",
       "        vertical-align: top;\n",
       "    }\n",
       "\n",
       "    .dataframe thead th {\n",
       "        text-align: right;\n",
       "    }\n",
       "</style>\n",
       "<table border=\"1\" class=\"dataframe\">\n",
       "  <thead>\n",
       "    <tr style=\"text-align: right;\">\n",
       "      <th></th>\n",
       "      <th>minute_price</th>\n",
       "      <th>start_ride_price</th>\n",
       "      <th>subscription_fee</th>\n",
       "    </tr>\n",
       "  </thead>\n",
       "  <tbody>\n",
       "    <tr>\n",
       "      <th>count</th>\n",
       "      <td>2.000000</td>\n",
       "      <td>2.000000</td>\n",
       "      <td>2.000000</td>\n",
       "    </tr>\n",
       "    <tr>\n",
       "      <th>mean</th>\n",
       "      <td>7.000000</td>\n",
       "      <td>25.000000</td>\n",
       "      <td>99.500000</td>\n",
       "    </tr>\n",
       "    <tr>\n",
       "      <th>std</th>\n",
       "      <td>1.414214</td>\n",
       "      <td>35.355339</td>\n",
       "      <td>140.714249</td>\n",
       "    </tr>\n",
       "    <tr>\n",
       "      <th>min</th>\n",
       "      <td>6.000000</td>\n",
       "      <td>0.000000</td>\n",
       "      <td>0.000000</td>\n",
       "    </tr>\n",
       "    <tr>\n",
       "      <th>25%</th>\n",
       "      <td>6.500000</td>\n",
       "      <td>12.500000</td>\n",
       "      <td>49.750000</td>\n",
       "    </tr>\n",
       "    <tr>\n",
       "      <th>50%</th>\n",
       "      <td>7.000000</td>\n",
       "      <td>25.000000</td>\n",
       "      <td>99.500000</td>\n",
       "    </tr>\n",
       "    <tr>\n",
       "      <th>75%</th>\n",
       "      <td>7.500000</td>\n",
       "      <td>37.500000</td>\n",
       "      <td>149.250000</td>\n",
       "    </tr>\n",
       "    <tr>\n",
       "      <th>max</th>\n",
       "      <td>8.000000</td>\n",
       "      <td>50.000000</td>\n",
       "      <td>199.000000</td>\n",
       "    </tr>\n",
       "  </tbody>\n",
       "</table>\n",
       "</div>"
      ],
      "text/plain": [
       "       minute_price  start_ride_price  subscription_fee\n",
       "count      2.000000          2.000000          2.000000\n",
       "mean       7.000000         25.000000         99.500000\n",
       "std        1.414214         35.355339        140.714249\n",
       "min        6.000000          0.000000          0.000000\n",
       "25%        6.500000         12.500000         49.750000\n",
       "50%        7.000000         25.000000         99.500000\n",
       "75%        7.500000         37.500000        149.250000\n",
       "max        8.000000         50.000000        199.000000"
      ]
     },
     "execution_count": 12,
     "metadata": {},
     "output_type": "execute_result"
    }
   ],
   "source": [
    "subscriptions.describe()"
   ]
  },
  {
   "cell_type": "markdown",
   "id": "b5ce48a7",
   "metadata": {},
   "source": [
    "В таблице subscriptions представлена информация по подпискам. Тип данных корректный, пропусков нет"
   ]
  },
  {
   "cell_type": "markdown",
   "id": "19eab47c",
   "metadata": {},
   "source": [
    "Выводы:\n",
    "\n",
    "Мы загрузили данные из 3 таблиц, включающих в себя информацию по поездкам, пользователям и подпискам. Всего представлена информация по 1534 пользователям, 18068 поездкам, 2 типам подписки. В данных нет пропусков, дубликаты есть в таблице с пользователями. Тип данных корректный кроме столбца date в таблице с поездками."
   ]
  },
  {
   "cell_type": "markdown",
   "id": "b82d5bc1",
   "metadata": {},
   "source": [
    "<div class=\"alert alert-block alert-success\">✔️\n",
    "    \n",
    "__Комментарий от ревьюера №1__\n",
    "    \n",
    "Отлично! Первый взгляд на данные есть"
   ]
  },
  {
   "cell_type": "markdown",
   "id": "e95ebca7",
   "metadata": {},
   "source": [
    "#### Шаг 2. Предобработка данных"
   ]
  },
  {
   "cell_type": "markdown",
   "id": "eab30433",
   "metadata": {},
   "source": [
    "Приведем столбец date к нужному типу данных"
   ]
  },
  {
   "cell_type": "code",
   "execution_count": 13,
   "id": "523619bb",
   "metadata": {},
   "outputs": [],
   "source": [
    "rides['date'] = pd.to_datetime(rides['date'])"
   ]
  },
  {
   "cell_type": "code",
   "execution_count": 14,
   "id": "4ecfbf4e",
   "metadata": {},
   "outputs": [
    {
     "data": {
      "text/plain": [
       "Timestamp('2021-01-01 00:00:00')"
      ]
     },
     "execution_count": 14,
     "metadata": {},
     "output_type": "execute_result"
    }
   ],
   "source": [
    "rides['date'].min()"
   ]
  },
  {
   "cell_type": "code",
   "execution_count": 15,
   "id": "ab747684",
   "metadata": {},
   "outputs": [
    {
     "data": {
      "text/plain": [
       "Timestamp('2021-12-30 00:00:00')"
      ]
     },
     "execution_count": 15,
     "metadata": {},
     "output_type": "execute_result"
    }
   ],
   "source": [
    "rides['date'].max()"
   ]
  },
  {
   "cell_type": "markdown",
   "id": "3cb747e1",
   "metadata": {},
   "source": [
    "Таблица включает в себя информацию по поездкам за 2021 год. Если добавим столбец с номером месяца, но искажений не будет"
   ]
  },
  {
   "cell_type": "markdown",
   "id": "3c0fb90a",
   "metadata": {},
   "source": [
    "Создадим новый столбец с номером месяца на основе столбца date"
   ]
  },
  {
   "cell_type": "code",
   "execution_count": 16,
   "id": "52862e82",
   "metadata": {},
   "outputs": [
    {
     "data": {
      "text/plain": [
       "0         1\n",
       "1         1\n",
       "2         4\n",
       "3         8\n",
       "4         8\n",
       "         ..\n",
       "18063    11\n",
       "18064    11\n",
       "18065    11\n",
       "18066    11\n",
       "18067    12\n",
       "Name: month, Length: 18068, dtype: int64"
      ]
     },
     "execution_count": 16,
     "metadata": {},
     "output_type": "execute_result"
    }
   ],
   "source": [
    "rides['month'] = rides['date'].dt.month\n",
    "rides['month']"
   ]
  },
  {
   "cell_type": "markdown",
   "id": "41bad900",
   "metadata": {},
   "source": [
    "<div class=\"alert alert-block alert-warning\">📝\n",
    "    \n",
    "\n",
    "__Комментарий от ревьюера №1__\n",
    "\n",
    "Хорошо бы проверить за какой период у нас данные. Проверить столбец длительности на предмет наличия аномалий. Например, если у нас разные года то январь 2021 и январь 2022 будут под одной цифрой (1). \n",
    "</div>"
   ]
  },
  {
   "cell_type": "markdown",
   "id": "cd3bb631",
   "metadata": {},
   "source": [
    "Избавимся от дубликатов в таблице users"
   ]
  },
  {
   "cell_type": "code",
   "execution_count": 17,
   "id": "bf509652",
   "metadata": {},
   "outputs": [
    {
     "data": {
      "text/html": [
       "<div>\n",
       "<style scoped>\n",
       "    .dataframe tbody tr th:only-of-type {\n",
       "        vertical-align: middle;\n",
       "    }\n",
       "\n",
       "    .dataframe tbody tr th {\n",
       "        vertical-align: top;\n",
       "    }\n",
       "\n",
       "    .dataframe thead th {\n",
       "        text-align: right;\n",
       "    }\n",
       "</style>\n",
       "<table border=\"1\" class=\"dataframe\">\n",
       "  <thead>\n",
       "    <tr style=\"text-align: right;\">\n",
       "      <th></th>\n",
       "      <th>user_id</th>\n",
       "      <th>name</th>\n",
       "      <th>age</th>\n",
       "      <th>city</th>\n",
       "      <th>subscription_type</th>\n",
       "    </tr>\n",
       "  </thead>\n",
       "  <tbody>\n",
       "    <tr>\n",
       "      <th>0</th>\n",
       "      <td>1</td>\n",
       "      <td>Кира</td>\n",
       "      <td>22</td>\n",
       "      <td>Тюмень</td>\n",
       "      <td>ultra</td>\n",
       "    </tr>\n",
       "    <tr>\n",
       "      <th>1</th>\n",
       "      <td>2</td>\n",
       "      <td>Станислав</td>\n",
       "      <td>31</td>\n",
       "      <td>Омск</td>\n",
       "      <td>ultra</td>\n",
       "    </tr>\n",
       "    <tr>\n",
       "      <th>2</th>\n",
       "      <td>3</td>\n",
       "      <td>Алексей</td>\n",
       "      <td>20</td>\n",
       "      <td>Москва</td>\n",
       "      <td>ultra</td>\n",
       "    </tr>\n",
       "    <tr>\n",
       "      <th>3</th>\n",
       "      <td>4</td>\n",
       "      <td>Константин</td>\n",
       "      <td>26</td>\n",
       "      <td>Ростов-на-Дону</td>\n",
       "      <td>ultra</td>\n",
       "    </tr>\n",
       "    <tr>\n",
       "      <th>4</th>\n",
       "      <td>5</td>\n",
       "      <td>Адель</td>\n",
       "      <td>28</td>\n",
       "      <td>Омск</td>\n",
       "      <td>ultra</td>\n",
       "    </tr>\n",
       "    <tr>\n",
       "      <th>...</th>\n",
       "      <td>...</td>\n",
       "      <td>...</td>\n",
       "      <td>...</td>\n",
       "      <td>...</td>\n",
       "      <td>...</td>\n",
       "    </tr>\n",
       "    <tr>\n",
       "      <th>1529</th>\n",
       "      <td>1530</td>\n",
       "      <td>Ростислав</td>\n",
       "      <td>29</td>\n",
       "      <td>Сочи</td>\n",
       "      <td>free</td>\n",
       "    </tr>\n",
       "    <tr>\n",
       "      <th>1530</th>\n",
       "      <td>1531</td>\n",
       "      <td>Никита</td>\n",
       "      <td>25</td>\n",
       "      <td>Пятигорск</td>\n",
       "      <td>free</td>\n",
       "    </tr>\n",
       "    <tr>\n",
       "      <th>1531</th>\n",
       "      <td>1532</td>\n",
       "      <td>Алексей</td>\n",
       "      <td>26</td>\n",
       "      <td>Тюмень</td>\n",
       "      <td>free</td>\n",
       "    </tr>\n",
       "    <tr>\n",
       "      <th>1532</th>\n",
       "      <td>1533</td>\n",
       "      <td>Степан</td>\n",
       "      <td>22</td>\n",
       "      <td>Краснодар</td>\n",
       "      <td>free</td>\n",
       "    </tr>\n",
       "    <tr>\n",
       "      <th>1533</th>\n",
       "      <td>1534</td>\n",
       "      <td>Альберт</td>\n",
       "      <td>25</td>\n",
       "      <td>Краснодар</td>\n",
       "      <td>free</td>\n",
       "    </tr>\n",
       "  </tbody>\n",
       "</table>\n",
       "<p>1534 rows × 5 columns</p>\n",
       "</div>"
      ],
      "text/plain": [
       "      user_id        name  age            city subscription_type\n",
       "0           1        Кира   22          Тюмень             ultra\n",
       "1           2   Станислав   31            Омск             ultra\n",
       "2           3     Алексей   20          Москва             ultra\n",
       "3           4  Константин   26  Ростов-на-Дону             ultra\n",
       "4           5       Адель   28            Омск             ultra\n",
       "...       ...         ...  ...             ...               ...\n",
       "1529     1530   Ростислав   29            Сочи              free\n",
       "1530     1531      Никита   25       Пятигорск              free\n",
       "1531     1532     Алексей   26          Тюмень              free\n",
       "1532     1533      Степан   22       Краснодар              free\n",
       "1533     1534     Альберт   25       Краснодар              free\n",
       "\n",
       "[1534 rows x 5 columns]"
      ]
     },
     "execution_count": 17,
     "metadata": {},
     "output_type": "execute_result"
    }
   ],
   "source": [
    "users = users.drop_duplicates(subset='user_id', keep='first')\n",
    "users.reset_index(drop=True , inplace=True)\n",
    "users"
   ]
  },
  {
   "cell_type": "code",
   "execution_count": 18,
   "id": "ed47c36f",
   "metadata": {},
   "outputs": [
    {
     "data": {
      "text/plain": [
       "array(['Тюмень', 'Омск', 'Москва', 'Ростов-на-Дону', 'Краснодар',\n",
       "       'Пятигорск', 'Екатеринбург', 'Сочи'], dtype=object)"
      ]
     },
     "execution_count": 18,
     "metadata": {},
     "output_type": "execute_result"
    }
   ],
   "source": [
    "#проверим также города\n",
    "users['city'].unique()"
   ]
  },
  {
   "cell_type": "markdown",
   "id": "66afcfaa",
   "metadata": {},
   "source": [
    "Вывод:\n",
    "\n",
    "Мы провели предобработку данных. Привели столбец date к нужному типу данных (даты), а также проверили информацию в нем. Информация представлена по поездкам только за 2021 год, на основе этого создали столбец с номером месяца поездки. Также мы избавились от дубликатов в таблице с пользователями, в результате чего наш датафрейм уменьшился до 1534 строк."
   ]
  },
  {
   "cell_type": "markdown",
   "id": "33027320",
   "metadata": {},
   "source": [
    "<div class=\"alert alert-block alert-danger\">✍\n",
    "    \n",
    "\n",
    "__Комментарий от ревьюера №1__\n",
    "\n",
    "Отсутствует вывод после раздела (можно описать качество исходных данных). Поправишь, этот момент в проекте?\n",
    "</div>"
   ]
  },
  {
   "cell_type": "markdown",
   "id": "9a1ceb24",
   "metadata": {},
   "source": [
    "<div class=\"alert alert-block alert-success\">✔️\n",
    "    \n",
    "\n",
    "__Комментарий от ревьюера №2__\n",
    "    \n",
    "Этот раздел сделан хорошо. Проверены основные возможные проблемы в данных."
   ]
  },
  {
   "cell_type": "markdown",
   "id": "212593c7",
   "metadata": {},
   "source": [
    "#### Шаг 3. Исследовательский анализ данных"
   ]
  },
  {
   "cell_type": "markdown",
   "id": "06f2219d",
   "metadata": {},
   "source": [
    "**Частота встречаемости городов**"
   ]
  },
  {
   "cell_type": "code",
   "execution_count": 19,
   "id": "cbdc5cf4",
   "metadata": {},
   "outputs": [
    {
     "data": {
      "text/html": [
       "<div>\n",
       "<style scoped>\n",
       "    .dataframe tbody tr th:only-of-type {\n",
       "        vertical-align: middle;\n",
       "    }\n",
       "\n",
       "    .dataframe tbody tr th {\n",
       "        vertical-align: top;\n",
       "    }\n",
       "\n",
       "    .dataframe thead th {\n",
       "        text-align: right;\n",
       "    }\n",
       "</style>\n",
       "<table border=\"1\" class=\"dataframe\">\n",
       "  <thead>\n",
       "    <tr style=\"text-align: right;\">\n",
       "      <th></th>\n",
       "      <th>user_id</th>\n",
       "    </tr>\n",
       "    <tr>\n",
       "      <th>city</th>\n",
       "      <th></th>\n",
       "    </tr>\n",
       "  </thead>\n",
       "  <tbody>\n",
       "    <tr>\n",
       "      <th>Пятигорск</th>\n",
       "      <td>219</td>\n",
       "    </tr>\n",
       "    <tr>\n",
       "      <th>Екатеринбург</th>\n",
       "      <td>204</td>\n",
       "    </tr>\n",
       "    <tr>\n",
       "      <th>Ростов-на-Дону</th>\n",
       "      <td>198</td>\n",
       "    </tr>\n",
       "    <tr>\n",
       "      <th>Краснодар</th>\n",
       "      <td>193</td>\n",
       "    </tr>\n",
       "    <tr>\n",
       "      <th>Сочи</th>\n",
       "      <td>189</td>\n",
       "    </tr>\n",
       "    <tr>\n",
       "      <th>Омск</th>\n",
       "      <td>183</td>\n",
       "    </tr>\n",
       "    <tr>\n",
       "      <th>Тюмень</th>\n",
       "      <td>180</td>\n",
       "    </tr>\n",
       "    <tr>\n",
       "      <th>Москва</th>\n",
       "      <td>168</td>\n",
       "    </tr>\n",
       "  </tbody>\n",
       "</table>\n",
       "</div>"
      ],
      "text/plain": [
       "                user_id\n",
       "city                   \n",
       "Пятигорск           219\n",
       "Екатеринбург        204\n",
       "Ростов-на-Дону      198\n",
       "Краснодар           193\n",
       "Сочи                189\n",
       "Омск                183\n",
       "Тюмень              180\n",
       "Москва              168"
      ]
     },
     "execution_count": 19,
     "metadata": {},
     "output_type": "execute_result"
    }
   ],
   "source": [
    "users.pivot_table(index='city', values='user_id', aggfunc='count').sort_values(by='user_id', ascending=False)"
   ]
  },
  {
   "cell_type": "code",
   "execution_count": 20,
   "id": "9a112314",
   "metadata": {},
   "outputs": [
    {
     "data": {
      "image/png": "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\n",
      "text/plain": [
       "<Figure size 432x288 with 1 Axes>"
      ]
     },
     "metadata": {
      "needs_background": "light"
     },
     "output_type": "display_data"
    }
   ],
   "source": [
    "(\n",
    "    users.pivot_table(index='city', values='user_id', aggfunc='count')\n",
    "    .sort_values(by='user_id')\n",
    "    .plot(kind='barh', grid=True)\n",
    ")\n",
    "\n",
    "plt.title('Частота встречаемости городов')\n",
    "plt.xlabel('Город')\n",
    "plt.ylabel('Количество пользователей')\n",
    "plt.show()"
   ]
  },
  {
   "cell_type": "markdown",
   "id": "1ec6475b",
   "metadata": {},
   "source": [
    "<div class=\"alert alert-block alert-success\">✔️\n",
    "    \n",
    "\n",
    "__Комментарий от ревьюера №1__\n",
    "\n",
    "Отличный и наглядный график 👍\n",
    "    \n",
    "Здорово, когда он подписан. Так быстрее понять о чем идёт речь на нём.\n",
    "    \n",
    "</div>"
   ]
  },
  {
   "cell_type": "markdown",
   "id": "7eb5c91e",
   "metadata": {},
   "source": []
  },
  {
   "cell_type": "markdown",
   "id": "4503ba72",
   "metadata": {},
   "source": [
    "Всего представлено данных по 8 городам. Больше всего пользователей из Пятигорска (219), меньше всего из Москвы (168)"
   ]
  },
  {
   "cell_type": "markdown",
   "id": "4efc5082",
   "metadata": {},
   "source": [
    "**Соотношение пользователей с подпиской и без подписки**"
   ]
  },
  {
   "cell_type": "code",
   "execution_count": 21,
   "id": "b6e639fe",
   "metadata": {},
   "outputs": [
    {
     "data": {
      "text/html": [
       "<div>\n",
       "<style scoped>\n",
       "    .dataframe tbody tr th:only-of-type {\n",
       "        vertical-align: middle;\n",
       "    }\n",
       "\n",
       "    .dataframe tbody tr th {\n",
       "        vertical-align: top;\n",
       "    }\n",
       "\n",
       "    .dataframe thead th {\n",
       "        text-align: right;\n",
       "    }\n",
       "</style>\n",
       "<table border=\"1\" class=\"dataframe\">\n",
       "  <thead>\n",
       "    <tr style=\"text-align: right;\">\n",
       "      <th></th>\n",
       "      <th>user_id</th>\n",
       "    </tr>\n",
       "    <tr>\n",
       "      <th>subscription_type</th>\n",
       "      <th></th>\n",
       "    </tr>\n",
       "  </thead>\n",
       "  <tbody>\n",
       "    <tr>\n",
       "      <th>free</th>\n",
       "      <td>835</td>\n",
       "    </tr>\n",
       "    <tr>\n",
       "      <th>ultra</th>\n",
       "      <td>699</td>\n",
       "    </tr>\n",
       "  </tbody>\n",
       "</table>\n",
       "</div>"
      ],
      "text/plain": [
       "                   user_id\n",
       "subscription_type         \n",
       "free                   835\n",
       "ultra                  699"
      ]
     },
     "execution_count": 21,
     "metadata": {},
     "output_type": "execute_result"
    }
   ],
   "source": [
    "users.pivot_table(index='subscription_type', values='user_id', aggfunc='count').sort_values(by='user_id', ascending=False)"
   ]
  },
  {
   "cell_type": "code",
   "execution_count": 22,
   "id": "88f5fb51",
   "metadata": {},
   "outputs": [
    {
     "data": {
      "text/plain": [
       "<AxesSubplot:title={'center':'Соотношение пользователей с подпиской и без подписки'}, ylabel='Процентное соотношение'>"
      ]
     },
     "execution_count": 22,
     "metadata": {},
     "output_type": "execute_result"
    },
    {
     "data": {
      "image/png": "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\n",
      "text/plain": [
       "<Figure size 432x288 with 1 Axes>"
      ]
     },
     "metadata": {},
     "output_type": "display_data"
    }
   ],
   "source": [
    "(users\n",
    "    .pivot_table(index='subscription_type', values='user_id', aggfunc='count')\n",
    "    .plot(y='user_id', kind='pie', autopct='%1.2f%%', title='Соотношение пользователей с подпиской и без подписки', ylabel='Процентное соотношение')\n",
    ")"
   ]
  },
  {
   "cell_type": "markdown",
   "id": "810eb063",
   "metadata": {},
   "source": [
    "Пользователей без подписки (835) больше, чем пользователей с ней (699). Пользователи без подписки составляют 54,43% от общего числа юзеров, а с подпиской 45,57%"
   ]
  },
  {
   "cell_type": "markdown",
   "id": "7afe9d53",
   "metadata": {},
   "source": [
    "<div class=\"alert alert-block alert-success\">✔️\n",
    "    \n",
    "\n",
    "__Комментарий от ревьюера №1__\n",
    "\n",
    "Пользователей с подпиской немного меньше, тем не менее у компании-прокатчика есть неплохая база постоянных клиентов."
   ]
  },
  {
   "cell_type": "markdown",
   "id": "2ece76df",
   "metadata": {},
   "source": []
  },
  {
   "cell_type": "markdown",
   "id": "c0310792",
   "metadata": {},
   "source": [
    "**Возраст пользователей**"
   ]
  },
  {
   "cell_type": "code",
   "execution_count": 23,
   "id": "3f975ae0",
   "metadata": {},
   "outputs": [
    {
     "data": {
      "text/plain": [
       "count    1534.000000\n",
       "mean       24.903520\n",
       "std         4.572367\n",
       "min        12.000000\n",
       "25%        22.000000\n",
       "50%        25.000000\n",
       "75%        28.000000\n",
       "max        43.000000\n",
       "Name: age, dtype: float64"
      ]
     },
     "execution_count": 23,
     "metadata": {},
     "output_type": "execute_result"
    }
   ],
   "source": [
    "users['age'].describe()"
   ]
  },
  {
   "cell_type": "code",
   "execution_count": 24,
   "id": "7ce0fd52",
   "metadata": {},
   "outputs": [
    {
     "data": {
      "image/png": "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\n",
      "text/plain": [
       "<Figure size 432x288 with 1 Axes>"
      ]
     },
     "metadata": {
      "needs_background": "light"
     },
     "output_type": "display_data"
    }
   ],
   "source": [
    "users['age'].plot(kind = 'hist', grid=True, bins = 30)\n",
    "\n",
    "plt.title('Возраст пользователей')\n",
    "plt.xlabel('Возраст')\n",
    "plt.ylabel('Количество пользователей')\n",
    "plt.show()"
   ]
  },
  {
   "cell_type": "code",
   "execution_count": 25,
   "id": "42c51978",
   "metadata": {},
   "outputs": [
    {
     "data": {
      "text/plain": [
       "Text(0, 0.5, 'Возраст')"
      ]
     },
     "execution_count": 25,
     "metadata": {},
     "output_type": "execute_result"
    },
    {
     "data": {
      "image/png": "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\n",
      "text/plain": [
       "<Figure size 432x288 with 1 Axes>"
      ]
     },
     "metadata": {
      "needs_background": "light"
     },
     "output_type": "display_data"
    }
   ],
   "source": [
    "sns.boxplot(y='age', data=users) \n",
    "\n",
    "plt.title('Возраст пользователей')\n",
    "plt.ylabel('Возраст')"
   ]
  },
  {
   "cell_type": "markdown",
   "id": "8ec82d1e",
   "metadata": {},
   "source": [
    "График возраста пользователей сервиса имеет нормальное распределение. Минимальный возраст 12 лет, максимальный 43 года, средний возраст 25 лет."
   ]
  },
  {
   "cell_type": "markdown",
   "id": "48e2c81c",
   "metadata": {},
   "source": [
    "<div class=\"alert alert-block alert-success\">✔️\n",
    "    \n",
    "\n",
    "__Комментарий от ревьюера №1__\n",
    "\n",
    "Основная часть пользователей возрастом от 22 до 28 лет. Все что меньше 15 лет и больше 40 можно считать редкими значениями."
   ]
  },
  {
   "cell_type": "markdown",
   "id": "583ca935",
   "metadata": {},
   "source": [
    "**Расстояние, которое пользователь преодолел за одну поездку**"
   ]
  },
  {
   "cell_type": "code",
   "execution_count": 26,
   "id": "7ec1c42d",
   "metadata": {},
   "outputs": [
    {
     "data": {
      "text/plain": [
       "count    18068.000000\n",
       "mean      3070.659976\n",
       "std       1116.831209\n",
       "min          0.855683\n",
       "25%       2543.226360\n",
       "50%       3133.609994\n",
       "75%       3776.222735\n",
       "max       7211.007745\n",
       "Name: distance, dtype: float64"
      ]
     },
     "execution_count": 26,
     "metadata": {},
     "output_type": "execute_result"
    }
   ],
   "source": [
    "rides['distance'].describe()"
   ]
  },
  {
   "cell_type": "code",
   "execution_count": 27,
   "id": "92a8f085",
   "metadata": {},
   "outputs": [
    {
     "data": {
      "image/png": "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\n",
      "text/plain": [
       "<Figure size 720x360 with 1 Axes>"
      ]
     },
     "metadata": {
      "needs_background": "light"
     },
     "output_type": "display_data"
    }
   ],
   "source": [
    "rides['distance'].plot(kind = 'hist', grid=True, bins = 30, figsize = (10,5))\n",
    "\n",
    "plt.title('Расстояние поездок')\n",
    "plt.xlabel('Расстояние в метрах')\n",
    "plt.ylabel('Количество поездок')\n",
    "plt.show()"
   ]
  },
  {
   "cell_type": "code",
   "execution_count": 28,
   "id": "da714109",
   "metadata": {},
   "outputs": [
    {
     "data": {
      "text/plain": [
       "Text(0, 0.5, 'Расстояние в метрах')"
      ]
     },
     "execution_count": 28,
     "metadata": {},
     "output_type": "execute_result"
    },
    {
     "data": {
      "image/png": "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\n",
      "text/plain": [
       "<Figure size 432x288 with 1 Axes>"
      ]
     },
     "metadata": {
      "needs_background": "light"
     },
     "output_type": "display_data"
    }
   ],
   "source": [
    "sns.boxplot(y='distance', data=rides)\n",
    "\n",
    "plt.title('Расстояние поездок')\n",
    "plt.ylabel('Расстояние в метрах')"
   ]
  },
  {
   "cell_type": "markdown",
   "id": "0732c44e",
   "metadata": {},
   "source": [
    "График расстояния поездок имеет 2 пика (на 3000 метров и 600 метров), распределение нормальное. Максимальное расстояние 7211 метров, среднее 3133 метра, минимальное меньше метра"
   ]
  },
  {
   "cell_type": "markdown",
   "id": "bdb38387",
   "metadata": {},
   "source": [
    "<div class=\"alert alert-block alert-success\">✔️\n",
    "    \n",
    "\n",
    "__Комментарий от ревьюера №1__\n",
    "\n",
    "Основная часть поездок занимает от 2500 до 3800 метров. Медиана 3133 метра. Поездки на расстояние более 5 км редки. Однако на гистограмме видно, что некоторая часть пользователей использует самокаты для коротких поездок - до 1500 м."
   ]
  },
  {
   "cell_type": "markdown",
   "id": "1ed8e92d",
   "metadata": {},
   "source": []
  },
  {
   "cell_type": "markdown",
   "id": "9833980e",
   "metadata": {},
   "source": [
    "**Продолжительность поездок**"
   ]
  },
  {
   "cell_type": "code",
   "execution_count": 29,
   "id": "36f33506",
   "metadata": {},
   "outputs": [
    {
     "data": {
      "text/plain": [
       "count    18068.000000\n",
       "mean        17.805011\n",
       "std          6.091051\n",
       "min          0.500000\n",
       "25%         13.597563\n",
       "50%         17.678395\n",
       "75%         21.724800\n",
       "max         40.823963\n",
       "Name: duration, dtype: float64"
      ]
     },
     "execution_count": 29,
     "metadata": {},
     "output_type": "execute_result"
    }
   ],
   "source": [
    "rides['duration'].describe()"
   ]
  },
  {
   "cell_type": "code",
   "execution_count": 30,
   "id": "c2d01964",
   "metadata": {},
   "outputs": [
    {
     "data": {
      "image/png": "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\n",
      "text/plain": [
       "<Figure size 720x360 with 1 Axes>"
      ]
     },
     "metadata": {
      "needs_background": "light"
     },
     "output_type": "display_data"
    }
   ],
   "source": [
    "rides['duration'].plot(kind = 'hist', grid=True, bins = 30, figsize = (10,5))\n",
    "\n",
    "plt.title('Продолжительность поездок')\n",
    "plt.xlabel('Продолжительность в минутах')\n",
    "plt.ylabel('Количество поездок')\n",
    "plt.show()"
   ]
  },
  {
   "cell_type": "code",
   "execution_count": 31,
   "id": "e148e2d7",
   "metadata": {},
   "outputs": [
    {
     "data": {
      "text/plain": [
       "Text(0, 0.5, 'Продолжительность в минутах')"
      ]
     },
     "execution_count": 31,
     "metadata": {},
     "output_type": "execute_result"
    },
    {
     "data": {
      "image/png": "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\n",
      "text/plain": [
       "<Figure size 432x288 with 1 Axes>"
      ]
     },
     "metadata": {
      "needs_background": "light"
     },
     "output_type": "display_data"
    }
   ],
   "source": [
    "sns.boxplot(y='duration', data=rides) \n",
    "\n",
    "plt.title('Продолжительность поездок')\n",
    "plt.ylabel('Продолжительность в минутах')"
   ]
  },
  {
   "cell_type": "markdown",
   "id": "e1177f50",
   "metadata": {},
   "source": [
    "График продолжительности поездок имеет нормальное распределение. Максимальная продолжительность 40 минут, минимальная меньше минуты, средняя 17 минут"
   ]
  },
  {
   "cell_type": "markdown",
   "id": "30742fc5",
   "metadata": {},
   "source": [
    "Вывод:\n",
    "\n",
    "Всего представлено данных по 8 городам: Пятигорск (219 пользователей), Екатеринбург (204), Ростов-на-Дону (198), Краснодар (193), Сочи (189), Омск (183), Тюмень (180), Москва (168). Больше всего пользователей из Пятигорска, меньше всего из Москвы.\n",
    "Пользователей без подписки (835 пользователей) больше, чем пользователей с ней (699). Пользователи без подписки составляют 54,43% от общего числа юзеров, а с подпиской 45,57%\n",
    "Минимальный возраст пользователей 12 лет, максимальный 43 года, средний возраст 25 лет.\n",
    "График расстояния поездок имеет 2 пика (на 3000 метров и 600 метров), распределение нормальное. Максимальное расстояние 7211 метров, среднее 3133 метра, минимальное меньше метра. График продолжительности поездок имеет нормальное распределение. Максимальная продолжительность поездок составляет 40 минут, минимальная меньше минуты, средняя 17 минут. "
   ]
  },
  {
   "cell_type": "markdown",
   "id": "c65f8322",
   "metadata": {},
   "source": [
    "<div class=\"alert alert-block alert-warning\">📝\n",
    "    \n",
    "\n",
    "__Комментарий от ревьюера №1__\n",
    "\n",
    "Хорошо бы графики подкрепить боксплотом"
   ]
  },
  {
   "cell_type": "markdown",
   "id": "810ca968",
   "metadata": {},
   "source": []
  },
  {
   "cell_type": "markdown",
   "id": "4ef51331",
   "metadata": {},
   "source": [
    "#### Шаг 4. Объединение данных"
   ]
  },
  {
   "cell_type": "markdown",
   "id": "362470fd",
   "metadata": {},
   "source": [
    "<div class=\"alert alert-block alert-danger\">✍\n",
    "    \n",
    "\n",
    "__Комментарий от ревьюера №1__\n",
    "\n",
    " Отсутствует проверка размерности:\n",
    "    \n",
    "* размеры датасетов до объединения\n",
    "* размер результирующего датафрейма (с учетом типа объединения)"
   ]
  },
  {
   "cell_type": "code",
   "execution_count": 32,
   "id": "99155f2a",
   "metadata": {},
   "outputs": [
    {
     "data": {
      "text/plain": [
       "18068"
      ]
     },
     "execution_count": 32,
     "metadata": {},
     "output_type": "execute_result"
    }
   ],
   "source": [
    "len(rides)"
   ]
  },
  {
   "cell_type": "code",
   "execution_count": 33,
   "id": "2b3ffd6b",
   "metadata": {},
   "outputs": [
    {
     "data": {
      "text/plain": [
       "1534"
      ]
     },
     "execution_count": 33,
     "metadata": {},
     "output_type": "execute_result"
    }
   ],
   "source": [
    "len(users)"
   ]
  },
  {
   "cell_type": "markdown",
   "id": "880fbb79",
   "metadata": {},
   "source": [
    "У нас есть информация по 18068 поездкам и 1534 пользователям. Добавим к каждой поездке информацию по юзеру и типу подписки."
   ]
  },
  {
   "cell_type": "markdown",
   "id": "3fc51219",
   "metadata": {},
   "source": [
    "Объединим данные в один датафрейм"
   ]
  },
  {
   "cell_type": "code",
   "execution_count": 34,
   "id": "6bf288b5",
   "metadata": {},
   "outputs": [
    {
     "data": {
      "text/html": [
       "<div>\n",
       "<style scoped>\n",
       "    .dataframe tbody tr th:only-of-type {\n",
       "        vertical-align: middle;\n",
       "    }\n",
       "\n",
       "    .dataframe tbody tr th {\n",
       "        vertical-align: top;\n",
       "    }\n",
       "\n",
       "    .dataframe thead th {\n",
       "        text-align: right;\n",
       "    }\n",
       "</style>\n",
       "<table border=\"1\" class=\"dataframe\">\n",
       "  <thead>\n",
       "    <tr style=\"text-align: right;\">\n",
       "      <th></th>\n",
       "      <th>user_id</th>\n",
       "      <th>name</th>\n",
       "      <th>age</th>\n",
       "      <th>city</th>\n",
       "      <th>subscription_type</th>\n",
       "      <th>distance</th>\n",
       "      <th>duration</th>\n",
       "      <th>date</th>\n",
       "      <th>month</th>\n",
       "      <th>minute_price</th>\n",
       "      <th>start_ride_price</th>\n",
       "      <th>subscription_fee</th>\n",
       "    </tr>\n",
       "  </thead>\n",
       "  <tbody>\n",
       "    <tr>\n",
       "      <th>0</th>\n",
       "      <td>1</td>\n",
       "      <td>Кира</td>\n",
       "      <td>22</td>\n",
       "      <td>Тюмень</td>\n",
       "      <td>ultra</td>\n",
       "      <td>4409.919140</td>\n",
       "      <td>25.599769</td>\n",
       "      <td>2021-01-01</td>\n",
       "      <td>1</td>\n",
       "      <td>6</td>\n",
       "      <td>0</td>\n",
       "      <td>199</td>\n",
       "    </tr>\n",
       "    <tr>\n",
       "      <th>1</th>\n",
       "      <td>1</td>\n",
       "      <td>Кира</td>\n",
       "      <td>22</td>\n",
       "      <td>Тюмень</td>\n",
       "      <td>ultra</td>\n",
       "      <td>2617.592153</td>\n",
       "      <td>15.816871</td>\n",
       "      <td>2021-01-18</td>\n",
       "      <td>1</td>\n",
       "      <td>6</td>\n",
       "      <td>0</td>\n",
       "      <td>199</td>\n",
       "    </tr>\n",
       "    <tr>\n",
       "      <th>2</th>\n",
       "      <td>1</td>\n",
       "      <td>Кира</td>\n",
       "      <td>22</td>\n",
       "      <td>Тюмень</td>\n",
       "      <td>ultra</td>\n",
       "      <td>754.159807</td>\n",
       "      <td>6.232113</td>\n",
       "      <td>2021-04-20</td>\n",
       "      <td>4</td>\n",
       "      <td>6</td>\n",
       "      <td>0</td>\n",
       "      <td>199</td>\n",
       "    </tr>\n",
       "    <tr>\n",
       "      <th>3</th>\n",
       "      <td>1</td>\n",
       "      <td>Кира</td>\n",
       "      <td>22</td>\n",
       "      <td>Тюмень</td>\n",
       "      <td>ultra</td>\n",
       "      <td>2694.783254</td>\n",
       "      <td>18.511000</td>\n",
       "      <td>2021-08-11</td>\n",
       "      <td>8</td>\n",
       "      <td>6</td>\n",
       "      <td>0</td>\n",
       "      <td>199</td>\n",
       "    </tr>\n",
       "    <tr>\n",
       "      <th>4</th>\n",
       "      <td>1</td>\n",
       "      <td>Кира</td>\n",
       "      <td>22</td>\n",
       "      <td>Тюмень</td>\n",
       "      <td>ultra</td>\n",
       "      <td>4028.687306</td>\n",
       "      <td>26.265803</td>\n",
       "      <td>2021-08-28</td>\n",
       "      <td>8</td>\n",
       "      <td>6</td>\n",
       "      <td>0</td>\n",
       "      <td>199</td>\n",
       "    </tr>\n",
       "    <tr>\n",
       "      <th>...</th>\n",
       "      <td>...</td>\n",
       "      <td>...</td>\n",
       "      <td>...</td>\n",
       "      <td>...</td>\n",
       "      <td>...</td>\n",
       "      <td>...</td>\n",
       "      <td>...</td>\n",
       "      <td>...</td>\n",
       "      <td>...</td>\n",
       "      <td>...</td>\n",
       "      <td>...</td>\n",
       "      <td>...</td>\n",
       "    </tr>\n",
       "    <tr>\n",
       "      <th>18063</th>\n",
       "      <td>1534</td>\n",
       "      <td>Альберт</td>\n",
       "      <td>25</td>\n",
       "      <td>Краснодар</td>\n",
       "      <td>free</td>\n",
       "      <td>3781.098080</td>\n",
       "      <td>19.822962</td>\n",
       "      <td>2021-11-04</td>\n",
       "      <td>11</td>\n",
       "      <td>8</td>\n",
       "      <td>50</td>\n",
       "      <td>0</td>\n",
       "    </tr>\n",
       "    <tr>\n",
       "      <th>18064</th>\n",
       "      <td>1534</td>\n",
       "      <td>Альберт</td>\n",
       "      <td>25</td>\n",
       "      <td>Краснодар</td>\n",
       "      <td>free</td>\n",
       "      <td>2840.423057</td>\n",
       "      <td>21.409799</td>\n",
       "      <td>2021-11-16</td>\n",
       "      <td>11</td>\n",
       "      <td>8</td>\n",
       "      <td>50</td>\n",
       "      <td>0</td>\n",
       "    </tr>\n",
       "    <tr>\n",
       "      <th>18065</th>\n",
       "      <td>1534</td>\n",
       "      <td>Альберт</td>\n",
       "      <td>25</td>\n",
       "      <td>Краснодар</td>\n",
       "      <td>free</td>\n",
       "      <td>3826.185507</td>\n",
       "      <td>18.435051</td>\n",
       "      <td>2021-11-18</td>\n",
       "      <td>11</td>\n",
       "      <td>8</td>\n",
       "      <td>50</td>\n",
       "      <td>0</td>\n",
       "    </tr>\n",
       "    <tr>\n",
       "      <th>18066</th>\n",
       "      <td>1534</td>\n",
       "      <td>Альберт</td>\n",
       "      <td>25</td>\n",
       "      <td>Краснодар</td>\n",
       "      <td>free</td>\n",
       "      <td>2902.308661</td>\n",
       "      <td>16.674362</td>\n",
       "      <td>2021-11-27</td>\n",
       "      <td>11</td>\n",
       "      <td>8</td>\n",
       "      <td>50</td>\n",
       "      <td>0</td>\n",
       "    </tr>\n",
       "    <tr>\n",
       "      <th>18067</th>\n",
       "      <td>1534</td>\n",
       "      <td>Альберт</td>\n",
       "      <td>25</td>\n",
       "      <td>Краснодар</td>\n",
       "      <td>free</td>\n",
       "      <td>2371.711192</td>\n",
       "      <td>15.893917</td>\n",
       "      <td>2021-12-29</td>\n",
       "      <td>12</td>\n",
       "      <td>8</td>\n",
       "      <td>50</td>\n",
       "      <td>0</td>\n",
       "    </tr>\n",
       "  </tbody>\n",
       "</table>\n",
       "<p>18068 rows × 12 columns</p>\n",
       "</div>"
      ],
      "text/plain": [
       "       user_id     name  age       city subscription_type     distance  \\\n",
       "0            1     Кира   22     Тюмень             ultra  4409.919140   \n",
       "1            1     Кира   22     Тюмень             ultra  2617.592153   \n",
       "2            1     Кира   22     Тюмень             ultra   754.159807   \n",
       "3            1     Кира   22     Тюмень             ultra  2694.783254   \n",
       "4            1     Кира   22     Тюмень             ultra  4028.687306   \n",
       "...        ...      ...  ...        ...               ...          ...   \n",
       "18063     1534  Альберт   25  Краснодар              free  3781.098080   \n",
       "18064     1534  Альберт   25  Краснодар              free  2840.423057   \n",
       "18065     1534  Альберт   25  Краснодар              free  3826.185507   \n",
       "18066     1534  Альберт   25  Краснодар              free  2902.308661   \n",
       "18067     1534  Альберт   25  Краснодар              free  2371.711192   \n",
       "\n",
       "        duration       date  month  minute_price  start_ride_price  \\\n",
       "0      25.599769 2021-01-01      1             6                 0   \n",
       "1      15.816871 2021-01-18      1             6                 0   \n",
       "2       6.232113 2021-04-20      4             6                 0   \n",
       "3      18.511000 2021-08-11      8             6                 0   \n",
       "4      26.265803 2021-08-28      8             6                 0   \n",
       "...          ...        ...    ...           ...               ...   \n",
       "18063  19.822962 2021-11-04     11             8                50   \n",
       "18064  21.409799 2021-11-16     11             8                50   \n",
       "18065  18.435051 2021-11-18     11             8                50   \n",
       "18066  16.674362 2021-11-27     11             8                50   \n",
       "18067  15.893917 2021-12-29     12             8                50   \n",
       "\n",
       "       subscription_fee  \n",
       "0                   199  \n",
       "1                   199  \n",
       "2                   199  \n",
       "3                   199  \n",
       "4                   199  \n",
       "...                 ...  \n",
       "18063                 0  \n",
       "18064                 0  \n",
       "18065                 0  \n",
       "18066                 0  \n",
       "18067                 0  \n",
       "\n",
       "[18068 rows x 12 columns]"
      ]
     },
     "execution_count": 34,
     "metadata": {},
     "output_type": "execute_result"
    }
   ],
   "source": [
    "data = pd.merge(users, rides, left_on = 'user_id', right_on = 'user_id', how ='right')\n",
    "data = pd.merge(data, subscriptions, left_on = 'subscription_type', right_on = 'subscription_type', how ='left')\n",
    "data"
   ]
  },
  {
   "cell_type": "code",
   "execution_count": 35,
   "id": "50898026",
   "metadata": {},
   "outputs": [
    {
     "data": {
      "text/plain": [
       "18068"
      ]
     },
     "execution_count": 35,
     "metadata": {},
     "output_type": "execute_result"
    }
   ],
   "source": [
    "len(data)"
   ]
  },
  {
   "cell_type": "code",
   "execution_count": 36,
   "id": "2a3d267d",
   "metadata": {},
   "outputs": [
    {
     "data": {
      "text/plain": [
       "1534"
      ]
     },
     "execution_count": 36,
     "metadata": {},
     "output_type": "execute_result"
    }
   ],
   "source": [
    "len(data['user_id'].unique())"
   ]
  },
  {
   "cell_type": "markdown",
   "id": "e0f10e2a",
   "metadata": {},
   "source": [
    "В объединенной таблице кол-во поездок осталось таким же (18068), как и количество уникальных пользователей (1534). Объединение прошло корректно"
   ]
  },
  {
   "cell_type": "markdown",
   "id": "c7159623",
   "metadata": {},
   "source": [
    "<div class=\"alert alert-block alert-success\">✔️\n",
    "    \n",
    "\n",
    "__Комментарий от ревьюера №2__\n",
    "\n",
    "Отлично. Датасеты выведены корректно"
   ]
  },
  {
   "cell_type": "markdown",
   "id": "b61badb2",
   "metadata": {},
   "source": [
    "Создадим еще 2 датафрейма c данными о пользователях без подписки и с подпиской"
   ]
  },
  {
   "cell_type": "code",
   "execution_count": 37,
   "id": "78ca952f",
   "metadata": {},
   "outputs": [
    {
     "data": {
      "text/html": [
       "<div>\n",
       "<style scoped>\n",
       "    .dataframe tbody tr th:only-of-type {\n",
       "        vertical-align: middle;\n",
       "    }\n",
       "\n",
       "    .dataframe tbody tr th {\n",
       "        vertical-align: top;\n",
       "    }\n",
       "\n",
       "    .dataframe thead th {\n",
       "        text-align: right;\n",
       "    }\n",
       "</style>\n",
       "<table border=\"1\" class=\"dataframe\">\n",
       "  <thead>\n",
       "    <tr style=\"text-align: right;\">\n",
       "      <th></th>\n",
       "      <th>user_id</th>\n",
       "      <th>name</th>\n",
       "      <th>age</th>\n",
       "      <th>city</th>\n",
       "      <th>subscription_type</th>\n",
       "      <th>distance</th>\n",
       "      <th>duration</th>\n",
       "      <th>date</th>\n",
       "      <th>month</th>\n",
       "      <th>minute_price</th>\n",
       "      <th>start_ride_price</th>\n",
       "      <th>subscription_fee</th>\n",
       "    </tr>\n",
       "  </thead>\n",
       "  <tbody>\n",
       "    <tr>\n",
       "      <th>6500</th>\n",
       "      <td>700</td>\n",
       "      <td>Айдар</td>\n",
       "      <td>22</td>\n",
       "      <td>Омск</td>\n",
       "      <td>free</td>\n",
       "      <td>2515.690719</td>\n",
       "      <td>14.944286</td>\n",
       "      <td>2021-01-02</td>\n",
       "      <td>1</td>\n",
       "      <td>8</td>\n",
       "      <td>50</td>\n",
       "      <td>0</td>\n",
       "    </tr>\n",
       "    <tr>\n",
       "      <th>6501</th>\n",
       "      <td>700</td>\n",
       "      <td>Айдар</td>\n",
       "      <td>22</td>\n",
       "      <td>Омск</td>\n",
       "      <td>free</td>\n",
       "      <td>846.932642</td>\n",
       "      <td>16.234663</td>\n",
       "      <td>2021-02-01</td>\n",
       "      <td>2</td>\n",
       "      <td>8</td>\n",
       "      <td>50</td>\n",
       "      <td>0</td>\n",
       "    </tr>\n",
       "    <tr>\n",
       "      <th>6502</th>\n",
       "      <td>700</td>\n",
       "      <td>Айдар</td>\n",
       "      <td>22</td>\n",
       "      <td>Омск</td>\n",
       "      <td>free</td>\n",
       "      <td>4004.434142</td>\n",
       "      <td>20.016628</td>\n",
       "      <td>2021-02-04</td>\n",
       "      <td>2</td>\n",
       "      <td>8</td>\n",
       "      <td>50</td>\n",
       "      <td>0</td>\n",
       "    </tr>\n",
       "    <tr>\n",
       "      <th>6503</th>\n",
       "      <td>700</td>\n",
       "      <td>Айдар</td>\n",
       "      <td>22</td>\n",
       "      <td>Омск</td>\n",
       "      <td>free</td>\n",
       "      <td>1205.911290</td>\n",
       "      <td>9.782872</td>\n",
       "      <td>2021-02-10</td>\n",
       "      <td>2</td>\n",
       "      <td>8</td>\n",
       "      <td>50</td>\n",
       "      <td>0</td>\n",
       "    </tr>\n",
       "    <tr>\n",
       "      <th>6504</th>\n",
       "      <td>700</td>\n",
       "      <td>Айдар</td>\n",
       "      <td>22</td>\n",
       "      <td>Омск</td>\n",
       "      <td>free</td>\n",
       "      <td>3047.379435</td>\n",
       "      <td>17.427673</td>\n",
       "      <td>2021-02-14</td>\n",
       "      <td>2</td>\n",
       "      <td>8</td>\n",
       "      <td>50</td>\n",
       "      <td>0</td>\n",
       "    </tr>\n",
       "    <tr>\n",
       "      <th>...</th>\n",
       "      <td>...</td>\n",
       "      <td>...</td>\n",
       "      <td>...</td>\n",
       "      <td>...</td>\n",
       "      <td>...</td>\n",
       "      <td>...</td>\n",
       "      <td>...</td>\n",
       "      <td>...</td>\n",
       "      <td>...</td>\n",
       "      <td>...</td>\n",
       "      <td>...</td>\n",
       "      <td>...</td>\n",
       "    </tr>\n",
       "    <tr>\n",
       "      <th>18063</th>\n",
       "      <td>1534</td>\n",
       "      <td>Альберт</td>\n",
       "      <td>25</td>\n",
       "      <td>Краснодар</td>\n",
       "      <td>free</td>\n",
       "      <td>3781.098080</td>\n",
       "      <td>19.822962</td>\n",
       "      <td>2021-11-04</td>\n",
       "      <td>11</td>\n",
       "      <td>8</td>\n",
       "      <td>50</td>\n",
       "      <td>0</td>\n",
       "    </tr>\n",
       "    <tr>\n",
       "      <th>18064</th>\n",
       "      <td>1534</td>\n",
       "      <td>Альберт</td>\n",
       "      <td>25</td>\n",
       "      <td>Краснодар</td>\n",
       "      <td>free</td>\n",
       "      <td>2840.423057</td>\n",
       "      <td>21.409799</td>\n",
       "      <td>2021-11-16</td>\n",
       "      <td>11</td>\n",
       "      <td>8</td>\n",
       "      <td>50</td>\n",
       "      <td>0</td>\n",
       "    </tr>\n",
       "    <tr>\n",
       "      <th>18065</th>\n",
       "      <td>1534</td>\n",
       "      <td>Альберт</td>\n",
       "      <td>25</td>\n",
       "      <td>Краснодар</td>\n",
       "      <td>free</td>\n",
       "      <td>3826.185507</td>\n",
       "      <td>18.435051</td>\n",
       "      <td>2021-11-18</td>\n",
       "      <td>11</td>\n",
       "      <td>8</td>\n",
       "      <td>50</td>\n",
       "      <td>0</td>\n",
       "    </tr>\n",
       "    <tr>\n",
       "      <th>18066</th>\n",
       "      <td>1534</td>\n",
       "      <td>Альберт</td>\n",
       "      <td>25</td>\n",
       "      <td>Краснодар</td>\n",
       "      <td>free</td>\n",
       "      <td>2902.308661</td>\n",
       "      <td>16.674362</td>\n",
       "      <td>2021-11-27</td>\n",
       "      <td>11</td>\n",
       "      <td>8</td>\n",
       "      <td>50</td>\n",
       "      <td>0</td>\n",
       "    </tr>\n",
       "    <tr>\n",
       "      <th>18067</th>\n",
       "      <td>1534</td>\n",
       "      <td>Альберт</td>\n",
       "      <td>25</td>\n",
       "      <td>Краснодар</td>\n",
       "      <td>free</td>\n",
       "      <td>2371.711192</td>\n",
       "      <td>15.893917</td>\n",
       "      <td>2021-12-29</td>\n",
       "      <td>12</td>\n",
       "      <td>8</td>\n",
       "      <td>50</td>\n",
       "      <td>0</td>\n",
       "    </tr>\n",
       "  </tbody>\n",
       "</table>\n",
       "<p>11568 rows × 12 columns</p>\n",
       "</div>"
      ],
      "text/plain": [
       "       user_id     name  age       city subscription_type     distance  \\\n",
       "6500       700    Айдар   22       Омск              free  2515.690719   \n",
       "6501       700    Айдар   22       Омск              free   846.932642   \n",
       "6502       700    Айдар   22       Омск              free  4004.434142   \n",
       "6503       700    Айдар   22       Омск              free  1205.911290   \n",
       "6504       700    Айдар   22       Омск              free  3047.379435   \n",
       "...        ...      ...  ...        ...               ...          ...   \n",
       "18063     1534  Альберт   25  Краснодар              free  3781.098080   \n",
       "18064     1534  Альберт   25  Краснодар              free  2840.423057   \n",
       "18065     1534  Альберт   25  Краснодар              free  3826.185507   \n",
       "18066     1534  Альберт   25  Краснодар              free  2902.308661   \n",
       "18067     1534  Альберт   25  Краснодар              free  2371.711192   \n",
       "\n",
       "        duration       date  month  minute_price  start_ride_price  \\\n",
       "6500   14.944286 2021-01-02      1             8                50   \n",
       "6501   16.234663 2021-02-01      2             8                50   \n",
       "6502   20.016628 2021-02-04      2             8                50   \n",
       "6503    9.782872 2021-02-10      2             8                50   \n",
       "6504   17.427673 2021-02-14      2             8                50   \n",
       "...          ...        ...    ...           ...               ...   \n",
       "18063  19.822962 2021-11-04     11             8                50   \n",
       "18064  21.409799 2021-11-16     11             8                50   \n",
       "18065  18.435051 2021-11-18     11             8                50   \n",
       "18066  16.674362 2021-11-27     11             8                50   \n",
       "18067  15.893917 2021-12-29     12             8                50   \n",
       "\n",
       "       subscription_fee  \n",
       "6500                  0  \n",
       "6501                  0  \n",
       "6502                  0  \n",
       "6503                  0  \n",
       "6504                  0  \n",
       "...                 ...  \n",
       "18063                 0  \n",
       "18064                 0  \n",
       "18065                 0  \n",
       "18066                 0  \n",
       "18067                 0  \n",
       "\n",
       "[11568 rows x 12 columns]"
      ]
     },
     "execution_count": 37,
     "metadata": {},
     "output_type": "execute_result"
    }
   ],
   "source": [
    "data_free = data.query('subscription_type == \"free\"')\n",
    "data_free"
   ]
  },
  {
   "cell_type": "code",
   "execution_count": 38,
   "id": "44aaac22",
   "metadata": {},
   "outputs": [
    {
     "data": {
      "text/html": [
       "<div>\n",
       "<style scoped>\n",
       "    .dataframe tbody tr th:only-of-type {\n",
       "        vertical-align: middle;\n",
       "    }\n",
       "\n",
       "    .dataframe tbody tr th {\n",
       "        vertical-align: top;\n",
       "    }\n",
       "\n",
       "    .dataframe thead th {\n",
       "        text-align: right;\n",
       "    }\n",
       "</style>\n",
       "<table border=\"1\" class=\"dataframe\">\n",
       "  <thead>\n",
       "    <tr style=\"text-align: right;\">\n",
       "      <th></th>\n",
       "      <th>user_id</th>\n",
       "      <th>name</th>\n",
       "      <th>age</th>\n",
       "      <th>city</th>\n",
       "      <th>subscription_type</th>\n",
       "      <th>distance</th>\n",
       "      <th>duration</th>\n",
       "      <th>date</th>\n",
       "      <th>month</th>\n",
       "      <th>minute_price</th>\n",
       "      <th>start_ride_price</th>\n",
       "      <th>subscription_fee</th>\n",
       "    </tr>\n",
       "  </thead>\n",
       "  <tbody>\n",
       "    <tr>\n",
       "      <th>0</th>\n",
       "      <td>1</td>\n",
       "      <td>Кира</td>\n",
       "      <td>22</td>\n",
       "      <td>Тюмень</td>\n",
       "      <td>ultra</td>\n",
       "      <td>4409.919140</td>\n",
       "      <td>25.599769</td>\n",
       "      <td>2021-01-01</td>\n",
       "      <td>1</td>\n",
       "      <td>6</td>\n",
       "      <td>0</td>\n",
       "      <td>199</td>\n",
       "    </tr>\n",
       "    <tr>\n",
       "      <th>1</th>\n",
       "      <td>1</td>\n",
       "      <td>Кира</td>\n",
       "      <td>22</td>\n",
       "      <td>Тюмень</td>\n",
       "      <td>ultra</td>\n",
       "      <td>2617.592153</td>\n",
       "      <td>15.816871</td>\n",
       "      <td>2021-01-18</td>\n",
       "      <td>1</td>\n",
       "      <td>6</td>\n",
       "      <td>0</td>\n",
       "      <td>199</td>\n",
       "    </tr>\n",
       "    <tr>\n",
       "      <th>2</th>\n",
       "      <td>1</td>\n",
       "      <td>Кира</td>\n",
       "      <td>22</td>\n",
       "      <td>Тюмень</td>\n",
       "      <td>ultra</td>\n",
       "      <td>754.159807</td>\n",
       "      <td>6.232113</td>\n",
       "      <td>2021-04-20</td>\n",
       "      <td>4</td>\n",
       "      <td>6</td>\n",
       "      <td>0</td>\n",
       "      <td>199</td>\n",
       "    </tr>\n",
       "    <tr>\n",
       "      <th>3</th>\n",
       "      <td>1</td>\n",
       "      <td>Кира</td>\n",
       "      <td>22</td>\n",
       "      <td>Тюмень</td>\n",
       "      <td>ultra</td>\n",
       "      <td>2694.783254</td>\n",
       "      <td>18.511000</td>\n",
       "      <td>2021-08-11</td>\n",
       "      <td>8</td>\n",
       "      <td>6</td>\n",
       "      <td>0</td>\n",
       "      <td>199</td>\n",
       "    </tr>\n",
       "    <tr>\n",
       "      <th>4</th>\n",
       "      <td>1</td>\n",
       "      <td>Кира</td>\n",
       "      <td>22</td>\n",
       "      <td>Тюмень</td>\n",
       "      <td>ultra</td>\n",
       "      <td>4028.687306</td>\n",
       "      <td>26.265803</td>\n",
       "      <td>2021-08-28</td>\n",
       "      <td>8</td>\n",
       "      <td>6</td>\n",
       "      <td>0</td>\n",
       "      <td>199</td>\n",
       "    </tr>\n",
       "    <tr>\n",
       "      <th>...</th>\n",
       "      <td>...</td>\n",
       "      <td>...</td>\n",
       "      <td>...</td>\n",
       "      <td>...</td>\n",
       "      <td>...</td>\n",
       "      <td>...</td>\n",
       "      <td>...</td>\n",
       "      <td>...</td>\n",
       "      <td>...</td>\n",
       "      <td>...</td>\n",
       "      <td>...</td>\n",
       "      <td>...</td>\n",
       "    </tr>\n",
       "    <tr>\n",
       "      <th>6495</th>\n",
       "      <td>699</td>\n",
       "      <td>Оксана</td>\n",
       "      <td>22</td>\n",
       "      <td>Москва</td>\n",
       "      <td>ultra</td>\n",
       "      <td>3973.046497</td>\n",
       "      <td>24.671163</td>\n",
       "      <td>2021-08-29</td>\n",
       "      <td>8</td>\n",
       "      <td>6</td>\n",
       "      <td>0</td>\n",
       "      <td>199</td>\n",
       "    </tr>\n",
       "    <tr>\n",
       "      <th>6496</th>\n",
       "      <td>699</td>\n",
       "      <td>Оксана</td>\n",
       "      <td>22</td>\n",
       "      <td>Москва</td>\n",
       "      <td>ultra</td>\n",
       "      <td>3288.702563</td>\n",
       "      <td>15.892886</td>\n",
       "      <td>2021-09-12</td>\n",
       "      <td>9</td>\n",
       "      <td>6</td>\n",
       "      <td>0</td>\n",
       "      <td>199</td>\n",
       "    </tr>\n",
       "    <tr>\n",
       "      <th>6497</th>\n",
       "      <td>699</td>\n",
       "      <td>Оксана</td>\n",
       "      <td>22</td>\n",
       "      <td>Москва</td>\n",
       "      <td>ultra</td>\n",
       "      <td>3076.159348</td>\n",
       "      <td>14.389525</td>\n",
       "      <td>2021-09-26</td>\n",
       "      <td>9</td>\n",
       "      <td>6</td>\n",
       "      <td>0</td>\n",
       "      <td>199</td>\n",
       "    </tr>\n",
       "    <tr>\n",
       "      <th>6498</th>\n",
       "      <td>699</td>\n",
       "      <td>Оксана</td>\n",
       "      <td>22</td>\n",
       "      <td>Москва</td>\n",
       "      <td>ultra</td>\n",
       "      <td>4707.845501</td>\n",
       "      <td>15.839579</td>\n",
       "      <td>2021-10-17</td>\n",
       "      <td>10</td>\n",
       "      <td>6</td>\n",
       "      <td>0</td>\n",
       "      <td>199</td>\n",
       "    </tr>\n",
       "    <tr>\n",
       "      <th>6499</th>\n",
       "      <td>699</td>\n",
       "      <td>Оксана</td>\n",
       "      <td>22</td>\n",
       "      <td>Москва</td>\n",
       "      <td>ultra</td>\n",
       "      <td>3202.890770</td>\n",
       "      <td>25.217345</td>\n",
       "      <td>2021-12-03</td>\n",
       "      <td>12</td>\n",
       "      <td>6</td>\n",
       "      <td>0</td>\n",
       "      <td>199</td>\n",
       "    </tr>\n",
       "  </tbody>\n",
       "</table>\n",
       "<p>6500 rows × 12 columns</p>\n",
       "</div>"
      ],
      "text/plain": [
       "      user_id    name  age    city subscription_type     distance   duration  \\\n",
       "0           1    Кира   22  Тюмень             ultra  4409.919140  25.599769   \n",
       "1           1    Кира   22  Тюмень             ultra  2617.592153  15.816871   \n",
       "2           1    Кира   22  Тюмень             ultra   754.159807   6.232113   \n",
       "3           1    Кира   22  Тюмень             ultra  2694.783254  18.511000   \n",
       "4           1    Кира   22  Тюмень             ultra  4028.687306  26.265803   \n",
       "...       ...     ...  ...     ...               ...          ...        ...   \n",
       "6495      699  Оксана   22  Москва             ultra  3973.046497  24.671163   \n",
       "6496      699  Оксана   22  Москва             ultra  3288.702563  15.892886   \n",
       "6497      699  Оксана   22  Москва             ultra  3076.159348  14.389525   \n",
       "6498      699  Оксана   22  Москва             ultra  4707.845501  15.839579   \n",
       "6499      699  Оксана   22  Москва             ultra  3202.890770  25.217345   \n",
       "\n",
       "           date  month  minute_price  start_ride_price  subscription_fee  \n",
       "0    2021-01-01      1             6                 0               199  \n",
       "1    2021-01-18      1             6                 0               199  \n",
       "2    2021-04-20      4             6                 0               199  \n",
       "3    2021-08-11      8             6                 0               199  \n",
       "4    2021-08-28      8             6                 0               199  \n",
       "...         ...    ...           ...               ...               ...  \n",
       "6495 2021-08-29      8             6                 0               199  \n",
       "6496 2021-09-12      9             6                 0               199  \n",
       "6497 2021-09-26      9             6                 0               199  \n",
       "6498 2021-10-17     10             6                 0               199  \n",
       "6499 2021-12-03     12             6                 0               199  \n",
       "\n",
       "[6500 rows x 12 columns]"
      ]
     },
     "execution_count": 38,
     "metadata": {},
     "output_type": "execute_result"
    }
   ],
   "source": [
    "data_ultra = data.query('subscription_type == \"ultra\"')\n",
    "data_ultra"
   ]
  },
  {
   "cell_type": "markdown",
   "id": "7273d95e",
   "metadata": {},
   "source": [
    "<div class=\"alert alert-block alert-success\">✔️\n",
    "    \n",
    "\n",
    "__Комментарий от ревьюера №1__\n",
    "\n",
    "Отлично. Датасеты выведены корректно"
   ]
  },
  {
   "cell_type": "markdown",
   "id": "e782772f",
   "metadata": {},
   "source": [
    "Визуализируем информацию о расстоянии поездок для пользователей обеих категорий"
   ]
  },
  {
   "cell_type": "code",
   "execution_count": 39,
   "id": "02e3a1a6",
   "metadata": {},
   "outputs": [
    {
     "data": {
      "text/plain": [
       "count    11568.000000\n",
       "mean      3045.495282\n",
       "std       1246.173806\n",
       "min          0.855683\n",
       "25%       2366.562689\n",
       "50%       3114.648465\n",
       "75%       3905.697894\n",
       "max       7211.007745\n",
       "Name: distance, dtype: float64"
      ]
     },
     "execution_count": 39,
     "metadata": {},
     "output_type": "execute_result"
    }
   ],
   "source": [
    "data_free['distance'].describe()"
   ]
  },
  {
   "cell_type": "code",
   "execution_count": 40,
   "id": "3ade78d0",
   "metadata": {},
   "outputs": [
    {
     "data": {
      "text/plain": [
       "count    6500.000000\n",
       "mean     3115.445388\n",
       "std       836.895330\n",
       "min       244.210438\n",
       "25%      2785.444017\n",
       "50%      3148.637229\n",
       "75%      3560.574425\n",
       "max      5699.769662\n",
       "Name: distance, dtype: float64"
      ]
     },
     "execution_count": 40,
     "metadata": {},
     "output_type": "execute_result"
    }
   ],
   "source": [
    "data_ultra['distance'].describe()"
   ]
  },
  {
   "cell_type": "code",
   "execution_count": 41,
   "id": "1677c1d7",
   "metadata": {},
   "outputs": [
    {
     "data": {
      "image/png": "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\n",
      "text/plain": [
       "<Figure size 720x360 with 1 Axes>"
      ]
     },
     "metadata": {
      "needs_background": "light"
     },
     "output_type": "display_data"
    }
   ],
   "source": [
    "data_free['distance'].plot(kind = 'hist', grid=True, figsize = (10,5), bins = 30, label='Без подписки')\n",
    "data_ultra['distance'].plot(kind = 'hist', grid=True, figsize = (10,5), bins = 30, label='С подпиской')\n",
    "\n",
    "plt.title('Расстояние поездок для пользователей с подпиской и без')\n",
    "plt.xlabel('Расстояние в метрах')\n",
    "plt.ylabel('Количество поездок')\n",
    "plt.legend(loc='upper right')\n",
    "plt.show()"
   ]
  },
  {
   "cell_type": "markdown",
   "id": "4c067180",
   "metadata": {},
   "source": [
    "Максимальное расстояние у пользователей без подписки 7211 метров, а у пользователей с подпиской 5699 метров. На графике можно увидеть, что пользователи без подписки предпочитают более длинные поездки. Минимальное расстояние меньше у пользователей без подписки (меньше метра), чем у пользователей с подпиской (244 метра). Среднее расстояние при этом меньше у пользователей без подписки (3114 метра), чем с подпиской (3148 метров).\n",
    "\n",
    "На графике можно увидеть, что у пользователей с подпиской более отчетливо прослеживаются пики на 1000 и 3000 метрах. У пользователей без подписки тоже 2 пика на графике, но менее выраженные и с большим разбросом. "
   ]
  },
  {
   "cell_type": "markdown",
   "id": "9588abba",
   "metadata": {},
   "source": [
    "<div class=\"alert alert-block alert-success\">✔️\n",
    "    \n",
    "\n",
    "__Комментарий от ревьюера №1__\n",
    "\n",
    "У пользователей без подписки значительно больше коротких поездок - до 1 км и в целом максимальная дальность поездки выше, чем у платных пользователей."
   ]
  },
  {
   "cell_type": "markdown",
   "id": "3dad81ef",
   "metadata": {},
   "source": [
    "Визуализируем информацию о времени поездок для пользователей обеих категорий"
   ]
  },
  {
   "cell_type": "code",
   "execution_count": 42,
   "id": "c51eadb4",
   "metadata": {},
   "outputs": [
    {
     "data": {
      "text/plain": [
       "count    11568.000000\n",
       "mean        17.390909\n",
       "std          6.326803\n",
       "min          0.500000\n",
       "25%         12.958437\n",
       "50%         17.326890\n",
       "75%         21.594071\n",
       "max         34.948498\n",
       "Name: duration, dtype: float64"
      ]
     },
     "execution_count": 42,
     "metadata": {},
     "output_type": "execute_result"
    }
   ],
   "source": [
    "data_free['duration'].describe()"
   ]
  },
  {
   "cell_type": "code",
   "execution_count": 43,
   "id": "fae1f8f4",
   "metadata": {},
   "outputs": [
    {
     "data": {
      "text/plain": [
       "count    6500.000000\n",
       "mean       18.541985\n",
       "std         5.572048\n",
       "min         3.760353\n",
       "25%        14.524654\n",
       "50%        18.178153\n",
       "75%        21.884129\n",
       "max        40.823963\n",
       "Name: duration, dtype: float64"
      ]
     },
     "execution_count": 43,
     "metadata": {},
     "output_type": "execute_result"
    }
   ],
   "source": [
    "data_ultra['duration'].describe()"
   ]
  },
  {
   "cell_type": "code",
   "execution_count": 44,
   "id": "ea3fb200",
   "metadata": {},
   "outputs": [
    {
     "data": {
      "image/png": "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\n",
      "text/plain": [
       "<Figure size 720x360 with 1 Axes>"
      ]
     },
     "metadata": {
      "needs_background": "light"
     },
     "output_type": "display_data"
    }
   ],
   "source": [
    "data_free['duration'].plot(kind = 'hist', grid=True, figsize = (10,5), bins = 30, label='Без подписки')\n",
    "data_ultra['duration'].plot(kind = 'hist', grid=True, figsize = (10,5), bins = 30, label='С подпиской')\n",
    "\n",
    "plt.title('Время поездок для пользователей с подпиской и без')\n",
    "plt.xlabel('Время в минутах')\n",
    "plt.ylabel('Количество поездок')\n",
    "plt.legend(loc='upper right')\n",
    "plt.show()"
   ]
  },
  {
   "cell_type": "markdown",
   "id": "ac5b90cd",
   "metadata": {},
   "source": [
    "Можно заметить, что пользователи с подпиской предпочитают более продолжительные поездки, их максимальное время составляет 40 минут, а минимальное 3 минуты. При этом по всем пунктам продолжительность поездок у пользователей без подписки меньше: максимальное время 34 минуты, минимальное меньше минуты. Количество поездок распределено нормально у обеих групп. Наблюдается пик в районе 17 минут. Также можно увидеть около 100 поездок у пользователей без подписки, у которых продолжительность поездки составляет 2-3 минуты."
   ]
  },
  {
   "cell_type": "markdown",
   "id": "ef8ffd4d",
   "metadata": {},
   "source": [
    "<div class=\"alert alert-block alert-success\">✔️\n",
    "    \n",
    "\n",
    "__Комментарий от ревьюера №1__\n",
    "\n",
    "В целом картина такая же - распределение внутри категорий имеют одинаковый профиль (и одинаковый с профилем распределения до разбивки на категории - строили на ранних этапах), но в каждом из диапазонов бесплатных пользователей чуть больше, но их, как мы помним, и в целом больше.\n",
    "\n",
    "Краевые значения (минимум и максимум) у бесплатных пользователей смещены влево относительно платных подписчиков - стоимость минуты все-таки больше, значит часть пользователей торопится завершить поездки за меньший срок. Но при этом визуально среднее значение не сильно смещено"
   ]
  },
  {
   "cell_type": "markdown",
   "id": "1d84cfb5",
   "metadata": {},
   "source": [
    "Вывод:\n",
    "\n",
    "Мы объединили данные в один датафрейм, а также создадим еще 2 датафрейма c данными о пользователях без подписки и с подпиской для визуализации информации о расстоянии поездок для пользователей обеих категорий. \n",
    "Максимальное расстояние у пользователей без подписки 7211 метров, а у пользователей с подпиской 5699 метров. На графике можно увидеть, что пользователи без подписки предпочитают более длинные поездки. Минимальное расстояние меньше у пользователей без подписки (меньше метра), чем у пользователей с подпиской (244 метра). Среднее расстояние при этом меньше у пользователей без подписки (3114 метра), чем с подпиской (3148 метров). На графике можно увидеть, что у пользователей с подпиской более отчетливо прослеживаются пики на 1000 и 3000 метрах. У пользователей без подписки тоже 2 пика на графике, но менее выраженные и с большим разбросом.\n",
    "\n",
    "Можно заметить, что пользователи с подпиской предпочитают более продолжительные поездки, их максимальное время составляет 40 минут, а минимальное 3 минуты. При этом по всем пунктам продолжительность поездок у пользователей без подписки меньше: максимальное время 34 минуты, минимальное меньше минуты. Количество поездок распределено нормально у обеих групп. Наблюдается пик в районе 17 минут. Также можно увидеть около 100 поездок у пользователей без подписки, у которых продолжительность поездки составляет 2-3 минуты."
   ]
  },
  {
   "cell_type": "markdown",
   "id": "402d620f",
   "metadata": {},
   "source": [
    "#### Шаг 5. Подсчёт выручки"
   ]
  },
  {
   "cell_type": "markdown",
   "id": "f0ea2de3",
   "metadata": {},
   "source": [
    "Создадим датафрейм с агрегированными данными о поездках: суммарное расстояние, количество поездок, суммарное время для каждого пользователя за каждый месяц и помесячная выручка.\n",
    "\n",
    "Помесячная выручка считается по формуле: стоимость старта поездки × количество поездок + стоимость одной минуты поездки × общая продолжительность всех поездок в минутах + стоимость подписки"
   ]
  },
  {
   "cell_type": "markdown",
   "id": "8a8cb5e2",
   "metadata": {},
   "source": [
    "Сначала создадим сводную таблицу по каждому юзеру по месяцам"
   ]
  },
  {
   "cell_type": "markdown",
   "id": "a5ea9ec1",
   "metadata": {},
   "source": [
    "<div class=\"alert alert-block alert-warning\">📝\n",
    "    \n",
    "\n",
    "__Комментарий от ревьюера №1__\n",
    "    \n",
    "Нет проверки на пропуски в сводной таблице перед расчетом выручки"
   ]
  },
  {
   "cell_type": "code",
   "execution_count": 45,
   "id": "890d8627",
   "metadata": {},
   "outputs": [
    {
     "data": {
      "text/plain": [
       "user_id              0\n",
       "name                 0\n",
       "age                  0\n",
       "city                 0\n",
       "subscription_type    0\n",
       "distance             0\n",
       "duration             0\n",
       "date                 0\n",
       "month                0\n",
       "minute_price         0\n",
       "start_ride_price     0\n",
       "subscription_fee     0\n",
       "dtype: int64"
      ]
     },
     "execution_count": 45,
     "metadata": {},
     "output_type": "execute_result"
    }
   ],
   "source": [
    "data.isna().sum() #проверяем на пропуски"
   ]
  },
  {
   "cell_type": "code",
   "execution_count": 46,
   "id": "a8c8a404",
   "metadata": {},
   "outputs": [],
   "source": [
    "#количество поездок по месяцам\n",
    "data_pivot = data.pivot_table(index=['user_id', 'month'], values='name', aggfunc='count')\n",
    "data_pivot = data_pivot.rename(columns={'name' : 'rides_count'})\n",
    "\n",
    "#суммарное расстояние по месяцам\n",
    "data_pivot['distance'] = data.pivot_table(index=['user_id', 'month'], values='distance', aggfunc='sum')\n",
    "\n",
    "#суммарное время по месяцам\n",
    "data_pivot['duration'] =  data.pivot_table(index=['user_id', 'month'], values='duration', aggfunc='sum')\n",
    "data_pivot['duration'] = np.ceil(data_pivot['duration']) "
   ]
  },
  {
   "cell_type": "markdown",
   "id": "455b5b6f",
   "metadata": {},
   "source": [
    "Теперь нужно добавить помесячную выручку. Сначала выведем выручку за каждую поездку в таблице data. Затем добавим суммарную выручку по месяцам"
   ]
  },
  {
   "cell_type": "code",
   "execution_count": 47,
   "id": "7cb0a345",
   "metadata": {
    "scrolled": true
   },
   "outputs": [
    {
     "data": {
      "text/html": [
       "<div>\n",
       "<style scoped>\n",
       "    .dataframe tbody tr th:only-of-type {\n",
       "        vertical-align: middle;\n",
       "    }\n",
       "\n",
       "    .dataframe tbody tr th {\n",
       "        vertical-align: top;\n",
       "    }\n",
       "\n",
       "    .dataframe thead th {\n",
       "        text-align: right;\n",
       "    }\n",
       "</style>\n",
       "<table border=\"1\" class=\"dataframe\">\n",
       "  <thead>\n",
       "    <tr style=\"text-align: right;\">\n",
       "      <th></th>\n",
       "      <th></th>\n",
       "      <th>rides_count</th>\n",
       "      <th>distance</th>\n",
       "      <th>duration</th>\n",
       "      <th>revenue_1</th>\n",
       "    </tr>\n",
       "    <tr>\n",
       "      <th>user_id</th>\n",
       "      <th>month</th>\n",
       "      <th></th>\n",
       "      <th></th>\n",
       "      <th></th>\n",
       "      <th></th>\n",
       "    </tr>\n",
       "  </thead>\n",
       "  <tbody>\n",
       "    <tr>\n",
       "      <th rowspan=\"5\" valign=\"top\">1</th>\n",
       "      <th>1</th>\n",
       "      <td>2</td>\n",
       "      <td>7027.511294</td>\n",
       "      <td>42.0</td>\n",
       "      <td>252.0</td>\n",
       "    </tr>\n",
       "    <tr>\n",
       "      <th>4</th>\n",
       "      <td>1</td>\n",
       "      <td>754.159807</td>\n",
       "      <td>7.0</td>\n",
       "      <td>42.0</td>\n",
       "    </tr>\n",
       "    <tr>\n",
       "      <th>8</th>\n",
       "      <td>2</td>\n",
       "      <td>6723.470560</td>\n",
       "      <td>45.0</td>\n",
       "      <td>276.0</td>\n",
       "    </tr>\n",
       "    <tr>\n",
       "      <th>10</th>\n",
       "      <td>2</td>\n",
       "      <td>5809.911100</td>\n",
       "      <td>32.0</td>\n",
       "      <td>192.0</td>\n",
       "    </tr>\n",
       "    <tr>\n",
       "      <th>11</th>\n",
       "      <td>3</td>\n",
       "      <td>7003.499363</td>\n",
       "      <td>54.0</td>\n",
       "      <td>336.0</td>\n",
       "    </tr>\n",
       "    <tr>\n",
       "      <th>...</th>\n",
       "      <th>...</th>\n",
       "      <td>...</td>\n",
       "      <td>...</td>\n",
       "      <td>...</td>\n",
       "      <td>...</td>\n",
       "    </tr>\n",
       "    <tr>\n",
       "      <th rowspan=\"5\" valign=\"top\">1534</th>\n",
       "      <th>6</th>\n",
       "      <td>2</td>\n",
       "      <td>3409.468534</td>\n",
       "      <td>25.0</td>\n",
       "      <td>308.0</td>\n",
       "    </tr>\n",
       "    <tr>\n",
       "      <th>8</th>\n",
       "      <td>2</td>\n",
       "      <td>7622.453034</td>\n",
       "      <td>48.0</td>\n",
       "      <td>484.0</td>\n",
       "    </tr>\n",
       "    <tr>\n",
       "      <th>9</th>\n",
       "      <td>1</td>\n",
       "      <td>4928.173852</td>\n",
       "      <td>23.0</td>\n",
       "      <td>234.0</td>\n",
       "    </tr>\n",
       "    <tr>\n",
       "      <th>11</th>\n",
       "      <td>4</td>\n",
       "      <td>13350.015305</td>\n",
       "      <td>77.0</td>\n",
       "      <td>824.0</td>\n",
       "    </tr>\n",
       "    <tr>\n",
       "      <th>12</th>\n",
       "      <td>1</td>\n",
       "      <td>2371.711192</td>\n",
       "      <td>16.0</td>\n",
       "      <td>178.0</td>\n",
       "    </tr>\n",
       "  </tbody>\n",
       "</table>\n",
       "<p>11331 rows × 4 columns</p>\n",
       "</div>"
      ],
      "text/plain": [
       "               rides_count      distance  duration  revenue_1\n",
       "user_id month                                                \n",
       "1       1                2   7027.511294      42.0      252.0\n",
       "        4                1    754.159807       7.0       42.0\n",
       "        8                2   6723.470560      45.0      276.0\n",
       "        10               2   5809.911100      32.0      192.0\n",
       "        11               3   7003.499363      54.0      336.0\n",
       "...                    ...           ...       ...        ...\n",
       "1534    6                2   3409.468534      25.0      308.0\n",
       "        8                2   7622.453034      48.0      484.0\n",
       "        9                1   4928.173852      23.0      234.0\n",
       "        11               4  13350.015305      77.0      824.0\n",
       "        12               1   2371.711192      16.0      178.0\n",
       "\n",
       "[11331 rows x 4 columns]"
      ]
     },
     "execution_count": 47,
     "metadata": {},
     "output_type": "execute_result"
    }
   ],
   "source": [
    "data['duration'] = np.ceil(data['duration']) \n",
    "data['revenue'] = data['start_ride_price'] + (data['minute_price'] * data['duration']) \n",
    "\n",
    "data_pivot['revenue_1'] = data.pivot_table(index=['user_id', 'month'], values='revenue', aggfunc='sum')\n",
    "data_pivot "
   ]
  },
  {
   "cell_type": "markdown",
   "id": "c7a11ae5",
   "metadata": {},
   "source": [
    "<div class=\"alert alert-block alert-success\">✔️\n",
    "    \n",
    "\n",
    "__Комментарий от ревьюера №1__\n",
    "\n",
    "Отлично, что используешь именно np.ceil(). Грамотный шаг"
   ]
  },
  {
   "cell_type": "markdown",
   "id": "e5dec917",
   "metadata": {},
   "source": [
    "Также нужно прибавить стоимость ежемесячной подписки для пользователей, которые ее оплачивают. У нас есть датафрейм с пользователями, у которых подключена подписка, воспользуемся им. "
   ]
  },
  {
   "cell_type": "code",
   "execution_count": 48,
   "id": "d355e046",
   "metadata": {},
   "outputs": [
    {
     "data": {
      "text/html": [
       "<div>\n",
       "<style scoped>\n",
       "    .dataframe tbody tr th:only-of-type {\n",
       "        vertical-align: middle;\n",
       "    }\n",
       "\n",
       "    .dataframe tbody tr th {\n",
       "        vertical-align: top;\n",
       "    }\n",
       "\n",
       "    .dataframe thead th {\n",
       "        text-align: right;\n",
       "    }\n",
       "</style>\n",
       "<table border=\"1\" class=\"dataframe\">\n",
       "  <thead>\n",
       "    <tr style=\"text-align: right;\">\n",
       "      <th></th>\n",
       "      <th></th>\n",
       "      <th>rides_count</th>\n",
       "      <th>distance</th>\n",
       "      <th>duration</th>\n",
       "      <th>revenue_1</th>\n",
       "      <th>revenue</th>\n",
       "    </tr>\n",
       "    <tr>\n",
       "      <th>user_id</th>\n",
       "      <th>month</th>\n",
       "      <th></th>\n",
       "      <th></th>\n",
       "      <th></th>\n",
       "      <th></th>\n",
       "      <th></th>\n",
       "    </tr>\n",
       "  </thead>\n",
       "  <tbody>\n",
       "    <tr>\n",
       "      <th rowspan=\"5\" valign=\"top\">1</th>\n",
       "      <th>1</th>\n",
       "      <td>2</td>\n",
       "      <td>7027.511294</td>\n",
       "      <td>42.0</td>\n",
       "      <td>252.0</td>\n",
       "      <td>451.0</td>\n",
       "    </tr>\n",
       "    <tr>\n",
       "      <th>4</th>\n",
       "      <td>1</td>\n",
       "      <td>754.159807</td>\n",
       "      <td>7.0</td>\n",
       "      <td>42.0</td>\n",
       "      <td>241.0</td>\n",
       "    </tr>\n",
       "    <tr>\n",
       "      <th>8</th>\n",
       "      <td>2</td>\n",
       "      <td>6723.470560</td>\n",
       "      <td>45.0</td>\n",
       "      <td>276.0</td>\n",
       "      <td>475.0</td>\n",
       "    </tr>\n",
       "    <tr>\n",
       "      <th>10</th>\n",
       "      <td>2</td>\n",
       "      <td>5809.911100</td>\n",
       "      <td>32.0</td>\n",
       "      <td>192.0</td>\n",
       "      <td>391.0</td>\n",
       "    </tr>\n",
       "    <tr>\n",
       "      <th>11</th>\n",
       "      <td>3</td>\n",
       "      <td>7003.499363</td>\n",
       "      <td>54.0</td>\n",
       "      <td>336.0</td>\n",
       "      <td>535.0</td>\n",
       "    </tr>\n",
       "    <tr>\n",
       "      <th>...</th>\n",
       "      <th>...</th>\n",
       "      <td>...</td>\n",
       "      <td>...</td>\n",
       "      <td>...</td>\n",
       "      <td>...</td>\n",
       "      <td>...</td>\n",
       "    </tr>\n",
       "    <tr>\n",
       "      <th rowspan=\"5\" valign=\"top\">1534</th>\n",
       "      <th>6</th>\n",
       "      <td>2</td>\n",
       "      <td>3409.468534</td>\n",
       "      <td>25.0</td>\n",
       "      <td>308.0</td>\n",
       "      <td>NaN</td>\n",
       "    </tr>\n",
       "    <tr>\n",
       "      <th>8</th>\n",
       "      <td>2</td>\n",
       "      <td>7622.453034</td>\n",
       "      <td>48.0</td>\n",
       "      <td>484.0</td>\n",
       "      <td>NaN</td>\n",
       "    </tr>\n",
       "    <tr>\n",
       "      <th>9</th>\n",
       "      <td>1</td>\n",
       "      <td>4928.173852</td>\n",
       "      <td>23.0</td>\n",
       "      <td>234.0</td>\n",
       "      <td>NaN</td>\n",
       "    </tr>\n",
       "    <tr>\n",
       "      <th>11</th>\n",
       "      <td>4</td>\n",
       "      <td>13350.015305</td>\n",
       "      <td>77.0</td>\n",
       "      <td>824.0</td>\n",
       "      <td>NaN</td>\n",
       "    </tr>\n",
       "    <tr>\n",
       "      <th>12</th>\n",
       "      <td>1</td>\n",
       "      <td>2371.711192</td>\n",
       "      <td>16.0</td>\n",
       "      <td>178.0</td>\n",
       "      <td>NaN</td>\n",
       "    </tr>\n",
       "  </tbody>\n",
       "</table>\n",
       "<p>11331 rows × 5 columns</p>\n",
       "</div>"
      ],
      "text/plain": [
       "               rides_count      distance  duration  revenue_1  revenue\n",
       "user_id month                                                         \n",
       "1       1                2   7027.511294      42.0      252.0    451.0\n",
       "        4                1    754.159807       7.0       42.0    241.0\n",
       "        8                2   6723.470560      45.0      276.0    475.0\n",
       "        10               2   5809.911100      32.0      192.0    391.0\n",
       "        11               3   7003.499363      54.0      336.0    535.0\n",
       "...                    ...           ...       ...        ...      ...\n",
       "1534    6                2   3409.468534      25.0      308.0      NaN\n",
       "        8                2   7622.453034      48.0      484.0      NaN\n",
       "        9                1   4928.173852      23.0      234.0      NaN\n",
       "        11               4  13350.015305      77.0      824.0      NaN\n",
       "        12               1   2371.711192      16.0      178.0      NaN\n",
       "\n",
       "[11331 rows x 5 columns]"
      ]
     },
     "execution_count": 48,
     "metadata": {},
     "output_type": "execute_result"
    }
   ],
   "source": [
    "#создадим новую переменную с id пользователей с подпиской\n",
    "data_ultra_id = data_ultra['user_id'].value_counts()\n",
    "\n",
    "#в исходной таблице найдем этих пользователей и прибавим стоимость подписки\n",
    "data_pivot['revenue'] = data_pivot.query('user_id in @data_ultra_id.index')['revenue_1'] + 199\n",
    "data_pivot"
   ]
  },
  {
   "cell_type": "code",
   "execution_count": 49,
   "id": "067a2b9d",
   "metadata": {},
   "outputs": [
    {
     "data": {
      "text/html": [
       "<div>\n",
       "<style scoped>\n",
       "    .dataframe tbody tr th:only-of-type {\n",
       "        vertical-align: middle;\n",
       "    }\n",
       "\n",
       "    .dataframe tbody tr th {\n",
       "        vertical-align: top;\n",
       "    }\n",
       "\n",
       "    .dataframe thead th {\n",
       "        text-align: right;\n",
       "    }\n",
       "</style>\n",
       "<table border=\"1\" class=\"dataframe\">\n",
       "  <thead>\n",
       "    <tr style=\"text-align: right;\">\n",
       "      <th></th>\n",
       "      <th></th>\n",
       "      <th>rides_count</th>\n",
       "      <th>distance</th>\n",
       "      <th>duration</th>\n",
       "      <th>revenue</th>\n",
       "    </tr>\n",
       "    <tr>\n",
       "      <th>user_id</th>\n",
       "      <th>month</th>\n",
       "      <th></th>\n",
       "      <th></th>\n",
       "      <th></th>\n",
       "      <th></th>\n",
       "    </tr>\n",
       "  </thead>\n",
       "  <tbody>\n",
       "    <tr>\n",
       "      <th rowspan=\"5\" valign=\"top\">1</th>\n",
       "      <th>1</th>\n",
       "      <td>2</td>\n",
       "      <td>7027.511294</td>\n",
       "      <td>42.0</td>\n",
       "      <td>451.0</td>\n",
       "    </tr>\n",
       "    <tr>\n",
       "      <th>4</th>\n",
       "      <td>1</td>\n",
       "      <td>754.159807</td>\n",
       "      <td>7.0</td>\n",
       "      <td>241.0</td>\n",
       "    </tr>\n",
       "    <tr>\n",
       "      <th>8</th>\n",
       "      <td>2</td>\n",
       "      <td>6723.470560</td>\n",
       "      <td>45.0</td>\n",
       "      <td>475.0</td>\n",
       "    </tr>\n",
       "    <tr>\n",
       "      <th>10</th>\n",
       "      <td>2</td>\n",
       "      <td>5809.911100</td>\n",
       "      <td>32.0</td>\n",
       "      <td>391.0</td>\n",
       "    </tr>\n",
       "    <tr>\n",
       "      <th>11</th>\n",
       "      <td>3</td>\n",
       "      <td>7003.499363</td>\n",
       "      <td>54.0</td>\n",
       "      <td>535.0</td>\n",
       "    </tr>\n",
       "    <tr>\n",
       "      <th>...</th>\n",
       "      <th>...</th>\n",
       "      <td>...</td>\n",
       "      <td>...</td>\n",
       "      <td>...</td>\n",
       "      <td>...</td>\n",
       "    </tr>\n",
       "    <tr>\n",
       "      <th rowspan=\"5\" valign=\"top\">1534</th>\n",
       "      <th>6</th>\n",
       "      <td>2</td>\n",
       "      <td>3409.468534</td>\n",
       "      <td>25.0</td>\n",
       "      <td>308.0</td>\n",
       "    </tr>\n",
       "    <tr>\n",
       "      <th>8</th>\n",
       "      <td>2</td>\n",
       "      <td>7622.453034</td>\n",
       "      <td>48.0</td>\n",
       "      <td>484.0</td>\n",
       "    </tr>\n",
       "    <tr>\n",
       "      <th>9</th>\n",
       "      <td>1</td>\n",
       "      <td>4928.173852</td>\n",
       "      <td>23.0</td>\n",
       "      <td>234.0</td>\n",
       "    </tr>\n",
       "    <tr>\n",
       "      <th>11</th>\n",
       "      <td>4</td>\n",
       "      <td>13350.015305</td>\n",
       "      <td>77.0</td>\n",
       "      <td>824.0</td>\n",
       "    </tr>\n",
       "    <tr>\n",
       "      <th>12</th>\n",
       "      <td>1</td>\n",
       "      <td>2371.711192</td>\n",
       "      <td>16.0</td>\n",
       "      <td>178.0</td>\n",
       "    </tr>\n",
       "  </tbody>\n",
       "</table>\n",
       "<p>11331 rows × 4 columns</p>\n",
       "</div>"
      ],
      "text/plain": [
       "               rides_count      distance  duration  revenue\n",
       "user_id month                                              \n",
       "1       1                2   7027.511294      42.0    451.0\n",
       "        4                1    754.159807       7.0    241.0\n",
       "        8                2   6723.470560      45.0    475.0\n",
       "        10               2   5809.911100      32.0    391.0\n",
       "        11               3   7003.499363      54.0    535.0\n",
       "...                    ...           ...       ...      ...\n",
       "1534    6                2   3409.468534      25.0    308.0\n",
       "        8                2   7622.453034      48.0    484.0\n",
       "        9                1   4928.173852      23.0    234.0\n",
       "        11               4  13350.015305      77.0    824.0\n",
       "        12               1   2371.711192      16.0    178.0\n",
       "\n",
       "[11331 rows x 4 columns]"
      ]
     },
     "execution_count": 49,
     "metadata": {},
     "output_type": "execute_result"
    }
   ],
   "source": [
    "#заполним пропуски данными из другого столбца, это те пользователи, у которых нет подписки\n",
    "data_pivot['revenue'] = data_pivot['revenue'].fillna(data_pivot['revenue_1'])\n",
    "\n",
    "#оставим только нужные столбцы\n",
    "data_pivot = data_pivot[['rides_count', 'distance', 'duration', 'revenue']]\n",
    "\n",
    "data_pivot"
   ]
  },
  {
   "cell_type": "markdown",
   "id": "bfb7b4ee",
   "metadata": {},
   "source": [
    "Вывод:\n",
    "\n",
    "Мы создали датафрейм с агрегированными данными о поездках: суммарное расстояние, количество поездок, суммарное время для каждого пользователя за каждый месяц и помесячная выручка. Помесячная выручка считается по формуле: стоимость старта поездки × количество поездок + стоимость одной минуты поездки × общая продолжительность всех поездок в минутах + стоимость подписки"
   ]
  },
  {
   "cell_type": "markdown",
   "id": "c7500731",
   "metadata": {},
   "source": [
    "<div class=\"alert alert-block alert-success\">✔️\n",
    "    \n",
    "\n",
    "__Комментарий от ревьюера №1__\n",
    "\n",
    "Корректная реализация. Молодец)"
   ]
  },
  {
   "cell_type": "markdown",
   "id": "41545ac0",
   "metadata": {},
   "source": [
    "#### Шаг 6. Проверка гипотез"
   ]
  },
  {
   "cell_type": "markdown",
   "id": "4b5d0f7d",
   "metadata": {},
   "source": [
    "**Гипотеза - пользователи с подпиской тратят больше времени на поездки**"
   ]
  },
  {
   "cell_type": "markdown",
   "id": "9494cf3f",
   "metadata": {},
   "source": [
    "Важно понять, тратят ли пользователи с подпиской больше времени на поездки? Если да, то пользователи с подпиской могут быть «выгоднее» для компании. Проверим гипотезу. Используем исходные данные о продолжительности каждой сессии — отдельно для подписчиков и тех, у кого нет подписки.\n",
    "\n",
    "Н0: Средняя продолжительность поездок пользователей с подпиской и пользователей без подписки равны\n",
    "\n",
    "Н1: Средняя продолжительность поездок с подпиской больше средней продолжительности поездок без подписки"
   ]
  },
  {
   "cell_type": "markdown",
   "id": "e480eda0",
   "metadata": {},
   "source": [
    "<div class=\"alert alert-block alert-success\">✔️\n",
    "    \n",
    "\n",
    "__Комментарий от ревьюера №1__\n",
    "\n",
    "Верная интерпретация нулевой и альтернативной гипотез\n",
    "</div>"
   ]
  },
  {
   "cell_type": "code",
   "execution_count": 50,
   "id": "9fc85301",
   "metadata": {
    "scrolled": true
   },
   "outputs": [
    {
     "name": "stdout",
     "output_type": "stream",
     "text": [
      "p-значение: 1.2804098316645618e-34\n",
      "Отвергаем нулевую гипотезу\n"
     ]
    }
   ],
   "source": [
    "alpha = 0.05 \n",
    "\n",
    "results = st.ttest_ind(data_ultra['duration'], data_free['duration'], alternative='greater')\n",
    "\n",
    "print('p-значение:', results.pvalue)\n",
    "\n",
    "if results.pvalue < alpha:\n",
    "    print('Отвергаем нулевую гипотезу')\n",
    "else:\n",
    "    print('Не получилось отвергнуть нулевую гипотезу')"
   ]
  },
  {
   "cell_type": "markdown",
   "id": "d96fb01c",
   "metadata": {},
   "source": [
    "Нулевая гипотеза отвергается. Таким образом можно сказать, что средняя продолжительность поездок с подпиской больше средней продолжительности поездок без подписки. Пользователи с подпиской будут более выгодными для компании"
   ]
  },
  {
   "cell_type": "markdown",
   "id": "4d71502a",
   "metadata": {},
   "source": [
    "**Гипотеза - среднее расстояние, которое проезжают пользователи с подпиской за одну поездку, не превышает 3130 метров**"
   ]
  },
  {
   "cell_type": "markdown",
   "id": "75b725d3",
   "metadata": {},
   "source": [
    "Расстояние одной поездки в 3130 метров — оптимальное с точки зрения износа самоката. Можно ли сказать, что среднее расстояние, которое проезжают пользователи с подпиской за одну поездку, не превышает 3130 метров? \n",
    "\n",
    "Н0: Среднее расстояние, которое проезжают пользователи с подпиской за одну поездку, равно 3130 метров\n",
    "\n",
    "Н1: Среднее расстояние, которое проезжают пользователи с подпиской за одну поездку, больше 3130 метров"
   ]
  },
  {
   "cell_type": "code",
   "execution_count": 51,
   "id": "6f6879ec",
   "metadata": {},
   "outputs": [
    {
     "name": "stdout",
     "output_type": "stream",
     "text": [
      "p-значение: 0.9195368847849785\n",
      "Не получилось отвергнуть нулевую гипотезу\n"
     ]
    }
   ],
   "source": [
    "distance = 3130\n",
    "\n",
    "alpha = 0.05 \n",
    "\n",
    "results = st.ttest_1samp(data_ultra['distance'], distance, alternative='greater')\n",
    "\n",
    "print('p-значение:', results.pvalue)\n",
    "\n",
    "if results.pvalue < alpha:\n",
    "    print('Отвергаем нулевую гипотезу')\n",
    "else:\n",
    "    print('Не получилось отвергнуть нулевую гипотезу') "
   ]
  },
  {
   "cell_type": "markdown",
   "id": "f666b48a",
   "metadata": {},
   "source": [
    "Нулевую гипотезу не получилось отвергнуть. Таким образом можно сказать, что среднее расстояние, которое проезжают пользователи с подпиской за одну поездку, не превышает расстоянием в 3130 метров"
   ]
  },
  {
   "cell_type": "markdown",
   "id": "bf99a4cf",
   "metadata": {},
   "source": [
    "**Гипотеза - будет ли помесячная выручка от пользователей с подпиской по месяцам выше, чем выручка от пользователей без подписки**"
   ]
  },
  {
   "cell_type": "markdown",
   "id": "6f02dabb",
   "metadata": {},
   "source": [
    "Н0: Помесячная выручка от пользователей с подпиской равна помесячной выручке от пользователей без подписки\n",
    "\n",
    "Н1: Помесячная выручка от пользователей с подпиской больше помесячной выручки от пользователей без подписки"
   ]
  },
  {
   "cell_type": "code",
   "execution_count": 52,
   "id": "92f628da",
   "metadata": {},
   "outputs": [
    {
     "data": {
      "text/html": [
       "<div>\n",
       "<style scoped>\n",
       "    .dataframe tbody tr th:only-of-type {\n",
       "        vertical-align: middle;\n",
       "    }\n",
       "\n",
       "    .dataframe tbody tr th {\n",
       "        vertical-align: top;\n",
       "    }\n",
       "\n",
       "    .dataframe thead th {\n",
       "        text-align: right;\n",
       "    }\n",
       "</style>\n",
       "<table border=\"1\" class=\"dataframe\">\n",
       "  <thead>\n",
       "    <tr style=\"text-align: right;\">\n",
       "      <th></th>\n",
       "      <th></th>\n",
       "      <th>rides_count</th>\n",
       "      <th>distance</th>\n",
       "      <th>duration</th>\n",
       "      <th>revenue</th>\n",
       "    </tr>\n",
       "    <tr>\n",
       "      <th>user_id</th>\n",
       "      <th>month</th>\n",
       "      <th></th>\n",
       "      <th></th>\n",
       "      <th></th>\n",
       "      <th></th>\n",
       "    </tr>\n",
       "  </thead>\n",
       "  <tbody>\n",
       "    <tr>\n",
       "      <th rowspan=\"5\" valign=\"top\">1</th>\n",
       "      <th>1</th>\n",
       "      <td>2</td>\n",
       "      <td>7027.511294</td>\n",
       "      <td>42.0</td>\n",
       "      <td>451.0</td>\n",
       "    </tr>\n",
       "    <tr>\n",
       "      <th>4</th>\n",
       "      <td>1</td>\n",
       "      <td>754.159807</td>\n",
       "      <td>7.0</td>\n",
       "      <td>241.0</td>\n",
       "    </tr>\n",
       "    <tr>\n",
       "      <th>8</th>\n",
       "      <td>2</td>\n",
       "      <td>6723.470560</td>\n",
       "      <td>45.0</td>\n",
       "      <td>475.0</td>\n",
       "    </tr>\n",
       "    <tr>\n",
       "      <th>10</th>\n",
       "      <td>2</td>\n",
       "      <td>5809.911100</td>\n",
       "      <td>32.0</td>\n",
       "      <td>391.0</td>\n",
       "    </tr>\n",
       "    <tr>\n",
       "      <th>11</th>\n",
       "      <td>3</td>\n",
       "      <td>7003.499363</td>\n",
       "      <td>54.0</td>\n",
       "      <td>535.0</td>\n",
       "    </tr>\n",
       "    <tr>\n",
       "      <th>...</th>\n",
       "      <th>...</th>\n",
       "      <td>...</td>\n",
       "      <td>...</td>\n",
       "      <td>...</td>\n",
       "      <td>...</td>\n",
       "    </tr>\n",
       "    <tr>\n",
       "      <th rowspan=\"5\" valign=\"top\">699</th>\n",
       "      <th>6</th>\n",
       "      <td>1</td>\n",
       "      <td>4072.797406</td>\n",
       "      <td>17.0</td>\n",
       "      <td>301.0</td>\n",
       "    </tr>\n",
       "    <tr>\n",
       "      <th>8</th>\n",
       "      <td>2</td>\n",
       "      <td>7018.324143</td>\n",
       "      <td>45.0</td>\n",
       "      <td>469.0</td>\n",
       "    </tr>\n",
       "    <tr>\n",
       "      <th>9</th>\n",
       "      <td>2</td>\n",
       "      <td>6364.861911</td>\n",
       "      <td>31.0</td>\n",
       "      <td>385.0</td>\n",
       "    </tr>\n",
       "    <tr>\n",
       "      <th>10</th>\n",
       "      <td>1</td>\n",
       "      <td>4707.845501</td>\n",
       "      <td>16.0</td>\n",
       "      <td>295.0</td>\n",
       "    </tr>\n",
       "    <tr>\n",
       "      <th>12</th>\n",
       "      <td>1</td>\n",
       "      <td>3202.890770</td>\n",
       "      <td>26.0</td>\n",
       "      <td>355.0</td>\n",
       "    </tr>\n",
       "  </tbody>\n",
       "</table>\n",
       "<p>4533 rows × 4 columns</p>\n",
       "</div>"
      ],
      "text/plain": [
       "               rides_count     distance  duration  revenue\n",
       "user_id month                                             \n",
       "1       1                2  7027.511294      42.0    451.0\n",
       "        4                1   754.159807       7.0    241.0\n",
       "        8                2  6723.470560      45.0    475.0\n",
       "        10               2  5809.911100      32.0    391.0\n",
       "        11               3  7003.499363      54.0    535.0\n",
       "...                    ...          ...       ...      ...\n",
       "699     6                1  4072.797406      17.0    301.0\n",
       "        8                2  7018.324143      45.0    469.0\n",
       "        9                2  6364.861911      31.0    385.0\n",
       "        10               1  4707.845501      16.0    295.0\n",
       "        12               1  3202.890770      26.0    355.0\n",
       "\n",
       "[4533 rows x 4 columns]"
      ]
     },
     "execution_count": 52,
     "metadata": {},
     "output_type": "execute_result"
    }
   ],
   "source": [
    "data_ultra_revenue = data_pivot.query('user_id in @data_ultra_id.index')\n",
    "data_ultra_revenue"
   ]
  },
  {
   "cell_type": "code",
   "execution_count": 53,
   "id": "a4210f59",
   "metadata": {},
   "outputs": [
    {
     "data": {
      "text/html": [
       "<div>\n",
       "<style scoped>\n",
       "    .dataframe tbody tr th:only-of-type {\n",
       "        vertical-align: middle;\n",
       "    }\n",
       "\n",
       "    .dataframe tbody tr th {\n",
       "        vertical-align: top;\n",
       "    }\n",
       "\n",
       "    .dataframe thead th {\n",
       "        text-align: right;\n",
       "    }\n",
       "</style>\n",
       "<table border=\"1\" class=\"dataframe\">\n",
       "  <thead>\n",
       "    <tr style=\"text-align: right;\">\n",
       "      <th></th>\n",
       "      <th></th>\n",
       "      <th>rides_count</th>\n",
       "      <th>distance</th>\n",
       "      <th>duration</th>\n",
       "      <th>revenue</th>\n",
       "    </tr>\n",
       "    <tr>\n",
       "      <th>user_id</th>\n",
       "      <th>month</th>\n",
       "      <th></th>\n",
       "      <th></th>\n",
       "      <th></th>\n",
       "      <th></th>\n",
       "    </tr>\n",
       "  </thead>\n",
       "  <tbody>\n",
       "    <tr>\n",
       "      <th rowspan=\"5\" valign=\"top\">700</th>\n",
       "      <th>1</th>\n",
       "      <td>1</td>\n",
       "      <td>2515.690719</td>\n",
       "      <td>15.0</td>\n",
       "      <td>170.0</td>\n",
       "    </tr>\n",
       "    <tr>\n",
       "      <th>2</th>\n",
       "      <td>5</td>\n",
       "      <td>13446.659764</td>\n",
       "      <td>86.0</td>\n",
       "      <td>962.0</td>\n",
       "    </tr>\n",
       "    <tr>\n",
       "      <th>3</th>\n",
       "      <td>1</td>\n",
       "      <td>3798.334905</td>\n",
       "      <td>19.0</td>\n",
       "      <td>202.0</td>\n",
       "    </tr>\n",
       "    <tr>\n",
       "      <th>4</th>\n",
       "      <td>1</td>\n",
       "      <td>2984.551206</td>\n",
       "      <td>16.0</td>\n",
       "      <td>178.0</td>\n",
       "    </tr>\n",
       "    <tr>\n",
       "      <th>6</th>\n",
       "      <td>2</td>\n",
       "      <td>5927.650988</td>\n",
       "      <td>29.0</td>\n",
       "      <td>332.0</td>\n",
       "    </tr>\n",
       "    <tr>\n",
       "      <th>...</th>\n",
       "      <th>...</th>\n",
       "      <td>...</td>\n",
       "      <td>...</td>\n",
       "      <td>...</td>\n",
       "      <td>...</td>\n",
       "    </tr>\n",
       "    <tr>\n",
       "      <th rowspan=\"5\" valign=\"top\">1534</th>\n",
       "      <th>6</th>\n",
       "      <td>2</td>\n",
       "      <td>3409.468534</td>\n",
       "      <td>25.0</td>\n",
       "      <td>308.0</td>\n",
       "    </tr>\n",
       "    <tr>\n",
       "      <th>8</th>\n",
       "      <td>2</td>\n",
       "      <td>7622.453034</td>\n",
       "      <td>48.0</td>\n",
       "      <td>484.0</td>\n",
       "    </tr>\n",
       "    <tr>\n",
       "      <th>9</th>\n",
       "      <td>1</td>\n",
       "      <td>4928.173852</td>\n",
       "      <td>23.0</td>\n",
       "      <td>234.0</td>\n",
       "    </tr>\n",
       "    <tr>\n",
       "      <th>11</th>\n",
       "      <td>4</td>\n",
       "      <td>13350.015305</td>\n",
       "      <td>77.0</td>\n",
       "      <td>824.0</td>\n",
       "    </tr>\n",
       "    <tr>\n",
       "      <th>12</th>\n",
       "      <td>1</td>\n",
       "      <td>2371.711192</td>\n",
       "      <td>16.0</td>\n",
       "      <td>178.0</td>\n",
       "    </tr>\n",
       "  </tbody>\n",
       "</table>\n",
       "<p>6798 rows × 4 columns</p>\n",
       "</div>"
      ],
      "text/plain": [
       "               rides_count      distance  duration  revenue\n",
       "user_id month                                              \n",
       "700     1                1   2515.690719      15.0    170.0\n",
       "        2                5  13446.659764      86.0    962.0\n",
       "        3                1   3798.334905      19.0    202.0\n",
       "        4                1   2984.551206      16.0    178.0\n",
       "        6                2   5927.650988      29.0    332.0\n",
       "...                    ...           ...       ...      ...\n",
       "1534    6                2   3409.468534      25.0    308.0\n",
       "        8                2   7622.453034      48.0    484.0\n",
       "        9                1   4928.173852      23.0    234.0\n",
       "        11               4  13350.015305      77.0    824.0\n",
       "        12               1   2371.711192      16.0    178.0\n",
       "\n",
       "[6798 rows x 4 columns]"
      ]
     },
     "execution_count": 53,
     "metadata": {},
     "output_type": "execute_result"
    }
   ],
   "source": [
    "data_free_revenue = data_pivot.query('user_id not in @data_ultra_id.index')\n",
    "data_free_revenue"
   ]
  },
  {
   "cell_type": "code",
   "execution_count": 54,
   "id": "96a8df59",
   "metadata": {},
   "outputs": [
    {
     "name": "stdout",
     "output_type": "stream",
     "text": [
      "p-значение: 1.8850394384715216e-31\n",
      "Отвергаем нулевую гипотезу\n"
     ]
    }
   ],
   "source": [
    "alpha = 0.05 \n",
    "\n",
    "results = st.ttest_ind(data_ultra_revenue['revenue'], data_free_revenue['revenue'], alternative='greater')\n",
    "\n",
    "print('p-значение:', results.pvalue)\n",
    "\n",
    "if results.pvalue < alpha:\n",
    "    print('Отвергаем нулевую гипотезу')\n",
    "else:\n",
    "    print('Не получилось отвергнуть нулевую гипотезу')"
   ]
  },
  {
   "cell_type": "markdown",
   "id": "7cf1d593",
   "metadata": {},
   "source": [
    "Нулевая гипотеза отвергается. Таким образом можно сказать, помесячная выручка от пользователей с подпиской больше помесячной выручки от пользователей без подписки"
   ]
  },
  {
   "cell_type": "markdown",
   "id": "2e52b583",
   "metadata": {},
   "source": [
    "<div class=\"alert alert-block alert-success\">✔️\n",
    "    \n",
    "\n",
    "__Комментарий от ревьюера №1__\n",
    "\n",
    "Методологически проверка гипотез проведена верно и наглядный вывод результатов"
   ]
  },
  {
   "cell_type": "markdown",
   "id": "c3f71e83",
   "metadata": {},
   "source": [
    "**Гипотеза - будет ли снижение количества обращений в техподдержку после обновлений серверов, с которыми взаимодействует мобильное приложение**"
   ]
  },
  {
   "cell_type": "markdown",
   "id": "0c610e63",
   "metadata": {},
   "source": [
    "Техническая команда сервиса обновила сервера, с которыми взаимодействует мобильное приложение. Она надеется, что из-за этого количество обращений в техподдержку значимо снизилось. Некоторый файл содержит для каждого пользователя данные о количестве обращений до обновления и после него. Какой тест понадобится для проверки этой гипотезы"
   ]
  },
  {
   "cell_type": "markdown",
   "id": "8b9ab2ce",
   "metadata": {},
   "source": [
    "После сравнения выборок на соответствие уникальных пользователей и при условии совпадения, то для проверки гипотезы потребуется  scipy.stats.ttest_rel(alternative='less'). При условии независимых выборок для проверки гипотезы нужен тест st.ttest_ind(equal_var=False, alternative='less')"
   ]
  },
  {
   "cell_type": "markdown",
   "id": "f294ac6e",
   "metadata": {},
   "source": [
    "<div class=\"alert alert-block alert-success\">✔️\n",
    "    \n",
    "\n",
    "__Комментарий от ревьюера №1__\n",
    "\n",
    "Для решения потребуется тест на равенство средних для зависимых выборок, до и после изменений.>"
   ]
  },
  {
   "cell_type": "markdown",
   "id": "61213c5e",
   "metadata": {},
   "source": [
    "#### Общий вывод"
   ]
  },
  {
   "cell_type": "markdown",
   "id": "cbff631c",
   "metadata": {},
   "source": [
    "Мы провели статистический анализ данных сервиса аренды самокатов GoFast\n",
    "\n",
    "Целью исследования было проанализировать данные и проверить некоторые гипотезы, которые могут помочь бизнесу вырасти.\n",
    "\n",
    "**Этапы исследования и выводы:**\n",
    "\n",
    "**1. Загрузка данных**\n",
    "\n",
    "Мы загрузили данные из 3 таблиц, включающих в себя информацию по поездкам, пользователям и подпискам. Всего представлена информация по 1534 пользователям, 18068 поездкам, 2 типам подписки. В данных нет пропусков, дубликаты есть в таблице с пользователями. Тип данных корректный кроме столбца date в таблице с поездками.\n",
    "\n",
    "**2. Предобработка данных**\n",
    "\n",
    "Мы привели столбец date к нужному типу данных в таблице с поездками. Создали новый столбец с номером месяца на основе столбца date. И избавились от дубликатов в таблице users.\n",
    "\n",
    "**3. Исследовательский анализ данных**\n",
    "\n",
    "На основе исследовательского анализа данных мы установили, что всего представлено данных по 8 городам: Пятигорск (219 пользователей), Екатеринбург (204), Ростов-на-Дону (198), Краснодар (193), Сочи (189), Омск (183), Тюмень (180), Москва (168). Больше всего пользователей из Пятигорска, меньше всего из Москвы. Пользователей без подписки (835 пользователей) больше, чем пользователей с ней (699). Пользователи без подписки составляют 54,43% от общего числа юзеров, а с подпиской 45,57%. Минимальный возраст пользователей 12 лет, максимальный 43 года, средний возраст 25 лет. График расстояния поездок имеет 2 пика (на 3000 метров и 600 метров), распределение нормальное. Максимальное расстояние 7211 метров, среднее 3133 метра, минимальное меньше метра. График продолжительности поездок имеет нормальное распределение. Максимальная продолжительность поездок составляет 40 минут, минимальная меньше минуты, средняя 17 минут. \n",
    "\n",
    "**4. Объединение данных**\n",
    "\n",
    "Мы объединили данные в один датафрейм, а также создадим еще 2 датафрейма c данными о пользователях без подписки и с подпиской для визуализации информации о расстоянии поездок для пользователей обеих категорий. \n",
    "Максимальное расстояние у пользователей без подписки 7211 метров, а у пользователей с подпиской 5699 метров. На графике можно увидеть, что пользователи без подписки предпочитают более длинные поездки. Минимальное расстояние меньше у пользователей без подписки (меньше метра), чем у пользователей с подпиской (244 метра). Среднее расстояние при этом меньше у пользователей без подписки (3114 метра), чем с подпиской (3148 метров). На графике можно увидеть, что у пользователей с подпиской более отчетливо прослеживаются пики на 1000 и 3000 метрах. У пользователей без подписки тоже 2 пика на графике, но менее выраженные и с большим разбросом.\n",
    "\n",
    "Можно заметить, что пользователи с подпиской предпочитают более продолжительные поездки, их максимальное время составляет 40 минут, а минимальное 3 минуты. При этом по всем пунктам продолжительность поездок у пользователей без подписки меньше: максимальное время 34 минуты, минимальное меньше минуты. Количество поездок распределено нормально у обеих групп. Наблюдается пик в районе 17 минут. Также можно увидеть около 100 поездок у пользователей без подписки, у которых продолжительность поездки составляет 2-3 минуты.\n",
    "\n",
    "**5. Подсчёт выручки**\n",
    "\n",
    "Мы создали датафрейм с агрегированными данными о поездках: суммарное расстояние, количество поездок, суммарное время для каждого пользователя за каждый месяц и помесячная выручка. Помесячная выручка считается по формуле: стоимость старта поездки × количество поездок + стоимость одной минуты поездки × общая продолжительность всех поездок в минутах + стоимость подписки\n",
    "\n",
    "**6. Проверка гипотез**\n",
    "\n",
    "**Мы проверили гипотезу о том, что пользователи с подпиской тратят больше времени на поездки.**\n",
    "\n",
    "Нулевая гипотеза: Средняя продолжительность поездок пользователей с подпиской и пользователей без подписки равны\n",
    "Альтернативная гипотеза: Средняя продолжительность поездок с подпиской больше средней продолжительности поездок без подписки\n",
    "\n",
    "В результате тестирования нулевая гипотеза отвергается. Таким образом можно сказать, что средняя продолжительность поездок с подпиской больше средней продолжительности поездок без подписки. Пользователи с подпиской будут более выгодными для компании.\n",
    "\n",
    "**Вторая гипотеза была о том, что среднее расстояние, которое проезжают пользователи с подпиской за одну поездку, не превышает 3130 метров. Расстояние одной поездки в 3130 метров — оптимальное с точки зрения износа самоката.**\n",
    "\n",
    "Нулевая гипотеза: Среднее расстояние, которое проезжают пользователи с подпиской за одну поездку, равно 3130 метров\n",
    "Альтернативная гипотеза: Среднее расстояние, которое проезжают пользователи с подпиской за одну поездку, больше 3130 метров\n",
    "\n",
    "В результате тестирования нулевую гипотезу не получилось отвергнуть. Таким образом можно сказать, что среднее расстояние, которое проезжают пользователи с подпиской за одну поездку, не превышает расстоянием в 3130 метров\n",
    "\n",
    "**Третья гипотеза позволяла узнать, будет ли помесячная выручка от пользователей с подпиской по месяцам выше, чем выручка от пользователей без подписки.**\n",
    "\n",
    "Нулевая гипотеза: Помесячная выручка от пользователей с подпиской равна помесячной выручке от пользователей без подписки\n",
    "Альтернативная гипотеза: Помесячная выручка от пользователей с подпиской больше помесячной выручки от пользователей без подписки\n",
    "\n",
    "В результате тестирования нулевая гипотеза отвергается. Таким образом можно сказать, помесячная выручка от пользователей с подпиской больше помесячной выручки от пользователей без подписки\n",
    "\n",
    "**7. Рекомендации по развитию сервиса**\n",
    "\n",
    "Для развития сервиса необходимо увеличение количества пользователей с оплаченной подпиской. Так как помесячная выручка от пользователей с подпиской больше выручки от пользователей без нее, то необходимо усилить продвижение оформления подписки. Можно ввести различне маркетинговые акции, промокоды. Также можно подумать над увеличением видов подписок по разным тарифам, не только по одному. Также рекомендуется увеличить среднее время продолжительности поездок пользователей за счет введения различных бонусов, программ лояльности.\n"
   ]
  },
  {
   "cell_type": "markdown",
   "id": "6fe0314a",
   "metadata": {},
   "source": [
    "<div class=\"alert alert-block alert-warning\">📝\n",
    "    \n",
    "\n",
    "__Комментарий от ревьюера №1__\n",
    "\n",
    "Итоговый вывод завершает твое исследование. Представлены основные результаты полученные в ходе анализа, но не увидел каких либо рекомендаций по развитию аренды самокатов в разрезе твоего исследования. Добавь, пожалуйста\n",
    "\n",
    "Не забудь подкорректировать вывод после исправлений\n",
    "</div>"
   ]
  },
  {
   "cell_type": "markdown",
   "id": "00c46b2a",
   "metadata": {},
   "source": [
    "<div class=\"alert alert-info\"> <b>Спасибо большое за комментарии :)</div>"
   ]
  },
  {
   "cell_type": "markdown",
   "id": "c1eef278",
   "metadata": {},
   "source": [
    "<div class=\"alert alert-block alert-success\">✔️\n",
    "    \n",
    "\n",
    "__Комментарий от ревьюера №2__\n",
    "\n",
    "Это тебе спасибо за обратную связь и классные рекомендации!)"
   ]
  },
  {
   "cell_type": "markdown",
   "id": "994cf395",
   "metadata": {},
   "source": [
    "<div class=\"alert alert-block alert-warning\">📝\n",
    "Комментарий от ревьюера №1 </b> \n",
    "\n",
    "\n",
    "\n",
    "У тебя получилась очень сильная и хорошая работа. Здорово, что расчеты ты сопровождаешь иллюстрациями, а так же не забываешь про комментарии, твой проект интересно проверять. \n",
    "\n",
    "---\n",
    "\n",
    "Нужно поправить:\n",
    "\n",
    "\n",
    "1) Проверка  датафреймов до/после работы с ними\n",
    "\n",
    "2) После каждого раздела / графика (или серии тестов) писать вывод по полученным данным с учетом поставленной бизнес задачи\n",
    "\n",
    "3) Подправить выводы, после изменений\n",
    "\n",
    "----\n",
    "\n",
    "\n",
    "Если у тебя будут какие-то вопросы по моим комментариям - обязательно пиши! Буду ждать работу на повторное ревью :)</div>"
   ]
  },
  {
   "cell_type": "markdown",
   "id": "82c7a77d",
   "metadata": {},
   "source": [
    "<div style=\"border:solid blue 3px; padding: 20px\">\n",
    "<div class=\"alert alert-block alert-success\">✔️\n",
    "    \n",
    "\n",
    "__Коментарий от ревьюера №2__\n",
    "\n",
    "\n",
    "В остальном всё чудно😊. Твой проект так и просится на github =)   \n",
    "    \n",
    "Поздравляю с успешным завершением проекта 😊👍\n",
    "И желаю успехов в новых работах 😊\n",
    "    \n",
    "---\n",
    "    \n",
    "От себя хочу порекомендовать тебе отличный метариал по статистике. \n",
    "    \n",
    "* Курс \"Вероятность и статистика\" | Глеб Михайлов (free): https://www.youtube.com/playlist?list=PLQJ7ptkRY-xbHLLI66KdscKp_FJt0FsIi\n",
    "    \n",
    "* Методы обнаружения выбросов: https://youtu.be/TOK7Kq7x0yc\n",
    "    \n",
    "\n",
    "</div>"
   ]
  }
 ],
 "metadata": {
  "ExecuteTimeLog": [
   {
    "duration": 1457,
    "start_time": "2024-10-20T13:36:35.433Z"
   },
   {
    "duration": 370,
    "start_time": "2024-10-20T13:36:39.181Z"
   },
   {
    "duration": 18,
    "start_time": "2024-10-20T13:36:46.682Z"
   },
   {
    "duration": 19,
    "start_time": "2024-10-20T13:37:05.661Z"
   },
   {
    "duration": 16,
    "start_time": "2024-10-20T13:37:16.507Z"
   },
   {
    "duration": 7,
    "start_time": "2024-10-20T13:44:36.507Z"
   },
   {
    "duration": 6,
    "start_time": "2024-10-20T13:44:48.192Z"
   },
   {
    "duration": 5,
    "start_time": "2024-10-20T13:45:54.842Z"
   },
   {
    "duration": 5,
    "start_time": "2024-10-20T13:46:20.299Z"
   },
   {
    "duration": 99,
    "start_time": "2024-10-20T13:46:24.634Z"
   },
   {
    "duration": 7,
    "start_time": "2024-10-20T13:46:42.918Z"
   },
   {
    "duration": 4,
    "start_time": "2024-10-20T13:50:01.803Z"
   },
   {
    "duration": 13,
    "start_time": "2024-10-20T13:52:50.657Z"
   },
   {
    "duration": 12,
    "start_time": "2024-10-20T13:52:59.119Z"
   },
   {
    "duration": 18,
    "start_time": "2024-10-20T13:53:07.238Z"
   },
   {
    "duration": 7,
    "start_time": "2024-10-20T13:54:54.971Z"
   },
   {
    "duration": 7,
    "start_time": "2024-10-20T13:56:39.128Z"
   },
   {
    "duration": 15,
    "start_time": "2024-10-20T13:56:48.410Z"
   },
   {
    "duration": 17,
    "start_time": "2024-10-20T13:56:59.244Z"
   },
   {
    "duration": 59,
    "start_time": "2024-10-20T13:58:27.661Z"
   },
   {
    "duration": 12,
    "start_time": "2024-10-20T13:59:35.022Z"
   },
   {
    "duration": 14,
    "start_time": "2024-10-20T14:02:04.537Z"
   },
   {
    "duration": 13,
    "start_time": "2024-10-20T14:02:11.699Z"
   },
   {
    "duration": 9,
    "start_time": "2024-10-20T14:02:25.459Z"
   },
   {
    "duration": 12,
    "start_time": "2024-10-20T14:02:31.690Z"
   },
   {
    "duration": 7,
    "start_time": "2024-10-20T14:02:39.204Z"
   },
   {
    "duration": 8,
    "start_time": "2024-10-20T14:04:14.730Z"
   },
   {
    "duration": 15,
    "start_time": "2024-10-20T14:04:55.901Z"
   },
   {
    "duration": 12,
    "start_time": "2024-10-20T14:05:10.594Z"
   },
   {
    "duration": 11,
    "start_time": "2024-10-20T14:05:32.993Z"
   },
   {
    "duration": 11,
    "start_time": "2024-10-20T14:05:40.251Z"
   },
   {
    "duration": 15,
    "start_time": "2024-10-20T14:05:54.683Z"
   },
   {
    "duration": 11,
    "start_time": "2024-10-20T14:06:39.317Z"
   },
   {
    "duration": 14,
    "start_time": "2024-10-20T14:06:58.363Z"
   },
   {
    "duration": 7,
    "start_time": "2024-10-20T14:07:21.339Z"
   },
   {
    "duration": 14,
    "start_time": "2024-10-20T14:08:44.747Z"
   },
   {
    "duration": 16,
    "start_time": "2024-10-20T14:09:40.893Z"
   },
   {
    "duration": 6,
    "start_time": "2024-10-20T14:10:38.303Z"
   },
   {
    "duration": 5,
    "start_time": "2024-10-20T14:14:09.553Z"
   },
   {
    "duration": 177,
    "start_time": "2024-10-20T14:16:07.911Z"
   },
   {
    "duration": 173,
    "start_time": "2024-10-20T14:16:22.568Z"
   },
   {
    "duration": 137,
    "start_time": "2024-10-20T14:16:42.276Z"
   },
   {
    "duration": 6,
    "start_time": "2024-10-20T14:16:55.894Z"
   },
   {
    "duration": 12,
    "start_time": "2024-10-20T14:17:03.374Z"
   },
   {
    "duration": 14,
    "start_time": "2024-10-20T14:17:51.398Z"
   },
   {
    "duration": 16,
    "start_time": "2024-10-20T14:18:12.873Z"
   },
   {
    "duration": 13,
    "start_time": "2024-10-20T14:18:26.414Z"
   },
   {
    "duration": 166,
    "start_time": "2024-10-20T14:18:53.253Z"
   },
   {
    "duration": 150,
    "start_time": "2024-10-20T14:19:07.686Z"
   },
   {
    "duration": 165,
    "start_time": "2024-10-20T14:19:16.621Z"
   },
   {
    "duration": 162,
    "start_time": "2024-10-20T14:20:07.685Z"
   },
   {
    "duration": 169,
    "start_time": "2024-10-20T14:20:26.213Z"
   },
   {
    "duration": 183,
    "start_time": "2024-10-20T14:21:14.245Z"
   },
   {
    "duration": 243,
    "start_time": "2024-10-20T14:22:04.925Z"
   },
   {
    "duration": 172,
    "start_time": "2024-10-20T14:22:14.159Z"
   },
   {
    "duration": 131,
    "start_time": "2024-10-20T14:22:27.215Z"
   },
   {
    "duration": 173,
    "start_time": "2024-10-20T14:22:36.794Z"
   },
   {
    "duration": 13,
    "start_time": "2024-10-20T14:22:57.638Z"
   },
   {
    "duration": 162,
    "start_time": "2024-10-20T14:23:12.531Z"
   },
   {
    "duration": 14,
    "start_time": "2024-10-20T14:25:04.962Z"
   },
   {
    "duration": 147,
    "start_time": "2024-10-20T14:25:16.063Z"
   },
   {
    "duration": 140,
    "start_time": "2024-10-20T14:25:23.157Z"
   },
   {
    "duration": 12,
    "start_time": "2024-10-20T14:27:28.194Z"
   },
   {
    "duration": 148,
    "start_time": "2024-10-20T14:27:55.574Z"
   },
   {
    "duration": 149,
    "start_time": "2024-10-20T14:29:03.173Z"
   },
   {
    "duration": 152,
    "start_time": "2024-10-20T14:29:22.277Z"
   },
   {
    "duration": 14,
    "start_time": "2024-10-20T14:32:34.575Z"
   },
   {
    "duration": 8,
    "start_time": "2024-10-20T14:34:33.211Z"
   },
   {
    "duration": 182,
    "start_time": "2024-10-20T14:34:54.450Z"
   },
   {
    "duration": 174,
    "start_time": "2024-10-20T14:38:03.177Z"
   },
   {
    "duration": 15,
    "start_time": "2024-10-20T14:38:28.627Z"
   },
   {
    "duration": 8,
    "start_time": "2024-10-20T14:40:42.940Z"
   },
   {
    "duration": 308,
    "start_time": "2024-10-20T14:40:54.191Z"
   },
   {
    "duration": 1551,
    "start_time": "2024-10-20T14:41:02.698Z"
   },
   {
    "duration": 218,
    "start_time": "2024-10-20T14:41:09.070Z"
   },
   {
    "duration": 168,
    "start_time": "2024-10-20T14:41:18.924Z"
   },
   {
    "duration": 205,
    "start_time": "2024-10-20T14:41:24.320Z"
   },
   {
    "duration": 219,
    "start_time": "2024-10-20T14:41:42.655Z"
   },
   {
    "duration": 207,
    "start_time": "2024-10-20T14:41:52.893Z"
   },
   {
    "duration": 216,
    "start_time": "2024-10-20T14:43:14.393Z"
   },
   {
    "duration": 14,
    "start_time": "2024-10-20T14:46:37.610Z"
   },
   {
    "duration": 8,
    "start_time": "2024-10-20T14:46:43.758Z"
   },
   {
    "duration": 217,
    "start_time": "2024-10-20T14:47:24.211Z"
   },
   {
    "duration": 18,
    "start_time": "2024-10-20T16:13:54.966Z"
   },
   {
    "duration": 15,
    "start_time": "2024-10-20T16:14:05.957Z"
   },
   {
    "duration": 7,
    "start_time": "2024-10-20T16:15:23.798Z"
   },
   {
    "duration": 14,
    "start_time": "2024-10-20T16:15:32.705Z"
   },
   {
    "duration": 13,
    "start_time": "2024-10-20T16:15:53.603Z"
   },
   {
    "duration": 33,
    "start_time": "2024-10-20T16:16:40.440Z"
   },
   {
    "duration": 23,
    "start_time": "2024-10-20T16:20:07.890Z"
   },
   {
    "duration": 22,
    "start_time": "2024-10-20T16:20:10.167Z"
   },
   {
    "duration": 263,
    "start_time": "2024-10-20T16:33:31.464Z"
   },
   {
    "duration": 337,
    "start_time": "2024-10-20T16:33:41.893Z"
   },
   {
    "duration": 117,
    "start_time": "2024-10-20T16:33:50.887Z"
   },
   {
    "duration": 120,
    "start_time": "2024-10-20T16:34:00.011Z"
   },
   {
    "duration": 168,
    "start_time": "2024-10-20T16:34:19.173Z"
   },
   {
    "duration": 158,
    "start_time": "2024-10-20T16:34:31.466Z"
   },
   {
    "duration": 306,
    "start_time": "2024-10-20T16:35:31.851Z"
   },
   {
    "duration": 318,
    "start_time": "2024-10-20T16:35:47.422Z"
   },
   {
    "duration": 267,
    "start_time": "2024-10-20T16:37:02.711Z"
   },
   {
    "duration": 248,
    "start_time": "2024-10-20T16:37:08.113Z"
   },
   {
    "duration": 393,
    "start_time": "2024-10-20T16:37:11.548Z"
   },
   {
    "duration": 14,
    "start_time": "2024-10-20T16:38:14.608Z"
   },
   {
    "duration": 15,
    "start_time": "2024-10-20T16:38:25.860Z"
   },
   {
    "duration": 10,
    "start_time": "2024-10-20T16:38:39.680Z"
   },
   {
    "duration": 15,
    "start_time": "2024-10-20T16:38:41.599Z"
   },
   {
    "duration": 9,
    "start_time": "2024-10-20T16:53:07.994Z"
   },
   {
    "duration": 9,
    "start_time": "2024-10-20T16:53:22.709Z"
   },
   {
    "duration": 269,
    "start_time": "2024-10-20T16:53:57.033Z"
   },
   {
    "duration": 19,
    "start_time": "2024-10-20T17:02:28.182Z"
   },
   {
    "duration": 18,
    "start_time": "2024-10-20T17:04:53.728Z"
   },
   {
    "duration": 20,
    "start_time": "2024-10-20T17:05:24.693Z"
   },
   {
    "duration": 16,
    "start_time": "2024-10-20T17:05:31.243Z"
   },
   {
    "duration": 19,
    "start_time": "2024-10-20T17:05:34.150Z"
   },
   {
    "duration": 17,
    "start_time": "2024-10-20T17:06:04.395Z"
   },
   {
    "duration": 12,
    "start_time": "2024-10-20T17:06:35.732Z"
   },
   {
    "duration": 8,
    "start_time": "2024-10-20T17:06:42.410Z"
   },
   {
    "duration": 9,
    "start_time": "2024-10-20T17:08:19.342Z"
   },
   {
    "duration": 20,
    "start_time": "2024-10-20T17:09:17.441Z"
   },
   {
    "duration": 72,
    "start_time": "2024-10-20T17:10:18.862Z"
   },
   {
    "duration": 13,
    "start_time": "2024-10-20T17:10:19.273Z"
   },
   {
    "duration": 11,
    "start_time": "2024-10-20T17:10:19.497Z"
   },
   {
    "duration": 16,
    "start_time": "2024-10-20T17:10:19.657Z"
   },
   {
    "duration": 4,
    "start_time": "2024-10-20T17:10:19.943Z"
   },
   {
    "duration": 15,
    "start_time": "2024-10-20T17:10:20.395Z"
   },
   {
    "duration": 16,
    "start_time": "2024-10-20T17:10:20.557Z"
   },
   {
    "duration": 26,
    "start_time": "2024-10-20T17:10:20.722Z"
   },
   {
    "duration": 10,
    "start_time": "2024-10-20T17:10:21.001Z"
   },
   {
    "duration": 13,
    "start_time": "2024-10-20T17:10:21.163Z"
   },
   {
    "duration": 18,
    "start_time": "2024-10-20T17:10:21.298Z"
   },
   {
    "duration": 7,
    "start_time": "2024-10-20T17:10:21.943Z"
   },
   {
    "duration": 9,
    "start_time": "2024-10-20T17:10:22.359Z"
   },
   {
    "duration": 18,
    "start_time": "2024-10-20T17:10:22.679Z"
   },
   {
    "duration": 18,
    "start_time": "2024-10-20T17:10:22.816Z"
   },
   {
    "duration": 5,
    "start_time": "2024-10-20T17:10:22.967Z"
   },
   {
    "duration": 17,
    "start_time": "2024-10-20T17:10:23.484Z"
   },
   {
    "duration": 171,
    "start_time": "2024-10-20T17:10:23.643Z"
   },
   {
    "duration": 13,
    "start_time": "2024-10-20T17:10:24.085Z"
   },
   {
    "duration": 149,
    "start_time": "2024-10-20T17:10:24.399Z"
   },
   {
    "duration": 8,
    "start_time": "2024-10-20T17:10:24.879Z"
   },
   {
    "duration": 172,
    "start_time": "2024-10-20T17:10:25.031Z"
   },
   {
    "duration": 12,
    "start_time": "2024-10-20T17:10:25.779Z"
   },
   {
    "duration": 196,
    "start_time": "2024-10-20T17:10:26.180Z"
   },
   {
    "duration": 10,
    "start_time": "2024-10-20T17:10:27.006Z"
   },
   {
    "duration": 199,
    "start_time": "2024-10-20T17:10:27.278Z"
   },
   {
    "duration": 32,
    "start_time": "2024-10-20T17:10:29.270Z"
   },
   {
    "duration": 24,
    "start_time": "2024-10-20T17:10:29.584Z"
   },
   {
    "duration": 22,
    "start_time": "2024-10-20T17:10:29.928Z"
   },
   {
    "duration": 9,
    "start_time": "2024-10-20T17:10:30.479Z"
   },
   {
    "duration": 9,
    "start_time": "2024-10-20T17:10:30.658Z"
   },
   {
    "duration": 257,
    "start_time": "2024-10-20T17:10:30.850Z"
   },
   {
    "duration": 8,
    "start_time": "2024-10-20T17:10:34.402Z"
   },
   {
    "duration": 9,
    "start_time": "2024-10-20T17:10:34.818Z"
   },
   {
    "duration": 383,
    "start_time": "2024-10-20T17:10:36.200Z"
   },
   {
    "duration": 35,
    "start_time": "2024-10-20T17:12:25.301Z"
   },
   {
    "duration": 16,
    "start_time": "2024-10-20T17:12:30.789Z"
   },
   {
    "duration": 17,
    "start_time": "2024-10-20T17:13:08.913Z"
   },
   {
    "duration": 21,
    "start_time": "2024-10-20T17:13:10.372Z"
   },
   {
    "duration": 10,
    "start_time": "2024-10-20T17:21:09.756Z"
   },
   {
    "duration": 31,
    "start_time": "2024-10-20T17:21:40.323Z"
   },
   {
    "duration": 13,
    "start_time": "2024-10-20T17:23:01.467Z"
   },
   {
    "duration": 16,
    "start_time": "2024-10-20T17:23:10.268Z"
   },
   {
    "duration": 13,
    "start_time": "2024-10-20T17:26:37.150Z"
   },
   {
    "duration": 6,
    "start_time": "2024-10-20T17:27:31.895Z"
   },
   {
    "duration": 12,
    "start_time": "2024-10-20T17:27:39.712Z"
   },
   {
    "duration": 14,
    "start_time": "2024-10-20T17:28:58.796Z"
   },
   {
    "duration": 19,
    "start_time": "2024-10-20T17:30:01.263Z"
   },
   {
    "duration": 82,
    "start_time": "2024-10-20T17:32:13.200Z"
   },
   {
    "duration": 15,
    "start_time": "2024-10-20T17:32:13.551Z"
   },
   {
    "duration": 10,
    "start_time": "2024-10-20T17:32:13.687Z"
   },
   {
    "duration": 16,
    "start_time": "2024-10-20T17:32:13.935Z"
   },
   {
    "duration": 5,
    "start_time": "2024-10-20T17:32:14.079Z"
   },
   {
    "duration": 12,
    "start_time": "2024-10-20T17:32:14.392Z"
   },
   {
    "duration": 13,
    "start_time": "2024-10-20T17:32:14.528Z"
   },
   {
    "duration": 20,
    "start_time": "2024-10-20T17:32:14.657Z"
   },
   {
    "duration": 10,
    "start_time": "2024-10-20T17:32:14.954Z"
   },
   {
    "duration": 16,
    "start_time": "2024-10-20T17:32:15.107Z"
   },
   {
    "duration": 25,
    "start_time": "2024-10-20T17:32:15.267Z"
   },
   {
    "duration": 8,
    "start_time": "2024-10-20T17:32:16.104Z"
   },
   {
    "duration": 8,
    "start_time": "2024-10-20T17:32:16.426Z"
   },
   {
    "duration": 13,
    "start_time": "2024-10-20T17:32:16.756Z"
   },
   {
    "duration": 20,
    "start_time": "2024-10-20T17:32:16.915Z"
   },
   {
    "duration": 5,
    "start_time": "2024-10-20T17:32:17.068Z"
   },
   {
    "duration": 18,
    "start_time": "2024-10-20T17:32:17.552Z"
   },
   {
    "duration": 216,
    "start_time": "2024-10-20T17:32:17.702Z"
   },
   {
    "duration": 14,
    "start_time": "2024-10-20T17:32:18.214Z"
   },
   {
    "duration": 214,
    "start_time": "2024-10-20T17:32:18.368Z"
   },
   {
    "duration": 9,
    "start_time": "2024-10-20T17:32:18.824Z"
   },
   {
    "duration": 197,
    "start_time": "2024-10-20T17:32:19.018Z"
   },
   {
    "duration": 12,
    "start_time": "2024-10-20T17:32:19.504Z"
   },
   {
    "duration": 237,
    "start_time": "2024-10-20T17:32:19.682Z"
   },
   {
    "duration": 9,
    "start_time": "2024-10-20T17:32:20.899Z"
   },
   {
    "duration": 209,
    "start_time": "2024-10-20T17:32:21.058Z"
   },
   {
    "duration": 35,
    "start_time": "2024-10-20T17:32:21.917Z"
   },
   {
    "duration": 25,
    "start_time": "2024-10-20T17:32:24.261Z"
   },
   {
    "duration": 25,
    "start_time": "2024-10-20T17:32:25.812Z"
   },
   {
    "duration": 10,
    "start_time": "2024-10-20T17:32:28.275Z"
   },
   {
    "duration": 11,
    "start_time": "2024-10-20T17:32:29.643Z"
   },
   {
    "duration": 277,
    "start_time": "2024-10-20T17:32:30.299Z"
   },
   {
    "duration": 40,
    "start_time": "2024-10-20T17:32:42.878Z"
   },
   {
    "duration": 24,
    "start_time": "2024-10-20T17:32:51.703Z"
   },
   {
    "duration": 13,
    "start_time": "2024-10-20T17:33:22.399Z"
   },
   {
    "duration": 16,
    "start_time": "2024-10-20T17:33:30.612Z"
   },
   {
    "duration": 19,
    "start_time": "2024-10-20T17:35:17.543Z"
   },
   {
    "duration": 6,
    "start_time": "2024-10-20T17:37:06.636Z"
   },
   {
    "duration": 6,
    "start_time": "2024-10-20T17:37:49.842Z"
   },
   {
    "duration": 25,
    "start_time": "2024-10-20T17:38:48.086Z"
   },
   {
    "duration": 7,
    "start_time": "2024-10-20T17:39:25.875Z"
   },
   {
    "duration": 140,
    "start_time": "2024-10-20T17:39:28.361Z"
   },
   {
    "duration": 20,
    "start_time": "2024-10-20T17:39:39.935Z"
   },
   {
    "duration": 17,
    "start_time": "2024-10-20T17:40:53.260Z"
   },
   {
    "duration": 16,
    "start_time": "2024-10-20T17:41:45.815Z"
   },
   {
    "duration": 70,
    "start_time": "2024-10-20T17:52:16.641Z"
   },
   {
    "duration": 13,
    "start_time": "2024-10-20T17:52:16.793Z"
   },
   {
    "duration": 10,
    "start_time": "2024-10-20T17:52:16.936Z"
   },
   {
    "duration": 15,
    "start_time": "2024-10-20T17:52:17.089Z"
   },
   {
    "duration": 4,
    "start_time": "2024-10-20T17:52:17.234Z"
   },
   {
    "duration": 12,
    "start_time": "2024-10-20T17:52:17.522Z"
   },
   {
    "duration": 11,
    "start_time": "2024-10-20T17:52:17.666Z"
   },
   {
    "duration": 19,
    "start_time": "2024-10-20T17:52:17.802Z"
   },
   {
    "duration": 7,
    "start_time": "2024-10-20T17:52:18.111Z"
   },
   {
    "duration": 9,
    "start_time": "2024-10-20T17:52:18.267Z"
   },
   {
    "duration": 19,
    "start_time": "2024-10-20T17:52:18.442Z"
   },
   {
    "duration": 8,
    "start_time": "2024-10-20T17:52:19.085Z"
   },
   {
    "duration": 7,
    "start_time": "2024-10-20T17:52:19.406Z"
   },
   {
    "duration": 12,
    "start_time": "2024-10-20T17:52:19.706Z"
   },
   {
    "duration": 14,
    "start_time": "2024-10-20T17:52:19.858Z"
   },
   {
    "duration": 4,
    "start_time": "2024-10-20T17:52:20.019Z"
   },
   {
    "duration": 12,
    "start_time": "2024-10-20T17:52:20.502Z"
   },
   {
    "duration": 169,
    "start_time": "2024-10-20T17:52:20.665Z"
   },
   {
    "duration": 13,
    "start_time": "2024-10-20T17:52:21.131Z"
   },
   {
    "duration": 150,
    "start_time": "2024-10-20T17:52:21.290Z"
   },
   {
    "duration": 8,
    "start_time": "2024-10-20T17:52:21.782Z"
   },
   {
    "duration": 172,
    "start_time": "2024-10-20T17:52:21.943Z"
   },
   {
    "duration": 9,
    "start_time": "2024-10-20T17:52:22.414Z"
   },
   {
    "duration": 216,
    "start_time": "2024-10-20T17:52:22.585Z"
   },
   {
    "duration": 9,
    "start_time": "2024-10-20T17:52:23.457Z"
   },
   {
    "duration": 200,
    "start_time": "2024-10-20T17:52:23.613Z"
   },
   {
    "duration": 31,
    "start_time": "2024-10-20T17:52:24.629Z"
   },
   {
    "duration": 22,
    "start_time": "2024-10-20T17:52:25.149Z"
   },
   {
    "duration": 23,
    "start_time": "2024-10-20T17:52:25.663Z"
   },
   {
    "duration": 9,
    "start_time": "2024-10-20T17:52:26.510Z"
   },
   {
    "duration": 8,
    "start_time": "2024-10-20T17:52:26.943Z"
   },
   {
    "duration": 256,
    "start_time": "2024-10-20T17:52:27.743Z"
   },
   {
    "duration": 33,
    "start_time": "2024-10-20T17:52:37.355Z"
   },
   {
    "duration": 26,
    "start_time": "2024-10-20T17:52:46.939Z"
   },
   {
    "duration": 29,
    "start_time": "2024-10-20T17:53:26.093Z"
   },
   {
    "duration": 16,
    "start_time": "2024-10-20T17:55:03.905Z"
   },
   {
    "duration": 7,
    "start_time": "2024-10-20T18:26:54.420Z"
   },
   {
    "duration": 7,
    "start_time": "2024-10-20T19:49:03.813Z"
   },
   {
    "duration": 5,
    "start_time": "2024-10-20T19:50:30.670Z"
   },
   {
    "duration": 5,
    "start_time": "2024-10-20T19:53:25.204Z"
   },
   {
    "duration": 5,
    "start_time": "2024-10-20T19:53:54.564Z"
   },
   {
    "duration": 5,
    "start_time": "2024-10-20T19:54:12.279Z"
   },
   {
    "duration": 5,
    "start_time": "2024-10-20T19:54:21.638Z"
   },
   {
    "duration": 5,
    "start_time": "2024-10-20T19:54:34.937Z"
   },
   {
    "duration": 73,
    "start_time": "2024-10-20T20:04:48.858Z"
   },
   {
    "duration": 16,
    "start_time": "2024-10-20T20:04:49.241Z"
   },
   {
    "duration": 10,
    "start_time": "2024-10-20T20:04:49.409Z"
   },
   {
    "duration": 15,
    "start_time": "2024-10-20T20:04:49.570Z"
   },
   {
    "duration": 5,
    "start_time": "2024-10-20T20:04:49.733Z"
   },
   {
    "duration": 13,
    "start_time": "2024-10-20T20:04:50.045Z"
   },
   {
    "duration": 12,
    "start_time": "2024-10-20T20:04:50.207Z"
   },
   {
    "duration": 18,
    "start_time": "2024-10-20T20:04:50.386Z"
   },
   {
    "duration": 9,
    "start_time": "2024-10-20T20:04:50.734Z"
   },
   {
    "duration": 11,
    "start_time": "2024-10-20T20:04:50.901Z"
   },
   {
    "duration": 18,
    "start_time": "2024-10-20T20:04:51.069Z"
   },
   {
    "duration": 9,
    "start_time": "2024-10-20T20:04:51.765Z"
   },
   {
    "duration": 8,
    "start_time": "2024-10-20T20:04:52.111Z"
   },
   {
    "duration": 12,
    "start_time": "2024-10-20T20:04:52.447Z"
   },
   {
    "duration": 16,
    "start_time": "2024-10-20T20:04:52.607Z"
   },
   {
    "duration": 4,
    "start_time": "2024-10-20T20:04:52.782Z"
   },
   {
    "duration": 14,
    "start_time": "2024-10-20T20:04:53.289Z"
   },
   {
    "duration": 277,
    "start_time": "2024-10-20T20:04:53.442Z"
   },
   {
    "duration": 11,
    "start_time": "2024-10-20T20:04:53.947Z"
   },
   {
    "duration": 142,
    "start_time": "2024-10-20T20:04:54.126Z"
   },
   {
    "duration": 7,
    "start_time": "2024-10-20T20:04:54.640Z"
   },
   {
    "duration": 213,
    "start_time": "2024-10-20T20:04:54.832Z"
   },
   {
    "duration": 8,
    "start_time": "2024-10-20T20:04:56.179Z"
   },
   {
    "duration": 203,
    "start_time": "2024-10-20T20:04:56.348Z"
   },
   {
    "duration": 9,
    "start_time": "2024-10-20T20:04:59.276Z"
   },
   {
    "duration": 200,
    "start_time": "2024-10-20T20:04:59.454Z"
   },
   {
    "duration": 34,
    "start_time": "2024-10-20T20:05:02.192Z"
   },
   {
    "duration": 22,
    "start_time": "2024-10-20T20:05:03.817Z"
   },
   {
    "duration": 21,
    "start_time": "2024-10-20T20:05:03.996Z"
   },
   {
    "duration": 19,
    "start_time": "2024-10-20T20:05:21.145Z"
   },
   {
    "duration": 33,
    "start_time": "2024-10-20T20:07:24.344Z"
   },
   {
    "duration": 36,
    "start_time": "2024-10-20T20:07:26.556Z"
   },
   {
    "duration": 22,
    "start_time": "2024-10-20T20:07:44.358Z"
   },
   {
    "duration": 9,
    "start_time": "2024-10-20T20:08:27.846Z"
   },
   {
    "duration": 22,
    "start_time": "2024-10-20T20:08:57.795Z"
   },
   {
    "duration": 9,
    "start_time": "2024-10-20T20:09:11.093Z"
   },
   {
    "duration": 33,
    "start_time": "2024-10-20T20:09:39.477Z"
   },
   {
    "duration": 33,
    "start_time": "2024-10-20T20:10:11.831Z"
   },
   {
    "duration": 31,
    "start_time": "2024-10-20T20:12:10.386Z"
   },
   {
    "duration": 28,
    "start_time": "2024-10-20T20:12:12.367Z"
   },
   {
    "duration": 9,
    "start_time": "2024-10-20T20:12:22.187Z"
   },
   {
    "duration": 32,
    "start_time": "2024-10-20T20:12:30.111Z"
   },
   {
    "duration": 22,
    "start_time": "2024-10-20T20:13:27.283Z"
   },
   {
    "duration": 44,
    "start_time": "2024-10-20T20:13:38.938Z"
   },
   {
    "duration": 34,
    "start_time": "2024-10-20T20:13:40.990Z"
   },
   {
    "duration": 1072,
    "start_time": "2024-10-20T20:15:09.936Z"
   },
   {
    "duration": 10,
    "start_time": "2024-10-20T20:16:27.071Z"
   },
   {
    "duration": 940,
    "start_time": "2024-10-20T20:16:39.277Z"
   },
   {
    "duration": 1093,
    "start_time": "2024-10-20T20:16:48.936Z"
   },
   {
    "duration": 32,
    "start_time": "2024-10-20T20:17:52.551Z"
   },
   {
    "duration": 26,
    "start_time": "2024-10-20T20:17:57.020Z"
   },
   {
    "duration": 21,
    "start_time": "2024-10-20T20:18:05.963Z"
   },
   {
    "duration": 27,
    "start_time": "2024-10-20T20:20:38.924Z"
   },
   {
    "duration": 30,
    "start_time": "2024-10-20T20:20:52.865Z"
   },
   {
    "duration": 8,
    "start_time": "2024-10-20T20:21:10.741Z"
   },
   {
    "duration": 6,
    "start_time": "2024-10-20T20:21:36.785Z"
   },
   {
    "duration": 22,
    "start_time": "2024-10-20T20:21:53.487Z"
   },
   {
    "duration": 31,
    "start_time": "2024-10-20T20:22:04.264Z"
   },
   {
    "duration": 29,
    "start_time": "2024-10-20T20:22:06.238Z"
   },
   {
    "duration": 4,
    "start_time": "2024-10-20T20:22:10.274Z"
   },
   {
    "duration": 5,
    "start_time": "2024-10-20T20:22:11.582Z"
   },
   {
    "duration": 18,
    "start_time": "2024-10-20T20:22:12.552Z"
   },
   {
    "duration": 30,
    "start_time": "2024-10-20T20:22:33.344Z"
   },
   {
    "duration": 26,
    "start_time": "2024-10-20T20:22:34.552Z"
   },
   {
    "duration": 3,
    "start_time": "2024-10-20T20:22:37.410Z"
   },
   {
    "duration": 5,
    "start_time": "2024-10-20T20:22:37.811Z"
   },
   {
    "duration": 24,
    "start_time": "2024-10-20T20:22:38.467Z"
   },
   {
    "duration": 22,
    "start_time": "2024-10-20T20:22:47.072Z"
   },
   {
    "duration": 23,
    "start_time": "2024-10-20T20:22:58.961Z"
   },
   {
    "duration": 25,
    "start_time": "2024-10-20T20:23:41.414Z"
   },
   {
    "duration": 33,
    "start_time": "2024-10-20T20:24:02.748Z"
   },
   {
    "duration": 26,
    "start_time": "2024-10-20T20:24:05.031Z"
   },
   {
    "duration": 4,
    "start_time": "2024-10-20T20:24:09.877Z"
   },
   {
    "duration": 8,
    "start_time": "2024-10-20T20:24:10.340Z"
   },
   {
    "duration": 28,
    "start_time": "2024-10-20T20:24:13.189Z"
   },
   {
    "duration": 9,
    "start_time": "2024-10-20T20:25:31.111Z"
   },
   {
    "duration": 31,
    "start_time": "2024-10-20T20:26:10.510Z"
   },
   {
    "duration": 27,
    "start_time": "2024-10-20T20:26:12.415Z"
   },
   {
    "duration": 4,
    "start_time": "2024-10-20T20:26:16.243Z"
   },
   {
    "duration": 13,
    "start_time": "2024-10-20T20:26:17.496Z"
   },
   {
    "duration": 25,
    "start_time": "2024-10-20T20:26:18.462Z"
   },
   {
    "duration": 31,
    "start_time": "2024-10-20T20:29:56.847Z"
   },
   {
    "duration": 26,
    "start_time": "2024-10-20T20:30:00.590Z"
   },
   {
    "duration": 133,
    "start_time": "2024-10-20T20:30:04.726Z"
   },
   {
    "duration": 17,
    "start_time": "2024-10-20T20:30:13.638Z"
   },
   {
    "duration": 19,
    "start_time": "2024-10-20T20:30:52.026Z"
   },
   {
    "duration": 16,
    "start_time": "2024-10-20T20:32:40.076Z"
   },
   {
    "duration": 27,
    "start_time": "2024-10-20T20:33:18.365Z"
   },
   {
    "duration": 18,
    "start_time": "2024-10-20T20:34:01.572Z"
   },
   {
    "duration": 6,
    "start_time": "2024-10-20T20:35:12.641Z"
   },
   {
    "duration": 1442,
    "start_time": "2024-10-21T18:28:29.528Z"
   },
   {
    "duration": 3,
    "start_time": "2024-10-21T18:28:45.731Z"
   },
   {
    "duration": 435,
    "start_time": "2024-10-21T18:28:45.736Z"
   },
   {
    "duration": 15,
    "start_time": "2024-10-21T18:28:46.173Z"
   },
   {
    "duration": 10,
    "start_time": "2024-10-21T18:28:46.189Z"
   },
   {
    "duration": 14,
    "start_time": "2024-10-21T18:28:46.201Z"
   },
   {
    "duration": 4,
    "start_time": "2024-10-21T18:28:46.216Z"
   },
   {
    "duration": 13,
    "start_time": "2024-10-21T18:28:46.221Z"
   },
   {
    "duration": 9,
    "start_time": "2024-10-21T18:28:46.235Z"
   },
   {
    "duration": 27,
    "start_time": "2024-10-21T18:28:46.245Z"
   },
   {
    "duration": 6,
    "start_time": "2024-10-21T18:28:46.273Z"
   },
   {
    "duration": 9,
    "start_time": "2024-10-21T18:28:46.280Z"
   },
   {
    "duration": 31,
    "start_time": "2024-10-21T18:28:46.290Z"
   },
   {
    "duration": 6,
    "start_time": "2024-10-21T18:28:46.323Z"
   },
   {
    "duration": 7,
    "start_time": "2024-10-21T18:28:46.331Z"
   },
   {
    "duration": 12,
    "start_time": "2024-10-21T18:28:46.339Z"
   },
   {
    "duration": 11,
    "start_time": "2024-10-21T18:28:46.353Z"
   },
   {
    "duration": 4,
    "start_time": "2024-10-21T18:28:46.366Z"
   },
   {
    "duration": 11,
    "start_time": "2024-10-21T18:28:46.371Z"
   },
   {
    "duration": 207,
    "start_time": "2024-10-21T18:28:46.384Z"
   },
   {
    "duration": 12,
    "start_time": "2024-10-21T18:28:46.593Z"
   },
   {
    "duration": 157,
    "start_time": "2024-10-21T18:28:46.606Z"
   },
   {
    "duration": 9,
    "start_time": "2024-10-21T18:28:46.765Z"
   },
   {
    "duration": 217,
    "start_time": "2024-10-21T18:28:46.775Z"
   },
   {
    "duration": 8,
    "start_time": "2024-10-21T18:28:46.994Z"
   },
   {
    "duration": 250,
    "start_time": "2024-10-21T18:28:47.004Z"
   },
   {
    "duration": 8,
    "start_time": "2024-10-21T18:28:47.255Z"
   },
   {
    "duration": 220,
    "start_time": "2024-10-21T18:28:47.265Z"
   },
   {
    "duration": 37,
    "start_time": "2024-10-21T18:28:47.486Z"
   },
   {
    "duration": 20,
    "start_time": "2024-10-21T18:28:47.524Z"
   },
   {
    "duration": 74,
    "start_time": "2024-10-21T18:28:47.545Z"
   },
   {
    "duration": 7,
    "start_time": "2024-10-21T18:28:47.620Z"
   },
   {
    "duration": 6,
    "start_time": "2024-10-21T18:28:47.629Z"
   },
   {
    "duration": 260,
    "start_time": "2024-10-21T18:28:47.637Z"
   },
   {
    "duration": 7,
    "start_time": "2024-10-21T18:28:47.899Z"
   },
   {
    "duration": 18,
    "start_time": "2024-10-21T18:28:47.908Z"
   },
   {
    "duration": 251,
    "start_time": "2024-10-21T18:28:47.928Z"
   },
   {
    "duration": 106,
    "start_time": "2024-10-21T18:28:48.180Z"
   },
   {
    "duration": 24,
    "start_time": "2024-10-21T18:28:48.288Z"
   },
   {
    "duration": 25,
    "start_time": "2024-10-21T18:28:48.321Z"
   },
   {
    "duration": 14,
    "start_time": "2024-10-21T18:28:48.348Z"
   },
   {
    "duration": 5,
    "start_time": "2024-10-21T18:28:48.365Z"
   },
   {
    "duration": 6,
    "start_time": "2024-10-21T18:28:48.372Z"
   },
   {
    "duration": 41,
    "start_time": "2024-10-21T18:28:48.380Z"
   },
   {
    "duration": 16,
    "start_time": "2024-10-21T18:28:48.423Z"
   },
   {
    "duration": 5,
    "start_time": "2024-10-21T18:28:48.441Z"
   },
   {
    "duration": 3,
    "start_time": "2024-10-21T19:10:01.543Z"
   },
   {
    "duration": 111,
    "start_time": "2024-10-21T19:10:01.548Z"
   },
   {
    "duration": 12,
    "start_time": "2024-10-21T19:10:01.660Z"
   },
   {
    "duration": 20,
    "start_time": "2024-10-21T19:10:01.674Z"
   },
   {
    "duration": 28,
    "start_time": "2024-10-21T19:10:01.696Z"
   },
   {
    "duration": 17,
    "start_time": "2024-10-21T19:10:01.726Z"
   },
   {
    "duration": 72,
    "start_time": "2024-10-21T19:10:01.744Z"
   },
   {
    "duration": 39,
    "start_time": "2024-10-21T19:10:01.817Z"
   },
   {
    "duration": 24,
    "start_time": "2024-10-21T19:10:01.857Z"
   },
   {
    "duration": 7,
    "start_time": "2024-10-21T19:10:01.882Z"
   },
   {
    "duration": 11,
    "start_time": "2024-10-21T19:10:01.890Z"
   },
   {
    "duration": 29,
    "start_time": "2024-10-21T19:10:01.902Z"
   },
   {
    "duration": 63,
    "start_time": "2024-10-21T19:10:01.933Z"
   },
   {
    "duration": 60,
    "start_time": "2024-10-21T19:10:01.999Z"
   },
   {
    "duration": 32,
    "start_time": "2024-10-21T19:10:02.061Z"
   },
   {
    "duration": 4,
    "start_time": "2024-10-21T19:10:02.094Z"
   },
   {
    "duration": 10,
    "start_time": "2024-10-21T19:10:02.099Z"
   },
   {
    "duration": 181,
    "start_time": "2024-10-21T19:10:02.111Z"
   },
   {
    "duration": 11,
    "start_time": "2024-10-21T19:10:02.293Z"
   },
   {
    "duration": 162,
    "start_time": "2024-10-21T19:10:02.306Z"
   },
   {
    "duration": 8,
    "start_time": "2024-10-21T19:10:02.470Z"
   },
   {
    "duration": 182,
    "start_time": "2024-10-21T19:10:02.480Z"
   },
   {
    "duration": 8,
    "start_time": "2024-10-21T19:10:02.663Z"
   },
   {
    "duration": 197,
    "start_time": "2024-10-21T19:10:02.673Z"
   },
   {
    "duration": 9,
    "start_time": "2024-10-21T19:10:02.871Z"
   },
   {
    "duration": 215,
    "start_time": "2024-10-21T19:10:02.882Z"
   },
   {
    "duration": 39,
    "start_time": "2024-10-21T19:10:03.099Z"
   },
   {
    "duration": 22,
    "start_time": "2024-10-21T19:10:03.141Z"
   },
   {
    "duration": 20,
    "start_time": "2024-10-21T19:10:03.165Z"
   },
   {
    "duration": 35,
    "start_time": "2024-10-21T19:10:03.187Z"
   },
   {
    "duration": 9,
    "start_time": "2024-10-21T19:10:03.223Z"
   },
   {
    "duration": 319,
    "start_time": "2024-10-21T19:10:03.234Z"
   },
   {
    "duration": 9,
    "start_time": "2024-10-21T19:10:03.555Z"
   },
   {
    "duration": 46,
    "start_time": "2024-10-21T19:10:03.565Z"
   },
   {
    "duration": 351,
    "start_time": "2024-10-21T19:10:03.612Z"
   },
   {
    "duration": 28,
    "start_time": "2024-10-21T19:10:03.965Z"
   },
   {
    "duration": 65,
    "start_time": "2024-10-21T19:10:03.994Z"
   },
   {
    "duration": 25,
    "start_time": "2024-10-21T19:10:04.061Z"
   },
   {
    "duration": 15,
    "start_time": "2024-10-21T19:10:04.088Z"
   },
   {
    "duration": 5,
    "start_time": "2024-10-21T19:10:04.105Z"
   },
   {
    "duration": 10,
    "start_time": "2024-10-21T19:10:04.123Z"
   },
   {
    "duration": 50,
    "start_time": "2024-10-21T19:10:04.135Z"
   },
   {
    "duration": 29,
    "start_time": "2024-10-21T19:10:04.187Z"
   },
   {
    "duration": 6,
    "start_time": "2024-10-21T19:10:04.218Z"
   },
   {
    "duration": 3,
    "start_time": "2024-10-21T19:10:22.521Z"
   },
   {
    "duration": 85,
    "start_time": "2024-10-21T19:10:22.526Z"
   },
   {
    "duration": 12,
    "start_time": "2024-10-21T19:10:22.612Z"
   },
   {
    "duration": 9,
    "start_time": "2024-10-21T19:10:22.627Z"
   },
   {
    "duration": 13,
    "start_time": "2024-10-21T19:10:22.638Z"
   },
   {
    "duration": 14,
    "start_time": "2024-10-21T19:10:22.653Z"
   },
   {
    "duration": 18,
    "start_time": "2024-10-21T19:10:22.669Z"
   },
   {
    "duration": 10,
    "start_time": "2024-10-21T19:10:22.688Z"
   },
   {
    "duration": 28,
    "start_time": "2024-10-21T19:10:22.701Z"
   },
   {
    "duration": 6,
    "start_time": "2024-10-21T19:10:22.731Z"
   },
   {
    "duration": 9,
    "start_time": "2024-10-21T19:10:22.738Z"
   },
   {
    "duration": 31,
    "start_time": "2024-10-21T19:10:22.748Z"
   },
   {
    "duration": 10,
    "start_time": "2024-10-21T19:10:22.780Z"
   },
   {
    "duration": 6,
    "start_time": "2024-10-21T19:10:22.792Z"
   },
   {
    "duration": 25,
    "start_time": "2024-10-21T19:10:22.799Z"
   },
   {
    "duration": 3,
    "start_time": "2024-10-21T19:10:22.826Z"
   },
   {
    "duration": 22,
    "start_time": "2024-10-21T19:10:22.830Z"
   },
   {
    "duration": 191,
    "start_time": "2024-10-21T19:10:22.853Z"
   },
   {
    "duration": 11,
    "start_time": "2024-10-21T19:10:23.046Z"
   },
   {
    "duration": 146,
    "start_time": "2024-10-21T19:10:23.058Z"
   },
   {
    "duration": 8,
    "start_time": "2024-10-21T19:10:23.205Z"
   },
   {
    "duration": 161,
    "start_time": "2024-10-21T19:10:23.221Z"
   },
   {
    "duration": 9,
    "start_time": "2024-10-21T19:10:23.384Z"
   },
   {
    "duration": 189,
    "start_time": "2024-10-21T19:10:23.396Z"
   },
   {
    "duration": 7,
    "start_time": "2024-10-21T19:10:23.587Z"
   },
   {
    "duration": 191,
    "start_time": "2024-10-21T19:10:23.596Z"
   },
   {
    "duration": 36,
    "start_time": "2024-10-21T19:10:23.789Z"
   },
   {
    "duration": 30,
    "start_time": "2024-10-21T19:10:23.827Z"
   },
   {
    "duration": 19,
    "start_time": "2024-10-21T19:10:23.858Z"
   },
   {
    "duration": 7,
    "start_time": "2024-10-21T19:10:23.878Z"
   },
   {
    "duration": 6,
    "start_time": "2024-10-21T19:10:23.886Z"
   },
   {
    "duration": 253,
    "start_time": "2024-10-21T19:10:23.893Z"
   },
   {
    "duration": 8,
    "start_time": "2024-10-21T19:10:24.147Z"
   },
   {
    "duration": 7,
    "start_time": "2024-10-21T19:10:24.156Z"
   },
   {
    "duration": 328,
    "start_time": "2024-10-21T19:10:24.164Z"
   },
   {
    "duration": 36,
    "start_time": "2024-10-21T19:10:24.493Z"
   },
   {
    "duration": 24,
    "start_time": "2024-10-21T19:10:24.530Z"
   },
   {
    "duration": 25,
    "start_time": "2024-10-21T19:10:24.555Z"
   },
   {
    "duration": 29,
    "start_time": "2024-10-21T19:10:24.581Z"
   },
   {
    "duration": 12,
    "start_time": "2024-10-21T19:10:24.611Z"
   },
   {
    "duration": 5,
    "start_time": "2024-10-21T19:10:24.625Z"
   },
   {
    "duration": 14,
    "start_time": "2024-10-21T19:10:24.631Z"
   },
   {
    "duration": 14,
    "start_time": "2024-10-21T19:10:24.647Z"
   },
   {
    "duration": 5,
    "start_time": "2024-10-21T19:10:24.663Z"
   },
   {
    "duration": 1308,
    "start_time": "2024-10-21T19:50:38.534Z"
   },
   {
    "duration": 368,
    "start_time": "2024-10-21T19:50:39.844Z"
   },
   {
    "duration": 18,
    "start_time": "2024-10-21T19:50:40.214Z"
   },
   {
    "duration": 77,
    "start_time": "2024-10-21T19:50:40.234Z"
   },
   {
    "duration": 16,
    "start_time": "2024-10-21T19:50:40.314Z"
   },
   {
    "duration": 4,
    "start_time": "2024-10-21T19:50:40.332Z"
   },
   {
    "duration": 33,
    "start_time": "2024-10-21T19:50:40.338Z"
   },
   {
    "duration": 15,
    "start_time": "2024-10-21T19:50:40.373Z"
   },
   {
    "duration": 24,
    "start_time": "2024-10-21T19:50:40.390Z"
   },
   {
    "duration": 7,
    "start_time": "2024-10-21T19:50:40.415Z"
   },
   {
    "duration": 10,
    "start_time": "2024-10-21T19:50:40.423Z"
   },
   {
    "duration": 19,
    "start_time": "2024-10-21T19:50:40.435Z"
   },
   {
    "duration": 9,
    "start_time": "2024-10-21T19:50:40.455Z"
   },
   {
    "duration": 36,
    "start_time": "2024-10-21T19:50:40.467Z"
   },
   {
    "duration": 14,
    "start_time": "2024-10-21T19:50:40.504Z"
   },
   {
    "duration": 5,
    "start_time": "2024-10-21T19:50:40.520Z"
   },
   {
    "duration": 14,
    "start_time": "2024-10-21T19:50:40.526Z"
   },
   {
    "duration": 211,
    "start_time": "2024-10-21T19:50:40.542Z"
   },
   {
    "duration": 13,
    "start_time": "2024-10-21T19:50:40.755Z"
   },
   {
    "duration": 170,
    "start_time": "2024-10-21T19:50:40.770Z"
   },
   {
    "duration": 8,
    "start_time": "2024-10-21T19:50:40.942Z"
   },
   {
    "duration": 180,
    "start_time": "2024-10-21T19:50:40.952Z"
   },
   {
    "duration": 9,
    "start_time": "2024-10-21T19:50:41.134Z"
   },
   {
    "duration": 210,
    "start_time": "2024-10-21T19:50:41.144Z"
   },
   {
    "duration": 9,
    "start_time": "2024-10-21T19:50:41.356Z"
   },
   {
    "duration": 314,
    "start_time": "2024-10-21T19:50:41.366Z"
   },
   {
    "duration": 38,
    "start_time": "2024-10-21T19:50:41.681Z"
   },
   {
    "duration": 23,
    "start_time": "2024-10-21T19:50:41.720Z"
   },
   {
    "duration": 20,
    "start_time": "2024-10-21T19:50:41.745Z"
   },
   {
    "duration": 32,
    "start_time": "2024-10-21T19:50:41.766Z"
   },
   {
    "duration": 8,
    "start_time": "2024-10-21T19:50:41.800Z"
   },
   {
    "duration": 265,
    "start_time": "2024-10-21T19:50:41.810Z"
   },
   {
    "duration": 8,
    "start_time": "2024-10-21T19:50:42.076Z"
   },
   {
    "duration": 41,
    "start_time": "2024-10-21T19:50:42.086Z"
   },
   {
    "duration": 273,
    "start_time": "2024-10-21T19:50:42.128Z"
   },
   {
    "duration": 29,
    "start_time": "2024-10-21T19:50:42.403Z"
   },
   {
    "duration": 26,
    "start_time": "2024-10-21T19:50:42.434Z"
   },
   {
    "duration": 121,
    "start_time": "2024-10-21T19:50:42.461Z"
   },
   {
    "duration": 25,
    "start_time": "2024-10-21T19:50:42.583Z"
   },
   {
    "duration": 6,
    "start_time": "2024-10-21T19:50:42.609Z"
   },
   {
    "duration": 5,
    "start_time": "2024-10-21T19:50:42.619Z"
   },
   {
    "duration": 18,
    "start_time": "2024-10-21T19:50:42.625Z"
   },
   {
    "duration": 16,
    "start_time": "2024-10-21T19:50:42.645Z"
   },
   {
    "duration": 37,
    "start_time": "2024-10-21T19:50:42.663Z"
   },
   {
    "duration": 1299,
    "start_time": "2024-10-22T18:31:22.150Z"
   },
   {
    "duration": 270,
    "start_time": "2024-10-22T18:31:25.930Z"
   },
   {
    "duration": 9,
    "start_time": "2024-10-22T18:31:45.506Z"
   },
   {
    "duration": 7,
    "start_time": "2024-10-22T18:31:48.012Z"
   },
   {
    "duration": 4,
    "start_time": "2024-10-22T18:32:26.920Z"
   },
   {
    "duration": 5,
    "start_time": "2024-10-22T18:32:35.609Z"
   },
   {
    "duration": 106,
    "start_time": "2024-10-22T18:44:32.491Z"
   },
   {
    "duration": 93,
    "start_time": "2024-10-22T18:45:21.731Z"
   },
   {
    "duration": 16,
    "start_time": "2024-10-22T18:49:06.375Z"
   },
   {
    "duration": 479,
    "start_time": "2024-10-22T18:49:16.915Z"
   },
   {
    "duration": 28734,
    "start_time": "2024-10-22T18:49:33.344Z"
   },
   {
    "duration": 80,
    "start_time": "2024-10-22T18:50:09.476Z"
   },
   {
    "duration": 79,
    "start_time": "2024-10-22T18:50:52.044Z"
   },
   {
    "duration": 82,
    "start_time": "2024-10-22T18:51:19.151Z"
   },
   {
    "duration": 7,
    "start_time": "2024-10-22T18:52:16.748Z"
   },
   {
    "duration": 102,
    "start_time": "2024-10-22T18:55:22.787Z"
   },
   {
    "duration": 88,
    "start_time": "2024-10-22T18:56:14.311Z"
   },
   {
    "duration": 110,
    "start_time": "2024-10-22T18:57:22.782Z"
   },
   {
    "duration": 100,
    "start_time": "2024-10-22T18:57:51.564Z"
   },
   {
    "duration": 95,
    "start_time": "2024-10-22T18:58:33.888Z"
   },
   {
    "duration": 98,
    "start_time": "2024-10-22T18:58:44.593Z"
   },
   {
    "duration": 94,
    "start_time": "2024-10-22T18:58:56.755Z"
   },
   {
    "duration": 89,
    "start_time": "2024-10-22T18:59:09.371Z"
   },
   {
    "duration": 5,
    "start_time": "2024-10-22T20:38:04.402Z"
   },
   {
    "duration": 4,
    "start_time": "2024-10-22T20:38:11.639Z"
   },
   {
    "duration": 4,
    "start_time": "2024-10-22T20:38:19.090Z"
   },
   {
    "duration": 4,
    "start_time": "2024-10-22T20:38:29.445Z"
   },
   {
    "duration": 3,
    "start_time": "2024-10-22T20:40:50.164Z"
   },
   {
    "duration": 3,
    "start_time": "2024-10-22T20:42:04.582Z"
   },
   {
    "duration": 15,
    "start_time": "2024-10-22T20:43:09.925Z"
   },
   {
    "duration": 28,
    "start_time": "2024-10-22T20:43:13.537Z"
   },
   {
    "duration": 4,
    "start_time": "2024-10-22T20:43:15.718Z"
   },
   {
    "duration": 3,
    "start_time": "2024-10-22T20:43:42.387Z"
   },
   {
    "duration": 90,
    "start_time": "2024-10-22T20:43:42.391Z"
   },
   {
    "duration": 11,
    "start_time": "2024-10-22T20:43:42.483Z"
   },
   {
    "duration": 24,
    "start_time": "2024-10-22T20:43:42.496Z"
   },
   {
    "duration": 128,
    "start_time": "2024-10-22T20:43:42.521Z"
   },
   {
    "duration": 11,
    "start_time": "2024-10-22T20:43:42.651Z"
   },
   {
    "duration": 26,
    "start_time": "2024-10-22T20:43:42.664Z"
   },
   {
    "duration": 25,
    "start_time": "2024-10-22T20:43:42.692Z"
   },
   {
    "duration": 43,
    "start_time": "2024-10-22T20:43:42.719Z"
   },
   {
    "duration": 7,
    "start_time": "2024-10-22T20:43:42.763Z"
   },
   {
    "duration": 108,
    "start_time": "2024-10-22T20:43:42.772Z"
   },
   {
    "duration": 27,
    "start_time": "2024-10-22T20:43:42.882Z"
   },
   {
    "duration": 19,
    "start_time": "2024-10-22T20:43:42.911Z"
   },
   {
    "duration": 13,
    "start_time": "2024-10-22T20:43:42.933Z"
   },
   {
    "duration": 12,
    "start_time": "2024-10-22T20:43:42.948Z"
   },
   {
    "duration": 19,
    "start_time": "2024-10-22T20:43:42.962Z"
   },
   {
    "duration": 21,
    "start_time": "2024-10-22T20:43:42.982Z"
   },
   {
    "duration": 84,
    "start_time": "2024-10-22T20:43:43.004Z"
   },
   {
    "duration": 25,
    "start_time": "2024-10-22T20:43:43.089Z"
   },
   {
    "duration": 165,
    "start_time": "2024-10-22T20:43:43.116Z"
   },
   {
    "duration": 12,
    "start_time": "2024-10-22T20:43:43.282Z"
   },
   {
    "duration": 153,
    "start_time": "2024-10-22T20:43:43.295Z"
   },
   {
    "duration": 12,
    "start_time": "2024-10-22T20:43:43.450Z"
   },
   {
    "duration": 187,
    "start_time": "2024-10-22T20:43:43.464Z"
   },
   {
    "duration": 122,
    "start_time": "2024-10-22T20:43:43.652Z"
   },
   {
    "duration": 9,
    "start_time": "2024-10-22T20:43:43.775Z"
   },
   {
    "duration": 194,
    "start_time": "2024-10-22T20:43:43.785Z"
   },
   {
    "duration": 105,
    "start_time": "2024-10-22T20:43:43.980Z"
   },
   {
    "duration": 8,
    "start_time": "2024-10-22T20:43:44.087Z"
   },
   {
    "duration": 200,
    "start_time": "2024-10-22T20:43:44.097Z"
   },
   {
    "duration": 111,
    "start_time": "2024-10-22T20:43:44.299Z"
   },
   {
    "duration": 4,
    "start_time": "2024-10-22T20:43:44.412Z"
   },
   {
    "duration": 12,
    "start_time": "2024-10-22T20:43:44.417Z"
   },
   {
    "duration": 35,
    "start_time": "2024-10-22T20:43:44.431Z"
   },
   {
    "duration": 4,
    "start_time": "2024-10-22T20:43:44.468Z"
   },
   {
    "duration": 42,
    "start_time": "2024-10-22T20:43:44.474Z"
   },
   {
    "duration": 24,
    "start_time": "2024-10-22T20:43:44.518Z"
   },
   {
    "duration": 91,
    "start_time": "2024-10-22T20:43:44.544Z"
   },
   {
    "duration": 14,
    "start_time": "2024-10-22T20:43:44.637Z"
   },
   {
    "duration": 240,
    "start_time": "2024-10-22T20:43:44.653Z"
   },
   {
    "duration": 8,
    "start_time": "2024-10-22T20:43:44.897Z"
   },
   {
    "duration": 14,
    "start_time": "2024-10-22T20:43:44.906Z"
   },
   {
    "duration": 269,
    "start_time": "2024-10-22T20:43:44.921Z"
   },
   {
    "duration": 31,
    "start_time": "2024-10-22T20:43:45.192Z"
   },
   {
    "duration": 90,
    "start_time": "2024-10-22T20:43:45.224Z"
   },
   {
    "duration": 45,
    "start_time": "2024-10-22T20:43:45.315Z"
   },
   {
    "duration": 19,
    "start_time": "2024-10-22T20:43:45.362Z"
   },
   {
    "duration": 34,
    "start_time": "2024-10-22T20:43:45.383Z"
   },
   {
    "duration": 28,
    "start_time": "2024-10-22T20:43:45.419Z"
   },
   {
    "duration": 29,
    "start_time": "2024-10-22T20:43:45.448Z"
   },
   {
    "duration": 25,
    "start_time": "2024-10-22T20:43:45.478Z"
   },
   {
    "duration": 16,
    "start_time": "2024-10-22T20:43:45.504Z"
   },
   {
    "duration": 63,
    "start_time": "2024-10-22T20:44:27.181Z"
   },
   {
    "duration": 4,
    "start_time": "2024-10-22T20:45:13.936Z"
   },
   {
    "duration": 8,
    "start_time": "2024-10-22T20:46:47.667Z"
   },
   {
    "duration": 3,
    "start_time": "2024-10-22T21:00:27.698Z"
   },
   {
    "duration": 78,
    "start_time": "2024-10-22T21:00:27.702Z"
   },
   {
    "duration": 12,
    "start_time": "2024-10-22T21:00:27.781Z"
   },
   {
    "duration": 10,
    "start_time": "2024-10-22T21:00:27.795Z"
   },
   {
    "duration": 15,
    "start_time": "2024-10-22T21:00:27.807Z"
   },
   {
    "duration": 6,
    "start_time": "2024-10-22T21:00:27.824Z"
   },
   {
    "duration": 28,
    "start_time": "2024-10-22T21:00:27.831Z"
   },
   {
    "duration": 25,
    "start_time": "2024-10-22T21:00:27.860Z"
   },
   {
    "duration": 20,
    "start_time": "2024-10-22T21:00:27.886Z"
   },
   {
    "duration": 6,
    "start_time": "2024-10-22T21:00:27.909Z"
   },
   {
    "duration": 10,
    "start_time": "2024-10-22T21:00:27.917Z"
   },
   {
    "duration": 22,
    "start_time": "2024-10-22T21:00:27.929Z"
   },
   {
    "duration": 13,
    "start_time": "2024-10-22T21:00:27.952Z"
   },
   {
    "duration": 6,
    "start_time": "2024-10-22T21:00:27.967Z"
   },
   {
    "duration": 8,
    "start_time": "2024-10-22T21:00:27.974Z"
   },
   {
    "duration": 9,
    "start_time": "2024-10-22T21:00:27.983Z"
   },
   {
    "duration": 13,
    "start_time": "2024-10-22T21:00:27.994Z"
   },
   {
    "duration": 4,
    "start_time": "2024-10-22T21:00:28.009Z"
   },
   {
    "duration": 12,
    "start_time": "2024-10-22T21:00:28.043Z"
   },
   {
    "duration": 177,
    "start_time": "2024-10-22T21:00:28.057Z"
   },
   {
    "duration": 14,
    "start_time": "2024-10-22T21:00:28.236Z"
   },
   {
    "duration": 151,
    "start_time": "2024-10-22T21:00:28.252Z"
   },
   {
    "duration": 8,
    "start_time": "2024-10-22T21:00:28.404Z"
   },
   {
    "duration": 185,
    "start_time": "2024-10-22T21:00:28.413Z"
   },
   {
    "duration": 97,
    "start_time": "2024-10-22T21:00:28.600Z"
   },
   {
    "duration": 54,
    "start_time": "2024-10-22T21:00:28.699Z"
   },
   {
    "duration": 209,
    "start_time": "2024-10-22T21:00:28.755Z"
   },
   {
    "duration": 109,
    "start_time": "2024-10-22T21:00:28.967Z"
   },
   {
    "duration": 9,
    "start_time": "2024-10-22T21:00:29.078Z"
   },
   {
    "duration": 254,
    "start_time": "2024-10-22T21:00:29.088Z"
   },
   {
    "duration": 110,
    "start_time": "2024-10-22T21:00:29.343Z"
   },
   {
    "duration": 4,
    "start_time": "2024-10-22T21:00:29.454Z"
   },
   {
    "duration": 12,
    "start_time": "2024-10-22T21:00:29.459Z"
   },
   {
    "duration": 60,
    "start_time": "2024-10-22T21:00:29.472Z"
   },
   {
    "duration": 4,
    "start_time": "2024-10-22T21:00:29.534Z"
   },
   {
    "duration": 48,
    "start_time": "2024-10-22T21:00:29.539Z"
   },
   {
    "duration": 66,
    "start_time": "2024-10-22T21:00:29.589Z"
   },
   {
    "duration": 24,
    "start_time": "2024-10-22T21:00:29.656Z"
   },
   {
    "duration": 25,
    "start_time": "2024-10-22T21:00:29.682Z"
   },
   {
    "duration": 54,
    "start_time": "2024-10-22T21:00:29.709Z"
   },
   {
    "duration": 295,
    "start_time": "2024-10-22T21:00:29.765Z"
   },
   {
    "duration": 9,
    "start_time": "2024-10-22T21:00:30.062Z"
   },
   {
    "duration": 61,
    "start_time": "2024-10-22T21:00:30.073Z"
   },
   {
    "duration": 318,
    "start_time": "2024-10-22T21:00:30.135Z"
   },
   {
    "duration": 9,
    "start_time": "2024-10-22T21:00:30.455Z"
   },
   {
    "duration": 97,
    "start_time": "2024-10-22T21:00:30.466Z"
   },
   {
    "duration": 47,
    "start_time": "2024-10-22T21:00:30.565Z"
   },
   {
    "duration": 1069,
    "start_time": "2024-10-22T21:00:30.613Z"
   },
   {
    "duration": 14,
    "start_time": "2024-10-22T21:00:31.683Z"
   },
   {
    "duration": 40,
    "start_time": "2024-10-22T21:00:31.699Z"
   },
   {
    "duration": 64,
    "start_time": "2024-10-22T21:00:31.740Z"
   },
   {
    "duration": 52,
    "start_time": "2024-10-22T21:00:31.805Z"
   },
   {
    "duration": 24,
    "start_time": "2024-10-22T21:00:31.858Z"
   },
   {
    "duration": 44,
    "start_time": "2024-10-22T21:00:31.883Z"
   },
   {
    "duration": 67,
    "start_time": "2024-10-22T21:03:57.923Z"
   },
   {
    "duration": 74,
    "start_time": "2024-10-22T21:04:04.277Z"
   },
   {
    "duration": 79,
    "start_time": "2024-10-22T21:05:05.761Z"
   },
   {
    "duration": 66,
    "start_time": "2024-10-22T21:05:32.107Z"
   },
   {
    "duration": 3,
    "start_time": "2024-10-22T21:06:20.820Z"
   },
   {
    "duration": 90,
    "start_time": "2024-10-22T21:06:20.824Z"
   },
   {
    "duration": 12,
    "start_time": "2024-10-22T21:06:20.915Z"
   },
   {
    "duration": 50,
    "start_time": "2024-10-22T21:06:20.928Z"
   },
   {
    "duration": 42,
    "start_time": "2024-10-22T21:06:20.980Z"
   },
   {
    "duration": 81,
    "start_time": "2024-10-22T21:06:21.024Z"
   },
   {
    "duration": 81,
    "start_time": "2024-10-22T21:06:21.106Z"
   },
   {
    "duration": 41,
    "start_time": "2024-10-22T21:06:21.188Z"
   },
   {
    "duration": 19,
    "start_time": "2024-10-22T21:06:21.231Z"
   },
   {
    "duration": 17,
    "start_time": "2024-10-22T21:06:21.252Z"
   },
   {
    "duration": 103,
    "start_time": "2024-10-22T21:06:21.270Z"
   },
   {
    "duration": 72,
    "start_time": "2024-10-22T21:06:21.375Z"
   },
   {
    "duration": 34,
    "start_time": "2024-10-22T21:06:21.448Z"
   },
   {
    "duration": 25,
    "start_time": "2024-10-22T21:06:21.484Z"
   },
   {
    "duration": 14,
    "start_time": "2024-10-22T21:06:21.510Z"
   },
   {
    "duration": 45,
    "start_time": "2024-10-22T21:06:21.525Z"
   },
   {
    "duration": 61,
    "start_time": "2024-10-22T21:06:21.571Z"
   },
   {
    "duration": 61,
    "start_time": "2024-10-22T21:06:21.634Z"
   },
   {
    "duration": 38,
    "start_time": "2024-10-22T21:06:21.696Z"
   },
   {
    "duration": 194,
    "start_time": "2024-10-22T21:06:21.735Z"
   },
   {
    "duration": 10,
    "start_time": "2024-10-22T21:06:21.931Z"
   },
   {
    "duration": 170,
    "start_time": "2024-10-22T21:06:21.942Z"
   },
   {
    "duration": 7,
    "start_time": "2024-10-22T21:06:22.114Z"
   },
   {
    "duration": 174,
    "start_time": "2024-10-22T21:06:22.123Z"
   },
   {
    "duration": 100,
    "start_time": "2024-10-22T21:06:22.299Z"
   },
   {
    "duration": 8,
    "start_time": "2024-10-22T21:06:22.401Z"
   },
   {
    "duration": 207,
    "start_time": "2024-10-22T21:06:22.411Z"
   },
   {
    "duration": 110,
    "start_time": "2024-10-22T21:06:22.619Z"
   },
   {
    "duration": 32,
    "start_time": "2024-10-22T21:06:22.731Z"
   },
   {
    "duration": 380,
    "start_time": "2024-10-22T21:06:22.765Z"
   },
   {
    "duration": 210,
    "start_time": "2024-10-22T21:06:23.146Z"
   },
   {
    "duration": 4,
    "start_time": "2024-10-22T21:06:23.357Z"
   },
   {
    "duration": 22,
    "start_time": "2024-10-22T21:06:23.362Z"
   },
   {
    "duration": 76,
    "start_time": "2024-10-22T21:06:23.386Z"
   },
   {
    "duration": 3,
    "start_time": "2024-10-22T21:06:23.464Z"
   },
   {
    "duration": 16,
    "start_time": "2024-10-22T21:06:23.468Z"
   },
   {
    "duration": 71,
    "start_time": "2024-10-22T21:06:23.486Z"
   },
   {
    "duration": 20,
    "start_time": "2024-10-22T21:06:23.559Z"
   },
   {
    "duration": 64,
    "start_time": "2024-10-22T21:06:23.580Z"
   },
   {
    "duration": 8,
    "start_time": "2024-10-22T21:06:23.645Z"
   },
   {
    "duration": 514,
    "start_time": "2024-10-22T21:06:23.656Z"
   },
   {
    "duration": 10,
    "start_time": "2024-10-22T21:06:24.172Z"
   },
   {
    "duration": 61,
    "start_time": "2024-10-22T21:06:24.184Z"
   },
   {
    "duration": 362,
    "start_time": "2024-10-22T21:06:24.247Z"
   },
   {
    "duration": 9,
    "start_time": "2024-10-22T21:06:24.610Z"
   },
   {
    "duration": 138,
    "start_time": "2024-10-22T21:06:24.620Z"
   },
   {
    "duration": 25,
    "start_time": "2024-10-22T21:06:24.760Z"
   },
   {
    "duration": 28,
    "start_time": "2024-10-22T21:06:24.787Z"
   },
   {
    "duration": 37,
    "start_time": "2024-10-22T21:06:24.816Z"
   },
   {
    "duration": 5,
    "start_time": "2024-10-22T21:06:24.855Z"
   },
   {
    "duration": 55,
    "start_time": "2024-10-22T21:06:24.861Z"
   },
   {
    "duration": 89,
    "start_time": "2024-10-22T21:06:24.917Z"
   },
   {
    "duration": 15,
    "start_time": "2024-10-22T21:06:25.008Z"
   },
   {
    "duration": 18,
    "start_time": "2024-10-22T21:06:25.024Z"
   },
   {
    "duration": 1040,
    "start_time": "2024-10-23T10:36:07.784Z"
   },
   {
    "duration": 287,
    "start_time": "2024-10-23T10:36:08.826Z"
   },
   {
    "duration": 13,
    "start_time": "2024-10-23T10:36:09.115Z"
   },
   {
    "duration": 13,
    "start_time": "2024-10-23T10:36:09.130Z"
   },
   {
    "duration": 21,
    "start_time": "2024-10-23T10:36:09.145Z"
   },
   {
    "duration": 5,
    "start_time": "2024-10-23T10:36:09.167Z"
   },
   {
    "duration": 13,
    "start_time": "2024-10-23T10:36:09.173Z"
   },
   {
    "duration": 11,
    "start_time": "2024-10-23T10:36:09.187Z"
   },
   {
    "duration": 13,
    "start_time": "2024-10-23T10:36:09.200Z"
   },
   {
    "duration": 5,
    "start_time": "2024-10-23T10:36:09.215Z"
   },
   {
    "duration": 8,
    "start_time": "2024-10-23T10:36:09.221Z"
   },
   {
    "duration": 35,
    "start_time": "2024-10-23T10:36:09.231Z"
   },
   {
    "duration": 16,
    "start_time": "2024-10-23T10:36:09.267Z"
   },
   {
    "duration": 5,
    "start_time": "2024-10-23T10:36:09.286Z"
   },
   {
    "duration": 13,
    "start_time": "2024-10-23T10:36:09.292Z"
   },
   {
    "duration": 16,
    "start_time": "2024-10-23T10:36:09.306Z"
   },
   {
    "duration": 17,
    "start_time": "2024-10-23T10:36:09.323Z"
   },
   {
    "duration": 3,
    "start_time": "2024-10-23T10:36:09.342Z"
   },
   {
    "duration": 29,
    "start_time": "2024-10-23T10:36:09.346Z"
   },
   {
    "duration": 151,
    "start_time": "2024-10-23T10:36:09.376Z"
   },
   {
    "duration": 10,
    "start_time": "2024-10-23T10:36:09.528Z"
   },
   {
    "duration": 193,
    "start_time": "2024-10-23T10:36:09.539Z"
   },
   {
    "duration": 7,
    "start_time": "2024-10-23T10:36:09.733Z"
   },
   {
    "duration": 154,
    "start_time": "2024-10-23T10:36:09.741Z"
   },
   {
    "duration": 92,
    "start_time": "2024-10-23T10:36:09.897Z"
   },
   {
    "duration": 7,
    "start_time": "2024-10-23T10:36:09.990Z"
   },
   {
    "duration": 180,
    "start_time": "2024-10-23T10:36:09.998Z"
   },
   {
    "duration": 96,
    "start_time": "2024-10-23T10:36:10.179Z"
   },
   {
    "duration": 9,
    "start_time": "2024-10-23T10:36:10.277Z"
   },
   {
    "duration": 207,
    "start_time": "2024-10-23T10:36:10.287Z"
   },
   {
    "duration": 96,
    "start_time": "2024-10-23T10:36:10.495Z"
   },
   {
    "duration": 3,
    "start_time": "2024-10-23T10:36:10.592Z"
   },
   {
    "duration": 94,
    "start_time": "2024-10-23T10:36:10.596Z"
   },
   {
    "duration": 32,
    "start_time": "2024-10-23T10:36:10.691Z"
   },
   {
    "duration": 2,
    "start_time": "2024-10-23T10:36:10.725Z"
   },
   {
    "duration": 17,
    "start_time": "2024-10-23T10:36:10.729Z"
   },
   {
    "duration": 73,
    "start_time": "2024-10-23T10:36:10.747Z"
   },
   {
    "duration": 16,
    "start_time": "2024-10-23T10:36:10.821Z"
   },
   {
    "duration": 7,
    "start_time": "2024-10-23T10:36:10.838Z"
   },
   {
    "duration": 16,
    "start_time": "2024-10-23T10:36:10.846Z"
   },
   {
    "duration": 214,
    "start_time": "2024-10-23T10:36:10.866Z"
   },
   {
    "duration": 7,
    "start_time": "2024-10-23T10:36:11.081Z"
   },
   {
    "duration": 6,
    "start_time": "2024-10-23T10:36:11.090Z"
   },
   {
    "duration": 227,
    "start_time": "2024-10-23T10:36:11.097Z"
   },
   {
    "duration": 7,
    "start_time": "2024-10-23T10:36:11.326Z"
   },
   {
    "duration": 38,
    "start_time": "2024-10-23T10:36:11.334Z"
   },
   {
    "duration": 22,
    "start_time": "2024-10-23T10:36:11.374Z"
   },
   {
    "duration": 23,
    "start_time": "2024-10-23T10:36:11.398Z"
   },
   {
    "duration": 13,
    "start_time": "2024-10-23T10:36:11.423Z"
   },
   {
    "duration": 22,
    "start_time": "2024-10-23T10:36:11.438Z"
   },
   {
    "duration": 36,
    "start_time": "2024-10-23T10:36:11.462Z"
   },
   {
    "duration": 112,
    "start_time": "2024-10-23T10:36:11.500Z"
   },
   {
    "duration": 13,
    "start_time": "2024-10-23T10:36:11.614Z"
   },
   {
    "duration": 24,
    "start_time": "2024-10-23T10:36:11.629Z"
   }
  ],
  "kernelspec": {
   "display_name": "Python 3 (ipykernel)",
   "language": "python",
   "name": "python3"
  },
  "language_info": {
   "codemirror_mode": {
    "name": "ipython",
    "version": 3
   },
   "file_extension": ".py",
   "mimetype": "text/x-python",
   "name": "python",
   "nbconvert_exporter": "python",
   "pygments_lexer": "ipython3",
   "version": "3.9.5"
  },
  "toc": {
   "base_numbering": 1,
   "nav_menu": {},
   "number_sections": true,
   "sideBar": true,
   "skip_h1_title": true,
   "title_cell": "Table of Contents",
   "title_sidebar": "Contents",
   "toc_cell": false,
   "toc_position": {
    "height": "calc(100% - 180px)",
    "left": "10px",
    "top": "150px",
    "width": "165px"
   },
   "toc_section_display": true,
   "toc_window_display": true
  }
 },
 "nbformat": 4,
 "nbformat_minor": 5
}
