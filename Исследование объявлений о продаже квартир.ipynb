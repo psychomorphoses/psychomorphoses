{
 "cells": [
  {
   "cell_type": "markdown",
   "metadata": {},
   "source": [
    "<div style=\"border:solid Chocolate 2px; padding: 40px\">\n",
    "\n",
    "<b>Привет!👋</b>\n",
    "\n",
    "Меня зовут Огурлиев Анзор, я буду ревьюером твоего проекта. Сразу хочу предложить тебе общаться на \"ты\", если тебе это неудобно, скажи мне об этом. Нам предстоит пройти с тобой через тернистый и от того интересный путь анализа данных! Можешь не переживать, я всегда помогу тебе, если у тебя возникнут вопросы)\n",
    "\n",
    "По ходу твоей работы я буду оставлять свои комментарии, по выполненным тобой шагам. Попрошу тебя не удалять их, так мне будет проще отслеживать твой прогресс в случае повторной проверки.\n",
    "\n",
    "Очень важно вести диалог и обсуждать те пункты, которые у тебя могли не получиться, поэтому, ты можешь оставлять свои комментарии, и мы обязательно во всем разберемся! Самое главное - выделяй свои комментарии удобным для тебя способом (цвет, рамка), но так, чтобы они отчетлитво отличались от моих комментариев. Так мы ни в чем не запутаемся)\n",
    "\n",
    "Свои комментарии я буду выделять так: <font color='green'>зеленый</font>, <font color='gold'>желтый</font> и <font color='red'>красный</font> цвет, например:\n",
    "\n",
    "<br/>\n",
    "\n",
    "<div class=\"alert alert-success\">\n",
    "<h2> Комментарий ревьюера V1<a class=\"tocSkip\"> </h2>\n",
    "\n",
    "<b>Все отлично!👍:</b> Этот комментарий я буду оставлять, если твое решение оптимально для данного шага.\n",
    "</div>\n",
    "\n",
    "<br/>\n",
    "\n",
    "<div class=\"alert alert-warning\">\n",
    "    <h2> Комментарий ревьюера V1<a class=\"tocSkip\"> </h2>\n",
    "\n",
    "<b>Некоторые замечания и рекомендации💡:</b> Это не означает, что ты совершил ошибку. Такими комментариями я буду отмечать места, где ты справился с задачей, но её можно решить ещё лучше. Также в таких комментариях я буду оставлять для тебя другие советы.\n",
    "</div>\n",
    "\n",
    "\n",
    "<br/>\n",
    "<div class=\"alert alert-block alert-danger\">\n",
    "<h2> Комментарий ревьюера V1<a class=\"tocSkip\"></h2>\n",
    "\n",
    "\n",
    "<b>На доработку🤔:</b>\n",
    "Если решение, которое ты применил на определенном шаге, требует значительных изменений, то я буду оставлять такой комментарий. Тебе нужно будет подумать еще раз как правильным образом решить данный этап. Если ревью содержит такие комментарии, то я не смогу принять проект с первого раза.\n",
    "</div>\n",
    "\n",
    "P.S. В оглавлении комментария ты увидишь `V1` (`V1`, `V2`, `V3`) - это версия моего комментария, которая понадобится нам с тобой, чтобы не запутаться, если потребуется оставить тебе комментарии после первой проверки."
   ]
  },
  {
   "cell_type": "markdown",
   "metadata": {
    "id": "-VFbjcb3Awb7"
   },
   "source": [
    "# Исследование объявлений о продаже квартир\n",
    "\n",
    "В вашем распоряжении данные сервиса Яндекс Недвижимость — архив объявлений о продаже квартир в Санкт-Петербурге и соседних населённых пунктах за несколько лет. Вам нужно научиться определять рыночную стоимость объектов недвижимости. Для этого проведите исследовательский анализ данных и установите параметры, влияющие на цену объектов. Это позволит построить автоматизированную систему: она отследит аномалии и мошенническую деятельность.\n",
    "\n",
    "По каждой квартире на продажу доступны два вида данных. Первые вписаны пользователем, вторые — получены автоматически на основе картографических данных. Например, расстояние до центра, аэропорта и других объектов — эти данные автоматически получены из геосервисов. Количество парков и водоёмов также заполняется без участия пользователя."
   ]
  },
  {
   "cell_type": "markdown",
   "metadata": {},
   "source": [
    "<div class=\"alert alert-success\">\n",
    "<h2> Комментарий ревьюера V1<a class=\"tocSkip\"> </h2>\n",
    "\n",
    "<b>Все отлично!👍:</b> Молодец что начинаешь проект с описания!"
   ]
  },
  {
   "cell_type": "markdown",
   "metadata": {
    "id": "aeFLH07FAwb9"
   },
   "source": [
    "### Откроем файл с данными и изучим общую информацию"
   ]
  },
  {
   "cell_type": "code",
   "execution_count": 1,
   "metadata": {
    "id": "7MZxY65pAwb9"
   },
   "outputs": [],
   "source": [
    "import pandas as pd\n",
    "import matplotlib as plt"
   ]
  },
  {
   "cell_type": "code",
   "execution_count": 2,
   "metadata": {},
   "outputs": [],
   "source": [
    "data = pd.read_csv('/datasets/real_estate_data.csv', sep = '\\t') "
   ]
  },
  {
   "cell_type": "code",
   "execution_count": 3,
   "metadata": {},
   "outputs": [
    {
     "data": {
      "text/html": [
       "<div>\n",
       "<style scoped>\n",
       "    .dataframe tbody tr th:only-of-type {\n",
       "        vertical-align: middle;\n",
       "    }\n",
       "\n",
       "    .dataframe tbody tr th {\n",
       "        vertical-align: top;\n",
       "    }\n",
       "\n",
       "    .dataframe thead th {\n",
       "        text-align: right;\n",
       "    }\n",
       "</style>\n",
       "<table border=\"1\" class=\"dataframe\">\n",
       "  <thead>\n",
       "    <tr style=\"text-align: right;\">\n",
       "      <th></th>\n",
       "      <th>total_images</th>\n",
       "      <th>last_price</th>\n",
       "      <th>total_area</th>\n",
       "      <th>first_day_exposition</th>\n",
       "      <th>rooms</th>\n",
       "      <th>ceiling_height</th>\n",
       "      <th>floors_total</th>\n",
       "      <th>living_area</th>\n",
       "      <th>floor</th>\n",
       "      <th>is_apartment</th>\n",
       "      <th>...</th>\n",
       "      <th>kitchen_area</th>\n",
       "      <th>balcony</th>\n",
       "      <th>locality_name</th>\n",
       "      <th>airports_nearest</th>\n",
       "      <th>cityCenters_nearest</th>\n",
       "      <th>parks_around3000</th>\n",
       "      <th>parks_nearest</th>\n",
       "      <th>ponds_around3000</th>\n",
       "      <th>ponds_nearest</th>\n",
       "      <th>days_exposition</th>\n",
       "    </tr>\n",
       "  </thead>\n",
       "  <tbody>\n",
       "    <tr>\n",
       "      <th>0</th>\n",
       "      <td>20</td>\n",
       "      <td>13000000.0</td>\n",
       "      <td>108.00</td>\n",
       "      <td>2019-03-07T00:00:00</td>\n",
       "      <td>3</td>\n",
       "      <td>2.70</td>\n",
       "      <td>16.0</td>\n",
       "      <td>51.00</td>\n",
       "      <td>8</td>\n",
       "      <td>NaN</td>\n",
       "      <td>...</td>\n",
       "      <td>25.00</td>\n",
       "      <td>NaN</td>\n",
       "      <td>Санкт-Петербург</td>\n",
       "      <td>18863.0</td>\n",
       "      <td>16028.0</td>\n",
       "      <td>1.0</td>\n",
       "      <td>482.0</td>\n",
       "      <td>2.0</td>\n",
       "      <td>755.0</td>\n",
       "      <td>NaN</td>\n",
       "    </tr>\n",
       "    <tr>\n",
       "      <th>1</th>\n",
       "      <td>7</td>\n",
       "      <td>3350000.0</td>\n",
       "      <td>40.40</td>\n",
       "      <td>2018-12-04T00:00:00</td>\n",
       "      <td>1</td>\n",
       "      <td>NaN</td>\n",
       "      <td>11.0</td>\n",
       "      <td>18.60</td>\n",
       "      <td>1</td>\n",
       "      <td>NaN</td>\n",
       "      <td>...</td>\n",
       "      <td>11.00</td>\n",
       "      <td>2.0</td>\n",
       "      <td>посёлок Шушары</td>\n",
       "      <td>12817.0</td>\n",
       "      <td>18603.0</td>\n",
       "      <td>0.0</td>\n",
       "      <td>NaN</td>\n",
       "      <td>0.0</td>\n",
       "      <td>NaN</td>\n",
       "      <td>81.0</td>\n",
       "    </tr>\n",
       "    <tr>\n",
       "      <th>2</th>\n",
       "      <td>10</td>\n",
       "      <td>5196000.0</td>\n",
       "      <td>56.00</td>\n",
       "      <td>2015-08-20T00:00:00</td>\n",
       "      <td>2</td>\n",
       "      <td>NaN</td>\n",
       "      <td>5.0</td>\n",
       "      <td>34.30</td>\n",
       "      <td>4</td>\n",
       "      <td>NaN</td>\n",
       "      <td>...</td>\n",
       "      <td>8.30</td>\n",
       "      <td>0.0</td>\n",
       "      <td>Санкт-Петербург</td>\n",
       "      <td>21741.0</td>\n",
       "      <td>13933.0</td>\n",
       "      <td>1.0</td>\n",
       "      <td>90.0</td>\n",
       "      <td>2.0</td>\n",
       "      <td>574.0</td>\n",
       "      <td>558.0</td>\n",
       "    </tr>\n",
       "    <tr>\n",
       "      <th>3</th>\n",
       "      <td>0</td>\n",
       "      <td>64900000.0</td>\n",
       "      <td>159.00</td>\n",
       "      <td>2015-07-24T00:00:00</td>\n",
       "      <td>3</td>\n",
       "      <td>NaN</td>\n",
       "      <td>14.0</td>\n",
       "      <td>NaN</td>\n",
       "      <td>9</td>\n",
       "      <td>NaN</td>\n",
       "      <td>...</td>\n",
       "      <td>NaN</td>\n",
       "      <td>0.0</td>\n",
       "      <td>Санкт-Петербург</td>\n",
       "      <td>28098.0</td>\n",
       "      <td>6800.0</td>\n",
       "      <td>2.0</td>\n",
       "      <td>84.0</td>\n",
       "      <td>3.0</td>\n",
       "      <td>234.0</td>\n",
       "      <td>424.0</td>\n",
       "    </tr>\n",
       "    <tr>\n",
       "      <th>4</th>\n",
       "      <td>2</td>\n",
       "      <td>10000000.0</td>\n",
       "      <td>100.00</td>\n",
       "      <td>2018-06-19T00:00:00</td>\n",
       "      <td>2</td>\n",
       "      <td>3.03</td>\n",
       "      <td>14.0</td>\n",
       "      <td>32.00</td>\n",
       "      <td>13</td>\n",
       "      <td>NaN</td>\n",
       "      <td>...</td>\n",
       "      <td>41.00</td>\n",
       "      <td>NaN</td>\n",
       "      <td>Санкт-Петербург</td>\n",
       "      <td>31856.0</td>\n",
       "      <td>8098.0</td>\n",
       "      <td>2.0</td>\n",
       "      <td>112.0</td>\n",
       "      <td>1.0</td>\n",
       "      <td>48.0</td>\n",
       "      <td>121.0</td>\n",
       "    </tr>\n",
       "    <tr>\n",
       "      <th>5</th>\n",
       "      <td>10</td>\n",
       "      <td>2890000.0</td>\n",
       "      <td>30.40</td>\n",
       "      <td>2018-09-10T00:00:00</td>\n",
       "      <td>1</td>\n",
       "      <td>NaN</td>\n",
       "      <td>12.0</td>\n",
       "      <td>14.40</td>\n",
       "      <td>5</td>\n",
       "      <td>NaN</td>\n",
       "      <td>...</td>\n",
       "      <td>9.10</td>\n",
       "      <td>NaN</td>\n",
       "      <td>городской посёлок Янино-1</td>\n",
       "      <td>NaN</td>\n",
       "      <td>NaN</td>\n",
       "      <td>NaN</td>\n",
       "      <td>NaN</td>\n",
       "      <td>NaN</td>\n",
       "      <td>NaN</td>\n",
       "      <td>55.0</td>\n",
       "    </tr>\n",
       "    <tr>\n",
       "      <th>6</th>\n",
       "      <td>6</td>\n",
       "      <td>3700000.0</td>\n",
       "      <td>37.30</td>\n",
       "      <td>2017-11-02T00:00:00</td>\n",
       "      <td>1</td>\n",
       "      <td>NaN</td>\n",
       "      <td>26.0</td>\n",
       "      <td>10.60</td>\n",
       "      <td>6</td>\n",
       "      <td>NaN</td>\n",
       "      <td>...</td>\n",
       "      <td>14.40</td>\n",
       "      <td>1.0</td>\n",
       "      <td>посёлок Парголово</td>\n",
       "      <td>52996.0</td>\n",
       "      <td>19143.0</td>\n",
       "      <td>0.0</td>\n",
       "      <td>NaN</td>\n",
       "      <td>0.0</td>\n",
       "      <td>NaN</td>\n",
       "      <td>155.0</td>\n",
       "    </tr>\n",
       "    <tr>\n",
       "      <th>7</th>\n",
       "      <td>5</td>\n",
       "      <td>7915000.0</td>\n",
       "      <td>71.60</td>\n",
       "      <td>2019-04-18T00:00:00</td>\n",
       "      <td>2</td>\n",
       "      <td>NaN</td>\n",
       "      <td>24.0</td>\n",
       "      <td>NaN</td>\n",
       "      <td>22</td>\n",
       "      <td>NaN</td>\n",
       "      <td>...</td>\n",
       "      <td>18.90</td>\n",
       "      <td>2.0</td>\n",
       "      <td>Санкт-Петербург</td>\n",
       "      <td>23982.0</td>\n",
       "      <td>11634.0</td>\n",
       "      <td>0.0</td>\n",
       "      <td>NaN</td>\n",
       "      <td>0.0</td>\n",
       "      <td>NaN</td>\n",
       "      <td>NaN</td>\n",
       "    </tr>\n",
       "    <tr>\n",
       "      <th>8</th>\n",
       "      <td>20</td>\n",
       "      <td>2900000.0</td>\n",
       "      <td>33.16</td>\n",
       "      <td>2018-05-23T00:00:00</td>\n",
       "      <td>1</td>\n",
       "      <td>NaN</td>\n",
       "      <td>27.0</td>\n",
       "      <td>15.43</td>\n",
       "      <td>26</td>\n",
       "      <td>NaN</td>\n",
       "      <td>...</td>\n",
       "      <td>8.81</td>\n",
       "      <td>NaN</td>\n",
       "      <td>посёлок Мурино</td>\n",
       "      <td>NaN</td>\n",
       "      <td>NaN</td>\n",
       "      <td>NaN</td>\n",
       "      <td>NaN</td>\n",
       "      <td>NaN</td>\n",
       "      <td>NaN</td>\n",
       "      <td>189.0</td>\n",
       "    </tr>\n",
       "    <tr>\n",
       "      <th>9</th>\n",
       "      <td>18</td>\n",
       "      <td>5400000.0</td>\n",
       "      <td>61.00</td>\n",
       "      <td>2017-02-26T00:00:00</td>\n",
       "      <td>3</td>\n",
       "      <td>2.50</td>\n",
       "      <td>9.0</td>\n",
       "      <td>43.60</td>\n",
       "      <td>7</td>\n",
       "      <td>NaN</td>\n",
       "      <td>...</td>\n",
       "      <td>6.50</td>\n",
       "      <td>2.0</td>\n",
       "      <td>Санкт-Петербург</td>\n",
       "      <td>50898.0</td>\n",
       "      <td>15008.0</td>\n",
       "      <td>0.0</td>\n",
       "      <td>NaN</td>\n",
       "      <td>0.0</td>\n",
       "      <td>NaN</td>\n",
       "      <td>289.0</td>\n",
       "    </tr>\n",
       "  </tbody>\n",
       "</table>\n",
       "<p>10 rows × 22 columns</p>\n",
       "</div>"
      ],
      "text/plain": [
       "   total_images  last_price  total_area first_day_exposition  rooms  \\\n",
       "0            20  13000000.0      108.00  2019-03-07T00:00:00      3   \n",
       "1             7   3350000.0       40.40  2018-12-04T00:00:00      1   \n",
       "2            10   5196000.0       56.00  2015-08-20T00:00:00      2   \n",
       "3             0  64900000.0      159.00  2015-07-24T00:00:00      3   \n",
       "4             2  10000000.0      100.00  2018-06-19T00:00:00      2   \n",
       "5            10   2890000.0       30.40  2018-09-10T00:00:00      1   \n",
       "6             6   3700000.0       37.30  2017-11-02T00:00:00      1   \n",
       "7             5   7915000.0       71.60  2019-04-18T00:00:00      2   \n",
       "8            20   2900000.0       33.16  2018-05-23T00:00:00      1   \n",
       "9            18   5400000.0       61.00  2017-02-26T00:00:00      3   \n",
       "\n",
       "   ceiling_height  floors_total  living_area  floor is_apartment  ...  \\\n",
       "0            2.70          16.0        51.00      8          NaN  ...   \n",
       "1             NaN          11.0        18.60      1          NaN  ...   \n",
       "2             NaN           5.0        34.30      4          NaN  ...   \n",
       "3             NaN          14.0          NaN      9          NaN  ...   \n",
       "4            3.03          14.0        32.00     13          NaN  ...   \n",
       "5             NaN          12.0        14.40      5          NaN  ...   \n",
       "6             NaN          26.0        10.60      6          NaN  ...   \n",
       "7             NaN          24.0          NaN     22          NaN  ...   \n",
       "8             NaN          27.0        15.43     26          NaN  ...   \n",
       "9            2.50           9.0        43.60      7          NaN  ...   \n",
       "\n",
       "   kitchen_area  balcony              locality_name  airports_nearest  \\\n",
       "0         25.00      NaN            Санкт-Петербург           18863.0   \n",
       "1         11.00      2.0             посёлок Шушары           12817.0   \n",
       "2          8.30      0.0            Санкт-Петербург           21741.0   \n",
       "3           NaN      0.0            Санкт-Петербург           28098.0   \n",
       "4         41.00      NaN            Санкт-Петербург           31856.0   \n",
       "5          9.10      NaN  городской посёлок Янино-1               NaN   \n",
       "6         14.40      1.0          посёлок Парголово           52996.0   \n",
       "7         18.90      2.0            Санкт-Петербург           23982.0   \n",
       "8          8.81      NaN             посёлок Мурино               NaN   \n",
       "9          6.50      2.0            Санкт-Петербург           50898.0   \n",
       "\n",
       "  cityCenters_nearest  parks_around3000  parks_nearest  ponds_around3000  \\\n",
       "0             16028.0               1.0          482.0               2.0   \n",
       "1             18603.0               0.0            NaN               0.0   \n",
       "2             13933.0               1.0           90.0               2.0   \n",
       "3              6800.0               2.0           84.0               3.0   \n",
       "4              8098.0               2.0          112.0               1.0   \n",
       "5                 NaN               NaN            NaN               NaN   \n",
       "6             19143.0               0.0            NaN               0.0   \n",
       "7             11634.0               0.0            NaN               0.0   \n",
       "8                 NaN               NaN            NaN               NaN   \n",
       "9             15008.0               0.0            NaN               0.0   \n",
       "\n",
       "   ponds_nearest  days_exposition  \n",
       "0          755.0              NaN  \n",
       "1            NaN             81.0  \n",
       "2          574.0            558.0  \n",
       "3          234.0            424.0  \n",
       "4           48.0            121.0  \n",
       "5            NaN             55.0  \n",
       "6            NaN            155.0  \n",
       "7            NaN              NaN  \n",
       "8            NaN            189.0  \n",
       "9            NaN            289.0  \n",
       "\n",
       "[10 rows x 22 columns]"
      ]
     },
     "execution_count": 3,
     "metadata": {},
     "output_type": "execute_result"
    }
   ],
   "source": [
    "data.head(10)"
   ]
  },
  {
   "cell_type": "code",
   "execution_count": 4,
   "metadata": {},
   "outputs": [
    {
     "name": "stdout",
     "output_type": "stream",
     "text": [
      "<class 'pandas.core.frame.DataFrame'>\n",
      "RangeIndex: 23699 entries, 0 to 23698\n",
      "Data columns (total 22 columns):\n",
      " #   Column                Non-Null Count  Dtype  \n",
      "---  ------                --------------  -----  \n",
      " 0   total_images          23699 non-null  int64  \n",
      " 1   last_price            23699 non-null  float64\n",
      " 2   total_area            23699 non-null  float64\n",
      " 3   first_day_exposition  23699 non-null  object \n",
      " 4   rooms                 23699 non-null  int64  \n",
      " 5   ceiling_height        14504 non-null  float64\n",
      " 6   floors_total          23613 non-null  float64\n",
      " 7   living_area           21796 non-null  float64\n",
      " 8   floor                 23699 non-null  int64  \n",
      " 9   is_apartment          2775 non-null   object \n",
      " 10  studio                23699 non-null  bool   \n",
      " 11  open_plan             23699 non-null  bool   \n",
      " 12  kitchen_area          21421 non-null  float64\n",
      " 13  balcony               12180 non-null  float64\n",
      " 14  locality_name         23650 non-null  object \n",
      " 15  airports_nearest      18157 non-null  float64\n",
      " 16  cityCenters_nearest   18180 non-null  float64\n",
      " 17  parks_around3000      18181 non-null  float64\n",
      " 18  parks_nearest         8079 non-null   float64\n",
      " 19  ponds_around3000      18181 non-null  float64\n",
      " 20  ponds_nearest         9110 non-null   float64\n",
      " 21  days_exposition       20518 non-null  float64\n",
      "dtypes: bool(2), float64(14), int64(3), object(3)\n",
      "memory usage: 3.7+ MB\n"
     ]
    }
   ],
   "source": [
    "data.info()"
   ]
  },
  {
   "cell_type": "code",
   "execution_count": 5,
   "metadata": {},
   "outputs": [
    {
     "data": {
      "text/plain": [
       "array([[<AxesSubplot:title={'center':'total_images'}>,\n",
       "        <AxesSubplot:title={'center':'last_price'}>,\n",
       "        <AxesSubplot:title={'center':'total_area'}>,\n",
       "        <AxesSubplot:title={'center':'rooms'}>],\n",
       "       [<AxesSubplot:title={'center':'ceiling_height'}>,\n",
       "        <AxesSubplot:title={'center':'floors_total'}>,\n",
       "        <AxesSubplot:title={'center':'living_area'}>,\n",
       "        <AxesSubplot:title={'center':'floor'}>],\n",
       "       [<AxesSubplot:title={'center':'kitchen_area'}>,\n",
       "        <AxesSubplot:title={'center':'balcony'}>,\n",
       "        <AxesSubplot:title={'center':'airports_nearest'}>,\n",
       "        <AxesSubplot:title={'center':'cityCenters_nearest'}>],\n",
       "       [<AxesSubplot:title={'center':'parks_around3000'}>,\n",
       "        <AxesSubplot:title={'center':'parks_nearest'}>,\n",
       "        <AxesSubplot:title={'center':'ponds_around3000'}>,\n",
       "        <AxesSubplot:title={'center':'ponds_nearest'}>],\n",
       "       [<AxesSubplot:title={'center':'days_exposition'}>, <AxesSubplot:>,\n",
       "        <AxesSubplot:>, <AxesSubplot:>]], dtype=object)"
      ]
     },
     "execution_count": 5,
     "metadata": {},
     "output_type": "execute_result"
    },
    {
     "data": {
      "image/png": "[encoded data removed]",
      "text/plain": [
       "<Figure size 1080x1440 with 20 Axes>"
      ]
     },
     "metadata": {
      "needs_background": "light"
     },
     "output_type": "display_data"
    }
   ],
   "source": [
    "data.hist(figsize=(15, 20))"
   ]
  },
  {
   "cell_type": "markdown",
   "metadata": {},
   "source": [
    "Изучив на первый взгляд данные, можно сразу заметить большое количество пропусков и неподходящий тип данных в некоторых столбцах. Необходимо провести предобработку данных. "
   ]
  },
  {
   "cell_type": "markdown",
   "metadata": {},
   "source": [
    "<div class=\"alert alert-success\">\n",
    "<h2> Комментарий ревьюера V1<a class=\"tocSkip\"> </h2>\n",
    "\n",
    "<b>Все отлично!👍:</b> Правильно рассмотрела данные, с которыми предстоит работать."
   ]
  },
  {
   "cell_type": "markdown",
   "metadata": {
    "id": "-O5NtivEAwb9"
   },
   "source": [
    "### Выполним предобработку данных"
   ]
  },
  {
   "cell_type": "markdown",
   "metadata": {},
   "source": [
    "**2.1 Удаление пропусков**"
   ]
  },
  {
   "cell_type": "code",
   "execution_count": 7,
   "metadata": {
    "id": "7v3vAeTuAwb-",
    "scrolled": false
   },
   "outputs": [
    {
     "data": {
      "text/plain": [
       "total_images                0\n",
       "last_price                  0\n",
       "total_area                  0\n",
       "first_day_exposition        0\n",
       "rooms                       0\n",
       "ceiling_height           9195\n",
       "floors_total               86\n",
       "living_area              1903\n",
       "floor                       0\n",
       "is_apartment            20924\n",
       "studio                      0\n",
       "open_plan                   0\n",
       "kitchen_area             2278\n",
       "balcony                 11519\n",
       "locality_name              49\n",
       "airports_nearest         5542\n",
       "cityCenters_nearest      5519\n",
       "parks_around3000         5518\n",
       "parks_nearest           15620\n",
       "ponds_around3000         5518\n",
       "ponds_nearest           14589\n",
       "days_exposition          3181\n",
       "dtype: int64"
      ]
     },
     "execution_count": 7,
     "metadata": {},
     "output_type": "execute_result"
    }
   ],
   "source": [
    "data.isna().sum() #выведем количество пропущенных значений для каждого столбца"
   ]
  },
  {
   "cell_type": "markdown",
   "metadata": {},
   "source": [
    "***Aпартаменты***"
   ]
  },
  {
   "cell_type": "code",
   "execution_count": 8,
   "metadata": {},
   "outputs": [
    {
     "name": "stdout",
     "output_type": "stream",
     "text": [
      "1.80%\n"
     ]
    }
   ],
   "source": [
    "is_apartment_percentage = len(data.query('is_apartment == True'))/len(data['is_apartment'].dropna()) #разделим количество апартаментов на общее количество заполненных данных в столбце\n",
    "print(f'{is_apartment_percentage:.2%}')"
   ]
  },
  {
   "cell_type": "markdown",
   "metadata": {},
   "source": [
    "Процент апартаментов из всех заполненных данных составляет всего 1,8%. Это может говорить о том, что пропущенными значениями с высокой долей вероятности являются квартиры, а не апартаменты. В таком случае мы можем заменить все пропуски на False"
   ]
  },
  {
   "cell_type": "code",
   "execution_count": 9,
   "metadata": {},
   "outputs": [],
   "source": [
    "data['is_apartment'] = data['is_apartment'].fillna(False)"
   ]
  },
  {
   "cell_type": "markdown",
   "metadata": {},
   "source": [
    "***Балкон***"
   ]
  },
  {
   "cell_type": "markdown",
   "metadata": {},
   "source": [
    "Пропуски в этом столбце можем заменить на 0, пропущенные значения скорее всего означают квартиры без балкона. "
   ]
  },
  {
   "cell_type": "code",
   "execution_count": 10,
   "metadata": {},
   "outputs": [],
   "source": [
    "data['balcony'] = data['balcony'].fillna(0)"
   ]
  },
  {
   "cell_type": "markdown",
   "metadata": {},
   "source": [
    "***Высота потолков***"
   ]
  },
  {
   "cell_type": "markdown",
   "metadata": {},
   "source": [
    "При застройке высота потолков в большинстве квартир одинаковая, поэтому используем медиану как типичное значение для пропущенных значений. "
   ]
  },
  {
   "cell_type": "code",
   "execution_count": 11,
   "metadata": {},
   "outputs": [],
   "source": [
    "data['ceiling_height'] = data['ceiling_height'].fillna(data['ceiling_height'].median())"
   ]
  },
  {
   "cell_type": "markdown",
   "metadata": {},
   "source": [
    "<div class=\"alert alert-success\">\n",
    "<h2> Комментарий ревьюера V1<a class=\"tocSkip\"> </h2>\n",
    "\n",
    "<b>Все отлично!👍:</b> Правильно обработала пропуски в параметрах выше. Для потолков стоило также уточнить почему медианой корректно заполнить. Это типовой параметр при застройке, поэтому корректно будет использовать медиану, предполагая, что у большинства квартир высота потолков одинаковая."
   ]
  },
  {
   "cell_type": "markdown",
   "metadata": {},
   "source": [
    "***Этажи в доме***"
   ]
  },
  {
   "cell_type": "markdown",
   "metadata": {},
   "source": [
    "Так как у нас всего 86 пропусков в столбце с количеством этажей в доме, то удалим эти строки. На дальнейший анализ данных это не отразится"
   ]
  },
  {
   "cell_type": "code",
   "execution_count": 12,
   "metadata": {},
   "outputs": [],
   "source": [
    "data = data.dropna(subset=['floors_total'])"
   ]
  },
  {
   "cell_type": "markdown",
   "metadata": {},
   "source": [
    "<div class=\"alert alert-warning\">\n",
    "<h2> Комментарий ревьюера V1<a class=\"tocSkip\"> </h2>\n",
    "\n",
    "<b>Некоторые замечания и рекомендации💡:</b> Здесь лучше было объявления с пропусками удалить, их всего 86, удаление никак на анализ не повлияет. Заполнить медианой не ошибка, но в таком случае еще лучше проверить результат, не получилось ли так, что количество этажей в здании меньше, чем этаж квартиры."
   ]
  },
  {
   "cell_type": "markdown",
   "metadata": {},
   "source": [
    "<div class=\"alert alert-success\">\n",
    "<h2> Комментарий ревьюера V2<a class=\"tocSkip\"> </h2>\n",
    "\n",
    "<b>Все отлично!👍:</b> Отлично!"
   ]
  },
  {
   "cell_type": "markdown",
   "metadata": {},
   "source": [
    "***Жилая площадь и площадь кухни***"
   ]
  },
  {
   "cell_type": "markdown",
   "metadata": {},
   "source": [
    "Исходя из корреляции Пирсона мы видим, что общая площадь сильно коррелирует с жилой площадью (0,9) и площадью кухни (0,7). Заполним пропуски в данных столбцах, используя средний коэффициент отношения к общей площади. "
   ]
  },
  {
   "cell_type": "code",
   "execution_count": 13,
   "metadata": {},
   "outputs": [
    {
     "data": {
      "text/plain": [
       "total_area             1.000000\n",
       "living_area            0.939770\n",
       "rooms                  0.758324\n",
       "last_price             0.653581\n",
       "kitchen_area           0.609468\n",
       "parks_around3000       0.166048\n",
       "ponds_around3000       0.163245\n",
       "days_exposition        0.150130\n",
       "total_images           0.116425\n",
       "ceiling_height         0.080777\n",
       "is_apartment           0.029702\n",
       "balcony                0.010104\n",
       "parks_nearest         -0.021394\n",
       "floor                 -0.024927\n",
       "airports_nearest      -0.030124\n",
       "open_plan             -0.034941\n",
       "studio                -0.071983\n",
       "floors_total          -0.075774\n",
       "ponds_nearest         -0.099495\n",
       "cityCenters_nearest   -0.230872\n",
       "Name: total_area, dtype: float64"
      ]
     },
     "execution_count": 13,
     "metadata": {},
     "output_type": "execute_result"
    }
   ],
   "source": [
    "data.corr()['total_area'].sort_values(ascending=False)"
   ]
  },
  {
   "cell_type": "code",
   "execution_count": 14,
   "metadata": {},
   "outputs": [],
   "source": [
    "living_area_factor = (data['living_area']/data['total_area']).mean().round(1) #вычислим средний коэффициент отношения жилой площади к общей\n",
    "\n",
    "data['living_area'] = data['living_area'].fillna(living_area_factor * data['total_area']) #заполним пропуски, умножив средний коэффициент на общую площадь\n",
    "\n",
    "\n",
    "kitchen_area_factor = (data['kitchen_area']/data['total_area']).mean().round(1) #проделаем те же вычисления для нахождения коэффициента отношения площади кухни к общей площади\n",
    "\n",
    "data['kitchen_area'] = data['kitchen_area'].fillna(kitchen_area_factor * data['total_area'])"
   ]
  },
  {
   "cell_type": "markdown",
   "metadata": {},
   "source": [
    "<div class=\"alert alert-block alert-danger\">\n",
    "<h2> Комментарий ревьюера V1<a class=\"tocSkip\"></h2>\n",
    "\n",
    "\n",
    "<b>На доработку🤔:</b>\n",
    "Жилая площадь и площадь кухни сильно достаточно коррелируют с общей площадью. Поэтому пропуски можно заполнить, исходя из общей площади, например, посчитать отношения жилых площадей к общим, взять средний коэффициент отношения и с его помощью восстановить пропуски, умножив на общую площадь. Аналогично и площадь кухни."
   ]
  },
  {
   "cell_type": "markdown",
   "metadata": {},
   "source": [
    "<div class=\"alert alert-success\">\n",
    "<h2> Комментарий ревьюера V2<a class=\"tocSkip\"> </h2>\n",
    "\n",
    "<b>Все отлично!👍:</b> Все правильно доработала."
   ]
  },
  {
   "cell_type": "markdown",
   "metadata": {},
   "source": [
    "***Количество парков и водоемов. Расстояние до аэропорта и центра города***"
   ]
  },
  {
   "cell_type": "markdown",
   "metadata": {},
   "source": [
    "Данные этих столбцов заполняются автоматически системой. Интересно, что в обоих столбцах одинаковое количество пропущенных значений (5518). Проверим, совпадают ли они. А также посмотрим, отмечает ли система отсутсвие парков и водоемов"
   ]
  },
  {
   "cell_type": "code",
   "execution_count": 15,
   "metadata": {},
   "outputs": [
    {
     "name": "stdout",
     "output_type": "stream",
     "text": [
      "Количество квартир без парков вокруг: 10064\n",
      "\n",
      "Количество квартир без водоемов вокруг: 9044\n",
      "\n",
      "5508\n"
     ]
    }
   ],
   "source": [
    "parks = len(data.query('parks_around3000 == 0'))\n",
    "print(f'Количество квартир без парков вокруг: {parks}')\n",
    "print()\n",
    "\n",
    "ponds = len(data.query('ponds_around3000 == 0'))\n",
    "print(f'Количество квартир без водоемов вокруг: {ponds}')\n",
    "print()\n",
    "\n",
    "print(len(data.loc[(data['parks_around3000'].isna())&(data['ponds_around3000'].isna())]))"
   ]
  },
  {
   "cell_type": "markdown",
   "metadata": {},
   "source": [
    "Мы видим, что в одних и тех же объявлениях нет указания количества парков и водоемов вокруг. Однако система указывает их отсутсвие в других объявлениях. Можно прийти к выводу, что при выгрузке данных произошла ошибка. И в этих объявлениях нет данных по паркам, водоемам (а также по расстоянию до центра и аэропорта). В таком случае оставим эти данные без изменений."
   ]
  },
  {
   "cell_type": "code",
   "execution_count": 16,
   "metadata": {
    "scrolled": true
   },
   "outputs": [
    {
     "name": "stdout",
     "output_type": "stream",
     "text": [
      "5508\n"
     ]
    }
   ],
   "source": [
    "data = data.rename(columns={'cityCenters_nearest': 'city_centers_nearest'}) #сделаем красивое название :)\n",
    "print(len(data.loc[(data['airports_nearest'].isna())&(data['city_centers_nearest'].isna())&(data['parks_around3000'].isna())]))"
   ]
  },
  {
   "cell_type": "markdown",
   "metadata": {},
   "source": [
    "Данные по расстоянию до аэропорта и центра города также включаются в срез данных, которые система автоматически не заполнила. Также оставим их без изменений"
   ]
  },
  {
   "cell_type": "markdown",
   "metadata": {},
   "source": [
    "***Сколько дней было размещено объявление***"
   ]
  },
  {
   "cell_type": "markdown",
   "metadata": {},
   "source": [
    "У нас нет информации по дням размещения по 3181 объявлению. Возможно владельцы не закрыли объявление после продажи или квартира все еще не продана. Заменять пропуски средними значениями было бы некорректно, оставим данные без изменений."
   ]
  },
  {
   "cell_type": "markdown",
   "metadata": {},
   "source": [
    "***Название населенного пункта***"
   ]
  },
  {
   "cell_type": "markdown",
   "metadata": {},
   "source": [
    "Всего пропусков в данном столбце 49. Скорее всего виной человеческий фактор. Учитывая невозможность определить населенный пункт в данных объявлениях, удалим пропуски"
   ]
  },
  {
   "cell_type": "code",
   "execution_count": 17,
   "metadata": {},
   "outputs": [],
   "source": [
    "data = data.dropna(subset=['locality_name'])"
   ]
  },
  {
   "cell_type": "markdown",
   "metadata": {},
   "source": [
    "<div class=\"alert alert-warning\">\n",
    "<h2> Комментарий ревьюера V1<a class=\"tocSkip\"> </h2>\n",
    "\n",
    "<b>Некоторые замечания и рекомендации💡:</b> Можно было также эти объявления удалить, вряд ли они пригодятся, если мы не знаем в каком они населенном пункте."
   ]
  },
  {
   "cell_type": "markdown",
   "metadata": {},
   "source": [
    "<div class=\"alert alert-success\">\n",
    "<h2> Комментарий ревьюера V2<a class=\"tocSkip\"> </h2>\n",
    "\n",
    "<b>Все отлично!👍:</b> Верно"
   ]
  },
  {
   "cell_type": "code",
   "execution_count": 18,
   "metadata": {},
   "outputs": [
    {
     "data": {
      "text/plain": [
       "total_images                0\n",
       "last_price                  0\n",
       "total_area                  0\n",
       "first_day_exposition        0\n",
       "rooms                       0\n",
       "ceiling_height              0\n",
       "floors_total                0\n",
       "living_area                 0\n",
       "floor                       0\n",
       "is_apartment                0\n",
       "studio                      0\n",
       "open_plan                   0\n",
       "kitchen_area                0\n",
       "balcony                     0\n",
       "locality_name               0\n",
       "airports_nearest         5524\n",
       "city_centers_nearest     5501\n",
       "parks_around3000         5500\n",
       "parks_nearest           15535\n",
       "ponds_around3000         5500\n",
       "ponds_nearest           14529\n",
       "days_exposition          3171\n",
       "dtype: int64"
      ]
     },
     "execution_count": 18,
     "metadata": {},
     "output_type": "execute_result"
    }
   ],
   "source": [
    "data.isna().sum() #проверим финально оставшиеся пропуски"
   ]
  },
  {
   "cell_type": "markdown",
   "metadata": {},
   "source": [
    "**Мы обработали пропущенные значения и в тех местах, где это было возможно, подставили логичные замены.**\n",
    "\n",
    "**Причинами пропусков могут быть:**\n",
    "- человеческий фактор\n",
    "- ошибки при выгрузке данных\n",
    "- программные ошибки/сбои"
   ]
  },
  {
   "cell_type": "markdown",
   "metadata": {},
   "source": [
    "**2.2 Изменение типов данных**"
   ]
  },
  {
   "cell_type": "markdown",
   "metadata": {},
   "source": [
    "Заменим вещественный тип данных в столбцах на целочисленный, так как столбцы содержат только целые числа"
   ]
  },
  {
   "cell_type": "code",
   "execution_count": 19,
   "metadata": {},
   "outputs": [],
   "source": [
    "data[['last_price', 'floors_total', 'balcony']] = data[['last_price', 'floors_total', 'balcony']].astype('int')"
   ]
  },
  {
   "cell_type": "markdown",
   "metadata": {},
   "source": [
    "Округлим данные до одного знака после запятой в столбцах"
   ]
  },
  {
   "cell_type": "code",
   "execution_count": 20,
   "metadata": {},
   "outputs": [],
   "source": [
    "data[['total_area', 'ceiling_height', 'living_area', 'kitchen_area', 'days_exposition' ]] = data[['total_area', 'ceiling_height', 'living_area', 'kitchen_area', 'days_exposition' ]].round(1)"
   ]
  },
  {
   "cell_type": "markdown",
   "metadata": {},
   "source": [
    "Изменим на значения типа булево"
   ]
  },
  {
   "cell_type": "code",
   "execution_count": 21,
   "metadata": {},
   "outputs": [],
   "source": [
    "data['is_apartment'] = data['is_apartment'].astype(bool)"
   ]
  },
  {
   "cell_type": "markdown",
   "metadata": {},
   "source": [
    "Изменим формат на datetime, так как столбце содержит время"
   ]
  },
  {
   "cell_type": "code",
   "execution_count": 22,
   "metadata": {},
   "outputs": [],
   "source": [
    "data['first_day_exposition'] = pd.to_datetime(data['first_day_exposition'], format='%Y-%m-%dT%H:%M:%S')"
   ]
  },
  {
   "cell_type": "markdown",
   "metadata": {},
   "source": [
    "**Мы изменили типы данных в тех столбцах, где это было необходимо**"
   ]
  },
  {
   "cell_type": "markdown",
   "metadata": {},
   "source": [
    "<div class=\"alert alert-success\">\n",
    "<h2> Комментарий ревьюера V1<a class=\"tocSkip\"> </h2>\n",
    "\n",
    "<b>Все отлично!👍:</b> Типы данных обработала правильно."
   ]
  },
  {
   "cell_type": "markdown",
   "metadata": {},
   "source": [
    "**2.3 Обработка дубликатов**"
   ]
  },
  {
   "cell_type": "markdown",
   "metadata": {},
   "source": [
    "Изучим уникальные значения в столбце с названиями и устраним неявные дубликаты."
   ]
  },
  {
   "cell_type": "code",
   "execution_count": 23,
   "metadata": {},
   "outputs": [
    {
     "data": {
      "text/plain": [
       "array(['Санкт-Петербург', 'посёлок Шушары', 'городской посёлок Янино-1',\n",
       "       'посёлок Парголово', 'посёлок Мурино', 'Ломоносов', 'Сертолово',\n",
       "       'Петергоф', 'Пушкин', 'деревня Кудрово', 'Коммунар', 'Колпино',\n",
       "       'поселок городского типа Красный Бор', 'Гатчина', 'поселок Мурино',\n",
       "       'деревня Фёдоровское', 'Выборг', 'Кронштадт', 'Кировск',\n",
       "       'деревня Новое Девяткино', 'посёлок Металлострой',\n",
       "       'посёлок городского типа Лебяжье',\n",
       "       'посёлок городского типа Сиверский', 'поселок Молодцово',\n",
       "       'поселок городского типа Кузьмоловский',\n",
       "       'садовое товарищество Новая Ропша', 'Павловск',\n",
       "       'деревня Пикколово', 'Всеволожск', 'Волхов', 'Кингисепп',\n",
       "       'Приозерск', 'Сестрорецк', 'деревня Куттузи', 'посёлок Аннино',\n",
       "       'поселок городского типа Ефимовский', 'посёлок Плодовое',\n",
       "       'деревня Заклинье', 'поселок Торковичи', 'поселок Первомайское',\n",
       "       'Красное Село', 'посёлок Понтонный', 'Сясьстрой', 'деревня Старая',\n",
       "       'деревня Лесколово', 'посёлок Новый Свет', 'Сланцы',\n",
       "       'село Путилово', 'Ивангород', 'Мурино', 'Шлиссельбург',\n",
       "       'Никольское', 'Зеленогорск', 'Сосновый Бор', 'поселок Новый Свет',\n",
       "       'деревня Оржицы', 'деревня Кальтино', 'Кудрово',\n",
       "       'поселок Романовка', 'посёлок Бугры', 'поселок Бугры',\n",
       "       'поселок городского типа Рощино', 'Кириши', 'Луга', 'Волосово',\n",
       "       'Отрадное', 'село Павлово', 'поселок Оредеж', 'село Копорье',\n",
       "       'посёлок городского типа Красный Бор', 'посёлок Молодёжное',\n",
       "       'Тихвин', 'посёлок Победа', 'деревня Нурма',\n",
       "       'поселок городского типа Синявино', 'Тосно',\n",
       "       'посёлок городского типа Кузьмоловский', 'посёлок Стрельна',\n",
       "       'Бокситогорск', 'посёлок Александровская', 'деревня Лопухинка',\n",
       "       'Пикалёво', 'поселок Терволово',\n",
       "       'поселок городского типа Советский', 'Подпорожье',\n",
       "       'посёлок Петровское', 'посёлок городского типа Токсово',\n",
       "       'поселок Сельцо', 'посёлок городского типа Вырица',\n",
       "       'деревня Кипень', 'деревня Келози', 'деревня Вартемяги',\n",
       "       'посёлок Тельмана', 'поселок Севастьяново',\n",
       "       'городской поселок Большая Ижора', 'городской посёлок Павлово',\n",
       "       'деревня Агалатово', 'посёлок Новогорелово',\n",
       "       'городской посёлок Лесогорский', 'деревня Лаголово',\n",
       "       'поселок Цвелодубово', 'поселок городского типа Рахья',\n",
       "       'поселок городского типа Вырица', 'деревня Белогорка',\n",
       "       'поселок Заводской', 'городской посёлок Новоселье',\n",
       "       'деревня Большие Колпаны', 'деревня Горбунки', 'деревня Батово',\n",
       "       'деревня Заневка', 'деревня Иссад', 'Приморск',\n",
       "       'городской посёлок Фёдоровское', 'деревня Мистолово',\n",
       "       'Новая Ладога', 'поселок Зимитицы', 'поселок Барышево',\n",
       "       'деревня Разметелево', 'поселок городского типа имени Свердлова',\n",
       "       'деревня Пеники', 'поселок Рябово', 'деревня Пудомяги',\n",
       "       'поселок станции Корнево', 'деревня Низино', 'деревня Бегуницы',\n",
       "       'посёлок Поляны', 'городской посёлок Мга', 'поселок Елизаветино',\n",
       "       'посёлок городского типа Кузнечное', 'деревня Колтуши',\n",
       "       'поселок Запорожское', 'посёлок городского типа Рощино',\n",
       "       'деревня Гостилицы', 'деревня Малое Карлино',\n",
       "       'посёлок Мичуринское', 'посёлок городского типа имени Морозова',\n",
       "       'посёлок Песочный', 'посёлок Сосново', 'деревня Аро',\n",
       "       'поселок Ильичёво', 'посёлок городского типа Тайцы',\n",
       "       'деревня Малое Верево', 'деревня Извара', 'поселок станции Вещево',\n",
       "       'село Паша', 'деревня Калитино',\n",
       "       'посёлок городского типа Ульяновка', 'деревня Чудской Бор',\n",
       "       'поселок городского типа Дубровка', 'деревня Мины',\n",
       "       'поселок Войсковицы', 'посёлок городского типа имени Свердлова',\n",
       "       'деревня Коркино', 'посёлок Ропша',\n",
       "       'поселок городского типа Приладожский', 'посёлок Щеглово',\n",
       "       'посёлок Гаврилово', 'Лодейное Поле', 'деревня Рабитицы',\n",
       "       'поселок городского типа Никольский', 'деревня Кузьмолово',\n",
       "       'деревня Малые Колпаны', 'поселок Тельмана',\n",
       "       'посёлок Петро-Славянка', 'городской посёлок Назия',\n",
       "       'посёлок Репино', 'посёлок Ильичёво', 'поселок Углово',\n",
       "       'поселок Старая Малукса', 'садовое товарищество Рахья',\n",
       "       'поселок Аннино', 'поселок Победа', 'деревня Меньково',\n",
       "       'деревня Старые Бегуницы', 'посёлок Сапёрный', 'поселок Семрино',\n",
       "       'поселок Гаврилово', 'поселок Глажево', 'поселок Кобринское',\n",
       "       'деревня Гарболово', 'деревня Юкки',\n",
       "       'поселок станции Приветнинское', 'деревня Мануйлово',\n",
       "       'деревня Пчева', 'поселок Поляны', 'поселок Цвылёво',\n",
       "       'поселок Мельниково', 'посёлок Пудость', 'посёлок Усть-Луга',\n",
       "       'Светогорск', 'Любань', 'поселок Селезнёво',\n",
       "       'поселок городского типа Рябово', 'Каменногорск', 'деревня Кривко',\n",
       "       'поселок Глебычево', 'деревня Парицы', 'поселок Жилпосёлок',\n",
       "       'посёлок городского типа Мга', 'городской поселок Янино-1',\n",
       "       'посёлок Войскорово', 'село Никольское', 'посёлок Терволово',\n",
       "       'поселок Стеклянный', 'посёлок городского типа Важины',\n",
       "       'посёлок Мыза-Ивановка', 'село Русско-Высоцкое',\n",
       "       'поселок городского типа Лебяжье',\n",
       "       'поселок городского типа Форносово', 'село Старая Ладога',\n",
       "       'поселок Житково', 'городской посёлок Виллози', 'деревня Лампово',\n",
       "       'деревня Шпаньково', 'деревня Лаврики', 'посёлок Сумино',\n",
       "       'посёлок Возрождение', 'деревня Старосиверская',\n",
       "       'посёлок Кикерино', 'поселок Возрождение',\n",
       "       'деревня Старое Хинколово', 'посёлок Пригородный',\n",
       "       'посёлок Торфяное', 'городской посёлок Будогощь',\n",
       "       'поселок Суходолье', 'поселок Красная Долина', 'деревня Хапо-Ое',\n",
       "       'поселок городского типа Дружная Горка', 'поселок Лисий Нос',\n",
       "       'деревня Яльгелево', 'посёлок Стеклянный', 'село Рождествено',\n",
       "       'деревня Старополье', 'посёлок Левашово', 'деревня Сяськелево',\n",
       "       'деревня Камышовка',\n",
       "       'садоводческое некоммерческое товарищество Лесная Поляна',\n",
       "       'деревня Хязельки', 'поселок Жилгородок',\n",
       "       'посёлок городского типа Павлово', 'деревня Ялгино',\n",
       "       'поселок Новый Учхоз', 'городской посёлок Рощино',\n",
       "       'поселок Гончарово', 'поселок Почап', 'посёлок Сапёрное',\n",
       "       'посёлок Платформа 69-й километр', 'поселок Каложицы',\n",
       "       'деревня Фалилеево', 'деревня Пельгора',\n",
       "       'поселок городского типа Лесогорский', 'деревня Торошковичи',\n",
       "       'посёлок Белоостров', 'посёлок Алексеевка', 'поселок Серебрянский',\n",
       "       'поселок Лукаши', 'поселок Петровское', 'деревня Щеглово',\n",
       "       'поселок Мичуринское', 'деревня Тарасово', 'поселок Кингисеппский',\n",
       "       'посёлок при железнодорожной станции Вещево', 'поселок Ушаки',\n",
       "       'деревня Котлы', 'деревня Сижно', 'деревня Торосово',\n",
       "       'посёлок Форт Красная Горка', 'деревня Новолисино',\n",
       "       'посёлок станции Громово', 'деревня Глинка', 'посёлок Мельниково',\n",
       "       'поселок городского типа Назия', 'деревня Старая Пустошь',\n",
       "       'поселок Коммунары', 'поселок Починок',\n",
       "       'посёлок городского типа Вознесенье', 'деревня Разбегаево',\n",
       "       'посёлок городского типа Рябово', 'поселок Гладкое',\n",
       "       'посёлок при железнодорожной станции Приветнинское',\n",
       "       'поселок Тёсово-4', 'посёлок Жилгородок', 'деревня Бор',\n",
       "       'посёлок Коробицыно', 'деревня Большая Вруда', 'деревня Курковицы',\n",
       "       'посёлок Лисий Нос', 'городской посёлок Советский',\n",
       "       'посёлок Кобралово', 'деревня Суоранда', 'поселок Кобралово',\n",
       "       'поселок городского типа Кондратьево',\n",
       "       'коттеджный поселок Счастье', 'поселок Любань', 'деревня Реброво',\n",
       "       'деревня Зимитицы', 'деревня Тойворово', 'поселок Семиозерье',\n",
       "       'поселок Лесное', 'поселок Совхозный', 'поселок Усть-Луга',\n",
       "       'посёлок Ленинское', 'посёлок Суйда',\n",
       "       'посёлок городского типа Форносово', 'деревня Нижние Осельки',\n",
       "       'посёлок станции Свирь', 'поселок Перово', 'Высоцк',\n",
       "       'поселок Гарболово', 'село Шум', 'поселок Котельский',\n",
       "       'поселок станции Лужайка', 'деревня Большая Пустомержа',\n",
       "       'поселок Красносельское', 'деревня Вахнова Кара', 'деревня Пижма',\n",
       "       'коттеджный поселок Кивеннапа Север', 'поселок Коробицыно',\n",
       "       'поселок Ромашки', 'посёлок Перово', 'деревня Каськово',\n",
       "       'деревня Куровицы', 'посёлок Плоское', 'поселок Сумино',\n",
       "       'поселок городского типа Большая Ижора', 'поселок Кирпичное',\n",
       "       'деревня Ям-Тесово', 'деревня Раздолье', 'деревня Терпилицы',\n",
       "       'поселок городского типа Токсово', 'посёлок Шугозеро',\n",
       "       'деревня Ваганово', 'поселок Пушное', 'садовое товарищество Садко',\n",
       "       'посёлок Усть-Ижора', 'деревня Выскатка',\n",
       "       'городской посёлок Свирьстрой', 'поселок Громово',\n",
       "       'деревня Кисельня', 'посёлок Старая Малукса',\n",
       "       'деревня Трубников Бор', 'поселок Калитино',\n",
       "       'посёлок Высокоключевой', 'садовое товарищество Приладожский',\n",
       "       'посёлок Пансионат Зелёный Бор', 'деревня Ненимяки',\n",
       "       'поселок Пансионат Зелёный Бор', 'деревня Снегирёвка',\n",
       "       'деревня Рапполово', 'деревня Пустынка', 'поселок Рабитицы',\n",
       "       'деревня Большой Сабск', 'деревня Русско', 'деревня Лупполово',\n",
       "       'деревня Большое Рейзино', 'деревня Малая Романовка',\n",
       "       'поселок Дружноселье', 'поселок Пчевжа', 'поселок Володарское',\n",
       "       'деревня Нижняя', 'коттеджный посёлок Лесное', 'деревня Тихковицы',\n",
       "       'деревня Борисова Грива', 'посёлок Дзержинского'], dtype=object)"
      ]
     },
     "execution_count": 23,
     "metadata": {},
     "output_type": "execute_result"
    }
   ],
   "source": [
    "data['locality_name'].unique()"
   ]
  },
  {
   "cell_type": "code",
   "execution_count": 24,
   "metadata": {},
   "outputs": [
    {
     "name": "stdout",
     "output_type": "stream",
     "text": [
      "['санкт-петербург' 'шушары' 'городскойянино-1' 'парголово' 'мурино'\n",
      " 'ломоносов' 'сертолово' 'петергоф' 'пушкин' 'кудрово' 'коммунар'\n",
      " 'колпино' 'красныйбор' 'гатчина' 'федоровское' 'выборг' 'кронштадт'\n",
      " 'кировск' 'новоедевяткино' 'металлострой' 'лебяжье' 'сиверский'\n",
      " 'молодцово' 'кузьмоловский' 'новаяропша' 'павловск' 'пикколово'\n",
      " 'всеволожск' 'волхов' 'кингисепп' 'приозерск' 'сестрорецк' 'куттузи'\n",
      " 'аннино' 'ефимовский' 'плодовое' 'заклинье' 'торковичи' 'первомайское'\n",
      " 'красное' 'понтонный' 'сясьстрой' 'старая' 'лесколово' 'новыйсвет'\n",
      " 'сланцы' 'путилово' 'ивангород' 'шлиссельбург' 'никольское' 'зеленогорск'\n",
      " 'сосновыйбор' 'оржицы' 'кальтино' 'романовка' 'бугры' 'рощино' 'кириши'\n",
      " 'луга' 'волосово' 'отрадное' 'павлово' 'оредеж' 'копорье' 'молодежное'\n",
      " 'тихвин' 'победа' 'нурма' 'синявино' 'тосно' 'стрельна' 'бокситогорск'\n",
      " 'александровская' 'лопухинка' 'пикалево' 'терволово' 'советский'\n",
      " 'подпорожье' 'петровское' 'токсово' 'сельцо' 'вырица' 'кипень' 'келози'\n",
      " 'вартемяги' 'тельмана' 'севастьяново' 'городскойбольшаяижора'\n",
      " 'городскойпавлово' 'агалатово' 'новогорелово' 'городскойлесогорский'\n",
      " 'лаголово' 'цвелодубово' 'рахья' 'белогорка' 'заводской'\n",
      " 'городскойновоселье' 'большиеколпаны' 'горбунки' 'батово' 'заневка'\n",
      " 'иссад' 'приморск' 'городскойфедоровское' 'мистолово' 'новаяладога'\n",
      " 'зимитицы' 'барышево' 'разметелево' 'именисвердлова' 'пеники' 'рябово'\n",
      " 'пудомяги' 'корнево' 'низино' 'бегуницы' 'поляны' 'городскоймга'\n",
      " 'елизаветино' 'кузнечное' 'колтуши' 'запорожское' 'гостилицы'\n",
      " 'малоекарлино' 'мичуринское' 'имениморозова' 'песочный' 'сосново' 'аро'\n",
      " 'ильичево' 'тайцы' 'малоеверево' 'извара' 'вещево' 'паша' 'калитино'\n",
      " 'ульяновка' 'чудскойбор' 'дубровка' 'мины' 'войсковицы' 'коркино' 'ропша'\n",
      " 'приладожский' 'щеглово' 'гаврилово' 'лодейноеполе' 'рабитицы'\n",
      " 'никольский' 'кузьмолово' 'малыеколпаны' 'петро-славянка'\n",
      " 'городскойназия' 'репино' 'углово' 'стараямалукса' 'меньково'\n",
      " 'старыебегуницы' 'саперный' 'семрино' 'глажево' 'кобринское' 'гарболово'\n",
      " 'юкки' 'приветнинское' 'мануйлово' 'пчева' 'цвылево' 'мельниково'\n",
      " 'пудость' 'усть-луга' 'светогорск' 'любань' 'селезнево' 'каменногорск'\n",
      " 'кривко' 'глебычево' 'парицы' 'жил' 'мга' 'войскорово' 'стеклянный'\n",
      " 'важины' 'мыза-ивановка' 'русско-высоцкое' 'форносово' 'стараяладога'\n",
      " 'житково' 'городскойвиллози' 'лампово' 'шпаньково' 'лаврики' 'сумино'\n",
      " 'возрождение' 'старосиверская' 'кикерино' 'староехинколово' 'пригородный'\n",
      " 'торфяное' 'городскойбудогощь' 'суходолье' 'краснаядолина' 'хапо-ое'\n",
      " 'дружнаягорка' 'лисийнос' 'яльгелево' 'рождествено' 'старополье'\n",
      " 'левашово' 'сяськелево' 'камышовка' 'леснаяполяна' 'хязельки'\n",
      " 'жилгородок' 'ялгино' 'новыйучхоз' 'городскойрощино' 'гончарово' 'почап'\n",
      " 'саперное' '69-йкилометр' 'каложицы' 'фалилеево' 'пельгора' 'лесогорский'\n",
      " 'торошковичи' 'белоостров' 'алексеевка' 'серебрянский' 'лукаши'\n",
      " 'тарасово' 'кингисеппский' 'ушаки' 'котлы' 'сижно' 'торосово'\n",
      " 'форткраснаягорка' 'новолисино' 'громово' 'глинка' 'назия'\n",
      " 'стараяпустошь' 'коммунары' 'починок' 'вознесенье' 'разбегаево' 'гладкое'\n",
      " 'тесово-4' 'бор' 'коробицыно' 'большаявруда' 'курковицы'\n",
      " 'городскойсоветский' 'кобралово' 'суоранда' 'кондратьево'\n",
      " 'коттеджныйсчастье' 'реброво' 'тойворово' 'семиозерье' 'лесное'\n",
      " 'совхозный' 'ленинское' 'суйда' 'нижниеосельки' 'свирь' 'перово' 'высоцк'\n",
      " 'шум' 'котельский' 'лужайка' 'большаяпустомержа' 'красносельское'\n",
      " 'вахновакара' 'пижма' 'коттеджныйкивеннапасевер' 'ромашки' 'каськово'\n",
      " 'куровицы' 'плоское' 'большаяижора' 'кирпичное' 'ям-тесово' 'раздолье'\n",
      " 'терпилицы' 'шугозеро' 'ваганово' 'пушное' 'садко' 'усть-ижора'\n",
      " 'выскатка' 'городскойсвирьстрой' 'кисельня' 'трубниковбор'\n",
      " 'высокоключевой' 'зеленыйбор' 'ненимяки' 'снегиревка' 'рапполово'\n",
      " 'пустынка' 'большойсабск' 'русско' 'лупполово' 'большоерейзино'\n",
      " 'малаяромановка' 'дружноселье' 'пчевжа' 'володарское' 'нижняя'\n",
      " 'коттеджныйлесное' 'тихковицы' 'борисовагрива' 'дзержинского']\n"
     ]
    }
   ],
   "source": [
    "data['locality_name'] = data['locality_name'].str.lower() #перевод в строчные буквы\n",
    "\n",
    "data['locality_name'] = (\n",
    "    data['locality_name']\n",
    "    .str.replace('ё','е')\n",
    "    .replace(['поселок','при железнодорожной станции', 'платформа', 'садоводческое некоммерческое товарищество',\n",
    "             'садовое товарищество', 'станции', 'село', 'пансионат', 'городского типа',\n",
    "             'деревня', 'городской поселок', ' '], '', regex=True)\n",
    ")\n",
    "\n",
    "print(data['locality_name'].unique())"
   ]
  },
  {
   "cell_type": "markdown",
   "metadata": {},
   "source": [
    "<div class=\"alert alert-success\">\n",
    "<h2> Комментарий ревьюера V1<a class=\"tocSkip\"> </h2>\n",
    "\n",
    "<b>Все отлично!👍:</b> Неявные дубликаты обработала абсолютно верно, так держать! Можно было бы еще пропуски лишние убрать перед названиями."
   ]
  },
  {
   "cell_type": "markdown",
   "metadata": {},
   "source": [
    "**В процессе предобработки данных:**\n",
    "\n",
    "- заполнили пропуски в таблице\n",
    "- изменили тип данных на нужный\n",
    "- обработали неявные дубликаты\n",
    "- округлили значения "
   ]
  },
  {
   "cell_type": "markdown",
   "metadata": {
    "id": "QCcvyY6YAwb-"
   },
   "source": [
    "### Добавим в таблицу новые столбцы"
   ]
  },
  {
   "cell_type": "markdown",
   "metadata": {},
   "source": [
    "***Добавим столбец с ценой за 1 кв.метр***"
   ]
  },
  {
   "cell_type": "code",
   "execution_count": 25,
   "metadata": {
    "id": "Z8eJek3IAwb-"
   },
   "outputs": [
    {
     "data": {
      "text/plain": [
       "0        120370.37\n",
       "1         82920.79\n",
       "2         92785.71\n",
       "3        408176.10\n",
       "4        100000.00\n",
       "           ...    \n",
       "23694     72496.26\n",
       "23695     52542.37\n",
       "23696     44091.71\n",
       "23697    149414.06\n",
       "23698     41795.67\n",
       "Name: price_one_meter, Length: 23565, dtype: float64"
      ]
     },
     "execution_count": 25,
     "metadata": {},
     "output_type": "execute_result"
    }
   ],
   "source": [
    "data['price_one_meter'] = (data['last_price']/data['total_area']).round(2)\n",
    "data['price_one_meter']"
   ]
  },
  {
   "cell_type": "markdown",
   "metadata": {},
   "source": [
    "***Добавим день недели публикации объявления***"
   ]
  },
  {
   "cell_type": "code",
   "execution_count": 26,
   "metadata": {},
   "outputs": [
    {
     "data": {
      "text/plain": [
       "0        3\n",
       "1        1\n",
       "2        3\n",
       "3        4\n",
       "4        1\n",
       "        ..\n",
       "23694    1\n",
       "23695    0\n",
       "23696    6\n",
       "23697    1\n",
       "23698    4\n",
       "Name: weekday, Length: 23565, dtype: int64"
      ]
     },
     "execution_count": 26,
     "metadata": {},
     "output_type": "execute_result"
    }
   ],
   "source": [
    "data['weekday'] = data['first_day_exposition'].dt.weekday\n",
    "data['weekday']"
   ]
  },
  {
   "cell_type": "markdown",
   "metadata": {},
   "source": [
    "***Добавим месяц публикации объявления***"
   ]
  },
  {
   "cell_type": "code",
   "execution_count": 27,
   "metadata": {},
   "outputs": [
    {
     "data": {
      "text/plain": [
       "0         3\n",
       "1        12\n",
       "2         8\n",
       "3         7\n",
       "4         6\n",
       "         ..\n",
       "23694     3\n",
       "23695     1\n",
       "23696     2\n",
       "23697     3\n",
       "23698     7\n",
       "Name: month, Length: 23565, dtype: int64"
      ]
     },
     "execution_count": 27,
     "metadata": {},
     "output_type": "execute_result"
    }
   ],
   "source": [
    "data['month'] = data['first_day_exposition'].dt.month\n",
    "data['month']"
   ]
  },
  {
   "cell_type": "markdown",
   "metadata": {},
   "source": [
    "***Добавим год публикации объявления***"
   ]
  },
  {
   "cell_type": "code",
   "execution_count": 28,
   "metadata": {},
   "outputs": [
    {
     "data": {
      "text/plain": [
       "0        2019\n",
       "1        2018\n",
       "2        2015\n",
       "3        2015\n",
       "4        2018\n",
       "         ... \n",
       "23694    2017\n",
       "23695    2018\n",
       "23696    2018\n",
       "23697    2017\n",
       "23698    2017\n",
       "Name: year, Length: 23565, dtype: int64"
      ]
     },
     "execution_count": 28,
     "metadata": {},
     "output_type": "execute_result"
    }
   ],
   "source": [
    "data['year'] = data['first_day_exposition'].dt.year\n",
    "data['year']"
   ]
  },
  {
   "cell_type": "markdown",
   "metadata": {},
   "source": [
    "***Добавим тип этажа квартиры (значения — «‎первый», «последний», «другой»)***"
   ]
  },
  {
   "cell_type": "code",
   "execution_count": 29,
   "metadata": {
    "id": "V2f0D3kLAwb-"
   },
   "outputs": [
    {
     "name": "stdout",
     "output_type": "stream",
     "text": [
      "0        other\n",
      "1        first\n",
      "2        other\n",
      "3        other\n",
      "4        other\n",
      "         ...  \n",
      "23694    other\n",
      "23695    other\n",
      "23696    first\n",
      "23697    other\n",
      "23698    first\n",
      "Name: floor_category, Length: 23565, dtype: object\n"
     ]
    }
   ],
   "source": [
    "def categorize_floor(row): #создадим функцию для категоризации данных\n",
    "    floor = row['floor']\n",
    "    floors_total = row['floors_total']\n",
    "    if floor == 1:\n",
    "        return 'first'\n",
    "    if floor == floors_total: #если этаж равен общему количеству этажей в доме, то он последний\n",
    "        return 'last'\n",
    "    else:\n",
    "        return 'other'\n",
    "data['floor_category'] = data.apply(categorize_floor, axis=1)\n",
    "print(data['floor_category'])"
   ]
  },
  {
   "cell_type": "markdown",
   "metadata": {},
   "source": [
    "***Добавим расстояние до центра города в километрах (переведем из м в км и округлим до ближайших целых значений)***"
   ]
  },
  {
   "cell_type": "code",
   "execution_count": 30,
   "metadata": {},
   "outputs": [
    {
     "data": {
      "text/plain": [
       "0        16.0\n",
       "1        19.0\n",
       "2        14.0\n",
       "3         7.0\n",
       "4         8.0\n",
       "         ... \n",
       "23694     4.0\n",
       "23695     NaN\n",
       "23696     NaN\n",
       "23697    10.0\n",
       "23698     NaN\n",
       "Name: kilometer_centers_nearest, Length: 23565, dtype: float64"
      ]
     },
     "execution_count": 30,
     "metadata": {},
     "output_type": "execute_result"
    }
   ],
   "source": [
    "data['kilometer_centers_nearest'] = (data['city_centers_nearest']/1000).round(0)\n",
    "data['kilometer_centers_nearest']"
   ]
  },
  {
   "cell_type": "markdown",
   "metadata": {},
   "source": [
    "<div class=\"alert alert-block alert-danger\">\n",
    "<h2> Комментарий ревьюера V1<a class=\"tocSkip\"></h2>\n",
    "\n",
    "\n",
    "<b>На доработку🤔:</b>\n",
    "Расстояние до центра в километрах нужно округлить до целых."
   ]
  },
  {
   "cell_type": "markdown",
   "metadata": {},
   "source": [
    "<div class=\"alert alert-success\">\n",
    "<h2> Комментарий ревьюера V2<a class=\"tocSkip\"> </h2>\n",
    "\n",
    "<b>Все отлично!👍:</b> Все хорошо"
   ]
  },
  {
   "cell_type": "markdown",
   "metadata": {},
   "source": [
    "**Добавили в таблицу новые столбцы, которые понадобятся нам для дальнейшего анализа**"
   ]
  },
  {
   "cell_type": "markdown",
   "metadata": {},
   "source": [
    "<div class=\"alert alert-success\">\n",
    "<h2> Комментарий ревьюера V1<a class=\"tocSkip\"> </h2>\n",
    "\n",
    "<b>Все отлично!👍:</b> Остальные столбцы создала правильно, подходящие методы использовала."
   ]
  },
  {
   "cell_type": "markdown",
   "metadata": {},
   "source": [
    "# Исследовательский анализ данных"
   ]
  },
  {
   "cell_type": "markdown",
   "metadata": {},
   "source": [
    "***4.1. Изучим параметры объектов и построим гистограммы***"
   ]
  },
  {
   "cell_type": "markdown",
   "metadata": {},
   "source": [
    "***1. Общая площадь***"
   ]
  },
  {
   "cell_type": "code",
   "execution_count": 30,
   "metadata": {},
   "outputs": [
    {
     "data": {
      "text/plain": [
       "count    23699.000000\n",
       "mean        60.348635\n",
       "std         35.654086\n",
       "min         12.000000\n",
       "25%         40.000000\n",
       "50%         52.000000\n",
       "75%         69.900000\n",
       "max        900.000000\n",
       "Name: total_area, dtype: float64"
      ]
     },
     "execution_count": 30,
     "metadata": {},
     "output_type": "execute_result"
    }
   ],
   "source": [
    "data['total_area'].describe()"
   ]
  },
  {
   "cell_type": "code",
   "execution_count": 31,
   "metadata": {},
   "outputs": [
    {
     "data": {
      "text/plain": [
       "<AxesSubplot:ylabel='Frequency'>"
      ]
     },
     "execution_count": 31,
     "metadata": {},
     "output_type": "execute_result"
    },
    {
     "data": {
      "image/png": "[encoded data removed]",
      "text/plain": [
       "<Figure size 432x288 with 1 Axes>"
      ]
     },
     "metadata": {
      "needs_background": "light"
     },
     "output_type": "display_data"
    }
   ],
   "source": [
    "data.plot(y = 'total_area', kind = 'hist', bins = 100, grid=True)"
   ]
  },
  {
   "cell_type": "code",
   "execution_count": 32,
   "metadata": {},
   "outputs": [
    {
     "data": {
      "text/plain": [
       "<AxesSubplot:ylabel='Frequency'>"
      ]
     },
     "execution_count": 32,
     "metadata": {},
     "output_type": "execute_result"
    },
    {
     "data": {
      "image/png": "[encoded data removed]",
      "text/plain": [
       "<Figure size 432x288 with 1 Axes>"
      ]
     },
     "metadata": {
      "needs_background": "light"
     },
     "output_type": "display_data"
    }
   ],
   "source": [
    "data.plot(y = 'total_area', kind = 'hist', bins = 100, grid=True, range=(12,100)) #возьмем срез данных от минимального до 100 м2"
   ]
  },
  {
   "cell_type": "markdown",
   "metadata": {},
   "source": [
    "Минимальная общая площадь квартир в объявлениях 12 м2, максимальная 900 м2. Распределение данных нормальное, есть выбросы, но они не значительно влияют на данные. В среднем больше всего представлено квартир площадью около 45 м2."
   ]
  },
  {
   "cell_type": "markdown",
   "metadata": {},
   "source": [
    "***2. Жилая площадь***"
   ]
  },
  {
   "cell_type": "code",
   "execution_count": 33,
   "metadata": {},
   "outputs": [
    {
     "data": {
      "text/plain": [
       "count    21796.000000\n",
       "mean        34.457878\n",
       "std         22.030420\n",
       "min          2.000000\n",
       "25%         18.600000\n",
       "50%         30.000000\n",
       "75%         42.300000\n",
       "max        409.700000\n",
       "Name: living_area, dtype: float64"
      ]
     },
     "execution_count": 33,
     "metadata": {},
     "output_type": "execute_result"
    }
   ],
   "source": [
    "data['living_area'].describe()"
   ]
  },
  {
   "cell_type": "code",
   "execution_count": 34,
   "metadata": {},
   "outputs": [
    {
     "data": {
      "text/plain": [
       "<AxesSubplot:ylabel='Frequency'>"
      ]
     },
     "execution_count": 34,
     "metadata": {},
     "output_type": "execute_result"
    },
    {
     "data": {
      "image/png": "[encoded data removed]",
      "text/plain": [
       "<Figure size 432x288 with 1 Axes>"
      ]
     },
     "metadata": {
      "needs_background": "light"
     },
     "output_type": "display_data"
    }
   ],
   "source": [
    "data.plot(y = 'living_area', kind = 'hist', bins = 100, grid=True)"
   ]
  },
  {
   "cell_type": "code",
   "execution_count": 35,
   "metadata": {},
   "outputs": [
    {
     "data": {
      "text/plain": [
       "<AxesSubplot:ylabel='Frequency'>"
      ]
     },
     "execution_count": 35,
     "metadata": {},
     "output_type": "execute_result"
    },
    {
     "data": {
      "image/png": "[encoded data removed]",
      "text/plain": [
       "<Figure size 432x288 with 1 Axes>"
      ]
     },
     "metadata": {
      "needs_background": "light"
     },
     "output_type": "display_data"
    }
   ],
   "source": [
    "data.plot(y = 'living_area', kind = 'hist', bins = 100, grid=True, range=(10, 40))"
   ]
  },
  {
   "cell_type": "markdown",
   "metadata": {},
   "source": [
    "Минимальная общая площадь квартир в объявлениях 2 м2, максимальная 409 м2. Гистограмма имеет 2 пика. Больше всего продают квартиры с жилой площадью около 18 м2 и 30 м2. Между двумя пиками есть спад предложений. "
   ]
  },
  {
   "cell_type": "markdown",
   "metadata": {},
   "source": [
    "***3. Площадь кухни***"
   ]
  },
  {
   "cell_type": "code",
   "execution_count": 36,
   "metadata": {},
   "outputs": [
    {
     "data": {
      "text/plain": [
       "count    21421.000000\n",
       "mean        10.569754\n",
       "std          5.905448\n",
       "min          1.300000\n",
       "25%          7.000000\n",
       "50%          9.100000\n",
       "75%         12.000000\n",
       "max        112.000000\n",
       "Name: kitchen_area, dtype: float64"
      ]
     },
     "execution_count": 36,
     "metadata": {},
     "output_type": "execute_result"
    }
   ],
   "source": [
    "data['kitchen_area'].describe()"
   ]
  },
  {
   "cell_type": "code",
   "execution_count": 37,
   "metadata": {},
   "outputs": [
    {
     "data": {
      "text/plain": [
       "<AxesSubplot:ylabel='Frequency'>"
      ]
     },
     "execution_count": 37,
     "metadata": {},
     "output_type": "execute_result"
    },
    {
     "data": {
      "image/png": "[encoded data removed]",
      "text/plain": [
       "<Figure size 432x288 with 1 Axes>"
      ]
     },
     "metadata": {
      "needs_background": "light"
     },
     "output_type": "display_data"
    }
   ],
   "source": [
    "data.plot(y = 'kitchen_area', kind = 'hist', bins = 100, grid=True)"
   ]
  },
  {
   "cell_type": "code",
   "execution_count": 38,
   "metadata": {},
   "outputs": [
    {
     "data": {
      "text/plain": [
       "<AxesSubplot:ylabel='Frequency'>"
      ]
     },
     "execution_count": 38,
     "metadata": {},
     "output_type": "execute_result"
    },
    {
     "data": {
      "image/png": "[encoded data removed]",
      "text/plain": [
       "<Figure size 432x288 with 1 Axes>"
      ]
     },
     "metadata": {
      "needs_background": "light"
     },
     "output_type": "display_data"
    }
   ],
   "source": [
    "data.plot(y = 'kitchen_area', kind = 'hist', bins = 100, grid=True, range=(4, 18))"
   ]
  },
  {
   "cell_type": "markdown",
   "metadata": {},
   "source": [
    "Минимальная общая площадь квартир в объявлениях 1.3 м2, максимальная 112 м2. Распределение данных не является нормальным и имеет несколько пиков. При этом пики приходятся на целые числа - 6, 8, 10 и так далее."
   ]
  },
  {
   "cell_type": "markdown",
   "metadata": {},
   "source": [
    "***4. Цена объекта***"
   ]
  },
  {
   "cell_type": "code",
   "execution_count": 39,
   "metadata": {},
   "outputs": [
    {
     "data": {
      "text/plain": [
       "count    2.369900e+04\n",
       "mean     6.541549e+06\n",
       "std      1.088701e+07\n",
       "min      1.219000e+04\n",
       "25%      3.400000e+06\n",
       "50%      4.650000e+06\n",
       "75%      6.800000e+06\n",
       "max      7.630000e+08\n",
       "Name: last_price, dtype: float64"
      ]
     },
     "execution_count": 39,
     "metadata": {},
     "output_type": "execute_result"
    }
   ],
   "source": [
    "data['last_price'].describe()"
   ]
  },
  {
   "cell_type": "code",
   "execution_count": 40,
   "metadata": {},
   "outputs": [
    {
     "data": {
      "text/plain": [
       "<AxesSubplot:ylabel='Frequency'>"
      ]
     },
     "execution_count": 40,
     "metadata": {},
     "output_type": "execute_result"
    },
    {
     "data": {
      "image/png": "[encoded data removed]",
      "text/plain": [
       "<Figure size 432x288 with 1 Axes>"
      ]
     },
     "metadata": {
      "needs_background": "light"
     },
     "output_type": "display_data"
    }
   ],
   "source": [
    "data.plot(y = 'last_price', kind = 'hist', bins = 100, grid=True, range=(1.219000e+04, 6.800000e+06))"
   ]
  },
  {
   "cell_type": "code",
   "execution_count": 41,
   "metadata": {},
   "outputs": [
    {
     "data": {
      "text/plain": [
       "<AxesSubplot:ylabel='Frequency'>"
      ]
     },
     "execution_count": 41,
     "metadata": {},
     "output_type": "execute_result"
    },
    {
     "data": {
      "image/png": "[encoded data removed]",
      "text/plain": [
       "<Figure size 432x288 with 1 Axes>"
      ]
     },
     "metadata": {
      "needs_background": "light"
     },
     "output_type": "display_data"
    }
   ],
   "source": [
    "data.plot(y = 'last_price', kind = 'hist', bins = 100, grid=True, range=(3000000, 6000000))"
   ]
  },
  {
   "cell_type": "markdown",
   "metadata": {},
   "source": [
    "В объявлениях представлены квартиры стоимостью от 12190 рублей до 763 млн. рублей. Наиболее часто цена объекта составляет 3,5 - 4 миллниона."
   ]
  },
  {
   "cell_type": "markdown",
   "metadata": {},
   "source": [
    "***5. Количество комнат***"
   ]
  },
  {
   "cell_type": "code",
   "execution_count": 42,
   "metadata": {},
   "outputs": [
    {
     "data": {
      "text/plain": [
       "count    23699.000000\n",
       "mean         2.070636\n",
       "std          1.078405\n",
       "min          0.000000\n",
       "25%          1.000000\n",
       "50%          2.000000\n",
       "75%          3.000000\n",
       "max         19.000000\n",
       "Name: rooms, dtype: float64"
      ]
     },
     "execution_count": 42,
     "metadata": {},
     "output_type": "execute_result"
    }
   ],
   "source": [
    "data['rooms'].describe()"
   ]
  },
  {
   "cell_type": "code",
   "execution_count": 43,
   "metadata": {},
   "outputs": [
    {
     "data": {
      "text/plain": [
       "<AxesSubplot:ylabel='Frequency'>"
      ]
     },
     "execution_count": 43,
     "metadata": {},
     "output_type": "execute_result"
    },
    {
     "data": {
      "image/png": "[encoded data removed]",
      "text/plain": [
       "<Figure size 432x288 with 1 Axes>"
      ]
     },
     "metadata": {
      "needs_background": "light"
     },
     "output_type": "display_data"
    }
   ],
   "source": [
    "data.plot(y = 'rooms', kind = 'hist', bins = 100, grid=True)"
   ]
  },
  {
   "cell_type": "code",
   "execution_count": 44,
   "metadata": {},
   "outputs": [
    {
     "data": {
      "text/plain": [
       "<AxesSubplot:ylabel='Frequency'>"
      ]
     },
     "execution_count": 44,
     "metadata": {},
     "output_type": "execute_result"
    },
    {
     "data": {
      "image/png": "[encoded data removed]",
      "text/plain": [
       "<Figure size 432x288 with 1 Axes>"
      ]
     },
     "metadata": {
      "needs_background": "light"
     },
     "output_type": "display_data"
    }
   ],
   "source": [
    "data.plot(y = 'rooms', kind = 'hist', bins = 30, grid=True, range=(0, 5))"
   ]
  },
  {
   "cell_type": "markdown",
   "metadata": {},
   "source": [
    "В объявлениях представлено больше всего однокомнатных квартир. При этом с увеличением числа комнат в квартире количество объявлений снижается."
   ]
  },
  {
   "cell_type": "markdown",
   "metadata": {},
   "source": [
    "***6. Высота потолков***"
   ]
  },
  {
   "cell_type": "code",
   "execution_count": 45,
   "metadata": {},
   "outputs": [
    {
     "data": {
      "text/plain": [
       "count    23699.000000\n",
       "mean         2.707540\n",
       "std          0.990151\n",
       "min          1.000000\n",
       "25%          2.600000\n",
       "50%          2.600000\n",
       "75%          2.700000\n",
       "max        100.000000\n",
       "Name: ceiling_height, dtype: float64"
      ]
     },
     "execution_count": 45,
     "metadata": {},
     "output_type": "execute_result"
    }
   ],
   "source": [
    "data['ceiling_height'].describe()"
   ]
  },
  {
   "cell_type": "code",
   "execution_count": 46,
   "metadata": {},
   "outputs": [
    {
     "data": {
      "text/plain": [
       "<AxesSubplot:ylabel='Frequency'>"
      ]
     },
     "execution_count": 46,
     "metadata": {},
     "output_type": "execute_result"
    },
    {
     "data": {
      "image/png": "[encoded data removed]",
      "text/plain": [
       "<Figure size 432x288 with 1 Axes>"
      ]
     },
     "metadata": {
      "needs_background": "light"
     },
     "output_type": "display_data"
    }
   ],
   "source": [
    "data.plot(y = 'ceiling_height', kind = 'hist', bins = 30, grid=True, range=(2, 3))"
   ]
  },
  {
   "cell_type": "markdown",
   "metadata": {},
   "source": [
    "Минимальная высота потолков в объявлениях 1 метр, максимальная 100 метров. Очевидно, что в данных есть ошибка. Проверим, сколько есть квартир с высотой больше 10 метров и заменим их на корректные значения (25 метров нужно заменить на 2.5 метра и т.д.)"
   ]
  },
  {
   "cell_type": "code",
   "execution_count": 47,
   "metadata": {},
   "outputs": [
    {
     "data": {
      "text/html": [
       "<div>\n",
       "<style scoped>\n",
       "    .dataframe tbody tr th:only-of-type {\n",
       "        vertical-align: middle;\n",
       "    }\n",
       "\n",
       "    .dataframe tbody tr th {\n",
       "        vertical-align: top;\n",
       "    }\n",
       "\n",
       "    .dataframe thead th {\n",
       "        text-align: right;\n",
       "    }\n",
       "</style>\n",
       "<table border=\"1\" class=\"dataframe\">\n",
       "  <thead>\n",
       "    <tr style=\"text-align: right;\">\n",
       "      <th></th>\n",
       "      <th>total_images</th>\n",
       "      <th>last_price</th>\n",
       "      <th>total_area</th>\n",
       "      <th>first_day_exposition</th>\n",
       "      <th>rooms</th>\n",
       "      <th>ceiling_height</th>\n",
       "      <th>floors_total</th>\n",
       "      <th>living_area</th>\n",
       "      <th>floor</th>\n",
       "      <th>is_apartment</th>\n",
       "      <th>...</th>\n",
       "      <th>parks_nearest</th>\n",
       "      <th>ponds_around3000</th>\n",
       "      <th>ponds_nearest</th>\n",
       "      <th>days_exposition</th>\n",
       "      <th>price_one_meter</th>\n",
       "      <th>weekday</th>\n",
       "      <th>month</th>\n",
       "      <th>year</th>\n",
       "      <th>floor_category</th>\n",
       "      <th>kilometer_centers_nearest</th>\n",
       "    </tr>\n",
       "  </thead>\n",
       "  <tbody>\n",
       "    <tr>\n",
       "      <th>355</th>\n",
       "      <td>17</td>\n",
       "      <td>3600000</td>\n",
       "      <td>55.2</td>\n",
       "      <td>2018-07-12</td>\n",
       "      <td>2</td>\n",
       "      <td>25.0</td>\n",
       "      <td>5</td>\n",
       "      <td>32.0</td>\n",
       "      <td>2</td>\n",
       "      <td>False</td>\n",
       "      <td>...</td>\n",
       "      <td>NaN</td>\n",
       "      <td>NaN</td>\n",
       "      <td>NaN</td>\n",
       "      <td>259.0</td>\n",
       "      <td>65217.39</td>\n",
       "      <td>3</td>\n",
       "      <td>7</td>\n",
       "      <td>2018</td>\n",
       "      <td>other</td>\n",
       "      <td>NaN</td>\n",
       "    </tr>\n",
       "    <tr>\n",
       "      <th>3148</th>\n",
       "      <td>14</td>\n",
       "      <td>2900000</td>\n",
       "      <td>75.0</td>\n",
       "      <td>2018-11-12</td>\n",
       "      <td>3</td>\n",
       "      <td>32.0</td>\n",
       "      <td>3</td>\n",
       "      <td>53.0</td>\n",
       "      <td>2</td>\n",
       "      <td>False</td>\n",
       "      <td>...</td>\n",
       "      <td>NaN</td>\n",
       "      <td>NaN</td>\n",
       "      <td>NaN</td>\n",
       "      <td>NaN</td>\n",
       "      <td>38666.67</td>\n",
       "      <td>0</td>\n",
       "      <td>11</td>\n",
       "      <td>2018</td>\n",
       "      <td>other</td>\n",
       "      <td>NaN</td>\n",
       "    </tr>\n",
       "    <tr>\n",
       "      <th>4643</th>\n",
       "      <td>0</td>\n",
       "      <td>4300000</td>\n",
       "      <td>45.0</td>\n",
       "      <td>2018-02-01</td>\n",
       "      <td>2</td>\n",
       "      <td>25.0</td>\n",
       "      <td>9</td>\n",
       "      <td>30.0</td>\n",
       "      <td>2</td>\n",
       "      <td>False</td>\n",
       "      <td>...</td>\n",
       "      <td>658.0</td>\n",
       "      <td>1.0</td>\n",
       "      <td>331.0</td>\n",
       "      <td>181.0</td>\n",
       "      <td>95555.56</td>\n",
       "      <td>3</td>\n",
       "      <td>2</td>\n",
       "      <td>2018</td>\n",
       "      <td>other</td>\n",
       "      <td>13.26</td>\n",
       "    </tr>\n",
       "    <tr>\n",
       "      <th>4876</th>\n",
       "      <td>7</td>\n",
       "      <td>3000000</td>\n",
       "      <td>25.0</td>\n",
       "      <td>2017-09-27</td>\n",
       "      <td>0</td>\n",
       "      <td>27.0</td>\n",
       "      <td>25</td>\n",
       "      <td>17.0</td>\n",
       "      <td>17</td>\n",
       "      <td>False</td>\n",
       "      <td>...</td>\n",
       "      <td>NaN</td>\n",
       "      <td>NaN</td>\n",
       "      <td>NaN</td>\n",
       "      <td>28.0</td>\n",
       "      <td>120000.00</td>\n",
       "      <td>2</td>\n",
       "      <td>9</td>\n",
       "      <td>2017</td>\n",
       "      <td>other</td>\n",
       "      <td>NaN</td>\n",
       "    </tr>\n",
       "    <tr>\n",
       "      <th>5076</th>\n",
       "      <td>0</td>\n",
       "      <td>3850000</td>\n",
       "      <td>30.5</td>\n",
       "      <td>2018-10-03</td>\n",
       "      <td>1</td>\n",
       "      <td>24.0</td>\n",
       "      <td>5</td>\n",
       "      <td>19.5</td>\n",
       "      <td>1</td>\n",
       "      <td>True</td>\n",
       "      <td>...</td>\n",
       "      <td>397.0</td>\n",
       "      <td>1.0</td>\n",
       "      <td>578.0</td>\n",
       "      <td>7.0</td>\n",
       "      <td>126229.51</td>\n",
       "      <td>2</td>\n",
       "      <td>10</td>\n",
       "      <td>2018</td>\n",
       "      <td>first</td>\n",
       "      <td>8.39</td>\n",
       "    </tr>\n",
       "    <tr>\n",
       "      <th>5246</th>\n",
       "      <td>0</td>\n",
       "      <td>2500000</td>\n",
       "      <td>54.0</td>\n",
       "      <td>2017-10-13</td>\n",
       "      <td>2</td>\n",
       "      <td>27.0</td>\n",
       "      <td>5</td>\n",
       "      <td>30.0</td>\n",
       "      <td>3</td>\n",
       "      <td>False</td>\n",
       "      <td>...</td>\n",
       "      <td>NaN</td>\n",
       "      <td>NaN</td>\n",
       "      <td>NaN</td>\n",
       "      <td>540.0</td>\n",
       "      <td>46296.30</td>\n",
       "      <td>4</td>\n",
       "      <td>10</td>\n",
       "      <td>2017</td>\n",
       "      <td>other</td>\n",
       "      <td>NaN</td>\n",
       "    </tr>\n",
       "    <tr>\n",
       "      <th>5669</th>\n",
       "      <td>4</td>\n",
       "      <td>4400000</td>\n",
       "      <td>50.0</td>\n",
       "      <td>2017-08-08</td>\n",
       "      <td>2</td>\n",
       "      <td>26.0</td>\n",
       "      <td>9</td>\n",
       "      <td>21.3</td>\n",
       "      <td>3</td>\n",
       "      <td>False</td>\n",
       "      <td>...</td>\n",
       "      <td>305.0</td>\n",
       "      <td>0.0</td>\n",
       "      <td>NaN</td>\n",
       "      <td>267.0</td>\n",
       "      <td>88000.00</td>\n",
       "      <td>1</td>\n",
       "      <td>8</td>\n",
       "      <td>2017</td>\n",
       "      <td>other</td>\n",
       "      <td>10.91</td>\n",
       "    </tr>\n",
       "    <tr>\n",
       "      <th>5807</th>\n",
       "      <td>17</td>\n",
       "      <td>8150000</td>\n",
       "      <td>80.0</td>\n",
       "      <td>2019-01-09</td>\n",
       "      <td>2</td>\n",
       "      <td>27.0</td>\n",
       "      <td>36</td>\n",
       "      <td>41.0</td>\n",
       "      <td>13</td>\n",
       "      <td>False</td>\n",
       "      <td>...</td>\n",
       "      <td>NaN</td>\n",
       "      <td>3.0</td>\n",
       "      <td>80.0</td>\n",
       "      <td>38.0</td>\n",
       "      <td>101875.00</td>\n",
       "      <td>2</td>\n",
       "      <td>1</td>\n",
       "      <td>2019</td>\n",
       "      <td>other</td>\n",
       "      <td>20.44</td>\n",
       "    </tr>\n",
       "    <tr>\n",
       "      <th>6246</th>\n",
       "      <td>6</td>\n",
       "      <td>3300000</td>\n",
       "      <td>44.4</td>\n",
       "      <td>2019-03-25</td>\n",
       "      <td>2</td>\n",
       "      <td>25.0</td>\n",
       "      <td>5</td>\n",
       "      <td>31.3</td>\n",
       "      <td>5</td>\n",
       "      <td>False</td>\n",
       "      <td>...</td>\n",
       "      <td>417.0</td>\n",
       "      <td>2.0</td>\n",
       "      <td>73.0</td>\n",
       "      <td>NaN</td>\n",
       "      <td>74324.32</td>\n",
       "      <td>0</td>\n",
       "      <td>3</td>\n",
       "      <td>2019</td>\n",
       "      <td>last</td>\n",
       "      <td>50.65</td>\n",
       "    </tr>\n",
       "    <tr>\n",
       "      <th>9379</th>\n",
       "      <td>5</td>\n",
       "      <td>3950000</td>\n",
       "      <td>42.0</td>\n",
       "      <td>2017-03-26</td>\n",
       "      <td>3</td>\n",
       "      <td>25.0</td>\n",
       "      <td>5</td>\n",
       "      <td>30.0</td>\n",
       "      <td>2</td>\n",
       "      <td>False</td>\n",
       "      <td>...</td>\n",
       "      <td>NaN</td>\n",
       "      <td>0.0</td>\n",
       "      <td>NaN</td>\n",
       "      <td>NaN</td>\n",
       "      <td>94047.62</td>\n",
       "      <td>6</td>\n",
       "      <td>3</td>\n",
       "      <td>2017</td>\n",
       "      <td>other</td>\n",
       "      <td>13.58</td>\n",
       "    </tr>\n",
       "    <tr>\n",
       "      <th>10773</th>\n",
       "      <td>8</td>\n",
       "      <td>3800000</td>\n",
       "      <td>58.0</td>\n",
       "      <td>2017-10-13</td>\n",
       "      <td>2</td>\n",
       "      <td>27.0</td>\n",
       "      <td>10</td>\n",
       "      <td>30.1</td>\n",
       "      <td>3</td>\n",
       "      <td>False</td>\n",
       "      <td>...</td>\n",
       "      <td>NaN</td>\n",
       "      <td>NaN</td>\n",
       "      <td>NaN</td>\n",
       "      <td>71.0</td>\n",
       "      <td>65517.24</td>\n",
       "      <td>4</td>\n",
       "      <td>10</td>\n",
       "      <td>2017</td>\n",
       "      <td>other</td>\n",
       "      <td>NaN</td>\n",
       "    </tr>\n",
       "    <tr>\n",
       "      <th>11285</th>\n",
       "      <td>0</td>\n",
       "      <td>1950000</td>\n",
       "      <td>37.0</td>\n",
       "      <td>2019-03-20</td>\n",
       "      <td>1</td>\n",
       "      <td>25.0</td>\n",
       "      <td>5</td>\n",
       "      <td>17.0</td>\n",
       "      <td>4</td>\n",
       "      <td>False</td>\n",
       "      <td>...</td>\n",
       "      <td>NaN</td>\n",
       "      <td>NaN</td>\n",
       "      <td>NaN</td>\n",
       "      <td>18.0</td>\n",
       "      <td>52702.70</td>\n",
       "      <td>2</td>\n",
       "      <td>3</td>\n",
       "      <td>2019</td>\n",
       "      <td>other</td>\n",
       "      <td>NaN</td>\n",
       "    </tr>\n",
       "    <tr>\n",
       "      <th>14382</th>\n",
       "      <td>9</td>\n",
       "      <td>1700000</td>\n",
       "      <td>35.0</td>\n",
       "      <td>2015-12-04</td>\n",
       "      <td>1</td>\n",
       "      <td>25.0</td>\n",
       "      <td>5</td>\n",
       "      <td>20.0</td>\n",
       "      <td>2</td>\n",
       "      <td>False</td>\n",
       "      <td>...</td>\n",
       "      <td>NaN</td>\n",
       "      <td>NaN</td>\n",
       "      <td>NaN</td>\n",
       "      <td>206.0</td>\n",
       "      <td>48571.43</td>\n",
       "      <td>4</td>\n",
       "      <td>12</td>\n",
       "      <td>2015</td>\n",
       "      <td>other</td>\n",
       "      <td>NaN</td>\n",
       "    </tr>\n",
       "    <tr>\n",
       "      <th>15061</th>\n",
       "      <td>19</td>\n",
       "      <td>5600000</td>\n",
       "      <td>56.4</td>\n",
       "      <td>2018-05-11</td>\n",
       "      <td>2</td>\n",
       "      <td>14.0</td>\n",
       "      <td>14</td>\n",
       "      <td>32.4</td>\n",
       "      <td>5</td>\n",
       "      <td>False</td>\n",
       "      <td>...</td>\n",
       "      <td>NaN</td>\n",
       "      <td>0.0</td>\n",
       "      <td>NaN</td>\n",
       "      <td>315.0</td>\n",
       "      <td>99290.78</td>\n",
       "      <td>4</td>\n",
       "      <td>5</td>\n",
       "      <td>2018</td>\n",
       "      <td>other</td>\n",
       "      <td>13.61</td>\n",
       "    </tr>\n",
       "    <tr>\n",
       "      <th>17496</th>\n",
       "      <td>15</td>\n",
       "      <td>6700000</td>\n",
       "      <td>92.9</td>\n",
       "      <td>2019-02-19</td>\n",
       "      <td>3</td>\n",
       "      <td>20.0</td>\n",
       "      <td>17</td>\n",
       "      <td>53.2</td>\n",
       "      <td>14</td>\n",
       "      <td>False</td>\n",
       "      <td>...</td>\n",
       "      <td>967.0</td>\n",
       "      <td>0.0</td>\n",
       "      <td>NaN</td>\n",
       "      <td>NaN</td>\n",
       "      <td>72120.56</td>\n",
       "      <td>1</td>\n",
       "      <td>2</td>\n",
       "      <td>2019</td>\n",
       "      <td>other</td>\n",
       "      <td>15.09</td>\n",
       "    </tr>\n",
       "    <tr>\n",
       "      <th>17857</th>\n",
       "      <td>1</td>\n",
       "      <td>3900000</td>\n",
       "      <td>56.0</td>\n",
       "      <td>2017-12-22</td>\n",
       "      <td>3</td>\n",
       "      <td>27.0</td>\n",
       "      <td>5</td>\n",
       "      <td>33.0</td>\n",
       "      <td>4</td>\n",
       "      <td>False</td>\n",
       "      <td>...</td>\n",
       "      <td>NaN</td>\n",
       "      <td>0.0</td>\n",
       "      <td>NaN</td>\n",
       "      <td>73.0</td>\n",
       "      <td>69642.86</td>\n",
       "      <td>4</td>\n",
       "      <td>12</td>\n",
       "      <td>2017</td>\n",
       "      <td>other</td>\n",
       "      <td>15.54</td>\n",
       "    </tr>\n",
       "    <tr>\n",
       "      <th>18545</th>\n",
       "      <td>6</td>\n",
       "      <td>3750000</td>\n",
       "      <td>43.0</td>\n",
       "      <td>2019-03-18</td>\n",
       "      <td>2</td>\n",
       "      <td>25.0</td>\n",
       "      <td>5</td>\n",
       "      <td>29.0</td>\n",
       "      <td>3</td>\n",
       "      <td>False</td>\n",
       "      <td>...</td>\n",
       "      <td>540.0</td>\n",
       "      <td>0.0</td>\n",
       "      <td>NaN</td>\n",
       "      <td>12.0</td>\n",
       "      <td>87209.30</td>\n",
       "      <td>0</td>\n",
       "      <td>3</td>\n",
       "      <td>2019</td>\n",
       "      <td>other</td>\n",
       "      <td>8.03</td>\n",
       "    </tr>\n",
       "    <tr>\n",
       "      <th>20478</th>\n",
       "      <td>11</td>\n",
       "      <td>8000000</td>\n",
       "      <td>45.0</td>\n",
       "      <td>2017-07-18</td>\n",
       "      <td>1</td>\n",
       "      <td>27.0</td>\n",
       "      <td>4</td>\n",
       "      <td>22.0</td>\n",
       "      <td>2</td>\n",
       "      <td>False</td>\n",
       "      <td>...</td>\n",
       "      <td>NaN</td>\n",
       "      <td>3.0</td>\n",
       "      <td>449.0</td>\n",
       "      <td>429.0</td>\n",
       "      <td>177777.78</td>\n",
       "      <td>1</td>\n",
       "      <td>7</td>\n",
       "      <td>2017</td>\n",
       "      <td>other</td>\n",
       "      <td>3.25</td>\n",
       "    </tr>\n",
       "    <tr>\n",
       "      <th>20507</th>\n",
       "      <td>12</td>\n",
       "      <td>5950000</td>\n",
       "      <td>60.0</td>\n",
       "      <td>2018-02-19</td>\n",
       "      <td>2</td>\n",
       "      <td>22.6</td>\n",
       "      <td>14</td>\n",
       "      <td>35.0</td>\n",
       "      <td>11</td>\n",
       "      <td>False</td>\n",
       "      <td>...</td>\n",
       "      <td>NaN</td>\n",
       "      <td>0.0</td>\n",
       "      <td>NaN</td>\n",
       "      <td>40.0</td>\n",
       "      <td>99166.67</td>\n",
       "      <td>0</td>\n",
       "      <td>2</td>\n",
       "      <td>2018</td>\n",
       "      <td>other</td>\n",
       "      <td>12.57</td>\n",
       "    </tr>\n",
       "    <tr>\n",
       "      <th>21377</th>\n",
       "      <td>19</td>\n",
       "      <td>4900000</td>\n",
       "      <td>42.0</td>\n",
       "      <td>2017-04-18</td>\n",
       "      <td>1</td>\n",
       "      <td>27.5</td>\n",
       "      <td>24</td>\n",
       "      <td>37.7</td>\n",
       "      <td>19</td>\n",
       "      <td>False</td>\n",
       "      <td>...</td>\n",
       "      <td>NaN</td>\n",
       "      <td>0.0</td>\n",
       "      <td>NaN</td>\n",
       "      <td>61.0</td>\n",
       "      <td>116666.67</td>\n",
       "      <td>1</td>\n",
       "      <td>4</td>\n",
       "      <td>2017</td>\n",
       "      <td>other</td>\n",
       "      <td>9.76</td>\n",
       "    </tr>\n",
       "    <tr>\n",
       "      <th>21824</th>\n",
       "      <td>20</td>\n",
       "      <td>2450000</td>\n",
       "      <td>44.0</td>\n",
       "      <td>2019-02-12</td>\n",
       "      <td>2</td>\n",
       "      <td>27.0</td>\n",
       "      <td>2</td>\n",
       "      <td>38.0</td>\n",
       "      <td>2</td>\n",
       "      <td>False</td>\n",
       "      <td>...</td>\n",
       "      <td>NaN</td>\n",
       "      <td>NaN</td>\n",
       "      <td>NaN</td>\n",
       "      <td>NaN</td>\n",
       "      <td>55681.82</td>\n",
       "      <td>1</td>\n",
       "      <td>2</td>\n",
       "      <td>2019</td>\n",
       "      <td>last</td>\n",
       "      <td>NaN</td>\n",
       "    </tr>\n",
       "    <tr>\n",
       "      <th>22309</th>\n",
       "      <td>20</td>\n",
       "      <td>5300000</td>\n",
       "      <td>45.0</td>\n",
       "      <td>2017-09-30</td>\n",
       "      <td>1</td>\n",
       "      <td>10.3</td>\n",
       "      <td>16</td>\n",
       "      <td>15.5</td>\n",
       "      <td>15</td>\n",
       "      <td>False</td>\n",
       "      <td>...</td>\n",
       "      <td>440.0</td>\n",
       "      <td>2.0</td>\n",
       "      <td>450.0</td>\n",
       "      <td>136.0</td>\n",
       "      <td>117777.78</td>\n",
       "      <td>5</td>\n",
       "      <td>9</td>\n",
       "      <td>2017</td>\n",
       "      <td>other</td>\n",
       "      <td>11.94</td>\n",
       "    </tr>\n",
       "    <tr>\n",
       "      <th>22336</th>\n",
       "      <td>19</td>\n",
       "      <td>9999000</td>\n",
       "      <td>92.4</td>\n",
       "      <td>2019-04-05</td>\n",
       "      <td>2</td>\n",
       "      <td>32.0</td>\n",
       "      <td>6</td>\n",
       "      <td>55.5</td>\n",
       "      <td>5</td>\n",
       "      <td>False</td>\n",
       "      <td>...</td>\n",
       "      <td>NaN</td>\n",
       "      <td>3.0</td>\n",
       "      <td>511.0</td>\n",
       "      <td>NaN</td>\n",
       "      <td>108214.29</td>\n",
       "      <td>4</td>\n",
       "      <td>4</td>\n",
       "      <td>2019</td>\n",
       "      <td>other</td>\n",
       "      <td>3.51</td>\n",
       "    </tr>\n",
       "    <tr>\n",
       "      <th>22869</th>\n",
       "      <td>0</td>\n",
       "      <td>15000000</td>\n",
       "      <td>25.0</td>\n",
       "      <td>2018-07-25</td>\n",
       "      <td>1</td>\n",
       "      <td>100.0</td>\n",
       "      <td>5</td>\n",
       "      <td>14.0</td>\n",
       "      <td>5</td>\n",
       "      <td>True</td>\n",
       "      <td>...</td>\n",
       "      <td>223.0</td>\n",
       "      <td>3.0</td>\n",
       "      <td>30.0</td>\n",
       "      <td>19.0</td>\n",
       "      <td>600000.00</td>\n",
       "      <td>2</td>\n",
       "      <td>7</td>\n",
       "      <td>2018</td>\n",
       "      <td>last</td>\n",
       "      <td>8.28</td>\n",
       "    </tr>\n",
       "    <tr>\n",
       "      <th>22938</th>\n",
       "      <td>14</td>\n",
       "      <td>4000000</td>\n",
       "      <td>98.0</td>\n",
       "      <td>2018-03-15</td>\n",
       "      <td>4</td>\n",
       "      <td>27.0</td>\n",
       "      <td>2</td>\n",
       "      <td>73.0</td>\n",
       "      <td>2</td>\n",
       "      <td>True</td>\n",
       "      <td>...</td>\n",
       "      <td>NaN</td>\n",
       "      <td>NaN</td>\n",
       "      <td>NaN</td>\n",
       "      <td>27.0</td>\n",
       "      <td>40816.33</td>\n",
       "      <td>3</td>\n",
       "      <td>3</td>\n",
       "      <td>2018</td>\n",
       "      <td>last</td>\n",
       "      <td>NaN</td>\n",
       "    </tr>\n",
       "  </tbody>\n",
       "</table>\n",
       "<p>25 rows × 28 columns</p>\n",
       "</div>"
      ],
      "text/plain": [
       "       total_images  last_price  total_area first_day_exposition  rooms  \\\n",
       "355              17     3600000        55.2           2018-07-12      2   \n",
       "3148             14     2900000        75.0           2018-11-12      3   \n",
       "4643              0     4300000        45.0           2018-02-01      2   \n",
       "4876              7     3000000        25.0           2017-09-27      0   \n",
       "5076              0     3850000        30.5           2018-10-03      1   \n",
       "5246              0     2500000        54.0           2017-10-13      2   \n",
       "5669              4     4400000        50.0           2017-08-08      2   \n",
       "5807             17     8150000        80.0           2019-01-09      2   \n",
       "6246              6     3300000        44.4           2019-03-25      2   \n",
       "9379              5     3950000        42.0           2017-03-26      3   \n",
       "10773             8     3800000        58.0           2017-10-13      2   \n",
       "11285             0     1950000        37.0           2019-03-20      1   \n",
       "14382             9     1700000        35.0           2015-12-04      1   \n",
       "15061            19     5600000        56.4           2018-05-11      2   \n",
       "17496            15     6700000        92.9           2019-02-19      3   \n",
       "17857             1     3900000        56.0           2017-12-22      3   \n",
       "18545             6     3750000        43.0           2019-03-18      2   \n",
       "20478            11     8000000        45.0           2017-07-18      1   \n",
       "20507            12     5950000        60.0           2018-02-19      2   \n",
       "21377            19     4900000        42.0           2017-04-18      1   \n",
       "21824            20     2450000        44.0           2019-02-12      2   \n",
       "22309            20     5300000        45.0           2017-09-30      1   \n",
       "22336            19     9999000        92.4           2019-04-05      2   \n",
       "22869             0    15000000        25.0           2018-07-25      1   \n",
       "22938            14     4000000        98.0           2018-03-15      4   \n",
       "\n",
       "       ceiling_height  floors_total  living_area  floor  is_apartment  ...  \\\n",
       "355              25.0             5         32.0      2         False  ...   \n",
       "3148             32.0             3         53.0      2         False  ...   \n",
       "4643             25.0             9         30.0      2         False  ...   \n",
       "4876             27.0            25         17.0     17         False  ...   \n",
       "5076             24.0             5         19.5      1          True  ...   \n",
       "5246             27.0             5         30.0      3         False  ...   \n",
       "5669             26.0             9         21.3      3         False  ...   \n",
       "5807             27.0            36         41.0     13         False  ...   \n",
       "6246             25.0             5         31.3      5         False  ...   \n",
       "9379             25.0             5         30.0      2         False  ...   \n",
       "10773            27.0            10         30.1      3         False  ...   \n",
       "11285            25.0             5         17.0      4         False  ...   \n",
       "14382            25.0             5         20.0      2         False  ...   \n",
       "15061            14.0            14         32.4      5         False  ...   \n",
       "17496            20.0            17         53.2     14         False  ...   \n",
       "17857            27.0             5         33.0      4         False  ...   \n",
       "18545            25.0             5         29.0      3         False  ...   \n",
       "20478            27.0             4         22.0      2         False  ...   \n",
       "20507            22.6            14         35.0     11         False  ...   \n",
       "21377            27.5            24         37.7     19         False  ...   \n",
       "21824            27.0             2         38.0      2         False  ...   \n",
       "22309            10.3            16         15.5     15         False  ...   \n",
       "22336            32.0             6         55.5      5         False  ...   \n",
       "22869           100.0             5         14.0      5          True  ...   \n",
       "22938            27.0             2         73.0      2          True  ...   \n",
       "\n",
       "       parks_nearest  ponds_around3000  ponds_nearest  days_exposition  \\\n",
       "355              NaN               NaN            NaN            259.0   \n",
       "3148             NaN               NaN            NaN              NaN   \n",
       "4643           658.0               1.0          331.0            181.0   \n",
       "4876             NaN               NaN            NaN             28.0   \n",
       "5076           397.0               1.0          578.0              7.0   \n",
       "5246             NaN               NaN            NaN            540.0   \n",
       "5669           305.0               0.0            NaN            267.0   \n",
       "5807             NaN               3.0           80.0             38.0   \n",
       "6246           417.0               2.0           73.0              NaN   \n",
       "9379             NaN               0.0            NaN              NaN   \n",
       "10773            NaN               NaN            NaN             71.0   \n",
       "11285            NaN               NaN            NaN             18.0   \n",
       "14382            NaN               NaN            NaN            206.0   \n",
       "15061            NaN               0.0            NaN            315.0   \n",
       "17496          967.0               0.0            NaN              NaN   \n",
       "17857            NaN               0.0            NaN             73.0   \n",
       "18545          540.0               0.0            NaN             12.0   \n",
       "20478            NaN               3.0          449.0            429.0   \n",
       "20507            NaN               0.0            NaN             40.0   \n",
       "21377            NaN               0.0            NaN             61.0   \n",
       "21824            NaN               NaN            NaN              NaN   \n",
       "22309          440.0               2.0          450.0            136.0   \n",
       "22336            NaN               3.0          511.0              NaN   \n",
       "22869          223.0               3.0           30.0             19.0   \n",
       "22938            NaN               NaN            NaN             27.0   \n",
       "\n",
       "      price_one_meter  weekday  month  year  floor_category  \\\n",
       "355          65217.39        3      7  2018           other   \n",
       "3148         38666.67        0     11  2018           other   \n",
       "4643         95555.56        3      2  2018           other   \n",
       "4876        120000.00        2      9  2017           other   \n",
       "5076        126229.51        2     10  2018           first   \n",
       "5246         46296.30        4     10  2017           other   \n",
       "5669         88000.00        1      8  2017           other   \n",
       "5807        101875.00        2      1  2019           other   \n",
       "6246         74324.32        0      3  2019            last   \n",
       "9379         94047.62        6      3  2017           other   \n",
       "10773        65517.24        4     10  2017           other   \n",
       "11285        52702.70        2      3  2019           other   \n",
       "14382        48571.43        4     12  2015           other   \n",
       "15061        99290.78        4      5  2018           other   \n",
       "17496        72120.56        1      2  2019           other   \n",
       "17857        69642.86        4     12  2017           other   \n",
       "18545        87209.30        0      3  2019           other   \n",
       "20478       177777.78        1      7  2017           other   \n",
       "20507        99166.67        0      2  2018           other   \n",
       "21377       116666.67        1      4  2017           other   \n",
       "21824        55681.82        1      2  2019            last   \n",
       "22309       117777.78        5      9  2017           other   \n",
       "22336       108214.29        4      4  2019           other   \n",
       "22869       600000.00        2      7  2018            last   \n",
       "22938        40816.33        3      3  2018            last   \n",
       "\n",
       "       kilometer_centers_nearest  \n",
       "355                          NaN  \n",
       "3148                         NaN  \n",
       "4643                       13.26  \n",
       "4876                         NaN  \n",
       "5076                        8.39  \n",
       "5246                         NaN  \n",
       "5669                       10.91  \n",
       "5807                       20.44  \n",
       "6246                       50.65  \n",
       "9379                       13.58  \n",
       "10773                        NaN  \n",
       "11285                        NaN  \n",
       "14382                        NaN  \n",
       "15061                      13.61  \n",
       "17496                      15.09  \n",
       "17857                      15.54  \n",
       "18545                       8.03  \n",
       "20478                       3.25  \n",
       "20507                      12.57  \n",
       "21377                       9.76  \n",
       "21824                        NaN  \n",
       "22309                      11.94  \n",
       "22336                       3.51  \n",
       "22869                       8.28  \n",
       "22938                        NaN  \n",
       "\n",
       "[25 rows x 28 columns]"
      ]
     },
     "execution_count": 47,
     "metadata": {},
     "output_type": "execute_result"
    }
   ],
   "source": [
    "data.query('ceiling_height >10')"
   ]
  },
  {
   "cell_type": "code",
   "execution_count": 31,
   "metadata": {},
   "outputs": [
    {
     "data": {
      "text/plain": [
       "count    23565.000000\n",
       "mean         2.681135\n",
       "std          0.243720\n",
       "min          1.000000\n",
       "25%          2.600000\n",
       "50%          2.600000\n",
       "75%          2.700000\n",
       "max         10.000000\n",
       "Name: ceiling_height, dtype: float64"
      ]
     },
     "execution_count": 31,
     "metadata": {},
     "output_type": "execute_result"
    }
   ],
   "source": [
    "data.loc[data['ceiling_height'] >= 10, 'ceiling_height'] = data['ceiling_height']/10\n",
    "data['ceiling_height'].describe()"
   ]
  },
  {
   "cell_type": "markdown",
   "metadata": {},
   "source": [
    "Мы избавились от некорректных значений. В среднем высота потолков в объявлениях составляет около 2.6 метров."
   ]
  },
  {
   "cell_type": "markdown",
   "metadata": {},
   "source": [
    "***7. Тип этажа квартиры («первый», «последний», «другой»)***"
   ]
  },
  {
   "cell_type": "code",
   "execution_count": 49,
   "metadata": {},
   "outputs": [
    {
     "data": {
      "text/plain": [
       "<AxesSubplot:ylabel='last_price'>"
      ]
     },
     "execution_count": 49,
     "metadata": {},
     "output_type": "execute_result"
    },
    {
     "data": {
      "image/png": "[encoded data removed]",
      "text/plain": [
       "<Figure size 432x288 with 1 Axes>"
      ]
     },
     "metadata": {},
     "output_type": "display_data"
    }
   ],
   "source": [
    "(data\n",
    "    .pivot_table(index='floor_category', values='last_price', aggfunc='count')\n",
    "    .plot(y='last_price', kind='pie', autopct='%1.1f%%') #построим круговую диаграмму по количеству объявлений разных типов этажа квартиры\n",
    ")"
   ]
  },
  {
   "cell_type": "markdown",
   "metadata": {},
   "source": [
    "Мы видим, что четверть объявлений состоит из квартир с первым или последним этажом. Это означает, что количество предложений о продаже таких квартир довольно высокое."
   ]
  },
  {
   "cell_type": "markdown",
   "metadata": {},
   "source": [
    "***8. Общее количество этажей в доме***"
   ]
  },
  {
   "cell_type": "code",
   "execution_count": 50,
   "metadata": {},
   "outputs": [
    {
     "data": {
      "text/plain": [
       "count    23699.000000\n",
       "mean        10.681759\n",
       "std          6.599383\n",
       "min          1.000000\n",
       "25%          5.000000\n",
       "50%          9.000000\n",
       "75%         16.000000\n",
       "max         60.000000\n",
       "Name: floors_total, dtype: float64"
      ]
     },
     "execution_count": 50,
     "metadata": {},
     "output_type": "execute_result"
    }
   ],
   "source": [
    "data['floors_total'].describe()"
   ]
  },
  {
   "cell_type": "code",
   "execution_count": 51,
   "metadata": {},
   "outputs": [
    {
     "data": {
      "text/plain": [
       "<AxesSubplot:ylabel='Frequency'>"
      ]
     },
     "execution_count": 51,
     "metadata": {},
     "output_type": "execute_result"
    },
    {
     "data": {
      "image/png": "[encoded data removed]",
      "text/plain": [
       "<Figure size 432x288 with 1 Axes>"
      ]
     },
     "metadata": {
      "needs_background": "light"
     },
     "output_type": "display_data"
    }
   ],
   "source": [
    "data.plot(y = 'floors_total', kind = 'hist', bins = 100, grid=True)"
   ]
  },
  {
   "cell_type": "code",
   "execution_count": 52,
   "metadata": {},
   "outputs": [
    {
     "data": {
      "text/plain": [
       "<AxesSubplot:ylabel='Frequency'>"
      ]
     },
     "execution_count": 52,
     "metadata": {},
     "output_type": "execute_result"
    },
    {
     "data": {
      "image/png": "[encoded data removed]",
      "text/plain": [
       "<Figure size 432x288 with 1 Axes>"
      ]
     },
     "metadata": {
      "needs_background": "light"
     },
     "output_type": "display_data"
    }
   ],
   "source": [
    "data.plot(y = 'floors_total', kind = 'hist', bins = 100, grid=True, range=(1, 30))"
   ]
  },
  {
   "cell_type": "markdown",
   "metadata": {},
   "source": [
    "Минимум этажей в доме - 1, максимум - 60 этажей. Больше всего предложений о продаже квартир в пятиэтажных и девятиэтажных домах."
   ]
  },
  {
   "cell_type": "markdown",
   "metadata": {},
   "source": [
    "***9. Расстояние до центра города в метрах***"
   ]
  },
  {
   "cell_type": "code",
   "execution_count": 53,
   "metadata": {},
   "outputs": [
    {
     "data": {
      "text/plain": [
       "count    18180.000000\n",
       "mean     14191.277833\n",
       "std       8608.386210\n",
       "min        181.000000\n",
       "25%       9238.000000\n",
       "50%      13098.500000\n",
       "75%      16293.000000\n",
       "max      65968.000000\n",
       "Name: city_centers_nearest, dtype: float64"
      ]
     },
     "execution_count": 53,
     "metadata": {},
     "output_type": "execute_result"
    }
   ],
   "source": [
    "data['city_centers_nearest'].describe()"
   ]
  },
  {
   "cell_type": "code",
   "execution_count": 54,
   "metadata": {},
   "outputs": [
    {
     "data": {
      "text/plain": [
       "<AxesSubplot:ylabel='Frequency'>"
      ]
     },
     "execution_count": 54,
     "metadata": {},
     "output_type": "execute_result"
    },
    {
     "data": {
      "image/png": "[encoded data removed]",
      "text/plain": [
       "<Figure size 432x288 with 1 Axes>"
      ]
     },
     "metadata": {
      "needs_background": "light"
     },
     "output_type": "display_data"
    }
   ],
   "source": [
    "data.plot(y = 'city_centers_nearest', kind = 'hist', bins = 100, grid=True)"
   ]
  },
  {
   "cell_type": "code",
   "execution_count": 55,
   "metadata": {},
   "outputs": [
    {
     "data": {
      "text/plain": [
       "<AxesSubplot:ylabel='Frequency'>"
      ]
     },
     "execution_count": 55,
     "metadata": {},
     "output_type": "execute_result"
    },
    {
     "data": {
      "image/png": "[encoded data removed]",
      "text/plain": [
       "<Figure size 432x288 with 1 Axes>"
      ]
     },
     "metadata": {
      "needs_background": "light"
     },
     "output_type": "display_data"
    }
   ],
   "source": [
    "data.plot(y = 'city_centers_nearest', kind = 'hist', bins = 100, grid=True, range=(0, 20000))"
   ]
  },
  {
   "cell_type": "markdown",
   "metadata": {},
   "source": [
    "Минимальное расстояние до центра города - 181 метр, максимальное - 65968 метров. Самый распространенный вариант - объявления, где расстояние до центра около 15000 метров"
   ]
  },
  {
   "cell_type": "markdown",
   "metadata": {},
   "source": [
    "***10. Расстояние до ближайшего парка***"
   ]
  },
  {
   "cell_type": "code",
   "execution_count": 56,
   "metadata": {},
   "outputs": [
    {
     "data": {
      "text/plain": [
       "count    8079.000000\n",
       "mean      490.804555\n",
       "std       342.317995\n",
       "min         1.000000\n",
       "25%       288.000000\n",
       "50%       455.000000\n",
       "75%       612.000000\n",
       "max      3190.000000\n",
       "Name: parks_nearest, dtype: float64"
      ]
     },
     "execution_count": 56,
     "metadata": {},
     "output_type": "execute_result"
    }
   ],
   "source": [
    "data['parks_nearest'].describe()"
   ]
  },
  {
   "cell_type": "code",
   "execution_count": 57,
   "metadata": {
    "scrolled": true
   },
   "outputs": [
    {
     "data": {
      "text/plain": [
       "<AxesSubplot:ylabel='Frequency'>"
      ]
     },
     "execution_count": 57,
     "metadata": {},
     "output_type": "execute_result"
    },
    {
     "data": {
      "image/png": "[encoded data removed]",
      "text/plain": [
       "<Figure size 432x288 with 1 Axes>"
      ]
     },
     "metadata": {
      "needs_background": "light"
     },
     "output_type": "display_data"
    }
   ],
   "source": [
    "data.plot(y = 'parks_nearest', kind = 'hist', bins = 100, grid=True)"
   ]
  },
  {
   "cell_type": "code",
   "execution_count": 58,
   "metadata": {},
   "outputs": [
    {
     "data": {
      "text/plain": [
       "<AxesSubplot:ylabel='Frequency'>"
      ]
     },
     "execution_count": 58,
     "metadata": {},
     "output_type": "execute_result"
    },
    {
     "data": {
      "image/png": "[encoded data removed]",
      "text/plain": [
       "<Figure size 432x288 with 1 Axes>"
      ]
     },
     "metadata": {
      "needs_background": "light"
     },
     "output_type": "display_data"
    }
   ],
   "source": [
    "data.plot(y = 'parks_nearest', kind = 'hist', bins = 100, grid=True, range=(1, 1000))"
   ]
  },
  {
   "cell_type": "markdown",
   "metadata": {},
   "source": [
    "Минимальное расстояние до ближайшего парка - 1 метр, максимальное - 3190 метров. Чаще всего встречаются объявления, где расстояние около 400 - 600 метров. Можно сделать вывод, что количество объявлений не значительно зависит от расстояния до парка. "
   ]
  },
  {
   "cell_type": "markdown",
   "metadata": {},
   "source": [
    "<div class=\"alert alert-success\">\n",
    "<h2> Комментарий ревьюера V1<a class=\"tocSkip\"> </h2>\n",
    "\n",
    "<b>Все отлично!👍:</b> Замечательно проанализировала параметры, информативные гистограммы вывела, все описала и отметила верно."
   ]
  },
  {
   "cell_type": "markdown",
   "metadata": {
    "id": "h7VpzkIDAwb-"
   },
   "source": [
    "***4.2. Изучение скорости продажи квартир***"
   ]
  },
  {
   "cell_type": "code",
   "execution_count": 59,
   "metadata": {},
   "outputs": [
    {
     "data": {
      "text/plain": [
       "count    20518.000000\n",
       "mean       180.888634\n",
       "std        219.727988\n",
       "min          1.000000\n",
       "25%         45.000000\n",
       "50%         95.000000\n",
       "75%        232.000000\n",
       "max       1580.000000\n",
       "Name: days_exposition, dtype: float64"
      ]
     },
     "execution_count": 59,
     "metadata": {},
     "output_type": "execute_result"
    }
   ],
   "source": [
    "data['days_exposition'].describe()"
   ]
  },
  {
   "cell_type": "code",
   "execution_count": 60,
   "metadata": {},
   "outputs": [
    {
     "data": {
      "text/plain": [
       "95.0"
      ]
     },
     "execution_count": 60,
     "metadata": {},
     "output_type": "execute_result"
    }
   ],
   "source": [
    "data['days_exposition'].median()"
   ]
  },
  {
   "cell_type": "markdown",
   "metadata": {},
   "source": [
    "Среднее время продажи около полугода - 180 дней. При этом медианное значение составляет 95 дней, что более точно определяет среднее время продажи."
   ]
  },
  {
   "cell_type": "code",
   "execution_count": 61,
   "metadata": {},
   "outputs": [
    {
     "data": {
      "text/plain": [
       "<AxesSubplot:ylabel='Frequency'>"
      ]
     },
     "execution_count": 61,
     "metadata": {},
     "output_type": "execute_result"
    },
    {
     "data": {
      "image/png": "[encoded data removed]",
      "text/plain": [
       "<Figure size 432x288 with 1 Axes>"
      ]
     },
     "metadata": {
      "needs_background": "light"
     },
     "output_type": "display_data"
    }
   ],
   "source": [
    "data.plot(y = 'days_exposition', kind = 'hist', bins = 100, grid=True)"
   ]
  },
  {
   "cell_type": "code",
   "execution_count": 62,
   "metadata": {},
   "outputs": [
    {
     "data": {
      "text/plain": [
       "<AxesSubplot:>"
      ]
     },
     "execution_count": 62,
     "metadata": {},
     "output_type": "execute_result"
    },
    {
     "data": {
      "image/png": "[encoded data removed]",
      "text/plain": [
       "<Figure size 432x288 with 1 Axes>"
      ]
     },
     "metadata": {
      "needs_background": "light"
     },
     "output_type": "display_data"
    }
   ],
   "source": [
    "data.boxplot(column='days_exposition')"
   ]
  },
  {
   "cell_type": "markdown",
   "metadata": {},
   "source": [
    "На графике видно распределение Пуассона. При этом хорошо заметны выбросы. Возьмем срез до 500 дней, чтоб их убрать."
   ]
  },
  {
   "cell_type": "code",
   "execution_count": 63,
   "metadata": {},
   "outputs": [
    {
     "data": {
      "text/plain": [
       "<AxesSubplot:ylabel='Frequency'>"
      ]
     },
     "execution_count": 63,
     "metadata": {},
     "output_type": "execute_result"
    },
    {
     "data": {
      "image/png": "[encoded data removed]",
      "text/plain": [
       "<Figure size 432x288 with 1 Axes>"
      ]
     },
     "metadata": {
      "needs_background": "light"
     },
     "output_type": "display_data"
    }
   ],
   "source": [
    "data.plot(y = 'days_exposition', kind = 'hist', bins = 30, grid=True, range=(0, 500))"
   ]
  },
  {
   "cell_type": "code",
   "execution_count": 64,
   "metadata": {},
   "outputs": [
    {
     "data": {
      "text/plain": [
       "<AxesSubplot:ylabel='Frequency'>"
      ]
     },
     "execution_count": 64,
     "metadata": {},
     "output_type": "execute_result"
    },
    {
     "data": {
      "image/png": "[encoded data removed]",
      "text/plain": [
       "<Figure size 432x288 with 1 Axes>"
      ]
     },
     "metadata": {
      "needs_background": "light"
     },
     "output_type": "display_data"
    }
   ],
   "source": [
    "data.plot(y = 'days_exposition', kind = 'hist', bins = 30, grid=True, range=(0, 100))"
   ]
  },
  {
   "cell_type": "markdown",
   "metadata": {},
   "source": [
    "Хорошо прослеживаются 2 пика, посмотрим еще более детально."
   ]
  },
  {
   "cell_type": "code",
   "execution_count": 65,
   "metadata": {},
   "outputs": [
    {
     "data": {
      "text/plain": [
       "<AxesSubplot:ylabel='Frequency'>"
      ]
     },
     "execution_count": 65,
     "metadata": {},
     "output_type": "execute_result"
    },
    {
     "data": {
      "image/png": "[encoded data removed]",
      "text/plain": [
       "<Figure size 432x288 with 1 Axes>"
      ]
     },
     "metadata": {
      "needs_background": "light"
     },
     "output_type": "display_data"
    }
   ],
   "source": [
    "data.plot(y = 'days_exposition', kind = 'hist', bins = 30, grid=True, range=(30, 70))"
   ]
  },
  {
   "cell_type": "code",
   "execution_count": 66,
   "metadata": {},
   "outputs": [
    {
     "data": {
      "text/plain": [
       "45.0    880\n",
       "60.0    538\n",
       "7.0     234\n",
       "30.0    208\n",
       "90.0    204\n",
       "4.0     176\n",
       "3.0     158\n",
       "5.0     152\n",
       "14.0    148\n",
       "9.0     143\n",
       "Name: days_exposition, dtype: int64"
      ]
     },
     "execution_count": 66,
     "metadata": {},
     "output_type": "execute_result"
    }
   ],
   "source": [
    "data['days_exposition'].value_counts().head(10) #взглянем также на значения"
   ]
  },
  {
   "cell_type": "markdown",
   "metadata": {},
   "source": [
    "Построив графики, мы увидели выделяющиеся значения на 45, 60 днях. В эти дни чаще всего снимают объявления с продажи. Возможно это касается правил размещения объявления в севисе. \n",
    "\n",
    "В среднем квартиры продают за 3 месяца. Скорость продажи можно определить по квартилям. \n",
    "\n",
    "Быстрая продажа - за 45 дней, долгая продажа - от 232 дней."
   ]
  },
  {
   "cell_type": "markdown",
   "metadata": {},
   "source": [
    "<div class=\"alert alert-success\">\n",
    "<h2> Комментарий ревьюера V1<a class=\"tocSkip\"> </h2>\n",
    "\n",
    "<b>Все отлично!👍:</b> Именно так, все верно!"
   ]
  },
  {
   "cell_type": "markdown",
   "metadata": {},
   "source": [
    "***4.3 Определение факторов, которые больше всего влияют на общую (полную) стоимость объекта***"
   ]
  },
  {
   "cell_type": "markdown",
   "metadata": {},
   "source": [
    "Изучим, зависит ли цена от:\n",
    "\n",
    "- общей площади\n",
    "- жилой площади\n",
    "- площади кухни\n",
    "- количества комнат\n",
    "- этажа, на котором расположена квартира (первый, последний, другой)\n",
    "- даты размещения (день недели, месяц, год)"
   ]
  },
  {
   "cell_type": "code",
   "execution_count": 67,
   "metadata": {},
   "outputs": [
    {
     "data": {
      "text/plain": [
       "last_price                   1.000000\n",
       "price_one_meter              0.736496\n",
       "total_area                   0.653675\n",
       "living_area                  0.566489\n",
       "kitchen_area                 0.519872\n",
       "rooms                        0.363343\n",
       "ceiling_height               0.269880\n",
       "ponds_around3000             0.159996\n",
       "parks_around3000             0.151058\n",
       "total_images                 0.104473\n",
       "days_exposition              0.081146\n",
       "is_apartment                 0.026958\n",
       "floor                        0.026576\n",
       "balcony                      0.008559\n",
       "month                        0.002779\n",
       "weekday                      0.001550\n",
       "floors_total                -0.006983\n",
       "open_plan                   -0.008802\n",
       "parks_nearest               -0.016414\n",
       "studio                      -0.025362\n",
       "airports_nearest            -0.026239\n",
       "year                        -0.043089\n",
       "ponds_nearest               -0.084809\n",
       "city_centers_nearest        -0.206747\n",
       "kilometer_centers_nearest   -0.206747\n",
       "Name: last_price, dtype: float64"
      ]
     },
     "execution_count": 67,
     "metadata": {},
     "output_type": "execute_result"
    }
   ],
   "source": [
    "data.corr()['last_price'].sort_values(ascending=False) #посмотрим сразу на корреляцию"
   ]
  },
  {
   "cell_type": "markdown",
   "metadata": {},
   "source": [
    "***Общая площадь***"
   ]
  },
  {
   "cell_type": "markdown",
   "metadata": {},
   "source": [
    "Корреляция Пирсона показывает, что есть связь между общей площадью и стоимостью квартиры (корреляция 0.6). С ростом общей площади объекта наблюдается рост цены, от 100 м2 зависимость становится менее ярко-выраженной."
   ]
  },
  {
   "cell_type": "code",
   "execution_count": 32,
   "metadata": {},
   "outputs": [
    {
     "data": {
      "text/plain": [
       "<AxesSubplot:xlabel='total_area', ylabel='last_price'>"
      ]
     },
     "execution_count": 32,
     "metadata": {},
     "output_type": "execute_result"
    },
    {
     "data": {
      "image/png": "[encoded data removed]",
      "text/plain": [
       "<Figure size 360x360 with 1 Axes>"
      ]
     },
     "metadata": {
      "needs_background": "light"
     },
     "output_type": "display_data"
    }
   ],
   "source": [
    "(data\n",
    "    .plot(y = 'last_price', x='total_area', kind = 'scatter', grid=True, style='o', figsize=(5, 5), xlim=(0, 170), ylim=(0, 35000000))\n",
    ")"
   ]
  },
  {
   "cell_type": "markdown",
   "metadata": {},
   "source": [
    "***Жилая площадь***"
   ]
  },
  {
   "cell_type": "markdown",
   "metadata": {},
   "source": [
    "Корреляция между ценой и жилой площадью является не сильной (0,56). С увеличением жилой площади увеличивается и стоимость объекта. Однако связь не настолько сильная, как в случае с зависимостью цены от общей площади."
   ]
  },
  {
   "cell_type": "code",
   "execution_count": 35,
   "metadata": {},
   "outputs": [
    {
     "data": {
      "text/plain": [
       "<AxesSubplot:xlabel='living_area', ylabel='last_price'>"
      ]
     },
     "execution_count": 35,
     "metadata": {},
     "output_type": "execute_result"
    },
    {
     "data": {
      "image/png": "[encoded data removed]",
      "text/plain": [
       "<Figure size 360x360 with 1 Axes>"
      ]
     },
     "metadata": {
      "needs_background": "light"
     },
     "output_type": "display_data"
    }
   ],
   "source": [
    "(data\n",
    "    .plot(y = 'last_price', x='living_area', kind = 'scatter', grid=True, style='o', figsize=(5, 5), xlim=(0, 100), ylim=(0, 30000000))\n",
    ")"
   ]
  },
  {
   "cell_type": "markdown",
   "metadata": {},
   "source": [
    "***Площадь кухни***"
   ]
  },
  {
   "cell_type": "markdown",
   "metadata": {},
   "source": [
    "Корреляция между площадью кухни и ценой квартиры составила 0.52. С увеличением площади кухни увеличивается и стоимость квартиры. Связь также является не сильной.          "
   ]
  },
  {
   "cell_type": "code",
   "execution_count": 38,
   "metadata": {},
   "outputs": [
    {
     "data": {
      "text/plain": [
       "<AxesSubplot:xlabel='kitchen_area', ylabel='last_price'>"
      ]
     },
     "execution_count": 38,
     "metadata": {},
     "output_type": "execute_result"
    },
    {
     "data": {
      "image/png": "[encoded data removed]",
      "text/plain": [
       "<Figure size 360x360 with 1 Axes>"
      ]
     },
     "metadata": {
      "needs_background": "light"
     },
     "output_type": "display_data"
    }
   ],
   "source": [
    "(data\n",
    "    .plot(y = 'last_price', x='kitchen_area', kind = 'scatter', grid=True, style='o', figsize=(5, 5), xlim=(0, 18), ylim=(0, 35000000))\n",
    ")"
   ]
  },
  {
   "cell_type": "markdown",
   "metadata": {},
   "source": [
    "<div class=\"alert alert-block alert-danger\">\n",
    "<h2> Комментарий ревьюера V1<a class=\"tocSkip\"></h2>\n",
    "\n",
    "\n",
    "<b>На доработку🤔:</b>\n",
    "Для площадей не нужно рассчитывать сводные таблицы перед построением диаграмм рассеяния. Зависимость между количественными величинами лучше в исходном виде изображать, так как сводная таблица усредняет значения и можно не увидеть полноценного распределения, возможно есть особенности в распределении."
   ]
  },
  {
   "cell_type": "markdown",
   "metadata": {},
   "source": [
    "<div class=\"alert alert-success\">\n",
    "<h2> Комментарий ревьюера V2<a class=\"tocSkip\"> </h2>\n",
    "\n",
    "<b>Все отлично!👍:</b> Графики скорректировала верно."
   ]
  },
  {
   "cell_type": "markdown",
   "metadata": {},
   "source": [
    "***Количество комнат***"
   ]
  },
  {
   "cell_type": "code",
   "execution_count": 71,
   "metadata": {},
   "outputs": [
    {
     "data": {
      "text/plain": [
       "<AxesSubplot:xlabel='rooms'>"
      ]
     },
     "execution_count": 71,
     "metadata": {},
     "output_type": "execute_result"
    },
    {
     "data": {
      "image/png": "[encoded data removed]",
      "text/plain": [
       "<Figure size 360x360 with 1 Axes>"
      ]
     },
     "metadata": {
      "needs_background": "light"
     },
     "output_type": "display_data"
    }
   ],
   "source": [
    "(data\n",
    "    .pivot_table(index='rooms', values='last_price', aggfunc='median')\n",
    "    .sort_values(by='last_price', ascending=False)\n",
    "    .query('rooms <= 7')\n",
    "    .plot(y='last_price', grid=True, style='o-', figsize=(5, 5))\n",
    ")"
   ]
  },
  {
   "cell_type": "markdown",
   "metadata": {},
   "source": [
    "Корреляция между ценой и количеством комнат в квартире довольно слабая 0.36. На графике можно заметить, что с увеличением комнат увеличивается цена квартиры"
   ]
  },
  {
   "cell_type": "markdown",
   "metadata": {},
   "source": [
    "***Этаж***"
   ]
  },
  {
   "cell_type": "code",
   "execution_count": 72,
   "metadata": {},
   "outputs": [
    {
     "data": {
      "text/plain": [
       "<AxesSubplot:xlabel='floor_category'>"
      ]
     },
     "execution_count": 72,
     "metadata": {},
     "output_type": "execute_result"
    },
    {
     "data": {
      "image/png": "[encoded data removed]",
      "text/plain": [
       "<Figure size 360x360 with 1 Axes>"
      ]
     },
     "metadata": {
      "needs_background": "light"
     },
     "output_type": "display_data"
    }
   ],
   "source": [
    "(data\n",
    "    .pivot_table(index='floor_category', values='last_price', aggfunc='median')\n",
    "    .plot(grid=True, style='o-', figsize=(5, 5))\n",
    ")"
   ]
  },
  {
   "cell_type": "markdown",
   "metadata": {},
   "source": [
    "Стоимость квартир на первом или последнем этаже гораздо ниже, чем у квартир с не последним/первым этажом. Самая низкая стоимость у квартир на первом этаже. Причины довольно понятны :)"
   ]
  },
  {
   "cell_type": "markdown",
   "metadata": {},
   "source": [
    "***Дата размещения (день недели, месяц, год)***"
   ]
  },
  {
   "cell_type": "markdown",
   "metadata": {},
   "source": [
    "*День недели*"
   ]
  },
  {
   "cell_type": "code",
   "execution_count": 73,
   "metadata": {},
   "outputs": [
    {
     "data": {
      "text/plain": [
       "<AxesSubplot:xlabel='weekday'>"
      ]
     },
     "execution_count": 73,
     "metadata": {},
     "output_type": "execute_result"
    },
    {
     "data": {
      "image/png": "[encoded data removed]",
      "text/plain": [
       "<Figure size 360x360 with 1 Axes>"
      ]
     },
     "metadata": {
      "needs_background": "light"
     },
     "output_type": "display_data"
    }
   ],
   "source": [
    "(data\n",
    "    .pivot_table(index='weekday', values='last_price', aggfunc='median')\n",
    "    .plot(y='last_price', grid=True, style='o-', figsize=(5, 5))\n",
    ")"
   ]
  },
  {
   "cell_type": "markdown",
   "metadata": {},
   "source": [
    "Исходя из графика мы видим, что объявления, размещенные в выходные имеют меньшую стоимость, чем объявления, размещенные в будние. Пик стоимости приходится на вторник. "
   ]
  },
  {
   "cell_type": "markdown",
   "metadata": {},
   "source": [
    "*Месяц*"
   ]
  },
  {
   "cell_type": "code",
   "execution_count": 74,
   "metadata": {},
   "outputs": [
    {
     "data": {
      "text/plain": [
       "<AxesSubplot:xlabel='month'>"
      ]
     },
     "execution_count": 74,
     "metadata": {},
     "output_type": "execute_result"
    },
    {
     "data": {
      "image/png": "[encoded data removed]",
      "text/plain": [
       "<Figure size 360x360 with 1 Axes>"
      ]
     },
     "metadata": {
      "needs_background": "light"
     },
     "output_type": "display_data"
    }
   ],
   "source": [
    "(data\n",
    "    .pivot_table(index='month', values='last_price', aggfunc='median')\n",
    "    .plot(y='last_price', grid=True, style='o-', figsize=(5, 5))\n",
    ")"
   ]
  },
  {
   "cell_type": "markdown",
   "metadata": {},
   "source": [
    "Пик стоимости приходится на апрель. А самая низкая цена в июне. Скорее всего связано с отпусками :) "
   ]
  },
  {
   "cell_type": "markdown",
   "metadata": {},
   "source": [
    "*Год*"
   ]
  },
  {
   "cell_type": "code",
   "execution_count": 75,
   "metadata": {},
   "outputs": [
    {
     "data": {
      "text/plain": [
       "<AxesSubplot:xlabel='year'>"
      ]
     },
     "execution_count": 75,
     "metadata": {},
     "output_type": "execute_result"
    },
    {
     "data": {
      "image/png": "[encoded data removed]",
      "text/plain": [
       "<Figure size 360x360 with 1 Axes>"
      ]
     },
     "metadata": {
      "needs_background": "light"
     },
     "output_type": "display_data"
    }
   ],
   "source": [
    "(data\n",
    "    .pivot_table(index='year', values='last_price', aggfunc='median')\n",
    "    .plot(y='last_price', grid=True, style='o-', figsize=(5, 5))\n",
    ")"
   ]
  },
  {
   "cell_type": "markdown",
   "metadata": {},
   "source": [
    "C 2014 года цена квартир начала падать, с 2017 вновь расти."
   ]
  },
  {
   "cell_type": "markdown",
   "metadata": {},
   "source": [
    "Таким образом, на стоимость квартиры больше всего влияют общая площадь, жилая площадь, площадь кухни, в меньшей степени количество комнат. С увеличением площади помещений и количества комнат, увеличивается и стоимость квартиры. \n",
    "Наиболее низкая стоимость у квартир, расположенных на первом/последнем этаже. Также наиболее низкая стоимость встречается у квартир, размещенных в июне или в выходные дни. Самая высокая в апреле и в будние дни (вторник - пик). Квартиры после 2014 года начали дешеветь, а с 2017 вновь начали расти по стоимости. "
   ]
  },
  {
   "cell_type": "markdown",
   "metadata": {},
   "source": [
    "<div class=\"alert alert-success\">\n",
    "<h2> Комментарий ревьюера V1<a class=\"tocSkip\"> </h2>\n",
    "\n",
    "<b>Все отлично!👍:</b> По выводам все абсолютно верно, видно, что цена больше всего зависит от площадей, количества комнат, тип этажа также влияет на стоимость."
   ]
  },
  {
   "cell_type": "markdown",
   "metadata": {},
   "source": [
    "***4.4 Изучение средней цены одного квадратного метра в 10 населённых пунктах с наибольшим числом объявлений*** "
   ]
  },
  {
   "cell_type": "code",
   "execution_count": 76,
   "metadata": {},
   "outputs": [
    {
     "data": {
      "text/plain": [
       "санкт-петербург    15721\n",
       " мурино              556\n",
       " шушары              440\n",
       "всеволожск           398\n",
       "пушкин               369\n",
       "колпино              338\n",
       " парголово           327\n",
       "гатчина              307\n",
       " кудрово             299\n",
       "выборг               237\n",
       "Name: locality_name, dtype: int64"
      ]
     },
     "execution_count": 76,
     "metadata": {},
     "output_type": "execute_result"
    }
   ],
   "source": [
    "data['locality_name'].value_counts(ascending=False).head(10) #выявим 10 населенных пунктов с большим числом объявлений"
   ]
  },
  {
   "cell_type": "code",
   "execution_count": 77,
   "metadata": {},
   "outputs": [
    {
     "data": {
      "text/html": [
       "<div>\n",
       "<style scoped>\n",
       "    .dataframe tbody tr th:only-of-type {\n",
       "        vertical-align: middle;\n",
       "    }\n",
       "\n",
       "    .dataframe tbody tr th {\n",
       "        vertical-align: top;\n",
       "    }\n",
       "\n",
       "    .dataframe thead th {\n",
       "        text-align: right;\n",
       "    }\n",
       "</style>\n",
       "<table border=\"1\" class=\"dataframe\">\n",
       "  <thead>\n",
       "    <tr style=\"text-align: right;\">\n",
       "      <th></th>\n",
       "      <th>price_one_meter</th>\n",
       "    </tr>\n",
       "    <tr>\n",
       "      <th>locality_name</th>\n",
       "      <th></th>\n",
       "    </tr>\n",
       "  </thead>\n",
       "  <tbody>\n",
       "    <tr>\n",
       "      <th>санкт-петербург</th>\n",
       "      <td>104761.900</td>\n",
       "    </tr>\n",
       "    <tr>\n",
       "      <th>пушкин</th>\n",
       "      <td>100000.000</td>\n",
       "    </tr>\n",
       "    <tr>\n",
       "      <th>кудрово</th>\n",
       "      <td>91860.470</td>\n",
       "    </tr>\n",
       "    <tr>\n",
       "      <th>парголово</th>\n",
       "      <td>91642.860</td>\n",
       "    </tr>\n",
       "    <tr>\n",
       "      <th>мурино</th>\n",
       "      <td>85890.220</td>\n",
       "    </tr>\n",
       "    <tr>\n",
       "      <th>шушары</th>\n",
       "      <td>76876.175</td>\n",
       "    </tr>\n",
       "    <tr>\n",
       "      <th>колпино</th>\n",
       "      <td>74723.745</td>\n",
       "    </tr>\n",
       "    <tr>\n",
       "      <th>гатчина</th>\n",
       "      <td>67796.610</td>\n",
       "    </tr>\n",
       "    <tr>\n",
       "      <th>всеволожск</th>\n",
       "      <td>65789.470</td>\n",
       "    </tr>\n",
       "    <tr>\n",
       "      <th>выборг</th>\n",
       "      <td>58158.320</td>\n",
       "    </tr>\n",
       "  </tbody>\n",
       "</table>\n",
       "</div>"
      ],
      "text/plain": [
       "                 price_one_meter\n",
       "locality_name                   \n",
       "санкт-петербург       104761.900\n",
       "пушкин                100000.000\n",
       " кудрово               91860.470\n",
       " парголово             91642.860\n",
       " мурино                85890.220\n",
       " шушары                76876.175\n",
       "колпино                74723.745\n",
       "гатчина                67796.610\n",
       "всеволожск             65789.470\n",
       "выборг                 58158.320"
      ]
     },
     "execution_count": 77,
     "metadata": {},
     "output_type": "execute_result"
    }
   ],
   "source": [
    "city = data['locality_name'].value_counts(ascending=False).head(10) #закинем их в отдельную переменную\n",
    "\n",
    "(data\n",
    "    .query('locality_name in @city.index')\n",
    "    .pivot_table(index='locality_name', values='price_one_meter', aggfunc='median') #создадим сводную таблицу\n",
    "    .sort_values(by='price_one_meter', ascending=False)\n",
    ")"
   ]
  },
  {
   "cell_type": "markdown",
   "metadata": {},
   "source": [
    "Самая высокая средняя стоимость квадратного метра в Санкт-Петербурге, что ожидаемо. На втором месте Пушкин. Наименьшая стоимость квадратного метра в Выборге. "
   ]
  },
  {
   "cell_type": "markdown",
   "metadata": {},
   "source": [
    "<div class=\"alert alert-success\">\n",
    "<h2> Комментарий ревьюера V1<a class=\"tocSkip\"> </h2>\n",
    "\n",
    "<b>Все отлично!👍:</b> Да, все верно."
   ]
  },
  {
   "cell_type": "markdown",
   "metadata": {},
   "source": [
    "***4.5 Удаленность от центра***"
   ]
  },
  {
   "cell_type": "markdown",
   "metadata": {},
   "source": [
    "Выделим квартиры в Санкт-Петербурге и вычислим их среднюю стоимость на разном удалении от центра."
   ]
  },
  {
   "cell_type": "code",
   "execution_count": 78,
   "metadata": {},
   "outputs": [
    {
     "data": {
      "text/plain": [
       "count    15660.000000\n",
       "mean        11.601250\n",
       "std          4.842022\n",
       "min          0.180000\n",
       "25%          8.327500\n",
       "50%         12.240000\n",
       "75%         14.940000\n",
       "max         29.490000\n",
       "Name: kilometer_centers_nearest, dtype: float64"
      ]
     },
     "execution_count": 78,
     "metadata": {},
     "output_type": "execute_result"
    }
   ],
   "source": [
    "data.query('locality_name == \"санкт-петербург\"')['kilometer_centers_nearest'].describe()"
   ]
  },
  {
   "cell_type": "code",
   "execution_count": 85,
   "metadata": {
    "scrolled": true
   },
   "outputs": [
    {
     "data": {
      "text/plain": [
       "<AxesSubplot:xlabel='kilometer_centers_nearest'>"
      ]
     },
     "execution_count": 85,
     "metadata": {},
     "output_type": "execute_result"
    },
    {
     "data": {
      "image/png": "[encoded data removed]",
      "text/plain": [
       "<Figure size 720x360 with 1 Axes>"
      ]
     },
     "metadata": {
      "needs_background": "light"
     },
     "output_type": "display_data"
    }
   ],
   "source": [
    "data['kilometer_centers_nearest'] = data['kilometer_centers_nearest'].round(0)\n",
    "\n",
    "(data\n",
    "    .query('locality_name == \"санкт-петербург\"')\n",
    "    .pivot_table(index='kilometer_centers_nearest', values='last_price')\n",
    "    .plot(grid=True, style='o-', figsize=(10, 5))\n",
    ")"
   ]
  },
  {
   "cell_type": "code",
   "execution_count": 40,
   "metadata": {},
   "outputs": [
    {
     "data": {
      "text/html": [
       "<div>\n",
       "<style scoped>\n",
       "    .dataframe tbody tr th:only-of-type {\n",
       "        vertical-align: middle;\n",
       "    }\n",
       "\n",
       "    .dataframe tbody tr th {\n",
       "        vertical-align: top;\n",
       "    }\n",
       "\n",
       "    .dataframe thead th {\n",
       "        text-align: right;\n",
       "    }\n",
       "</style>\n",
       "<table border=\"1\" class=\"dataframe\">\n",
       "  <thead>\n",
       "    <tr style=\"text-align: right;\">\n",
       "      <th></th>\n",
       "      <th>last_price</th>\n",
       "    </tr>\n",
       "    <tr>\n",
       "      <th>kilometer_centers_nearest</th>\n",
       "      <th></th>\n",
       "    </tr>\n",
       "  </thead>\n",
       "  <tbody>\n",
       "    <tr>\n",
       "      <th>0.0</th>\n",
       "      <td>31449116.0</td>\n",
       "    </tr>\n",
       "    <tr>\n",
       "      <th>1.0</th>\n",
       "      <td>21206721.0</td>\n",
       "    </tr>\n",
       "    <tr>\n",
       "      <th>2.0</th>\n",
       "      <td>17788320.0</td>\n",
       "    </tr>\n",
       "    <tr>\n",
       "      <th>6.0</th>\n",
       "      <td>15338418.0</td>\n",
       "    </tr>\n",
       "    <tr>\n",
       "      <th>7.0</th>\n",
       "      <td>14775153.0</td>\n",
       "    </tr>\n",
       "    <tr>\n",
       "      <th>5.0</th>\n",
       "      <td>14455996.0</td>\n",
       "    </tr>\n",
       "    <tr>\n",
       "      <th>4.0</th>\n",
       "      <td>13304280.0</td>\n",
       "    </tr>\n",
       "    <tr>\n",
       "      <th>3.0</th>\n",
       "      <td>11137395.0</td>\n",
       "    </tr>\n",
       "    <tr>\n",
       "      <th>8.0</th>\n",
       "      <td>9949111.0</td>\n",
       "    </tr>\n",
       "    <tr>\n",
       "      <th>27.0</th>\n",
       "      <td>8300000.0</td>\n",
       "    </tr>\n",
       "    <tr>\n",
       "      <th>9.0</th>\n",
       "      <td>6956583.0</td>\n",
       "    </tr>\n",
       "    <tr>\n",
       "      <th>10.0</th>\n",
       "      <td>6500434.0</td>\n",
       "    </tr>\n",
       "    <tr>\n",
       "      <th>11.0</th>\n",
       "      <td>6228108.0</td>\n",
       "    </tr>\n",
       "    <tr>\n",
       "      <th>13.0</th>\n",
       "      <td>6077643.0</td>\n",
       "    </tr>\n",
       "    <tr>\n",
       "      <th>20.0</th>\n",
       "      <td>5951465.0</td>\n",
       "    </tr>\n",
       "    <tr>\n",
       "      <th>15.0</th>\n",
       "      <td>5876323.0</td>\n",
       "    </tr>\n",
       "    <tr>\n",
       "      <th>12.0</th>\n",
       "      <td>5834619.0</td>\n",
       "    </tr>\n",
       "    <tr>\n",
       "      <th>14.0</th>\n",
       "      <td>5625173.0</td>\n",
       "    </tr>\n",
       "    <tr>\n",
       "      <th>21.0</th>\n",
       "      <td>5493469.0</td>\n",
       "    </tr>\n",
       "    <tr>\n",
       "      <th>22.0</th>\n",
       "      <td>5415524.0</td>\n",
       "    </tr>\n",
       "    <tr>\n",
       "      <th>16.0</th>\n",
       "      <td>5373131.0</td>\n",
       "    </tr>\n",
       "    <tr>\n",
       "      <th>17.0</th>\n",
       "      <td>5299496.0</td>\n",
       "    </tr>\n",
       "    <tr>\n",
       "      <th>18.0</th>\n",
       "      <td>5091331.0</td>\n",
       "    </tr>\n",
       "    <tr>\n",
       "      <th>19.0</th>\n",
       "      <td>5051410.0</td>\n",
       "    </tr>\n",
       "    <tr>\n",
       "      <th>28.0</th>\n",
       "      <td>5026429.0</td>\n",
       "    </tr>\n",
       "    <tr>\n",
       "      <th>23.0</th>\n",
       "      <td>4985376.0</td>\n",
       "    </tr>\n",
       "    <tr>\n",
       "      <th>29.0</th>\n",
       "      <td>4236667.0</td>\n",
       "    </tr>\n",
       "    <tr>\n",
       "      <th>25.0</th>\n",
       "      <td>4052840.0</td>\n",
       "    </tr>\n",
       "    <tr>\n",
       "      <th>26.0</th>\n",
       "      <td>4014287.0</td>\n",
       "    </tr>\n",
       "    <tr>\n",
       "      <th>24.0</th>\n",
       "      <td>3854430.0</td>\n",
       "    </tr>\n",
       "  </tbody>\n",
       "</table>\n",
       "</div>"
      ],
      "text/plain": [
       "                           last_price\n",
       "kilometer_centers_nearest            \n",
       "0.0                        31449116.0\n",
       "1.0                        21206721.0\n",
       "2.0                        17788320.0\n",
       "6.0                        15338418.0\n",
       "7.0                        14775153.0\n",
       "5.0                        14455996.0\n",
       "4.0                        13304280.0\n",
       "3.0                        11137395.0\n",
       "8.0                         9949111.0\n",
       "27.0                        8300000.0\n",
       "9.0                         6956583.0\n",
       "10.0                        6500434.0\n",
       "11.0                        6228108.0\n",
       "13.0                        6077643.0\n",
       "20.0                        5951465.0\n",
       "15.0                        5876323.0\n",
       "12.0                        5834619.0\n",
       "14.0                        5625173.0\n",
       "21.0                        5493469.0\n",
       "22.0                        5415524.0\n",
       "16.0                        5373131.0\n",
       "17.0                        5299496.0\n",
       "18.0                        5091331.0\n",
       "19.0                        5051410.0\n",
       "28.0                        5026429.0\n",
       "23.0                        4985376.0\n",
       "29.0                        4236667.0\n",
       "25.0                        4052840.0\n",
       "26.0                        4014287.0\n",
       "24.0                        3854430.0"
      ]
     },
     "execution_count": 40,
     "metadata": {},
     "output_type": "execute_result"
    }
   ],
   "source": [
    "(data\n",
    "    .query('locality_name == \"санкт-петербург\"')\n",
    "    .pivot_table(index='kilometer_centers_nearest', values='last_price')\n",
    "    .round(0)\n",
    "    .sort_values(by='last_price', ascending=False)\n",
    ")"
   ]
  },
  {
   "cell_type": "markdown",
   "metadata": {},
   "source": [
    "Самые дорогие квартиры расположены в центре города на расстоянии от 0 до 2 км, стоимость квартир в этих районах в пределах     17-30 млн. рублей. Начиная с расстояния от 7 и более километров от центра города, стоимость квартир резко уменьшается, цены ниже 14 млн. И начиная с расстояния 10 км, удаленность от центра не влияет значительно на стоимость жилья, ценовой диапазон составляет до 10 млн, с небольшим пиком на расстоянии около 27 км от центра."
   ]
  },
  {
   "cell_type": "markdown",
   "metadata": {},
   "source": [
    "<div class=\"alert alert-block alert-danger\">\n",
    "<h2> Комментарий ревьюера V1<a class=\"tocSkip\"></h2>\n",
    "\n",
    "\n",
    "<b>На доработку🤔:</b>\n",
    "Зачем ты на графике ограничила данные 15 км? А что происходит после 7 км? Какая общая тенденция прослеживается, разве цена от расстояния не зависит?"
   ]
  },
  {
   "cell_type": "markdown",
   "metadata": {},
   "source": [
    "<div class=\"alert alert-warning\">\n",
    "<h2> Комментарий ревьюера V2<a class=\"tocSkip\"> </h2>\n",
    "\n",
    "<b>Некоторые замечания и рекомендации💡:</b> Можно увидеть общую тенденцию снижения цены при удалении от центра. После 10 км также есть зависимость, цены постепенно снижается, это видно на графике."
   ]
  },
  {
   "cell_type": "markdown",
   "metadata": {},
   "source": [
    "# Общий вывод"
   ]
  },
  {
   "cell_type": "markdown",
   "metadata": {},
   "source": [
    "Мы провели исследование при помощи данных сервиса Яндекс Недвижимость — архив объявлений о продаже квартир в Санкт-Петербурге и соседних населённых пунктах за несколько лет. \n",
    "\n",
    "**Целью исследования было определение рыночной стоимости объектов недвижимости. Для этого мы провели анализ и установили параметры, которые влияют на цену объекта.**\n",
    "\n",
    "*Этапы исследования и выводы:*\n",
    "\n",
    "**1. Изучили общую информацию о данных.**\n",
    "\n",
    "Наш датасет состоял из 23699 записей. Было обнаружено большое количество пропущенных значений в столбцах, некорректный тип данных, аномальные значения.\n",
    "    \n",
    "**2. Выполнили предобработку данных**\n",
    "\n",
    "    - заполнили явные пропуски\n",
    "    - округлили значения\n",
    "    - изменили тип данных на подходящий\n",
    "    - указали возможные причины пропусков\n",
    "    \n",
    "    \n",
    "**3. Добавили новые столбцы в таблицу для дальнейшего анализа:**\n",
    "\n",
    "    - price_one_meter – цена за 1 м2\n",
    "    - weekday – день недели публикации объявления\n",
    "    - month – месяц публикации объявления\n",
    "    - year – год публикации объявления\n",
    "    - floor_category – тип этажа квартиры (первый, последний, другой)\n",
    "    - kilometer_centers_nearest – расстояние до центра города в км\n",
    "\n",
    "\n",
    "**4. Провели исследовательский анализ данных**\n",
    "\n",
    "**4.1 Изучили параметры объектов и построили гистограммы для:**\n",
    "    \n",
    "    - общей площади. В среднем общая площадь 45 м2\n",
    "    - жилой площади. В среднем жилая площадь 18 и 30 м2\n",
    "    - площади кухни. В среднем около 10 м2\n",
    "    - цены объекта. Чаще всего это 3,5 – 4 миллиона\n",
    "    - количества комнат. Больше всего однокомнатных квартир. Чем больше комнат в квартире, тем меньше объявлений\n",
    "    - высоты потолков. Средняя высота 2.6 метра\n",
    "    - типа этажа квартиры. Четверть объявлений с 1 или последним этажом\n",
    "    - общего количества этажей в доме. Чаще дома с 5 и 9 этажами\n",
    "    - расстояния до центра города и парка. Чаще всего расстояние до центра около 15000 метров. А до парка 400-600 метров.\n",
    "\n",
    "**4.2 Изучили скорость продажи квартир**\n",
    "\n",
    "В среднем квартиры продаются за 3 месяца. Быстрой продажей можно считать продажу за 45 дней, а долгой за 232 дня и более.\n",
    "\n",
    "**4.3 Определили факторы, которые влияют на стоимость объекта.**\n",
    "\n",
    "Мы проанализировали множество факторов, которые могут влиять на стоимость жилья. Нам удалось установить, что стоимость квартиры больше всего зависит от общей площади, жилой площади, площади кухни и количества комнат. С увеличением площади помещений и количества комнат увеличивается и стоимость квартиры. Также на стоимость объекта недвижимости влияет тип этажа квартиры. Наиболее низкая стоимость у квартир, расположенных на первом или последнем этаже, в отличие от квартир на других этажах. Также наиболее низкая стоимость встречается у квартир, размещенных в июне или в выходные дни. Самая высокая стоимость же в апреле и в будние дни, особенно во вторник. Также можно увидеть, что квартиры после 2014 года начали падать в стоимости, однако с 2017 вновь начали расти.\n",
    "\n",
    "**4.4 Изучили среднюю цену квадратного метра в 10 населенных пунктах**\n",
    "\n",
    "Мы посчитайте среднюю цену одного квадратного метра в 10 населённых пунктах с наибольшим числом объявлений, также построили сводную таблицу с количеством объявлений и средней ценой квадратного метра для этих населенных пунктов. Выделили населённые пункты с самой высокой и низкой стоимостью квадратного метра: самая высокая средняя стоимость оказалась в самом Санкт-Петербурге. Наименьшая стоимость квадратного метра оказалась при этом в Выборге.\n",
    "\n",
    "**4.5 Изучили влияние удаленности от центра да стоимость объектов**\n",
    "\n",
    "Мы выделили квартиры в Санкт-Петербурге и вычислили их среднюю стоимость на разном удалении от центра. Самые дорогие квартиры расположены в центре города на расстоянии от 0 до 2 км, стоимость квартир в этих районах в пределах 17-30 млн. рублей. Начиная с расстояния от 7 и более километров от центра города, стоимость квартир резко уменьшается, цены ниже 14 млн. И начиная с расстояния 10 км, удаленность от центра не влияет значительно на стоимость жилья, ценовой диапазон составляет до 10 млн, с небольшим пиком на расстоянии около 27 км от центра."
   ]
  },
  {
   "cell_type": "markdown",
   "metadata": {},
   "source": [
    "<div class=\"alert alert-warning\">\n",
    "<h2> Комментарий ревьюера V1<a class=\"tocSkip\"> </h2>\n",
    "\n",
    "<b>Некоторые замечания и рекомендации💡:</b> В итоговом выводе нужно достаточно подробно написать основные пункты выявленных зависимостей. Стоит доработать вывод с учетом моих комментариев по ходу работы. В итоговом выводе также старайся оставлять рекомендации для последующих шагов. Например рекомендации, что можно обработать и проанализировать другие признаки, на что твоим коллегам стоить обратить внимание."
   ]
  },
  {
   "cell_type": "markdown",
   "metadata": {},
   "source": [
    "<div class=\"alert alert-success\">\n",
    "<h2> Комментарий ревьюера V2<a class=\"tocSkip\"> </h2>\n",
    "\n",
    "<b>Все отлично!👍:</b> Отличный вывод, все четко, понятно и структурировано. Вывод в полной мере отражает существующие зависимости, и по нему можно принимать дальнейшие решения.\n",
    "</div>"
   ]
  },
  {
   "cell_type": "markdown",
   "metadata": {},
   "source": [
    "***Приятно познакомиться! Спасибо большое за все комментарии :)***"
   ]
  },
  {
   "cell_type": "markdown",
   "metadata": {
    "id": "A90mc0BgAwb-"
   },
   "source": [
    "**Чек-лист готовности проекта**\n",
    "\n",
    "Поставьте 'x' в выполненных пунктах. Далее нажмите Shift+Enter."
   ]
  },
  {
   "cell_type": "markdown",
   "metadata": {
    "id": "ME3sTWm6Awb-"
   },
   "source": [
    "- [x]  Файл с данными открыт.\n",
    "- [x]  Файл с данными изучен: выведены первые строки, использован метод `info()`, построены гистограммы.\n",
    "- [x]  Найдены пропущенные значения.\n",
    "- [x]  Пропущенные значения заполнены там, где это возможно.\n",
    "- [x]  Объяснено, какие пропущенные значения обнаружены.\n",
    "- [x]  В каждом столбце установлен корректный тип данных.\n",
    "- [x]  Объяснено, в каких столбцах изменён тип данных и почему.\n",
    "- [x]  Устранены неявные дубликаты в названиях населённых пунктов.\n",
    "- [x]  Обработаны редкие и выбивающиеся значения (аномалии).\n",
    "- [x]  В таблицу добавлены новые параметры:\n",
    "       – цена одного квадратного метра;\n",
    "       – день публикации объявления (0 - понедельник, 1 - вторник и т. д.);\n",
    "       – месяц публикации объявления;\n",
    "       – год публикации объявления;\n",
    "       – тип этажа квартиры (значения — «первый», «последний», «другой»);\n",
    "       – расстояние до центра города в километрах.\n",
    "- [x]  Изучены и описаны параметры:\n",
    "        - общая площадь;\n",
    "        - жилая площадь;\n",
    "        - площадь кухни;\n",
    "        - цена объекта;\n",
    "        - количество комнат;\n",
    "        - высота потолков;\n",
    "        - тип этажа квартиры («первый», «последний», «другой»);\n",
    "        - общее количество этажей в доме;\n",
    "        - расстояние до центра города в метрах;\n",
    "        - расстояние до ближайшего парка.\n",
    "- [x]  Выполнено задание «Изучите, как быстро продавались квартиры (столбец `days_exposition`)»:\n",
    "    - построена гистограмма;\n",
    "    - рассчитаны среднее и медиана;\n",
    "    - описано, сколько обычно занимает продажа и указано, какие продажи можно считать быстрыми, а какие — необычно долгими.\n",
    "- [x]  Выполнено задание «Определите факторы, которые больше всего влияют на общую (полную) стоимость объекта». Построены графики, которые показывают зависимость цены от параметров:\n",
    "        - общая площадь;\n",
    "        - жилая площадь;\n",
    "        - площадь кухни;\n",
    "        - количество комнат;\n",
    "        - тип этажа, на котором расположена квартира (первый, последний, другой);\n",
    "        - дата размещения (день недели, месяц, год).\n",
    "- [x]  Выполнено задание «Посчитайте среднюю цену одного квадратного метра в 10 населённых пунктах с наибольшим числом объявлений»:\n",
    "    - выделены населённые пункты с самой высокой и низкой стоимостью квадратного метра.\n",
    "- [x]  Выполнено задание «Выделите квартиры в Санкт-Петербурге с помощью столбца `locality_name` и вычислите их среднюю стоимость на разном удалении от центра»:\n",
    "    -  учтён каждый километр расстояния, известны средние цены квартир в одном километре от центра, в двух и так далее;\n",
    "    -  описано, как стоимость объекта зависит от расстояния до центра города;\n",
    "    -  построен график изменения средней цены для каждого километра от центра Петербурга.\n",
    "- [x]  На каждом этапе сделаны промежуточные выводы.\n",
    "- [x]  В конце проекта сделан общий вывод."
   ]
  },
  {
   "cell_type": "markdown",
   "metadata": {},
   "source": [
    "<div style=\"border:solid Chocolate 2px; padding: 40px\">\n",
    "\n",
    "**Общий вывод по проекту**\n",
    "\n",
    "Спасибо за твой проект! Я уверен, что ты приложила все усилия, чтобы сделать этот проект. Это видно по твоей работе, а сформулированные выводы отражают, насколько успешно ты осваиваешь материал.\n",
    "\n",
    "**Отмечу отдельные положительные моменты проекта🙂**:\n",
    "\n",
    "* Ты полностью следовала всем этапам выполнения задания и справилась почти со всем. Хорошая работа!\n",
    "* Отдельно выделю некоторые выводы, которые ты смогла сформулировать абсолютно точно!\n",
    "* У тебя опрятный и читаемый код. Возможно это звучит банально, однако при работе с чужим кодом это крайне важно)\n",
    "\n",
    "\n",
    "**На что стоит обратить внимание🤓**:\n",
    "\n",
    "* Важно доработать итоговый вывод.\n",
    "* Нужно корректно обработать все признаки.\n",
    "* Еще раз посмотри на зависимость цены от расстояния до центра.\n",
    "* Остальные рекомендации ты найдешь в моих комментариях!\n",
    "\n",
    "\n",
    "**Желаю удачи и жду твой проект на повторное ревью!**😉"
   ]
  },
  {
   "cell_type": "markdown",
   "metadata": {},
   "source": [
    "<div style=\"border:solid Chocolate 2px; padding: 40px\">\n",
    "\n",
    "Ты отлично справилась с данной работой! Видно, как ты успешно осваиваешь материал, применяешь полученные знания на практике. Мне было очень приятно проверять твою работу, надеюсь, мои комментарии и советы были для тебя полезными.\n",
    "\n",
    "**Желаю удачи в последующем обучении и исследованиях!**😉"
   ]
  },
  {
   "cell_type": "code",
   "execution_count": null,
   "metadata": {},
   "outputs": [],
   "source": []
  }
 ],
 "metadata": {
  "ExecuteTimeLog": [
   {
    "duration": 411,
    "start_time": "2024-03-26T17:03:08.286Z"
   },
   {
    "duration": 213,
    "start_time": "2024-03-26T17:03:10.191Z"
   },
   {
    "duration": 6,
    "start_time": "2024-03-26T17:03:11.025Z"
   },
   {
    "duration": 60,
    "start_time": "2024-03-26T17:04:31.424Z"
   },
   {
    "duration": 55,
    "start_time": "2024-03-26T17:04:58.977Z"
   },
   {
    "duration": 53,
    "start_time": "2024-03-26T17:05:15.467Z"
   },
   {
    "duration": 102,
    "start_time": "2024-03-26T17:07:23.535Z"
   },
   {
    "duration": 21,
    "start_time": "2024-03-26T17:07:26.207Z"
   },
   {
    "duration": 15,
    "start_time": "2024-03-26T17:08:33.798Z"
   },
   {
    "duration": 2406,
    "start_time": "2024-03-26T17:28:07.910Z"
   },
   {
    "duration": 11,
    "start_time": "2024-03-26T17:37:28.170Z"
   },
   {
    "duration": 502,
    "start_time": "2024-03-28T14:48:29.813Z"
   },
   {
    "duration": 105,
    "start_time": "2024-03-28T14:48:32.366Z"
   },
   {
    "duration": 5,
    "start_time": "2024-03-28T14:48:38.398Z"
   },
   {
    "duration": 988,
    "start_time": "2024-03-28T14:50:00.771Z"
   },
   {
    "duration": 26,
    "start_time": "2024-03-28T14:50:13.025Z"
   },
   {
    "duration": 13,
    "start_time": "2024-03-28T14:51:06.317Z"
   },
   {
    "duration": 10,
    "start_time": "2024-03-28T14:52:23.220Z"
   },
   {
    "duration": 5,
    "start_time": "2024-03-28T15:33:34.259Z"
   },
   {
    "duration": 63,
    "start_time": "2024-03-28T15:34:03.221Z"
   },
   {
    "duration": 13,
    "start_time": "2024-03-28T15:34:08.630Z"
   },
   {
    "duration": 6,
    "start_time": "2024-03-28T15:34:39.515Z"
   },
   {
    "duration": 6,
    "start_time": "2024-03-28T15:41:51.291Z"
   },
   {
    "duration": 53,
    "start_time": "2024-03-28T15:45:49.553Z"
   },
   {
    "duration": 64,
    "start_time": "2024-03-28T15:46:11.571Z"
   },
   {
    "duration": 8,
    "start_time": "2024-03-28T15:46:27.948Z"
   },
   {
    "duration": 8,
    "start_time": "2024-03-28T15:47:26.733Z"
   },
   {
    "duration": 7,
    "start_time": "2024-03-28T15:47:55.244Z"
   },
   {
    "duration": 10,
    "start_time": "2024-03-28T15:48:06.369Z"
   },
   {
    "duration": 7,
    "start_time": "2024-03-28T15:49:35.085Z"
   },
   {
    "duration": 9,
    "start_time": "2024-03-28T15:50:32.832Z"
   },
   {
    "duration": 7,
    "start_time": "2024-03-28T15:50:36.947Z"
   },
   {
    "duration": 6,
    "start_time": "2024-03-28T15:50:57.101Z"
   },
   {
    "duration": 14,
    "start_time": "2024-03-28T15:52:07.643Z"
   },
   {
    "duration": 7,
    "start_time": "2024-03-28T15:52:35.798Z"
   },
   {
    "duration": 59,
    "start_time": "2024-03-28T15:54:38.089Z"
   },
   {
    "duration": 4,
    "start_time": "2024-03-28T15:54:42.658Z"
   },
   {
    "duration": 47,
    "start_time": "2024-03-28T15:55:26.870Z"
   },
   {
    "duration": 56,
    "start_time": "2024-03-28T15:55:39.711Z"
   },
   {
    "duration": 56,
    "start_time": "2024-03-28T15:55:43.295Z"
   },
   {
    "duration": 28,
    "start_time": "2024-03-28T15:55:59.248Z"
   },
   {
    "duration": 9,
    "start_time": "2024-03-28T15:56:52.046Z"
   },
   {
    "duration": 14,
    "start_time": "2024-03-28T15:57:26.633Z"
   },
   {
    "duration": 81,
    "start_time": "2024-03-28T15:58:19.854Z"
   },
   {
    "duration": 8,
    "start_time": "2024-03-28T15:59:30.349Z"
   },
   {
    "duration": 9,
    "start_time": "2024-03-28T15:59:52.438Z"
   },
   {
    "duration": 8,
    "start_time": "2024-03-28T16:09:55.560Z"
   },
   {
    "duration": 4,
    "start_time": "2024-03-28T16:10:05.369Z"
   },
   {
    "duration": 4,
    "start_time": "2024-03-28T16:10:12.017Z"
   },
   {
    "duration": 399,
    "start_time": "2024-03-28T16:16:43.959Z"
   },
   {
    "duration": 16,
    "start_time": "2024-03-28T16:17:17.257Z"
   },
   {
    "duration": 17,
    "start_time": "2024-03-28T16:31:15.826Z"
   },
   {
    "duration": 18,
    "start_time": "2024-03-28T16:32:00.525Z"
   },
   {
    "duration": 15,
    "start_time": "2024-03-28T16:33:36.366Z"
   },
   {
    "duration": 16,
    "start_time": "2024-03-28T16:34:39.637Z"
   },
   {
    "duration": 66,
    "start_time": "2024-03-28T16:36:50.864Z"
   },
   {
    "duration": 14,
    "start_time": "2024-03-28T16:40:06.315Z"
   },
   {
    "duration": 4,
    "start_time": "2024-03-28T16:40:41.863Z"
   },
   {
    "duration": 7,
    "start_time": "2024-03-28T16:42:12.655Z"
   },
   {
    "duration": 5,
    "start_time": "2024-03-28T16:42:32.889Z"
   },
   {
    "duration": 4,
    "start_time": "2024-03-28T16:43:04.076Z"
   },
   {
    "duration": 9,
    "start_time": "2024-03-28T16:43:23.790Z"
   },
   {
    "duration": 4,
    "start_time": "2024-03-28T16:43:45.632Z"
   },
   {
    "duration": 4,
    "start_time": "2024-03-28T16:46:33.169Z"
   },
   {
    "duration": 15,
    "start_time": "2024-03-28T16:53:31.079Z"
   },
   {
    "duration": 36,
    "start_time": "2024-03-28T16:54:13.931Z"
   },
   {
    "duration": 36,
    "start_time": "2024-03-28T16:54:34.965Z"
   },
   {
    "duration": 34,
    "start_time": "2024-03-28T16:54:42.582Z"
   },
   {
    "duration": 34,
    "start_time": "2024-03-28T16:55:47.852Z"
   },
   {
    "duration": 49,
    "start_time": "2024-03-28T16:55:56.429Z"
   },
   {
    "duration": 36,
    "start_time": "2024-03-28T16:56:01.237Z"
   },
   {
    "duration": 14,
    "start_time": "2024-03-28T16:58:18.411Z"
   },
   {
    "duration": 39,
    "start_time": "2024-03-28T16:58:46.045Z"
   },
   {
    "duration": 56,
    "start_time": "2024-03-28T16:59:32.938Z"
   },
   {
    "duration": 57,
    "start_time": "2024-03-28T16:59:51.115Z"
   },
   {
    "duration": 69,
    "start_time": "2024-03-28T17:00:29.102Z"
   },
   {
    "duration": 131,
    "start_time": "2024-03-28T17:00:35.478Z"
   },
   {
    "duration": 71,
    "start_time": "2024-03-28T17:00:44.615Z"
   },
   {
    "duration": 51,
    "start_time": "2024-03-28T17:00:54.097Z"
   },
   {
    "duration": 36,
    "start_time": "2024-03-28T17:01:01.242Z"
   },
   {
    "duration": 46,
    "start_time": "2024-03-28T17:02:21.098Z"
   },
   {
    "duration": 48,
    "start_time": "2024-03-28T17:02:50.812Z"
   },
   {
    "duration": 38,
    "start_time": "2024-03-28T17:03:34.392Z"
   },
   {
    "duration": 41,
    "start_time": "2024-03-28T17:04:07.403Z"
   },
   {
    "duration": 45,
    "start_time": "2024-03-28T17:04:28.701Z"
   },
   {
    "duration": 4,
    "start_time": "2024-03-28T17:15:55.766Z"
   },
   {
    "duration": 4,
    "start_time": "2024-03-28T17:16:01.318Z"
   },
   {
    "duration": 36,
    "start_time": "2024-03-28T17:20:13.678Z"
   },
   {
    "duration": 7,
    "start_time": "2024-03-28T17:23:38.459Z"
   },
   {
    "duration": 5,
    "start_time": "2024-03-28T17:23:43.314Z"
   },
   {
    "duration": 44,
    "start_time": "2024-03-28T18:55:53.601Z"
   },
   {
    "duration": 39,
    "start_time": "2024-03-28T18:56:08.721Z"
   },
   {
    "duration": 43,
    "start_time": "2024-03-28T18:59:03.553Z"
   },
   {
    "duration": 954,
    "start_time": "2024-03-28T19:00:03.136Z"
   },
   {
    "duration": 34,
    "start_time": "2024-03-28T19:00:09.768Z"
   },
   {
    "duration": 33,
    "start_time": "2024-03-28T19:03:56.837Z"
   },
   {
    "duration": 36,
    "start_time": "2024-03-28T19:07:12.121Z"
   },
   {
    "duration": 36,
    "start_time": "2024-03-28T19:07:34.020Z"
   },
   {
    "duration": 31,
    "start_time": "2024-03-28T19:07:58.662Z"
   },
   {
    "duration": 148,
    "start_time": "2024-03-28T19:08:15.808Z"
   },
   {
    "duration": 37,
    "start_time": "2024-03-28T19:08:42.698Z"
   },
   {
    "duration": 36,
    "start_time": "2024-03-28T19:10:36.958Z"
   },
   {
    "duration": 147,
    "start_time": "2024-03-28T19:10:52.110Z"
   },
   {
    "duration": 32,
    "start_time": "2024-03-28T19:11:07.928Z"
   },
   {
    "duration": 57,
    "start_time": "2024-03-28T19:28:23.132Z"
   },
   {
    "duration": 18,
    "start_time": "2024-03-28T19:28:32.901Z"
   },
   {
    "duration": 17,
    "start_time": "2024-03-28T19:28:40.006Z"
   },
   {
    "duration": 55,
    "start_time": "2024-03-28T19:31:20.118Z"
   },
   {
    "duration": 885,
    "start_time": "2024-03-28T19:32:34.685Z"
   },
   {
    "duration": 54,
    "start_time": "2024-03-28T19:32:43.590Z"
   },
   {
    "duration": 57,
    "start_time": "2024-03-28T19:34:01.709Z"
   },
   {
    "duration": 59,
    "start_time": "2024-03-28T19:34:52.316Z"
   },
   {
    "duration": 56,
    "start_time": "2024-03-28T19:34:57.778Z"
   },
   {
    "duration": 51,
    "start_time": "2024-03-28T19:35:17.157Z"
   },
   {
    "duration": 52,
    "start_time": "2024-03-28T19:35:48.271Z"
   },
   {
    "duration": 52,
    "start_time": "2024-03-28T19:35:55.336Z"
   },
   {
    "duration": 51,
    "start_time": "2024-03-28T19:36:30.003Z"
   },
   {
    "duration": 46,
    "start_time": "2024-03-28T19:39:14.242Z"
   },
   {
    "duration": 31,
    "start_time": "2024-03-28T19:40:55.788Z"
   },
   {
    "duration": 6,
    "start_time": "2024-03-28T19:59:06.992Z"
   },
   {
    "duration": 5,
    "start_time": "2024-03-28T19:59:19.921Z"
   },
   {
    "duration": 66,
    "start_time": "2024-03-28T20:01:31.254Z"
   },
   {
    "duration": 5,
    "start_time": "2024-03-28T20:01:37.583Z"
   },
   {
    "duration": 6,
    "start_time": "2024-03-28T20:01:44.880Z"
   },
   {
    "duration": 5,
    "start_time": "2024-03-28T20:01:54.311Z"
   },
   {
    "duration": 6,
    "start_time": "2024-03-28T20:03:19.487Z"
   },
   {
    "duration": 5,
    "start_time": "2024-03-28T20:03:24.736Z"
   },
   {
    "duration": 5,
    "start_time": "2024-03-28T20:03:29.408Z"
   },
   {
    "duration": 5,
    "start_time": "2024-03-28T20:03:41.570Z"
   },
   {
    "duration": 6,
    "start_time": "2024-03-28T20:03:57.058Z"
   },
   {
    "duration": 6,
    "start_time": "2024-03-28T20:04:06.084Z"
   },
   {
    "duration": 6,
    "start_time": "2024-03-28T20:04:10.180Z"
   },
   {
    "duration": 5,
    "start_time": "2024-03-28T20:04:14.965Z"
   },
   {
    "duration": 7,
    "start_time": "2024-03-28T20:04:21.525Z"
   },
   {
    "duration": 5,
    "start_time": "2024-03-28T20:04:27.326Z"
   },
   {
    "duration": 5,
    "start_time": "2024-03-28T20:04:32.999Z"
   },
   {
    "duration": 6,
    "start_time": "2024-03-28T20:04:37.222Z"
   },
   {
    "duration": 5,
    "start_time": "2024-03-28T20:04:41.071Z"
   },
   {
    "duration": 4,
    "start_time": "2024-03-28T20:04:47.152Z"
   },
   {
    "duration": 30,
    "start_time": "2024-03-28T20:08:00.523Z"
   },
   {
    "duration": 11,
    "start_time": "2024-03-28T20:29:19.295Z"
   },
   {
    "duration": 103,
    "start_time": "2024-03-28T20:39:42.441Z"
   },
   {
    "duration": 34,
    "start_time": "2024-03-28T20:52:13.689Z"
   },
   {
    "duration": 790,
    "start_time": "2024-03-28T20:53:45.666Z"
   },
   {
    "duration": 829,
    "start_time": "2024-03-28T20:54:13.180Z"
   },
   {
    "duration": 27,
    "start_time": "2024-03-28T20:54:39.278Z"
   },
   {
    "duration": 27,
    "start_time": "2024-03-28T20:54:49.248Z"
   },
   {
    "duration": 860,
    "start_time": "2024-03-28T20:56:01.650Z"
   },
   {
    "duration": 824,
    "start_time": "2024-03-28T20:56:15.031Z"
   },
   {
    "duration": 7,
    "start_time": "2024-03-28T20:57:20.333Z"
   },
   {
    "duration": 6,
    "start_time": "2024-03-28T20:57:44.343Z"
   },
   {
    "duration": 11,
    "start_time": "2024-03-28T20:59:10.848Z"
   },
   {
    "duration": 22,
    "start_time": "2024-03-28T21:00:11.062Z"
   },
   {
    "duration": 20,
    "start_time": "2024-03-28T21:01:13.756Z"
   },
   {
    "duration": 3,
    "start_time": "2024-03-28T21:01:52.816Z"
   },
   {
    "duration": 37,
    "start_time": "2024-03-28T21:01:57.088Z"
   },
   {
    "duration": 36,
    "start_time": "2024-03-28T21:02:44.324Z"
   },
   {
    "duration": 6,
    "start_time": "2024-03-28T21:10:34.017Z"
   },
   {
    "duration": 62,
    "start_time": "2024-03-28T21:12:27.684Z"
   },
   {
    "duration": 61,
    "start_time": "2024-03-28T21:12:34.372Z"
   },
   {
    "duration": 63,
    "start_time": "2024-03-28T21:12:42.197Z"
   },
   {
    "duration": 9,
    "start_time": "2024-03-28T21:12:53.918Z"
   },
   {
    "duration": 13,
    "start_time": "2024-03-28T21:14:38.312Z"
   },
   {
    "duration": 12,
    "start_time": "2024-03-28T21:14:49.193Z"
   },
   {
    "duration": 33,
    "start_time": "2024-03-28T21:17:02.238Z"
   },
   {
    "duration": 18,
    "start_time": "2024-03-28T21:30:50.050Z"
   },
   {
    "duration": 17,
    "start_time": "2024-03-28T21:31:12.396Z"
   },
   {
    "duration": 16,
    "start_time": "2024-03-28T21:31:41.382Z"
   },
   {
    "duration": 26,
    "start_time": "2024-03-28T21:31:50.431Z"
   },
   {
    "duration": 25,
    "start_time": "2024-03-28T21:34:23.102Z"
   },
   {
    "duration": 20,
    "start_time": "2024-03-28T21:34:34.366Z"
   },
   {
    "duration": 5,
    "start_time": "2024-03-28T21:36:31.457Z"
   },
   {
    "duration": 13,
    "start_time": "2024-03-28T21:38:10.674Z"
   },
   {
    "duration": 22,
    "start_time": "2024-03-28T21:38:30.684Z"
   },
   {
    "duration": 10,
    "start_time": "2024-03-28T21:40:39.609Z"
   },
   {
    "duration": 10,
    "start_time": "2024-03-28T21:41:01.731Z"
   },
   {
    "duration": 9,
    "start_time": "2024-03-28T21:49:51.427Z"
   },
   {
    "duration": 9,
    "start_time": "2024-03-28T21:49:58.195Z"
   },
   {
    "duration": 9,
    "start_time": "2024-03-28T21:50:05.085Z"
   },
   {
    "duration": 7,
    "start_time": "2024-03-28T21:57:21.374Z"
   },
   {
    "duration": 6,
    "start_time": "2024-03-28T22:00:16.160Z"
   },
   {
    "duration": 62,
    "start_time": "2024-03-28T22:00:16.800Z"
   },
   {
    "duration": 8,
    "start_time": "2024-03-28T22:04:03.947Z"
   },
   {
    "duration": 5,
    "start_time": "2024-03-28T22:08:28.463Z"
   },
   {
    "duration": 7,
    "start_time": "2024-03-28T22:08:30.647Z"
   },
   {
    "duration": 4,
    "start_time": "2024-03-28T22:08:40.824Z"
   },
   {
    "duration": 8,
    "start_time": "2024-03-28T22:08:41.767Z"
   },
   {
    "duration": 12,
    "start_time": "2024-03-28T22:10:27.562Z"
   },
   {
    "duration": 5,
    "start_time": "2024-03-28T22:11:11.253Z"
   },
   {
    "duration": 5,
    "start_time": "2024-03-28T22:15:19.461Z"
   },
   {
    "duration": 55,
    "start_time": "2024-03-28T22:20:55.598Z"
   },
   {
    "duration": 80,
    "start_time": "2024-03-28T22:21:08.374Z"
   },
   {
    "duration": 14,
    "start_time": "2024-03-28T22:21:45.394Z"
   },
   {
    "duration": 14,
    "start_time": "2024-03-28T22:23:08.018Z"
   },
   {
    "duration": 9,
    "start_time": "2024-03-28T22:23:32.876Z"
   },
   {
    "duration": 7,
    "start_time": "2024-03-28T22:25:35.095Z"
   },
   {
    "duration": 14,
    "start_time": "2024-03-28T22:26:06.402Z"
   },
   {
    "duration": 6,
    "start_time": "2024-03-28T22:27:17.577Z"
   },
   {
    "duration": 3,
    "start_time": "2024-03-28T22:27:44.588Z"
   },
   {
    "duration": 5,
    "start_time": "2024-03-28T22:29:45.079Z"
   },
   {
    "duration": 11,
    "start_time": "2024-03-28T22:30:56.366Z"
   },
   {
    "duration": 70,
    "start_time": "2024-03-28T22:32:13.566Z"
   },
   {
    "duration": 9,
    "start_time": "2024-03-28T22:35:20.857Z"
   },
   {
    "duration": 21,
    "start_time": "2024-03-28T22:36:11.229Z"
   },
   {
    "duration": 6,
    "start_time": "2024-03-28T22:38:13.137Z"
   },
   {
    "duration": 9,
    "start_time": "2024-03-28T22:38:35.059Z"
   },
   {
    "duration": 9,
    "start_time": "2024-03-28T22:39:12.007Z"
   },
   {
    "duration": 9,
    "start_time": "2024-03-28T22:39:25.615Z"
   },
   {
    "duration": 7,
    "start_time": "2024-03-28T22:44:13.428Z"
   },
   {
    "duration": 10,
    "start_time": "2024-03-28T22:44:36.190Z"
   },
   {
    "duration": 21,
    "start_time": "2024-03-28T22:44:45.191Z"
   },
   {
    "duration": 56,
    "start_time": "2024-03-28T22:45:09.505Z"
   },
   {
    "duration": 5,
    "start_time": "2024-03-28T22:45:14.017Z"
   },
   {
    "duration": 21,
    "start_time": "2024-03-28T22:45:29.650Z"
   },
   {
    "duration": 7,
    "start_time": "2024-03-28T22:45:52.812Z"
   },
   {
    "duration": 53,
    "start_time": "2024-03-28T22:47:38.615Z"
   },
   {
    "duration": 56,
    "start_time": "2024-03-28T22:48:03.386Z"
   },
   {
    "duration": 51,
    "start_time": "2024-03-28T22:48:09.889Z"
   },
   {
    "duration": 55,
    "start_time": "2024-03-28T22:48:16.467Z"
   },
   {
    "duration": 30,
    "start_time": "2024-03-28T22:48:35.645Z"
   },
   {
    "duration": 16,
    "start_time": "2024-03-28T22:48:48.573Z"
   },
   {
    "duration": 17,
    "start_time": "2024-03-28T22:49:03.479Z"
   },
   {
    "duration": 242,
    "start_time": "2024-03-28T22:52:52.453Z"
   },
   {
    "duration": 472,
    "start_time": "2024-03-30T08:47:27.533Z"
   },
   {
    "duration": 301,
    "start_time": "2024-03-30T08:47:29.477Z"
   },
   {
    "duration": 22,
    "start_time": "2024-03-30T08:47:30.645Z"
   },
   {
    "duration": 15,
    "start_time": "2024-03-30T08:47:39.741Z"
   },
   {
    "duration": 2604,
    "start_time": "2024-03-30T08:47:42.421Z"
   },
   {
    "duration": 11,
    "start_time": "2024-03-30T08:47:50.766Z"
   },
   {
    "duration": 9,
    "start_time": "2024-03-30T08:48:00.552Z"
   },
   {
    "duration": 6,
    "start_time": "2024-03-30T08:48:05.151Z"
   },
   {
    "duration": 46,
    "start_time": "2024-03-30T08:48:12.033Z"
   },
   {
    "duration": 4,
    "start_time": "2024-03-30T08:48:22.681Z"
   },
   {
    "duration": 33,
    "start_time": "2024-03-30T08:48:26.298Z"
   },
   {
    "duration": 5,
    "start_time": "2024-03-30T08:48:29.410Z"
   },
   {
    "duration": 32,
    "start_time": "2024-03-30T08:48:45.531Z"
   },
   {
    "duration": 52,
    "start_time": "2024-03-30T08:48:48.307Z"
   },
   {
    "duration": 8,
    "start_time": "2024-03-30T08:48:50.516Z"
   },
   {
    "duration": 15,
    "start_time": "2024-03-30T08:48:53.332Z"
   },
   {
    "duration": 9,
    "start_time": "2024-03-30T08:48:55.444Z"
   },
   {
    "duration": 7,
    "start_time": "2024-03-30T08:48:58.485Z"
   },
   {
    "duration": 9,
    "start_time": "2024-03-30T08:49:00.124Z"
   },
   {
    "duration": 8,
    "start_time": "2024-03-30T08:49:03.357Z"
   },
   {
    "duration": 9,
    "start_time": "2024-03-30T08:49:05.141Z"
   },
   {
    "duration": 4,
    "start_time": "2024-03-30T08:49:06.885Z"
   },
   {
    "duration": 9,
    "start_time": "2024-03-30T08:49:09.045Z"
   },
   {
    "duration": 22,
    "start_time": "2024-03-30T08:49:16.727Z"
   },
   {
    "duration": 5,
    "start_time": "2024-03-30T08:49:18.486Z"
   },
   {
    "duration": 22,
    "start_time": "2024-03-30T08:49:19.334Z"
   },
   {
    "duration": 260,
    "start_time": "2024-03-30T08:49:20.249Z"
   },
   {
    "duration": 6,
    "start_time": "2024-03-30T08:54:49.926Z"
   },
   {
    "duration": 6,
    "start_time": "2024-03-30T08:55:06.925Z"
   },
   {
    "duration": 6,
    "start_time": "2024-03-30T08:55:36.859Z"
   },
   {
    "duration": 8,
    "start_time": "2024-03-30T08:58:25.131Z"
   },
   {
    "duration": 9,
    "start_time": "2024-03-30T09:06:50.483Z"
   },
   {
    "duration": 8,
    "start_time": "2024-03-30T09:08:52.783Z"
   },
   {
    "duration": 89,
    "start_time": "2024-03-30T09:23:16.387Z"
   },
   {
    "duration": 174,
    "start_time": "2024-03-30T09:23:36.850Z"
   },
   {
    "duration": 88,
    "start_time": "2024-03-30T09:24:34.514Z"
   },
   {
    "duration": 81,
    "start_time": "2024-03-30T09:25:41.072Z"
   },
   {
    "duration": 401,
    "start_time": "2024-03-30T09:25:56.361Z"
   },
   {
    "duration": 5,
    "start_time": "2024-03-30T09:27:11.913Z"
   },
   {
    "duration": 16,
    "start_time": "2024-03-30T09:27:49.334Z"
   },
   {
    "duration": 8,
    "start_time": "2024-03-30T09:28:20.575Z"
   },
   {
    "duration": 7,
    "start_time": "2024-03-30T09:36:20.166Z"
   },
   {
    "duration": 84,
    "start_time": "2024-03-30T09:43:24.095Z"
   },
   {
    "duration": 82,
    "start_time": "2024-03-30T09:43:29.509Z"
   },
   {
    "duration": 81,
    "start_time": "2024-03-30T09:43:39.040Z"
   },
   {
    "duration": 77,
    "start_time": "2024-03-30T09:43:51.601Z"
   },
   {
    "duration": 214,
    "start_time": "2024-03-30T09:45:29.348Z"
   },
   {
    "duration": 133,
    "start_time": "2024-03-30T09:45:40.540Z"
   },
   {
    "duration": 143,
    "start_time": "2024-03-30T09:48:32.549Z"
   },
   {
    "duration": 9,
    "start_time": "2024-03-30T09:48:47.351Z"
   },
   {
    "duration": 10,
    "start_time": "2024-03-30T10:05:10.147Z"
   },
   {
    "duration": 122,
    "start_time": "2024-03-30T10:06:06.671Z"
   },
   {
    "duration": 9,
    "start_time": "2024-03-30T10:06:44.954Z"
   },
   {
    "duration": 130,
    "start_time": "2024-03-30T10:08:41.557Z"
   },
   {
    "duration": 8,
    "start_time": "2024-03-30T10:10:43.761Z"
   },
   {
    "duration": 7,
    "start_time": "2024-03-30T10:11:06.755Z"
   },
   {
    "duration": 304,
    "start_time": "2024-03-30T10:12:13.473Z"
   },
   {
    "duration": 301,
    "start_time": "2024-03-30T10:12:28.915Z"
   },
   {
    "duration": 80,
    "start_time": "2024-03-30T10:12:43.764Z"
   },
   {
    "duration": 122,
    "start_time": "2024-03-30T10:12:48.317Z"
   },
   {
    "duration": 427,
    "start_time": "2024-03-30T10:15:34.244Z"
   },
   {
    "duration": 307,
    "start_time": "2024-03-30T10:15:55.158Z"
   },
   {
    "duration": 15,
    "start_time": "2024-03-30T10:17:34.047Z"
   },
   {
    "duration": 19,
    "start_time": "2024-03-30T10:20:55.851Z"
   },
   {
    "duration": 21,
    "start_time": "2024-03-30T10:21:06.476Z"
   },
   {
    "duration": 20,
    "start_time": "2024-03-30T10:21:51.456Z"
   },
   {
    "duration": 6,
    "start_time": "2024-03-30T10:22:37.556Z"
   },
   {
    "duration": 6,
    "start_time": "2024-03-30T10:22:48.845Z"
   },
   {
    "duration": 346,
    "start_time": "2024-03-30T12:25:05.374Z"
   },
   {
    "duration": 316,
    "start_time": "2024-03-30T12:25:19.734Z"
   },
   {
    "duration": 9,
    "start_time": "2024-03-30T12:25:28.167Z"
   },
   {
    "duration": 323,
    "start_time": "2024-03-30T12:25:33.719Z"
   },
   {
    "duration": 301,
    "start_time": "2024-03-30T12:27:58.781Z"
   },
   {
    "duration": 451,
    "start_time": "2024-03-30T12:28:19.975Z"
   },
   {
    "duration": 303,
    "start_time": "2024-03-30T12:28:56.347Z"
   },
   {
    "duration": 297,
    "start_time": "2024-03-30T12:29:40.919Z"
   },
   {
    "duration": 300,
    "start_time": "2024-03-30T12:30:27.659Z"
   },
   {
    "duration": 10,
    "start_time": "2024-03-30T12:34:08.024Z"
   },
   {
    "duration": 308,
    "start_time": "2024-03-30T12:36:07.268Z"
   },
   {
    "duration": 454,
    "start_time": "2024-03-30T12:37:13.770Z"
   },
   {
    "duration": 319,
    "start_time": "2024-03-30T12:37:35.716Z"
   },
   {
    "duration": 319,
    "start_time": "2024-03-30T12:40:34.557Z"
   },
   {
    "duration": 308,
    "start_time": "2024-03-30T12:45:24.889Z"
   },
   {
    "duration": 318,
    "start_time": "2024-03-30T12:45:37.041Z"
   },
   {
    "duration": 307,
    "start_time": "2024-03-30T12:45:44.595Z"
   },
   {
    "duration": 465,
    "start_time": "2024-03-30T12:46:09.037Z"
   },
   {
    "duration": 309,
    "start_time": "2024-03-30T12:46:43.640Z"
   },
   {
    "duration": 11,
    "start_time": "2024-03-30T12:55:24.481Z"
   },
   {
    "duration": 363,
    "start_time": "2024-03-30T12:55:42.699Z"
   },
   {
    "duration": 343,
    "start_time": "2024-03-30T12:57:12.819Z"
   },
   {
    "duration": 377,
    "start_time": "2024-03-30T12:57:24.844Z"
   },
   {
    "duration": 314,
    "start_time": "2024-03-30T12:57:43.086Z"
   },
   {
    "duration": 9,
    "start_time": "2024-03-30T13:05:34.643Z"
   },
   {
    "duration": 5,
    "start_time": "2024-03-30T13:06:20.271Z"
   },
   {
    "duration": 374,
    "start_time": "2024-03-30T13:07:02.580Z"
   },
   {
    "duration": 5176,
    "start_time": "2024-03-30T13:08:23.851Z"
   },
   {
    "duration": 358,
    "start_time": "2024-03-30T13:08:45.317Z"
   },
   {
    "duration": 5,
    "start_time": "2024-03-30T13:11:33.005Z"
   },
   {
    "duration": 332,
    "start_time": "2024-03-30T13:15:41.101Z"
   },
   {
    "duration": 2111,
    "start_time": "2024-03-30T13:18:43.894Z"
   },
   {
    "duration": 189,
    "start_time": "2024-03-30T13:18:51.478Z"
   },
   {
    "duration": 161,
    "start_time": "2024-03-30T13:19:12.313Z"
   },
   {
    "duration": 153,
    "start_time": "2024-03-30T13:19:51.396Z"
   },
   {
    "duration": 187,
    "start_time": "2024-03-30T13:20:02.261Z"
   },
   {
    "duration": 105,
    "start_time": "2024-03-30T13:20:32.680Z"
   },
   {
    "duration": 160,
    "start_time": "2024-03-30T13:20:49.802Z"
   },
   {
    "duration": 7,
    "start_time": "2024-03-30T13:21:32.381Z"
   },
   {
    "duration": 9,
    "start_time": "2024-03-30T13:21:52.440Z"
   },
   {
    "duration": 8,
    "start_time": "2024-03-30T13:21:57.663Z"
   },
   {
    "duration": 7,
    "start_time": "2024-03-30T13:22:06.177Z"
   },
   {
    "duration": 6,
    "start_time": "2024-03-30T13:22:16.722Z"
   },
   {
    "duration": 5,
    "start_time": "2024-03-30T13:22:36.635Z"
   },
   {
    "duration": 10,
    "start_time": "2024-03-30T13:23:26.256Z"
   },
   {
    "duration": 10,
    "start_time": "2024-03-30T13:23:39.930Z"
   },
   {
    "duration": 10,
    "start_time": "2024-03-30T13:23:56.875Z"
   },
   {
    "duration": 9,
    "start_time": "2024-03-30T13:24:21.910Z"
   },
   {
    "duration": 10,
    "start_time": "2024-03-30T13:26:05.351Z"
   },
   {
    "duration": 8,
    "start_time": "2024-03-30T13:26:20.753Z"
   },
   {
    "duration": 4,
    "start_time": "2024-03-30T13:26:21.737Z"
   },
   {
    "duration": 9,
    "start_time": "2024-03-30T13:26:44.402Z"
   },
   {
    "duration": 8,
    "start_time": "2024-03-30T13:26:52.708Z"
   },
   {
    "duration": 181,
    "start_time": "2024-03-30T13:28:00.843Z"
   },
   {
    "duration": 358,
    "start_time": "2024-03-30T13:28:22.301Z"
   },
   {
    "duration": 350,
    "start_time": "2024-03-30T13:30:02.621Z"
   },
   {
    "duration": 322,
    "start_time": "2024-03-30T13:30:48.562Z"
   },
   {
    "duration": 333,
    "start_time": "2024-03-30T13:31:06.988Z"
   },
   {
    "duration": 337,
    "start_time": "2024-03-30T13:31:28.670Z"
   },
   {
    "duration": 334,
    "start_time": "2024-03-30T13:31:52.184Z"
   },
   {
    "duration": 6,
    "start_time": "2024-03-30T13:32:46.101Z"
   },
   {
    "duration": 6,
    "start_time": "2024-03-30T13:33:31.602Z"
   },
   {
    "duration": 711,
    "start_time": "2024-03-30T13:33:50.444Z"
   },
   {
    "duration": 1834,
    "start_time": "2024-03-30T13:34:40.240Z"
   },
   {
    "duration": 185,
    "start_time": "2024-03-30T13:34:47.409Z"
   },
   {
    "duration": 342,
    "start_time": "2024-03-30T13:34:59.602Z"
   },
   {
    "duration": 367,
    "start_time": "2024-03-30T13:35:07.170Z"
   },
   {
    "duration": 6,
    "start_time": "2024-03-30T13:35:41.742Z"
   },
   {
    "duration": 327,
    "start_time": "2024-03-30T13:35:46.638Z"
   },
   {
    "duration": 338,
    "start_time": "2024-03-30T13:36:09.985Z"
   },
   {
    "duration": 680,
    "start_time": "2024-03-30T13:37:09.791Z"
   },
   {
    "duration": 311,
    "start_time": "2024-03-30T13:37:37.353Z"
   },
   {
    "duration": 309,
    "start_time": "2024-03-30T13:37:52.882Z"
   },
   {
    "duration": 303,
    "start_time": "2024-03-30T13:38:10.948Z"
   },
   {
    "duration": 317,
    "start_time": "2024-03-30T13:39:00.065Z"
   },
   {
    "duration": 326,
    "start_time": "2024-03-30T13:39:10.754Z"
   },
   {
    "duration": 5,
    "start_time": "2024-03-30T13:41:19.414Z"
   },
   {
    "duration": 5,
    "start_time": "2024-03-30T13:41:23.806Z"
   },
   {
    "duration": 4,
    "start_time": "2024-03-30T13:41:31.968Z"
   },
   {
    "duration": 89,
    "start_time": "2024-03-30T13:57:27.736Z"
   },
   {
    "duration": 10,
    "start_time": "2024-03-30T13:57:53.874Z"
   },
   {
    "duration": 389,
    "start_time": "2024-03-30T13:58:13.180Z"
   },
   {
    "duration": 330,
    "start_time": "2024-03-30T13:58:44.935Z"
   },
   {
    "duration": 181,
    "start_time": "2024-03-30T13:58:53.920Z"
   },
   {
    "duration": 230,
    "start_time": "2024-03-30T13:59:10.313Z"
   },
   {
    "duration": 272,
    "start_time": "2024-03-30T13:59:32.379Z"
   },
   {
    "duration": 357,
    "start_time": "2024-03-30T13:59:41.892Z"
   },
   {
    "duration": 198,
    "start_time": "2024-03-30T13:59:59.830Z"
   },
   {
    "duration": 11,
    "start_time": "2024-03-30T14:14:27.791Z"
   },
   {
    "duration": 347,
    "start_time": "2024-03-30T14:17:50.577Z"
   },
   {
    "duration": 134,
    "start_time": "2024-03-30T14:18:25.989Z"
   },
   {
    "duration": 317,
    "start_time": "2024-03-30T14:18:57.936Z"
   },
   {
    "duration": 9,
    "start_time": "2024-03-30T14:19:42.141Z"
   },
   {
    "duration": 7,
    "start_time": "2024-03-30T14:20:04.638Z"
   },
   {
    "duration": 13,
    "start_time": "2024-03-30T14:20:18.489Z"
   },
   {
    "duration": 8,
    "start_time": "2024-03-30T14:21:08.900Z"
   },
   {
    "duration": 8,
    "start_time": "2024-03-30T14:21:22.549Z"
   },
   {
    "duration": 59,
    "start_time": "2024-03-30T14:22:04.449Z"
   },
   {
    "duration": 307,
    "start_time": "2024-03-30T14:22:43.500Z"
   },
   {
    "duration": 339,
    "start_time": "2024-03-30T14:22:59.622Z"
   },
   {
    "duration": 329,
    "start_time": "2024-03-30T14:30:07.263Z"
   },
   {
    "duration": 310,
    "start_time": "2024-03-30T14:30:17.312Z"
   },
   {
    "duration": 179,
    "start_time": "2024-03-30T14:30:22.808Z"
   },
   {
    "duration": 205,
    "start_time": "2024-03-30T14:30:27.057Z"
   },
   {
    "duration": 220,
    "start_time": "2024-03-30T14:30:42.194Z"
   },
   {
    "duration": 734,
    "start_time": "2024-03-30T14:30:58.228Z"
   },
   {
    "duration": 213,
    "start_time": "2024-03-30T14:31:23.046Z"
   },
   {
    "duration": 43,
    "start_time": "2024-03-30T14:31:51.191Z"
   },
   {
    "duration": 671,
    "start_time": "2024-03-30T14:32:27.957Z"
   },
   {
    "duration": 41,
    "start_time": "2024-03-30T14:32:38.948Z"
   },
   {
    "duration": 9,
    "start_time": "2024-03-30T14:32:51.047Z"
   },
   {
    "duration": 41,
    "start_time": "2024-03-30T14:33:03.728Z"
   },
   {
    "duration": 10,
    "start_time": "2024-03-30T14:34:44.688Z"
   },
   {
    "duration": 14,
    "start_time": "2024-03-30T14:36:29.235Z"
   },
   {
    "duration": 65,
    "start_time": "2024-03-30T14:37:57.675Z"
   },
   {
    "duration": 52,
    "start_time": "2024-03-30T14:38:20.677Z"
   },
   {
    "duration": 23,
    "start_time": "2024-03-30T14:38:31.846Z"
   },
   {
    "duration": 45,
    "start_time": "2024-03-30T14:38:38.360Z"
   },
   {
    "duration": 32,
    "start_time": "2024-03-30T14:38:45.029Z"
   },
   {
    "duration": 27,
    "start_time": "2024-03-30T14:39:18.243Z"
   },
   {
    "duration": 7,
    "start_time": "2024-03-30T14:39:28.756Z"
   },
   {
    "duration": 5,
    "start_time": "2024-03-30T14:39:39.524Z"
   },
   {
    "duration": 224,
    "start_time": "2024-03-30T14:40:00.367Z"
   },
   {
    "duration": 223,
    "start_time": "2024-03-30T14:40:08.967Z"
   },
   {
    "duration": 203,
    "start_time": "2024-03-30T14:40:22.536Z"
   },
   {
    "duration": 10,
    "start_time": "2024-03-30T14:43:26.770Z"
   },
   {
    "duration": 139,
    "start_time": "2024-03-30T14:43:52.076Z"
   },
   {
    "duration": 10,
    "start_time": "2024-03-30T14:45:39.038Z"
   },
   {
    "duration": 17,
    "start_time": "2024-03-30T14:46:08.409Z"
   },
   {
    "duration": 18,
    "start_time": "2024-03-30T14:50:07.079Z"
   },
   {
    "duration": 14,
    "start_time": "2024-03-30T14:50:58.773Z"
   },
   {
    "duration": 15,
    "start_time": "2024-03-30T14:52:11.084Z"
   },
   {
    "duration": 84,
    "start_time": "2024-03-30T14:52:38.846Z"
   },
   {
    "duration": 143,
    "start_time": "2024-03-30T14:52:55.655Z"
   },
   {
    "duration": 138,
    "start_time": "2024-03-30T14:55:15.621Z"
   },
   {
    "duration": 156,
    "start_time": "2024-03-30T14:56:12.657Z"
   },
   {
    "duration": 308,
    "start_time": "2024-03-30T14:58:18.014Z"
   },
   {
    "duration": 299,
    "start_time": "2024-03-30T14:58:46.368Z"
   },
   {
    "duration": 310,
    "start_time": "2024-03-30T14:58:51.073Z"
   },
   {
    "duration": 314,
    "start_time": "2024-03-30T14:59:28.995Z"
   },
   {
    "duration": 169,
    "start_time": "2024-03-30T14:59:58.654Z"
   },
   {
    "duration": 295,
    "start_time": "2024-03-30T15:00:17.329Z"
   },
   {
    "duration": 298,
    "start_time": "2024-03-30T15:00:40.530Z"
   },
   {
    "duration": 8,
    "start_time": "2024-03-30T15:06:23.965Z"
   },
   {
    "duration": 9,
    "start_time": "2024-03-30T15:06:31.422Z"
   },
   {
    "duration": 324,
    "start_time": "2024-03-30T15:06:59.977Z"
   },
   {
    "duration": 317,
    "start_time": "2024-03-30T15:07:24.323Z"
   },
   {
    "duration": 81,
    "start_time": "2024-03-30T15:08:17.480Z"
   },
   {
    "duration": 10,
    "start_time": "2024-03-30T15:08:58.509Z"
   },
   {
    "duration": 306,
    "start_time": "2024-03-30T15:09:17.014Z"
   },
   {
    "duration": 309,
    "start_time": "2024-03-30T15:09:53.809Z"
   },
   {
    "duration": 336,
    "start_time": "2024-03-30T15:10:23.565Z"
   },
   {
    "duration": 10,
    "start_time": "2024-03-30T15:11:50.996Z"
   },
   {
    "duration": 323,
    "start_time": "2024-03-30T15:12:18.887Z"
   },
   {
    "duration": 310,
    "start_time": "2024-03-30T15:13:05.748Z"
   },
   {
    "duration": 12,
    "start_time": "2024-03-30T15:17:52.128Z"
   },
   {
    "duration": 306,
    "start_time": "2024-03-30T15:18:12.698Z"
   },
   {
    "duration": 300,
    "start_time": "2024-03-30T15:18:43.869Z"
   },
   {
    "duration": 343,
    "start_time": "2024-03-30T17:30:13.711Z"
   },
   {
    "duration": 362,
    "start_time": "2024-03-30T17:30:48.278Z"
   },
   {
    "duration": 331,
    "start_time": "2024-03-30T17:30:59.136Z"
   },
   {
    "duration": 160,
    "start_time": "2024-03-30T17:35:07.511Z"
   },
   {
    "duration": 349,
    "start_time": "2024-03-30T17:38:05.696Z"
   },
   {
    "duration": 340,
    "start_time": "2024-03-30T17:38:12.063Z"
   },
   {
    "duration": 206,
    "start_time": "2024-03-30T17:38:17.430Z"
   },
   {
    "duration": 7,
    "start_time": "2024-03-30T17:47:21.660Z"
   },
   {
    "duration": 8,
    "start_time": "2024-03-30T17:52:36.321Z"
   },
   {
    "duration": 186,
    "start_time": "2024-03-30T18:11:22.087Z"
   },
   {
    "duration": 185,
    "start_time": "2024-03-30T18:11:47.009Z"
   },
   {
    "duration": 183,
    "start_time": "2024-03-30T18:13:51.694Z"
   },
   {
    "duration": 1326,
    "start_time": "2024-03-30T18:14:35.065Z"
   },
   {
    "duration": 159,
    "start_time": "2024-03-30T18:14:45.634Z"
   },
   {
    "duration": 49,
    "start_time": "2024-03-30T18:17:06.129Z"
   },
   {
    "duration": 57,
    "start_time": "2024-03-30T18:17:26.481Z"
   },
   {
    "duration": 45,
    "start_time": "2024-03-30T18:17:40.899Z"
   },
   {
    "duration": 178,
    "start_time": "2024-03-30T18:19:42.239Z"
   },
   {
    "duration": 160,
    "start_time": "2024-03-30T18:20:39.332Z"
   },
   {
    "duration": 165,
    "start_time": "2024-03-30T18:25:03.037Z"
   },
   {
    "duration": 199,
    "start_time": "2024-03-30T18:25:10.349Z"
   },
   {
    "duration": 161,
    "start_time": "2024-03-30T18:25:16.830Z"
   },
   {
    "duration": 153,
    "start_time": "2024-03-30T18:25:25.534Z"
   },
   {
    "duration": 774,
    "start_time": "2024-03-30T18:25:38.752Z"
   },
   {
    "duration": 224,
    "start_time": "2024-03-30T18:25:44.465Z"
   },
   {
    "duration": 140,
    "start_time": "2024-03-30T18:25:48.353Z"
   },
   {
    "duration": 183,
    "start_time": "2024-03-30T18:26:25.870Z"
   },
   {
    "duration": 160,
    "start_time": "2024-03-30T18:26:34.574Z"
   },
   {
    "duration": 156,
    "start_time": "2024-03-30T18:27:25.074Z"
   },
   {
    "duration": 189,
    "start_time": "2024-03-30T18:27:36.188Z"
   },
   {
    "duration": 172,
    "start_time": "2024-03-30T18:27:40.700Z"
   },
   {
    "duration": 173,
    "start_time": "2024-03-30T18:27:47.549Z"
   },
   {
    "duration": 156,
    "start_time": "2024-03-30T18:27:53.332Z"
   },
   {
    "duration": 148,
    "start_time": "2024-03-30T18:27:57.437Z"
   },
   {
    "duration": 183,
    "start_time": "2024-03-30T19:10:56.330Z"
   },
   {
    "duration": 181,
    "start_time": "2024-03-30T19:11:03.402Z"
   },
   {
    "duration": 150,
    "start_time": "2024-03-30T19:14:19.165Z"
   },
   {
    "duration": 143,
    "start_time": "2024-03-30T19:14:29.437Z"
   },
   {
    "duration": 141,
    "start_time": "2024-03-30T19:16:42.546Z"
   },
   {
    "duration": 152,
    "start_time": "2024-03-30T19:16:49.970Z"
   },
   {
    "duration": 160,
    "start_time": "2024-03-30T19:17:00.459Z"
   },
   {
    "duration": 153,
    "start_time": "2024-03-30T19:22:05.233Z"
   },
   {
    "duration": 152,
    "start_time": "2024-03-30T19:22:21.538Z"
   },
   {
    "duration": 151,
    "start_time": "2024-03-30T19:22:32.379Z"
   },
   {
    "duration": 147,
    "start_time": "2024-03-30T19:24:57.833Z"
   },
   {
    "duration": 169,
    "start_time": "2024-03-30T19:25:01.464Z"
   },
   {
    "duration": 179,
    "start_time": "2024-03-30T19:25:19.810Z"
   },
   {
    "duration": 177,
    "start_time": "2024-03-30T19:25:53.182Z"
   },
   {
    "duration": 1284,
    "start_time": "2024-03-30T19:26:01.927Z"
   },
   {
    "duration": 196,
    "start_time": "2024-03-30T19:26:09.239Z"
   },
   {
    "duration": 1267,
    "start_time": "2024-03-30T19:26:19.504Z"
   },
   {
    "duration": 1407,
    "start_time": "2024-03-30T19:26:57.852Z"
   },
   {
    "duration": 154,
    "start_time": "2024-03-30T19:27:03.085Z"
   },
   {
    "duration": 157,
    "start_time": "2024-03-30T19:28:53.448Z"
   },
   {
    "duration": 115,
    "start_time": "2024-03-30T19:29:40.635Z"
   },
   {
    "duration": 169,
    "start_time": "2024-03-30T19:29:49.780Z"
   },
   {
    "duration": 150,
    "start_time": "2024-03-30T19:31:38.334Z"
   },
   {
    "duration": 144,
    "start_time": "2024-03-30T19:31:48.336Z"
   },
   {
    "duration": 193,
    "start_time": "2024-03-30T19:32:07.169Z"
   },
   {
    "duration": 159,
    "start_time": "2024-03-30T19:32:15.426Z"
   },
   {
    "duration": 212,
    "start_time": "2024-03-30T19:38:28.341Z"
   },
   {
    "duration": 161,
    "start_time": "2024-03-30T19:38:38.981Z"
   },
   {
    "duration": 141,
    "start_time": "2024-03-30T19:38:53.198Z"
   },
   {
    "duration": 176,
    "start_time": "2024-03-30T19:39:12.289Z"
   },
   {
    "duration": 184,
    "start_time": "2024-03-30T19:44:04.947Z"
   },
   {
    "duration": 162,
    "start_time": "2024-03-30T19:46:20.760Z"
   },
   {
    "duration": 48,
    "start_time": "2024-03-30T19:55:12.170Z"
   },
   {
    "duration": 72,
    "start_time": "2024-03-30T19:55:33.644Z"
   },
   {
    "duration": 10,
    "start_time": "2024-03-30T19:56:02.308Z"
   },
   {
    "duration": 27,
    "start_time": "2024-03-30T19:56:08.647Z"
   },
   {
    "duration": 7,
    "start_time": "2024-03-30T19:56:33.930Z"
   },
   {
    "duration": 11,
    "start_time": "2024-03-30T19:59:13.697Z"
   },
   {
    "duration": 8,
    "start_time": "2024-03-30T19:59:33.498Z"
   },
   {
    "duration": 8,
    "start_time": "2024-03-30T20:09:23.378Z"
   },
   {
    "duration": 9,
    "start_time": "2024-03-30T20:09:38.860Z"
   },
   {
    "duration": 25,
    "start_time": "2024-03-30T20:14:12.279Z"
   },
   {
    "duration": 23,
    "start_time": "2024-03-30T20:14:39.878Z"
   },
   {
    "duration": 23,
    "start_time": "2024-03-30T20:15:38.824Z"
   },
   {
    "duration": 25,
    "start_time": "2024-03-30T20:15:54.529Z"
   },
   {
    "duration": 24,
    "start_time": "2024-03-30T20:17:39.123Z"
   },
   {
    "duration": 24,
    "start_time": "2024-03-30T20:17:51.868Z"
   },
   {
    "duration": 24,
    "start_time": "2024-03-30T20:18:43.209Z"
   },
   {
    "duration": 28,
    "start_time": "2024-03-30T20:20:11.730Z"
   },
   {
    "duration": 340,
    "start_time": "2024-03-30T20:20:33.052Z"
   },
   {
    "duration": 23,
    "start_time": "2024-03-30T20:20:55.382Z"
   },
   {
    "duration": 38,
    "start_time": "2024-03-30T20:21:02.471Z"
   },
   {
    "duration": 25,
    "start_time": "2024-03-30T20:21:20.448Z"
   },
   {
    "duration": 25,
    "start_time": "2024-03-30T20:21:47.944Z"
   },
   {
    "duration": 23,
    "start_time": "2024-03-30T20:22:22.951Z"
   },
   {
    "duration": 44,
    "start_time": "2024-03-30T20:25:51.307Z"
   },
   {
    "duration": 1336,
    "start_time": "2024-03-30T20:28:23.303Z"
   },
   {
    "duration": 24,
    "start_time": "2024-03-30T20:30:50.052Z"
   },
   {
    "duration": 1432,
    "start_time": "2024-03-30T20:31:26.491Z"
   },
   {
    "duration": 159,
    "start_time": "2024-03-30T20:31:58.021Z"
   },
   {
    "duration": 157,
    "start_time": "2024-03-30T20:32:07.991Z"
   },
   {
    "duration": 14,
    "start_time": "2024-03-30T20:34:59.519Z"
   },
   {
    "duration": 86,
    "start_time": "2024-03-30T20:35:14.817Z"
   },
   {
    "duration": 91,
    "start_time": "2024-03-30T20:35:22.607Z"
   },
   {
    "duration": 13,
    "start_time": "2024-03-30T20:36:06.414Z"
   },
   {
    "duration": 111,
    "start_time": "2024-03-30T20:37:50.544Z"
   },
   {
    "duration": 144,
    "start_time": "2024-03-30T20:38:47.526Z"
   },
   {
    "duration": 162,
    "start_time": "2024-03-30T20:39:15.080Z"
   },
   {
    "duration": 162,
    "start_time": "2024-03-30T20:39:23.184Z"
   },
   {
    "duration": 168,
    "start_time": "2024-03-30T20:39:48.843Z"
   },
   {
    "duration": 171,
    "start_time": "2024-03-30T20:41:27.651Z"
   },
   {
    "duration": 27,
    "start_time": "2024-03-30T20:43:08.318Z"
   },
   {
    "duration": 162,
    "start_time": "2024-03-30T20:43:11.798Z"
   },
   {
    "duration": 172,
    "start_time": "2024-03-30T20:43:24.824Z"
   },
   {
    "duration": 195,
    "start_time": "2024-03-30T20:43:32.056Z"
   },
   {
    "duration": 191,
    "start_time": "2024-03-30T20:45:19.700Z"
   },
   {
    "duration": 195,
    "start_time": "2024-03-30T20:45:44.981Z"
   },
   {
    "duration": 195,
    "start_time": "2024-03-30T20:45:52.685Z"
   },
   {
    "duration": 192,
    "start_time": "2024-03-30T20:46:05.278Z"
   },
   {
    "duration": 159,
    "start_time": "2024-03-30T20:46:26.265Z"
   },
   {
    "duration": 170,
    "start_time": "2024-03-30T20:47:11.900Z"
   },
   {
    "duration": 6,
    "start_time": "2024-03-30T20:48:21.091Z"
   },
   {
    "duration": 7,
    "start_time": "2024-03-30T20:48:33.773Z"
   },
   {
    "duration": 173,
    "start_time": "2024-03-30T20:49:03.119Z"
   },
   {
    "duration": 22,
    "start_time": "2024-03-30T20:50:29.303Z"
   },
   {
    "duration": 24,
    "start_time": "2024-03-30T20:51:54.269Z"
   },
   {
    "duration": 23,
    "start_time": "2024-03-30T20:52:24.314Z"
   },
   {
    "duration": 22,
    "start_time": "2024-03-30T20:52:58.639Z"
   },
   {
    "duration": 23,
    "start_time": "2024-03-30T20:53:17.022Z"
   },
   {
    "duration": 26,
    "start_time": "2024-03-30T20:53:32.569Z"
   },
   {
    "duration": 498,
    "start_time": "2024-03-31T09:15:10.137Z"
   },
   {
    "duration": 227,
    "start_time": "2024-03-31T09:15:12.861Z"
   },
   {
    "duration": 87,
    "start_time": "2024-03-31T09:15:26.566Z"
   },
   {
    "duration": 19,
    "start_time": "2024-03-31T09:15:34.024Z"
   },
   {
    "duration": 39,
    "start_time": "2024-03-31T09:15:44.976Z"
   },
   {
    "duration": 26,
    "start_time": "2024-03-31T09:15:59.988Z"
   },
   {
    "duration": 16,
    "start_time": "2024-03-31T09:16:07.394Z"
   },
   {
    "duration": 2166,
    "start_time": "2024-03-31T09:16:27.100Z"
   },
   {
    "duration": 10,
    "start_time": "2024-03-31T09:44:15.666Z"
   },
   {
    "duration": 9,
    "start_time": "2024-03-31T09:46:31.022Z"
   },
   {
    "duration": 8,
    "start_time": "2024-03-31T09:46:38.120Z"
   },
   {
    "duration": 4,
    "start_time": "2024-03-31T09:50:37.045Z"
   },
   {
    "duration": 6,
    "start_time": "2024-03-31T09:51:16.280Z"
   },
   {
    "duration": 32,
    "start_time": "2024-03-31T09:51:41.731Z"
   },
   {
    "duration": 54,
    "start_time": "2024-03-31T09:52:27.153Z"
   },
   {
    "duration": 7,
    "start_time": "2024-03-31T09:53:41.319Z"
   },
   {
    "duration": 50,
    "start_time": "2024-03-31T09:53:43.695Z"
   },
   {
    "duration": 17,
    "start_time": "2024-03-31T09:54:45.518Z"
   },
   {
    "duration": 7,
    "start_time": "2024-03-31T09:56:26.608Z"
   },
   {
    "duration": 4,
    "start_time": "2024-03-31T09:59:40.026Z"
   },
   {
    "duration": 9,
    "start_time": "2024-03-31T09:59:48.602Z"
   },
   {
    "duration": 9,
    "start_time": "2024-03-31T10:03:16.043Z"
   },
   {
    "duration": 7,
    "start_time": "2024-03-31T10:03:18.700Z"
   },
   {
    "duration": 3,
    "start_time": "2024-03-31T10:03:25.052Z"
   },
   {
    "duration": 8,
    "start_time": "2024-03-31T10:03:32.180Z"
   },
   {
    "duration": 20,
    "start_time": "2024-03-31T10:05:09.030Z"
   },
   {
    "duration": 4,
    "start_time": "2024-03-31T10:10:22.369Z"
   },
   {
    "duration": 19,
    "start_time": "2024-03-31T10:10:37.611Z"
   },
   {
    "duration": 7,
    "start_time": "2024-03-31T10:11:31.585Z"
   },
   {
    "duration": 232,
    "start_time": "2024-03-31T10:12:19.829Z"
   },
   {
    "duration": 5,
    "start_time": "2024-03-31T10:12:44.826Z"
   },
   {
    "duration": 5,
    "start_time": "2024-03-31T10:13:39.323Z"
   },
   {
    "duration": 6,
    "start_time": "2024-03-31T10:13:48.997Z"
   },
   {
    "duration": 8,
    "start_time": "2024-03-31T10:14:02.150Z"
   },
   {
    "duration": 9,
    "start_time": "2024-03-31T10:14:11.767Z"
   },
   {
    "duration": 7,
    "start_time": "2024-03-31T10:14:20.431Z"
   },
   {
    "duration": 270,
    "start_time": "2024-03-31T10:14:49.179Z"
   },
   {
    "duration": 7,
    "start_time": "2024-03-31T10:15:12.877Z"
   },
   {
    "duration": 9,
    "start_time": "2024-03-31T10:18:41.680Z"
   },
   {
    "duration": 247,
    "start_time": "2024-03-31T10:18:48.753Z"
   },
   {
    "duration": 335,
    "start_time": "2024-03-31T10:19:01.946Z"
   },
   {
    "duration": 8,
    "start_time": "2024-03-31T10:19:47.614Z"
   },
   {
    "duration": 260,
    "start_time": "2024-03-31T10:19:49.502Z"
   },
   {
    "duration": 261,
    "start_time": "2024-03-31T10:19:52.391Z"
   },
   {
    "duration": 9,
    "start_time": "2024-03-31T10:20:21.761Z"
   },
   {
    "duration": 254,
    "start_time": "2024-03-31T10:20:23.937Z"
   },
   {
    "duration": 266,
    "start_time": "2024-03-31T10:20:26.961Z"
   },
   {
    "duration": 8,
    "start_time": "2024-03-31T10:21:04.493Z"
   },
   {
    "duration": 374,
    "start_time": "2024-03-31T10:21:06.982Z"
   },
   {
    "duration": 319,
    "start_time": "2024-03-31T10:21:09.509Z"
   },
   {
    "duration": 11,
    "start_time": "2024-03-31T10:21:50.945Z"
   },
   {
    "duration": 268,
    "start_time": "2024-03-31T10:21:52.866Z"
   },
   {
    "duration": 171,
    "start_time": "2024-03-31T10:22:25.885Z"
   },
   {
    "duration": 9,
    "start_time": "2024-03-31T10:22:52.591Z"
   },
   {
    "duration": 169,
    "start_time": "2024-03-31T10:22:55.577Z"
   },
   {
    "duration": 39,
    "start_time": "2024-03-31T10:23:25.017Z"
   },
   {
    "duration": 11,
    "start_time": "2024-03-31T10:23:38.932Z"
   },
   {
    "duration": 143,
    "start_time": "2024-03-31T10:24:10.607Z"
   },
   {
    "duration": 9,
    "start_time": "2024-03-31T10:24:57.155Z"
   },
   {
    "duration": 274,
    "start_time": "2024-03-31T10:25:00.347Z"
   },
   {
    "duration": 389,
    "start_time": "2024-03-31T10:25:04.539Z"
   },
   {
    "duration": 9,
    "start_time": "2024-03-31T10:26:06.844Z"
   },
   {
    "duration": 265,
    "start_time": "2024-03-31T10:26:08.594Z"
   },
   {
    "duration": 310,
    "start_time": "2024-03-31T10:26:11.273Z"
   },
   {
    "duration": 9,
    "start_time": "2024-03-31T10:28:38.104Z"
   },
   {
    "duration": 259,
    "start_time": "2024-03-31T10:28:42.464Z"
   },
   {
    "duration": 268,
    "start_time": "2024-03-31T10:28:44.928Z"
   },
   {
    "duration": 10,
    "start_time": "2024-03-31T10:31:27.503Z"
   },
   {
    "duration": 6,
    "start_time": "2024-03-31T10:31:30.208Z"
   },
   {
    "duration": 261,
    "start_time": "2024-03-31T10:32:24.702Z"
   },
   {
    "duration": 128,
    "start_time": "2024-03-31T10:32:27.438Z"
   },
   {
    "duration": 165,
    "start_time": "2024-03-31T10:34:55.644Z"
   },
   {
    "duration": 331,
    "start_time": "2024-03-31T10:35:08.275Z"
   },
   {
    "duration": 178,
    "start_time": "2024-03-31T10:35:22.159Z"
   },
   {
    "duration": 182,
    "start_time": "2024-03-31T10:35:32.584Z"
   },
   {
    "duration": 168,
    "start_time": "2024-03-31T10:35:36.640Z"
   },
   {
    "duration": 179,
    "start_time": "2024-03-31T10:37:10.978Z"
   },
   {
    "duration": 188,
    "start_time": "2024-03-31T10:37:37.420Z"
   },
   {
    "duration": 174,
    "start_time": "2024-03-31T10:37:45.012Z"
   },
   {
    "duration": 186,
    "start_time": "2024-03-31T10:38:16.111Z"
   },
   {
    "duration": 7,
    "start_time": "2024-03-31T10:40:22.716Z"
   },
   {
    "duration": 52,
    "start_time": "2024-03-31T10:44:48.206Z"
   },
   {
    "duration": 136,
    "start_time": "2024-03-31T10:45:20.313Z"
   },
   {
    "duration": 130,
    "start_time": "2024-03-31T10:45:30.609Z"
   },
   {
    "duration": 164,
    "start_time": "2024-03-31T10:45:59.644Z"
   },
   {
    "duration": 140,
    "start_time": "2024-03-31T10:46:22.823Z"
   },
   {
    "duration": 148,
    "start_time": "2024-03-31T10:46:44.524Z"
   },
   {
    "duration": 143,
    "start_time": "2024-03-31T10:48:09.153Z"
   },
   {
    "duration": 139,
    "start_time": "2024-03-31T10:49:22.280Z"
   },
   {
    "duration": 135,
    "start_time": "2024-03-31T10:51:08.274Z"
   },
   {
    "duration": 9,
    "start_time": "2024-03-31T10:59:04.735Z"
   },
   {
    "duration": 26,
    "start_time": "2024-03-31T11:00:04.770Z"
   },
   {
    "duration": 14,
    "start_time": "2024-03-31T11:02:46.180Z"
   },
   {
    "duration": 100,
    "start_time": "2024-03-31T11:02:54.020Z"
   },
   {
    "duration": 152,
    "start_time": "2024-03-31T11:05:20.755Z"
   },
   {
    "duration": 145,
    "start_time": "2024-03-31T11:05:44.051Z"
   },
   {
    "duration": 149,
    "start_time": "2024-03-31T11:06:03.319Z"
   },
   {
    "duration": 22,
    "start_time": "2024-03-31T11:10:16.170Z"
   },
   {
    "duration": 530,
    "start_time": "2024-03-31T13:46:40.798Z"
   },
   {
    "duration": 298,
    "start_time": "2024-03-31T13:46:43.390Z"
   },
   {
    "duration": 37,
    "start_time": "2024-03-31T13:46:50.167Z"
   },
   {
    "duration": 17,
    "start_time": "2024-03-31T13:46:53.230Z"
   },
   {
    "duration": 2507,
    "start_time": "2024-03-31T13:46:58.231Z"
   },
   {
    "duration": 2,
    "start_time": "2024-03-31T14:02:33.058Z"
   },
   {
    "duration": 104,
    "start_time": "2024-03-31T14:02:34.913Z"
   },
   {
    "duration": 34,
    "start_time": "2024-03-31T14:02:36.549Z"
   },
   {
    "duration": 16,
    "start_time": "2024-03-31T14:02:37.913Z"
   },
   {
    "duration": 2102,
    "start_time": "2024-03-31T14:02:39.689Z"
   },
   {
    "duration": 482,
    "start_time": "2024-04-01T09:40:58.655Z"
   },
   {
    "duration": 294,
    "start_time": "2024-04-01T09:40:59.138Z"
   },
   {
    "duration": 38,
    "start_time": "2024-04-01T09:40:59.434Z"
   },
   {
    "duration": 16,
    "start_time": "2024-04-01T09:40:59.474Z"
   },
   {
    "duration": 2456,
    "start_time": "2024-04-01T09:40:59.492Z"
   },
   {
    "duration": 11,
    "start_time": "2024-04-01T09:41:01.950Z"
   },
   {
    "duration": 138,
    "start_time": "2024-04-01T09:41:01.962Z"
   },
   {
    "duration": 33,
    "start_time": "2024-04-01T09:41:02.102Z"
   },
   {
    "duration": 59,
    "start_time": "2024-04-01T09:41:02.137Z"
   },
   {
    "duration": 228,
    "start_time": "2024-04-01T09:41:02.199Z"
   },
   {
    "duration": 68,
    "start_time": "2024-04-01T09:41:02.429Z"
   },
   {
    "duration": 53,
    "start_time": "2024-04-01T09:41:02.499Z"
   },
   {
    "duration": 7,
    "start_time": "2024-04-01T09:41:02.553Z"
   },
   {
    "duration": 28,
    "start_time": "2024-04-01T09:41:02.561Z"
   },
   {
    "duration": 16,
    "start_time": "2024-04-01T09:41:02.591Z"
   },
   {
    "duration": 18,
    "start_time": "2024-04-01T09:41:02.608Z"
   },
   {
    "duration": 37,
    "start_time": "2024-04-01T09:41:02.627Z"
   },
   {
    "duration": 24,
    "start_time": "2024-04-01T09:41:02.666Z"
   },
   {
    "duration": 169,
    "start_time": "2024-04-01T09:41:02.691Z"
   },
   {
    "duration": 49,
    "start_time": "2024-04-01T09:41:02.861Z"
   },
   {
    "duration": 34,
    "start_time": "2024-04-01T09:41:02.911Z"
   },
   {
    "duration": 30,
    "start_time": "2024-04-01T09:41:02.947Z"
   },
   {
    "duration": 289,
    "start_time": "2024-04-01T09:41:02.979Z"
   },
   {
    "duration": 8,
    "start_time": "2024-04-01T09:41:03.269Z"
   },
   {
    "duration": 45,
    "start_time": "2024-04-01T09:41:03.279Z"
   },
   {
    "duration": 74,
    "start_time": "2024-04-01T09:41:03.326Z"
   },
   {
    "duration": 25,
    "start_time": "2024-04-01T09:41:03.402Z"
   },
   {
    "duration": 337,
    "start_time": "2024-04-01T09:41:03.432Z"
   },
   {
    "duration": 6,
    "start_time": "2024-04-01T09:41:03.771Z"
   },
   {
    "duration": 30,
    "start_time": "2024-04-01T09:41:03.778Z"
   },
   {
    "duration": 298,
    "start_time": "2024-04-01T09:41:03.810Z"
   },
   {
    "duration": 401,
    "start_time": "2024-04-01T09:41:04.109Z"
   },
   {
    "duration": 9,
    "start_time": "2024-04-01T09:41:04.511Z"
   },
   {
    "duration": 366,
    "start_time": "2024-04-01T09:41:04.521Z"
   },
   {
    "duration": 313,
    "start_time": "2024-04-01T09:41:04.889Z"
   },
   {
    "duration": 9,
    "start_time": "2024-04-01T09:41:05.204Z"
   },
   {
    "duration": 324,
    "start_time": "2024-04-01T09:41:05.214Z"
   },
   {
    "duration": 313,
    "start_time": "2024-04-01T09:41:05.540Z"
   },
   {
    "duration": 9,
    "start_time": "2024-04-01T09:41:05.855Z"
   },
   {
    "duration": 415,
    "start_time": "2024-04-01T09:41:05.865Z"
   },
   {
    "duration": 318,
    "start_time": "2024-04-01T09:41:06.282Z"
   },
   {
    "duration": 9,
    "start_time": "2024-04-01T09:41:06.603Z"
   },
   {
    "duration": 327,
    "start_time": "2024-04-01T09:41:06.614Z"
   },
   {
    "duration": 216,
    "start_time": "2024-04-01T09:41:06.943Z"
   },
   {
    "duration": 10,
    "start_time": "2024-04-01T09:41:07.161Z"
   },
   {
    "duration": 219,
    "start_time": "2024-04-01T09:41:07.172Z"
   },
   {
    "duration": 44,
    "start_time": "2024-04-01T09:41:07.392Z"
   },
   {
    "duration": 11,
    "start_time": "2024-04-01T09:41:07.437Z"
   },
   {
    "duration": 178,
    "start_time": "2024-04-01T09:41:07.449Z"
   },
   {
    "duration": 8,
    "start_time": "2024-04-01T09:41:07.629Z"
   },
   {
    "duration": 312,
    "start_time": "2024-04-01T09:41:07.639Z"
   },
   {
    "duration": 411,
    "start_time": "2024-04-01T09:41:07.952Z"
   },
   {
    "duration": 10,
    "start_time": "2024-04-01T09:41:08.365Z"
   },
   {
    "duration": 307,
    "start_time": "2024-04-01T09:41:08.377Z"
   },
   {
    "duration": 335,
    "start_time": "2024-04-01T09:41:08.687Z"
   },
   {
    "duration": 10,
    "start_time": "2024-04-01T09:41:09.023Z"
   },
   {
    "duration": 310,
    "start_time": "2024-04-01T09:41:09.034Z"
   },
   {
    "duration": 325,
    "start_time": "2024-04-01T09:41:09.345Z"
   },
   {
    "duration": 18,
    "start_time": "2024-04-01T09:41:09.672Z"
   },
   {
    "duration": 5,
    "start_time": "2024-04-01T09:41:09.692Z"
   },
   {
    "duration": 314,
    "start_time": "2024-04-01T09:41:09.698Z"
   },
   {
    "duration": 138,
    "start_time": "2024-04-01T09:41:10.014Z"
   },
   {
    "duration": 184,
    "start_time": "2024-04-01T09:41:10.154Z"
   },
   {
    "duration": 312,
    "start_time": "2024-04-01T09:41:10.340Z"
   },
   {
    "duration": 208,
    "start_time": "2024-04-01T09:41:10.654Z"
   },
   {
    "duration": 6,
    "start_time": "2024-04-01T09:41:10.864Z"
   },
   {
    "duration": 66,
    "start_time": "2024-04-01T09:41:10.871Z"
   },
   {
    "duration": 154,
    "start_time": "2024-04-01T09:41:10.939Z"
   },
   {
    "duration": 162,
    "start_time": "2024-04-01T09:41:11.095Z"
   },
   {
    "duration": 178,
    "start_time": "2024-04-01T09:41:11.259Z"
   },
   {
    "duration": 157,
    "start_time": "2024-04-01T09:41:11.438Z"
   },
   {
    "duration": 148,
    "start_time": "2024-04-01T09:41:11.597Z"
   },
   {
    "duration": 173,
    "start_time": "2024-04-01T09:41:11.747Z"
   },
   {
    "duration": 173,
    "start_time": "2024-04-01T09:41:11.921Z"
   },
   {
    "duration": 158,
    "start_time": "2024-04-01T09:41:12.096Z"
   },
   {
    "duration": 10,
    "start_time": "2024-04-01T09:41:12.256Z"
   },
   {
    "duration": 46,
    "start_time": "2024-04-01T09:41:12.268Z"
   },
   {
    "duration": 20,
    "start_time": "2024-04-01T09:41:12.316Z"
   },
   {
    "duration": 179,
    "start_time": "2024-04-01T09:41:12.337Z"
   },
   {
    "duration": 23,
    "start_time": "2024-04-01T09:41:12.518Z"
   },
   {
    "duration": 491,
    "start_time": "2024-04-01T14:01:57.458Z"
   },
   {
    "duration": 222,
    "start_time": "2024-04-01T14:01:59.828Z"
   },
   {
    "duration": 45,
    "start_time": "2024-04-01T14:02:02.084Z"
   },
   {
    "duration": 17,
    "start_time": "2024-04-01T14:02:04.264Z"
   },
   {
    "duration": 2260,
    "start_time": "2024-04-01T14:02:05.016Z"
   },
   {
    "duration": 11,
    "start_time": "2024-04-01T14:02:13.775Z"
   },
   {
    "duration": 10,
    "start_time": "2024-04-01T14:02:17.634Z"
   },
   {
    "duration": 9,
    "start_time": "2024-04-01T14:02:20.545Z"
   },
   {
    "duration": 5,
    "start_time": "2024-04-01T14:02:22.776Z"
   },
   {
    "duration": 3,
    "start_time": "2024-04-01T14:02:25.786Z"
   },
   {
    "duration": 6,
    "start_time": "2024-04-01T14:02:30.463Z"
   },
   {
    "duration": 48,
    "start_time": "2024-04-01T14:03:51.552Z"
   },
   {
    "duration": 2,
    "start_time": "2024-04-01T14:04:43.576Z"
   },
   {
    "duration": 93,
    "start_time": "2024-04-01T14:04:44.803Z"
   },
   {
    "duration": 29,
    "start_time": "2024-04-01T14:04:47.441Z"
   },
   {
    "duration": 15,
    "start_time": "2024-04-01T14:04:49.518Z"
   },
   {
    "duration": 1833,
    "start_time": "2024-04-01T14:04:52.957Z"
   },
   {
    "duration": 10,
    "start_time": "2024-04-01T14:04:57.622Z"
   },
   {
    "duration": 8,
    "start_time": "2024-04-01T14:05:00.070Z"
   },
   {
    "duration": 5,
    "start_time": "2024-04-01T14:05:01.902Z"
   },
   {
    "duration": 4,
    "start_time": "2024-04-01T14:05:04.072Z"
   },
   {
    "duration": 5,
    "start_time": "2024-04-01T14:05:06.478Z"
   },
   {
    "duration": 13,
    "start_time": "2024-04-01T14:05:10.294Z"
   },
   {
    "duration": 34,
    "start_time": "2024-04-01T14:28:36.766Z"
   },
   {
    "duration": 6,
    "start_time": "2024-04-01T14:42:53.653Z"
   },
   {
    "duration": 6,
    "start_time": "2024-04-01T14:43:45.247Z"
   },
   {
    "duration": 9,
    "start_time": "2024-04-01T14:49:18.347Z"
   },
   {
    "duration": 8,
    "start_time": "2024-04-01T14:49:35.398Z"
   },
   {
    "duration": 8,
    "start_time": "2024-04-01T15:00:36.714Z"
   },
   {
    "duration": 4,
    "start_time": "2024-04-01T15:01:14.262Z"
   },
   {
    "duration": 9,
    "start_time": "2024-04-01T15:04:47.845Z"
   },
   {
    "duration": 8,
    "start_time": "2024-04-01T15:05:22.225Z"
   },
   {
    "duration": 9,
    "start_time": "2024-04-01T15:05:42.546Z"
   },
   {
    "duration": 8,
    "start_time": "2024-04-01T15:05:51.031Z"
   },
   {
    "duration": 9,
    "start_time": "2024-04-01T15:05:52.115Z"
   },
   {
    "duration": 3,
    "start_time": "2024-04-01T15:05:53.020Z"
   },
   {
    "duration": 8,
    "start_time": "2024-04-01T15:05:53.835Z"
   },
   {
    "duration": 8,
    "start_time": "2024-04-01T15:05:58.850Z"
   },
   {
    "duration": 244,
    "start_time": "2024-04-01T15:07:24.617Z"
   },
   {
    "duration": 238,
    "start_time": "2024-04-01T15:07:51.423Z"
   },
   {
    "duration": 266,
    "start_time": "2024-04-01T15:08:26.897Z"
   },
   {
    "duration": 8,
    "start_time": "2024-04-01T15:08:55.768Z"
   },
   {
    "duration": 7,
    "start_time": "2024-04-01T15:08:57.847Z"
   },
   {
    "duration": 7,
    "start_time": "2024-04-01T15:08:59.847Z"
   },
   {
    "duration": 7,
    "start_time": "2024-04-01T15:09:01.696Z"
   },
   {
    "duration": 287,
    "start_time": "2024-04-01T15:09:03.525Z"
   },
   {
    "duration": 7,
    "start_time": "2024-04-01T15:09:09.069Z"
   },
   {
    "duration": 1023,
    "start_time": "2024-04-01T15:13:44.962Z"
   },
   {
    "duration": 221,
    "start_time": "2024-04-01T15:13:59.014Z"
   },
   {
    "duration": 35,
    "start_time": "2024-04-01T15:15:04.369Z"
   },
   {
    "duration": 50,
    "start_time": "2024-04-01T15:15:45.224Z"
   },
   {
    "duration": 45,
    "start_time": "2024-04-01T15:15:56.881Z"
   },
   {
    "duration": 210,
    "start_time": "2024-04-01T15:16:08.065Z"
   },
   {
    "duration": 225,
    "start_time": "2024-04-01T15:17:14.463Z"
   },
   {
    "duration": 210,
    "start_time": "2024-04-01T15:17:21.862Z"
   },
   {
    "duration": 278,
    "start_time": "2024-04-01T15:18:32.941Z"
   },
   {
    "duration": 215,
    "start_time": "2024-04-01T15:20:55.171Z"
   },
   {
    "duration": 206,
    "start_time": "2024-04-01T15:21:26.635Z"
   },
   {
    "duration": 227,
    "start_time": "2024-04-01T15:21:35.491Z"
   },
   {
    "duration": 208,
    "start_time": "2024-04-01T15:23:10.044Z"
   },
   {
    "duration": 137,
    "start_time": "2024-04-01T15:24:24.394Z"
   },
   {
    "duration": 249,
    "start_time": "2024-04-01T15:25:02.353Z"
   },
   {
    "duration": 209,
    "start_time": "2024-04-01T15:25:25.418Z"
   },
   {
    "duration": 209,
    "start_time": "2024-04-01T15:25:38.079Z"
   },
   {
    "duration": 208,
    "start_time": "2024-04-01T15:27:07.776Z"
   },
   {
    "duration": 216,
    "start_time": "2024-04-01T15:27:36.982Z"
   },
   {
    "duration": 195,
    "start_time": "2024-04-01T15:27:44.023Z"
   },
   {
    "duration": 117,
    "start_time": "2024-04-01T15:28:02.214Z"
   },
   {
    "duration": 187,
    "start_time": "2024-04-01T15:28:09.270Z"
   },
   {
    "duration": 58,
    "start_time": "2024-04-01T15:28:46.750Z"
   },
   {
    "duration": 54,
    "start_time": "2024-04-01T15:28:56.989Z"
   },
   {
    "duration": 167,
    "start_time": "2024-04-01T15:29:11.935Z"
   },
   {
    "duration": 154,
    "start_time": "2024-04-01T15:29:30.408Z"
   },
   {
    "duration": 151,
    "start_time": "2024-04-01T15:29:46.555Z"
   },
   {
    "duration": 10,
    "start_time": "2024-04-01T15:30:42.948Z"
   },
   {
    "duration": 116,
    "start_time": "2024-04-01T15:31:34.634Z"
   },
   {
    "duration": 114,
    "start_time": "2024-04-01T15:32:18.435Z"
   },
   {
    "duration": 252,
    "start_time": "2024-04-01T15:32:40.586Z"
   },
   {
    "duration": 151,
    "start_time": "2024-04-01T15:32:46.285Z"
   },
   {
    "duration": 128,
    "start_time": "2024-04-01T15:33:07.049Z"
   },
   {
    "duration": 61,
    "start_time": "2024-04-01T15:34:20.077Z"
   },
   {
    "duration": 107,
    "start_time": "2024-04-01T15:34:25.021Z"
   },
   {
    "duration": 3,
    "start_time": "2024-04-01T15:35:02.399Z"
   },
   {
    "duration": 98,
    "start_time": "2024-04-01T15:35:04.059Z"
   },
   {
    "duration": 43,
    "start_time": "2024-04-01T15:35:07.535Z"
   },
   {
    "duration": 16,
    "start_time": "2024-04-01T15:35:10.815Z"
   },
   {
    "duration": 1942,
    "start_time": "2024-04-01T15:35:11.469Z"
   },
   {
    "duration": 15,
    "start_time": "2024-04-01T15:35:13.413Z"
   },
   {
    "duration": 8,
    "start_time": "2024-04-01T15:35:17.122Z"
   },
   {
    "duration": 5,
    "start_time": "2024-04-01T15:35:19.714Z"
   },
   {
    "duration": 3,
    "start_time": "2024-04-01T15:35:21.695Z"
   },
   {
    "duration": 5,
    "start_time": "2024-04-01T15:35:24.159Z"
   },
   {
    "duration": 17,
    "start_time": "2024-04-01T15:35:27.671Z"
   },
   {
    "duration": 8,
    "start_time": "2024-04-01T15:35:36.928Z"
   },
   {
    "duration": 7,
    "start_time": "2024-04-01T15:35:39.888Z"
   },
   {
    "duration": 13,
    "start_time": "2024-04-01T15:35:45.702Z"
   },
   {
    "duration": 7,
    "start_time": "2024-04-01T15:35:47.748Z"
   },
   {
    "duration": 7,
    "start_time": "2024-04-01T15:35:52.608Z"
   },
   {
    "duration": 8,
    "start_time": "2024-04-01T15:35:57.200Z"
   },
   {
    "duration": 9,
    "start_time": "2024-04-01T15:35:57.903Z"
   },
   {
    "duration": 4,
    "start_time": "2024-04-01T15:35:58.541Z"
   },
   {
    "duration": 7,
    "start_time": "2024-04-01T15:35:59.327Z"
   },
   {
    "duration": 292,
    "start_time": "2024-04-01T15:36:04.894Z"
   },
   {
    "duration": 13,
    "start_time": "2024-04-01T15:36:09.357Z"
   },
   {
    "duration": 8,
    "start_time": "2024-04-01T15:36:11.097Z"
   },
   {
    "duration": 7,
    "start_time": "2024-04-01T15:36:11.438Z"
   },
   {
    "duration": 8,
    "start_time": "2024-04-01T15:36:11.830Z"
   },
   {
    "duration": 427,
    "start_time": "2024-04-01T15:36:13.590Z"
   },
   {
    "duration": 7,
    "start_time": "2024-04-01T15:36:17.405Z"
   },
   {
    "duration": 9,
    "start_time": "2024-04-01T15:36:39.439Z"
   },
   {
    "duration": 183,
    "start_time": "2024-04-01T15:38:27.503Z"
   },
   {
    "duration": 202,
    "start_time": "2024-04-01T15:38:46.630Z"
   },
   {
    "duration": 191,
    "start_time": "2024-04-01T15:38:57.997Z"
   },
   {
    "duration": 183,
    "start_time": "2024-04-01T15:39:06.389Z"
   },
   {
    "duration": 187,
    "start_time": "2024-04-01T15:40:06.558Z"
   },
   {
    "duration": 4,
    "start_time": "2024-04-01T15:40:40.924Z"
   },
   {
    "duration": 193,
    "start_time": "2024-04-01T15:41:04.148Z"
   },
   {
    "duration": 169,
    "start_time": "2024-04-01T15:41:48.115Z"
   },
   {
    "duration": 183,
    "start_time": "2024-04-01T15:41:59.179Z"
   },
   {
    "duration": 179,
    "start_time": "2024-04-01T15:42:14.626Z"
   },
   {
    "duration": 191,
    "start_time": "2024-04-01T15:42:19.235Z"
   },
   {
    "duration": 190,
    "start_time": "2024-04-01T15:42:50.666Z"
   },
   {
    "duration": 191,
    "start_time": "2024-04-01T15:43:08.248Z"
   },
   {
    "duration": 157,
    "start_time": "2024-04-01T15:43:25.714Z"
   },
   {
    "duration": 195,
    "start_time": "2024-04-01T15:44:18.363Z"
   },
   {
    "duration": 219,
    "start_time": "2024-04-01T15:44:27.784Z"
   },
   {
    "duration": 195,
    "start_time": "2024-04-01T15:45:11.511Z"
   },
   {
    "duration": 198,
    "start_time": "2024-04-01T15:46:40.767Z"
   },
   {
    "duration": 196,
    "start_time": "2024-04-01T15:46:48.546Z"
   },
   {
    "duration": 199,
    "start_time": "2024-04-01T15:46:54.431Z"
   },
   {
    "duration": 203,
    "start_time": "2024-04-01T15:49:28.158Z"
   },
   {
    "duration": 200,
    "start_time": "2024-04-01T15:49:37.203Z"
   },
   {
    "duration": 206,
    "start_time": "2024-04-01T15:49:44.987Z"
   },
   {
    "duration": 205,
    "start_time": "2024-04-01T15:49:53.452Z"
   },
   {
    "duration": 367,
    "start_time": "2024-04-01T15:50:15.110Z"
   },
   {
    "duration": 216,
    "start_time": "2024-04-01T15:50:24.612Z"
   },
   {
    "duration": 223,
    "start_time": "2024-04-01T15:50:39.978Z"
   },
   {
    "duration": 128,
    "start_time": "2024-04-01T15:53:54.275Z"
   },
   {
    "duration": 216,
    "start_time": "2024-04-01T16:55:14.081Z"
   },
   {
    "duration": 217,
    "start_time": "2024-04-01T16:55:29.695Z"
   },
   {
    "duration": 197,
    "start_time": "2024-04-01T16:55:37.293Z"
   },
   {
    "duration": 203,
    "start_time": "2024-04-01T16:55:45.281Z"
   },
   {
    "duration": 190,
    "start_time": "2024-04-01T16:55:53.244Z"
   },
   {
    "duration": 201,
    "start_time": "2024-04-01T16:56:22.411Z"
   },
   {
    "duration": 211,
    "start_time": "2024-04-01T16:56:50.600Z"
   },
   {
    "duration": 199,
    "start_time": "2024-04-01T16:57:03.059Z"
   },
   {
    "duration": 5,
    "start_time": "2024-04-01T16:58:25.724Z"
   },
   {
    "duration": 4,
    "start_time": "2024-04-01T16:58:37.210Z"
   },
   {
    "duration": 220,
    "start_time": "2024-04-01T16:58:58.154Z"
   },
   {
    "duration": 6,
    "start_time": "2024-04-01T16:59:08.525Z"
   },
   {
    "duration": 227,
    "start_time": "2024-04-01T17:20:38.080Z"
   },
   {
    "duration": 19,
    "start_time": "2024-04-01T17:22:11.486Z"
   },
   {
    "duration": 18,
    "start_time": "2024-04-01T17:22:35.015Z"
   },
   {
    "duration": 17,
    "start_time": "2024-04-01T17:22:44.422Z"
   },
   {
    "duration": 22,
    "start_time": "2024-04-01T17:23:48.122Z"
   },
   {
    "duration": 24,
    "start_time": "2024-04-01T17:23:55.343Z"
   },
   {
    "duration": 171,
    "start_time": "2024-04-01T17:24:17.428Z"
   },
   {
    "duration": 159,
    "start_time": "2024-04-01T17:24:47.330Z"
   },
   {
    "duration": 196,
    "start_time": "2024-04-01T17:24:57.467Z"
   },
   {
    "duration": 164,
    "start_time": "2024-04-01T17:25:43.597Z"
   },
   {
    "duration": 142,
    "start_time": "2024-04-01T17:26:07.500Z"
   },
   {
    "duration": 19,
    "start_time": "2024-04-01T17:26:19.643Z"
   },
   {
    "duration": 904,
    "start_time": "2024-04-01T17:26:36.702Z"
   },
   {
    "duration": 1084,
    "start_time": "2024-04-01T17:27:02.314Z"
   },
   {
    "duration": 168,
    "start_time": "2024-04-01T17:27:52.530Z"
   },
   {
    "duration": 189,
    "start_time": "2024-04-01T17:28:11.530Z"
   },
   {
    "duration": 468,
    "start_time": "2024-04-02T19:12:31.080Z"
   },
   {
    "duration": 101,
    "start_time": "2024-04-02T19:12:31.734Z"
   },
   {
    "duration": 34,
    "start_time": "2024-04-02T19:12:32.799Z"
   },
   {
    "duration": 18,
    "start_time": "2024-04-02T19:12:33.598Z"
   },
   {
    "duration": 2098,
    "start_time": "2024-04-02T19:12:34.294Z"
   },
   {
    "duration": 9,
    "start_time": "2024-04-02T19:12:41.598Z"
   },
   {
    "duration": 9,
    "start_time": "2024-04-02T19:12:44.734Z"
   },
   {
    "duration": 6,
    "start_time": "2024-04-02T19:12:46.558Z"
   },
   {
    "duration": 4,
    "start_time": "2024-04-02T19:12:48.281Z"
   },
   {
    "duration": 6,
    "start_time": "2024-04-02T19:12:50.318Z"
   },
   {
    "duration": 11,
    "start_time": "2024-04-02T19:12:52.606Z"
   },
   {
    "duration": 37,
    "start_time": "2024-04-02T19:12:55.267Z"
   },
   {
    "duration": 8,
    "start_time": "2024-04-02T19:13:00.254Z"
   },
   {
    "duration": 14,
    "start_time": "2024-04-02T19:13:04.150Z"
   },
   {
    "duration": 7,
    "start_time": "2024-04-02T19:13:07.413Z"
   },
   {
    "duration": 7,
    "start_time": "2024-04-02T19:13:11.414Z"
   },
   {
    "duration": 10,
    "start_time": "2024-04-02T19:13:13.358Z"
   },
   {
    "duration": 7,
    "start_time": "2024-04-02T19:13:18.935Z"
   },
   {
    "duration": 8,
    "start_time": "2024-04-02T19:13:20.349Z"
   },
   {
    "duration": 3,
    "start_time": "2024-04-02T19:13:22.093Z"
   },
   {
    "duration": 8,
    "start_time": "2024-04-02T19:13:24.038Z"
   },
   {
    "duration": 8,
    "start_time": "2024-04-02T19:13:27.345Z"
   },
   {
    "duration": 288,
    "start_time": "2024-04-02T19:13:33.254Z"
   },
   {
    "duration": 7,
    "start_time": "2024-04-02T19:13:38.639Z"
   },
   {
    "duration": 10,
    "start_time": "2024-04-02T19:13:40.717Z"
   },
   {
    "duration": 8,
    "start_time": "2024-04-02T19:13:42.669Z"
   },
   {
    "duration": 8,
    "start_time": "2024-04-02T19:13:44.394Z"
   },
   {
    "duration": 279,
    "start_time": "2024-04-02T19:13:48.022Z"
   },
   {
    "duration": 7,
    "start_time": "2024-04-02T19:13:51.837Z"
   },
   {
    "duration": 10,
    "start_time": "2024-04-02T19:14:08.380Z"
   },
   {
    "duration": 301,
    "start_time": "2024-04-02T19:18:31.026Z"
   },
   {
    "duration": 399,
    "start_time": "2024-04-02T19:19:36.231Z"
   },
   {
    "duration": 200,
    "start_time": "2024-04-02T19:19:49.418Z"
   },
   {
    "duration": 233,
    "start_time": "2024-04-02T19:19:56.891Z"
   },
   {
    "duration": 177,
    "start_time": "2024-04-02T19:20:28.850Z"
   },
   {
    "duration": 176,
    "start_time": "2024-04-02T19:20:53.654Z"
   },
   {
    "duration": 55,
    "start_time": "2024-04-02T19:22:02.767Z"
   },
   {
    "duration": 35,
    "start_time": "2024-04-02T19:22:07.568Z"
   },
   {
    "duration": 37,
    "start_time": "2024-04-02T19:22:20.079Z"
   },
   {
    "duration": 41,
    "start_time": "2024-04-02T19:22:29.215Z"
   },
   {
    "duration": 35,
    "start_time": "2024-04-02T19:22:50.521Z"
   },
   {
    "duration": 177,
    "start_time": "2024-04-02T19:23:01.598Z"
   },
   {
    "duration": 5,
    "start_time": "2024-04-02T19:23:59.477Z"
   },
   {
    "duration": 139,
    "start_time": "2024-04-02T19:24:31.981Z"
   },
   {
    "duration": 8,
    "start_time": "2024-04-02T19:24:46.678Z"
   },
   {
    "duration": 235,
    "start_time": "2024-04-02T19:31:18.524Z"
   },
   {
    "duration": 194,
    "start_time": "2024-04-02T19:34:59.176Z"
   },
   {
    "duration": 191,
    "start_time": "2024-04-02T19:50:17.956Z"
   },
   {
    "duration": 225,
    "start_time": "2024-04-02T19:50:42.995Z"
   },
   {
    "duration": 167,
    "start_time": "2024-04-02T19:51:01.979Z"
   },
   {
    "duration": 246,
    "start_time": "2024-04-02T19:51:11.513Z"
   },
   {
    "duration": 203,
    "start_time": "2024-04-02T19:51:29.058Z"
   },
   {
    "duration": 187,
    "start_time": "2024-04-02T19:51:36.667Z"
   },
   {
    "duration": 322,
    "start_time": "2024-04-02T19:51:45.787Z"
   },
   {
    "duration": 223,
    "start_time": "2024-04-02T19:51:54.099Z"
   },
   {
    "duration": 220,
    "start_time": "2024-04-02T19:52:05.914Z"
   },
   {
    "duration": 188,
    "start_time": "2024-04-02T19:52:13.577Z"
   },
   {
    "duration": 205,
    "start_time": "2024-04-02T19:52:21.377Z"
   },
   {
    "duration": 189,
    "start_time": "2024-04-02T19:52:32.874Z"
   },
   {
    "duration": 169,
    "start_time": "2024-04-02T19:52:40.257Z"
   },
   {
    "duration": 151,
    "start_time": "2024-04-02T19:52:46.633Z"
   },
   {
    "duration": 191,
    "start_time": "2024-04-02T19:53:01.369Z"
   },
   {
    "duration": 194,
    "start_time": "2024-04-02T19:53:08.154Z"
   },
   {
    "duration": 180,
    "start_time": "2024-04-02T19:53:24.721Z"
   },
   {
    "duration": 184,
    "start_time": "2024-04-02T19:53:29.608Z"
   },
   {
    "duration": 201,
    "start_time": "2024-04-02T19:53:47.825Z"
   },
   {
    "duration": 199,
    "start_time": "2024-04-02T19:53:57.512Z"
   },
   {
    "duration": 183,
    "start_time": "2024-04-02T19:54:14.624Z"
   },
   {
    "duration": 186,
    "start_time": "2024-04-02T19:54:19.815Z"
   },
   {
    "duration": 205,
    "start_time": "2024-04-02T19:54:28.807Z"
   },
   {
    "duration": 210,
    "start_time": "2024-04-02T19:54:40.126Z"
   },
   {
    "duration": 210,
    "start_time": "2024-04-02T19:55:53.942Z"
   },
   {
    "duration": 222,
    "start_time": "2024-04-02T19:56:25.141Z"
   },
   {
    "duration": 334,
    "start_time": "2024-04-02T19:56:52.966Z"
   },
   {
    "duration": 236,
    "start_time": "2024-04-02T19:57:30.165Z"
   },
   {
    "duration": 281,
    "start_time": "2024-04-02T19:57:35.436Z"
   },
   {
    "duration": 224,
    "start_time": "2024-04-02T19:57:49.620Z"
   },
   {
    "duration": 272,
    "start_time": "2024-04-02T19:58:00.628Z"
   },
   {
    "duration": 293,
    "start_time": "2024-04-02T19:58:11.028Z"
   },
   {
    "duration": 214,
    "start_time": "2024-04-02T19:58:16.948Z"
   },
   {
    "duration": 200,
    "start_time": "2024-04-02T19:58:23.564Z"
   },
   {
    "duration": 194,
    "start_time": "2024-04-02T19:59:30.603Z"
   },
   {
    "duration": 190,
    "start_time": "2024-04-02T19:59:54.426Z"
   },
   {
    "duration": 198,
    "start_time": "2024-04-02T20:00:30.786Z"
   },
   {
    "duration": 169,
    "start_time": "2024-04-02T20:01:51.195Z"
   },
   {
    "duration": 505,
    "start_time": "2024-04-03T16:17:29.187Z"
   },
   {
    "duration": 292,
    "start_time": "2024-04-03T16:17:29.694Z"
   },
   {
    "duration": 35,
    "start_time": "2024-04-03T16:17:30.043Z"
   },
   {
    "duration": 18,
    "start_time": "2024-04-03T16:17:34.619Z"
   },
   {
    "duration": 2166,
    "start_time": "2024-04-03T16:17:36.300Z"
   },
   {
    "duration": 10,
    "start_time": "2024-04-03T16:17:42.048Z"
   },
   {
    "duration": 10,
    "start_time": "2024-04-03T16:17:43.760Z"
   },
   {
    "duration": 9,
    "start_time": "2024-04-03T16:17:45.974Z"
   },
   {
    "duration": 6,
    "start_time": "2024-04-03T16:17:47.940Z"
   },
   {
    "duration": 4,
    "start_time": "2024-04-03T16:17:49.610Z"
   },
   {
    "duration": 5,
    "start_time": "2024-04-03T16:17:51.308Z"
   },
   {
    "duration": 10,
    "start_time": "2024-04-03T16:17:53.052Z"
   },
   {
    "duration": 34,
    "start_time": "2024-04-03T16:17:54.932Z"
   },
   {
    "duration": 9,
    "start_time": "2024-04-03T16:17:57.826Z"
   },
   {
    "duration": 14,
    "start_time": "2024-04-03T16:18:01.468Z"
   },
   {
    "duration": 7,
    "start_time": "2024-04-03T16:18:03.526Z"
   },
   {
    "duration": 7,
    "start_time": "2024-04-03T16:18:05.780Z"
   },
   {
    "duration": 9,
    "start_time": "2024-04-03T16:18:07.787Z"
   },
   {
    "duration": 7,
    "start_time": "2024-04-03T16:18:10.922Z"
   },
   {
    "duration": 9,
    "start_time": "2024-04-03T16:18:12.394Z"
   },
   {
    "duration": 4,
    "start_time": "2024-04-03T16:18:15.692Z"
   },
   {
    "duration": 7,
    "start_time": "2024-04-03T16:18:17.482Z"
   },
   {
    "duration": 7,
    "start_time": "2024-04-03T16:18:19.693Z"
   },
   {
    "duration": 271,
    "start_time": "2024-04-03T16:18:21.836Z"
   },
   {
    "duration": 8,
    "start_time": "2024-04-03T16:18:26.484Z"
   },
   {
    "duration": 8,
    "start_time": "2024-04-03T16:18:28.811Z"
   },
   {
    "duration": 8,
    "start_time": "2024-04-03T16:18:30.556Z"
   },
   {
    "duration": 8,
    "start_time": "2024-04-03T16:18:32.419Z"
   },
   {
    "duration": 308,
    "start_time": "2024-04-03T16:18:34.692Z"
   },
   {
    "duration": 7,
    "start_time": "2024-04-03T16:18:37.562Z"
   },
   {
    "duration": 10,
    "start_time": "2024-04-03T16:18:56.380Z"
   },
   {
    "duration": 193,
    "start_time": "2024-04-03T16:19:21.762Z"
   },
   {
    "duration": 184,
    "start_time": "2024-04-03T16:19:44.275Z"
   },
   {
    "duration": 243,
    "start_time": "2024-04-03T16:19:55.807Z"
   },
   {
    "duration": 190,
    "start_time": "2024-04-03T16:20:06.908Z"
   },
   {
    "duration": 203,
    "start_time": "2024-04-03T16:26:25.650Z"
   },
   {
    "duration": 189,
    "start_time": "2024-04-03T16:26:32.210Z"
   },
   {
    "duration": 202,
    "start_time": "2024-04-03T16:26:57.541Z"
   },
   {
    "duration": 26,
    "start_time": "2024-04-03T16:35:26.519Z"
   },
   {
    "duration": 25,
    "start_time": "2024-04-03T16:36:06.495Z"
   },
   {
    "duration": 5,
    "start_time": "2024-04-03T16:36:53.011Z"
   }
  ],
  "colab": {
   "provenance": []
  },
  "kernelspec": {
   "display_name": "Python 3 (ipykernel)",
   "language": "python",
   "name": "python3"
  },
  "language_info": {
   "codemirror_mode": {
    "name": "ipython",
    "version": 3
   },
   "file_extension": ".py",
   "mimetype": "text/x-python",
   "name": "python",
   "nbconvert_exporter": "python",
   "pygments_lexer": "ipython3",
   "version": "3.9.5"
  },
  "toc": {
   "base_numbering": 1,
   "nav_menu": {},
   "number_sections": true,
   "sideBar": true,
   "skip_h1_title": true,
   "title_cell": "Table of Contents",
   "title_sidebar": "Contents",
   "toc_cell": false,
   "toc_position": {},
   "toc_section_display": true,
   "toc_window_display": false
  }
 },
 "nbformat": 4,
 "nbformat_minor": 1
}
