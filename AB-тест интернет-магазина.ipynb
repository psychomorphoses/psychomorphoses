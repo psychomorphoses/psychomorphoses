{
 "cells": [
  {
   "cell_type": "markdown",
   "metadata": {},
   "source": [
    "<div style=\"background:#e5e5e5; color:#000; padding:10px\">\n",
    "\n",
    "Привет еще раз!\\\n",
    "    Все замечания устранены, отличная работа! Проект принят, ты молодец!\n",
    "   \n",
    "Желаю тебе успехов во всех будущих начинаниях! 🙂\n",
    "</div> "
   ]
  },
  {
   "cell_type": "markdown",
   "metadata": {},
   "source": [
    "<div style=\"border:solid black 2px; padding: 20px\">\n",
    "Гузель, привет!\n",
    "\n",
    "Меня зовут Сергей, и я буду делать ревью твоего проекта. Давай будем общаться на «ты». Но если тебе комфортнее на «вы», обязательно сообщи мне об этом. Моя основная цель - не указать тебе на совершенные тобой ошибки, а поделиться своим опытом и помочь тебе стать аналитиком данных.\n",
    "    \n",
    "Свои комментарии я буду выделять следующим образом:\n",
    "<div class=\"alert alert-danger\">\n",
    "    \n",
    "  <b>Комментарий ревьюера</b>\n",
    "    \n",
    "  ❌ Так выделено то, что необходимо исправить, прежде чем я смогу принять твой проект.\n",
    "</div>\n",
    "    \n",
    "    \n",
    "<div class=\"alert alert-warning\">\n",
    "    \n",
    "  <b>Комментарий ревьюера</b>\n",
    "    \n",
    "  ⚠️ Так отмечены не обязательные к доработке моменты. Mожешь учесть их при редактировании проекта. На твое усмотрение.\n",
    "</div>\n",
    "    \n",
    "    \n",
    "<div class=\"alert alert-success\">\n",
    "  \n",
    "  <b>Комментарий ревьюера</b>\n",
    "    \n",
    "  ✔️ А так удачные решения и подходы, на которые стоит опираться в будущих проектах.\n",
    "</div>\n",
    "    \n",
    "    \n",
    "<div style=\"border:solid black 2px; padding: 20px\">\n",
    "  \n",
    "    \n",
    "  <b>Чек-лист доработок</b>\n",
    "    \n",
    "  📃 Такой комментарий будет в конце тетрадки. В нем будут еще раз указаны нюансы, требующие обязательного исправления.\n",
    "</div>\n",
    "\n",
    "Предлагаю работать над проектом в форме диалога: если ты <b>что-то меняешь</b> в работе по моим рекомендациям — <b>напиши об этом</b> в ячейке `Markdown` и помечай комментарий каким-то заметным цветом, например так:\n",
    "    \n",
    "    \n",
    "```\n",
    "<div class=\"alert alert-block alert-info\">\n",
    "  \n",
    "  <b>Комментарий cтудента</b>\n",
    "    \n",
    "  Текст комментария.\n",
    "</div>\n",
    "```\n",
    "    \n",
    "<div class=\"alert alert-block alert-info\">\n",
    "  \n",
    "  <b>Комментарий cтудента</b>\n",
    "    \n",
    "  Текст комментария.\n",
    "</div>\n",
    "    \n",
    "Пожалуйста, <b>не перемещай, не изменяй и не удаляй мои комментарии</b>. Такой формат работы поможет выполнить повторную проверку твоего проекта оперативнее.\n",
    "\n",
    "<div style=\"background:#e5e5e5; color:#000; padding:10px\">\n",
    "    <b>Общее впечатление о проекте</b>\n",
    "    \n",
    "Ты верно провела приоритезацию гипотез и проанализировала результаты A/B-теста. Но в проекте есть моменты, которые требуют твоего внимания и доработки. \n",
    "</div>"
   ]
  },
  {
   "cell_type": "markdown",
   "metadata": {},
   "source": [
    "# A/B-тест интернет-магазина\n",
    "\n",
    "**Описание проекта**\n",
    "\n",
    "Отдел маркетинга крупного интернет-магазина подготовил список гипотез для увеличения выручки.\n",
    "\n",
    "**Цель исследования** - приоритизировать гипотезы, запустить A/B-тест и проанализировать результаты.\n",
    "\n",
    "**Описание данных:**\n",
    "\n",
    "В основных данных есть информация о 9 гипотезах по увеличению выручки интернет-магазина и результатах A/B-теста.\n",
    "\n",
    "Пути к файлам:\n",
    "- */datasets/hypothesis.csv*\n",
    "- */datasets/orders.csv*\n",
    "- */datasets/visitors.csv*\n",
    "\n",
    "Переменные:\n",
    "\n",
    "*Гипотезы*:\n",
    "\n",
    " - Hypothesis — краткое описание гипотезы;\n",
    " - Reach — охват пользователей по 10-балльной шкале;\n",
    " - Impact — влияние на пользователей по 10-балльной шкале;\n",
    " - Confidence — уверенность в гипотезе по 10-балльной шкале;\n",
    " - Efforts — затраты ресурсов на проверку гипотезы по 10-балльной шкале. Чем больше значение Efforts, тем дороже проверка гипотезы\n",
    "\n",
    "*Заказы*:\n",
    "\n",
    " - transactionId — идентификатор заказа;\n",
    " - visitorId — идентификатор пользователя, совершившего заказ;\n",
    " - date — дата, когда был совершён заказ;\n",
    " - revenue — выручка заказа;\n",
    " - group — группа A/B-теста, в которую попал заказ.\n",
    "\n",
    "*Пользователи*:\n",
    "\n",
    " - date — дата;\n",
    " - group — группа A/B-теста;\n",
    " - visitors — количество пользователей в указанную дату в указанной группе A/B-теста\n",
    " \n",
    "**План исследования:**\n",
    "\n",
    "1. Загрузка данных\n",
    "2. Предобработка данных\n",
    "3. Приоритизация гипотез\n",
    "4. Анализ A/B-теста\n",
    "5. Общий вывод"
   ]
  },
  {
   "cell_type": "markdown",
   "metadata": {},
   "source": [
    "<div class=\"alert alert-success\">\n",
    "  \n",
    "  <b>Комментарий ревьюера</b>\n",
    "    \n",
    "  ✔️ Хорошо, что есть описание и цели проекта.\n",
    "</div>"
   ]
  },
  {
   "cell_type": "code",
   "execution_count": 1,
   "metadata": {},
   "outputs": [],
   "source": [
    "import pandas as pd\n",
    "import scipy.stats as stats\n",
    "import datetime as dt\n",
    "import numpy as np\n",
    "import matplotlib.pyplot as plt"
   ]
  },
  {
   "cell_type": "code",
   "execution_count": 2,
   "metadata": {},
   "outputs": [],
   "source": [
    "pd.set_option('max_colwidth', 150)\n",
    "pd.set_option('max_columns', None)"
   ]
  },
  {
   "cell_type": "markdown",
   "metadata": {},
   "source": [
    "#### Загрузка данных"
   ]
  },
  {
   "cell_type": "code",
   "execution_count": 3,
   "metadata": {},
   "outputs": [],
   "source": [
    "hypothesis = pd.read_csv('/datasets/hypothesis.csv')\n",
    "orders = pd.read_csv('/datasets/orders.csv')\n",
    "visitors = pd.read_csv('/datasets/visitors.csv')"
   ]
  },
  {
   "cell_type": "markdown",
   "metadata": {},
   "source": [
    "Изучим данные файла с гипотезами"
   ]
  },
  {
   "cell_type": "code",
   "execution_count": 4,
   "metadata": {},
   "outputs": [
    {
     "data": {
      "text/html": [
       "<div>\n",
       "<style scoped>\n",
       "    .dataframe tbody tr th:only-of-type {\n",
       "        vertical-align: middle;\n",
       "    }\n",
       "\n",
       "    .dataframe tbody tr th {\n",
       "        vertical-align: top;\n",
       "    }\n",
       "\n",
       "    .dataframe thead th {\n",
       "        text-align: right;\n",
       "    }\n",
       "</style>\n",
       "<table border=\"1\" class=\"dataframe\">\n",
       "  <thead>\n",
       "    <tr style=\"text-align: right;\">\n",
       "      <th></th>\n",
       "      <th>Hypothesis</th>\n",
       "      <th>Reach</th>\n",
       "      <th>Impact</th>\n",
       "      <th>Confidence</th>\n",
       "      <th>Efforts</th>\n",
       "    </tr>\n",
       "  </thead>\n",
       "  <tbody>\n",
       "    <tr>\n",
       "      <th>0</th>\n",
       "      <td>Добавить два новых канала привлечения трафика, что позволит привлекать на 30% больше пользователей</td>\n",
       "      <td>3</td>\n",
       "      <td>10</td>\n",
       "      <td>8</td>\n",
       "      <td>6</td>\n",
       "    </tr>\n",
       "    <tr>\n",
       "      <th>1</th>\n",
       "      <td>Запустить собственную службу доставки, что сократит срок доставки заказов</td>\n",
       "      <td>2</td>\n",
       "      <td>5</td>\n",
       "      <td>4</td>\n",
       "      <td>10</td>\n",
       "    </tr>\n",
       "    <tr>\n",
       "      <th>2</th>\n",
       "      <td>Добавить блоки рекомендаций товаров на сайт интернет магазина, чтобы повысить конверсию и средний чек заказа</td>\n",
       "      <td>8</td>\n",
       "      <td>3</td>\n",
       "      <td>7</td>\n",
       "      <td>3</td>\n",
       "    </tr>\n",
       "    <tr>\n",
       "      <th>3</th>\n",
       "      <td>Изменить структура категорий, что увеличит конверсию, т.к. пользователи быстрее найдут нужный товар</td>\n",
       "      <td>8</td>\n",
       "      <td>3</td>\n",
       "      <td>3</td>\n",
       "      <td>8</td>\n",
       "    </tr>\n",
       "    <tr>\n",
       "      <th>4</th>\n",
       "      <td>Изменить цвет фона главной страницы, чтобы увеличить вовлеченность пользователей</td>\n",
       "      <td>3</td>\n",
       "      <td>1</td>\n",
       "      <td>1</td>\n",
       "      <td>1</td>\n",
       "    </tr>\n",
       "    <tr>\n",
       "      <th>5</th>\n",
       "      <td>Добавить страницу отзывов клиентов о магазине, что позволит увеличить количество заказов</td>\n",
       "      <td>3</td>\n",
       "      <td>2</td>\n",
       "      <td>2</td>\n",
       "      <td>3</td>\n",
       "    </tr>\n",
       "    <tr>\n",
       "      <th>6</th>\n",
       "      <td>Показать на главной странице баннеры с актуальными акциями и распродажами, чтобы увеличить конверсию</td>\n",
       "      <td>5</td>\n",
       "      <td>3</td>\n",
       "      <td>8</td>\n",
       "      <td>3</td>\n",
       "    </tr>\n",
       "    <tr>\n",
       "      <th>7</th>\n",
       "      <td>Добавить форму подписки на все основные страницы, чтобы собрать базу клиентов для email-рассылок</td>\n",
       "      <td>10</td>\n",
       "      <td>7</td>\n",
       "      <td>8</td>\n",
       "      <td>5</td>\n",
       "    </tr>\n",
       "    <tr>\n",
       "      <th>8</th>\n",
       "      <td>Запустить акцию, дающую скидку на товар в день рождения</td>\n",
       "      <td>1</td>\n",
       "      <td>9</td>\n",
       "      <td>9</td>\n",
       "      <td>5</td>\n",
       "    </tr>\n",
       "  </tbody>\n",
       "</table>\n",
       "</div>"
      ],
      "text/plain": [
       "                                                                                                     Hypothesis  \\\n",
       "0            Добавить два новых канала привлечения трафика, что позволит привлекать на 30% больше пользователей   \n",
       "1                                     Запустить собственную службу доставки, что сократит срок доставки заказов   \n",
       "2  Добавить блоки рекомендаций товаров на сайт интернет магазина, чтобы повысить конверсию и средний чек заказа   \n",
       "3           Изменить структура категорий, что увеличит конверсию, т.к. пользователи быстрее найдут нужный товар   \n",
       "4                              Изменить цвет фона главной страницы, чтобы увеличить вовлеченность пользователей   \n",
       "5                      Добавить страницу отзывов клиентов о магазине, что позволит увеличить количество заказов   \n",
       "6          Показать на главной странице баннеры с актуальными акциями и распродажами, чтобы увеличить конверсию   \n",
       "7              Добавить форму подписки на все основные страницы, чтобы собрать базу клиентов для email-рассылок   \n",
       "8                                                       Запустить акцию, дающую скидку на товар в день рождения   \n",
       "\n",
       "   Reach  Impact  Confidence  Efforts  \n",
       "0      3      10           8        6  \n",
       "1      2       5           4       10  \n",
       "2      8       3           7        3  \n",
       "3      8       3           3        8  \n",
       "4      3       1           1        1  \n",
       "5      3       2           2        3  \n",
       "6      5       3           8        3  \n",
       "7     10       7           8        5  \n",
       "8      1       9           9        5  "
      ]
     },
     "execution_count": 4,
     "metadata": {},
     "output_type": "execute_result"
    }
   ],
   "source": [
    "hypothesis"
   ]
  },
  {
   "cell_type": "code",
   "execution_count": 5,
   "metadata": {},
   "outputs": [
    {
     "name": "stdout",
     "output_type": "stream",
     "text": [
      "<class 'pandas.core.frame.DataFrame'>\n",
      "RangeIndex: 9 entries, 0 to 8\n",
      "Data columns (total 5 columns):\n",
      " #   Column      Non-Null Count  Dtype \n",
      "---  ------      --------------  ----- \n",
      " 0   Hypothesis  9 non-null      object\n",
      " 1   Reach       9 non-null      int64 \n",
      " 2   Impact      9 non-null      int64 \n",
      " 3   Confidence  9 non-null      int64 \n",
      " 4   Efforts     9 non-null      int64 \n",
      "dtypes: int64(4), object(1)\n",
      "memory usage: 488.0+ bytes\n"
     ]
    }
   ],
   "source": [
    "hypothesis.info()"
   ]
  },
  {
   "cell_type": "markdown",
   "metadata": {},
   "source": [
    "Всего 9 гипотез. Тип данных представлен верно, пропущенных значений нет. Названия столбцов нужно привести к нижнему регистру."
   ]
  },
  {
   "cell_type": "markdown",
   "metadata": {},
   "source": [
    "Исследуем данные о заказах"
   ]
  },
  {
   "cell_type": "code",
   "execution_count": 6,
   "metadata": {},
   "outputs": [
    {
     "data": {
      "text/html": [
       "<div>\n",
       "<style scoped>\n",
       "    .dataframe tbody tr th:only-of-type {\n",
       "        vertical-align: middle;\n",
       "    }\n",
       "\n",
       "    .dataframe tbody tr th {\n",
       "        vertical-align: top;\n",
       "    }\n",
       "\n",
       "    .dataframe thead th {\n",
       "        text-align: right;\n",
       "    }\n",
       "</style>\n",
       "<table border=\"1\" class=\"dataframe\">\n",
       "  <thead>\n",
       "    <tr style=\"text-align: right;\">\n",
       "      <th></th>\n",
       "      <th>transactionId</th>\n",
       "      <th>visitorId</th>\n",
       "      <th>date</th>\n",
       "      <th>revenue</th>\n",
       "      <th>group</th>\n",
       "    </tr>\n",
       "  </thead>\n",
       "  <tbody>\n",
       "    <tr>\n",
       "      <th>0</th>\n",
       "      <td>3667963787</td>\n",
       "      <td>3312258926</td>\n",
       "      <td>2019-08-15</td>\n",
       "      <td>1650</td>\n",
       "      <td>B</td>\n",
       "    </tr>\n",
       "    <tr>\n",
       "      <th>1</th>\n",
       "      <td>2804400009</td>\n",
       "      <td>3642806036</td>\n",
       "      <td>2019-08-15</td>\n",
       "      <td>730</td>\n",
       "      <td>B</td>\n",
       "    </tr>\n",
       "    <tr>\n",
       "      <th>2</th>\n",
       "      <td>2961555356</td>\n",
       "      <td>4069496402</td>\n",
       "      <td>2019-08-15</td>\n",
       "      <td>400</td>\n",
       "      <td>A</td>\n",
       "    </tr>\n",
       "    <tr>\n",
       "      <th>3</th>\n",
       "      <td>3797467345</td>\n",
       "      <td>1196621759</td>\n",
       "      <td>2019-08-15</td>\n",
       "      <td>9759</td>\n",
       "      <td>B</td>\n",
       "    </tr>\n",
       "    <tr>\n",
       "      <th>4</th>\n",
       "      <td>2282983706</td>\n",
       "      <td>2322279887</td>\n",
       "      <td>2019-08-15</td>\n",
       "      <td>2308</td>\n",
       "      <td>B</td>\n",
       "    </tr>\n",
       "  </tbody>\n",
       "</table>\n",
       "</div>"
      ],
      "text/plain": [
       "   transactionId   visitorId        date  revenue group\n",
       "0     3667963787  3312258926  2019-08-15     1650     B\n",
       "1     2804400009  3642806036  2019-08-15      730     B\n",
       "2     2961555356  4069496402  2019-08-15      400     A\n",
       "3     3797467345  1196621759  2019-08-15     9759     B\n",
       "4     2282983706  2322279887  2019-08-15     2308     B"
      ]
     },
     "execution_count": 6,
     "metadata": {},
     "output_type": "execute_result"
    }
   ],
   "source": [
    "orders.head(5)"
   ]
  },
  {
   "cell_type": "markdown",
   "metadata": {},
   "source": [
    "<div class=\"alert alert-warning\">\n",
    "    \n",
    "  <b>Комментарий ревьюера</b>\n",
    "    \n",
    "  ⚠️ Не выводи на показ весь датафрейм, при больших объемах можно подвесить ноутбук. Используй head(), tail() или sample().\n",
    "</div>"
   ]
  },
  {
   "cell_type": "code",
   "execution_count": 7,
   "metadata": {},
   "outputs": [
    {
     "name": "stdout",
     "output_type": "stream",
     "text": [
      "<class 'pandas.core.frame.DataFrame'>\n",
      "RangeIndex: 1197 entries, 0 to 1196\n",
      "Data columns (total 5 columns):\n",
      " #   Column         Non-Null Count  Dtype \n",
      "---  ------         --------------  ----- \n",
      " 0   transactionId  1197 non-null   int64 \n",
      " 1   visitorId      1197 non-null   int64 \n",
      " 2   date           1197 non-null   object\n",
      " 3   revenue        1197 non-null   int64 \n",
      " 4   group          1197 non-null   object\n",
      "dtypes: int64(3), object(2)\n",
      "memory usage: 46.9+ KB\n"
     ]
    }
   ],
   "source": [
    "orders.info()"
   ]
  },
  {
   "cell_type": "code",
   "execution_count": 8,
   "metadata": {},
   "outputs": [
    {
     "data": {
      "text/plain": [
       "0"
      ]
     },
     "execution_count": 8,
     "metadata": {},
     "output_type": "execute_result"
    }
   ],
   "source": [
    "orders.duplicated().sum()"
   ]
  },
  {
   "cell_type": "markdown",
   "metadata": {},
   "source": [
    "Проверим пользователей, которые могли попасть сразу в две группы"
   ]
  },
  {
   "cell_type": "code",
   "execution_count": 9,
   "metadata": {},
   "outputs": [
    {
     "data": {
      "text/plain": [
       "58"
      ]
     },
     "execution_count": 9,
     "metadata": {},
     "output_type": "execute_result"
    }
   ],
   "source": [
    "visitors_A = orders[orders['group'] == 'A']['visitorId']\n",
    "visitors_B = orders[orders['group'] == 'B']['visitorId']\n",
    "\n",
    "visitors_AB = visitors_A[visitors_A.isin(visitors_B)]\n",
    "\n",
    "len(visitors_AB.unique())"
   ]
  },
  {
   "cell_type": "markdown",
   "metadata": {},
   "source": [
    "Всего 58 пользователей, которые попали в две группы теста. Для чистоты результатов исключим данные пользователей, так как их маленькое количество."
   ]
  },
  {
   "cell_type": "code",
   "execution_count": 10,
   "metadata": {},
   "outputs": [],
   "source": [
    "orders = orders.query('visitorId not in @visitors_AB')"
   ]
  },
  {
   "cell_type": "code",
   "execution_count": 11,
   "metadata": {},
   "outputs": [
    {
     "data": {
      "text/plain": [
       "1016"
      ]
     },
     "execution_count": 11,
     "metadata": {},
     "output_type": "execute_result"
    }
   ],
   "source": [
    "len(orders['transactionId'].unique())"
   ]
  },
  {
   "cell_type": "code",
   "execution_count": 12,
   "metadata": {},
   "outputs": [
    {
     "data": {
      "text/plain": [
       "973"
      ]
     },
     "execution_count": 12,
     "metadata": {},
     "output_type": "execute_result"
    }
   ],
   "source": [
    "len(orders['visitorId'].unique())"
   ]
  },
  {
   "cell_type": "code",
   "execution_count": 13,
   "metadata": {},
   "outputs": [
    {
     "data": {
      "text/plain": [
       "B    548\n",
       "A    468\n",
       "Name: group, dtype: int64"
      ]
     },
     "execution_count": 13,
     "metadata": {},
     "output_type": "execute_result"
    }
   ],
   "source": [
    "orders['group'].value_counts()"
   ]
  },
  {
   "cell_type": "markdown",
   "metadata": {},
   "source": [
    "Информация представлена по 1016 заказам и 973 пользователям. Дубликатов заказов нет. 548 заказов пользователей из группы B и 468 заказов из группы А. Пропущенных значений нет. Нужно привести столбец date к типу даты, остальные типы данных корректные. Названия столбцов также нужно привести к единому стилю"
   ]
  },
  {
   "cell_type": "markdown",
   "metadata": {},
   "source": [
    "Исследуем данные о пользователях"
   ]
  },
  {
   "cell_type": "code",
   "execution_count": 14,
   "metadata": {},
   "outputs": [
    {
     "data": {
      "text/html": [
       "<div>\n",
       "<style scoped>\n",
       "    .dataframe tbody tr th:only-of-type {\n",
       "        vertical-align: middle;\n",
       "    }\n",
       "\n",
       "    .dataframe tbody tr th {\n",
       "        vertical-align: top;\n",
       "    }\n",
       "\n",
       "    .dataframe thead th {\n",
       "        text-align: right;\n",
       "    }\n",
       "</style>\n",
       "<table border=\"1\" class=\"dataframe\">\n",
       "  <thead>\n",
       "    <tr style=\"text-align: right;\">\n",
       "      <th></th>\n",
       "      <th>date</th>\n",
       "      <th>group</th>\n",
       "      <th>visitors</th>\n",
       "    </tr>\n",
       "  </thead>\n",
       "  <tbody>\n",
       "    <tr>\n",
       "      <th>0</th>\n",
       "      <td>2019-08-01</td>\n",
       "      <td>A</td>\n",
       "      <td>719</td>\n",
       "    </tr>\n",
       "    <tr>\n",
       "      <th>1</th>\n",
       "      <td>2019-08-02</td>\n",
       "      <td>A</td>\n",
       "      <td>619</td>\n",
       "    </tr>\n",
       "    <tr>\n",
       "      <th>2</th>\n",
       "      <td>2019-08-03</td>\n",
       "      <td>A</td>\n",
       "      <td>507</td>\n",
       "    </tr>\n",
       "    <tr>\n",
       "      <th>3</th>\n",
       "      <td>2019-08-04</td>\n",
       "      <td>A</td>\n",
       "      <td>717</td>\n",
       "    </tr>\n",
       "    <tr>\n",
       "      <th>4</th>\n",
       "      <td>2019-08-05</td>\n",
       "      <td>A</td>\n",
       "      <td>756</td>\n",
       "    </tr>\n",
       "  </tbody>\n",
       "</table>\n",
       "</div>"
      ],
      "text/plain": [
       "         date group  visitors\n",
       "0  2019-08-01     A       719\n",
       "1  2019-08-02     A       619\n",
       "2  2019-08-03     A       507\n",
       "3  2019-08-04     A       717\n",
       "4  2019-08-05     A       756"
      ]
     },
     "execution_count": 14,
     "metadata": {},
     "output_type": "execute_result"
    }
   ],
   "source": [
    "visitors.head(5)"
   ]
  },
  {
   "cell_type": "code",
   "execution_count": 15,
   "metadata": {},
   "outputs": [
    {
     "name": "stdout",
     "output_type": "stream",
     "text": [
      "<class 'pandas.core.frame.DataFrame'>\n",
      "RangeIndex: 62 entries, 0 to 61\n",
      "Data columns (total 3 columns):\n",
      " #   Column    Non-Null Count  Dtype \n",
      "---  ------    --------------  ----- \n",
      " 0   date      62 non-null     object\n",
      " 1   group     62 non-null     object\n",
      " 2   visitors  62 non-null     int64 \n",
      "dtypes: int64(1), object(2)\n",
      "memory usage: 1.6+ KB\n"
     ]
    }
   ],
   "source": [
    "visitors.info()"
   ]
  },
  {
   "cell_type": "code",
   "execution_count": 16,
   "metadata": {},
   "outputs": [
    {
     "data": {
      "text/plain": [
       "2"
      ]
     },
     "execution_count": 16,
     "metadata": {},
     "output_type": "execute_result"
    }
   ],
   "source": [
    "len(visitors['group'].unique())"
   ]
  },
  {
   "cell_type": "code",
   "execution_count": 17,
   "metadata": {},
   "outputs": [
    {
     "data": {
      "text/plain": [
       "0"
      ]
     },
     "execution_count": 17,
     "metadata": {},
     "output_type": "execute_result"
    }
   ],
   "source": [
    "visitors.duplicated().sum()"
   ]
  },
  {
   "cell_type": "markdown",
   "metadata": {},
   "source": [
    "Пропущенных значений и дубликатов нет. Нужно привести столбец date к типу даты, остальные типы данных корректные."
   ]
  },
  {
   "cell_type": "markdown",
   "metadata": {},
   "source": [
    "**Вывод**\n",
    "\n",
    "Мы загрузили данные из 3 таблиц, включающих в себя информацию по гипотезам, заказам и пользователям. Всего представлена информация по 9 гипотезам,  1016 заказам и 973 пользователям, которые совершили заказ. Из данных были исключены 58 пользователей, которые попали в обе группы теста. В данных нет пропущенных значений и дубликатов. Необходимо привести столбцы с датами к нужному формату, а также названия столбцов привести к единому стилю."
   ]
  },
  {
   "cell_type": "markdown",
   "metadata": {},
   "source": [
    "#### Предобработка данных"
   ]
  },
  {
   "cell_type": "markdown",
   "metadata": {},
   "source": [
    "Приведем столбец date к нужному типу данных в таблицах"
   ]
  },
  {
   "cell_type": "code",
   "execution_count": 18,
   "metadata": {},
   "outputs": [],
   "source": [
    "visitors['date'] = pd.to_datetime(visitors['date'])\n",
    "orders['date'] = pd.to_datetime(orders['date'])"
   ]
  },
  {
   "cell_type": "markdown",
   "metadata": {},
   "source": [
    "Приведем названия столбцов к единому стилю"
   ]
  },
  {
   "cell_type": "code",
   "execution_count": 19,
   "metadata": {},
   "outputs": [
    {
     "data": {
      "text/html": [
       "<div>\n",
       "<style scoped>\n",
       "    .dataframe tbody tr th:only-of-type {\n",
       "        vertical-align: middle;\n",
       "    }\n",
       "\n",
       "    .dataframe tbody tr th {\n",
       "        vertical-align: top;\n",
       "    }\n",
       "\n",
       "    .dataframe thead th {\n",
       "        text-align: right;\n",
       "    }\n",
       "</style>\n",
       "<table border=\"1\" class=\"dataframe\">\n",
       "  <thead>\n",
       "    <tr style=\"text-align: right;\">\n",
       "      <th></th>\n",
       "      <th>hypothesis</th>\n",
       "      <th>reach</th>\n",
       "      <th>impact</th>\n",
       "      <th>confidence</th>\n",
       "      <th>efforts</th>\n",
       "    </tr>\n",
       "  </thead>\n",
       "  <tbody>\n",
       "    <tr>\n",
       "      <th>0</th>\n",
       "      <td>добавить два новых канала привлечения трафика, что позволит привлекать на 30% больше пользователей</td>\n",
       "      <td>3</td>\n",
       "      <td>10</td>\n",
       "      <td>8</td>\n",
       "      <td>6</td>\n",
       "    </tr>\n",
       "    <tr>\n",
       "      <th>1</th>\n",
       "      <td>запустить собственную службу доставки, что сократит срок доставки заказов</td>\n",
       "      <td>2</td>\n",
       "      <td>5</td>\n",
       "      <td>4</td>\n",
       "      <td>10</td>\n",
       "    </tr>\n",
       "    <tr>\n",
       "      <th>2</th>\n",
       "      <td>добавить блоки рекомендаций товаров на сайт интернет магазина, чтобы повысить конверсию и средний чек заказа</td>\n",
       "      <td>8</td>\n",
       "      <td>3</td>\n",
       "      <td>7</td>\n",
       "      <td>3</td>\n",
       "    </tr>\n",
       "    <tr>\n",
       "      <th>3</th>\n",
       "      <td>изменить структура категорий, что увеличит конверсию, т.к. пользователи быстрее найдут нужный товар</td>\n",
       "      <td>8</td>\n",
       "      <td>3</td>\n",
       "      <td>3</td>\n",
       "      <td>8</td>\n",
       "    </tr>\n",
       "    <tr>\n",
       "      <th>4</th>\n",
       "      <td>изменить цвет фона главной страницы, чтобы увеличить вовлеченность пользователей</td>\n",
       "      <td>3</td>\n",
       "      <td>1</td>\n",
       "      <td>1</td>\n",
       "      <td>1</td>\n",
       "    </tr>\n",
       "    <tr>\n",
       "      <th>5</th>\n",
       "      <td>добавить страницу отзывов клиентов о магазине, что позволит увеличить количество заказов</td>\n",
       "      <td>3</td>\n",
       "      <td>2</td>\n",
       "      <td>2</td>\n",
       "      <td>3</td>\n",
       "    </tr>\n",
       "    <tr>\n",
       "      <th>6</th>\n",
       "      <td>показать на главной странице баннеры с актуальными акциями и распродажами, чтобы увеличить конверсию</td>\n",
       "      <td>5</td>\n",
       "      <td>3</td>\n",
       "      <td>8</td>\n",
       "      <td>3</td>\n",
       "    </tr>\n",
       "    <tr>\n",
       "      <th>7</th>\n",
       "      <td>добавить форму подписки на все основные страницы, чтобы собрать базу клиентов для email-рассылок</td>\n",
       "      <td>10</td>\n",
       "      <td>7</td>\n",
       "      <td>8</td>\n",
       "      <td>5</td>\n",
       "    </tr>\n",
       "    <tr>\n",
       "      <th>8</th>\n",
       "      <td>запустить акцию, дающую скидку на товар в день рождения</td>\n",
       "      <td>1</td>\n",
       "      <td>9</td>\n",
       "      <td>9</td>\n",
       "      <td>5</td>\n",
       "    </tr>\n",
       "  </tbody>\n",
       "</table>\n",
       "</div>"
      ],
      "text/plain": [
       "                                                                                                     hypothesis  \\\n",
       "0            добавить два новых канала привлечения трафика, что позволит привлекать на 30% больше пользователей   \n",
       "1                                     запустить собственную службу доставки, что сократит срок доставки заказов   \n",
       "2  добавить блоки рекомендаций товаров на сайт интернет магазина, чтобы повысить конверсию и средний чек заказа   \n",
       "3           изменить структура категорий, что увеличит конверсию, т.к. пользователи быстрее найдут нужный товар   \n",
       "4                              изменить цвет фона главной страницы, чтобы увеличить вовлеченность пользователей   \n",
       "5                      добавить страницу отзывов клиентов о магазине, что позволит увеличить количество заказов   \n",
       "6          показать на главной странице баннеры с актуальными акциями и распродажами, чтобы увеличить конверсию   \n",
       "7              добавить форму подписки на все основные страницы, чтобы собрать базу клиентов для email-рассылок   \n",
       "8                                                       запустить акцию, дающую скидку на товар в день рождения   \n",
       "\n",
       "   reach  impact  confidence  efforts  \n",
       "0      3      10           8        6  \n",
       "1      2       5           4       10  \n",
       "2      8       3           7        3  \n",
       "3      8       3           3        8  \n",
       "4      3       1           1        1  \n",
       "5      3       2           2        3  \n",
       "6      5       3           8        3  \n",
       "7     10       7           8        5  \n",
       "8      1       9           9        5  "
      ]
     },
     "execution_count": 19,
     "metadata": {},
     "output_type": "execute_result"
    }
   ],
   "source": [
    "hypothesis.rename(columns=str.lower, inplace=True)\n",
    "hypothesis[\"hypothesis\"] = hypothesis[\"hypothesis\"].str.lower()\n",
    "hypothesis"
   ]
  },
  {
   "cell_type": "code",
   "execution_count": 20,
   "metadata": {},
   "outputs": [
    {
     "data": {
      "text/html": [
       "<div>\n",
       "<style scoped>\n",
       "    .dataframe tbody tr th:only-of-type {\n",
       "        vertical-align: middle;\n",
       "    }\n",
       "\n",
       "    .dataframe tbody tr th {\n",
       "        vertical-align: top;\n",
       "    }\n",
       "\n",
       "    .dataframe thead th {\n",
       "        text-align: right;\n",
       "    }\n",
       "</style>\n",
       "<table border=\"1\" class=\"dataframe\">\n",
       "  <thead>\n",
       "    <tr style=\"text-align: right;\">\n",
       "      <th></th>\n",
       "      <th>transaction_id</th>\n",
       "      <th>visitor_id</th>\n",
       "      <th>date</th>\n",
       "      <th>revenue</th>\n",
       "      <th>group</th>\n",
       "    </tr>\n",
       "  </thead>\n",
       "  <tbody>\n",
       "    <tr>\n",
       "      <th>0</th>\n",
       "      <td>3667963787</td>\n",
       "      <td>3312258926</td>\n",
       "      <td>2019-08-15</td>\n",
       "      <td>1650</td>\n",
       "      <td>B</td>\n",
       "    </tr>\n",
       "    <tr>\n",
       "      <th>1</th>\n",
       "      <td>2804400009</td>\n",
       "      <td>3642806036</td>\n",
       "      <td>2019-08-15</td>\n",
       "      <td>730</td>\n",
       "      <td>B</td>\n",
       "    </tr>\n",
       "    <tr>\n",
       "      <th>3</th>\n",
       "      <td>3797467345</td>\n",
       "      <td>1196621759</td>\n",
       "      <td>2019-08-15</td>\n",
       "      <td>9759</td>\n",
       "      <td>B</td>\n",
       "    </tr>\n",
       "    <tr>\n",
       "      <th>4</th>\n",
       "      <td>2282983706</td>\n",
       "      <td>2322279887</td>\n",
       "      <td>2019-08-15</td>\n",
       "      <td>2308</td>\n",
       "      <td>B</td>\n",
       "    </tr>\n",
       "    <tr>\n",
       "      <th>5</th>\n",
       "      <td>182168103</td>\n",
       "      <td>935554773</td>\n",
       "      <td>2019-08-15</td>\n",
       "      <td>2210</td>\n",
       "      <td>B</td>\n",
       "    </tr>\n",
       "    <tr>\n",
       "      <th>...</th>\n",
       "      <td>...</td>\n",
       "      <td>...</td>\n",
       "      <td>...</td>\n",
       "      <td>...</td>\n",
       "      <td>...</td>\n",
       "    </tr>\n",
       "    <tr>\n",
       "      <th>1191</th>\n",
       "      <td>3592955527</td>\n",
       "      <td>608641596</td>\n",
       "      <td>2019-08-14</td>\n",
       "      <td>16490</td>\n",
       "      <td>B</td>\n",
       "    </tr>\n",
       "    <tr>\n",
       "      <th>1192</th>\n",
       "      <td>2662137336</td>\n",
       "      <td>3733762160</td>\n",
       "      <td>2019-08-14</td>\n",
       "      <td>6490</td>\n",
       "      <td>B</td>\n",
       "    </tr>\n",
       "    <tr>\n",
       "      <th>1193</th>\n",
       "      <td>2203539145</td>\n",
       "      <td>370388673</td>\n",
       "      <td>2019-08-14</td>\n",
       "      <td>3190</td>\n",
       "      <td>A</td>\n",
       "    </tr>\n",
       "    <tr>\n",
       "      <th>1194</th>\n",
       "      <td>1807773912</td>\n",
       "      <td>573423106</td>\n",
       "      <td>2019-08-14</td>\n",
       "      <td>10550</td>\n",
       "      <td>A</td>\n",
       "    </tr>\n",
       "    <tr>\n",
       "      <th>1196</th>\n",
       "      <td>3936777065</td>\n",
       "      <td>2108080724</td>\n",
       "      <td>2019-08-15</td>\n",
       "      <td>202740</td>\n",
       "      <td>B</td>\n",
       "    </tr>\n",
       "  </tbody>\n",
       "</table>\n",
       "<p>1016 rows × 5 columns</p>\n",
       "</div>"
      ],
      "text/plain": [
       "      transaction_id  visitor_id       date  revenue group\n",
       "0         3667963787  3312258926 2019-08-15     1650     B\n",
       "1         2804400009  3642806036 2019-08-15      730     B\n",
       "3         3797467345  1196621759 2019-08-15     9759     B\n",
       "4         2282983706  2322279887 2019-08-15     2308     B\n",
       "5          182168103   935554773 2019-08-15     2210     B\n",
       "...              ...         ...        ...      ...   ...\n",
       "1191      3592955527   608641596 2019-08-14    16490     B\n",
       "1192      2662137336  3733762160 2019-08-14     6490     B\n",
       "1193      2203539145   370388673 2019-08-14     3190     A\n",
       "1194      1807773912   573423106 2019-08-14    10550     A\n",
       "1196      3936777065  2108080724 2019-08-15   202740     B\n",
       "\n",
       "[1016 rows x 5 columns]"
      ]
     },
     "execution_count": 20,
     "metadata": {},
     "output_type": "execute_result"
    }
   ],
   "source": [
    "orders.rename(columns={'transactionId':'transaction_id', 'visitorId':'visitor_id'}, inplace=True)\n",
    "orders"
   ]
  },
  {
   "cell_type": "markdown",
   "metadata": {},
   "source": [
    "**Вывод**\n",
    "\n",
    "Мы выполнили предобработку данных. Привели столбцы с датой к нужному типу данных в таблицах. А также привели названия столбцов к единому стилю"
   ]
  },
  {
   "cell_type": "markdown",
   "metadata": {},
   "source": [
    "<div class=\"alert alert-success\">\n",
    "  \n",
    "  <b>Комментарий ревьюера</b>\n",
    "    \n",
    "  ✔️ Данные получены и подготовлены к анализу! Хорошо, что заметила неверный формат даты и поменяла.\n",
    "</div>\n",
    "<div class=\"alert alert-warning\">\n",
    "    \n",
    "  <b>Комментарий ревьюера</b>\n",
    "    \n",
    "  ⚠️ В конце первого шага можно написать краткий вывод: что обнаружили и как исправили.  \n",
    "</div>"
   ]
  },
  {
   "cell_type": "markdown",
   "metadata": {},
   "source": [
    "#### Приоритизация гипотез"
   ]
  },
  {
   "cell_type": "markdown",
   "metadata": {},
   "source": [
    "##### Применим фреймворк ICE для приоритизации гипотез. Отсортируем их по убыванию приоритета"
   ]
  },
  {
   "cell_type": "code",
   "execution_count": 21,
   "metadata": {},
   "outputs": [
    {
     "name": "stdout",
     "output_type": "stream",
     "text": [
      "                                                                                                     hypothesis  \\\n",
      "8                                                       запустить акцию, дающую скидку на товар в день рождения   \n",
      "0            добавить два новых канала привлечения трафика, что позволит привлекать на 30% больше пользователей   \n",
      "7              добавить форму подписки на все основные страницы, чтобы собрать базу клиентов для email-рассылок   \n",
      "6          показать на главной странице баннеры с актуальными акциями и распродажами, чтобы увеличить конверсию   \n",
      "2  добавить блоки рекомендаций товаров на сайт интернет магазина, чтобы повысить конверсию и средний чек заказа   \n",
      "1                                     запустить собственную службу доставки, что сократит срок доставки заказов   \n",
      "5                      добавить страницу отзывов клиентов о магазине, что позволит увеличить количество заказов   \n",
      "3           изменить структура категорий, что увеличит конверсию, т.к. пользователи быстрее найдут нужный товар   \n",
      "4                              изменить цвет фона главной страницы, чтобы увеличить вовлеченность пользователей   \n",
      "\n",
      "         ICE  \n",
      "8  16.200000  \n",
      "0  13.333333  \n",
      "7  11.200000  \n",
      "6   8.000000  \n",
      "2   7.000000  \n",
      "1   2.000000  \n",
      "5   1.333333  \n",
      "3   1.125000  \n",
      "4   1.000000  \n"
     ]
    }
   ],
   "source": [
    "hypothesis['ICE'] = hypothesis['impact'] * hypothesis['confidence']/hypothesis['efforts']\n",
    "\n",
    "print(hypothesis[['hypothesis', 'ICE']].sort_values(by='ICE', ascending=False))"
   ]
  },
  {
   "cell_type": "markdown",
   "metadata": {},
   "source": [
    "Наиболее приоритетные гипотезы по ICE: 8, 0, 7.\n",
    "\n",
    "Самая приоритетная (8) - запустить акцию, дающую скидку на товар в день рождения и (0) - добавить два новых канала привлечения трафика, что позволит привлекать на 30% больше пользователей."
   ]
  },
  {
   "cell_type": "markdown",
   "metadata": {},
   "source": [
    "##### Применим фреймворк RICE для приоритизации гипотез. Отсортируем их по убыванию приоритета"
   ]
  },
  {
   "cell_type": "code",
   "execution_count": 22,
   "metadata": {},
   "outputs": [
    {
     "name": "stdout",
     "output_type": "stream",
     "text": [
      "                                                                                                     hypothesis  \\\n",
      "7              добавить форму подписки на все основные страницы, чтобы собрать базу клиентов для email-рассылок   \n",
      "2  добавить блоки рекомендаций товаров на сайт интернет магазина, чтобы повысить конверсию и средний чек заказа   \n",
      "0            добавить два новых канала привлечения трафика, что позволит привлекать на 30% больше пользователей   \n",
      "6          показать на главной странице баннеры с актуальными акциями и распродажами, чтобы увеличить конверсию   \n",
      "8                                                       запустить акцию, дающую скидку на товар в день рождения   \n",
      "3           изменить структура категорий, что увеличит конверсию, т.к. пользователи быстрее найдут нужный товар   \n",
      "1                                     запустить собственную службу доставки, что сократит срок доставки заказов   \n",
      "5                      добавить страницу отзывов клиентов о магазине, что позволит увеличить количество заказов   \n",
      "4                              изменить цвет фона главной страницы, чтобы увеличить вовлеченность пользователей   \n",
      "\n",
      "    RICE  \n",
      "7  112.0  \n",
      "2   56.0  \n",
      "0   40.0  \n",
      "6   40.0  \n",
      "8   16.2  \n",
      "3    9.0  \n",
      "1    4.0  \n",
      "5    4.0  \n",
      "4    3.0  \n"
     ]
    }
   ],
   "source": [
    "hypothesis['RICE'] = hypothesis['reach'] * hypothesis['impact'] * hypothesis['confidence']/hypothesis['efforts']\n",
    "\n",
    "print(hypothesis[['hypothesis', 'RICE']].sort_values(by='RICE', ascending=False))"
   ]
  },
  {
   "cell_type": "markdown",
   "metadata": {},
   "source": [
    "По RICE наиболее приоритетные гипотезы : 7, 2, 0, 6.\n",
    "\n",
    "Наиболее приоритетная (7) - добавить форму подписки на все основные страницы, чтобы собрать базу клиентов для email-рассылок и (2) - добавить блоки рекомендаций товаров на сайт интернет магазина, чтобы повысить конверсию и средний чек заказа."
   ]
  },
  {
   "cell_type": "markdown",
   "metadata": {},
   "source": [
    "##### Изменение приоритизации гипотез при применении RICE вместо ICE"
   ]
  },
  {
   "cell_type": "markdown",
   "metadata": {},
   "source": [
    "Приоритизация гипотез меняется при применении каждого фреймворка, так как при использовании RICE мы учитываем охват изменений, в отличие от ICE, что является важным критерием при оценке гипотезы. Таким образом гипотеза 8 при оценке RICE получила гораздо меньший приоритет, так как ее показатель reach всего 1, что подразумевает маленький охват.\n",
    "\n",
    "Наиболее приоритетными можно назвать гипотезы 7 и 0. При применении каждого фреймворка эти гипотезы имеют высокие показатели.\n",
    "\n",
    " - Добавить форму подписки на все основные страницы, чтобы собрать базу клиентов для email-рассылок \n",
    " - Добавить два новых канала привлечения трафика, что позволит привлекать на 30% больше пользователей"
   ]
  },
  {
   "cell_type": "markdown",
   "metadata": {},
   "source": [
    "<div class=\"alert alert-success\">\n",
    "  \n",
    "  <b>Комментарий ревьюера</b>\n",
    "    \n",
    "  ✔️ Хорошая работа, корректно применены фреймворки и проанализированы полученные результаты. \n",
    "        \n",
    "    \n",
    "Результаты можно было бы объединить в единой таблице для наглядности. Также их можно было бы проранжировать и выделить цветом: https://pandas.pydata.org/pandas-docs/stable/user_guide/style.html\n",
    "\n",
    "А в качестве визуализации изменения приоритетов можно использовать: <a href=\"https://datayoga.ru/tpost/zh3s62fori-sloupgraf\">slope graph</a>, <a href=\"https://cduvallet.github.io/posts/2018/03/slopegraphs-in-python\">slope graph 2</a>, <a href=\"https://chart-studio.plotly.com/~pcchang/224/slopegraph-spending-and-academic-performance-by-states-doc/#/\">реализация на plotly</a>\n",
    "   \n",
    "</div>"
   ]
  },
  {
   "cell_type": "markdown",
   "metadata": {},
   "source": [
    "#### Анализ A/B-теста"
   ]
  },
  {
   "cell_type": "markdown",
   "metadata": {},
   "source": [
    "<div class=\"alert alert-danger\">\n",
    "    \n",
    "  <b>Комментарий ревьюера</b>\n",
    "  \n",
    " \n",
    "  ❌ Еще остается не выполненным на этапе предобработки, но тем не менее важным - проверить корректность разбиения пользователей на группы - может быть есть пользователи, попавшие в обе группы? Если таковые пользователи есть, нужно их выявить и выработать стратегию работы с такими данными. Пересечение групп сильно влияет на результаты теста, если процент достаточно большой. Если есть возможность их можно удалить и посмотреть, какие результаты получаются без них, в любом случае к результатам теста придется относится осторожно.\n",
    "</div>\n",
    "<div class=\"alert alert-success\">\n",
    "  \n",
    "  <b>Комментарий ревьюера v.2</b>\n",
    "    \n",
    "  ✔️ Результаты теста они больше не искажают. \n",
    "</div>"
   ]
  },
  {
   "cell_type": "markdown",
   "metadata": {},
   "source": [
    "Подготовим данные для анализа A/B-теста,  сформируем единый датафрейм"
   ]
  },
  {
   "cell_type": "markdown",
   "metadata": {},
   "source": [
    "<div class=\"alert alert-warning\">\n",
    "    \n",
    "  <b>Комментарий ревьюера</b>\n",
    "    \n",
    "  ⚠️ Ниже код идет без комментариев. Лучше оставлять небольшой комментарий о том, что делаем в ячейке. Так тебе или твоим коллегам в будущем будет проще разобраться с кодом.\n",
    "</div>"
   ]
  },
  {
   "cell_type": "code",
   "execution_count": 23,
   "metadata": {
    "scrolled": false
   },
   "outputs": [
    {
     "data": {
      "text/html": [
       "<div>\n",
       "<style scoped>\n",
       "    .dataframe tbody tr th:only-of-type {\n",
       "        vertical-align: middle;\n",
       "    }\n",
       "\n",
       "    .dataframe tbody tr th {\n",
       "        vertical-align: top;\n",
       "    }\n",
       "\n",
       "    .dataframe thead th {\n",
       "        text-align: right;\n",
       "    }\n",
       "</style>\n",
       "<table border=\"1\" class=\"dataframe\">\n",
       "  <thead>\n",
       "    <tr style=\"text-align: right;\">\n",
       "      <th></th>\n",
       "      <th>date</th>\n",
       "      <th>ordersPerDateA</th>\n",
       "      <th>revenuePerDateA</th>\n",
       "      <th>ordersPerDateB</th>\n",
       "      <th>revenuePerDateB</th>\n",
       "      <th>ordersCummulativeA</th>\n",
       "      <th>revenueCummulativeA</th>\n",
       "      <th>ordersCummulativeB</th>\n",
       "      <th>revenueCummulativeB</th>\n",
       "      <th>visitorsPerDateA</th>\n",
       "      <th>visitorsPerDateB</th>\n",
       "      <th>visitorsCummulativeA</th>\n",
       "      <th>visitorsCummulativeB</th>\n",
       "    </tr>\n",
       "  </thead>\n",
       "  <tbody>\n",
       "    <tr>\n",
       "      <th>0</th>\n",
       "      <td>2019-08-01</td>\n",
       "      <td>23</td>\n",
       "      <td>142779</td>\n",
       "      <td>17</td>\n",
       "      <td>59758</td>\n",
       "      <td>23</td>\n",
       "      <td>142779</td>\n",
       "      <td>17</td>\n",
       "      <td>59758</td>\n",
       "      <td>719</td>\n",
       "      <td>713</td>\n",
       "      <td>719</td>\n",
       "      <td>713</td>\n",
       "    </tr>\n",
       "    <tr>\n",
       "      <th>1</th>\n",
       "      <td>2019-08-02</td>\n",
       "      <td>19</td>\n",
       "      <td>91602</td>\n",
       "      <td>23</td>\n",
       "      <td>162043</td>\n",
       "      <td>42</td>\n",
       "      <td>234381</td>\n",
       "      <td>40</td>\n",
       "      <td>221801</td>\n",
       "      <td>619</td>\n",
       "      <td>581</td>\n",
       "      <td>1338</td>\n",
       "      <td>1294</td>\n",
       "    </tr>\n",
       "    <tr>\n",
       "      <th>2</th>\n",
       "      <td>2019-08-03</td>\n",
       "      <td>24</td>\n",
       "      <td>112473</td>\n",
       "      <td>14</td>\n",
       "      <td>67049</td>\n",
       "      <td>66</td>\n",
       "      <td>346854</td>\n",
       "      <td>54</td>\n",
       "      <td>288850</td>\n",
       "      <td>507</td>\n",
       "      <td>509</td>\n",
       "      <td>1845</td>\n",
       "      <td>1803</td>\n",
       "    </tr>\n",
       "    <tr>\n",
       "      <th>3</th>\n",
       "      <td>2019-08-04</td>\n",
       "      <td>11</td>\n",
       "      <td>41176</td>\n",
       "      <td>14</td>\n",
       "      <td>96890</td>\n",
       "      <td>77</td>\n",
       "      <td>388030</td>\n",
       "      <td>68</td>\n",
       "      <td>385740</td>\n",
       "      <td>717</td>\n",
       "      <td>770</td>\n",
       "      <td>2562</td>\n",
       "      <td>2573</td>\n",
       "    </tr>\n",
       "    <tr>\n",
       "      <th>4</th>\n",
       "      <td>2019-08-05</td>\n",
       "      <td>22</td>\n",
       "      <td>86383</td>\n",
       "      <td>21</td>\n",
       "      <td>89908</td>\n",
       "      <td>99</td>\n",
       "      <td>474413</td>\n",
       "      <td>89</td>\n",
       "      <td>475648</td>\n",
       "      <td>756</td>\n",
       "      <td>707</td>\n",
       "      <td>3318</td>\n",
       "      <td>3280</td>\n",
       "    </tr>\n",
       "    <tr>\n",
       "      <th>5</th>\n",
       "      <td>2019-08-06</td>\n",
       "      <td>15</td>\n",
       "      <td>40919</td>\n",
       "      <td>23</td>\n",
       "      <td>214842</td>\n",
       "      <td>114</td>\n",
       "      <td>515332</td>\n",
       "      <td>112</td>\n",
       "      <td>690490</td>\n",
       "      <td>667</td>\n",
       "      <td>655</td>\n",
       "      <td>3985</td>\n",
       "      <td>3935</td>\n",
       "    </tr>\n",
       "    <tr>\n",
       "      <th>6</th>\n",
       "      <td>2019-08-07</td>\n",
       "      <td>16</td>\n",
       "      <td>123248</td>\n",
       "      <td>23</td>\n",
       "      <td>219164</td>\n",
       "      <td>130</td>\n",
       "      <td>638580</td>\n",
       "      <td>135</td>\n",
       "      <td>909654</td>\n",
       "      <td>644</td>\n",
       "      <td>709</td>\n",
       "      <td>4629</td>\n",
       "      <td>4644</td>\n",
       "    </tr>\n",
       "    <tr>\n",
       "      <th>7</th>\n",
       "      <td>2019-08-08</td>\n",
       "      <td>14</td>\n",
       "      <td>88639</td>\n",
       "      <td>22</td>\n",
       "      <td>150141</td>\n",
       "      <td>144</td>\n",
       "      <td>727219</td>\n",
       "      <td>157</td>\n",
       "      <td>1059795</td>\n",
       "      <td>610</td>\n",
       "      <td>654</td>\n",
       "      <td>5239</td>\n",
       "      <td>5298</td>\n",
       "    </tr>\n",
       "    <tr>\n",
       "      <th>8</th>\n",
       "      <td>2019-08-09</td>\n",
       "      <td>11</td>\n",
       "      <td>134237</td>\n",
       "      <td>19</td>\n",
       "      <td>103166</td>\n",
       "      <td>155</td>\n",
       "      <td>861456</td>\n",
       "      <td>176</td>\n",
       "      <td>1162961</td>\n",
       "      <td>617</td>\n",
       "      <td>610</td>\n",
       "      <td>5856</td>\n",
       "      <td>5908</td>\n",
       "    </tr>\n",
       "    <tr>\n",
       "      <th>9</th>\n",
       "      <td>2019-08-10</td>\n",
       "      <td>15</td>\n",
       "      <td>152275</td>\n",
       "      <td>22</td>\n",
       "      <td>105162</td>\n",
       "      <td>170</td>\n",
       "      <td>1013731</td>\n",
       "      <td>198</td>\n",
       "      <td>1268123</td>\n",
       "      <td>406</td>\n",
       "      <td>369</td>\n",
       "      <td>6262</td>\n",
       "      <td>6277</td>\n",
       "    </tr>\n",
       "    <tr>\n",
       "      <th>10</th>\n",
       "      <td>2019-08-11</td>\n",
       "      <td>11</td>\n",
       "      <td>60665</td>\n",
       "      <td>12</td>\n",
       "      <td>53060</td>\n",
       "      <td>181</td>\n",
       "      <td>1074396</td>\n",
       "      <td>210</td>\n",
       "      <td>1321183</td>\n",
       "      <td>718</td>\n",
       "      <td>721</td>\n",
       "      <td>6980</td>\n",
       "      <td>6998</td>\n",
       "    </tr>\n",
       "    <tr>\n",
       "      <th>11</th>\n",
       "      <td>2019-08-12</td>\n",
       "      <td>19</td>\n",
       "      <td>220392</td>\n",
       "      <td>19</td>\n",
       "      <td>104054</td>\n",
       "      <td>200</td>\n",
       "      <td>1294788</td>\n",
       "      <td>229</td>\n",
       "      <td>1425237</td>\n",
       "      <td>595</td>\n",
       "      <td>543</td>\n",
       "      <td>7575</td>\n",
       "      <td>7541</td>\n",
       "    </tr>\n",
       "    <tr>\n",
       "      <th>12</th>\n",
       "      <td>2019-08-13</td>\n",
       "      <td>14</td>\n",
       "      <td>263638</td>\n",
       "      <td>20</td>\n",
       "      <td>117691</td>\n",
       "      <td>214</td>\n",
       "      <td>1558426</td>\n",
       "      <td>249</td>\n",
       "      <td>1542928</td>\n",
       "      <td>748</td>\n",
       "      <td>769</td>\n",
       "      <td>8323</td>\n",
       "      <td>8310</td>\n",
       "    </tr>\n",
       "    <tr>\n",
       "      <th>13</th>\n",
       "      <td>2019-08-14</td>\n",
       "      <td>17</td>\n",
       "      <td>43266</td>\n",
       "      <td>14</td>\n",
       "      <td>107340</td>\n",
       "      <td>231</td>\n",
       "      <td>1601692</td>\n",
       "      <td>263</td>\n",
       "      <td>1650268</td>\n",
       "      <td>735</td>\n",
       "      <td>746</td>\n",
       "      <td>9058</td>\n",
       "      <td>9056</td>\n",
       "    </tr>\n",
       "    <tr>\n",
       "      <th>14</th>\n",
       "      <td>2019-08-15</td>\n",
       "      <td>10</td>\n",
       "      <td>80877</td>\n",
       "      <td>26</td>\n",
       "      <td>310159</td>\n",
       "      <td>241</td>\n",
       "      <td>1682569</td>\n",
       "      <td>289</td>\n",
       "      <td>1960427</td>\n",
       "      <td>628</td>\n",
       "      <td>544</td>\n",
       "      <td>9686</td>\n",
       "      <td>9600</td>\n",
       "    </tr>\n",
       "    <tr>\n",
       "      <th>15</th>\n",
       "      <td>2019-08-16</td>\n",
       "      <td>18</td>\n",
       "      <td>99851</td>\n",
       "      <td>18</td>\n",
       "      <td>114250</td>\n",
       "      <td>259</td>\n",
       "      <td>1782420</td>\n",
       "      <td>307</td>\n",
       "      <td>2074677</td>\n",
       "      <td>361</td>\n",
       "      <td>413</td>\n",
       "      <td>10047</td>\n",
       "      <td>10013</td>\n",
       "    </tr>\n",
       "    <tr>\n",
       "      <th>16</th>\n",
       "      <td>2019-08-17</td>\n",
       "      <td>6</td>\n",
       "      <td>34740</td>\n",
       "      <td>13</td>\n",
       "      <td>80865</td>\n",
       "      <td>265</td>\n",
       "      <td>1817160</td>\n",
       "      <td>320</td>\n",
       "      <td>2155542</td>\n",
       "      <td>412</td>\n",
       "      <td>421</td>\n",
       "      <td>10459</td>\n",
       "      <td>10434</td>\n",
       "    </tr>\n",
       "    <tr>\n",
       "      <th>17</th>\n",
       "      <td>2019-08-18</td>\n",
       "      <td>13</td>\n",
       "      <td>59581</td>\n",
       "      <td>7</td>\n",
       "      <td>35323</td>\n",
       "      <td>278</td>\n",
       "      <td>1876741</td>\n",
       "      <td>327</td>\n",
       "      <td>2190865</td>\n",
       "      <td>668</td>\n",
       "      <td>737</td>\n",
       "      <td>11127</td>\n",
       "      <td>11171</td>\n",
       "    </tr>\n",
       "    <tr>\n",
       "      <th>18</th>\n",
       "      <td>2019-08-19</td>\n",
       "      <td>21</td>\n",
       "      <td>168193</td>\n",
       "      <td>21</td>\n",
       "      <td>1429920</td>\n",
       "      <td>299</td>\n",
       "      <td>2044934</td>\n",
       "      <td>348</td>\n",
       "      <td>3620785</td>\n",
       "      <td>502</td>\n",
       "      <td>487</td>\n",
       "      <td>11629</td>\n",
       "      <td>11658</td>\n",
       "    </tr>\n",
       "    <tr>\n",
       "      <th>19</th>\n",
       "      <td>2019-08-20</td>\n",
       "      <td>10</td>\n",
       "      <td>58679</td>\n",
       "      <td>20</td>\n",
       "      <td>147274</td>\n",
       "      <td>309</td>\n",
       "      <td>2103613</td>\n",
       "      <td>368</td>\n",
       "      <td>3768059</td>\n",
       "      <td>575</td>\n",
       "      <td>560</td>\n",
       "      <td>12204</td>\n",
       "      <td>12218</td>\n",
       "    </tr>\n",
       "    <tr>\n",
       "      <th>20</th>\n",
       "      <td>2019-08-21</td>\n",
       "      <td>20</td>\n",
       "      <td>170169</td>\n",
       "      <td>12</td>\n",
       "      <td>140347</td>\n",
       "      <td>329</td>\n",
       "      <td>2273782</td>\n",
       "      <td>380</td>\n",
       "      <td>3908406</td>\n",
       "      <td>646</td>\n",
       "      <td>656</td>\n",
       "      <td>12850</td>\n",
       "      <td>12874</td>\n",
       "    </tr>\n",
       "    <tr>\n",
       "      <th>21</th>\n",
       "      <td>2019-08-22</td>\n",
       "      <td>10</td>\n",
       "      <td>92365</td>\n",
       "      <td>21</td>\n",
       "      <td>141728</td>\n",
       "      <td>339</td>\n",
       "      <td>2366147</td>\n",
       "      <td>401</td>\n",
       "      <td>4050134</td>\n",
       "      <td>609</td>\n",
       "      <td>650</td>\n",
       "      <td>13459</td>\n",
       "      <td>13524</td>\n",
       "    </tr>\n",
       "    <tr>\n",
       "      <th>22</th>\n",
       "      <td>2019-08-23</td>\n",
       "      <td>20</td>\n",
       "      <td>57863</td>\n",
       "      <td>13</td>\n",
       "      <td>77269</td>\n",
       "      <td>359</td>\n",
       "      <td>2424010</td>\n",
       "      <td>414</td>\n",
       "      <td>4127403</td>\n",
       "      <td>468</td>\n",
       "      <td>546</td>\n",
       "      <td>13927</td>\n",
       "      <td>14070</td>\n",
       "    </tr>\n",
       "    <tr>\n",
       "      <th>23</th>\n",
       "      <td>2019-08-24</td>\n",
       "      <td>13</td>\n",
       "      <td>122013</td>\n",
       "      <td>14</td>\n",
       "      <td>87866</td>\n",
       "      <td>372</td>\n",
       "      <td>2546023</td>\n",
       "      <td>428</td>\n",
       "      <td>4215269</td>\n",
       "      <td>395</td>\n",
       "      <td>378</td>\n",
       "      <td>14322</td>\n",
       "      <td>14448</td>\n",
       "    </tr>\n",
       "    <tr>\n",
       "      <th>24</th>\n",
       "      <td>2019-08-25</td>\n",
       "      <td>8</td>\n",
       "      <td>51884</td>\n",
       "      <td>12</td>\n",
       "      <td>79257</td>\n",
       "      <td>380</td>\n",
       "      <td>2597907</td>\n",
       "      <td>440</td>\n",
       "      <td>4294526</td>\n",
       "      <td>621</td>\n",
       "      <td>679</td>\n",
       "      <td>14943</td>\n",
       "      <td>15127</td>\n",
       "    </tr>\n",
       "    <tr>\n",
       "      <th>25</th>\n",
       "      <td>2019-08-26</td>\n",
       "      <td>16</td>\n",
       "      <td>157214</td>\n",
       "      <td>22</td>\n",
       "      <td>173439</td>\n",
       "      <td>396</td>\n",
       "      <td>2755121</td>\n",
       "      <td>462</td>\n",
       "      <td>4467965</td>\n",
       "      <td>722</td>\n",
       "      <td>676</td>\n",
       "      <td>15665</td>\n",
       "      <td>15803</td>\n",
       "    </tr>\n",
       "    <tr>\n",
       "      <th>26</th>\n",
       "      <td>2019-08-27</td>\n",
       "      <td>23</td>\n",
       "      <td>185350</td>\n",
       "      <td>11</td>\n",
       "      <td>111347</td>\n",
       "      <td>419</td>\n",
       "      <td>2940471</td>\n",
       "      <td>473</td>\n",
       "      <td>4579312</td>\n",
       "      <td>711</td>\n",
       "      <td>720</td>\n",
       "      <td>16376</td>\n",
       "      <td>16523</td>\n",
       "    </tr>\n",
       "    <tr>\n",
       "      <th>27</th>\n",
       "      <td>2019-08-28</td>\n",
       "      <td>15</td>\n",
       "      <td>96462</td>\n",
       "      <td>22</td>\n",
       "      <td>61198</td>\n",
       "      <td>434</td>\n",
       "      <td>3036933</td>\n",
       "      <td>495</td>\n",
       "      <td>4640510</td>\n",
       "      <td>594</td>\n",
       "      <td>654</td>\n",
       "      <td>16970</td>\n",
       "      <td>17177</td>\n",
       "    </tr>\n",
       "    <tr>\n",
       "      <th>28</th>\n",
       "      <td>2019-08-29</td>\n",
       "      <td>17</td>\n",
       "      <td>196300</td>\n",
       "      <td>15</td>\n",
       "      <td>106100</td>\n",
       "      <td>451</td>\n",
       "      <td>3233233</td>\n",
       "      <td>510</td>\n",
       "      <td>4746610</td>\n",
       "      <td>577</td>\n",
       "      <td>531</td>\n",
       "      <td>17547</td>\n",
       "      <td>17708</td>\n",
       "    </tr>\n",
       "    <tr>\n",
       "      <th>29</th>\n",
       "      <td>2019-08-30</td>\n",
       "      <td>9</td>\n",
       "      <td>78180</td>\n",
       "      <td>21</td>\n",
       "      <td>209223</td>\n",
       "      <td>460</td>\n",
       "      <td>3311413</td>\n",
       "      <td>531</td>\n",
       "      <td>4955833</td>\n",
       "      <td>490</td>\n",
       "      <td>490</td>\n",
       "      <td>18037</td>\n",
       "      <td>18198</td>\n",
       "    </tr>\n",
       "    <tr>\n",
       "      <th>30</th>\n",
       "      <td>2019-08-31</td>\n",
       "      <td>8</td>\n",
       "      <td>53243</td>\n",
       "      <td>17</td>\n",
       "      <td>113139</td>\n",
       "      <td>468</td>\n",
       "      <td>3364656</td>\n",
       "      <td>548</td>\n",
       "      <td>5068972</td>\n",
       "      <td>699</td>\n",
       "      <td>718</td>\n",
       "      <td>18736</td>\n",
       "      <td>18916</td>\n",
       "    </tr>\n",
       "  </tbody>\n",
       "</table>\n",
       "</div>"
      ],
      "text/plain": [
       "         date  ordersPerDateA  revenuePerDateA  ordersPerDateB  \\\n",
       "0  2019-08-01              23           142779              17   \n",
       "1  2019-08-02              19            91602              23   \n",
       "2  2019-08-03              24           112473              14   \n",
       "3  2019-08-04              11            41176              14   \n",
       "4  2019-08-05              22            86383              21   \n",
       "5  2019-08-06              15            40919              23   \n",
       "6  2019-08-07              16           123248              23   \n",
       "7  2019-08-08              14            88639              22   \n",
       "8  2019-08-09              11           134237              19   \n",
       "9  2019-08-10              15           152275              22   \n",
       "10 2019-08-11              11            60665              12   \n",
       "11 2019-08-12              19           220392              19   \n",
       "12 2019-08-13              14           263638              20   \n",
       "13 2019-08-14              17            43266              14   \n",
       "14 2019-08-15              10            80877              26   \n",
       "15 2019-08-16              18            99851              18   \n",
       "16 2019-08-17               6            34740              13   \n",
       "17 2019-08-18              13            59581               7   \n",
       "18 2019-08-19              21           168193              21   \n",
       "19 2019-08-20              10            58679              20   \n",
       "20 2019-08-21              20           170169              12   \n",
       "21 2019-08-22              10            92365              21   \n",
       "22 2019-08-23              20            57863              13   \n",
       "23 2019-08-24              13           122013              14   \n",
       "24 2019-08-25               8            51884              12   \n",
       "25 2019-08-26              16           157214              22   \n",
       "26 2019-08-27              23           185350              11   \n",
       "27 2019-08-28              15            96462              22   \n",
       "28 2019-08-29              17           196300              15   \n",
       "29 2019-08-30               9            78180              21   \n",
       "30 2019-08-31               8            53243              17   \n",
       "\n",
       "    revenuePerDateB  ordersCummulativeA  revenueCummulativeA  \\\n",
       "0             59758                  23               142779   \n",
       "1            162043                  42               234381   \n",
       "2             67049                  66               346854   \n",
       "3             96890                  77               388030   \n",
       "4             89908                  99               474413   \n",
       "5            214842                 114               515332   \n",
       "6            219164                 130               638580   \n",
       "7            150141                 144               727219   \n",
       "8            103166                 155               861456   \n",
       "9            105162                 170              1013731   \n",
       "10            53060                 181              1074396   \n",
       "11           104054                 200              1294788   \n",
       "12           117691                 214              1558426   \n",
       "13           107340                 231              1601692   \n",
       "14           310159                 241              1682569   \n",
       "15           114250                 259              1782420   \n",
       "16            80865                 265              1817160   \n",
       "17            35323                 278              1876741   \n",
       "18          1429920                 299              2044934   \n",
       "19           147274                 309              2103613   \n",
       "20           140347                 329              2273782   \n",
       "21           141728                 339              2366147   \n",
       "22            77269                 359              2424010   \n",
       "23            87866                 372              2546023   \n",
       "24            79257                 380              2597907   \n",
       "25           173439                 396              2755121   \n",
       "26           111347                 419              2940471   \n",
       "27            61198                 434              3036933   \n",
       "28           106100                 451              3233233   \n",
       "29           209223                 460              3311413   \n",
       "30           113139                 468              3364656   \n",
       "\n",
       "    ordersCummulativeB  revenueCummulativeB  visitorsPerDateA  \\\n",
       "0                   17                59758               719   \n",
       "1                   40               221801               619   \n",
       "2                   54               288850               507   \n",
       "3                   68               385740               717   \n",
       "4                   89               475648               756   \n",
       "5                  112               690490               667   \n",
       "6                  135               909654               644   \n",
       "7                  157              1059795               610   \n",
       "8                  176              1162961               617   \n",
       "9                  198              1268123               406   \n",
       "10                 210              1321183               718   \n",
       "11                 229              1425237               595   \n",
       "12                 249              1542928               748   \n",
       "13                 263              1650268               735   \n",
       "14                 289              1960427               628   \n",
       "15                 307              2074677               361   \n",
       "16                 320              2155542               412   \n",
       "17                 327              2190865               668   \n",
       "18                 348              3620785               502   \n",
       "19                 368              3768059               575   \n",
       "20                 380              3908406               646   \n",
       "21                 401              4050134               609   \n",
       "22                 414              4127403               468   \n",
       "23                 428              4215269               395   \n",
       "24                 440              4294526               621   \n",
       "25                 462              4467965               722   \n",
       "26                 473              4579312               711   \n",
       "27                 495              4640510               594   \n",
       "28                 510              4746610               577   \n",
       "29                 531              4955833               490   \n",
       "30                 548              5068972               699   \n",
       "\n",
       "    visitorsPerDateB  visitorsCummulativeA  visitorsCummulativeB  \n",
       "0                713                   719                   713  \n",
       "1                581                  1338                  1294  \n",
       "2                509                  1845                  1803  \n",
       "3                770                  2562                  2573  \n",
       "4                707                  3318                  3280  \n",
       "5                655                  3985                  3935  \n",
       "6                709                  4629                  4644  \n",
       "7                654                  5239                  5298  \n",
       "8                610                  5856                  5908  \n",
       "9                369                  6262                  6277  \n",
       "10               721                  6980                  6998  \n",
       "11               543                  7575                  7541  \n",
       "12               769                  8323                  8310  \n",
       "13               746                  9058                  9056  \n",
       "14               544                  9686                  9600  \n",
       "15               413                 10047                 10013  \n",
       "16               421                 10459                 10434  \n",
       "17               737                 11127                 11171  \n",
       "18               487                 11629                 11658  \n",
       "19               560                 12204                 12218  \n",
       "20               656                 12850                 12874  \n",
       "21               650                 13459                 13524  \n",
       "22               546                 13927                 14070  \n",
       "23               378                 14322                 14448  \n",
       "24               679                 14943                 15127  \n",
       "25               676                 15665                 15803  \n",
       "26               720                 16376                 16523  \n",
       "27               654                 16970                 17177  \n",
       "28               531                 17547                 17708  \n",
       "29               490                 18037                 18198  \n",
       "30               718                 18736                 18916  "
      ]
     },
     "execution_count": 23,
     "metadata": {},
     "output_type": "execute_result"
    }
   ],
   "source": [
    "#разделим пользователей по группам и посчитаем кумулятивные данные по дням\n",
    "visitorsADaily = visitors[visitors['group'] == 'A'][['date', 'visitors']]\n",
    "visitorsADaily.columns = ['date', 'visitorsPerDateA']\n",
    "\n",
    "#сумма посетителей группы А\n",
    "visitorsACummulative = visitorsADaily.apply(\n",
    "    lambda x: visitorsADaily[visitorsADaily['date'] <= x['date']].agg(\n",
    "        {'date': 'max', 'visitorsPerDateA': 'sum'}\n",
    "    ),\n",
    "    axis=1,\n",
    ")\n",
    "visitorsACummulative.columns = ['date', 'visitorsCummulativeA']\n",
    "\n",
    "#посчитаем кумулятивные данные по дням группы В\n",
    "visitorsBDaily = visitors[visitors['group'] == 'B'][['date', 'visitors']]\n",
    "visitorsBDaily.columns = ['date', 'visitorsPerDateB']\n",
    "\n",
    "#сумма посетителей группы В\n",
    "visitorsBCummulative = visitorsBDaily.apply(\n",
    "    lambda x: visitorsBDaily[visitorsBDaily['date'] <= x['date']].agg(\n",
    "        {'date': 'max', 'visitorsPerDateB': 'sum'}\n",
    "    ),\n",
    "    axis=1,\n",
    ")\n",
    "visitorsBCummulative.columns = ['date', 'visitorsCummulativeB']\n",
    "\n",
    "#количество заказов группы А по дням\n",
    "ordersADaily = (\n",
    "    orders[orders['group'] == 'A'][['date', 'transaction_id', 'visitor_id', 'revenue']]\n",
    "    .groupby('date', as_index=False)\n",
    "    .agg({'transaction_id': pd.Series.nunique, 'revenue': 'sum'})\n",
    ")\n",
    "ordersADaily.columns = ['date', 'ordersPerDateA', 'revenuePerDateA']\n",
    "\n",
    "ordersACummulative = ordersADaily.apply(\n",
    "    lambda x: ordersADaily[ordersADaily['date'] <= x['date']].agg(\n",
    "        {'date': 'max', 'ordersPerDateA': 'sum', 'revenuePerDateA': 'sum'}\n",
    "    ),\n",
    "    axis=1,\n",
    ").sort_values(by=['date'])\n",
    "ordersACummulative.columns = [\n",
    "    'date',\n",
    "    'ordersCummulativeA',\n",
    "    'revenueCummulativeA',\n",
    "]\n",
    "#количество заказов группы В по дням\n",
    "ordersBDaily = (\n",
    "    orders[orders['group'] == 'B'][['date', 'transaction_id', 'visitor_id', 'revenue']]\n",
    "    .groupby('date', as_index=False)\n",
    "    .agg({'transaction_id': pd.Series.nunique, 'revenue': 'sum'})\n",
    ")\n",
    "ordersBDaily.columns = ['date', 'ordersPerDateB', 'revenuePerDateB']\n",
    "\n",
    "ordersBCummulative = ordersBDaily.apply(\n",
    "    lambda x: ordersBDaily[ordersBDaily['date'] <= x['date']].agg(\n",
    "        {'date': 'max', 'ordersPerDateB': 'sum', 'revenuePerDateB': 'sum'}\n",
    "    ),\n",
    "    axis=1,\n",
    ").sort_values(by=['date'])\n",
    "ordersBCummulative.columns = [\n",
    "    'date',\n",
    "    'ordersCummulativeB',\n",
    "    'revenueCummulativeB',\n",
    "]\n",
    "\n",
    "#объединим данные в один датафрейм\n",
    "data = (\n",
    "    ordersADaily.merge(\n",
    "        ordersBDaily, left_on='date', right_on='date', how='left'\n",
    "    )\n",
    "    .merge(ordersACummulative, left_on='date', right_on='date', how='left')\n",
    "    .merge(ordersBCummulative, left_on='date', right_on='date', how='left')\n",
    "    .merge(visitorsADaily, left_on='date', right_on='date', how='left')\n",
    "    .merge(visitorsBDaily, left_on='date', right_on='date', how='left')\n",
    "    .merge(visitorsACummulative, left_on='date', right_on='date', how='left')\n",
    "    .merge(visitorsBCummulative, left_on='date', right_on='date', how='left')\n",
    ")\n",
    "\n",
    "data"
   ]
  },
  {
   "cell_type": "markdown",
   "metadata": {},
   "source": [
    "Мы сформировали единый датафрейм:\n",
    "\n",
    "date — дата;\n",
    "\n",
    "ordersPerDateA — количество заказов в выбранную дату в группе A;\n",
    "\n",
    "revenuePerDateA — суммарная выручка в выбранную дату в группе A;\n",
    "\n",
    "ordersPerDateB — количество заказов в выбранную дату в группе B;\n",
    "\n",
    "revenuePerDateB — суммарная выручка в выбранную дату в группе B;\n",
    "\n",
    "ordersCummulativeA — суммарное число заказов до выбранной даты включительно в группе A;\n",
    "\n",
    "revenueCummulativeA — суммарная выручка до выбранной даты включительно в группе A;\n",
    "\n",
    "ordersCummulativeB — суммарное количество заказов до выбранной даты включительно в группе B;\n",
    "\n",
    "revenueCummulativeB — суммарная выручка до выбранной даты включительно в группе B;\n",
    "\n",
    "visitorsPerDateA — количество пользователей в выбранную дату в группе A;\n",
    "\n",
    "visitorsPerDateB — количество пользователей в выбранную дату в группе B;\n",
    "\n",
    "visitorsCummulativeA — количество пользователей до выбранной даты включительно в группе A;\n",
    "\n",
    "visitorsCummulativeB — количество пользователей до выбранной даты включительно в группе B."
   ]
  },
  {
   "cell_type": "markdown",
   "metadata": {},
   "source": [
    "##### Построим график кумулятивной выручки по группам"
   ]
  },
  {
   "cell_type": "code",
   "execution_count": 24,
   "metadata": {},
   "outputs": [
    {
     "data": {
      "image/png": "[encoded data removed]",
      "text/plain": [
       "<Figure size 432x288 with 1 Axes>"
      ]
     },
     "metadata": {
      "needs_background": "light"
     },
     "output_type": "display_data"
    }
   ],
   "source": [
    "data.plot(x='date', y=['revenueCummulativeA', 'revenueCummulativeB'], grid=True)\n",
    "\n",
    "plt.title('График кумулятивной выручки')\n",
    "plt.xlabel('Дата')\n",
    "plt.ylabel('Выручка')\n",
    "plt.show()"
   ]
  },
  {
   "cell_type": "markdown",
   "metadata": {},
   "source": [
    "Исходя из графика кумулятивной выручки можно увидеть, что у группы В выручка больше, чем у группы А на протяжении почти всего периода. Заметно резкое увеличение показателей 18 числа, которое увеличило разрыв еще больше. "
   ]
  },
  {
   "cell_type": "markdown",
   "metadata": {},
   "source": [
    "<div class=\"alert alert-success\">\n",
    "  \n",
    "  <b>Комментарий ревьюера</b>\n",
    "    \n",
    "  ✔️ График построен верно и можем зафиксировать аномалию в группе В.\n",
    "</div>\n",
    "<div class=\"alert alert-warning\">\n",
    "    \n",
    "  <b>Комментарий ревьюера</b>\n",
    "    \n",
    "  ⚠️ Чтобы при построении графика не выскакивали технические надписи вроде: `Text(0, 0.5, 'Выручка')` добавляй в конце вывода `plt.show();`. \n",
    "\n",
    "</div>"
   ]
  },
  {
   "cell_type": "markdown",
   "metadata": {},
   "source": [
    "##### Построим график кумулятивного среднего чека по группам"
   ]
  },
  {
   "cell_type": "code",
   "execution_count": 25,
   "metadata": {},
   "outputs": [
    {
     "data": {
      "image/png": "[encoded data removed]",
      "text/plain": [
       "<Figure size 432x288 with 1 Axes>"
      ]
     },
     "metadata": {
      "needs_background": "light"
     },
     "output_type": "display_data"
    }
   ],
   "source": [
    "data['check_A'] = data['revenueCummulativeA']/data['ordersCummulativeA']\n",
    "data['check_B'] = data['revenueCummulativeB']/data['ordersCummulativeB']\n",
    "\n",
    "data.plot(x='date', y=['check_A', 'check_B'], grid=True)\n",
    "\n",
    "plt.title('График кумулятивного среднего чека')\n",
    "plt.xlabel('Дата')\n",
    "plt.ylabel('Средний чек')\n",
    "plt.show()"
   ]
  },
  {
   "cell_type": "markdown",
   "metadata": {},
   "source": [
    "На графике кумулятивного среднего чека можно увидеть, что в группе В средний чек почти все время выше, чем в группе А. Исключение только составляет период с 12 по 15 число, где группа А преобладает. С 18 числа наблюдается скачкообразный рост в группе В, который потом идет на спад. "
   ]
  },
  {
   "cell_type": "markdown",
   "metadata": {},
   "source": [
    "<div class=\"alert alert-success\">\n",
    "  \n",
    "  <b>Комментарий ревьюера</b>\n",
    "    \n",
    "  ✔️ Тут так-же группа В выделяется.\n",
    "</div>"
   ]
  },
  {
   "cell_type": "markdown",
   "metadata": {},
   "source": [
    "##### Построим график относительного изменения кумулятивного среднего чека группы B к группе A"
   ]
  },
  {
   "cell_type": "code",
   "execution_count": 26,
   "metadata": {},
   "outputs": [
    {
     "data": {
      "image/png": "[encoded data removed]",
      "text/plain": [
       "<Figure size 432x288 with 1 Axes>"
      ]
     },
     "metadata": {
      "needs_background": "light"
     },
     "output_type": "display_data"
    }
   ],
   "source": [
    "data['check'] = data['check_B']/data['check_A']-1\n",
    "\n",
    "data.plot(x='date', y='check', grid=True)\n",
    "\n",
    "plt.axhline(y=0, color='black', linestyle='--')\n",
    "plt.title('График относительного изменения кумулятивного среднего чека группы B к группе A')\n",
    "plt.xlabel('Дата')\n",
    "plt.ylabel('Относительное изменение')\n",
    "plt.show()"
   ]
  },
  {
   "cell_type": "markdown",
   "metadata": {},
   "source": [
    "Исходя из графика можно увидеть резкие различия кумулятивного среднего чека группы B к группе A. 18 числа наблюдается резкий скачок, который потом пошел на спад"
   ]
  },
  {
   "cell_type": "markdown",
   "metadata": {},
   "source": [
    "<div class=\"alert alert-success\">\n",
    "  \n",
    "  <b>Комментарий ревьюера</b>\n",
    "    \n",
    "  ✔️ Похоже на крупные заказы.\n",
    "</div>"
   ]
  },
  {
   "cell_type": "markdown",
   "metadata": {},
   "source": [
    "##### Построим график кумулятивного среднего количества заказов на посетителя по группам"
   ]
  },
  {
   "cell_type": "code",
   "execution_count": 27,
   "metadata": {},
   "outputs": [
    {
     "data": {
      "image/png": "[encoded data removed]",
      "text/plain": [
       "<Figure size 432x288 with 1 Axes>"
      ]
     },
     "metadata": {
      "needs_background": "light"
     },
     "output_type": "display_data"
    }
   ],
   "source": [
    "data['conversionA'] = data['ordersCummulativeA']/data['visitorsCummulativeA']\n",
    "data['conversionB'] = data['ordersCummulativeB']/data['visitorsCummulativeB']\n",
    "\n",
    "data.plot(x='date', y=['conversionA', 'conversionB'], grid=True)\n",
    "\n",
    "plt.title('График кумулятивного среднего количества заказов на посетителя по группам')\n",
    "plt.xlabel('Дата')\n",
    "plt.ylabel('Среднее количество заказов')\n",
    "plt.show()"
   ]
  },
  {
   "cell_type": "markdown",
   "metadata": {},
   "source": [
    "Можно увидеть, что среднее количество заказов группы В выше, чем у группы А на протяжении почти всего периода. "
   ]
  },
  {
   "cell_type": "markdown",
   "metadata": {},
   "source": [
    "<div class=\"alert alert-success\">\n",
    "  \n",
    "  <b>Комментарий ревьюера</b>\n",
    "    \n",
    "  ✔️ Группа В в лидерах.\n",
    "</div>\n"
   ]
  },
  {
   "cell_type": "markdown",
   "metadata": {},
   "source": [
    "##### Построим график относительного изменения кумулятивного среднего количества заказов на посетителя группы B к группе A"
   ]
  },
  {
   "cell_type": "code",
   "execution_count": 28,
   "metadata": {},
   "outputs": [
    {
     "data": {
      "image/png": "[encoded data removed]",
      "text/plain": [
       "<Figure size 432x288 with 1 Axes>"
      ]
     },
     "metadata": {
      "needs_background": "light"
     },
     "output_type": "display_data"
    }
   ],
   "source": [
    "data['conversion'] = data['conversionB']/data['conversionA']-1\n",
    "\n",
    "data.plot(x='date', y='conversion', grid=True)\n",
    "\n",
    "plt.title('График относительного изменения кумулятивного среднего количества заказов на посетителя группы B к группе A')\n",
    "plt.xlabel('Дата')\n",
    "plt.ylabel('Относительное изменение')\n",
    "plt.show()"
   ]
  },
  {
   "cell_type": "markdown",
   "metadata": {},
   "source": [
    "График относительного изменения кумулятивного среднего количества заказов на посетителя показывает, что группа B имеет лучшие показатели конверсии, чем группа А. "
   ]
  },
  {
   "cell_type": "markdown",
   "metadata": {},
   "source": [
    "<div class=\"alert alert-success\">\n",
    "  \n",
    "  <b>Комментарий ревьюера</b>\n",
    "    \n",
    "  ✔️ Да, группа В выше, а еще в последней трети эксперимента наблюдается стабилизация результатов.\n",
    "</div>"
   ]
  },
  {
   "cell_type": "markdown",
   "metadata": {},
   "source": [
    "##### Построим точечный график количества заказов по пользователям"
   ]
  },
  {
   "cell_type": "code",
   "execution_count": 29,
   "metadata": {},
   "outputs": [
    {
     "data": {
      "text/html": [
       "<div>\n",
       "<style scoped>\n",
       "    .dataframe tbody tr th:only-of-type {\n",
       "        vertical-align: middle;\n",
       "    }\n",
       "\n",
       "    .dataframe tbody tr th {\n",
       "        vertical-align: top;\n",
       "    }\n",
       "\n",
       "    .dataframe thead th {\n",
       "        text-align: right;\n",
       "    }\n",
       "</style>\n",
       "<table border=\"1\" class=\"dataframe\">\n",
       "  <thead>\n",
       "    <tr style=\"text-align: right;\">\n",
       "      <th></th>\n",
       "      <th>visitor_id</th>\n",
       "      <th>transactions</th>\n",
       "    </tr>\n",
       "  </thead>\n",
       "  <tbody>\n",
       "    <tr>\n",
       "      <th>0</th>\n",
       "      <td>11685486</td>\n",
       "      <td>1</td>\n",
       "    </tr>\n",
       "    <tr>\n",
       "      <th>1</th>\n",
       "      <td>54447517</td>\n",
       "      <td>1</td>\n",
       "    </tr>\n",
       "    <tr>\n",
       "      <th>2</th>\n",
       "      <td>66685450</td>\n",
       "      <td>1</td>\n",
       "    </tr>\n",
       "    <tr>\n",
       "      <th>3</th>\n",
       "      <td>78758296</td>\n",
       "      <td>1</td>\n",
       "    </tr>\n",
       "    <tr>\n",
       "      <th>4</th>\n",
       "      <td>85103373</td>\n",
       "      <td>1</td>\n",
       "    </tr>\n",
       "    <tr>\n",
       "      <th>...</th>\n",
       "      <td>...</td>\n",
       "      <td>...</td>\n",
       "    </tr>\n",
       "    <tr>\n",
       "      <th>440</th>\n",
       "      <td>4227830084</td>\n",
       "      <td>1</td>\n",
       "    </tr>\n",
       "    <tr>\n",
       "      <th>441</th>\n",
       "      <td>4237561104</td>\n",
       "      <td>1</td>\n",
       "    </tr>\n",
       "    <tr>\n",
       "      <th>442</th>\n",
       "      <td>4243832526</td>\n",
       "      <td>1</td>\n",
       "    </tr>\n",
       "    <tr>\n",
       "      <th>443</th>\n",
       "      <td>4259830713</td>\n",
       "      <td>1</td>\n",
       "    </tr>\n",
       "    <tr>\n",
       "      <th>444</th>\n",
       "      <td>4278982564</td>\n",
       "      <td>1</td>\n",
       "    </tr>\n",
       "  </tbody>\n",
       "</table>\n",
       "<p>445 rows × 2 columns</p>\n",
       "</div>"
      ],
      "text/plain": [
       "     visitor_id  transactions\n",
       "0      11685486             1\n",
       "1      54447517             1\n",
       "2      66685450             1\n",
       "3      78758296             1\n",
       "4      85103373             1\n",
       "..          ...           ...\n",
       "440  4227830084             1\n",
       "441  4237561104             1\n",
       "442  4243832526             1\n",
       "443  4259830713             1\n",
       "444  4278982564             1\n",
       "\n",
       "[445 rows x 2 columns]"
      ]
     },
     "execution_count": 29,
     "metadata": {},
     "output_type": "execute_result"
    }
   ],
   "source": [
    "ordersByUsersA = orders[orders['group'] == 'A'].groupby('visitor_id', as_index=False).agg({'transaction_id':'count'})\n",
    "ordersByUsersA.columns = ['visitor_id', 'transactions']\n",
    "ordersByUsersA"
   ]
  },
  {
   "cell_type": "code",
   "execution_count": 30,
   "metadata": {},
   "outputs": [
    {
     "data": {
      "text/html": [
       "<div>\n",
       "<style scoped>\n",
       "    .dataframe tbody tr th:only-of-type {\n",
       "        vertical-align: middle;\n",
       "    }\n",
       "\n",
       "    .dataframe tbody tr th {\n",
       "        vertical-align: top;\n",
       "    }\n",
       "\n",
       "    .dataframe thead th {\n",
       "        text-align: right;\n",
       "    }\n",
       "</style>\n",
       "<table border=\"1\" class=\"dataframe\">\n",
       "  <thead>\n",
       "    <tr style=\"text-align: right;\">\n",
       "      <th></th>\n",
       "      <th>visitor_id</th>\n",
       "      <th>transactions</th>\n",
       "    </tr>\n",
       "  </thead>\n",
       "  <tbody>\n",
       "    <tr>\n",
       "      <th>0</th>\n",
       "      <td>5114589</td>\n",
       "      <td>1</td>\n",
       "    </tr>\n",
       "    <tr>\n",
       "      <th>1</th>\n",
       "      <td>6958315</td>\n",
       "      <td>1</td>\n",
       "    </tr>\n",
       "    <tr>\n",
       "      <th>2</th>\n",
       "      <td>39475350</td>\n",
       "      <td>1</td>\n",
       "    </tr>\n",
       "    <tr>\n",
       "      <th>3</th>\n",
       "      <td>47206413</td>\n",
       "      <td>1</td>\n",
       "    </tr>\n",
       "    <tr>\n",
       "      <th>4</th>\n",
       "      <td>48147722</td>\n",
       "      <td>1</td>\n",
       "    </tr>\n",
       "    <tr>\n",
       "      <th>...</th>\n",
       "      <td>...</td>\n",
       "      <td>...</td>\n",
       "    </tr>\n",
       "    <tr>\n",
       "      <th>523</th>\n",
       "      <td>4251115836</td>\n",
       "      <td>1</td>\n",
       "    </tr>\n",
       "    <tr>\n",
       "      <th>524</th>\n",
       "      <td>4258103007</td>\n",
       "      <td>1</td>\n",
       "    </tr>\n",
       "    <tr>\n",
       "      <th>525</th>\n",
       "      <td>4279090005</td>\n",
       "      <td>1</td>\n",
       "    </tr>\n",
       "    <tr>\n",
       "      <th>526</th>\n",
       "      <td>4281247801</td>\n",
       "      <td>1</td>\n",
       "    </tr>\n",
       "    <tr>\n",
       "      <th>527</th>\n",
       "      <td>4283872382</td>\n",
       "      <td>1</td>\n",
       "    </tr>\n",
       "  </tbody>\n",
       "</table>\n",
       "<p>528 rows × 2 columns</p>\n",
       "</div>"
      ],
      "text/plain": [
       "     visitor_id  transactions\n",
       "0       5114589             1\n",
       "1       6958315             1\n",
       "2      39475350             1\n",
       "3      47206413             1\n",
       "4      48147722             1\n",
       "..          ...           ...\n",
       "523  4251115836             1\n",
       "524  4258103007             1\n",
       "525  4279090005             1\n",
       "526  4281247801             1\n",
       "527  4283872382             1\n",
       "\n",
       "[528 rows x 2 columns]"
      ]
     },
     "execution_count": 30,
     "metadata": {},
     "output_type": "execute_result"
    }
   ],
   "source": [
    "ordersByUsersB = orders[orders['group'] == 'B'].groupby('visitor_id', as_index=False).agg({'transaction_id':'count'})\n",
    "ordersByUsersB.columns = ['visitor_id', 'transactions']\n",
    "ordersByUsersB"
   ]
  },
  {
   "cell_type": "code",
   "execution_count": 31,
   "metadata": {},
   "outputs": [
    {
     "data": {
      "image/png": "[encoded data removed]",
      "text/plain": [
       "<Figure size 1080x360 with 2 Axes>"
      ]
     },
     "metadata": {
      "needs_background": "light"
     },
     "output_type": "display_data"
    }
   ],
   "source": [
    "x_values = pd.Series(range(0,len(ordersByUsersA)))\n",
    "y_values = pd.Series(range(0,len(ordersByUsersB)))\n",
    "\n",
    "plt.figure(figsize=(15,5))\n",
    "plt.subplot(1, 2, 1)\n",
    "plt.scatter(x_values, ordersByUsersA['transactions']) \n",
    "plt.title('Точечный график количества заказов по пользователям группы А')\n",
    "plt.ylabel('Количество заказов')\n",
    "\n",
    "plt.subplot(1, 2, 2)\n",
    "plt.scatter(y_values, ordersByUsersB['transactions']) \n",
    "plt.title('Точечный график количества заказов по пользователям группы В')\n",
    "plt.ylabel('Количество заказов')\n",
    "plt.show()"
   ]
  },
  {
   "cell_type": "markdown",
   "metadata": {},
   "source": [
    "Можно увидеть, что в обеих группах большинство пользователей совершает не больше 1 заказа. Остальные случаи довольно редкие."
   ]
  },
  {
   "cell_type": "markdown",
   "metadata": {},
   "source": [
    "##### Посчитаем 95-й и 99-й перцентили количества заказов на пользователя"
   ]
  },
  {
   "cell_type": "code",
   "execution_count": 32,
   "metadata": {},
   "outputs": [
    {
     "data": {
      "text/plain": [
       "array([1.  , 2.56])"
      ]
     },
     "execution_count": 32,
     "metadata": {},
     "output_type": "execute_result"
    }
   ],
   "source": [
    "np.percentile(ordersByUsersA['transactions'], [95, 99])"
   ]
  },
  {
   "cell_type": "code",
   "execution_count": 33,
   "metadata": {},
   "outputs": [
    {
     "data": {
      "text/plain": [
       "array([1., 2.])"
      ]
     },
     "execution_count": 33,
     "metadata": {},
     "output_type": "execute_result"
    }
   ],
   "source": [
    "np.percentile(ordersByUsersB['transactions'], [95, 99])"
   ]
  },
  {
   "cell_type": "markdown",
   "metadata": {},
   "source": [
    "Не более 5% пользователей из группы А оформляли больше чем 1 заказ. Только 1% заказывал больше 2 раз. В группе В результаты аналогичные.\n",
    "\n",
    "Можно выбрать 2 заказа и более на одного пользователя за верхнюю границу числа заказов, и отсеять аномальных пользователей по ней."
   ]
  },
  {
   "cell_type": "markdown",
   "metadata": {},
   "source": [
    "<div class=\"alert alert-warning\">\n",
    "    \n",
    "  <b>Комментарий ревьюера</b>\n",
    "    \n",
    "  ⚠️ Перцентали выбраны верно. Но скорее всего, после обнаружения пользователей, которые вошли в обе группы (что не совсем верно) границы выбросов изменятся. Еще раз перепроверь свое решение после дополнения части с предобработкой.\n",
    "</div>\n",
    "<div class=\"alert alert-success\">\n",
    "  \n",
    "  <b>Комментарий ревьюера v.2</b>\n",
    "    \n",
    "  ✔️ Количество заказов сократилось заметно, а вот чек не сильно уменьшился.\n",
    "</div>"
   ]
  },
  {
   "cell_type": "markdown",
   "metadata": {},
   "source": [
    "##### Построим точечный график стоимостей заказов"
   ]
  },
  {
   "cell_type": "code",
   "execution_count": 34,
   "metadata": {},
   "outputs": [],
   "source": [
    "revenueA = orders[orders['group'] == 'A']['revenue']\n",
    "revenueB = orders[orders['group'] == 'B']['revenue']"
   ]
  },
  {
   "cell_type": "code",
   "execution_count": 35,
   "metadata": {},
   "outputs": [
    {
     "data": {
      "image/png": "[encoded data removed]",
      "text/plain": [
       "<Figure size 1080x360 with 2 Axes>"
      ]
     },
     "metadata": {
      "needs_background": "light"
     },
     "output_type": "display_data"
    }
   ],
   "source": [
    "x_values = pd.Series(range(0,len(revenueA)))\n",
    "y_values = pd.Series(range(0,len(revenueB)))\n",
    "\n",
    "plt.figure(figsize=(15,5))\n",
    "plt.subplot(1, 2, 1)\n",
    "plt.scatter(x_values, revenueA) \n",
    "plt.title('Точечный график стоимостей заказов группы А')\n",
    "plt.ylabel('Стоимость заказа')\n",
    "\n",
    "plt.subplot(1, 2, 2)\n",
    "plt.scatter(y_values, revenueB) \n",
    "plt.title('Точечный график стоимостей заказов группы В')\n",
    "plt.ylabel('Стоимость заказа')\n",
    "plt.show()"
   ]
  },
  {
   "cell_type": "markdown",
   "metadata": {},
   "source": [
    "В обеих группах большинство пользователей совершает заказ, сумма которого не превышает 20000 рублей."
   ]
  },
  {
   "cell_type": "markdown",
   "metadata": {},
   "source": [
    "##### Посчитаем 95-й и 99-й перцентили стоимости заказов"
   ]
  },
  {
   "cell_type": "code",
   "execution_count": 36,
   "metadata": {},
   "outputs": [
    {
     "data": {
      "text/plain": [
       "array([24944.5 , 56064.18])"
      ]
     },
     "execution_count": 36,
     "metadata": {},
     "output_type": "execute_result"
    }
   ],
   "source": [
    "np.percentile(revenueA, [95, 99])"
   ]
  },
  {
   "cell_type": "code",
   "execution_count": 37,
   "metadata": {},
   "outputs": [
    {
     "data": {
      "text/plain": [
       "array([27561.5, 49553.6])"
      ]
     },
     "execution_count": 37,
     "metadata": {},
     "output_type": "execute_result"
    }
   ],
   "source": [
    "np.percentile(revenueB, [95, 99])"
   ]
  },
  {
   "cell_type": "markdown",
   "metadata": {},
   "source": [
    "Не более 5% пользователей из группы А оформляли заказ на сумму более 24944 рублей. Только 1% имеет заказы стоимостью более 56064 рублей.\n",
    "\n",
    "В группе В не более 5% пользователей оформляли заказ на сумму более 27561 рублей. Только 1% имеет заказы стоимостью более 49553 рублей.\n",
    "\n",
    "Можно выбрать заказы стоимостью от 28000 рублей за верхнюю границу и отсеять аномалии по ней."
   ]
  },
  {
   "cell_type": "markdown",
   "metadata": {},
   "source": [
    "<div class=\"alert alert-warning\">\n",
    "    \n",
    "  <b>Комментарий ревьюера</b>\n",
    "    \n",
    "  ⚠️ Здесь тоже границы выбросов должны скорректироваться.\n",
    "</div>"
   ]
  },
  {
   "cell_type": "markdown",
   "metadata": {},
   "source": [
    "##### Посчитаем статистическую значимость различий в среднем количестве заказов на посетителя между группами по «сырым» данным"
   ]
  },
  {
   "cell_type": "markdown",
   "metadata": {},
   "source": [
    "Посчитаем статистическую значимость различий в среднем числе заказов на пользователя между группами по «сырым» данным — без удаления аномальных пользователей.\n",
    "\n",
    "\n",
    "**H0**: различий в среднем количестве заказов между группами нет.\n",
    "\n",
    "**H1**: различия в среднем между группами есть."
   ]
  },
  {
   "cell_type": "markdown",
   "metadata": {},
   "source": [
    "<div class=\"alert alert-success\">\n",
    "  \n",
    "  <b>Комментарий ревьюера</b>\n",
    "    \n",
    "  ✔️ Нулевая и альтернативная гипотезы сформулированы. \n",
    "\n",
    "Сами гипотезы обычно обозначают так:\n",
    "- H0 - Нет  различий ....\n",
    "- H1 - Есть различия ....\n",
    "    \n",
    "</div>"
   ]
  },
  {
   "cell_type": "code",
   "execution_count": 38,
   "metadata": {},
   "outputs": [
    {
     "name": "stdout",
     "output_type": "stream",
     "text": [
      "p-value 0.011\n",
      "0.160\n"
     ]
    }
   ],
   "source": [
    "sampleA = pd.concat(\n",
    "    [\n",
    "        ordersByUsersA['transactions'],\n",
    "        pd.Series(\n",
    "            0,\n",
    "            index=np.arange(\n",
    "                data['visitorsPerDateA'].sum() - len(ordersByUsersA['transactions'])\n",
    "            ),\n",
    "            name='orders',\n",
    "        ),\n",
    "    ],\n",
    "    axis=0,\n",
    ")\n",
    "\n",
    "sampleB = pd.concat(\n",
    "    [\n",
    "        ordersByUsersB['transactions'],\n",
    "        pd.Series(\n",
    "            0,\n",
    "            index=np.arange(\n",
    "                data['visitorsPerDateB'].sum() - len(ordersByUsersB['transactions'])\n",
    "            ),\n",
    "            name='orders',\n",
    "        ),\n",
    "    ],\n",
    "    axis=0,\n",
    ")\n",
    "\n",
    "print('p-value '\"{0:.3f}\".format(stats.mannwhitneyu(sampleA, sampleB)[1]))\n",
    "\n",
    "print(\"{0:.3f}\".format(sampleB.mean() / sampleA.mean() - 1))"
   ]
  },
  {
   "cell_type": "markdown",
   "metadata": {},
   "source": [
    "<div class=\"alert alert-warning\">\n",
    "    \n",
    "  <b>Комментарий ревьюера</b>\n",
    "    \n",
    "  ⚠️ Стоит подписать выводимые значения, хотя-бы p-value.\n",
    "</div>"
   ]
  },
  {
   "cell_type": "markdown",
   "metadata": {},
   "source": [
    "По «сырым» данным p-value = 0,011, что меньше 0,05. Значит, нулевую гипотезу о том, что статистически значимых различий в среднем числе заказов между группами нет, отвергаем. Относительная разница между группами составила 16%. "
   ]
  },
  {
   "cell_type": "markdown",
   "metadata": {},
   "source": [
    "<div class=\"alert alert-success\">\n",
    "  \n",
    "  <b>Комментарий ревьюера</b>\n",
    "    \n",
    "  ✔️ Верно выбран сам тест и верно проинтерпретированы  его результаты! \n",
    "\n",
    "</div>"
   ]
  },
  {
   "cell_type": "markdown",
   "metadata": {},
   "source": [
    "##### Посчитаем статистическую значимость различий в среднем чеке заказа между группами по «сырым» данным"
   ]
  },
  {
   "cell_type": "markdown",
   "metadata": {},
   "source": [
    "Проверим статистическую значимость различий в среднем чеке между группами. \n",
    "\n",
    "**H0: различий в среднем чеке между группами нет.**\n",
    "\n",
    "**H1: различия в среднем чеке между группами есть.**\n",
    "\n",
    "\n",
    "Чтобы рассчитать статистическую значимость различий в среднем чеке, передадим критерию mannwhitneyu() данные о выручке с заказов. "
   ]
  },
  {
   "cell_type": "code",
   "execution_count": 39,
   "metadata": {},
   "outputs": [
    {
     "name": "stdout",
     "output_type": "stream",
     "text": [
      "p-value 0.829\n",
      "0.287\n"
     ]
    }
   ],
   "source": [
    "print('p-value ''{0:.3f}'.format(stats.mannwhitneyu(orders[orders['group']=='A']['revenue'], orders[orders['group']=='B']['revenue'])[1]))\n",
    "print('{0:.3f}'.format(orders[orders['group']=='B']['revenue'].mean()/orders[orders['group']=='A']['revenue'].mean()-1)) "
   ]
  },
  {
   "cell_type": "markdown",
   "metadata": {},
   "source": [
    "Относительная разница среднего чека двух групп в 28,7% не является статистически значимой. P-value = 0,829, что больше 0,05. Нулевая гипотеза не отвергается, в среднем чеке статистически значимых различий нет. "
   ]
  },
  {
   "cell_type": "markdown",
   "metadata": {},
   "source": [
    "<div class=\"alert alert-danger\">\n",
    "    \n",
    "  <b>Комментарий ревьюера</b>\n",
    "    \n",
    "  ❌ С одной стороны не отвергаем нулевую гипотезу, но потом говорим, что \"Относительная разница среднего чека двух групп составляет 25,9%.\". Выводы немного противоречат друг другу. Тут лучше изменить интерпретацию: наблюдаемое различие в 25.9% не является стат. значимым... и .т.д.\n",
    "\n",
    "</div>  \n",
    "<div class=\"alert alert-success\">\n",
    "  \n",
    "  <b>Комментарий ревьюера v.2</b>\n",
    "    \n",
    "  ✔️ Так вывод звучит корректней. \n",
    "    \n",
    "Тут все просто. Раз теcт показал, что нет стат значимой разницы между группами - то каково бы различие чека не было, оно не будет являться стат. значимым (у нас тут выбросы дают большое различие чеков, но их всего несколько и на общее различие среднего чека по группам они не влияют)\n",
    "</div>"
   ]
  },
  {
   "cell_type": "markdown",
   "metadata": {},
   "source": [
    "##### Посчитаем статистическую значимость различий в среднем количестве заказов на посетителя между группами по «очищенным» данным"
   ]
  },
  {
   "cell_type": "markdown",
   "metadata": {},
   "source": [
    "Примем за аномальных пользователей тех, кто совершил от 2 заказов или совершил заказ дороже 28000 рублей.\n",
    "\n",
    "**H0: различий в среднем количестве заказов между группами нет.**\n",
    "\n",
    "**H1: различия в среднем количестве заказов между группами есть.**"
   ]
  },
  {
   "cell_type": "code",
   "execution_count": 40,
   "metadata": {},
   "outputs": [
    {
     "name": "stdout",
     "output_type": "stream",
     "text": [
      "1099    148427295\n",
      "928     204675465\n",
      "33      249864742\n",
      "684     358944393\n",
      "36      366673373\n",
      "Name: visitor_id, dtype: int64\n",
      "83\n"
     ]
    }
   ],
   "source": [
    "usersWithManyOrders = pd.concat(\n",
    "    [\n",
    "        ordersByUsersA[ordersByUsersA['transactions'] > 1]['visitor_id'],\n",
    "        ordersByUsersB[ordersByUsersB['transactions'] > 1]['visitor_id'],\n",
    "    ],\n",
    "    axis=0,\n",
    ")\n",
    "\n",
    "revenue_lim = 28000\n",
    "usersWithExpensiveOrders = orders[orders['revenue'] > revenue_lim]['visitor_id']\n",
    "\n",
    "abnormalUsers = (\n",
    "    pd.concat([usersWithManyOrders, usersWithExpensiveOrders], axis=0)\n",
    "    .drop_duplicates()\n",
    "    .sort_values()\n",
    ")\n",
    "print(abnormalUsers.head(5))\n",
    "print(abnormalUsers.shape[0]) "
   ]
  },
  {
   "cell_type": "markdown",
   "metadata": {},
   "source": [
    "<div class=\"alert alert-warning\">\n",
    "    \n",
    "  <b>Комментарий ревьюера</b>\n",
    "    \n",
    "  ⚠️ Тут можно или непосредственно вычисления по 95 / 99 перцентилю, например:\n",
    "```python \n",
    "revenue_lim = np.percentile(orders['revenue'], 95)`\n",
    "```\n",
    "или задавать в качестве отдельной переменой:\n",
    "\n",
    "```python \n",
    "revenue_lim = 100000\n",
    "usersWithExpensiveOrders = orders[orders['revenue'] > revenue_lim]['visitorId']`\n",
    "```\n",
    "\n",
    "</div>"
   ]
  },
  {
   "cell_type": "markdown",
   "metadata": {},
   "source": [
    "Всего 83 аномальных пользователей. "
   ]
  },
  {
   "cell_type": "code",
   "execution_count": 41,
   "metadata": {},
   "outputs": [],
   "source": [
    "sampleAFiltered = pd.concat(\n",
    "    [\n",
    "        ordersByUsersA[\n",
    "            np.logical_not(ordersByUsersA['visitor_id'].isin(abnormalUsers))\n",
    "        ]['transactions'],\n",
    "        pd.Series(\n",
    "            0,\n",
    "            index=np.arange(\n",
    "                data['visitorsPerDateA'].sum() - len(ordersByUsersA['transactions'])\n",
    "            ),\n",
    "            name='orders',\n",
    "        ),\n",
    "    ],\n",
    "    axis=0,\n",
    ")\n",
    "\n",
    "sampleBFiltered = pd.concat(\n",
    "    [\n",
    "        ordersByUsersB[\n",
    "            np.logical_not(ordersByUsersB['visitor_id'].isin(abnormalUsers))\n",
    "        ]['transactions'],\n",
    "        pd.Series(\n",
    "            0,\n",
    "            index=np.arange(\n",
    "                data['visitorsPerDateB'].sum() - len(ordersByUsersB['transactions'])\n",
    "            ),\n",
    "            name='orders',\n",
    "        ),\n",
    "    ],\n",
    "    axis=0,\n",
    ") "
   ]
  },
  {
   "cell_type": "code",
   "execution_count": 42,
   "metadata": {},
   "outputs": [
    {
     "name": "stdout",
     "output_type": "stream",
     "text": [
      "p-value 0.012\n",
      "0.181\n"
     ]
    }
   ],
   "source": [
    "print('p-value ''{0:.3f}'.format(stats.mannwhitneyu(sampleAFiltered, sampleBFiltered)[1]))\n",
    "print('{0:.3f}'.format(sampleBFiltered.mean()/sampleAFiltered.mean()-1)) "
   ]
  },
  {
   "cell_type": "markdown",
   "metadata": {},
   "source": [
    "По «очищенным» данным p-value 0,012%, что меньше уровня значимости. Это значит, что статистически значимые различия между группами есть, нулевая гипотеза отвергается. Относительная разница между группами 18,1%"
   ]
  },
  {
   "cell_type": "markdown",
   "metadata": {},
   "source": [
    "<div class=\"alert alert-success\">\n",
    "  \n",
    "  <b>Комментарий ревьюера</b>\n",
    "    \n",
    "  ✔️ И тут отвергаем нулевую гипотезу.\n",
    "</div>"
   ]
  },
  {
   "cell_type": "markdown",
   "metadata": {},
   "source": [
    "##### Посчитаем статистическую значимость различий в среднем чеке заказа между группами по «очищенным» данным"
   ]
  },
  {
   "cell_type": "markdown",
   "metadata": {},
   "source": [
    "\n",
    "**H0: различий в среднем чеке между группами нет.**\n",
    "\n",
    "**H1: различия в среднем чеке между группами есть.**"
   ]
  },
  {
   "cell_type": "code",
   "execution_count": 43,
   "metadata": {},
   "outputs": [
    {
     "name": "stdout",
     "output_type": "stream",
     "text": [
      "p-value 0.851\n",
      "-0.006\n"
     ]
    }
   ],
   "source": [
    "print(\n",
    "    'p-value ''{0:.3f}'.format(\n",
    "        stats.mannwhitneyu(\n",
    "            orders[\n",
    "                np.logical_and(\n",
    "                    orders['group'] == 'A',\n",
    "                    np.logical_not(orders['visitor_id'].isin(abnormalUsers)),\n",
    "                )\n",
    "            ]['revenue'],\n",
    "            orders[\n",
    "                np.logical_and(\n",
    "                    orders['group'] == 'B',\n",
    "                    np.logical_not(orders['visitor_id'].isin(abnormalUsers)),\n",
    "                )\n",
    "            ]['revenue'],\n",
    "        )[1]\n",
    "    )\n",
    ")\n",
    "\n",
    "print(\n",
    "    \"{0:.3f}\".format(\n",
    "        orders[\n",
    "            np.logical_and(\n",
    "                orders['group'] == 'B',\n",
    "                np.logical_not(orders['visitor_id'].isin(abnormalUsers)),\n",
    "            )\n",
    "        ]['revenue'].mean()\n",
    "        / orders[\n",
    "            np.logical_and(\n",
    "                orders['group'] == 'A',\n",
    "                np.logical_not(orders['visitor_id'].isin(abnormalUsers)),\n",
    "            )\n",
    "        ]['revenue'].mean()\n",
    "        - 1\n",
    "    )\n",
    ") "
   ]
  },
  {
   "cell_type": "markdown",
   "metadata": {},
   "source": [
    "Наблюдаемое различие в 0,6% в среднем чеке заказа между группами по «очищенным» данным не является статистически значимым. P-value 0,851%, что больше уровня значимости. Это значит, что статистически значимых различий между группами нет, нулевая гипотеза не отвергается."
   ]
  },
  {
   "cell_type": "markdown",
   "metadata": {},
   "source": [
    "<div class=\"alert alert-warning\">\n",
    "    \n",
    "  <b>Комментарий ревьюера</b>\n",
    "    \n",
    "  ⚠️ Обрати, пожалуйста, внимание на выводы: в начале мы можем говорить о наблюдаемых различиях, а потом сказать - являются ли они стат. значимыми или нет.\n",
    "\n",
    "</div>\n",
    "<div class=\"alert alert-success\">\n",
    "  \n",
    "  <b>Комментарий ревьюера v.2</b>\n",
    "    \n",
    "  ✔️ Верно.\n",
    "</div>"
   ]
  },
  {
   "cell_type": "markdown",
   "metadata": {},
   "source": [
    "##### Результаты теста"
   ]
  },
  {
   "cell_type": "markdown",
   "metadata": {},
   "source": [
    "Исходя из полученных результатов, тест следует остановить и установить победу группы В. \n",
    "\n",
    "Конверсия группы В больше, чем в группе А как до, так и после очистки данных. Разница в данных группах является статистически значимой, что дает нам возможность зафиксировать победу группы В"
   ]
  },
  {
   "cell_type": "markdown",
   "metadata": {},
   "source": [
    "#### Общий вывод"
   ]
  },
  {
   "cell_type": "markdown",
   "metadata": {},
   "source": [
    "Мы провели A/B-тест интернет-магазина, целью исследования было приоритизировать гипотезы, запустить A/B-тест и проанализировать результаты.\n",
    "\n",
    "**Этапы исследования и выводы:**\n",
    "\n",
    "**1. Загрузка данных**\n",
    "\n",
    "Мы загрузили данные из 3 таблиц, включающих в себя информацию по гипотезам, заказам и пользователям. Всего представлена информация по 9 гипотезам, 1016 заказам, 973 пользователям, которые совершили заказ. Из данных были исключены 58 пользователей, которые попали в обе группы теста. В данных нет пропущенных значений и дубликатов. Было обнаружено, что необходимо привести столбцы с датами к нужному формату, а также названия столбцов привести к единому стилю.\n",
    "\n",
    "**2. Предобработка данных**\n",
    "\n",
    "Мы провели предобработку данных, приведя столбцы с датой к нужному типу данных и переименовав названия столбцов\n",
    "\n",
    "\n",
    "**3. Приоритизация гипотез**\n",
    "\n",
    "Мы приоритизировали 9 гипотез и применили к ним 2 фреймворка: ICE и RICE. Наиболее приоритетные гипотезы по ICE: 8, 0, 7.\n",
    "Самая приоритетная (8) - запустить акцию, дающую скидку на товар в день рождения и (0) - добавить два новых канала привлечения трафика, что позволит привлекать на 30% больше пользователей. По RICE наиболее приоритетные гипотезы : 7, 2, 0, 6.\n",
    "Наиболее приоритетная (7) - добавить форму подписки на все основные страницы, чтобы собрать базу клиентов для email-рассылок и (2) - добавить блоки рекомендаций товаров на сайт интернет магазина, чтобы повысить конверсию и средний чек заказа.\n",
    "\n",
    "Приоритизация гипотез меняется при применении каждого фреймворка, так как при использовании RICE мы учитываем охват изменений, в отличие от ICE, что является важным критерием при оценке гипотезы. Таким образом гипотеза 8 при оценке RICE получила гораздо меньший приоритет, так как ее показатель reach всего 1, что подразумевает маленький охват.\n",
    "\n",
    "Наиболее приоритетными можно назвать гипотезы 7 и 0. При применении каждого фреймворка эти гипотезы имеют высокие показатели.\n",
    "\n",
    "- Добавить форму подписки на все основные страницы, чтобы собрать базу клиентов для email-рассылок\n",
    "- Добавить два новых канала привлечения трафика, что позволит привлекать на 30% больше пользователей\n",
    "\n",
    "\n",
    "**4. Анализ A/B-теста**\n",
    "\n",
    "Для анализа A/B-теста мы подготовили данные и сформировали единый датафрейм.\n",
    "\n",
    "\n",
    "- Исходя из графика кумулятивной выручки мы увидели, что у группы В выручка больше, чем у группы А на протяжении почти всего периода. Заметно резкое увеличение показателей 18 числа, которое увеличило разрыв еще больше. При этом на графике кумулятивного среднего чека было обнаружено, что в группе В средний чек почти все время выше, чем в группе А. Исключение только составляет период с 12 по 15 число, где группа А преобладает. С 18 числа наблюдается скачкообразный рост в группе В, который потом идет на спад.\n",
    "\n",
    "- График относительного изменения кумулятивного среднего чека показал резкие различия группы B к группе A. 18 числа наблюдается резкий скачок, который потом пошел на спад\n",
    "\n",
    "- По графику кумулятивного среднего количества заказов на посетителя по группам мы увидели, что среднее количество заказов группы В выше, чем у группы А на протяжении почти всего периода. А график относительного изменения кумулятивного среднего количества заказов на посетителя показал, что группа B имеет лучшие показатели конверсии, чем группа А.\n",
    "\n",
    "- На точечном графике количества заказов по пользователям мы увидели, что в обеих группах большинство пользователей совершает не больше 1 заказа. Остальные случаи довольно редкие. При этом 95-й и 99-й перцентили количества заказов на пользователя показали, что не более 5% пользователей из группы А оформляли больше чем 1 заказ. Только 1% заказывал больше 2 раз. В группе В результаты аналогичные. Мы выбрали 2 заказа и более на одного пользователя за верхнюю границу числа заказов и решили отсеять аномальных пользователей по ней.\n",
    "\n",
    "- Точечный график стоимостей заказов показал, что в обеих группах большинство пользователей совершает заказ, сумма которого не превышает 20000 рублей. Не более 5% пользователей из группы А оформляли заказ на сумму более 24944 рублей. Только 1% имеет заказы стоимостью более 56064 рублей. В группе В не более 5% пользователей оформляли заказ на сумму более 27561 рублей. Только 1% имеет заказы стоимостью более 49553 рублей. Мы выбрали заказы стоимостью от 28000 рублей за верхнюю границу нормы.\n",
    "\n",
    "- Мы посчитали статистическую значимость различий в среднем количестве заказов на посетителя между группами по «сырым» данным — без удаления аномальных пользователей. По «сырым» данным p-value = 0,011, что меньше 0,05. Нулевая гипотеза о том, что статистически значимых различий в среднем числе заказов между группами нет, была отвергнута. Относительная разница между группами составила 16%. При этом по «очищенным» данным p-value 0,012%, что меньше уровня значимости. Это значит, что статистически значимые различия между группами есть, нулевая гипотеза также была отвергнута. Относительная разница между группами составила 18,1%.\n",
    "\n",
    "- Также была посчитана статистическая значимость различий в среднем чеке заказа между группами по «сырым» данным. P-value оказалась больше 0,05. Нулевая гипотеза не была отвергнута, в среднем чеке статистически значимых различий нет. Относительная разница среднего чека двух групп составила 28,7%. Также была посчитана статистическую значимость различий по «очищенным» данным, которая показала p-value равную 0,851%, что больше уровня значимости. Это также значит, что статистически значимых различий между группами нет, нулевая гипотеза не была отвергнута.\n",
    "\n",
    "Исходя из полученных результатов мы установили, что тест следует остановить и установить победу группы В. Конверсия группы В больше, чем в группе А как до, так и после очистки данных. Разница в данных группах является статистически значимой, что дает нам возможность зафиксировать победу группы В"
   ]
  },
  {
   "cell_type": "markdown",
   "metadata": {},
   "source": [
    "<div class=\"alert alert-success\">\n",
    "  \n",
    "  <b>Комментарий ревьюера</b>\n",
    "    \n",
    "  ✔️  Тест окрасился только на половину - по `количеству заказов`. Но это тоже хорошо, т.к. стат.значимой разницы по среднему чеку нет (чек не увеличился, но и не уменьшился) то при возросшем количестве заказов с сохранившимся средним чеком выручка будет так-же расти. И значит мы заканчиваем анализ A/B-теста - он оказался успешным! \n",
    "\n",
    "</div>"
   ]
  },
  {
   "cell_type": "markdown",
   "metadata": {},
   "source": [
    "<div style=\"border:solid black 2px; padding: 20px\">\n",
    "  \n",
    "    \n",
    "  <b>Чек-лист доработок</b>\n",
    "    \n",
    " \n",
    "  📃 Сократить все выводы датафреймов до 5 строк, этого достаточно для беглого ознакомления с данными.\n",
    " \n",
    "  📃 Проверить корректность разбиения пользователей на группы.\n",
    "    \n",
    "  📃 Пересмотреть выбросы по количеству и стоимости заказов.\n",
    "  \n",
    "  📃 Проверить выводы теста среднего чека по сырым и очищенным данным.\n",
    "    \n",
    "\n",
    "      \n",
    "Жду твой проект на повторное ревью. Не стесняйся оставлять комментарии и задавать вопросы. Удачи! Все получится.\n",
    "</div>"
   ]
  },
  {
   "cell_type": "markdown",
   "metadata": {},
   "source": [
    "<div class=\"alert alert-info\"> <b>Спасибо большое за комментарии и рекомендации:)</div>"
   ]
  },
  {
   "cell_type": "markdown",
   "metadata": {},
   "source": [
    "<div class=\"alert alert-success\">\n",
    "  \n",
    "  <b>Комментарий ревьюера v.2</b>\n",
    "    \n",
    "  ✔️ Пожалуйста. 🙂 \n",
    "</div>"
   ]
  }
 ],
 "metadata": {
  "ExecuteTimeLog": [
   {
    "duration": 778,
    "start_time": "2024-11-10T14:52:51.268Z"
   },
   {
    "duration": 238,
    "start_time": "2024-11-10T17:08:21.869Z"
   },
   {
    "duration": 14,
    "start_time": "2024-11-10T17:09:06.719Z"
   },
   {
    "duration": 11,
    "start_time": "2024-11-10T17:09:47.857Z"
   },
   {
    "duration": 2,
    "start_time": "2024-11-10T17:11:39.720Z"
   },
   {
    "duration": 7,
    "start_time": "2024-11-10T17:11:40.928Z"
   },
   {
    "duration": 2,
    "start_time": "2024-11-10T17:12:12.693Z"
   },
   {
    "duration": 9,
    "start_time": "2024-11-10T17:12:13.657Z"
   },
   {
    "duration": 80,
    "start_time": "2024-11-10T17:12:24.024Z"
   },
   {
    "duration": 10,
    "start_time": "2024-11-10T17:12:29.209Z"
   },
   {
    "duration": 3,
    "start_time": "2024-11-10T17:12:36.610Z"
   },
   {
    "duration": 3,
    "start_time": "2024-11-10T17:12:46.218Z"
   },
   {
    "duration": 8,
    "start_time": "2024-11-10T17:12:48.860Z"
   },
   {
    "duration": 3,
    "start_time": "2024-11-10T17:13:00.809Z"
   },
   {
    "duration": 8,
    "start_time": "2024-11-10T17:13:05.313Z"
   },
   {
    "duration": 3,
    "start_time": "2024-11-10T17:13:26.467Z"
   },
   {
    "duration": 9,
    "start_time": "2024-11-10T17:13:27.922Z"
   },
   {
    "duration": 5,
    "start_time": "2024-11-10T17:14:25.509Z"
   },
   {
    "duration": 49,
    "start_time": "2024-11-10T17:15:18.681Z"
   },
   {
    "duration": 12,
    "start_time": "2024-11-10T17:15:28.651Z"
   },
   {
    "duration": 10,
    "start_time": "2024-11-10T17:15:38.738Z"
   },
   {
    "duration": 6,
    "start_time": "2024-11-10T17:23:51.241Z"
   },
   {
    "duration": 6,
    "start_time": "2024-11-10T17:24:46.544Z"
   },
   {
    "duration": 5,
    "start_time": "2024-11-10T17:25:27.409Z"
   },
   {
    "duration": 4,
    "start_time": "2024-11-10T17:25:32.530Z"
   },
   {
    "duration": 4,
    "start_time": "2024-11-10T17:25:39.655Z"
   },
   {
    "duration": 5,
    "start_time": "2024-11-10T17:25:56.616Z"
   },
   {
    "duration": 11,
    "start_time": "2024-11-10T17:26:02.006Z"
   },
   {
    "duration": 4,
    "start_time": "2024-11-10T17:26:14.306Z"
   },
   {
    "duration": 4,
    "start_time": "2024-11-10T17:26:37.890Z"
   },
   {
    "duration": 11,
    "start_time": "2024-11-10T18:00:54.715Z"
   },
   {
    "duration": 6,
    "start_time": "2024-11-10T18:01:01.580Z"
   },
   {
    "duration": 15,
    "start_time": "2024-11-10T18:21:47.289Z"
   },
   {
    "duration": 11,
    "start_time": "2024-11-10T18:21:55.125Z"
   },
   {
    "duration": 4,
    "start_time": "2024-11-10T18:22:54.010Z"
   },
   {
    "duration": 4,
    "start_time": "2024-11-10T18:24:05.638Z"
   },
   {
    "duration": 10,
    "start_time": "2024-11-10T18:26:40.484Z"
   },
   {
    "duration": 10,
    "start_time": "2024-11-10T18:26:48.458Z"
   },
   {
    "duration": 5,
    "start_time": "2024-11-10T18:27:16.565Z"
   },
   {
    "duration": 1001,
    "start_time": "2024-11-10T18:32:50.435Z"
   },
   {
    "duration": 5,
    "start_time": "2024-11-10T18:33:03.898Z"
   },
   {
    "duration": 10,
    "start_time": "2024-11-10T18:33:10.829Z"
   },
   {
    "duration": 9,
    "start_time": "2024-11-10T18:33:17.206Z"
   },
   {
    "duration": 11,
    "start_time": "2024-11-10T18:33:22.817Z"
   },
   {
    "duration": 9,
    "start_time": "2024-11-10T18:33:26.424Z"
   },
   {
    "duration": 7,
    "start_time": "2024-11-10T18:34:06.972Z"
   },
   {
    "duration": 3,
    "start_time": "2024-11-10T18:36:54.404Z"
   },
   {
    "duration": 8,
    "start_time": "2024-11-10T18:36:59.194Z"
   },
   {
    "duration": 8,
    "start_time": "2024-11-10T18:37:13.996Z"
   },
   {
    "duration": 8,
    "start_time": "2024-11-10T18:38:16.132Z"
   },
   {
    "duration": 4,
    "start_time": "2024-11-10T18:38:27.215Z"
   },
   {
    "duration": 7,
    "start_time": "2024-11-10T18:38:35.313Z"
   },
   {
    "duration": 8,
    "start_time": "2024-11-10T18:38:54.218Z"
   },
   {
    "duration": 11,
    "start_time": "2024-11-10T18:39:39.272Z"
   },
   {
    "duration": 12,
    "start_time": "2024-11-10T18:40:50.995Z"
   },
   {
    "duration": 10,
    "start_time": "2024-11-10T18:47:01.770Z"
   },
   {
    "duration": 11,
    "start_time": "2024-11-10T18:48:07.567Z"
   },
   {
    "duration": 4,
    "start_time": "2024-11-10T18:51:03.642Z"
   },
   {
    "duration": 12,
    "start_time": "2024-11-10T18:51:09.059Z"
   },
   {
    "duration": 8,
    "start_time": "2024-11-10T18:51:21.341Z"
   },
   {
    "duration": 8,
    "start_time": "2024-11-10T18:51:25.729Z"
   },
   {
    "duration": 8,
    "start_time": "2024-11-10T18:51:30.102Z"
   },
   {
    "duration": 5,
    "start_time": "2024-11-10T18:52:07.975Z"
   },
   {
    "duration": 2,
    "start_time": "2024-11-10T18:54:26.300Z"
   },
   {
    "duration": 8,
    "start_time": "2024-11-10T18:55:16.243Z"
   },
   {
    "duration": 96,
    "start_time": "2024-11-10T19:15:04.217Z"
   },
   {
    "duration": 110,
    "start_time": "2024-11-10T19:16:00.379Z"
   },
   {
    "duration": 92,
    "start_time": "2024-11-10T19:16:32.005Z"
   },
   {
    "duration": 3,
    "start_time": "2024-11-10T19:17:43.645Z"
   },
   {
    "duration": 8,
    "start_time": "2024-11-10T19:17:43.650Z"
   },
   {
    "duration": 82,
    "start_time": "2024-11-10T19:17:43.660Z"
   },
   {
    "duration": 8,
    "start_time": "2024-11-10T19:17:43.743Z"
   },
   {
    "duration": 8,
    "start_time": "2024-11-10T19:17:43.753Z"
   },
   {
    "duration": 11,
    "start_time": "2024-11-10T19:17:43.763Z"
   },
   {
    "duration": 8,
    "start_time": "2024-11-10T19:17:43.775Z"
   },
   {
    "duration": 5,
    "start_time": "2024-11-10T19:17:43.785Z"
   },
   {
    "duration": 3,
    "start_time": "2024-11-10T19:17:43.791Z"
   },
   {
    "duration": 4,
    "start_time": "2024-11-10T19:17:43.795Z"
   },
   {
    "duration": 22,
    "start_time": "2024-11-10T19:17:43.800Z"
   },
   {
    "duration": 10,
    "start_time": "2024-11-10T19:17:43.824Z"
   },
   {
    "duration": 9,
    "start_time": "2024-11-10T19:17:43.836Z"
   },
   {
    "duration": 4,
    "start_time": "2024-11-10T19:17:43.847Z"
   },
   {
    "duration": 5,
    "start_time": "2024-11-10T19:17:43.852Z"
   },
   {
    "duration": 5,
    "start_time": "2024-11-10T19:17:43.858Z"
   },
   {
    "duration": 8,
    "start_time": "2024-11-10T19:17:43.864Z"
   },
   {
    "duration": 10,
    "start_time": "2024-11-10T19:17:43.873Z"
   },
   {
    "duration": 40,
    "start_time": "2024-11-10T19:17:43.885Z"
   },
   {
    "duration": 19,
    "start_time": "2024-11-10T19:17:43.927Z"
   },
   {
    "duration": 99,
    "start_time": "2024-11-10T19:17:43.948Z"
   },
   {
    "duration": 11,
    "start_time": "2024-11-10T19:19:37.743Z"
   },
   {
    "duration": 11,
    "start_time": "2024-11-10T19:19:45.964Z"
   },
   {
    "duration": 206,
    "start_time": "2024-11-10T19:21:07.315Z"
   },
   {
    "duration": 14,
    "start_time": "2024-11-10T19:21:30.306Z"
   },
   {
    "duration": 3,
    "start_time": "2024-11-10T19:22:08.302Z"
   },
   {
    "duration": 14,
    "start_time": "2024-11-10T19:22:11.796Z"
   },
   {
    "duration": 403,
    "start_time": "2024-11-10T21:17:26.288Z"
   },
   {
    "duration": 211,
    "start_time": "2024-11-10T21:21:32.759Z"
   },
   {
    "duration": 111,
    "start_time": "2024-11-10T21:21:57.388Z"
   },
   {
    "duration": 130,
    "start_time": "2024-11-10T21:22:02.900Z"
   },
   {
    "duration": 312,
    "start_time": "2024-11-10T21:23:23.624Z"
   },
   {
    "duration": 180,
    "start_time": "2024-11-10T21:23:33.757Z"
   },
   {
    "duration": 180,
    "start_time": "2024-11-10T21:23:49.566Z"
   },
   {
    "duration": 202,
    "start_time": "2024-11-10T21:24:02.961Z"
   },
   {
    "duration": 133,
    "start_time": "2024-11-10T21:24:09.109Z"
   },
   {
    "duration": 188,
    "start_time": "2024-11-10T21:24:14.493Z"
   },
   {
    "duration": 195,
    "start_time": "2024-11-10T21:25:49.544Z"
   },
   {
    "duration": 204,
    "start_time": "2024-11-10T21:26:00.205Z"
   },
   {
    "duration": 1255,
    "start_time": "2024-11-11T20:39:52.664Z"
   },
   {
    "duration": 4,
    "start_time": "2024-11-11T20:39:53.921Z"
   },
   {
    "duration": 357,
    "start_time": "2024-11-11T20:39:53.926Z"
   },
   {
    "duration": 12,
    "start_time": "2024-11-11T20:39:54.284Z"
   },
   {
    "duration": 11,
    "start_time": "2024-11-11T20:39:54.298Z"
   },
   {
    "duration": 13,
    "start_time": "2024-11-11T20:39:54.311Z"
   },
   {
    "duration": 11,
    "start_time": "2024-11-11T20:39:54.326Z"
   },
   {
    "duration": 18,
    "start_time": "2024-11-11T20:39:54.338Z"
   },
   {
    "duration": 82,
    "start_time": "2024-11-11T20:39:54.358Z"
   },
   {
    "duration": 16,
    "start_time": "2024-11-11T20:39:54.442Z"
   },
   {
    "duration": 7,
    "start_time": "2024-11-11T20:39:54.460Z"
   },
   {
    "duration": 12,
    "start_time": "2024-11-11T20:39:54.468Z"
   },
   {
    "duration": 13,
    "start_time": "2024-11-11T20:39:54.481Z"
   },
   {
    "duration": 18,
    "start_time": "2024-11-11T20:39:54.497Z"
   },
   {
    "duration": 30,
    "start_time": "2024-11-11T20:39:54.517Z"
   },
   {
    "duration": 19,
    "start_time": "2024-11-11T20:39:54.549Z"
   },
   {
    "duration": 20,
    "start_time": "2024-11-11T20:39:54.569Z"
   },
   {
    "duration": 13,
    "start_time": "2024-11-11T20:39:54.591Z"
   },
   {
    "duration": 10,
    "start_time": "2024-11-11T20:39:54.606Z"
   },
   {
    "duration": 16,
    "start_time": "2024-11-11T20:39:54.618Z"
   },
   {
    "duration": 255,
    "start_time": "2024-11-11T20:39:54.635Z"
   },
   {
    "duration": 15,
    "start_time": "2024-11-11T20:39:54.892Z"
   },
   {
    "duration": 275,
    "start_time": "2024-11-11T20:39:54.909Z"
   },
   {
    "duration": 234,
    "start_time": "2024-11-11T20:39:55.185Z"
   },
   {
    "duration": 147,
    "start_time": "2024-11-11T20:50:04.713Z"
   },
   {
    "duration": 17,
    "start_time": "2024-11-11T20:50:25.521Z"
   },
   {
    "duration": 17,
    "start_time": "2024-11-11T20:50:34.958Z"
   },
   {
    "duration": 437,
    "start_time": "2024-11-11T20:51:23.121Z"
   },
   {
    "duration": 297,
    "start_time": "2024-11-11T20:52:49.608Z"
   },
   {
    "duration": 285,
    "start_time": "2024-11-11T20:52:59.595Z"
   },
   {
    "duration": 401,
    "start_time": "2024-11-11T20:55:02.686Z"
   },
   {
    "duration": 304,
    "start_time": "2024-11-11T20:55:18.851Z"
   },
   {
    "duration": 171,
    "start_time": "2024-11-11T20:55:48.713Z"
   },
   {
    "duration": 253,
    "start_time": "2024-11-11T20:55:59.337Z"
   },
   {
    "duration": 289,
    "start_time": "2024-11-11T20:56:03.890Z"
   },
   {
    "duration": 170,
    "start_time": "2024-11-11T20:57:18.723Z"
   },
   {
    "duration": 311,
    "start_time": "2024-11-11T20:57:46.244Z"
   },
   {
    "duration": 320,
    "start_time": "2024-11-11T20:57:52.435Z"
   },
   {
    "duration": 313,
    "start_time": "2024-11-11T20:57:58.143Z"
   },
   {
    "duration": 332,
    "start_time": "2024-11-11T20:58:27.845Z"
   },
   {
    "duration": 240,
    "start_time": "2024-11-11T20:58:33.972Z"
   },
   {
    "duration": 341,
    "start_time": "2024-11-11T21:00:01.858Z"
   },
   {
    "duration": 283,
    "start_time": "2024-11-11T21:07:58.733Z"
   },
   {
    "duration": 372,
    "start_time": "2024-11-11T21:12:58.563Z"
   },
   {
    "duration": 347,
    "start_time": "2024-11-11T21:14:24.099Z"
   },
   {
    "duration": 48,
    "start_time": "2024-11-12T17:23:39.069Z"
   },
   {
    "duration": 1247,
    "start_time": "2024-11-12T17:23:41.838Z"
   },
   {
    "duration": 4,
    "start_time": "2024-11-12T17:23:43.088Z"
   },
   {
    "duration": 264,
    "start_time": "2024-11-12T17:23:43.093Z"
   },
   {
    "duration": 12,
    "start_time": "2024-11-12T17:23:43.358Z"
   },
   {
    "duration": 26,
    "start_time": "2024-11-12T17:23:43.372Z"
   },
   {
    "duration": 16,
    "start_time": "2024-11-12T17:23:43.400Z"
   },
   {
    "duration": 10,
    "start_time": "2024-11-12T17:23:43.418Z"
   },
   {
    "duration": 6,
    "start_time": "2024-11-12T17:23:43.429Z"
   },
   {
    "duration": 5,
    "start_time": "2024-11-12T17:23:43.437Z"
   },
   {
    "duration": 4,
    "start_time": "2024-11-12T17:23:43.443Z"
   },
   {
    "duration": 18,
    "start_time": "2024-11-12T17:23:43.449Z"
   },
   {
    "duration": 11,
    "start_time": "2024-11-12T17:23:43.477Z"
   },
   {
    "duration": 14,
    "start_time": "2024-11-12T17:23:43.489Z"
   },
   {
    "duration": 4,
    "start_time": "2024-11-12T17:23:43.507Z"
   },
   {
    "duration": 6,
    "start_time": "2024-11-12T17:23:43.512Z"
   },
   {
    "duration": 7,
    "start_time": "2024-11-12T17:23:43.520Z"
   },
   {
    "duration": 10,
    "start_time": "2024-11-12T17:23:43.528Z"
   },
   {
    "duration": 48,
    "start_time": "2024-11-12T17:23:43.540Z"
   },
   {
    "duration": 17,
    "start_time": "2024-11-12T17:23:43.589Z"
   },
   {
    "duration": 9,
    "start_time": "2024-11-12T17:23:43.608Z"
   },
   {
    "duration": 258,
    "start_time": "2024-11-12T17:23:43.618Z"
   },
   {
    "duration": 255,
    "start_time": "2024-11-12T17:23:43.877Z"
   },
   {
    "duration": 236,
    "start_time": "2024-11-12T17:23:44.134Z"
   },
   {
    "duration": 413,
    "start_time": "2024-11-12T17:23:44.372Z"
   },
   {
    "duration": 254,
    "start_time": "2024-11-12T17:23:44.786Z"
   },
   {
    "duration": 248,
    "start_time": "2024-11-12T17:23:45.041Z"
   },
   {
    "duration": 12,
    "start_time": "2024-11-12T17:23:45.291Z"
   },
   {
    "duration": 1049,
    "start_time": "2024-11-12T17:25:08.998Z"
   },
   {
    "duration": 9,
    "start_time": "2024-11-12T17:25:21.430Z"
   },
   {
    "duration": 245,
    "start_time": "2024-11-12T17:26:16.522Z"
   },
   {
    "duration": 17,
    "start_time": "2024-11-12T17:26:38.220Z"
   },
   {
    "duration": 9,
    "start_time": "2024-11-12T17:26:41.453Z"
   },
   {
    "duration": 4,
    "start_time": "2024-11-12T17:27:16.315Z"
   },
   {
    "duration": 13,
    "start_time": "2024-11-12T17:27:53.554Z"
   },
   {
    "duration": 4,
    "start_time": "2024-11-12T17:28:07.581Z"
   },
   {
    "duration": 8,
    "start_time": "2024-11-12T17:30:04.944Z"
   },
   {
    "duration": 119,
    "start_time": "2024-11-12T17:31:48.243Z"
   },
   {
    "duration": 127,
    "start_time": "2024-11-12T17:32:32.626Z"
   },
   {
    "duration": 181,
    "start_time": "2024-11-12T17:34:05.402Z"
   },
   {
    "duration": 226,
    "start_time": "2024-11-12T17:35:00.506Z"
   },
   {
    "duration": 301,
    "start_time": "2024-11-12T17:35:06.518Z"
   },
   {
    "duration": 229,
    "start_time": "2024-11-12T17:35:14.415Z"
   },
   {
    "duration": 215,
    "start_time": "2024-11-12T17:35:19.306Z"
   },
   {
    "duration": 208,
    "start_time": "2024-11-12T17:35:24.301Z"
   },
   {
    "duration": 234,
    "start_time": "2024-11-12T17:35:32.268Z"
   },
   {
    "duration": 213,
    "start_time": "2024-11-12T17:35:42.550Z"
   },
   {
    "duration": 221,
    "start_time": "2024-11-12T17:37:16.517Z"
   },
   {
    "duration": 245,
    "start_time": "2024-11-12T17:39:09.844Z"
   },
   {
    "duration": 5,
    "start_time": "2024-11-12T17:42:37.377Z"
   },
   {
    "duration": 6,
    "start_time": "2024-11-12T17:42:45.089Z"
   },
   {
    "duration": 12,
    "start_time": "2024-11-12T17:49:34.510Z"
   },
   {
    "duration": 7,
    "start_time": "2024-11-12T17:50:39.952Z"
   },
   {
    "duration": 11,
    "start_time": "2024-11-12T18:06:52.461Z"
   },
   {
    "duration": 5,
    "start_time": "2024-11-12T18:07:15.631Z"
   },
   {
    "duration": 256,
    "start_time": "2024-11-12T18:07:17.478Z"
   },
   {
    "duration": 5,
    "start_time": "2024-11-12T18:18:37.249Z"
   },
   {
    "duration": 5,
    "start_time": "2024-11-12T18:18:39.064Z"
   },
   {
    "duration": 31,
    "start_time": "2024-11-12T18:39:38.371Z"
   },
   {
    "duration": 11,
    "start_time": "2024-11-12T20:48:13.018Z"
   },
   {
    "duration": 10,
    "start_time": "2024-11-12T21:03:33.642Z"
   },
   {
    "duration": 2014,
    "start_time": "2024-11-12T21:04:57.958Z"
   },
   {
    "duration": 8,
    "start_time": "2024-11-12T21:05:16.472Z"
   },
   {
    "duration": 26,
    "start_time": "2024-11-12T21:05:20.322Z"
   },
   {
    "duration": 14,
    "start_time": "2024-11-12T21:16:40.215Z"
   },
   {
    "duration": 1291,
    "start_time": "2024-11-16T12:29:42.555Z"
   },
   {
    "duration": 3,
    "start_time": "2024-11-16T12:29:43.849Z"
   },
   {
    "duration": 288,
    "start_time": "2024-11-16T12:29:43.853Z"
   },
   {
    "duration": 11,
    "start_time": "2024-11-16T12:29:44.143Z"
   },
   {
    "duration": 10,
    "start_time": "2024-11-16T12:29:44.156Z"
   },
   {
    "duration": 15,
    "start_time": "2024-11-16T12:29:44.168Z"
   },
   {
    "duration": 12,
    "start_time": "2024-11-16T12:29:44.184Z"
   },
   {
    "duration": 7,
    "start_time": "2024-11-16T12:29:44.198Z"
   },
   {
    "duration": 4,
    "start_time": "2024-11-16T12:29:44.207Z"
   },
   {
    "duration": 4,
    "start_time": "2024-11-16T12:29:44.215Z"
   },
   {
    "duration": 7,
    "start_time": "2024-11-16T12:29:44.221Z"
   },
   {
    "duration": 11,
    "start_time": "2024-11-16T12:29:44.229Z"
   },
   {
    "duration": 12,
    "start_time": "2024-11-16T12:29:44.242Z"
   },
   {
    "duration": 45,
    "start_time": "2024-11-16T12:29:44.255Z"
   },
   {
    "duration": 18,
    "start_time": "2024-11-16T12:29:44.302Z"
   },
   {
    "duration": 7,
    "start_time": "2024-11-16T12:29:44.322Z"
   },
   {
    "duration": 24,
    "start_time": "2024-11-16T12:29:44.330Z"
   },
   {
    "duration": 15,
    "start_time": "2024-11-16T12:29:44.356Z"
   },
   {
    "duration": 9,
    "start_time": "2024-11-16T12:29:44.373Z"
   },
   {
    "duration": 20,
    "start_time": "2024-11-16T12:29:44.384Z"
   },
   {
    "duration": 241,
    "start_time": "2024-11-16T12:29:44.405Z"
   },
   {
    "duration": 260,
    "start_time": "2024-11-16T12:29:44.648Z"
   },
   {
    "duration": 240,
    "start_time": "2024-11-16T12:29:44.910Z"
   },
   {
    "duration": 420,
    "start_time": "2024-11-16T12:29:45.152Z"
   },
   {
    "duration": 274,
    "start_time": "2024-11-16T12:29:45.574Z"
   },
   {
    "duration": 282,
    "start_time": "2024-11-16T12:29:45.850Z"
   },
   {
    "duration": 13,
    "start_time": "2024-11-16T12:29:46.134Z"
   },
   {
    "duration": 14,
    "start_time": "2024-11-16T12:29:46.151Z"
   },
   {
    "duration": 307,
    "start_time": "2024-11-16T12:29:46.166Z"
   },
   {
    "duration": 5,
    "start_time": "2024-11-16T12:29:46.475Z"
   },
   {
    "duration": 5,
    "start_time": "2024-11-16T12:29:46.481Z"
   },
   {
    "duration": 5,
    "start_time": "2024-11-16T12:29:46.498Z"
   },
   {
    "duration": 299,
    "start_time": "2024-11-16T12:29:46.504Z"
   },
   {
    "duration": 5,
    "start_time": "2024-11-16T12:29:46.804Z"
   },
   {
    "duration": 10,
    "start_time": "2024-11-16T12:29:46.811Z"
   },
   {
    "duration": 30,
    "start_time": "2024-11-16T12:29:46.823Z"
   },
   {
    "duration": 11,
    "start_time": "2024-11-16T12:29:46.854Z"
   },
   {
    "duration": 10,
    "start_time": "2024-11-16T12:29:46.898Z"
   },
   {
    "duration": 9,
    "start_time": "2024-11-16T12:29:46.909Z"
   },
   {
    "duration": 30,
    "start_time": "2024-11-16T12:29:46.919Z"
   },
   {
    "duration": 47,
    "start_time": "2024-11-16T12:29:46.951Z"
   },
   {
    "duration": 1284,
    "start_time": "2024-11-16T12:45:35.944Z"
   },
   {
    "duration": 4,
    "start_time": "2024-11-16T12:45:37.230Z"
   },
   {
    "duration": 320,
    "start_time": "2024-11-16T12:45:37.235Z"
   },
   {
    "duration": 18,
    "start_time": "2024-11-16T12:45:37.557Z"
   },
   {
    "duration": 19,
    "start_time": "2024-11-16T12:45:37.578Z"
   },
   {
    "duration": 13,
    "start_time": "2024-11-16T12:45:37.598Z"
   },
   {
    "duration": 12,
    "start_time": "2024-11-16T12:45:37.612Z"
   },
   {
    "duration": 5,
    "start_time": "2024-11-16T12:45:37.626Z"
   },
   {
    "duration": 34,
    "start_time": "2024-11-16T12:45:37.633Z"
   },
   {
    "duration": 5,
    "start_time": "2024-11-16T12:45:37.668Z"
   },
   {
    "duration": 6,
    "start_time": "2024-11-16T12:45:37.676Z"
   },
   {
    "duration": 11,
    "start_time": "2024-11-16T12:45:37.688Z"
   },
   {
    "duration": 12,
    "start_time": "2024-11-16T12:45:37.700Z"
   },
   {
    "duration": 4,
    "start_time": "2024-11-16T12:45:37.715Z"
   },
   {
    "duration": 5,
    "start_time": "2024-11-16T12:45:37.720Z"
   },
   {
    "duration": 47,
    "start_time": "2024-11-16T12:45:37.726Z"
   },
   {
    "duration": 14,
    "start_time": "2024-11-16T12:45:37.777Z"
   },
   {
    "duration": 17,
    "start_time": "2024-11-16T12:45:37.792Z"
   },
   {
    "duration": 10,
    "start_time": "2024-11-16T12:45:37.811Z"
   },
   {
    "duration": 8,
    "start_time": "2024-11-16T12:45:37.823Z"
   },
   {
    "duration": 296,
    "start_time": "2024-11-16T12:45:37.834Z"
   },
   {
    "duration": 279,
    "start_time": "2024-11-16T12:45:38.140Z"
   },
   {
    "duration": 248,
    "start_time": "2024-11-16T12:45:38.421Z"
   },
   {
    "duration": 379,
    "start_time": "2024-11-16T12:45:38.672Z"
   },
   {
    "duration": 263,
    "start_time": "2024-11-16T12:45:39.052Z"
   },
   {
    "duration": 271,
    "start_time": "2024-11-16T12:45:39.317Z"
   },
   {
    "duration": 13,
    "start_time": "2024-11-16T12:45:39.590Z"
   },
   {
    "duration": 12,
    "start_time": "2024-11-16T12:45:39.604Z"
   },
   {
    "duration": 332,
    "start_time": "2024-11-16T12:45:39.617Z"
   },
   {
    "duration": 5,
    "start_time": "2024-11-16T12:45:39.950Z"
   },
   {
    "duration": 12,
    "start_time": "2024-11-16T12:45:39.957Z"
   },
   {
    "duration": 7,
    "start_time": "2024-11-16T12:45:39.971Z"
   },
   {
    "duration": 330,
    "start_time": "2024-11-16T12:45:39.980Z"
   },
   {
    "duration": 5,
    "start_time": "2024-11-16T12:45:40.312Z"
   },
   {
    "duration": 5,
    "start_time": "2024-11-16T12:45:40.319Z"
   },
   {
    "duration": 46,
    "start_time": "2024-11-16T12:45:40.325Z"
   },
   {
    "duration": 12,
    "start_time": "2024-11-16T12:45:40.373Z"
   },
   {
    "duration": 9,
    "start_time": "2024-11-16T12:45:40.388Z"
   },
   {
    "duration": 8,
    "start_time": "2024-11-16T12:45:40.399Z"
   },
   {
    "duration": 94,
    "start_time": "2024-11-16T12:45:40.408Z"
   },
   {
    "duration": 13,
    "start_time": "2024-11-16T12:45:40.505Z"
   },
   {
    "duration": 1148,
    "start_time": "2024-11-19T16:59:09.505Z"
   },
   {
    "duration": 3,
    "start_time": "2024-11-19T16:59:10.655Z"
   },
   {
    "duration": 273,
    "start_time": "2024-11-19T16:59:12.505Z"
   },
   {
    "duration": 88,
    "start_time": "2024-11-19T17:06:17.944Z"
   },
   {
    "duration": 905,
    "start_time": "2024-11-19T17:06:31.977Z"
   },
   {
    "duration": 8,
    "start_time": "2024-11-19T17:06:52.029Z"
   },
   {
    "duration": 6,
    "start_time": "2024-11-19T17:07:11.733Z"
   },
   {
    "duration": 6,
    "start_time": "2024-11-19T17:08:20.146Z"
   },
   {
    "duration": 4,
    "start_time": "2024-11-19T17:08:42.159Z"
   },
   {
    "duration": 6,
    "start_time": "2024-11-19T17:10:01.770Z"
   },
   {
    "duration": 6,
    "start_time": "2024-11-19T17:11:18.727Z"
   },
   {
    "duration": 3,
    "start_time": "2024-11-19T17:11:25.487Z"
   },
   {
    "duration": 7,
    "start_time": "2024-11-19T17:11:25.492Z"
   },
   {
    "duration": 79,
    "start_time": "2024-11-19T17:11:25.500Z"
   },
   {
    "duration": 11,
    "start_time": "2024-11-19T17:11:25.581Z"
   },
   {
    "duration": 19,
    "start_time": "2024-11-19T17:11:25.594Z"
   },
   {
    "duration": 41,
    "start_time": "2024-11-19T17:11:25.615Z"
   },
   {
    "duration": 13,
    "start_time": "2024-11-19T17:11:25.658Z"
   },
   {
    "duration": 21,
    "start_time": "2024-11-19T17:11:25.673Z"
   },
   {
    "duration": 20,
    "start_time": "2024-11-19T17:11:25.696Z"
   },
   {
    "duration": 16,
    "start_time": "2024-11-19T17:11:25.718Z"
   },
   {
    "duration": 6,
    "start_time": "2024-11-19T17:11:25.736Z"
   },
   {
    "duration": 24,
    "start_time": "2024-11-19T17:11:25.743Z"
   },
   {
    "duration": 8,
    "start_time": "2024-11-19T17:11:25.768Z"
   },
   {
    "duration": 10,
    "start_time": "2024-11-19T17:11:25.779Z"
   },
   {
    "duration": 39,
    "start_time": "2024-11-19T17:11:25.790Z"
   },
   {
    "duration": 9,
    "start_time": "2024-11-19T17:11:25.830Z"
   },
   {
    "duration": 11,
    "start_time": "2024-11-19T17:11:25.840Z"
   },
   {
    "duration": 15,
    "start_time": "2024-11-19T17:11:25.852Z"
   },
   {
    "duration": 26,
    "start_time": "2024-11-19T17:11:25.869Z"
   },
   {
    "duration": 21,
    "start_time": "2024-11-19T17:11:25.897Z"
   },
   {
    "duration": 19,
    "start_time": "2024-11-19T17:11:25.920Z"
   },
   {
    "duration": 15,
    "start_time": "2024-11-19T17:11:25.940Z"
   },
   {
    "duration": 30,
    "start_time": "2024-11-19T17:11:25.957Z"
   },
   {
    "duration": 27,
    "start_time": "2024-11-19T17:11:25.989Z"
   },
   {
    "duration": 8,
    "start_time": "2024-11-19T17:11:26.017Z"
   },
   {
    "duration": 215,
    "start_time": "2024-11-19T17:11:26.026Z"
   },
   {
    "duration": 210,
    "start_time": "2024-11-19T17:11:26.243Z"
   },
   {
    "duration": 185,
    "start_time": "2024-11-19T17:11:26.455Z"
   },
   {
    "duration": 378,
    "start_time": "2024-11-19T17:11:26.642Z"
   },
   {
    "duration": 202,
    "start_time": "2024-11-19T17:11:27.021Z"
   },
   {
    "duration": 206,
    "start_time": "2024-11-19T17:11:27.225Z"
   },
   {
    "duration": 12,
    "start_time": "2024-11-19T17:11:27.433Z"
   },
   {
    "duration": 16,
    "start_time": "2024-11-19T17:11:27.447Z"
   },
   {
    "duration": 243,
    "start_time": "2024-11-19T17:11:27.464Z"
   },
   {
    "duration": 5,
    "start_time": "2024-11-19T17:11:27.708Z"
   },
   {
    "duration": 5,
    "start_time": "2024-11-19T17:11:27.714Z"
   },
   {
    "duration": 6,
    "start_time": "2024-11-19T17:11:27.720Z"
   },
   {
    "duration": 265,
    "start_time": "2024-11-19T17:11:27.727Z"
   },
   {
    "duration": 5,
    "start_time": "2024-11-19T17:11:27.994Z"
   },
   {
    "duration": 34,
    "start_time": "2024-11-19T17:11:28.007Z"
   },
   {
    "duration": 25,
    "start_time": "2024-11-19T17:11:28.045Z"
   },
   {
    "duration": 9,
    "start_time": "2024-11-19T17:11:28.071Z"
   },
   {
    "duration": 9,
    "start_time": "2024-11-19T17:11:28.081Z"
   },
   {
    "duration": 10,
    "start_time": "2024-11-19T17:11:28.091Z"
   },
   {
    "duration": 44,
    "start_time": "2024-11-19T17:11:28.102Z"
   },
   {
    "duration": 18,
    "start_time": "2024-11-19T17:11:28.147Z"
   },
   {
    "duration": 1381,
    "start_time": "2024-11-19T18:45:20.968Z"
   },
   {
    "duration": 3,
    "start_time": "2024-11-19T18:45:26.575Z"
   },
   {
    "duration": 44,
    "start_time": "2024-11-19T18:45:26.580Z"
   },
   {
    "duration": 84,
    "start_time": "2024-11-19T18:45:26.625Z"
   },
   {
    "duration": 8,
    "start_time": "2024-11-19T18:45:26.710Z"
   },
   {
    "duration": 10,
    "start_time": "2024-11-19T18:45:26.720Z"
   },
   {
    "duration": 16,
    "start_time": "2024-11-19T18:45:26.732Z"
   },
   {
    "duration": 30,
    "start_time": "2024-11-19T18:45:26.749Z"
   },
   {
    "duration": 37,
    "start_time": "2024-11-19T18:45:26.781Z"
   },
   {
    "duration": 21,
    "start_time": "2024-11-19T18:45:26.819Z"
   },
   {
    "duration": 23,
    "start_time": "2024-11-19T18:45:26.842Z"
   },
   {
    "duration": 18,
    "start_time": "2024-11-19T18:45:26.866Z"
   },
   {
    "duration": 8,
    "start_time": "2024-11-19T18:45:26.885Z"
   },
   {
    "duration": 5,
    "start_time": "2024-11-19T18:45:26.897Z"
   },
   {
    "duration": 21,
    "start_time": "2024-11-19T18:45:26.904Z"
   },
   {
    "duration": 9,
    "start_time": "2024-11-19T18:45:26.927Z"
   },
   {
    "duration": 41,
    "start_time": "2024-11-19T18:45:26.937Z"
   },
   {
    "duration": 7,
    "start_time": "2024-11-19T18:45:26.980Z"
   },
   {
    "duration": 12,
    "start_time": "2024-11-19T18:45:26.989Z"
   },
   {
    "duration": 18,
    "start_time": "2024-11-19T18:45:27.003Z"
   },
   {
    "duration": 16,
    "start_time": "2024-11-19T18:45:27.022Z"
   },
   {
    "duration": 10,
    "start_time": "2024-11-19T18:45:27.039Z"
   },
   {
    "duration": 10,
    "start_time": "2024-11-19T18:45:27.051Z"
   },
   {
    "duration": 222,
    "start_time": "2024-11-19T18:45:27.062Z"
   },
   {
    "duration": 216,
    "start_time": "2024-11-19T18:45:27.286Z"
   },
   {
    "duration": 262,
    "start_time": "2024-11-19T18:45:27.503Z"
   },
   {
    "duration": 316,
    "start_time": "2024-11-19T18:45:27.767Z"
   },
   {
    "duration": 217,
    "start_time": "2024-11-19T18:45:28.085Z"
   },
   {
    "duration": 203,
    "start_time": "2024-11-19T18:45:28.306Z"
   },
   {
    "duration": 13,
    "start_time": "2024-11-19T18:45:28.511Z"
   },
   {
    "duration": 38,
    "start_time": "2024-11-19T18:45:28.526Z"
   },
   {
    "duration": 249,
    "start_time": "2024-11-19T18:45:28.566Z"
   },
   {
    "duration": 5,
    "start_time": "2024-11-19T18:45:28.817Z"
   },
   {
    "duration": 6,
    "start_time": "2024-11-19T18:45:28.824Z"
   },
   {
    "duration": 8,
    "start_time": "2024-11-19T18:45:28.832Z"
   },
   {
    "duration": 262,
    "start_time": "2024-11-19T18:45:28.841Z"
   },
   {
    "duration": 4,
    "start_time": "2024-11-19T18:45:29.105Z"
   },
   {
    "duration": 6,
    "start_time": "2024-11-19T18:45:29.112Z"
   },
   {
    "duration": 41,
    "start_time": "2024-11-19T18:45:29.121Z"
   },
   {
    "duration": 11,
    "start_time": "2024-11-19T18:45:29.163Z"
   },
   {
    "duration": 10,
    "start_time": "2024-11-19T18:45:29.175Z"
   },
   {
    "duration": 10,
    "start_time": "2024-11-19T18:45:29.208Z"
   },
   {
    "duration": 62,
    "start_time": "2024-11-19T18:45:29.220Z"
   },
   {
    "duration": 13,
    "start_time": "2024-11-19T18:45:29.284Z"
   },
   {
    "duration": 177,
    "start_time": "2024-11-19T20:38:46.866Z"
   },
   {
    "duration": 8,
    "start_time": "2024-11-19T20:43:32.881Z"
   },
   {
    "duration": 3,
    "start_time": "2024-11-19T20:44:22.187Z"
   },
   {
    "duration": 11,
    "start_time": "2024-11-19T20:44:22.193Z"
   },
   {
    "duration": 86,
    "start_time": "2024-11-19T20:44:22.207Z"
   },
   {
    "duration": 9,
    "start_time": "2024-11-19T20:44:22.296Z"
   },
   {
    "duration": 24,
    "start_time": "2024-11-19T20:44:22.307Z"
   },
   {
    "duration": 12,
    "start_time": "2024-11-19T20:44:22.333Z"
   },
   {
    "duration": 17,
    "start_time": "2024-11-19T20:44:22.347Z"
   },
   {
    "duration": 15,
    "start_time": "2024-11-19T20:44:22.366Z"
   },
   {
    "duration": 7,
    "start_time": "2024-11-19T20:44:22.384Z"
   },
   {
    "duration": 15,
    "start_time": "2024-11-19T20:44:22.393Z"
   },
   {
    "duration": 10,
    "start_time": "2024-11-19T20:44:22.409Z"
   },
   {
    "duration": 14,
    "start_time": "2024-11-19T20:44:22.421Z"
   },
   {
    "duration": 8,
    "start_time": "2024-11-19T20:44:22.437Z"
   },
   {
    "duration": 14,
    "start_time": "2024-11-19T20:44:22.446Z"
   },
   {
    "duration": 13,
    "start_time": "2024-11-19T20:44:22.462Z"
   },
   {
    "duration": 16,
    "start_time": "2024-11-19T20:44:22.477Z"
   },
   {
    "duration": 7,
    "start_time": "2024-11-19T20:44:22.495Z"
   },
   {
    "duration": 16,
    "start_time": "2024-11-19T20:44:22.504Z"
   },
   {
    "duration": 24,
    "start_time": "2024-11-19T20:44:22.522Z"
   },
   {
    "duration": 25,
    "start_time": "2024-11-19T20:44:22.547Z"
   },
   {
    "duration": 30,
    "start_time": "2024-11-19T20:44:22.576Z"
   },
   {
    "duration": 43,
    "start_time": "2024-11-19T20:44:22.608Z"
   },
   {
    "duration": 242,
    "start_time": "2024-11-19T20:44:22.653Z"
   },
   {
    "duration": 191,
    "start_time": "2024-11-19T20:44:22.898Z"
   },
   {
    "duration": 246,
    "start_time": "2024-11-19T20:44:23.090Z"
   },
   {
    "duration": 333,
    "start_time": "2024-11-19T20:44:23.338Z"
   },
   {
    "duration": 284,
    "start_time": "2024-11-19T20:44:23.672Z"
   },
   {
    "duration": 193,
    "start_time": "2024-11-19T20:44:23.958Z"
   },
   {
    "duration": 12,
    "start_time": "2024-11-19T20:44:24.153Z"
   },
   {
    "duration": 10,
    "start_time": "2024-11-19T20:44:24.166Z"
   },
   {
    "duration": 237,
    "start_time": "2024-11-19T20:44:24.178Z"
   },
   {
    "duration": 4,
    "start_time": "2024-11-19T20:44:24.417Z"
   },
   {
    "duration": 6,
    "start_time": "2024-11-19T20:44:24.423Z"
   },
   {
    "duration": 7,
    "start_time": "2024-11-19T20:44:24.430Z"
   },
   {
    "duration": 243,
    "start_time": "2024-11-19T20:44:24.438Z"
   },
   {
    "duration": 5,
    "start_time": "2024-11-19T20:44:24.683Z"
   },
   {
    "duration": 18,
    "start_time": "2024-11-19T20:44:24.689Z"
   },
   {
    "duration": 26,
    "start_time": "2024-11-19T20:44:24.709Z"
   },
   {
    "duration": 9,
    "start_time": "2024-11-19T20:44:24.737Z"
   },
   {
    "duration": 35,
    "start_time": "2024-11-19T20:44:24.747Z"
   },
   {
    "duration": 31,
    "start_time": "2024-11-19T20:44:24.784Z"
   },
   {
    "duration": 83,
    "start_time": "2024-11-19T20:44:24.816Z"
   },
   {
    "duration": 14,
    "start_time": "2024-11-19T20:44:24.900Z"
   },
   {
    "duration": 3,
    "start_time": "2024-11-19T21:12:09.142Z"
   },
   {
    "duration": 57,
    "start_time": "2024-11-19T21:12:17.845Z"
   },
   {
    "duration": 3,
    "start_time": "2024-11-19T21:12:52.867Z"
   },
   {
    "duration": 35,
    "start_time": "2024-11-19T21:12:52.872Z"
   },
   {
    "duration": 75,
    "start_time": "2024-11-19T21:12:52.908Z"
   },
   {
    "duration": 6,
    "start_time": "2024-11-19T21:12:52.985Z"
   },
   {
    "duration": 9,
    "start_time": "2024-11-19T21:12:52.993Z"
   },
   {
    "duration": 11,
    "start_time": "2024-11-19T21:12:53.004Z"
   },
   {
    "duration": 11,
    "start_time": "2024-11-19T21:12:53.016Z"
   },
   {
    "duration": 7,
    "start_time": "2024-11-19T21:12:53.028Z"
   },
   {
    "duration": 6,
    "start_time": "2024-11-19T21:12:53.036Z"
   },
   {
    "duration": 4,
    "start_time": "2024-11-19T21:12:53.044Z"
   },
   {
    "duration": 4,
    "start_time": "2024-11-19T21:12:53.049Z"
   },
   {
    "duration": 12,
    "start_time": "2024-11-19T21:12:53.054Z"
   },
   {
    "duration": 21,
    "start_time": "2024-11-19T21:12:53.068Z"
   },
   {
    "duration": 54,
    "start_time": "2024-11-19T21:12:53.090Z"
   },
   {
    "duration": 16,
    "start_time": "2024-11-19T21:12:53.146Z"
   },
   {
    "duration": 6,
    "start_time": "2024-11-19T21:12:53.163Z"
   },
   {
    "duration": 9,
    "start_time": "2024-11-19T21:12:53.170Z"
   },
   {
    "duration": 21,
    "start_time": "2024-11-19T21:12:53.181Z"
   },
   {
    "duration": 12,
    "start_time": "2024-11-19T21:12:53.203Z"
   },
   {
    "duration": 18,
    "start_time": "2024-11-19T21:12:53.216Z"
   },
   {
    "duration": 10,
    "start_time": "2024-11-19T21:12:53.235Z"
   },
   {
    "duration": 9,
    "start_time": "2024-11-19T21:12:53.246Z"
   },
   {
    "duration": 217,
    "start_time": "2024-11-19T21:12:53.256Z"
   },
   {
    "duration": 205,
    "start_time": "2024-11-19T21:12:53.474Z"
   },
   {
    "duration": 199,
    "start_time": "2024-11-19T21:12:53.681Z"
   },
   {
    "duration": 318,
    "start_time": "2024-11-19T21:12:53.881Z"
   },
   {
    "duration": 200,
    "start_time": "2024-11-19T21:12:54.201Z"
   },
   {
    "duration": 190,
    "start_time": "2024-11-19T21:12:54.403Z"
   },
   {
    "duration": 18,
    "start_time": "2024-11-19T21:12:54.594Z"
   },
   {
    "duration": 10,
    "start_time": "2024-11-19T21:12:54.613Z"
   },
   {
    "duration": 229,
    "start_time": "2024-11-19T21:12:54.624Z"
   },
   {
    "duration": 4,
    "start_time": "2024-11-19T21:12:54.854Z"
   },
   {
    "duration": 6,
    "start_time": "2024-11-19T21:12:54.860Z"
   },
   {
    "duration": 10,
    "start_time": "2024-11-19T21:12:54.868Z"
   },
   {
    "duration": 311,
    "start_time": "2024-11-19T21:12:54.879Z"
   },
   {
    "duration": 4,
    "start_time": "2024-11-19T21:12:55.192Z"
   },
   {
    "duration": 5,
    "start_time": "2024-11-19T21:12:55.208Z"
   },
   {
    "duration": 11,
    "start_time": "2024-11-19T21:12:55.215Z"
   },
   {
    "duration": 20,
    "start_time": "2024-11-19T21:12:55.227Z"
   },
   {
    "duration": 27,
    "start_time": "2024-11-19T21:12:55.249Z"
   },
   {
    "duration": 18,
    "start_time": "2024-11-19T21:12:55.277Z"
   },
   {
    "duration": 18,
    "start_time": "2024-11-19T21:12:55.297Z"
   },
   {
    "duration": 11,
    "start_time": "2024-11-19T21:12:55.317Z"
   },
   {
    "duration": 2,
    "start_time": "2024-11-19T21:21:44.271Z"
   },
   {
    "duration": 14,
    "start_time": "2024-11-19T21:21:44.275Z"
   },
   {
    "duration": 82,
    "start_time": "2024-11-19T21:21:44.291Z"
   },
   {
    "duration": 7,
    "start_time": "2024-11-19T21:21:44.375Z"
   },
   {
    "duration": 13,
    "start_time": "2024-11-19T21:21:44.384Z"
   },
   {
    "duration": 11,
    "start_time": "2024-11-19T21:21:44.399Z"
   },
   {
    "duration": 14,
    "start_time": "2024-11-19T21:21:44.411Z"
   },
   {
    "duration": 32,
    "start_time": "2024-11-19T21:21:44.426Z"
   },
   {
    "duration": 11,
    "start_time": "2024-11-19T21:21:44.460Z"
   },
   {
    "duration": 8,
    "start_time": "2024-11-19T21:21:44.473Z"
   },
   {
    "duration": 7,
    "start_time": "2024-11-19T21:21:44.482Z"
   },
   {
    "duration": 5,
    "start_time": "2024-11-19T21:21:44.491Z"
   },
   {
    "duration": 14,
    "start_time": "2024-11-19T21:21:44.497Z"
   },
   {
    "duration": 12,
    "start_time": "2024-11-19T21:21:44.512Z"
   },
   {
    "duration": 18,
    "start_time": "2024-11-19T21:21:44.525Z"
   },
   {
    "duration": 5,
    "start_time": "2024-11-19T21:21:44.544Z"
   },
   {
    "duration": 14,
    "start_time": "2024-11-19T21:21:44.551Z"
   },
   {
    "duration": 12,
    "start_time": "2024-11-19T21:21:44.566Z"
   },
   {
    "duration": 14,
    "start_time": "2024-11-19T21:21:44.580Z"
   },
   {
    "duration": 18,
    "start_time": "2024-11-19T21:21:44.596Z"
   },
   {
    "duration": 15,
    "start_time": "2024-11-19T21:21:44.615Z"
   },
   {
    "duration": 14,
    "start_time": "2024-11-19T21:21:44.631Z"
   },
   {
    "duration": 204,
    "start_time": "2024-11-19T21:21:44.646Z"
   },
   {
    "duration": 194,
    "start_time": "2024-11-19T21:21:44.853Z"
   },
   {
    "duration": 216,
    "start_time": "2024-11-19T21:21:45.049Z"
   },
   {
    "duration": 321,
    "start_time": "2024-11-19T21:21:45.266Z"
   },
   {
    "duration": 210,
    "start_time": "2024-11-19T21:21:45.588Z"
   },
   {
    "duration": 198,
    "start_time": "2024-11-19T21:21:45.800Z"
   },
   {
    "duration": 14,
    "start_time": "2024-11-19T21:21:45.999Z"
   },
   {
    "duration": 37,
    "start_time": "2024-11-19T21:21:46.014Z"
   },
   {
    "duration": 212,
    "start_time": "2024-11-19T21:21:46.052Z"
   },
   {
    "duration": 4,
    "start_time": "2024-11-19T21:21:46.266Z"
   },
   {
    "duration": 8,
    "start_time": "2024-11-19T21:21:46.271Z"
   },
   {
    "duration": 5,
    "start_time": "2024-11-19T21:21:46.280Z"
   },
   {
    "duration": 238,
    "start_time": "2024-11-19T21:21:46.286Z"
   },
   {
    "duration": 4,
    "start_time": "2024-11-19T21:21:46.525Z"
   },
   {
    "duration": 4,
    "start_time": "2024-11-19T21:21:46.531Z"
   },
   {
    "duration": 15,
    "start_time": "2024-11-19T21:21:46.537Z"
   },
   {
    "duration": 25,
    "start_time": "2024-11-19T21:21:46.553Z"
   },
   {
    "duration": 10,
    "start_time": "2024-11-19T21:21:46.580Z"
   },
   {
    "duration": 16,
    "start_time": "2024-11-19T21:21:46.591Z"
   },
   {
    "duration": 41,
    "start_time": "2024-11-19T21:21:46.608Z"
   },
   {
    "duration": 13,
    "start_time": "2024-11-19T21:21:46.650Z"
   },
   {
    "duration": 3,
    "start_time": "2024-11-19T21:22:50.162Z"
   },
   {
    "duration": 3,
    "start_time": "2024-11-19T21:22:57.266Z"
   },
   {
    "duration": 2,
    "start_time": "2024-11-19T21:23:22.468Z"
   },
   {
    "duration": 32,
    "start_time": "2024-11-19T21:23:39.506Z"
   },
   {
    "duration": 19,
    "start_time": "2024-11-19T21:23:45.123Z"
   },
   {
    "duration": 3,
    "start_time": "2024-11-19T21:24:15.921Z"
   },
   {
    "duration": 99,
    "start_time": "2024-11-19T21:24:15.926Z"
   },
   {
    "duration": 94,
    "start_time": "2024-11-19T21:24:16.026Z"
   },
   {
    "duration": 8,
    "start_time": "2024-11-19T21:24:16.121Z"
   },
   {
    "duration": 45,
    "start_time": "2024-11-19T21:24:16.131Z"
   },
   {
    "duration": 10,
    "start_time": "2024-11-19T21:24:16.178Z"
   },
   {
    "duration": 28,
    "start_time": "2024-11-19T21:24:16.190Z"
   },
   {
    "duration": 16,
    "start_time": "2024-11-19T21:24:16.219Z"
   },
   {
    "duration": 35,
    "start_time": "2024-11-19T21:24:16.237Z"
   },
   {
    "duration": 18,
    "start_time": "2024-11-19T21:24:16.273Z"
   },
   {
    "duration": 15,
    "start_time": "2024-11-19T21:24:16.292Z"
   },
   {
    "duration": 11,
    "start_time": "2024-11-19T21:24:16.308Z"
   },
   {
    "duration": 36,
    "start_time": "2024-11-19T21:24:16.320Z"
   },
   {
    "duration": 43,
    "start_time": "2024-11-19T21:24:16.358Z"
   },
   {
    "duration": 23,
    "start_time": "2024-11-19T21:24:16.402Z"
   },
   {
    "duration": 6,
    "start_time": "2024-11-19T21:24:16.427Z"
   },
   {
    "duration": 5,
    "start_time": "2024-11-19T21:24:16.434Z"
   },
   {
    "duration": 7,
    "start_time": "2024-11-19T21:24:16.440Z"
   },
   {
    "duration": 9,
    "start_time": "2024-11-19T21:24:16.449Z"
   },
   {
    "duration": 44,
    "start_time": "2024-11-19T21:24:16.459Z"
   },
   {
    "duration": 15,
    "start_time": "2024-11-19T21:24:16.504Z"
   },
   {
    "duration": 34,
    "start_time": "2024-11-19T21:24:16.520Z"
   },
   {
    "duration": 252,
    "start_time": "2024-11-19T21:24:16.555Z"
   },
   {
    "duration": 188,
    "start_time": "2024-11-19T21:24:16.809Z"
   },
   {
    "duration": 203,
    "start_time": "2024-11-19T21:24:17.000Z"
   },
   {
    "duration": 407,
    "start_time": "2024-11-19T21:24:17.206Z"
   },
   {
    "duration": 217,
    "start_time": "2024-11-19T21:24:17.615Z"
   },
   {
    "duration": 198,
    "start_time": "2024-11-19T21:24:17.834Z"
   },
   {
    "duration": 13,
    "start_time": "2024-11-19T21:24:18.033Z"
   },
   {
    "duration": 12,
    "start_time": "2024-11-19T21:24:18.048Z"
   },
   {
    "duration": 246,
    "start_time": "2024-11-19T21:24:18.062Z"
   },
   {
    "duration": 5,
    "start_time": "2024-11-19T21:24:18.310Z"
   },
   {
    "duration": 35,
    "start_time": "2024-11-19T21:24:18.316Z"
   },
   {
    "duration": 30,
    "start_time": "2024-11-19T21:24:18.352Z"
   },
   {
    "duration": 213,
    "start_time": "2024-11-19T21:24:18.384Z"
   },
   {
    "duration": 11,
    "start_time": "2024-11-19T21:24:18.599Z"
   },
   {
    "duration": 52,
    "start_time": "2024-11-19T21:24:18.611Z"
   },
   {
    "duration": 92,
    "start_time": "2024-11-19T21:24:18.664Z"
   },
   {
    "duration": 43,
    "start_time": "2024-11-19T21:24:18.758Z"
   },
   {
    "duration": 27,
    "start_time": "2024-11-19T21:24:18.803Z"
   },
   {
    "duration": 30,
    "start_time": "2024-11-19T21:24:18.835Z"
   },
   {
    "duration": 19,
    "start_time": "2024-11-19T21:24:18.867Z"
   },
   {
    "duration": 52,
    "start_time": "2024-11-19T21:24:18.888Z"
   },
   {
    "duration": 15,
    "start_time": "2024-11-19T21:24:18.942Z"
   },
   {
    "duration": 10,
    "start_time": "2024-11-19T21:25:36.177Z"
   },
   {
    "duration": 3,
    "start_time": "2024-11-19T21:32:04.696Z"
   },
   {
    "duration": 12,
    "start_time": "2024-11-19T21:32:04.700Z"
   },
   {
    "duration": 80,
    "start_time": "2024-11-19T21:32:04.713Z"
   },
   {
    "duration": 6,
    "start_time": "2024-11-19T21:32:04.795Z"
   },
   {
    "duration": 16,
    "start_time": "2024-11-19T21:32:04.803Z"
   },
   {
    "duration": 19,
    "start_time": "2024-11-19T21:32:04.820Z"
   },
   {
    "duration": 14,
    "start_time": "2024-11-19T21:32:04.840Z"
   },
   {
    "duration": 26,
    "start_time": "2024-11-19T21:32:04.855Z"
   },
   {
    "duration": 29,
    "start_time": "2024-11-19T21:32:04.882Z"
   },
   {
    "duration": 5,
    "start_time": "2024-11-19T21:32:04.912Z"
   },
   {
    "duration": 5,
    "start_time": "2024-11-19T21:32:04.918Z"
   },
   {
    "duration": 8,
    "start_time": "2024-11-19T21:32:04.924Z"
   },
   {
    "duration": 7,
    "start_time": "2024-11-19T21:32:04.933Z"
   },
   {
    "duration": 7,
    "start_time": "2024-11-19T21:32:04.942Z"
   },
   {
    "duration": 33,
    "start_time": "2024-11-19T21:32:04.950Z"
   },
   {
    "duration": 6,
    "start_time": "2024-11-19T21:32:04.984Z"
   },
   {
    "duration": 6,
    "start_time": "2024-11-19T21:32:04.992Z"
   },
   {
    "duration": 24,
    "start_time": "2024-11-19T21:32:04.999Z"
   },
   {
    "duration": 15,
    "start_time": "2024-11-19T21:32:05.024Z"
   },
   {
    "duration": 15,
    "start_time": "2024-11-19T21:32:05.040Z"
   },
   {
    "duration": 25,
    "start_time": "2024-11-19T21:32:05.056Z"
   },
   {
    "duration": 29,
    "start_time": "2024-11-19T21:32:05.082Z"
   },
   {
    "duration": 208,
    "start_time": "2024-11-19T21:32:05.113Z"
   },
   {
    "duration": 185,
    "start_time": "2024-11-19T21:32:05.323Z"
   },
   {
    "duration": 189,
    "start_time": "2024-11-19T21:32:05.510Z"
   },
   {
    "duration": 289,
    "start_time": "2024-11-19T21:32:05.701Z"
   },
   {
    "duration": 222,
    "start_time": "2024-11-19T21:32:05.992Z"
   },
   {
    "duration": 207,
    "start_time": "2024-11-19T21:32:06.216Z"
   },
   {
    "duration": 12,
    "start_time": "2024-11-19T21:32:06.424Z"
   },
   {
    "duration": 10,
    "start_time": "2024-11-19T21:32:06.437Z"
   },
   {
    "duration": 324,
    "start_time": "2024-11-19T21:32:06.448Z"
   },
   {
    "duration": 4,
    "start_time": "2024-11-19T21:32:06.774Z"
   },
   {
    "duration": 12,
    "start_time": "2024-11-19T21:32:06.779Z"
   },
   {
    "duration": 6,
    "start_time": "2024-11-19T21:32:06.792Z"
   },
   {
    "duration": 217,
    "start_time": "2024-11-19T21:32:06.799Z"
   },
   {
    "duration": 4,
    "start_time": "2024-11-19T21:32:07.018Z"
   },
   {
    "duration": 16,
    "start_time": "2024-11-19T21:32:07.023Z"
   },
   {
    "duration": 22,
    "start_time": "2024-11-19T21:32:07.040Z"
   },
   {
    "duration": 14,
    "start_time": "2024-11-19T21:32:07.063Z"
   },
   {
    "duration": 19,
    "start_time": "2024-11-19T21:32:07.079Z"
   },
   {
    "duration": 21,
    "start_time": "2024-11-19T21:32:07.102Z"
   },
   {
    "duration": 22,
    "start_time": "2024-11-19T21:32:07.124Z"
   },
   {
    "duration": 12,
    "start_time": "2024-11-19T21:32:07.148Z"
   },
   {
    "duration": 21,
    "start_time": "2024-11-19T21:33:34.640Z"
   },
   {
    "duration": 12,
    "start_time": "2024-11-19T21:34:39.909Z"
   },
   {
    "duration": 3,
    "start_time": "2024-11-19T21:47:23.894Z"
   },
   {
    "duration": 39,
    "start_time": "2024-11-19T21:47:23.898Z"
   },
   {
    "duration": 116,
    "start_time": "2024-11-19T21:47:23.938Z"
   },
   {
    "duration": 7,
    "start_time": "2024-11-19T21:47:24.056Z"
   },
   {
    "duration": 30,
    "start_time": "2024-11-19T21:47:24.064Z"
   },
   {
    "duration": 22,
    "start_time": "2024-11-19T21:47:24.095Z"
   },
   {
    "duration": 15,
    "start_time": "2024-11-19T21:47:24.119Z"
   },
   {
    "duration": 7,
    "start_time": "2024-11-19T21:47:24.135Z"
   },
   {
    "duration": 7,
    "start_time": "2024-11-19T21:47:24.144Z"
   },
   {
    "duration": 9,
    "start_time": "2024-11-19T21:47:24.153Z"
   },
   {
    "duration": 7,
    "start_time": "2024-11-19T21:47:24.163Z"
   },
   {
    "duration": 12,
    "start_time": "2024-11-19T21:47:24.171Z"
   },
   {
    "duration": 39,
    "start_time": "2024-11-19T21:47:24.185Z"
   },
   {
    "duration": 17,
    "start_time": "2024-11-19T21:47:24.225Z"
   },
   {
    "duration": 17,
    "start_time": "2024-11-19T21:47:24.244Z"
   },
   {
    "duration": 16,
    "start_time": "2024-11-19T21:47:24.263Z"
   },
   {
    "duration": 8,
    "start_time": "2024-11-19T21:47:24.280Z"
   },
   {
    "duration": 10,
    "start_time": "2024-11-19T21:47:24.289Z"
   },
   {
    "duration": 19,
    "start_time": "2024-11-19T21:47:24.300Z"
   },
   {
    "duration": 14,
    "start_time": "2024-11-19T21:47:24.320Z"
   },
   {
    "duration": 7,
    "start_time": "2024-11-19T21:47:24.335Z"
   },
   {
    "duration": 10,
    "start_time": "2024-11-19T21:47:24.343Z"
   },
   {
    "duration": 206,
    "start_time": "2024-11-19T21:47:24.355Z"
   },
   {
    "duration": 194,
    "start_time": "2024-11-19T21:47:24.563Z"
   },
   {
    "duration": 195,
    "start_time": "2024-11-19T21:47:24.758Z"
   },
   {
    "duration": 340,
    "start_time": "2024-11-19T21:47:24.955Z"
   },
   {
    "duration": 219,
    "start_time": "2024-11-19T21:47:25.296Z"
   },
   {
    "duration": 197,
    "start_time": "2024-11-19T21:47:25.518Z"
   },
   {
    "duration": 11,
    "start_time": "2024-11-19T21:47:25.716Z"
   },
   {
    "duration": 23,
    "start_time": "2024-11-19T21:47:25.728Z"
   },
   {
    "duration": 246,
    "start_time": "2024-11-19T21:47:25.752Z"
   },
   {
    "duration": 10,
    "start_time": "2024-11-19T21:47:25.999Z"
   },
   {
    "duration": 37,
    "start_time": "2024-11-19T21:47:26.010Z"
   },
   {
    "duration": 7,
    "start_time": "2024-11-19T21:47:26.049Z"
   },
   {
    "duration": 234,
    "start_time": "2024-11-19T21:47:26.057Z"
   },
   {
    "duration": 4,
    "start_time": "2024-11-19T21:47:26.292Z"
   },
   {
    "duration": 14,
    "start_time": "2024-11-19T21:47:26.297Z"
   },
   {
    "duration": 25,
    "start_time": "2024-11-19T21:47:26.312Z"
   },
   {
    "duration": 8,
    "start_time": "2024-11-19T21:47:26.338Z"
   },
   {
    "duration": 12,
    "start_time": "2024-11-19T21:47:26.347Z"
   },
   {
    "duration": 11,
    "start_time": "2024-11-19T21:47:26.360Z"
   },
   {
    "duration": 38,
    "start_time": "2024-11-19T21:47:26.372Z"
   },
   {
    "duration": 13,
    "start_time": "2024-11-19T21:47:26.411Z"
   },
   {
    "duration": 995,
    "start_time": "2024-11-20T09:34:41.846Z"
   },
   {
    "duration": 3,
    "start_time": "2024-11-20T09:34:42.843Z"
   },
   {
    "duration": 129,
    "start_time": "2024-11-20T09:34:42.848Z"
   },
   {
    "duration": 11,
    "start_time": "2024-11-20T09:34:42.979Z"
   },
   {
    "duration": 10,
    "start_time": "2024-11-20T09:34:42.993Z"
   },
   {
    "duration": 16,
    "start_time": "2024-11-20T09:34:43.005Z"
   },
   {
    "duration": 13,
    "start_time": "2024-11-20T09:34:43.023Z"
   },
   {
    "duration": 18,
    "start_time": "2024-11-20T09:34:43.038Z"
   },
   {
    "duration": 10,
    "start_time": "2024-11-20T09:34:43.058Z"
   },
   {
    "duration": 7,
    "start_time": "2024-11-20T09:34:43.070Z"
   },
   {
    "duration": 20,
    "start_time": "2024-11-20T09:34:43.079Z"
   },
   {
    "duration": 21,
    "start_time": "2024-11-20T09:34:43.101Z"
   },
   {
    "duration": 7,
    "start_time": "2024-11-20T09:34:43.125Z"
   },
   {
    "duration": 18,
    "start_time": "2024-11-20T09:34:43.136Z"
   },
   {
    "duration": 20,
    "start_time": "2024-11-20T09:34:43.156Z"
   },
   {
    "duration": 12,
    "start_time": "2024-11-20T09:34:43.178Z"
   },
   {
    "duration": 8,
    "start_time": "2024-11-20T09:34:43.191Z"
   },
   {
    "duration": 7,
    "start_time": "2024-11-20T09:34:43.217Z"
   },
   {
    "duration": 80,
    "start_time": "2024-11-20T09:34:43.227Z"
   },
   {
    "duration": 22,
    "start_time": "2024-11-20T09:34:43.309Z"
   },
   {
    "duration": 12,
    "start_time": "2024-11-20T09:34:43.333Z"
   },
   {
    "duration": 10,
    "start_time": "2024-11-20T09:34:43.347Z"
   },
   {
    "duration": 290,
    "start_time": "2024-11-20T09:34:43.360Z"
   },
   {
    "duration": 269,
    "start_time": "2024-11-20T09:34:43.652Z"
   },
   {
    "duration": 232,
    "start_time": "2024-11-20T09:34:43.923Z"
   },
   {
    "duration": 363,
    "start_time": "2024-11-20T09:34:44.157Z"
   },
   {
    "duration": 252,
    "start_time": "2024-11-20T09:34:44.521Z"
   },
   {
    "duration": 249,
    "start_time": "2024-11-20T09:34:44.775Z"
   },
   {
    "duration": 14,
    "start_time": "2024-11-20T09:34:45.026Z"
   },
   {
    "duration": 47,
    "start_time": "2024-11-20T09:34:45.042Z"
   },
   {
    "duration": 317,
    "start_time": "2024-11-20T09:34:45.090Z"
   },
   {
    "duration": 12,
    "start_time": "2024-11-20T09:34:45.408Z"
   },
   {
    "duration": 6,
    "start_time": "2024-11-20T09:34:45.421Z"
   },
   {
    "duration": 8,
    "start_time": "2024-11-20T09:34:45.428Z"
   },
   {
    "duration": 273,
    "start_time": "2024-11-20T09:34:45.438Z"
   },
   {
    "duration": 7,
    "start_time": "2024-11-20T09:34:45.713Z"
   },
   {
    "duration": 6,
    "start_time": "2024-11-20T09:34:45.722Z"
   },
   {
    "duration": 30,
    "start_time": "2024-11-20T09:34:45.729Z"
   },
   {
    "duration": 10,
    "start_time": "2024-11-20T09:34:45.760Z"
   },
   {
    "duration": 10,
    "start_time": "2024-11-20T09:34:45.772Z"
   },
   {
    "duration": 8,
    "start_time": "2024-11-20T09:34:45.818Z"
   },
   {
    "duration": 27,
    "start_time": "2024-11-20T09:34:45.827Z"
   },
   {
    "duration": 16,
    "start_time": "2024-11-20T09:34:45.855Z"
   }
  ],
  "kernelspec": {
   "display_name": "Python 3 (ipykernel)",
   "language": "python",
   "name": "python3"
  },
  "language_info": {
   "codemirror_mode": {
    "name": "ipython",
    "version": 3
   },
   "file_extension": ".py",
   "mimetype": "text/x-python",
   "name": "python",
   "nbconvert_exporter": "python",
   "pygments_lexer": "ipython3",
   "version": "3.9.5"
  },
  "toc": {
   "base_numbering": 1,
   "nav_menu": {},
   "number_sections": true,
   "sideBar": true,
   "skip_h1_title": true,
   "title_cell": "Table of Contents",
   "title_sidebar": "Contents",
   "toc_cell": false,
   "toc_position": {},
   "toc_section_display": true,
   "toc_window_display": true
  }
 },
 "nbformat": 4,
 "nbformat_minor": 2
}
