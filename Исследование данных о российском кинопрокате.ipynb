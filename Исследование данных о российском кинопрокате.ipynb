{
 "cells": [
  {
   "cell_type": "markdown",
   "metadata": {},
   "source": [
    "Привет, Гузель!\n",
    "\n",
    "Меня зовут Вячеслав Погорелый, и я буду проводить ревью твоего проекта. \n",
    "\n",
    "Предлагаю перейти на \"ты\", если не против)\n",
    "\n",
    "Но если это не удобно - дай знать, и мы перейдем на \"вы\". Моя главная задача — не находить сделанные тобою ошибки, а передать свой опыт и помочь тебе стать аналитиком данных.\n",
    "\n",
    "Я отметил комментарии и замечания разным цветом далее по тексту markdown:\n",
    "\n",
    "---    \n",
    "<div class=\"alert alert-block alert-danger\">\n",
    "    \n",
    "### Ошибка\n",
    "    \n",
    "Критическое замечание, которые следует исправить.\n",
    "</div> \n",
    "    \n",
    "---\n",
    "    \n",
    "<div class=\"alert alert-block alert-warning\">\n",
    "    \n",
    "### Совет\n",
    "    \n",
    "Замечание\\совет на будущее.\n",
    "</div>\n",
    "    \n",
    "---\n",
    "    \n",
    "<div class=\"alert alert-block alert-success\">\n",
    "    \n",
    "### Успех\n",
    "    \n",
    "Когда всё сделано правильно.\n",
    "</div>\n",
    "    \n",
    "    \n",
    "    \n",
    "Будет здорово, если для ответов ты выберешь любой **<font color=\"maroon\">читабельный и заметный цвет</font>**, так мне будет проще все проверить.\n",
    "\n",
    "\n",
    "При доработке проекта попрошу тебя сохранить и не видоизменять заметки ревьюера, это осложняет повторную проверку."
   ]
  },
  {
   "cell_type": "markdown",
   "metadata": {},
   "source": [
    "<div class=\"alert alert-block alert-success\">\n",
    " \n",
    "### Комментарий ревьюера\n",
    "    \n",
    "#### Успех\n",
    "    \n",
    "Спасибо тебе за оформление оглавления к проекту."
   ]
  },
  {
   "cell_type": "markdown",
   "metadata": {
    "id": "sIfNaMOxgFyK"
   },
   "source": [
    "## Исследование данных о российском кинопрокате\n",
    "\n"
   ]
  },
  {
   "cell_type": "markdown",
   "metadata": {
    "id": "3bSlkCsbgFyL"
   },
   "source": [
    "### Шаг 1. Откроем файлы с данными и объединим их в один датафрейм. \n",
    "\n",
    "Объедините данные таким образом, чтобы все объекты из датасета `mkrf_movies` обязательно вошли в получившийся датафрейм. \n",
    "\n",
    "<div id=\"accordion\">\n",
    "    <div class=\"card\">\n",
    "        <div class=\"card-header\" id=\"headingThree\">\n",
    "            <button class=\"btn btn-link collapsed\" data-toggle=\"collapse\" data-target=\"#collapseHint_0\" aria-expanded=\"false\" aria-controls=\"collapseHint_0\">Подсказка</button>\n",
    "        </div>\n",
    "        <div id=\"collapseHint_0\" class=\"collapse\" aria-labelledby=\"headingThree\" data-parent=\"#accordion\">\n",
    "            <div class=\"card-body\">\n",
    "Обратите внимание на тип данных столбца, по которому будете соединять датафреймы. Тип данных этих столбцов должен быть одинаковым в обоих датафреймах.\n",
    "            </div>\n",
    "        </div>\n",
    "    </div>\n",
    "</div>"
   ]
  },
  {
   "cell_type": "code",
   "execution_count": 1,
   "metadata": {
    "id": "dw87FlzMgFyM"
   },
   "outputs": [],
   "source": [
    "import pandas as pd\n",
    "import matplotlib as plt\n",
    "pd.options.mode.chained_assignment = None #на этапе обработки пропусков у меня возникало предупреждение, нашла в интернете вот такое решение\n",
    "import missingno as msno\n",
    "import numpy as ny"
   ]
  },
  {
   "cell_type": "code",
   "execution_count": 2,
   "metadata": {},
   "outputs": [
    {
     "name": "stdout",
     "output_type": "stream",
     "text": [
      "<class 'pandas.core.frame.DataFrame'>\n",
      "RangeIndex: 7486 entries, 0 to 7485\n",
      "Data columns (total 15 columns):\n",
      " #   Column                 Non-Null Count  Dtype  \n",
      "---  ------                 --------------  -----  \n",
      " 0   title                  7486 non-null   object \n",
      " 1   puNumber               7486 non-null   object \n",
      " 2   show_start_date        7486 non-null   object \n",
      " 3   type                   7486 non-null   object \n",
      " 4   film_studio            7468 non-null   object \n",
      " 5   production_country     7484 non-null   object \n",
      " 6   director               7477 non-null   object \n",
      " 7   producer               6918 non-null   object \n",
      " 8   age_restriction        7486 non-null   object \n",
      " 9   refundable_support     332 non-null    float64\n",
      " 10  nonrefundable_support  332 non-null    float64\n",
      " 11  budget                 332 non-null    float64\n",
      " 12  financing_source       332 non-null    object \n",
      " 13  ratings                6519 non-null   object \n",
      " 14  genres                 6510 non-null   object \n",
      "dtypes: float64(3), object(12)\n",
      "memory usage: 877.4+ KB\n",
      "<class 'pandas.core.frame.DataFrame'>\n",
      "RangeIndex: 3158 entries, 0 to 3157\n",
      "Data columns (total 2 columns):\n",
      " #   Column      Non-Null Count  Dtype  \n",
      "---  ------      --------------  -----  \n",
      " 0   puNumber    3158 non-null   int64  \n",
      " 1   box_office  3158 non-null   float64\n",
      "dtypes: float64(1), int64(1)\n",
      "memory usage: 49.5 KB\n"
     ]
    }
   ],
   "source": [
    "data = pd.read_csv('/datasets/mkrf_movies.csv')\n",
    "data_shows = pd.read_csv('/datasets/mkrf_shows.csv')\n",
    "\n",
    "data.info() #посмотрим информацию о датасетах\n",
    "data_shows.info()"
   ]
  },
  {
   "cell_type": "markdown",
   "metadata": {},
   "source": [
    "Таблицы можно объединить по столбцу *puNumber*, однако видим, что в разных таблицах разные типы данных этого столбца. Необходимо в первой таблице привести данные к числовому типу"
   ]
  },
  {
   "cell_type": "code",
   "execution_count": 3,
   "metadata": {},
   "outputs": [
    {
     "data": {
      "text/html": [
       "<div>\n",
       "<style scoped>\n",
       "    .dataframe tbody tr th:only-of-type {\n",
       "        vertical-align: middle;\n",
       "    }\n",
       "\n",
       "    .dataframe tbody tr th {\n",
       "        vertical-align: top;\n",
       "    }\n",
       "\n",
       "    .dataframe thead th {\n",
       "        text-align: right;\n",
       "    }\n",
       "</style>\n",
       "<table border=\"1\" class=\"dataframe\">\n",
       "  <thead>\n",
       "    <tr style=\"text-align: right;\">\n",
       "      <th></th>\n",
       "      <th>title</th>\n",
       "      <th>puNumber</th>\n",
       "      <th>show_start_date</th>\n",
       "      <th>type</th>\n",
       "      <th>film_studio</th>\n",
       "      <th>production_country</th>\n",
       "      <th>director</th>\n",
       "      <th>producer</th>\n",
       "      <th>age_restriction</th>\n",
       "      <th>refundable_support</th>\n",
       "      <th>nonrefundable_support</th>\n",
       "      <th>budget</th>\n",
       "      <th>financing_source</th>\n",
       "      <th>ratings</th>\n",
       "      <th>genres</th>\n",
       "      <th>box_office</th>\n",
       "    </tr>\n",
       "  </thead>\n",
       "  <tbody>\n",
       "    <tr>\n",
       "      <th>0</th>\n",
       "      <td>Открытый простор</td>\n",
       "      <td>221048915</td>\n",
       "      <td>2015-11-27T12:00:00.000Z</td>\n",
       "      <td>Художественный</td>\n",
       "      <td>Тачстоун Пикчерз, Кобальт Пикчерз, Бикон Пикче...</td>\n",
       "      <td>США</td>\n",
       "      <td>Кевин Костнер</td>\n",
       "      <td>Дэвид Валдес, Кевин Костнер, Джейк Эбертс</td>\n",
       "      <td>«18+» - запрещено для детей</td>\n",
       "      <td>NaN</td>\n",
       "      <td>NaN</td>\n",
       "      <td>NaN</td>\n",
       "      <td>NaN</td>\n",
       "      <td>7.2</td>\n",
       "      <td>боевик,драма,мелодрама</td>\n",
       "      <td>NaN</td>\n",
       "    </tr>\n",
       "    <tr>\n",
       "      <th>1</th>\n",
       "      <td>Особо важное задание</td>\n",
       "      <td>111013716</td>\n",
       "      <td>2016-09-13T12:00:00.000Z</td>\n",
       "      <td>Художественный</td>\n",
       "      <td>Киностудия \"Мосфильм\"</td>\n",
       "      <td>СССР</td>\n",
       "      <td>Е.Матвеев</td>\n",
       "      <td>NaN</td>\n",
       "      <td>«6+» - для детей старше 6 лет</td>\n",
       "      <td>NaN</td>\n",
       "      <td>NaN</td>\n",
       "      <td>NaN</td>\n",
       "      <td>NaN</td>\n",
       "      <td>6.6</td>\n",
       "      <td>драма,военный</td>\n",
       "      <td>NaN</td>\n",
       "    </tr>\n",
       "    <tr>\n",
       "      <th>2</th>\n",
       "      <td>Особо опасен</td>\n",
       "      <td>221038416</td>\n",
       "      <td>2016-10-10T12:00:00.000Z</td>\n",
       "      <td>Художественный</td>\n",
       "      <td>Юниверсал Пикчерз, Кикстарт Продакшнз, Марк Пл...</td>\n",
       "      <td>США</td>\n",
       "      <td>Тимур Бекмамбетов</td>\n",
       "      <td>Джим Лемли, Джейсон Нетер, Марк Е.Платт, Яйн Смит</td>\n",
       "      <td>«18+» - запрещено для детей</td>\n",
       "      <td>NaN</td>\n",
       "      <td>NaN</td>\n",
       "      <td>NaN</td>\n",
       "      <td>NaN</td>\n",
       "      <td>6.8</td>\n",
       "      <td>фантастика,боевик,триллер</td>\n",
       "      <td>NaN</td>\n",
       "    </tr>\n",
       "    <tr>\n",
       "      <th>3</th>\n",
       "      <td>Особо опасен</td>\n",
       "      <td>221026916</td>\n",
       "      <td>2016-06-10T12:00:00.000Z</td>\n",
       "      <td>Художественный</td>\n",
       "      <td>Юниверсал Пикчерз, Кикстарт Продакшнз, Марк Пл...</td>\n",
       "      <td>США</td>\n",
       "      <td>Тимур Бекмамбетов</td>\n",
       "      <td>Джим Лемли, Джейсон Нетер, Марк Е.Платт, Яйн Смит</td>\n",
       "      <td>«18+» - запрещено для детей</td>\n",
       "      <td>NaN</td>\n",
       "      <td>NaN</td>\n",
       "      <td>NaN</td>\n",
       "      <td>NaN</td>\n",
       "      <td>6.8</td>\n",
       "      <td>фантастика,боевик,триллер</td>\n",
       "      <td>NaN</td>\n",
       "    </tr>\n",
       "    <tr>\n",
       "      <th>4</th>\n",
       "      <td>Особо опасен</td>\n",
       "      <td>221030815</td>\n",
       "      <td>2015-07-29T12:00:00.000Z</td>\n",
       "      <td>Художественный</td>\n",
       "      <td>Юниверсал Пикчерз, Кикстарт Продакшнз, Марк Пл...</td>\n",
       "      <td>США</td>\n",
       "      <td>Тимур Бекмамбетов</td>\n",
       "      <td>Джим Лемли, Джейсон Нетер, Марк Е.Платт, Яйн Смит</td>\n",
       "      <td>«18+» - запрещено для детей</td>\n",
       "      <td>NaN</td>\n",
       "      <td>NaN</td>\n",
       "      <td>NaN</td>\n",
       "      <td>NaN</td>\n",
       "      <td>6.8</td>\n",
       "      <td>фантастика,боевик,триллер</td>\n",
       "      <td>NaN</td>\n",
       "    </tr>\n",
       "    <tr>\n",
       "      <th>...</th>\n",
       "      <td>...</td>\n",
       "      <td>...</td>\n",
       "      <td>...</td>\n",
       "      <td>...</td>\n",
       "      <td>...</td>\n",
       "      <td>...</td>\n",
       "      <td>...</td>\n",
       "      <td>...</td>\n",
       "      <td>...</td>\n",
       "      <td>...</td>\n",
       "      <td>...</td>\n",
       "      <td>...</td>\n",
       "      <td>...</td>\n",
       "      <td>...</td>\n",
       "      <td>...</td>\n",
       "      <td>...</td>\n",
       "    </tr>\n",
       "    <tr>\n",
       "      <th>7480</th>\n",
       "      <td>Сад художника: Американский импрессионизм</td>\n",
       "      <td>126008019</td>\n",
       "      <td>2019-12-23T12:00:00.000Z</td>\n",
       "      <td>Прочие</td>\n",
       "      <td>Севен Артс Продакшнз</td>\n",
       "      <td>Великобритания</td>\n",
       "      <td>Фил Грабски</td>\n",
       "      <td>Фил Грабски</td>\n",
       "      <td>«12+» - для детей старше 12 лет</td>\n",
       "      <td>NaN</td>\n",
       "      <td>NaN</td>\n",
       "      <td>NaN</td>\n",
       "      <td>NaN</td>\n",
       "      <td>NaN</td>\n",
       "      <td>NaN</td>\n",
       "      <td>NaN</td>\n",
       "    </tr>\n",
       "    <tr>\n",
       "      <th>7481</th>\n",
       "      <td>Звериная ярость</td>\n",
       "      <td>121037819</td>\n",
       "      <td>2019-12-24T12:00:00.000Z</td>\n",
       "      <td>Художественный</td>\n",
       "      <td>Дэниел Гродник Продакшнз, Вандерфилм Медиа Кор...</td>\n",
       "      <td>США</td>\n",
       "      <td>Ник Пауэлл</td>\n",
       "      <td>Джефф Боулер, Дэниэл Гродник, Луильо Руис, Брэ...</td>\n",
       "      <td>«16+» - для детей старше 16 лет</td>\n",
       "      <td>NaN</td>\n",
       "      <td>NaN</td>\n",
       "      <td>NaN</td>\n",
       "      <td>NaN</td>\n",
       "      <td>5.4</td>\n",
       "      <td>боевик,триллер</td>\n",
       "      <td>NaN</td>\n",
       "    </tr>\n",
       "    <tr>\n",
       "      <th>7482</th>\n",
       "      <td>Щенячий патруль: Скорей спешим на помощь!</td>\n",
       "      <td>124010819</td>\n",
       "      <td>2019-12-28T12:00:00.000Z</td>\n",
       "      <td>Художественный</td>\n",
       "      <td>Никелодеон Анимейшн Студиос, Спин Мастер</td>\n",
       "      <td>США - Канада</td>\n",
       "      <td>Чарльз Е.Бастьен</td>\n",
       "      <td>Дженнифер Додж</td>\n",
       "      <td>«0+» - для любой зрительской аудитории</td>\n",
       "      <td>NaN</td>\n",
       "      <td>NaN</td>\n",
       "      <td>NaN</td>\n",
       "      <td>NaN</td>\n",
       "      <td>NaN</td>\n",
       "      <td>NaN</td>\n",
       "      <td>NaN</td>\n",
       "    </tr>\n",
       "    <tr>\n",
       "      <th>7483</th>\n",
       "      <td>Машины песенки. Серия \"Испанские мотивы\"</td>\n",
       "      <td>124010619</td>\n",
       "      <td>2019-12-30T12:00:00.000Z</td>\n",
       "      <td>Анимационный</td>\n",
       "      <td>Анимаккорд Лтд., ООО Студия \"АНИМАККОРД\"</td>\n",
       "      <td>Республика Кипр, Россия</td>\n",
       "      <td>А.Беляев</td>\n",
       "      <td>Д.Ловейко</td>\n",
       "      <td>«0+» - для любой зрительской аудитории</td>\n",
       "      <td>NaN</td>\n",
       "      <td>NaN</td>\n",
       "      <td>NaN</td>\n",
       "      <td>NaN</td>\n",
       "      <td>NaN</td>\n",
       "      <td>NaN</td>\n",
       "      <td>NaN</td>\n",
       "    </tr>\n",
       "    <tr>\n",
       "      <th>7484</th>\n",
       "      <td>Машины песенки. Серия \"Когда цветут кактусы\"</td>\n",
       "      <td>124010719</td>\n",
       "      <td>2019-12-30T12:00:00.000Z</td>\n",
       "      <td>Анимационный</td>\n",
       "      <td>Анимаккорд Лтд., ООО Студия \"АНИМАККОРД\"</td>\n",
       "      <td>Республика Кипр, Россия</td>\n",
       "      <td>И.Трусов</td>\n",
       "      <td>Д.Ловейко</td>\n",
       "      <td>«0+» - для любой зрительской аудитории</td>\n",
       "      <td>NaN</td>\n",
       "      <td>NaN</td>\n",
       "      <td>NaN</td>\n",
       "      <td>NaN</td>\n",
       "      <td>6.3</td>\n",
       "      <td>комедия,вестерн</td>\n",
       "      <td>NaN</td>\n",
       "    </tr>\n",
       "  </tbody>\n",
       "</table>\n",
       "<p>7485 rows × 16 columns</p>\n",
       "</div>"
      ],
      "text/plain": [
       "                                             title   puNumber  \\\n",
       "0                                 Открытый простор  221048915   \n",
       "1                             Особо важное задание  111013716   \n",
       "2                                     Особо опасен  221038416   \n",
       "3                                     Особо опасен  221026916   \n",
       "4                                     Особо опасен  221030815   \n",
       "...                                            ...        ...   \n",
       "7480     Сад художника: Американский импрессионизм  126008019   \n",
       "7481                               Звериная ярость  121037819   \n",
       "7482     Щенячий патруль: Скорей спешим на помощь!  124010819   \n",
       "7483      Машины песенки. Серия \"Испанские мотивы\"  124010619   \n",
       "7484  Машины песенки. Серия \"Когда цветут кактусы\"  124010719   \n",
       "\n",
       "               show_start_date             type  \\\n",
       "0     2015-11-27T12:00:00.000Z   Художественный   \n",
       "1     2016-09-13T12:00:00.000Z   Художественный   \n",
       "2     2016-10-10T12:00:00.000Z   Художественный   \n",
       "3     2016-06-10T12:00:00.000Z   Художественный   \n",
       "4     2015-07-29T12:00:00.000Z   Художественный   \n",
       "...                        ...              ...   \n",
       "7480  2019-12-23T12:00:00.000Z           Прочие   \n",
       "7481  2019-12-24T12:00:00.000Z   Художественный   \n",
       "7482  2019-12-28T12:00:00.000Z   Художественный   \n",
       "7483  2019-12-30T12:00:00.000Z     Анимационный   \n",
       "7484  2019-12-30T12:00:00.000Z     Анимационный   \n",
       "\n",
       "                                            film_studio  \\\n",
       "0     Тачстоун Пикчерз, Кобальт Пикчерз, Бикон Пикче...   \n",
       "1                                 Киностудия \"Мосфильм\"   \n",
       "2     Юниверсал Пикчерз, Кикстарт Продакшнз, Марк Пл...   \n",
       "3     Юниверсал Пикчерз, Кикстарт Продакшнз, Марк Пл...   \n",
       "4     Юниверсал Пикчерз, Кикстарт Продакшнз, Марк Пл...   \n",
       "...                                                 ...   \n",
       "7480                               Севен Артс Продакшнз   \n",
       "7481  Дэниел Гродник Продакшнз, Вандерфилм Медиа Кор...   \n",
       "7482           Никелодеон Анимейшн Студиос, Спин Мастер   \n",
       "7483           Анимаккорд Лтд., ООО Студия \"АНИМАККОРД\"   \n",
       "7484           Анимаккорд Лтд., ООО Студия \"АНИМАККОРД\"   \n",
       "\n",
       "           production_country           director  \\\n",
       "0                         США      Кевин Костнер   \n",
       "1                        СССР          Е.Матвеев   \n",
       "2                         США  Тимур Бекмамбетов   \n",
       "3                         США  Тимур Бекмамбетов   \n",
       "4                         США  Тимур Бекмамбетов   \n",
       "...                       ...                ...   \n",
       "7480           Великобритания        Фил Грабски   \n",
       "7481                      США         Ник Пауэлл   \n",
       "7482             США - Канада   Чарльз Е.Бастьен   \n",
       "7483  Республика Кипр, Россия           А.Беляев   \n",
       "7484  Республика Кипр, Россия           И.Трусов   \n",
       "\n",
       "                                               producer  \\\n",
       "0             Дэвид Валдес, Кевин Костнер, Джейк Эбертс   \n",
       "1                                                   NaN   \n",
       "2     Джим Лемли, Джейсон Нетер, Марк Е.Платт, Яйн Смит   \n",
       "3     Джим Лемли, Джейсон Нетер, Марк Е.Платт, Яйн Смит   \n",
       "4     Джим Лемли, Джейсон Нетер, Марк Е.Платт, Яйн Смит   \n",
       "...                                                 ...   \n",
       "7480                                        Фил Грабски   \n",
       "7481  Джефф Боулер, Дэниэл Гродник, Луильо Руис, Брэ...   \n",
       "7482                                     Дженнифер Додж   \n",
       "7483                                          Д.Ловейко   \n",
       "7484                                          Д.Ловейко   \n",
       "\n",
       "                             age_restriction  refundable_support  \\\n",
       "0                «18+» - запрещено для детей                 NaN   \n",
       "1              «6+» - для детей старше 6 лет                 NaN   \n",
       "2                «18+» - запрещено для детей                 NaN   \n",
       "3                «18+» - запрещено для детей                 NaN   \n",
       "4                «18+» - запрещено для детей                 NaN   \n",
       "...                                      ...                 ...   \n",
       "7480         «12+» - для детей старше 12 лет                 NaN   \n",
       "7481         «16+» - для детей старше 16 лет                 NaN   \n",
       "7482  «0+» - для любой зрительской аудитории                 NaN   \n",
       "7483  «0+» - для любой зрительской аудитории                 NaN   \n",
       "7484  «0+» - для любой зрительской аудитории                 NaN   \n",
       "\n",
       "      nonrefundable_support  budget financing_source ratings  \\\n",
       "0                       NaN     NaN              NaN     7.2   \n",
       "1                       NaN     NaN              NaN     6.6   \n",
       "2                       NaN     NaN              NaN     6.8   \n",
       "3                       NaN     NaN              NaN     6.8   \n",
       "4                       NaN     NaN              NaN     6.8   \n",
       "...                     ...     ...              ...     ...   \n",
       "7480                    NaN     NaN              NaN     NaN   \n",
       "7481                    NaN     NaN              NaN     5.4   \n",
       "7482                    NaN     NaN              NaN     NaN   \n",
       "7483                    NaN     NaN              NaN     NaN   \n",
       "7484                    NaN     NaN              NaN     6.3   \n",
       "\n",
       "                         genres  box_office  \n",
       "0        боевик,драма,мелодрама         NaN  \n",
       "1                 драма,военный         NaN  \n",
       "2     фантастика,боевик,триллер         NaN  \n",
       "3     фантастика,боевик,триллер         NaN  \n",
       "4     фантастика,боевик,триллер         NaN  \n",
       "...                         ...         ...  \n",
       "7480                        NaN         NaN  \n",
       "7481             боевик,триллер         NaN  \n",
       "7482                        NaN         NaN  \n",
       "7483                        NaN         NaN  \n",
       "7484            комедия,вестерн         NaN  \n",
       "\n",
       "[7485 rows x 16 columns]"
      ]
     },
     "execution_count": 3,
     "metadata": {},
     "output_type": "execute_result"
    }
   ],
   "source": [
    "#при запуске кода возникает ошибка, у нас есть проблемная строка со значением 'нет' \n",
    "\n",
    "data = data.query('puNumber != \"нет\"') #избавимся от этой строки и вновь попробуем запустить код\n",
    "\n",
    "data['puNumber'] = data['puNumber'].astype(int)\n",
    "\n",
    "data = data.merge(data_shows, on='puNumber', how='left') #объединим таблицы и выведем результат\n",
    "\n",
    "data"
   ]
  },
  {
   "cell_type": "markdown",
   "metadata": {},
   "source": [
    "Мы объединили две таблицы в один датафрейм, который состоит из 7485 строк и 16 столбцов. У нас есть информация из реестра прокатных удостоверений, а также сведения о показах фильмов в российских кинотеатрах."
   ]
  },
  {
   "cell_type": "markdown",
   "metadata": {},
   "source": [
    "<div class=\"alert alert-block alert-success\">\n",
    " \n",
    "### Комментарий ревьюера\n",
    "    \n",
    "#### Успех\n",
    "    \n",
    "Первичная инфомрация о данных получена и проект сохрнен в переменные. "
   ]
  },
  {
   "cell_type": "markdown",
   "metadata": {
    "id": "KLDGpPG0gFyM"
   },
   "source": [
    "### Шаг 2. Предобработка данных"
   ]
  },
  {
   "cell_type": "markdown",
   "metadata": {
    "id": "ssWwKXsxgFyO"
   },
   "source": [
    "#### Шаг 2.1. Проверим типы данных\n",
    "\n",
    "- Проверим типы данных в датафрейме и преобразуем их там, где это необходимо."
   ]
  },
  {
   "cell_type": "code",
   "execution_count": 4,
   "metadata": {
    "id": "kVGSplJOgFyO"
   },
   "outputs": [
    {
     "name": "stdout",
     "output_type": "stream",
     "text": [
      "<class 'pandas.core.frame.DataFrame'>\n",
      "Int64Index: 7485 entries, 0 to 7484\n",
      "Data columns (total 16 columns):\n",
      " #   Column                 Non-Null Count  Dtype  \n",
      "---  ------                 --------------  -----  \n",
      " 0   title                  7485 non-null   object \n",
      " 1   puNumber               7485 non-null   int64  \n",
      " 2   show_start_date        7485 non-null   object \n",
      " 3   type                   7485 non-null   object \n",
      " 4   film_studio            7467 non-null   object \n",
      " 5   production_country     7483 non-null   object \n",
      " 6   director               7476 non-null   object \n",
      " 7   producer               6917 non-null   object \n",
      " 8   age_restriction        7485 non-null   object \n",
      " 9   refundable_support     332 non-null    float64\n",
      " 10  nonrefundable_support  332 non-null    float64\n",
      " 11  budget                 332 non-null    float64\n",
      " 12  financing_source       332 non-null    object \n",
      " 13  ratings                6519 non-null   object \n",
      " 14  genres                 6510 non-null   object \n",
      " 15  box_office             3158 non-null   float64\n",
      "dtypes: float64(4), int64(1), object(11)\n",
      "memory usage: 994.1+ KB\n"
     ]
    }
   ],
   "source": [
    "data.info()"
   ]
  },
  {
   "cell_type": "markdown",
   "metadata": {},
   "source": [
    "Изменим формат на datetime, так как столбец *show_start_date* содержит время"
   ]
  },
  {
   "cell_type": "code",
   "execution_count": 5,
   "metadata": {},
   "outputs": [
    {
     "data": {
      "text/plain": [
       "0      2015-11-27 12:00:00+00:00\n",
       "1      2016-09-13 12:00:00+00:00\n",
       "2      2016-10-10 12:00:00+00:00\n",
       "3      2016-06-10 12:00:00+00:00\n",
       "4      2015-07-29 12:00:00+00:00\n",
       "                  ...           \n",
       "7480   2019-12-23 12:00:00+00:00\n",
       "7481   2019-12-24 12:00:00+00:00\n",
       "7482   2019-12-28 12:00:00+00:00\n",
       "7483   2019-12-30 12:00:00+00:00\n",
       "7484   2019-12-30 12:00:00+00:00\n",
       "Name: show_start_date, Length: 7485, dtype: datetime64[ns, UTC]"
      ]
     },
     "execution_count": 5,
     "metadata": {},
     "output_type": "execute_result"
    }
   ],
   "source": [
    "data['show_start_date'] = pd.to_datetime(data['show_start_date'], format='%Y-%m-%dT%H:%M:%S')\n",
    "data['show_start_date']"
   ]
  },
  {
   "cell_type": "markdown",
   "metadata": {},
   "source": [
    "<div class=\"alert alert-block alert-success\">\n",
    " \n",
    "### Комментарий ревьюера\n",
    "    \n",
    "#### Успех\n",
    "    \n",
    "Классный способ использован для перевода данные в формат даты "
   ]
  },
  {
   "cell_type": "markdown",
   "metadata": {},
   "source": [
    "Столбец с рейтингом необходимо преобразовать в вещественный тип. Для начала расссмотрим уникальные значения этого столбца"
   ]
  },
  {
   "cell_type": "code",
   "execution_count": 6,
   "metadata": {},
   "outputs": [
    {
     "data": {
      "text/plain": [
       "array(['7.2', '6.6', '6.8', '7.7', '8.3', '8.0', '7.8', '8.1', '7.1',\n",
       "       '6.0', '7.4', '5.8', '8.7', '6.3', '6.9', '5.0', '4.3', '7.3',\n",
       "       '7.0', '6.4', nan, '8.2', '7.5', '6.7', '7.9', '5.9', '6.2', '5.6',\n",
       "       '6.5', '2.4', '7.6', '6.1', '8.6', '8.5', '8.8', '5.5', '5.1',\n",
       "       '5.7', '5.4', '99%', '4.4', '4.5', '5.3', '4.1', '8.4', '2.6',\n",
       "       '3.8', '4.6', '4.8', '4.0', '3.0', '1.6', '4.2', '5.2', '4.7',\n",
       "       '4.9', '3.9', '2.7', '3.3', '2.9', '28%', '3.7', '1.4', '3.1',\n",
       "       '97%', '3.5', '3.2', '2.8', '1.5', '2.1', '2.5', '9.2', '3.4',\n",
       "       '1.1', '3.6', '83%', '64%', '91%', '94%', '62%', '79%', '90%',\n",
       "       '19%', '88%', '1.0', '89%', '1.3', '1.9', '1.8', '1.2', '1.7',\n",
       "       '9.0', '98%', '8.9', '9.1'], dtype=object)"
      ]
     },
     "execution_count": 6,
     "metadata": {},
     "output_type": "execute_result"
    }
   ],
   "source": [
    "data['ratings'].unique()"
   ]
  },
  {
   "cell_type": "markdown",
   "metadata": {},
   "source": [
    "В большинстве случаев рейтинг отображен корректно, однако встречаются значения в процентах. Допустим, что значения в процентах используются для отображения рейтинга, в таком случае переведем процентные значения в общую шкалу"
   ]
  },
  {
   "cell_type": "code",
   "execution_count": 7,
   "metadata": {},
   "outputs": [
    {
     "data": {
      "text/plain": [
       "array([ 7.2,  6.6,  6.8,  7.7,  8.3,  8. ,  7.8,  8.1,  7.1,  6. ,  7.4,\n",
       "        5.8,  8.7,  6.3,  6.9,  5. ,  4.3,  7.3,  7. ,  6.4,  nan,  8.2,\n",
       "        7.5,  6.7,  7.9,  5.9,  6.2,  5.6,  6.5,  2.4,  7.6,  6.1,  8.6,\n",
       "        8.5,  8.8,  5.5,  5.1,  5.7,  5.4, 99. ,  4.4,  4.5,  5.3,  4.1,\n",
       "        8.4,  2.6,  3.8,  4.6,  4.8,  4. ,  3. ,  1.6,  4.2,  5.2,  4.7,\n",
       "        4.9,  3.9,  2.7,  3.3,  2.9, 28. ,  3.7,  1.4,  3.1, 97. ,  3.5,\n",
       "        3.2,  2.8,  1.5,  2.1,  2.5,  9.2,  3.4,  1.1,  3.6, 83. , 64. ,\n",
       "       91. , 94. , 62. , 79. , 90. , 19. , 88. ,  1. , 89. ,  1.3,  1.9,\n",
       "        1.8,  1.2,  1.7,  9. , 98. ,  8.9,  9.1])"
      ]
     },
     "execution_count": 7,
     "metadata": {},
     "output_type": "execute_result"
    }
   ],
   "source": [
    "data['ratings'] = data['ratings'].str.replace('%', '').astype('float')  \n",
    "data['ratings'].unique()"
   ]
  },
  {
   "cell_type": "code",
   "execution_count": 8,
   "metadata": {},
   "outputs": [
    {
     "data": {
      "text/plain": [
       "array([7.2, 6.6, 6.8, 7.7, 8.3, 8. , 7.8, 8.1, 7.1, 6. , 7.4, 5.8, 8.7,\n",
       "       6.3, 6.9, 5. , 4.3, 7.3, 7. , 6.4, nan, 8.2, 7.5, 6.7, 7.9, 5.9,\n",
       "       6.2, 5.6, 6.5, 2.4, 7.6, 6.1, 8.6, 8.5, 8.8, 5.5, 5.1, 5.7, 5.4,\n",
       "       9.9, 4.4, 4.5, 5.3, 4.1, 8.4, 2.6, 3.8, 4.6, 4.8, 4. , 3. , 1.6,\n",
       "       4.2, 5.2, 4.7, 4.9, 3.9, 2.7, 3.3, 2.9, 2.8, 3.7, 1.4, 3.1, 9.7,\n",
       "       3.5, 3.2, 1.5, 2.1, 2.5, 9.2, 3.4, 1.1, 3.6, 9.1, 9.4, 9. , 1.9,\n",
       "       1. , 8.9, 1.3, 1.8, 1.2, 1.7, 9.8])"
      ]
     },
     "execution_count": 8,
     "metadata": {},
     "output_type": "execute_result"
    }
   ],
   "source": [
    "ratings_high = data.loc[data['ratings'] > 10]\n",
    "data.loc[data['ratings'] > 10, 'ratings'] = ratings_high['ratings']/10\n",
    "data['ratings'].unique()"
   ]
  },
  {
   "cell_type": "markdown",
   "metadata": {},
   "source": [
    "<div class=\"alert alert-block alert-success\">\n",
    " \n",
    "### Комментарий ревьюера\n",
    "    \n",
    "#### Успех\n",
    "    \n",
    "С типом данных вопрос решен "
   ]
  },
  {
   "cell_type": "markdown",
   "metadata": {
    "id": "i0MOLbF-gFyP"
   },
   "source": [
    "#### Шаг 2.2. Изучим пропуски в датафрейме"
   ]
  },
  {
   "cell_type": "code",
   "execution_count": 9,
   "metadata": {
    "id": "8MJD_lkngFyP"
   },
   "outputs": [
    {
     "data": {
      "text/plain": [
       "title                       0\n",
       "puNumber                    0\n",
       "show_start_date             0\n",
       "type                        0\n",
       "film_studio                18\n",
       "production_country          2\n",
       "director                    9\n",
       "producer                  568\n",
       "age_restriction             0\n",
       "refundable_support       7153\n",
       "nonrefundable_support    7153\n",
       "budget                   7153\n",
       "financing_source         7153\n",
       "ratings                   966\n",
       "genres                    975\n",
       "box_office               4327\n",
       "dtype: int64"
      ]
     },
     "execution_count": 9,
     "metadata": {},
     "output_type": "execute_result"
    }
   ],
   "source": [
    "data.isna().sum()"
   ]
  },
  {
   "cell_type": "code",
   "execution_count": 10,
   "metadata": {},
   "outputs": [
    {
     "data": {
      "text/plain": [
       "<AxesSubplot:>"
      ]
     },
     "execution_count": 10,
     "metadata": {},
     "output_type": "execute_result"
    },
    {
     "data": {
      "image/png": "[encoded data removed]",
      "text/plain": [
       "<Figure size 1800x720 with 2 Axes>"
      ]
     },
     "metadata": {
      "needs_background": "light"
     },
     "output_type": "display_data"
    }
   ],
   "source": [
    "msno.matrix(data, labels=True)"
   ]
  },
  {
   "cell_type": "markdown",
   "metadata": {},
   "source": [
    "<div class=\"alert alert-block alert-warning\">\n",
    " \n",
    "### Комментарий ревьюера\n",
    "    \n",
    "#### Совет\n",
    "    \n",
    "Для визуализации пропусков используй  https://russianblogs.com/article/5001266235/"
   ]
  },
  {
   "cell_type": "markdown",
   "metadata": {},
   "source": [
    "**Cтудия-производитель**"
   ]
  },
  {
   "cell_type": "markdown",
   "metadata": {},
   "source": [
    "Мы видим, что у нас довольно маленькое количество пропусков студии-производителя, скорее всего данные изначально не были заполнены. Можем удалить строки с пропусками в данном столбце, так как на дальнейший анализ данных это не повлияет значительно"
   ]
  },
  {
   "cell_type": "code",
   "execution_count": 11,
   "metadata": {},
   "outputs": [],
   "source": [
    "data = data.dropna(subset=['film_studio'])"
   ]
  },
  {
   "cell_type": "markdown",
   "metadata": {},
   "source": [
    "<div class=\"alert alert-block alert-success\">\n",
    " \n",
    "### Комментарий ревьюера\n",
    "    \n",
    "#### Успех\n",
    "    \n",
    "Согласен. Пропусков мало и логично избавиться от них. "
   ]
  },
  {
   "cell_type": "markdown",
   "metadata": {},
   "source": [
    "**Продюсер**"
   ]
  },
  {
   "cell_type": "code",
   "execution_count": 12,
   "metadata": {},
   "outputs": [
    {
     "name": "stdout",
     "output_type": "stream",
     "text": [
      "Пропусков продюсера: 7.59%\n"
     ]
    }
   ],
   "source": [
    "producer_percentage = data['producer'].isna().sum()/len(data)\n",
    "print(f'Пропусков продюсера: {producer_percentage:.2%}')"
   ]
  },
  {
   "cell_type": "markdown",
   "metadata": {},
   "source": [
    "Пропусков в столбце с именем продюсера фильма около 8%. Можем заменить пропуски на категорию \"Нет продюсера\""
   ]
  },
  {
   "cell_type": "code",
   "execution_count": 13,
   "metadata": {},
   "outputs": [],
   "source": [
    "data['producer'] = data['producer'].fillna('Нет продюсера')"
   ]
  },
  {
   "cell_type": "markdown",
   "metadata": {},
   "source": [
    "<div class=\"alert alert-block alert-success\">\n",
    " \n",
    "### Комментарий ревьюера\n",
    "    \n",
    "#### Успех\n",
    "    \n",
    "Значение-заглушка это отличное решение. "
   ]
  },
  {
   "cell_type": "markdown",
   "metadata": {},
   "source": [
    "**Объём средств государственной поддержки, источник финансирования и бюджет**"
   ]
  },
  {
   "cell_type": "code",
   "execution_count": 14,
   "metadata": {},
   "outputs": [
    {
     "name": "stdout",
     "output_type": "stream",
     "text": [
      "Пропусков возвратных средств государственной поддержки: 95.55%\n"
     ]
    }
   ],
   "source": [
    "refundable_support_percentage = data['refundable_support'].isna().sum()/len(data)\n",
    "print(f'Пропусков возвратных средств государственной поддержки: {refundable_support_percentage:.2%}')"
   ]
  },
  {
   "cell_type": "markdown",
   "metadata": {},
   "source": [
    "Мы видим большой процент пропущенных значений в столбце с объемом возвратных средств государственной поддержки. Также изначально при анализе количества пропусков было обнаружено одинаковое количество пропущенных значений в столбцах с возвратными и невозвратными средствами, общим бюджетом фильма и источником государственного финансирования. Проверим, совпадают ли эти строки"
   ]
  },
  {
   "cell_type": "code",
   "execution_count": 15,
   "metadata": {},
   "outputs": [
    {
     "name": "stdout",
     "output_type": "stream",
     "text": [
      "7135\n"
     ]
    }
   ],
   "source": [
    "print(\n",
    "    len(data.loc[(data['refundable_support'].isna())&\n",
    "    (data['nonrefundable_support'].isna())&\n",
    "    (data['budget'].isna())&\n",
    "    (data['financing_source'].isna())])\n",
    ")"
   ]
  },
  {
   "cell_type": "markdown",
   "metadata": {},
   "source": [
    "Строки совпадают, это означает, что бюджет фильмов в датафрейме представлен только в тех картинах, где есть средства государственной поддержки. Пропуски в данных столбцах говорят о том, что источником финансирования не были Министерство культуры или Фонд кино. Учитывая это, заменим пропуски в источниках на \"другой источник финансирования\"."
   ]
  },
  {
   "cell_type": "code",
   "execution_count": 16,
   "metadata": {},
   "outputs": [],
   "source": [
    "data['financing_source'] = data['financing_source'].fillna('Другой источник финансирования')"
   ]
  },
  {
   "cell_type": "markdown",
   "metadata": {},
   "source": [
    "**Страна производитель и режиссёр**"
   ]
  },
  {
   "cell_type": "markdown",
   "metadata": {},
   "source": [
    "Так как пропусков в данных столбцах довольно мало (2 и 9), то удалим строки с пропусками"
   ]
  },
  {
   "cell_type": "code",
   "execution_count": 17,
   "metadata": {},
   "outputs": [],
   "source": [
    "data = data.dropna(subset=['director'])\n",
    "data = data.dropna(subset=['production_country'])"
   ]
  },
  {
   "cell_type": "markdown",
   "metadata": {},
   "source": [
    "**Рейтинг фильма на КиноПоиске**"
   ]
  },
  {
   "cell_type": "markdown",
   "metadata": {},
   "source": [
    "Мы не можем заменить пропуски средними значениями, так как это будет некорректно. Скорее всего пропуски говорят о том, что на КиноПоиске недостаточно оценок для выставления рейтинга. В таком случае заменим пропуски на 0, это будет говорить нам о том, что у фильма нет рейтинга"
   ]
  },
  {
   "cell_type": "code",
   "execution_count": 18,
   "metadata": {},
   "outputs": [],
   "source": [
    "data['ratings'] = data['ratings'].fillna(0)"
   ]
  },
  {
   "cell_type": "markdown",
   "metadata": {},
   "source": [
    "**Жанр фильма**"
   ]
  },
  {
   "cell_type": "markdown",
   "metadata": {},
   "source": [
    "Заменим пропуски на категорию \"Нет жанра\""
   ]
  },
  {
   "cell_type": "code",
   "execution_count": 19,
   "metadata": {},
   "outputs": [],
   "source": [
    "data['genres'] = data['genres'].fillna('Без жанра')"
   ]
  },
  {
   "cell_type": "markdown",
   "metadata": {},
   "source": [
    "**Сборы в рублях**"
   ]
  },
  {
   "cell_type": "markdown",
   "metadata": {},
   "source": [
    "Заполним пропуски нолями, так как заменить их другим корректным способом не выйдет. Пропуски могут говорить о том, что фильм не вышел в прокат"
   ]
  },
  {
   "cell_type": "code",
   "execution_count": 20,
   "metadata": {},
   "outputs": [],
   "source": [
    "data['box_office'] = data['box_office'].fillna(0)"
   ]
  },
  {
   "cell_type": "markdown",
   "metadata": {},
   "source": [
    "Остальные пропуски обработаем при следующих шагах. Проверим финально пропуски"
   ]
  },
  {
   "cell_type": "code",
   "execution_count": 21,
   "metadata": {},
   "outputs": [
    {
     "data": {
      "text/plain": [
       "title                       0\n",
       "puNumber                    0\n",
       "show_start_date             0\n",
       "type                        0\n",
       "film_studio                 0\n",
       "production_country          0\n",
       "director                    0\n",
       "producer                    0\n",
       "age_restriction             0\n",
       "refundable_support       7126\n",
       "nonrefundable_support    7126\n",
       "budget                   7126\n",
       "financing_source            0\n",
       "ratings                     0\n",
       "genres                      0\n",
       "box_office                  0\n",
       "dtype: int64"
      ]
     },
     "execution_count": 21,
     "metadata": {},
     "output_type": "execute_result"
    }
   ],
   "source": [
    "data.isna().sum()"
   ]
  },
  {
   "cell_type": "markdown",
   "metadata": {},
   "source": [
    "<div class=\"alert alert-block alert-success\">\n",
    " \n",
    "### Комментарий ревьюера\n",
    "    \n",
    "#### Успех\n",
    "    \n",
    "С пропусками здорово справились. "
   ]
  },
  {
   "cell_type": "markdown",
   "metadata": {
    "id": "4c6k1t9ygFyQ"
   },
   "source": [
    "#### Шаг 2.3. Изучим дубликаты в датафрейме\n",
    "- Проверим, есть ли в данных дубликаты. Опишем причины, которые могли повлиять на появление дублей."
   ]
  },
  {
   "cell_type": "code",
   "execution_count": 22,
   "metadata": {
    "id": "aKck8RIdgFyQ"
   },
   "outputs": [
    {
     "data": {
      "text/plain": [
       "0"
      ]
     },
     "execution_count": 22,
     "metadata": {},
     "output_type": "execute_result"
    }
   ],
   "source": [
    "data.duplicated().sum()"
   ]
  },
  {
   "cell_type": "markdown",
   "metadata": {},
   "source": [
    "Мы видим, что полных совпадений нет. В таком случае проверим совпадают ли фильмы по номеру прокатного удостоверения"
   ]
  },
  {
   "cell_type": "code",
   "execution_count": 23,
   "metadata": {},
   "outputs": [
    {
     "data": {
      "text/plain": [
       "221154310    2\n",
       "221054410    2\n",
       "122001411    1\n",
       "121017119    1\n",
       "114002716    1\n",
       "            ..\n",
       "121013618    1\n",
       "121017712    1\n",
       "211019118    1\n",
       "121009516    1\n",
       "126002916    1\n",
       "Name: puNumber, Length: 7456, dtype: int64"
      ]
     },
     "execution_count": 23,
     "metadata": {},
     "output_type": "execute_result"
    }
   ],
   "source": [
    "data['puNumber'].value_counts()"
   ]
  },
  {
   "cell_type": "code",
   "execution_count": 24,
   "metadata": {},
   "outputs": [
    {
     "data": {
      "text/html": [
       "<div>\n",
       "<style scoped>\n",
       "    .dataframe tbody tr th:only-of-type {\n",
       "        vertical-align: middle;\n",
       "    }\n",
       "\n",
       "    .dataframe tbody tr th {\n",
       "        vertical-align: top;\n",
       "    }\n",
       "\n",
       "    .dataframe thead th {\n",
       "        text-align: right;\n",
       "    }\n",
       "</style>\n",
       "<table border=\"1\" class=\"dataframe\">\n",
       "  <thead>\n",
       "    <tr style=\"text-align: right;\">\n",
       "      <th></th>\n",
       "      <th>title</th>\n",
       "      <th>puNumber</th>\n",
       "      <th>show_start_date</th>\n",
       "      <th>type</th>\n",
       "      <th>film_studio</th>\n",
       "      <th>production_country</th>\n",
       "      <th>director</th>\n",
       "      <th>producer</th>\n",
       "      <th>age_restriction</th>\n",
       "      <th>refundable_support</th>\n",
       "      <th>nonrefundable_support</th>\n",
       "      <th>budget</th>\n",
       "      <th>financing_source</th>\n",
       "      <th>ratings</th>\n",
       "      <th>genres</th>\n",
       "      <th>box_office</th>\n",
       "    </tr>\n",
       "  </thead>\n",
       "  <tbody>\n",
       "    <tr>\n",
       "      <th>5066</th>\n",
       "      <td>Анализируй это!</td>\n",
       "      <td>221054410</td>\n",
       "      <td>2010-05-25 12:00:00+00:00</td>\n",
       "      <td>Художественный</td>\n",
       "      <td>Уорнер Бразерс, Вилладж Роудшоу Филмз ЛТД</td>\n",
       "      <td>США-Австралия</td>\n",
       "      <td>ХЭрольд Рэмис</td>\n",
       "      <td>Джейн Розенталь, Пола Уейнстейн</td>\n",
       "      <td>«16+» - для детей старше 16 лет</td>\n",
       "      <td>NaN</td>\n",
       "      <td>NaN</td>\n",
       "      <td>NaN</td>\n",
       "      <td>Другой источник финансирования</td>\n",
       "      <td>7.4</td>\n",
       "      <td>комедия,криминал</td>\n",
       "      <td>0.0</td>\n",
       "    </tr>\n",
       "    <tr>\n",
       "      <th>5067</th>\n",
       "      <td>Анализируй то!</td>\n",
       "      <td>221054410</td>\n",
       "      <td>2010-05-25 12:00:00+00:00</td>\n",
       "      <td>Художественный</td>\n",
       "      <td>Уорнер Бразерс, Виллидж Роадшоу Пикчерз, Эн-Пи...</td>\n",
       "      <td>США</td>\n",
       "      <td>Гарольд Реймис</td>\n",
       "      <td>Джейн Розенталь, Паул Уэйнстейн</td>\n",
       "      <td>«12+» - для детей старше 12 лет</td>\n",
       "      <td>NaN</td>\n",
       "      <td>NaN</td>\n",
       "      <td>NaN</td>\n",
       "      <td>Другой источник финансирования</td>\n",
       "      <td>6.8</td>\n",
       "      <td>комедия,криминал</td>\n",
       "      <td>0.0</td>\n",
       "    </tr>\n",
       "  </tbody>\n",
       "</table>\n",
       "</div>"
      ],
      "text/plain": [
       "                title   puNumber           show_start_date            type  \\\n",
       "5066  Анализируй это!  221054410 2010-05-25 12:00:00+00:00  Художественный   \n",
       "5067   Анализируй то!  221054410 2010-05-25 12:00:00+00:00  Художественный   \n",
       "\n",
       "                                            film_studio production_country  \\\n",
       "5066          Уорнер Бразерс, Вилладж Роудшоу Филмз ЛТД      США-Австралия   \n",
       "5067  Уорнер Бразерс, Виллидж Роадшоу Пикчерз, Эн-Пи...                США   \n",
       "\n",
       "            director                         producer  \\\n",
       "5066   ХЭрольд Рэмис  Джейн Розенталь, Пола Уейнстейн   \n",
       "5067  Гарольд Реймис  Джейн Розенталь, Паул Уэйнстейн   \n",
       "\n",
       "                      age_restriction  refundable_support  \\\n",
       "5066  «16+» - для детей старше 16 лет                 NaN   \n",
       "5067  «12+» - для детей старше 12 лет                 NaN   \n",
       "\n",
       "      nonrefundable_support  budget                financing_source  ratings  \\\n",
       "5066                    NaN     NaN  Другой источник финансирования      7.4   \n",
       "5067                    NaN     NaN  Другой источник финансирования      6.8   \n",
       "\n",
       "                genres  box_office  \n",
       "5066  комедия,криминал         0.0  \n",
       "5067  комедия,криминал         0.0  "
      ]
     },
     "execution_count": 24,
     "metadata": {},
     "output_type": "execute_result"
    }
   ],
   "source": [
    "data.query('puNumber == 221054410')"
   ]
  },
  {
   "cell_type": "markdown",
   "metadata": {},
   "source": [
    "Два разных фильма имеют одинаковый номер прокатного удостоверения, возможно произошла ошибка при его выдаче. Заменим один из них на другой рандомный номер для дальнейшего анализа данных"
   ]
  },
  {
   "cell_type": "code",
   "execution_count": 25,
   "metadata": {},
   "outputs": [],
   "source": [
    "data.loc[(data['puNumber'] == 221054410)&(data['title'] == 'Анализируй это!'), 'puNumber'] = 1000000"
   ]
  },
  {
   "cell_type": "markdown",
   "metadata": {},
   "source": [
    "Сделаем то же самое, но с другим номером"
   ]
  },
  {
   "cell_type": "code",
   "execution_count": 26,
   "metadata": {},
   "outputs": [
    {
     "data": {
      "text/html": [
       "<div>\n",
       "<style scoped>\n",
       "    .dataframe tbody tr th:only-of-type {\n",
       "        vertical-align: middle;\n",
       "    }\n",
       "\n",
       "    .dataframe tbody tr th {\n",
       "        vertical-align: top;\n",
       "    }\n",
       "\n",
       "    .dataframe thead th {\n",
       "        text-align: right;\n",
       "    }\n",
       "</style>\n",
       "<table border=\"1\" class=\"dataframe\">\n",
       "  <thead>\n",
       "    <tr style=\"text-align: right;\">\n",
       "      <th></th>\n",
       "      <th>title</th>\n",
       "      <th>puNumber</th>\n",
       "      <th>show_start_date</th>\n",
       "      <th>type</th>\n",
       "      <th>film_studio</th>\n",
       "      <th>production_country</th>\n",
       "      <th>director</th>\n",
       "      <th>producer</th>\n",
       "      <th>age_restriction</th>\n",
       "      <th>refundable_support</th>\n",
       "      <th>nonrefundable_support</th>\n",
       "      <th>budget</th>\n",
       "      <th>financing_source</th>\n",
       "      <th>ratings</th>\n",
       "      <th>genres</th>\n",
       "      <th>box_office</th>\n",
       "    </tr>\n",
       "  </thead>\n",
       "  <tbody>\n",
       "    <tr>\n",
       "      <th>4637</th>\n",
       "      <td>Как жениться и остаться холостым</td>\n",
       "      <td>221154310</td>\n",
       "      <td>2010-12-17 12:00:00+00:00</td>\n",
       "      <td>Художественный</td>\n",
       "      <td>Ше Вам, Скрипт Ассосье, Тэ Фэ 1 Фильм Продюксь...</td>\n",
       "      <td>Франция</td>\n",
       "      <td>Эрик Лартиго</td>\n",
       "      <td>Амандин Било, Алан Шаба</td>\n",
       "      <td>«16+» - для детей старше 16 лет</td>\n",
       "      <td>NaN</td>\n",
       "      <td>NaN</td>\n",
       "      <td>NaN</td>\n",
       "      <td>Другой источник финансирования</td>\n",
       "      <td>7.0</td>\n",
       "      <td>мелодрама,комедия</td>\n",
       "      <td>0.0</td>\n",
       "    </tr>\n",
       "    <tr>\n",
       "      <th>4638</th>\n",
       "      <td>Иоанна - женщина на папском престоле /По роман...</td>\n",
       "      <td>221154310</td>\n",
       "      <td>2010-12-17 12:00:00+00:00</td>\n",
       "      <td>Художественный</td>\n",
       "      <td>Константин Фильм, А Эр Ди Дегето Фильм, Дюне ...</td>\n",
       "      <td>Германия - Великобритания - Италия - Испания</td>\n",
       "      <td>Зенке Вортманн</td>\n",
       "      <td>Оливер Бербен, Дорис Д.Хайнце, Фарук Элтан</td>\n",
       "      <td>«16+» - для детей старше 16 лет</td>\n",
       "      <td>NaN</td>\n",
       "      <td>NaN</td>\n",
       "      <td>NaN</td>\n",
       "      <td>Другой источник финансирования</td>\n",
       "      <td>7.6</td>\n",
       "      <td>драма,мелодрама,история</td>\n",
       "      <td>0.0</td>\n",
       "    </tr>\n",
       "  </tbody>\n",
       "</table>\n",
       "</div>"
      ],
      "text/plain": [
       "                                                  title   puNumber  \\\n",
       "4637                   Как жениться и остаться холостым  221154310   \n",
       "4638  Иоанна - женщина на папском престоле /По роман...  221154310   \n",
       "\n",
       "               show_start_date            type  \\\n",
       "4637 2010-12-17 12:00:00+00:00  Художественный   \n",
       "4638 2010-12-17 12:00:00+00:00  Художественный   \n",
       "\n",
       "                                            film_studio  \\\n",
       "4637  Ше Вам, Скрипт Ассосье, Тэ Фэ 1 Фильм Продюксь...   \n",
       "4638   Константин Фильм, А Эр Ди Дегето Фильм, Дюне ...   \n",
       "\n",
       "                                production_country        director  \\\n",
       "4637                                       Франция    Эрик Лартиго   \n",
       "4638  Германия - Великобритания - Италия - Испания  Зенке Вортманн   \n",
       "\n",
       "                                        producer  \\\n",
       "4637                     Амандин Било, Алан Шаба   \n",
       "4638  Оливер Бербен, Дорис Д.Хайнце, Фарук Элтан   \n",
       "\n",
       "                      age_restriction  refundable_support  \\\n",
       "4637  «16+» - для детей старше 16 лет                 NaN   \n",
       "4638  «16+» - для детей старше 16 лет                 NaN   \n",
       "\n",
       "      nonrefundable_support  budget                financing_source  ratings  \\\n",
       "4637                    NaN     NaN  Другой источник финансирования      7.0   \n",
       "4638                    NaN     NaN  Другой источник финансирования      7.6   \n",
       "\n",
       "                       genres  box_office  \n",
       "4637        мелодрама,комедия         0.0  \n",
       "4638  драма,мелодрама,история         0.0  "
      ]
     },
     "execution_count": 26,
     "metadata": {},
     "output_type": "execute_result"
    }
   ],
   "source": [
    "data.query('puNumber == 221154310')"
   ]
  },
  {
   "cell_type": "code",
   "execution_count": 27,
   "metadata": {},
   "outputs": [],
   "source": [
    "data.loc[(data['puNumber'] == 221154310)&(data['title'] == 'Как жениться и остаться холостым'), 'puNumber'] = 1000001"
   ]
  },
  {
   "cell_type": "markdown",
   "metadata": {},
   "source": [
    "<div class=\"alert alert-block alert-success\">\n",
    " \n",
    "### Комментарий ревьюера\n",
    "    \n",
    "#### Успех\n",
    "    \n",
    "На явные и неявные дубли проверку сделали "
   ]
  },
  {
   "cell_type": "markdown",
   "metadata": {
    "id": "52fOPrEBgFyQ"
   },
   "source": [
    "#### Шаг 2.4. Изучим категориальные значения\n",
    "\n",
    "- Посмотрите, какая общая проблема встречается почти во всех категориальных столбцах;\n",
    "- Исправьте проблемные значения в поле `type`.\n",
    "\n",
    "<div id=\"accordion\">\n",
    "    <div class=\"card\">\n",
    "        <div class=\"card-header\" id=\"headingThree\">\n",
    "            <button class=\"btn btn-link collapsed\" data-toggle=\"collapse\" data-target=\"#collapseHint_1\" aria-expanded=\"false\" aria-controls=\"collapseHint_1\">Подсказка</button>\n",
    "        </div>\n",
    "        <div id=\"collapseHint_1\" class=\"collapse\" aria-labelledby=\"headingThree\" data-parent=\"#accordion\">\n",
    "            <div class=\"card-body\">\n",
    "В поле <code>type</code> есть несколько значений, у которых появился пробел в начале строки. Самый простой способ их «починить» -- использовать метод <a href=\"https://pandas.pydata.org/docs/reference/api/pandas.Series.str.strip.html#pandas.Series.str.strip\">.str.strip</a>. Этот метод удаляет все пробелы, которые встречаются в начале и в конце строки. Применяют его таким образом:<br>\n",
    "<code>df['type'].str.strip()</code>\n",
    "            </div>\n",
    "        </div>\n",
    "    </div>\n",
    "</div>"
   ]
  },
  {
   "cell_type": "markdown",
   "metadata": {},
   "source": [
    "**Тип фильма**"
   ]
  },
  {
   "cell_type": "markdown",
   "metadata": {
    "id": "PnXKIVdFgFyR"
   },
   "source": [
    "Посмотрим на уникальные значения в столбце типа фильма"
   ]
  },
  {
   "cell_type": "code",
   "execution_count": 28,
   "metadata": {},
   "outputs": [
    {
     "data": {
      "text/plain": [
       "array(['Художественный', 'Анимационный', 'Прочие', 'Документальный',\n",
       "       'Научно-популярный', ' Художественный', ' Анимационный',\n",
       "       'Музыкально-развлекательный'], dtype=object)"
      ]
     },
     "execution_count": 28,
     "metadata": {},
     "output_type": "execute_result"
    }
   ],
   "source": [
    "data['type'].unique()"
   ]
  },
  {
   "cell_type": "markdown",
   "metadata": {},
   "source": [
    "Видим наличие пробелов в названиях, поэтому избавимся от них"
   ]
  },
  {
   "cell_type": "code",
   "execution_count": 29,
   "metadata": {},
   "outputs": [
    {
     "data": {
      "text/plain": [
       "array(['Художественный', 'Анимационный', 'Прочие', 'Документальный',\n",
       "       'Научно-популярный', 'Музыкально-развлекательный'], dtype=object)"
      ]
     },
     "execution_count": 29,
     "metadata": {},
     "output_type": "execute_result"
    }
   ],
   "source": [
    "data['type'] = data['type'].str.strip()\n",
    "data['type'].unique()"
   ]
  },
  {
   "cell_type": "markdown",
   "metadata": {},
   "source": [
    "**Возрастная категория**"
   ]
  },
  {
   "cell_type": "code",
   "execution_count": 30,
   "metadata": {},
   "outputs": [
    {
     "data": {
      "text/plain": [
       "array(['«18+» - запрещено для детей', '«6+» - для детей старше 6 лет',\n",
       "       '«12+» - для детей старше 12 лет',\n",
       "       '«16+» - для детей старше 16 лет',\n",
       "       '«0+» - для любой зрительской аудитории'], dtype=object)"
      ]
     },
     "execution_count": 30,
     "metadata": {},
     "output_type": "execute_result"
    }
   ],
   "source": [
    "data['age_restriction'].unique()"
   ]
  },
  {
   "cell_type": "markdown",
   "metadata": {},
   "source": [
    "С данными все в порядке"
   ]
  },
  {
   "cell_type": "markdown",
   "metadata": {},
   "source": [
    "**Источник государственного финансирования**"
   ]
  },
  {
   "cell_type": "code",
   "execution_count": 31,
   "metadata": {},
   "outputs": [
    {
     "data": {
      "text/plain": [
       "array(['Другой источник финансирования', 'Министерство культуры',\n",
       "       'Фонд кино', 'Министерство культуры, Фонд кино'], dtype=object)"
      ]
     },
     "execution_count": 31,
     "metadata": {},
     "output_type": "execute_result"
    }
   ],
   "source": [
    "data['financing_source'].unique()"
   ]
  },
  {
   "cell_type": "markdown",
   "metadata": {},
   "source": [
    "С источником финансирования также проблем нет"
   ]
  },
  {
   "cell_type": "markdown",
   "metadata": {},
   "source": [
    "В категориальных столбцах мы столкнулись с проблемой, когда встречаются одинаковые значения, но с разным написанием. В связи с этим мы удалили лишние пробелы в названиях"
   ]
  },
  {
   "cell_type": "markdown",
   "metadata": {},
   "source": [
    "<div class=\"alert alert-block alert-danger\">\n",
    " \n",
    "### Комментарий ревьюера\n",
    "    \n",
    "#### Ошибка\n",
    "    \n",
    "Тут стоит резюмировать какая общая пробщема есть у почти всех категориальных столбцов. "
   ]
  },
  {
   "cell_type": "markdown",
   "metadata": {},
   "source": [
    "<div class=\"alert alert-block alert-success\">\n",
    " \n",
    "# Комментарий ревьюера ver.2 \n",
    "    \n",
    "#### Успех\n",
    "    \n",
    "Исправлено "
   ]
  },
  {
   "cell_type": "markdown",
   "metadata": {},
   "source": []
  },
  {
   "cell_type": "markdown",
   "metadata": {
    "id": "XFSN5lrEgFyR"
   },
   "source": [
    "#### Шаг 2.5. Проверим количественные значения\n",
    "\n",
    "- Проверьте, обнаружились ли в таких столбцах подозрительные данные. Как с такими данными лучше поступить?\n",
    "\n",
    "<div id=\"accordion\">\n",
    "    <div class=\"card\">\n",
    "        <div class=\"card-header\" id=\"headingThree\">\n",
    "            <button class=\"btn btn-link collapsed\" data-toggle=\"collapse\" data-target=\"#collapseHint_budget\" aria-expanded=\"false\" aria-controls=\"collapseHint_budget\">Подсказка</button>\n",
    "        </div>\n",
    "        <div id=\"collapseHint_budget\" class=\"collapse\" aria-labelledby=\"headingThree\" data-parent=\"#accordion\">\n",
    "            <div class=\"card-body\">\n",
    "Обратите внимание на описание столбца <code>budget</code>. Как этот столбец соотносится с двумя другими: <code>refundable_support</code> и <code>nonrefundable_support</code>?\n",
    "            </div>\n",
    "        </div>\n",
    "    </div>\n",
    "</div>"
   ]
  },
  {
   "cell_type": "markdown",
   "metadata": {
    "id": "YbzClBxagFyS"
   },
   "source": [
    "Мы уже выяснили, что информация о бюджете фильма не заполнена только у тех картин, которым не была оказана государственная поддержка. Тогда попытаемся разобраться в тех случаях, когда государственная поддержка была, а бюджет не заполнен. "
   ]
  },
  {
   "cell_type": "code",
   "execution_count": 32,
   "metadata": {},
   "outputs": [
    {
     "data": {
      "text/plain": [
       "budget                   1.000000\n",
       "refundable_support       0.641224\n",
       "nonrefundable_support    0.594169\n",
       "box_office               0.349337\n",
       "ratings                  0.122406\n",
       "puNumber                -0.019794\n",
       "Name: budget, dtype: float64"
      ]
     },
     "execution_count": 32,
     "metadata": {},
     "output_type": "execute_result"
    }
   ],
   "source": [
    "data.corr()['budget'].sort_values(ascending=False)"
   ]
  },
  {
   "cell_type": "markdown",
   "metadata": {},
   "source": [
    "Объем государственной поддержки достаточно сильно коррелируют с бюджетом фильма. Поэтому заменим пропуски с помощью среднего коэффициента "
   ]
  },
  {
   "cell_type": "code",
   "execution_count": 33,
   "metadata": {},
   "outputs": [],
   "source": [
    "support_factor = data.query('financing_source != \"Другой источник финансирования\"')\n",
    "\n",
    "support_factor = (support_factor['refundable_support'] + support_factor['nonrefundable_support'])/support_factor['budget']\n",
    "\n",
    "support_factor = support_factor.median().round(2) #найдем средний коэффициент отношения гос.поддержки к бюджету"
   ]
  },
  {
   "cell_type": "markdown",
   "metadata": {},
   "source": [
    "<div class=\"alert alert-block alert-success\">\n",
    " \n",
    "### Комментарий ревьюера\n",
    "    \n",
    "#### Успех\n",
    "    \n",
    "Тут отлично. Согласен. "
   ]
  },
  {
   "cell_type": "code",
   "execution_count": 34,
   "metadata": {},
   "outputs": [],
   "source": [
    "#заменим пропуски\n",
    "data.loc[data['budget'] == 0.0, 'budget'] = ((data['refundable_support'] + data['nonrefundable_support'])/support_factor).round(1)"
   ]
  },
  {
   "cell_type": "code",
   "execution_count": 35,
   "metadata": {},
   "outputs": [
    {
     "data": {
      "text/html": [
       "<div>\n",
       "<style scoped>\n",
       "    .dataframe tbody tr th:only-of-type {\n",
       "        vertical-align: middle;\n",
       "    }\n",
       "\n",
       "    .dataframe tbody tr th {\n",
       "        vertical-align: top;\n",
       "    }\n",
       "\n",
       "    .dataframe thead th {\n",
       "        text-align: right;\n",
       "    }\n",
       "</style>\n",
       "<table border=\"1\" class=\"dataframe\">\n",
       "  <thead>\n",
       "    <tr style=\"text-align: right;\">\n",
       "      <th></th>\n",
       "      <th>title</th>\n",
       "      <th>puNumber</th>\n",
       "      <th>show_start_date</th>\n",
       "      <th>type</th>\n",
       "      <th>film_studio</th>\n",
       "      <th>production_country</th>\n",
       "      <th>director</th>\n",
       "      <th>producer</th>\n",
       "      <th>age_restriction</th>\n",
       "      <th>refundable_support</th>\n",
       "      <th>nonrefundable_support</th>\n",
       "      <th>budget</th>\n",
       "      <th>financing_source</th>\n",
       "      <th>ratings</th>\n",
       "      <th>genres</th>\n",
       "      <th>box_office</th>\n",
       "    </tr>\n",
       "  </thead>\n",
       "  <tbody>\n",
       "    <tr>\n",
       "      <th>1281</th>\n",
       "      <td>Пока еще жива</td>\n",
       "      <td>111005313</td>\n",
       "      <td>2013-10-11 12:00:00+00:00</td>\n",
       "      <td>Художественный</td>\n",
       "      <td>АНО содействия развитию кинематографии \"Ангел-...</td>\n",
       "      <td>Россия</td>\n",
       "      <td>А.Атанесян</td>\n",
       "      <td>А.Атанесян, М.Бабаханов, Р.Бутко</td>\n",
       "      <td>«16+» - для детей старше 16 лет</td>\n",
       "      <td>0.0</td>\n",
       "      <td>26500000.0</td>\n",
       "      <td>79411900.0</td>\n",
       "      <td>Министерство культуры</td>\n",
       "      <td>8.1</td>\n",
       "      <td>драма,мелодрама</td>\n",
       "      <td>365353.6</td>\n",
       "    </tr>\n",
       "    <tr>\n",
       "      <th>1448</th>\n",
       "      <td>Бесславные придурки</td>\n",
       "      <td>111003314</td>\n",
       "      <td>2014-03-28 12:00:00+00:00</td>\n",
       "      <td>Художественный</td>\n",
       "      <td>ООО \"Компания \"АТК-Студио\"</td>\n",
       "      <td>Россия</td>\n",
       "      <td>А.Якимчук</td>\n",
       "      <td>А.Тютрюмов</td>\n",
       "      <td>«12+» - для детей старше 12 лет</td>\n",
       "      <td>0.0</td>\n",
       "      <td>26000000.0</td>\n",
       "      <td>37142857.0</td>\n",
       "      <td>Министерство культуры</td>\n",
       "      <td>0.0</td>\n",
       "      <td>Без жанра</td>\n",
       "      <td>28140.0</td>\n",
       "    </tr>\n",
       "    <tr>\n",
       "      <th>1498</th>\n",
       "      <td>Невидимки</td>\n",
       "      <td>111004213</td>\n",
       "      <td>2013-09-10 12:00:00+00:00</td>\n",
       "      <td>Художественный</td>\n",
       "      <td>ООО \"Компания \"РЕАЛ-ДАКОТА\"</td>\n",
       "      <td>Россия</td>\n",
       "      <td>Р.Давлетьяров, С.Комаров</td>\n",
       "      <td>Р.Давлетьяров, А.Котелевский, А.Олейников</td>\n",
       "      <td>«12+» - для детей старше 12 лет</td>\n",
       "      <td>0.0</td>\n",
       "      <td>107847945.0</td>\n",
       "      <td>176023490.0</td>\n",
       "      <td>Фонд кино</td>\n",
       "      <td>5.3</td>\n",
       "      <td>комедия,фантастика</td>\n",
       "      <td>19957031.5</td>\n",
       "    </tr>\n",
       "    <tr>\n",
       "      <th>1524</th>\n",
       "      <td>БЕРЦЫ</td>\n",
       "      <td>111004314</td>\n",
       "      <td>2014-05-05 12:00:00+00:00</td>\n",
       "      <td>Художественный</td>\n",
       "      <td>ООО \"Студия \"Пассажир\"</td>\n",
       "      <td>Россия</td>\n",
       "      <td>Е.Миндадзе (псевдоним Катя Шагалова)</td>\n",
       "      <td>Л.Антонова</td>\n",
       "      <td>«16+» - для детей старше 16 лет</td>\n",
       "      <td>0.0</td>\n",
       "      <td>28000000.0</td>\n",
       "      <td>40574140.0</td>\n",
       "      <td>Министерство культуры</td>\n",
       "      <td>4.2</td>\n",
       "      <td>драма</td>\n",
       "      <td>55917.5</td>\n",
       "    </tr>\n",
       "    <tr>\n",
       "      <th>1792</th>\n",
       "      <td>Братья Ч</td>\n",
       "      <td>111004414</td>\n",
       "      <td>2014-04-23 12:00:00+00:00</td>\n",
       "      <td>Художественный</td>\n",
       "      <td>ООО \"Студия \"Пассажир\"</td>\n",
       "      <td>Россия</td>\n",
       "      <td>М.Угаров</td>\n",
       "      <td>А.Миндадзе, Л.Антонова</td>\n",
       "      <td>«16+» - для детей старше 16 лет</td>\n",
       "      <td>0.0</td>\n",
       "      <td>25000000.0</td>\n",
       "      <td>40015122.0</td>\n",
       "      <td>Министерство культуры</td>\n",
       "      <td>6.4</td>\n",
       "      <td>драма</td>\n",
       "      <td>232100.0</td>\n",
       "    </tr>\n",
       "    <tr>\n",
       "      <th>1853</th>\n",
       "      <td>Тайна Сухаревой башни. Чародей равновесия</td>\n",
       "      <td>114000115</td>\n",
       "      <td>2015-02-18 12:00:00+00:00</td>\n",
       "      <td>Анимационный</td>\n",
       "      <td>ООО \"Студия \"Мастер-Фильм\"</td>\n",
       "      <td>Россия</td>\n",
       "      <td>С.Серегин</td>\n",
       "      <td>А.Герасимов</td>\n",
       "      <td>«6+» - для детей старше 6 лет</td>\n",
       "      <td>0.0</td>\n",
       "      <td>25000000.0</td>\n",
       "      <td>51850000.0</td>\n",
       "      <td>Министерство культуры</td>\n",
       "      <td>6.1</td>\n",
       "      <td>мультфильм,фэнтези,история</td>\n",
       "      <td>15078858.6</td>\n",
       "    </tr>\n",
       "    <tr>\n",
       "      <th>1869</th>\n",
       "      <td>А зори здесь тихие..._</td>\n",
       "      <td>111002915</td>\n",
       "      <td>2015-03-16 12:00:00+00:00</td>\n",
       "      <td>Художественный</td>\n",
       "      <td>ООО \"Компания \"Реал-Дакота\"</td>\n",
       "      <td>Россия</td>\n",
       "      <td>Р.Давлетьяров</td>\n",
       "      <td>Нет продюсера</td>\n",
       "      <td>«12+» - для детей старше 12 лет</td>\n",
       "      <td>50000000.0</td>\n",
       "      <td>100000000.0</td>\n",
       "      <td>220588394.0</td>\n",
       "      <td>Фонд кино</td>\n",
       "      <td>8.5</td>\n",
       "      <td>драма,военный,история</td>\n",
       "      <td>249166767.7</td>\n",
       "    </tr>\n",
       "    <tr>\n",
       "      <th>1870</th>\n",
       "      <td>Две женщины</td>\n",
       "      <td>111013714</td>\n",
       "      <td>2014-10-02 12:00:00+00:00</td>\n",
       "      <td>Художественный</td>\n",
       "      <td>ООО \"Продюсерский Центр \"Хорошо Продакшн\", Rez...</td>\n",
       "      <td>Россия, Франция, Латвия</td>\n",
       "      <td>В.Глаголева</td>\n",
       "      <td>Н.Иванова</td>\n",
       "      <td>«12+» - для детей старше 12 лет</td>\n",
       "      <td>0.0</td>\n",
       "      <td>46502299.0</td>\n",
       "      <td>86210067.0</td>\n",
       "      <td>Министерство культуры, Фонд кино</td>\n",
       "      <td>6.7</td>\n",
       "      <td>драма</td>\n",
       "      <td>4731239.5</td>\n",
       "    </tr>\n",
       "    <tr>\n",
       "      <th>1902</th>\n",
       "      <td>Призрак_.</td>\n",
       "      <td>111001815</td>\n",
       "      <td>2015-03-02 12:00:00+00:00</td>\n",
       "      <td>Художественный</td>\n",
       "      <td>ООО \"Водород 2011\"</td>\n",
       "      <td>Россия</td>\n",
       "      <td>А.Войтинский</td>\n",
       "      <td>С.Сельянов</td>\n",
       "      <td>«6+» - для детей старше 6 лет</td>\n",
       "      <td>0.0</td>\n",
       "      <td>75000000.0</td>\n",
       "      <td>139551503.0</td>\n",
       "      <td>Фонд кино</td>\n",
       "      <td>7.0</td>\n",
       "      <td>триллер,боевик,приключения</td>\n",
       "      <td>352804320.4</td>\n",
       "    </tr>\n",
       "    <tr>\n",
       "      <th>1911</th>\n",
       "      <td>Ведьма .</td>\n",
       "      <td>111002215</td>\n",
       "      <td>2015-03-05 12:00:00+00:00</td>\n",
       "      <td>Художественный</td>\n",
       "      <td>ООО \"Кинокомпания \"Ракурс\"</td>\n",
       "      <td>Россия</td>\n",
       "      <td>Д.Федоров</td>\n",
       "      <td>В.Сидоренко</td>\n",
       "      <td>«16+» - для детей старше 16 лет</td>\n",
       "      <td>0.0</td>\n",
       "      <td>34000000.0</td>\n",
       "      <td>48571430.0</td>\n",
       "      <td>Министерство культуры</td>\n",
       "      <td>7.4</td>\n",
       "      <td>фэнтези,приключения,драма</td>\n",
       "      <td>51907.5</td>\n",
       "    </tr>\n",
       "    <tr>\n",
       "      <th>1986</th>\n",
       "      <td>Елки Лохматые</td>\n",
       "      <td>111023114</td>\n",
       "      <td>2014-12-10 12:00:00+00:00</td>\n",
       "      <td>Художественный</td>\n",
       "      <td>ООО \"ТаББаК\"</td>\n",
       "      <td>Россия</td>\n",
       "      <td>Максим Свешников</td>\n",
       "      <td>Тимур Бекмамбетов, Евгения Аронова</td>\n",
       "      <td>«6+» - для детей старше 6 лет</td>\n",
       "      <td>26000000.0</td>\n",
       "      <td>30000000.0</td>\n",
       "      <td>80000000.0</td>\n",
       "      <td>Фонд кино</td>\n",
       "      <td>5.0</td>\n",
       "      <td>семейный,комедия</td>\n",
       "      <td>121225633.8</td>\n",
       "    </tr>\n",
       "    <tr>\n",
       "      <th>1990</th>\n",
       "      <td>Смайлик</td>\n",
       "      <td>111008614</td>\n",
       "      <td>2014-08-08 12:00:00+00:00</td>\n",
       "      <td>Художественный</td>\n",
       "      <td>ООО \"Продюсерская кинокомпания \"Киномир\"</td>\n",
       "      <td>Россия</td>\n",
       "      <td>Т.Аленикова</td>\n",
       "      <td>Т.Яковенко</td>\n",
       "      <td>«16+» - для детей старше 16 лет</td>\n",
       "      <td>0.0</td>\n",
       "      <td>25000000.0</td>\n",
       "      <td>36259500.0</td>\n",
       "      <td>Министерство культуры</td>\n",
       "      <td>6.8</td>\n",
       "      <td>мелодрама</td>\n",
       "      <td>554251.0</td>\n",
       "    </tr>\n",
       "    <tr>\n",
       "      <th>1996</th>\n",
       "      <td>Овечка Долли была злая и рано умерла</td>\n",
       "      <td>111015214</td>\n",
       "      <td>2014-11-10 12:00:00+00:00</td>\n",
       "      <td>Художественный</td>\n",
       "      <td>ООО \"Пиманов и партнеры\"</td>\n",
       "      <td>Россия</td>\n",
       "      <td>А.Пиманов</td>\n",
       "      <td>А.Пиманов, О.Погодина</td>\n",
       "      <td>«12+» - для детей старше 12 лет</td>\n",
       "      <td>0.0</td>\n",
       "      <td>25000000.0</td>\n",
       "      <td>70876172.0</td>\n",
       "      <td>Фонд кино</td>\n",
       "      <td>6.6</td>\n",
       "      <td>фантастика,комедия,приключения</td>\n",
       "      <td>43534847.1</td>\n",
       "    </tr>\n",
       "    <tr>\n",
       "      <th>2004</th>\n",
       "      <td>Снежная Королева 2: Перезаморозка</td>\n",
       "      <td>114000214</td>\n",
       "      <td>2014-11-13 12:00:00+00:00</td>\n",
       "      <td>Анимационный</td>\n",
       "      <td>ООО \"ВИЗАРТ ФИЛЬМ\"</td>\n",
       "      <td>Россия</td>\n",
       "      <td>А.Цицилин</td>\n",
       "      <td>ООО \"ВИЗАРТ ФИЛЬМ\", ООО \"ТаББаК\"</td>\n",
       "      <td>«0+» - для любой зрительской аудитории</td>\n",
       "      <td>30000000.0</td>\n",
       "      <td>40000000.0</td>\n",
       "      <td>252489571.0</td>\n",
       "      <td>Фонд кино</td>\n",
       "      <td>6.5</td>\n",
       "      <td>мультфильм,фэнтези,приключения</td>\n",
       "      <td>313489846.5</td>\n",
       "    </tr>\n",
       "    <tr>\n",
       "      <th>2013</th>\n",
       "      <td>Дедушка моей мечты</td>\n",
       "      <td>111007714</td>\n",
       "      <td>2014-07-22 12:00:00+00:00</td>\n",
       "      <td>Художественный</td>\n",
       "      <td>ООО \"Пендулум\"</td>\n",
       "      <td>Россия</td>\n",
       "      <td>А.Стриженов</td>\n",
       "      <td>Л.Якубович, А.Стриженов, Л.Лищинская</td>\n",
       "      <td>«12+» - для детей старше 12 лет</td>\n",
       "      <td>0.0</td>\n",
       "      <td>28000000.0</td>\n",
       "      <td>74910000.0</td>\n",
       "      <td>Министерство культуры</td>\n",
       "      <td>5.7</td>\n",
       "      <td>комедия,семейный</td>\n",
       "      <td>6277796.2</td>\n",
       "    </tr>\n",
       "    <tr>\n",
       "      <th>2052</th>\n",
       "      <td>14+</td>\n",
       "      <td>111023614</td>\n",
       "      <td>2014-12-19 12:00:00+00:00</td>\n",
       "      <td>Художественный</td>\n",
       "      <td>ООО Киностудия  \"Сентябрь\"</td>\n",
       "      <td>Россия</td>\n",
       "      <td>А.Зайцев</td>\n",
       "      <td>О.Гранина, А.Зайцев</td>\n",
       "      <td>«16+» - для детей старше 16 лет</td>\n",
       "      <td>0.0</td>\n",
       "      <td>23000000.0</td>\n",
       "      <td>37704918.0</td>\n",
       "      <td>Министерство культуры, Фонд кино</td>\n",
       "      <td>6.6</td>\n",
       "      <td>мелодрама</td>\n",
       "      <td>10234016.1</td>\n",
       "    </tr>\n",
       "    <tr>\n",
       "      <th>2057</th>\n",
       "      <td>Дуxless 2</td>\n",
       "      <td>111000415</td>\n",
       "      <td>2015-01-26 12:00:00+00:00</td>\n",
       "      <td>Художественный</td>\n",
       "      <td>ООО \"Киностудия \"Слово\", ООО \"Арт Пикчерс Студия\"</td>\n",
       "      <td>Россия</td>\n",
       "      <td>Р.Прыгунов</td>\n",
       "      <td>П.Ануров, Ф.Бондарчук, Д.Рудовский</td>\n",
       "      <td>«16+» - для детей старше 16 лет</td>\n",
       "      <td>0.0</td>\n",
       "      <td>75000000.0</td>\n",
       "      <td>122950819.7</td>\n",
       "      <td>Фонд кино</td>\n",
       "      <td>6.6</td>\n",
       "      <td>драма</td>\n",
       "      <td>446163511.0</td>\n",
       "    </tr>\n",
       "    <tr>\n",
       "      <th>2083</th>\n",
       "      <td>Дорога на Берлин</td>\n",
       "      <td>111001315</td>\n",
       "      <td>2015-02-17 12:00:00+00:00</td>\n",
       "      <td>Художественный</td>\n",
       "      <td>ООО \"Продюсерская компания Александра Литвинов...</td>\n",
       "      <td>Россия</td>\n",
       "      <td>С.Попов</td>\n",
       "      <td>А.Литвинов, К.Шахназаров</td>\n",
       "      <td>«12+» - для детей старше 12 лет</td>\n",
       "      <td>0.0</td>\n",
       "      <td>45000000.0</td>\n",
       "      <td>89782312.0</td>\n",
       "      <td>Министерство культуры</td>\n",
       "      <td>6.2</td>\n",
       "      <td>военный,драма,история</td>\n",
       "      <td>22723575.0</td>\n",
       "    </tr>\n",
       "    <tr>\n",
       "      <th>2091</th>\n",
       "      <td>Батальонъ</td>\n",
       "      <td>111000715</td>\n",
       "      <td>2015-01-29 12:00:00+00:00</td>\n",
       "      <td>Художественный</td>\n",
       "      <td>ООО \"Корнер Ворк\", ООО \"Арт Пикчерс Студия\"</td>\n",
       "      <td>Россия</td>\n",
       "      <td>Д.Месхиев</td>\n",
       "      <td>И.Угольников</td>\n",
       "      <td>«12+» - для детей старше 12 лет</td>\n",
       "      <td>0.0</td>\n",
       "      <td>56579055.0</td>\n",
       "      <td>436437176.0</td>\n",
       "      <td>Министерство культуры, Фонд кино</td>\n",
       "      <td>7.1</td>\n",
       "      <td>драма,военный,история</td>\n",
       "      <td>451812221.7</td>\n",
       "    </tr>\n",
       "    <tr>\n",
       "      <th>2105</th>\n",
       "      <td>С пяти до семи</td>\n",
       "      <td>111000615</td>\n",
       "      <td>2015-01-28 12:00:00+00:00</td>\n",
       "      <td>Художественный</td>\n",
       "      <td>ООО \"АМАЛЬГАМА ПРОДАКШН\"</td>\n",
       "      <td>Россия</td>\n",
       "      <td>В.Щегольков</td>\n",
       "      <td>А.Феофанов, С.Новиков</td>\n",
       "      <td>«16+» - для детей старше 16 лет</td>\n",
       "      <td>0.0</td>\n",
       "      <td>25500000.0</td>\n",
       "      <td>40500000.0</td>\n",
       "      <td>Министерство культуры</td>\n",
       "      <td>6.7</td>\n",
       "      <td>драма,мелодрама</td>\n",
       "      <td>366998.0</td>\n",
       "    </tr>\n",
       "  </tbody>\n",
       "</table>\n",
       "</div>"
      ],
      "text/plain": [
       "                                          title   puNumber  \\\n",
       "1281                              Пока еще жива  111005313   \n",
       "1448                        Бесславные придурки  111003314   \n",
       "1498                                  Невидимки  111004213   \n",
       "1524                                      БЕРЦЫ  111004314   \n",
       "1792                                   Братья Ч  111004414   \n",
       "1853  Тайна Сухаревой башни. Чародей равновесия  114000115   \n",
       "1869                     А зори здесь тихие..._  111002915   \n",
       "1870                                Две женщины  111013714   \n",
       "1902                                  Призрак_.  111001815   \n",
       "1911                                   Ведьма .  111002215   \n",
       "1986                              Елки Лохматые  111023114   \n",
       "1990                                    Смайлик  111008614   \n",
       "1996       Овечка Долли была злая и рано умерла  111015214   \n",
       "2004          Снежная Королева 2: Перезаморозка  114000214   \n",
       "2013                         Дедушка моей мечты  111007714   \n",
       "2052                                        14+  111023614   \n",
       "2057                                  Дуxless 2  111000415   \n",
       "2083                           Дорога на Берлин  111001315   \n",
       "2091                                  Батальонъ  111000715   \n",
       "2105                             С пяти до семи  111000615   \n",
       "\n",
       "               show_start_date            type  \\\n",
       "1281 2013-10-11 12:00:00+00:00  Художественный   \n",
       "1448 2014-03-28 12:00:00+00:00  Художественный   \n",
       "1498 2013-09-10 12:00:00+00:00  Художественный   \n",
       "1524 2014-05-05 12:00:00+00:00  Художественный   \n",
       "1792 2014-04-23 12:00:00+00:00  Художественный   \n",
       "1853 2015-02-18 12:00:00+00:00    Анимационный   \n",
       "1869 2015-03-16 12:00:00+00:00  Художественный   \n",
       "1870 2014-10-02 12:00:00+00:00  Художественный   \n",
       "1902 2015-03-02 12:00:00+00:00  Художественный   \n",
       "1911 2015-03-05 12:00:00+00:00  Художественный   \n",
       "1986 2014-12-10 12:00:00+00:00  Художественный   \n",
       "1990 2014-08-08 12:00:00+00:00  Художественный   \n",
       "1996 2014-11-10 12:00:00+00:00  Художественный   \n",
       "2004 2014-11-13 12:00:00+00:00    Анимационный   \n",
       "2013 2014-07-22 12:00:00+00:00  Художественный   \n",
       "2052 2014-12-19 12:00:00+00:00  Художественный   \n",
       "2057 2015-01-26 12:00:00+00:00  Художественный   \n",
       "2083 2015-02-17 12:00:00+00:00  Художественный   \n",
       "2091 2015-01-29 12:00:00+00:00  Художественный   \n",
       "2105 2015-01-28 12:00:00+00:00  Художественный   \n",
       "\n",
       "                                            film_studio  \\\n",
       "1281  АНО содействия развитию кинематографии \"Ангел-...   \n",
       "1448                         ООО \"Компания \"АТК-Студио\"   \n",
       "1498                        ООО \"Компания \"РЕАЛ-ДАКОТА\"   \n",
       "1524                             ООО \"Студия \"Пассажир\"   \n",
       "1792                             ООО \"Студия \"Пассажир\"   \n",
       "1853                        ООО \"Студия \"Мастер-Фильм\"    \n",
       "1869                        ООО \"Компания \"Реал-Дакота\"   \n",
       "1870  ООО \"Продюсерский Центр \"Хорошо Продакшн\", Rez...   \n",
       "1902                                 ООО \"Водород 2011\"   \n",
       "1911                         ООО \"Кинокомпания \"Ракурс\"   \n",
       "1986                                       ООО \"ТаББаК\"   \n",
       "1990           ООО \"Продюсерская кинокомпания \"Киномир\"   \n",
       "1996                           ООО \"Пиманов и партнеры\"   \n",
       "2004                                 ООО \"ВИЗАРТ ФИЛЬМ\"   \n",
       "2013                                     ООО \"Пендулум\"   \n",
       "2052                         ООО Киностудия  \"Сентябрь\"   \n",
       "2057  ООО \"Киностудия \"Слово\", ООО \"Арт Пикчерс Студия\"   \n",
       "2083  ООО \"Продюсерская компания Александра Литвинов...   \n",
       "2091        ООО \"Корнер Ворк\", ООО \"Арт Пикчерс Студия\"   \n",
       "2105                           ООО \"АМАЛЬГАМА ПРОДАКШН\"   \n",
       "\n",
       "           production_country                              director  \\\n",
       "1281                   Россия                            А.Атанесян   \n",
       "1448                   Россия                             А.Якимчук   \n",
       "1498                   Россия              Р.Давлетьяров, С.Комаров   \n",
       "1524                   Россия  Е.Миндадзе (псевдоним Катя Шагалова)   \n",
       "1792                   Россия                              М.Угаров   \n",
       "1853                   Россия                             С.Серегин   \n",
       "1869                   Россия                         Р.Давлетьяров   \n",
       "1870  Россия, Франция, Латвия                           В.Глаголева   \n",
       "1902                   Россия                          А.Войтинский   \n",
       "1911                   Россия                             Д.Федоров   \n",
       "1986                   Россия                      Максим Свешников   \n",
       "1990                   Россия                           Т.Аленикова   \n",
       "1996                   Россия                             А.Пиманов   \n",
       "2004                   Россия                             А.Цицилин   \n",
       "2013                   Россия                           А.Стриженов   \n",
       "2052                   Россия                              А.Зайцев   \n",
       "2057                   Россия                            Р.Прыгунов   \n",
       "2083                   Россия                               С.Попов   \n",
       "2091                   Россия                             Д.Месхиев   \n",
       "2105                   Россия                           В.Щегольков   \n",
       "\n",
       "                                       producer  \\\n",
       "1281           А.Атанесян, М.Бабаханов, Р.Бутко   \n",
       "1448                                 А.Тютрюмов   \n",
       "1498  Р.Давлетьяров, А.Котелевский, А.Олейников   \n",
       "1524                                 Л.Антонова   \n",
       "1792                     А.Миндадзе, Л.Антонова   \n",
       "1853                                А.Герасимов   \n",
       "1869                              Нет продюсера   \n",
       "1870                                  Н.Иванова   \n",
       "1902                                 С.Сельянов   \n",
       "1911                                В.Сидоренко   \n",
       "1986         Тимур Бекмамбетов, Евгения Аронова   \n",
       "1990                                 Т.Яковенко   \n",
       "1996                      А.Пиманов, О.Погодина   \n",
       "2004           ООО \"ВИЗАРТ ФИЛЬМ\", ООО \"ТаББаК\"   \n",
       "2013       Л.Якубович, А.Стриженов, Л.Лищинская   \n",
       "2052                        О.Гранина, А.Зайцев   \n",
       "2057         П.Ануров, Ф.Бондарчук, Д.Рудовский   \n",
       "2083                   А.Литвинов, К.Шахназаров   \n",
       "2091                               И.Угольников   \n",
       "2105                      А.Феофанов, С.Новиков   \n",
       "\n",
       "                             age_restriction  refundable_support  \\\n",
       "1281         «16+» - для детей старше 16 лет                 0.0   \n",
       "1448         «12+» - для детей старше 12 лет                 0.0   \n",
       "1498         «12+» - для детей старше 12 лет                 0.0   \n",
       "1524         «16+» - для детей старше 16 лет                 0.0   \n",
       "1792         «16+» - для детей старше 16 лет                 0.0   \n",
       "1853           «6+» - для детей старше 6 лет                 0.0   \n",
       "1869         «12+» - для детей старше 12 лет          50000000.0   \n",
       "1870         «12+» - для детей старше 12 лет                 0.0   \n",
       "1902           «6+» - для детей старше 6 лет                 0.0   \n",
       "1911         «16+» - для детей старше 16 лет                 0.0   \n",
       "1986           «6+» - для детей старше 6 лет          26000000.0   \n",
       "1990         «16+» - для детей старше 16 лет                 0.0   \n",
       "1996         «12+» - для детей старше 12 лет                 0.0   \n",
       "2004  «0+» - для любой зрительской аудитории          30000000.0   \n",
       "2013         «12+» - для детей старше 12 лет                 0.0   \n",
       "2052         «16+» - для детей старше 16 лет                 0.0   \n",
       "2057         «16+» - для детей старше 16 лет                 0.0   \n",
       "2083         «12+» - для детей старше 12 лет                 0.0   \n",
       "2091         «12+» - для детей старше 12 лет                 0.0   \n",
       "2105         «16+» - для детей старше 16 лет                 0.0   \n",
       "\n",
       "      nonrefundable_support       budget                  financing_source  \\\n",
       "1281             26500000.0   79411900.0             Министерство культуры   \n",
       "1448             26000000.0   37142857.0             Министерство культуры   \n",
       "1498            107847945.0  176023490.0                         Фонд кино   \n",
       "1524             28000000.0   40574140.0             Министерство культуры   \n",
       "1792             25000000.0   40015122.0             Министерство культуры   \n",
       "1853             25000000.0   51850000.0             Министерство культуры   \n",
       "1869            100000000.0  220588394.0                         Фонд кино   \n",
       "1870             46502299.0   86210067.0  Министерство культуры, Фонд кино   \n",
       "1902             75000000.0  139551503.0                         Фонд кино   \n",
       "1911             34000000.0   48571430.0             Министерство культуры   \n",
       "1986             30000000.0   80000000.0                         Фонд кино   \n",
       "1990             25000000.0   36259500.0             Министерство культуры   \n",
       "1996             25000000.0   70876172.0                         Фонд кино   \n",
       "2004             40000000.0  252489571.0                         Фонд кино   \n",
       "2013             28000000.0   74910000.0             Министерство культуры   \n",
       "2052             23000000.0   37704918.0  Министерство культуры, Фонд кино   \n",
       "2057             75000000.0  122950819.7                         Фонд кино   \n",
       "2083             45000000.0   89782312.0             Министерство культуры   \n",
       "2091             56579055.0  436437176.0  Министерство культуры, Фонд кино   \n",
       "2105             25500000.0   40500000.0             Министерство культуры   \n",
       "\n",
       "      ratings                          genres   box_office  \n",
       "1281      8.1                 драма,мелодрама     365353.6  \n",
       "1448      0.0                       Без жанра      28140.0  \n",
       "1498      5.3              комедия,фантастика   19957031.5  \n",
       "1524      4.2                           драма      55917.5  \n",
       "1792      6.4                           драма     232100.0  \n",
       "1853      6.1      мультфильм,фэнтези,история   15078858.6  \n",
       "1869      8.5           драма,военный,история  249166767.7  \n",
       "1870      6.7                           драма    4731239.5  \n",
       "1902      7.0      триллер,боевик,приключения  352804320.4  \n",
       "1911      7.4       фэнтези,приключения,драма      51907.5  \n",
       "1986      5.0                семейный,комедия  121225633.8  \n",
       "1990      6.8                       мелодрама     554251.0  \n",
       "1996      6.6  фантастика,комедия,приключения   43534847.1  \n",
       "2004      6.5  мультфильм,фэнтези,приключения  313489846.5  \n",
       "2013      5.7                комедия,семейный    6277796.2  \n",
       "2052      6.6                       мелодрама   10234016.1  \n",
       "2057      6.6                           драма  446163511.0  \n",
       "2083      6.2           военный,драма,история   22723575.0  \n",
       "2091      7.1           драма,военный,история  451812221.7  \n",
       "2105      6.7                 драма,мелодрама     366998.0  "
      ]
     },
     "execution_count": 35,
     "metadata": {},
     "output_type": "execute_result"
    }
   ],
   "source": [
    "data.query('financing_source != \"Другой источник финансирования\"').head(20)"
   ]
  },
  {
   "cell_type": "markdown",
   "metadata": {},
   "source": [
    "Теперь заменим пропуски на 0 в столбцах с бюджетом и гос.поддержкой. Так как другим способом пропуски уже не заполнить"
   ]
  },
  {
   "cell_type": "code",
   "execution_count": 36,
   "metadata": {},
   "outputs": [
    {
     "data": {
      "text/html": [
       "<div>\n",
       "<style scoped>\n",
       "    .dataframe tbody tr th:only-of-type {\n",
       "        vertical-align: middle;\n",
       "    }\n",
       "\n",
       "    .dataframe tbody tr th {\n",
       "        vertical-align: top;\n",
       "    }\n",
       "\n",
       "    .dataframe thead th {\n",
       "        text-align: right;\n",
       "    }\n",
       "</style>\n",
       "<table border=\"1\" class=\"dataframe\">\n",
       "  <thead>\n",
       "    <tr style=\"text-align: right;\">\n",
       "      <th></th>\n",
       "      <th>title</th>\n",
       "      <th>puNumber</th>\n",
       "      <th>show_start_date</th>\n",
       "      <th>type</th>\n",
       "      <th>film_studio</th>\n",
       "      <th>production_country</th>\n",
       "      <th>director</th>\n",
       "      <th>producer</th>\n",
       "      <th>age_restriction</th>\n",
       "      <th>refundable_support</th>\n",
       "      <th>nonrefundable_support</th>\n",
       "      <th>budget</th>\n",
       "      <th>financing_source</th>\n",
       "      <th>ratings</th>\n",
       "      <th>genres</th>\n",
       "      <th>box_office</th>\n",
       "    </tr>\n",
       "  </thead>\n",
       "  <tbody>\n",
       "    <tr>\n",
       "      <th>0</th>\n",
       "      <td>Открытый простор</td>\n",
       "      <td>221048915</td>\n",
       "      <td>2015-11-27 12:00:00+00:00</td>\n",
       "      <td>Художественный</td>\n",
       "      <td>Тачстоун Пикчерз, Кобальт Пикчерз, Бикон Пикче...</td>\n",
       "      <td>США</td>\n",
       "      <td>Кевин Костнер</td>\n",
       "      <td>Дэвид Валдес, Кевин Костнер, Джейк Эбертс</td>\n",
       "      <td>«18+» - запрещено для детей</td>\n",
       "      <td>0.0</td>\n",
       "      <td>0.0</td>\n",
       "      <td>0.0</td>\n",
       "      <td>Другой источник финансирования</td>\n",
       "      <td>7.2</td>\n",
       "      <td>боевик,драма,мелодрама</td>\n",
       "      <td>0.0</td>\n",
       "    </tr>\n",
       "    <tr>\n",
       "      <th>1</th>\n",
       "      <td>Особо важное задание</td>\n",
       "      <td>111013716</td>\n",
       "      <td>2016-09-13 12:00:00+00:00</td>\n",
       "      <td>Художественный</td>\n",
       "      <td>Киностудия \"Мосфильм\"</td>\n",
       "      <td>СССР</td>\n",
       "      <td>Е.Матвеев</td>\n",
       "      <td>Нет продюсера</td>\n",
       "      <td>«6+» - для детей старше 6 лет</td>\n",
       "      <td>0.0</td>\n",
       "      <td>0.0</td>\n",
       "      <td>0.0</td>\n",
       "      <td>Другой источник финансирования</td>\n",
       "      <td>6.6</td>\n",
       "      <td>драма,военный</td>\n",
       "      <td>0.0</td>\n",
       "    </tr>\n",
       "    <tr>\n",
       "      <th>2</th>\n",
       "      <td>Особо опасен</td>\n",
       "      <td>221038416</td>\n",
       "      <td>2016-10-10 12:00:00+00:00</td>\n",
       "      <td>Художественный</td>\n",
       "      <td>Юниверсал Пикчерз, Кикстарт Продакшнз, Марк Пл...</td>\n",
       "      <td>США</td>\n",
       "      <td>Тимур Бекмамбетов</td>\n",
       "      <td>Джим Лемли, Джейсон Нетер, Марк Е.Платт, Яйн Смит</td>\n",
       "      <td>«18+» - запрещено для детей</td>\n",
       "      <td>0.0</td>\n",
       "      <td>0.0</td>\n",
       "      <td>0.0</td>\n",
       "      <td>Другой источник финансирования</td>\n",
       "      <td>6.8</td>\n",
       "      <td>фантастика,боевик,триллер</td>\n",
       "      <td>0.0</td>\n",
       "    </tr>\n",
       "    <tr>\n",
       "      <th>3</th>\n",
       "      <td>Особо опасен</td>\n",
       "      <td>221026916</td>\n",
       "      <td>2016-06-10 12:00:00+00:00</td>\n",
       "      <td>Художественный</td>\n",
       "      <td>Юниверсал Пикчерз, Кикстарт Продакшнз, Марк Пл...</td>\n",
       "      <td>США</td>\n",
       "      <td>Тимур Бекмамбетов</td>\n",
       "      <td>Джим Лемли, Джейсон Нетер, Марк Е.Платт, Яйн Смит</td>\n",
       "      <td>«18+» - запрещено для детей</td>\n",
       "      <td>0.0</td>\n",
       "      <td>0.0</td>\n",
       "      <td>0.0</td>\n",
       "      <td>Другой источник финансирования</td>\n",
       "      <td>6.8</td>\n",
       "      <td>фантастика,боевик,триллер</td>\n",
       "      <td>0.0</td>\n",
       "    </tr>\n",
       "    <tr>\n",
       "      <th>4</th>\n",
       "      <td>Особо опасен</td>\n",
       "      <td>221030815</td>\n",
       "      <td>2015-07-29 12:00:00+00:00</td>\n",
       "      <td>Художественный</td>\n",
       "      <td>Юниверсал Пикчерз, Кикстарт Продакшнз, Марк Пл...</td>\n",
       "      <td>США</td>\n",
       "      <td>Тимур Бекмамбетов</td>\n",
       "      <td>Джим Лемли, Джейсон Нетер, Марк Е.Платт, Яйн Смит</td>\n",
       "      <td>«18+» - запрещено для детей</td>\n",
       "      <td>0.0</td>\n",
       "      <td>0.0</td>\n",
       "      <td>0.0</td>\n",
       "      <td>Другой источник финансирования</td>\n",
       "      <td>6.8</td>\n",
       "      <td>фантастика,боевик,триллер</td>\n",
       "      <td>0.0</td>\n",
       "    </tr>\n",
       "    <tr>\n",
       "      <th>...</th>\n",
       "      <td>...</td>\n",
       "      <td>...</td>\n",
       "      <td>...</td>\n",
       "      <td>...</td>\n",
       "      <td>...</td>\n",
       "      <td>...</td>\n",
       "      <td>...</td>\n",
       "      <td>...</td>\n",
       "      <td>...</td>\n",
       "      <td>...</td>\n",
       "      <td>...</td>\n",
       "      <td>...</td>\n",
       "      <td>...</td>\n",
       "      <td>...</td>\n",
       "      <td>...</td>\n",
       "      <td>...</td>\n",
       "    </tr>\n",
       "    <tr>\n",
       "      <th>7480</th>\n",
       "      <td>Сад художника: Американский импрессионизм</td>\n",
       "      <td>126008019</td>\n",
       "      <td>2019-12-23 12:00:00+00:00</td>\n",
       "      <td>Прочие</td>\n",
       "      <td>Севен Артс Продакшнз</td>\n",
       "      <td>Великобритания</td>\n",
       "      <td>Фил Грабски</td>\n",
       "      <td>Фил Грабски</td>\n",
       "      <td>«12+» - для детей старше 12 лет</td>\n",
       "      <td>0.0</td>\n",
       "      <td>0.0</td>\n",
       "      <td>0.0</td>\n",
       "      <td>Другой источник финансирования</td>\n",
       "      <td>0.0</td>\n",
       "      <td>Без жанра</td>\n",
       "      <td>0.0</td>\n",
       "    </tr>\n",
       "    <tr>\n",
       "      <th>7481</th>\n",
       "      <td>Звериная ярость</td>\n",
       "      <td>121037819</td>\n",
       "      <td>2019-12-24 12:00:00+00:00</td>\n",
       "      <td>Художественный</td>\n",
       "      <td>Дэниел Гродник Продакшнз, Вандерфилм Медиа Кор...</td>\n",
       "      <td>США</td>\n",
       "      <td>Ник Пауэлл</td>\n",
       "      <td>Джефф Боулер, Дэниэл Гродник, Луильо Руис, Брэ...</td>\n",
       "      <td>«16+» - для детей старше 16 лет</td>\n",
       "      <td>0.0</td>\n",
       "      <td>0.0</td>\n",
       "      <td>0.0</td>\n",
       "      <td>Другой источник финансирования</td>\n",
       "      <td>5.4</td>\n",
       "      <td>боевик,триллер</td>\n",
       "      <td>0.0</td>\n",
       "    </tr>\n",
       "    <tr>\n",
       "      <th>7482</th>\n",
       "      <td>Щенячий патруль: Скорей спешим на помощь!</td>\n",
       "      <td>124010819</td>\n",
       "      <td>2019-12-28 12:00:00+00:00</td>\n",
       "      <td>Художественный</td>\n",
       "      <td>Никелодеон Анимейшн Студиос, Спин Мастер</td>\n",
       "      <td>США - Канада</td>\n",
       "      <td>Чарльз Е.Бастьен</td>\n",
       "      <td>Дженнифер Додж</td>\n",
       "      <td>«0+» - для любой зрительской аудитории</td>\n",
       "      <td>0.0</td>\n",
       "      <td>0.0</td>\n",
       "      <td>0.0</td>\n",
       "      <td>Другой источник финансирования</td>\n",
       "      <td>0.0</td>\n",
       "      <td>Без жанра</td>\n",
       "      <td>0.0</td>\n",
       "    </tr>\n",
       "    <tr>\n",
       "      <th>7483</th>\n",
       "      <td>Машины песенки. Серия \"Испанские мотивы\"</td>\n",
       "      <td>124010619</td>\n",
       "      <td>2019-12-30 12:00:00+00:00</td>\n",
       "      <td>Анимационный</td>\n",
       "      <td>Анимаккорд Лтд., ООО Студия \"АНИМАККОРД\"</td>\n",
       "      <td>Республика Кипр, Россия</td>\n",
       "      <td>А.Беляев</td>\n",
       "      <td>Д.Ловейко</td>\n",
       "      <td>«0+» - для любой зрительской аудитории</td>\n",
       "      <td>0.0</td>\n",
       "      <td>0.0</td>\n",
       "      <td>0.0</td>\n",
       "      <td>Другой источник финансирования</td>\n",
       "      <td>0.0</td>\n",
       "      <td>Без жанра</td>\n",
       "      <td>0.0</td>\n",
       "    </tr>\n",
       "    <tr>\n",
       "      <th>7484</th>\n",
       "      <td>Машины песенки. Серия \"Когда цветут кактусы\"</td>\n",
       "      <td>124010719</td>\n",
       "      <td>2019-12-30 12:00:00+00:00</td>\n",
       "      <td>Анимационный</td>\n",
       "      <td>Анимаккорд Лтд., ООО Студия \"АНИМАККОРД\"</td>\n",
       "      <td>Республика Кипр, Россия</td>\n",
       "      <td>И.Трусов</td>\n",
       "      <td>Д.Ловейко</td>\n",
       "      <td>«0+» - для любой зрительской аудитории</td>\n",
       "      <td>0.0</td>\n",
       "      <td>0.0</td>\n",
       "      <td>0.0</td>\n",
       "      <td>Другой источник финансирования</td>\n",
       "      <td>6.3</td>\n",
       "      <td>комедия,вестерн</td>\n",
       "      <td>0.0</td>\n",
       "    </tr>\n",
       "  </tbody>\n",
       "</table>\n",
       "<p>7458 rows × 16 columns</p>\n",
       "</div>"
      ],
      "text/plain": [
       "                                             title   puNumber  \\\n",
       "0                                 Открытый простор  221048915   \n",
       "1                             Особо важное задание  111013716   \n",
       "2                                     Особо опасен  221038416   \n",
       "3                                     Особо опасен  221026916   \n",
       "4                                     Особо опасен  221030815   \n",
       "...                                            ...        ...   \n",
       "7480     Сад художника: Американский импрессионизм  126008019   \n",
       "7481                               Звериная ярость  121037819   \n",
       "7482     Щенячий патруль: Скорей спешим на помощь!  124010819   \n",
       "7483      Машины песенки. Серия \"Испанские мотивы\"  124010619   \n",
       "7484  Машины песенки. Серия \"Когда цветут кактусы\"  124010719   \n",
       "\n",
       "               show_start_date            type  \\\n",
       "0    2015-11-27 12:00:00+00:00  Художественный   \n",
       "1    2016-09-13 12:00:00+00:00  Художественный   \n",
       "2    2016-10-10 12:00:00+00:00  Художественный   \n",
       "3    2016-06-10 12:00:00+00:00  Художественный   \n",
       "4    2015-07-29 12:00:00+00:00  Художественный   \n",
       "...                        ...             ...   \n",
       "7480 2019-12-23 12:00:00+00:00          Прочие   \n",
       "7481 2019-12-24 12:00:00+00:00  Художественный   \n",
       "7482 2019-12-28 12:00:00+00:00  Художественный   \n",
       "7483 2019-12-30 12:00:00+00:00    Анимационный   \n",
       "7484 2019-12-30 12:00:00+00:00    Анимационный   \n",
       "\n",
       "                                            film_studio  \\\n",
       "0     Тачстоун Пикчерз, Кобальт Пикчерз, Бикон Пикче...   \n",
       "1                                 Киностудия \"Мосфильм\"   \n",
       "2     Юниверсал Пикчерз, Кикстарт Продакшнз, Марк Пл...   \n",
       "3     Юниверсал Пикчерз, Кикстарт Продакшнз, Марк Пл...   \n",
       "4     Юниверсал Пикчерз, Кикстарт Продакшнз, Марк Пл...   \n",
       "...                                                 ...   \n",
       "7480                               Севен Артс Продакшнз   \n",
       "7481  Дэниел Гродник Продакшнз, Вандерфилм Медиа Кор...   \n",
       "7482           Никелодеон Анимейшн Студиос, Спин Мастер   \n",
       "7483           Анимаккорд Лтд., ООО Студия \"АНИМАККОРД\"   \n",
       "7484           Анимаккорд Лтд., ООО Студия \"АНИМАККОРД\"   \n",
       "\n",
       "           production_country           director  \\\n",
       "0                         США      Кевин Костнер   \n",
       "1                        СССР          Е.Матвеев   \n",
       "2                         США  Тимур Бекмамбетов   \n",
       "3                         США  Тимур Бекмамбетов   \n",
       "4                         США  Тимур Бекмамбетов   \n",
       "...                       ...                ...   \n",
       "7480           Великобритания        Фил Грабски   \n",
       "7481                      США         Ник Пауэлл   \n",
       "7482             США - Канада   Чарльз Е.Бастьен   \n",
       "7483  Республика Кипр, Россия           А.Беляев   \n",
       "7484  Республика Кипр, Россия           И.Трусов   \n",
       "\n",
       "                                               producer  \\\n",
       "0             Дэвид Валдес, Кевин Костнер, Джейк Эбертс   \n",
       "1                                         Нет продюсера   \n",
       "2     Джим Лемли, Джейсон Нетер, Марк Е.Платт, Яйн Смит   \n",
       "3     Джим Лемли, Джейсон Нетер, Марк Е.Платт, Яйн Смит   \n",
       "4     Джим Лемли, Джейсон Нетер, Марк Е.Платт, Яйн Смит   \n",
       "...                                                 ...   \n",
       "7480                                        Фил Грабски   \n",
       "7481  Джефф Боулер, Дэниэл Гродник, Луильо Руис, Брэ...   \n",
       "7482                                     Дженнифер Додж   \n",
       "7483                                          Д.Ловейко   \n",
       "7484                                          Д.Ловейко   \n",
       "\n",
       "                             age_restriction  refundable_support  \\\n",
       "0                «18+» - запрещено для детей                 0.0   \n",
       "1              «6+» - для детей старше 6 лет                 0.0   \n",
       "2                «18+» - запрещено для детей                 0.0   \n",
       "3                «18+» - запрещено для детей                 0.0   \n",
       "4                «18+» - запрещено для детей                 0.0   \n",
       "...                                      ...                 ...   \n",
       "7480         «12+» - для детей старше 12 лет                 0.0   \n",
       "7481         «16+» - для детей старше 16 лет                 0.0   \n",
       "7482  «0+» - для любой зрительской аудитории                 0.0   \n",
       "7483  «0+» - для любой зрительской аудитории                 0.0   \n",
       "7484  «0+» - для любой зрительской аудитории                 0.0   \n",
       "\n",
       "      nonrefundable_support  budget                financing_source  ratings  \\\n",
       "0                       0.0     0.0  Другой источник финансирования      7.2   \n",
       "1                       0.0     0.0  Другой источник финансирования      6.6   \n",
       "2                       0.0     0.0  Другой источник финансирования      6.8   \n",
       "3                       0.0     0.0  Другой источник финансирования      6.8   \n",
       "4                       0.0     0.0  Другой источник финансирования      6.8   \n",
       "...                     ...     ...                             ...      ...   \n",
       "7480                    0.0     0.0  Другой источник финансирования      0.0   \n",
       "7481                    0.0     0.0  Другой источник финансирования      5.4   \n",
       "7482                    0.0     0.0  Другой источник финансирования      0.0   \n",
       "7483                    0.0     0.0  Другой источник финансирования      0.0   \n",
       "7484                    0.0     0.0  Другой источник финансирования      6.3   \n",
       "\n",
       "                         genres  box_office  \n",
       "0        боевик,драма,мелодрама         0.0  \n",
       "1                 драма,военный         0.0  \n",
       "2     фантастика,боевик,триллер         0.0  \n",
       "3     фантастика,боевик,триллер         0.0  \n",
       "4     фантастика,боевик,триллер         0.0  \n",
       "...                         ...         ...  \n",
       "7480                  Без жанра         0.0  \n",
       "7481             боевик,триллер         0.0  \n",
       "7482                  Без жанра         0.0  \n",
       "7483                  Без жанра         0.0  \n",
       "7484            комедия,вестерн         0.0  \n",
       "\n",
       "[7458 rows x 16 columns]"
      ]
     },
     "execution_count": 36,
     "metadata": {},
     "output_type": "execute_result"
    }
   ],
   "source": [
    "for col in data.columns:\n",
    "    data[col] = data[col].fillna(0)\n",
    "data"
   ]
  },
  {
   "cell_type": "markdown",
   "metadata": {},
   "source": [
    "<div class=\"alert alert-block alert-warning\">\n",
    " \n",
    "### Комментарий ревьюера\n",
    "    \n",
    "#### Совет\n",
    "    \n",
    "Это можно реализовать при помощи цикла, чтобы не копипастить одинаковый код."
   ]
  },
  {
   "cell_type": "markdown",
   "metadata": {
    "id": "Eu6oWp2CgFyS"
   },
   "source": [
    "#### Шаг 2.6. Добавим новые столбцы"
   ]
  },
  {
   "cell_type": "markdown",
   "metadata": {
    "id": "7GgW-UpAgFyS"
   },
   "source": [
    "- Создадим столбец с информацией о годе проката. Выделим год из даты премьеры фильма."
   ]
  },
  {
   "cell_type": "code",
   "execution_count": 37,
   "metadata": {
    "id": "I-yd1DkWgFyT"
   },
   "outputs": [
    {
     "data": {
      "text/plain": [
       "0       2015\n",
       "1       2016\n",
       "2       2016\n",
       "3       2016\n",
       "4       2015\n",
       "        ... \n",
       "7480    2019\n",
       "7481    2019\n",
       "7482    2019\n",
       "7483    2019\n",
       "7484    2019\n",
       "Name: year, Length: 7458, dtype: int64"
      ]
     },
     "execution_count": 37,
     "metadata": {},
     "output_type": "execute_result"
    }
   ],
   "source": [
    "data['year'] = data['show_start_date'].dt.year\n",
    "data['year']"
   ]
  },
  {
   "cell_type": "markdown",
   "metadata": {},
   "source": [
    "<div class=\"alert alert-block alert-success\">\n",
    " \n",
    "### Комментарий ревьюера\n",
    "    \n",
    "#### Успех\n",
    "    \n",
    "Ты используешь удобный метод выделения года из данных. "
   ]
  },
  {
   "cell_type": "markdown",
   "metadata": {
    "id": "nFTDLDYOgFyT"
   },
   "source": [
    "- Создадим два столбца: с именем и фамилией главного режиссёра и основным жанром фильма. В столбцы войдут первые значения из списка режиссёров и жанров соответственно.\n",
    "\n",
    "<div id=\"accordion\">\n",
    "    <div class=\"card\">\n",
    "        <div class=\"card-header\" id=\"headingThree\">\n",
    "            <button class=\"btn btn-link collapsed\" data-toggle=\"collapse\" data-target=\"#collapseHint_2\" aria-expanded=\"false\" aria-controls=\"collapseHint_2\">Подсказка</button>\n",
    "        </div>\n",
    "        <div id=\"collapseHint_2\" class=\"collapse\" aria-labelledby=\"headingThree\" data-parent=\"#accordion\">\n",
    "            <div class=\"card-body\">\n",
    "Чтобы создать такие столбцы, лучше всего использовать собственную функцию. Эту функцию можно применить к двум столбцам сразу. \n",
    "            </div>\n",
    "        </div>\n",
    "    </div>\n",
    "</div>"
   ]
  },
  {
   "cell_type": "code",
   "execution_count": 38,
   "metadata": {
    "id": "LSbRZKbMgFyU"
   },
   "outputs": [
    {
     "data": {
      "text/html": [
       "<div>\n",
       "<style scoped>\n",
       "    .dataframe tbody tr th:only-of-type {\n",
       "        vertical-align: middle;\n",
       "    }\n",
       "\n",
       "    .dataframe tbody tr th {\n",
       "        vertical-align: top;\n",
       "    }\n",
       "\n",
       "    .dataframe thead th {\n",
       "        text-align: right;\n",
       "    }\n",
       "</style>\n",
       "<table border=\"1\" class=\"dataframe\">\n",
       "  <thead>\n",
       "    <tr style=\"text-align: right;\">\n",
       "      <th></th>\n",
       "      <th>title</th>\n",
       "      <th>puNumber</th>\n",
       "      <th>show_start_date</th>\n",
       "      <th>type</th>\n",
       "      <th>film_studio</th>\n",
       "      <th>production_country</th>\n",
       "      <th>director</th>\n",
       "      <th>producer</th>\n",
       "      <th>age_restriction</th>\n",
       "      <th>refundable_support</th>\n",
       "      <th>nonrefundable_support</th>\n",
       "      <th>budget</th>\n",
       "      <th>financing_source</th>\n",
       "      <th>ratings</th>\n",
       "      <th>genres</th>\n",
       "      <th>box_office</th>\n",
       "      <th>year</th>\n",
       "      <th>new_director</th>\n",
       "      <th>new_genres</th>\n",
       "    </tr>\n",
       "  </thead>\n",
       "  <tbody>\n",
       "    <tr>\n",
       "      <th>0</th>\n",
       "      <td>Открытый простор</td>\n",
       "      <td>221048915</td>\n",
       "      <td>2015-11-27 12:00:00+00:00</td>\n",
       "      <td>Художественный</td>\n",
       "      <td>Тачстоун Пикчерз, Кобальт Пикчерз, Бикон Пикче...</td>\n",
       "      <td>США</td>\n",
       "      <td>Кевин Костнер</td>\n",
       "      <td>Дэвид Валдес, Кевин Костнер, Джейк Эбертс</td>\n",
       "      <td>«18+» - запрещено для детей</td>\n",
       "      <td>0.0</td>\n",
       "      <td>0.0</td>\n",
       "      <td>0.0</td>\n",
       "      <td>Другой источник финансирования</td>\n",
       "      <td>7.2</td>\n",
       "      <td>боевик,драма,мелодрама</td>\n",
       "      <td>0.0</td>\n",
       "      <td>2015</td>\n",
       "      <td>Кевин Костнер</td>\n",
       "      <td>боевик</td>\n",
       "    </tr>\n",
       "    <tr>\n",
       "      <th>1</th>\n",
       "      <td>Особо важное задание</td>\n",
       "      <td>111013716</td>\n",
       "      <td>2016-09-13 12:00:00+00:00</td>\n",
       "      <td>Художественный</td>\n",
       "      <td>Киностудия \"Мосфильм\"</td>\n",
       "      <td>СССР</td>\n",
       "      <td>Е.Матвеев</td>\n",
       "      <td>Нет продюсера</td>\n",
       "      <td>«6+» - для детей старше 6 лет</td>\n",
       "      <td>0.0</td>\n",
       "      <td>0.0</td>\n",
       "      <td>0.0</td>\n",
       "      <td>Другой источник финансирования</td>\n",
       "      <td>6.6</td>\n",
       "      <td>драма,военный</td>\n",
       "      <td>0.0</td>\n",
       "      <td>2016</td>\n",
       "      <td>Е.Матвеев</td>\n",
       "      <td>драма</td>\n",
       "    </tr>\n",
       "    <tr>\n",
       "      <th>2</th>\n",
       "      <td>Особо опасен</td>\n",
       "      <td>221038416</td>\n",
       "      <td>2016-10-10 12:00:00+00:00</td>\n",
       "      <td>Художественный</td>\n",
       "      <td>Юниверсал Пикчерз, Кикстарт Продакшнз, Марк Пл...</td>\n",
       "      <td>США</td>\n",
       "      <td>Тимур Бекмамбетов</td>\n",
       "      <td>Джим Лемли, Джейсон Нетер, Марк Е.Платт, Яйн Смит</td>\n",
       "      <td>«18+» - запрещено для детей</td>\n",
       "      <td>0.0</td>\n",
       "      <td>0.0</td>\n",
       "      <td>0.0</td>\n",
       "      <td>Другой источник финансирования</td>\n",
       "      <td>6.8</td>\n",
       "      <td>фантастика,боевик,триллер</td>\n",
       "      <td>0.0</td>\n",
       "      <td>2016</td>\n",
       "      <td>Тимур Бекмамбетов</td>\n",
       "      <td>фантастика</td>\n",
       "    </tr>\n",
       "    <tr>\n",
       "      <th>3</th>\n",
       "      <td>Особо опасен</td>\n",
       "      <td>221026916</td>\n",
       "      <td>2016-06-10 12:00:00+00:00</td>\n",
       "      <td>Художественный</td>\n",
       "      <td>Юниверсал Пикчерз, Кикстарт Продакшнз, Марк Пл...</td>\n",
       "      <td>США</td>\n",
       "      <td>Тимур Бекмамбетов</td>\n",
       "      <td>Джим Лемли, Джейсон Нетер, Марк Е.Платт, Яйн Смит</td>\n",
       "      <td>«18+» - запрещено для детей</td>\n",
       "      <td>0.0</td>\n",
       "      <td>0.0</td>\n",
       "      <td>0.0</td>\n",
       "      <td>Другой источник финансирования</td>\n",
       "      <td>6.8</td>\n",
       "      <td>фантастика,боевик,триллер</td>\n",
       "      <td>0.0</td>\n",
       "      <td>2016</td>\n",
       "      <td>Тимур Бекмамбетов</td>\n",
       "      <td>фантастика</td>\n",
       "    </tr>\n",
       "    <tr>\n",
       "      <th>4</th>\n",
       "      <td>Особо опасен</td>\n",
       "      <td>221030815</td>\n",
       "      <td>2015-07-29 12:00:00+00:00</td>\n",
       "      <td>Художественный</td>\n",
       "      <td>Юниверсал Пикчерз, Кикстарт Продакшнз, Марк Пл...</td>\n",
       "      <td>США</td>\n",
       "      <td>Тимур Бекмамбетов</td>\n",
       "      <td>Джим Лемли, Джейсон Нетер, Марк Е.Платт, Яйн Смит</td>\n",
       "      <td>«18+» - запрещено для детей</td>\n",
       "      <td>0.0</td>\n",
       "      <td>0.0</td>\n",
       "      <td>0.0</td>\n",
       "      <td>Другой источник финансирования</td>\n",
       "      <td>6.8</td>\n",
       "      <td>фантастика,боевик,триллер</td>\n",
       "      <td>0.0</td>\n",
       "      <td>2015</td>\n",
       "      <td>Тимур Бекмамбетов</td>\n",
       "      <td>фантастика</td>\n",
       "    </tr>\n",
       "    <tr>\n",
       "      <th>...</th>\n",
       "      <td>...</td>\n",
       "      <td>...</td>\n",
       "      <td>...</td>\n",
       "      <td>...</td>\n",
       "      <td>...</td>\n",
       "      <td>...</td>\n",
       "      <td>...</td>\n",
       "      <td>...</td>\n",
       "      <td>...</td>\n",
       "      <td>...</td>\n",
       "      <td>...</td>\n",
       "      <td>...</td>\n",
       "      <td>...</td>\n",
       "      <td>...</td>\n",
       "      <td>...</td>\n",
       "      <td>...</td>\n",
       "      <td>...</td>\n",
       "      <td>...</td>\n",
       "      <td>...</td>\n",
       "    </tr>\n",
       "    <tr>\n",
       "      <th>7480</th>\n",
       "      <td>Сад художника: Американский импрессионизм</td>\n",
       "      <td>126008019</td>\n",
       "      <td>2019-12-23 12:00:00+00:00</td>\n",
       "      <td>Прочие</td>\n",
       "      <td>Севен Артс Продакшнз</td>\n",
       "      <td>Великобритания</td>\n",
       "      <td>Фил Грабски</td>\n",
       "      <td>Фил Грабски</td>\n",
       "      <td>«12+» - для детей старше 12 лет</td>\n",
       "      <td>0.0</td>\n",
       "      <td>0.0</td>\n",
       "      <td>0.0</td>\n",
       "      <td>Другой источник финансирования</td>\n",
       "      <td>0.0</td>\n",
       "      <td>Без жанра</td>\n",
       "      <td>0.0</td>\n",
       "      <td>2019</td>\n",
       "      <td>Фил Грабски</td>\n",
       "      <td>Без жанра</td>\n",
       "    </tr>\n",
       "    <tr>\n",
       "      <th>7481</th>\n",
       "      <td>Звериная ярость</td>\n",
       "      <td>121037819</td>\n",
       "      <td>2019-12-24 12:00:00+00:00</td>\n",
       "      <td>Художественный</td>\n",
       "      <td>Дэниел Гродник Продакшнз, Вандерфилм Медиа Кор...</td>\n",
       "      <td>США</td>\n",
       "      <td>Ник Пауэлл</td>\n",
       "      <td>Джефф Боулер, Дэниэл Гродник, Луильо Руис, Брэ...</td>\n",
       "      <td>«16+» - для детей старше 16 лет</td>\n",
       "      <td>0.0</td>\n",
       "      <td>0.0</td>\n",
       "      <td>0.0</td>\n",
       "      <td>Другой источник финансирования</td>\n",
       "      <td>5.4</td>\n",
       "      <td>боевик,триллер</td>\n",
       "      <td>0.0</td>\n",
       "      <td>2019</td>\n",
       "      <td>Ник Пауэлл</td>\n",
       "      <td>боевик</td>\n",
       "    </tr>\n",
       "    <tr>\n",
       "      <th>7482</th>\n",
       "      <td>Щенячий патруль: Скорей спешим на помощь!</td>\n",
       "      <td>124010819</td>\n",
       "      <td>2019-12-28 12:00:00+00:00</td>\n",
       "      <td>Художественный</td>\n",
       "      <td>Никелодеон Анимейшн Студиос, Спин Мастер</td>\n",
       "      <td>США - Канада</td>\n",
       "      <td>Чарльз Е.Бастьен</td>\n",
       "      <td>Дженнифер Додж</td>\n",
       "      <td>«0+» - для любой зрительской аудитории</td>\n",
       "      <td>0.0</td>\n",
       "      <td>0.0</td>\n",
       "      <td>0.0</td>\n",
       "      <td>Другой источник финансирования</td>\n",
       "      <td>0.0</td>\n",
       "      <td>Без жанра</td>\n",
       "      <td>0.0</td>\n",
       "      <td>2019</td>\n",
       "      <td>Чарльз Е.Бастьен</td>\n",
       "      <td>Без жанра</td>\n",
       "    </tr>\n",
       "    <tr>\n",
       "      <th>7483</th>\n",
       "      <td>Машины песенки. Серия \"Испанские мотивы\"</td>\n",
       "      <td>124010619</td>\n",
       "      <td>2019-12-30 12:00:00+00:00</td>\n",
       "      <td>Анимационный</td>\n",
       "      <td>Анимаккорд Лтд., ООО Студия \"АНИМАККОРД\"</td>\n",
       "      <td>Республика Кипр, Россия</td>\n",
       "      <td>А.Беляев</td>\n",
       "      <td>Д.Ловейко</td>\n",
       "      <td>«0+» - для любой зрительской аудитории</td>\n",
       "      <td>0.0</td>\n",
       "      <td>0.0</td>\n",
       "      <td>0.0</td>\n",
       "      <td>Другой источник финансирования</td>\n",
       "      <td>0.0</td>\n",
       "      <td>Без жанра</td>\n",
       "      <td>0.0</td>\n",
       "      <td>2019</td>\n",
       "      <td>А.Беляев</td>\n",
       "      <td>Без жанра</td>\n",
       "    </tr>\n",
       "    <tr>\n",
       "      <th>7484</th>\n",
       "      <td>Машины песенки. Серия \"Когда цветут кактусы\"</td>\n",
       "      <td>124010719</td>\n",
       "      <td>2019-12-30 12:00:00+00:00</td>\n",
       "      <td>Анимационный</td>\n",
       "      <td>Анимаккорд Лтд., ООО Студия \"АНИМАККОРД\"</td>\n",
       "      <td>Республика Кипр, Россия</td>\n",
       "      <td>И.Трусов</td>\n",
       "      <td>Д.Ловейко</td>\n",
       "      <td>«0+» - для любой зрительской аудитории</td>\n",
       "      <td>0.0</td>\n",
       "      <td>0.0</td>\n",
       "      <td>0.0</td>\n",
       "      <td>Другой источник финансирования</td>\n",
       "      <td>6.3</td>\n",
       "      <td>комедия,вестерн</td>\n",
       "      <td>0.0</td>\n",
       "      <td>2019</td>\n",
       "      <td>И.Трусов</td>\n",
       "      <td>комедия</td>\n",
       "    </tr>\n",
       "  </tbody>\n",
       "</table>\n",
       "<p>7458 rows × 19 columns</p>\n",
       "</div>"
      ],
      "text/plain": [
       "                                             title   puNumber  \\\n",
       "0                                 Открытый простор  221048915   \n",
       "1                             Особо важное задание  111013716   \n",
       "2                                     Особо опасен  221038416   \n",
       "3                                     Особо опасен  221026916   \n",
       "4                                     Особо опасен  221030815   \n",
       "...                                            ...        ...   \n",
       "7480     Сад художника: Американский импрессионизм  126008019   \n",
       "7481                               Звериная ярость  121037819   \n",
       "7482     Щенячий патруль: Скорей спешим на помощь!  124010819   \n",
       "7483      Машины песенки. Серия \"Испанские мотивы\"  124010619   \n",
       "7484  Машины песенки. Серия \"Когда цветут кактусы\"  124010719   \n",
       "\n",
       "               show_start_date            type  \\\n",
       "0    2015-11-27 12:00:00+00:00  Художественный   \n",
       "1    2016-09-13 12:00:00+00:00  Художественный   \n",
       "2    2016-10-10 12:00:00+00:00  Художественный   \n",
       "3    2016-06-10 12:00:00+00:00  Художественный   \n",
       "4    2015-07-29 12:00:00+00:00  Художественный   \n",
       "...                        ...             ...   \n",
       "7480 2019-12-23 12:00:00+00:00          Прочие   \n",
       "7481 2019-12-24 12:00:00+00:00  Художественный   \n",
       "7482 2019-12-28 12:00:00+00:00  Художественный   \n",
       "7483 2019-12-30 12:00:00+00:00    Анимационный   \n",
       "7484 2019-12-30 12:00:00+00:00    Анимационный   \n",
       "\n",
       "                                            film_studio  \\\n",
       "0     Тачстоун Пикчерз, Кобальт Пикчерз, Бикон Пикче...   \n",
       "1                                 Киностудия \"Мосфильм\"   \n",
       "2     Юниверсал Пикчерз, Кикстарт Продакшнз, Марк Пл...   \n",
       "3     Юниверсал Пикчерз, Кикстарт Продакшнз, Марк Пл...   \n",
       "4     Юниверсал Пикчерз, Кикстарт Продакшнз, Марк Пл...   \n",
       "...                                                 ...   \n",
       "7480                               Севен Артс Продакшнз   \n",
       "7481  Дэниел Гродник Продакшнз, Вандерфилм Медиа Кор...   \n",
       "7482           Никелодеон Анимейшн Студиос, Спин Мастер   \n",
       "7483           Анимаккорд Лтд., ООО Студия \"АНИМАККОРД\"   \n",
       "7484           Анимаккорд Лтд., ООО Студия \"АНИМАККОРД\"   \n",
       "\n",
       "           production_country           director  \\\n",
       "0                         США      Кевин Костнер   \n",
       "1                        СССР          Е.Матвеев   \n",
       "2                         США  Тимур Бекмамбетов   \n",
       "3                         США  Тимур Бекмамбетов   \n",
       "4                         США  Тимур Бекмамбетов   \n",
       "...                       ...                ...   \n",
       "7480           Великобритания        Фил Грабски   \n",
       "7481                      США         Ник Пауэлл   \n",
       "7482             США - Канада   Чарльз Е.Бастьен   \n",
       "7483  Республика Кипр, Россия           А.Беляев   \n",
       "7484  Республика Кипр, Россия           И.Трусов   \n",
       "\n",
       "                                               producer  \\\n",
       "0             Дэвид Валдес, Кевин Костнер, Джейк Эбертс   \n",
       "1                                         Нет продюсера   \n",
       "2     Джим Лемли, Джейсон Нетер, Марк Е.Платт, Яйн Смит   \n",
       "3     Джим Лемли, Джейсон Нетер, Марк Е.Платт, Яйн Смит   \n",
       "4     Джим Лемли, Джейсон Нетер, Марк Е.Платт, Яйн Смит   \n",
       "...                                                 ...   \n",
       "7480                                        Фил Грабски   \n",
       "7481  Джефф Боулер, Дэниэл Гродник, Луильо Руис, Брэ...   \n",
       "7482                                     Дженнифер Додж   \n",
       "7483                                          Д.Ловейко   \n",
       "7484                                          Д.Ловейко   \n",
       "\n",
       "                             age_restriction  refundable_support  \\\n",
       "0                «18+» - запрещено для детей                 0.0   \n",
       "1              «6+» - для детей старше 6 лет                 0.0   \n",
       "2                «18+» - запрещено для детей                 0.0   \n",
       "3                «18+» - запрещено для детей                 0.0   \n",
       "4                «18+» - запрещено для детей                 0.0   \n",
       "...                                      ...                 ...   \n",
       "7480         «12+» - для детей старше 12 лет                 0.0   \n",
       "7481         «16+» - для детей старше 16 лет                 0.0   \n",
       "7482  «0+» - для любой зрительской аудитории                 0.0   \n",
       "7483  «0+» - для любой зрительской аудитории                 0.0   \n",
       "7484  «0+» - для любой зрительской аудитории                 0.0   \n",
       "\n",
       "      nonrefundable_support  budget                financing_source  ratings  \\\n",
       "0                       0.0     0.0  Другой источник финансирования      7.2   \n",
       "1                       0.0     0.0  Другой источник финансирования      6.6   \n",
       "2                       0.0     0.0  Другой источник финансирования      6.8   \n",
       "3                       0.0     0.0  Другой источник финансирования      6.8   \n",
       "4                       0.0     0.0  Другой источник финансирования      6.8   \n",
       "...                     ...     ...                             ...      ...   \n",
       "7480                    0.0     0.0  Другой источник финансирования      0.0   \n",
       "7481                    0.0     0.0  Другой источник финансирования      5.4   \n",
       "7482                    0.0     0.0  Другой источник финансирования      0.0   \n",
       "7483                    0.0     0.0  Другой источник финансирования      0.0   \n",
       "7484                    0.0     0.0  Другой источник финансирования      6.3   \n",
       "\n",
       "                         genres  box_office  year       new_director  \\\n",
       "0        боевик,драма,мелодрама         0.0  2015      Кевин Костнер   \n",
       "1                 драма,военный         0.0  2016          Е.Матвеев   \n",
       "2     фантастика,боевик,триллер         0.0  2016  Тимур Бекмамбетов   \n",
       "3     фантастика,боевик,триллер         0.0  2016  Тимур Бекмамбетов   \n",
       "4     фантастика,боевик,триллер         0.0  2015  Тимур Бекмамбетов   \n",
       "...                         ...         ...   ...                ...   \n",
       "7480                  Без жанра         0.0  2019        Фил Грабски   \n",
       "7481             боевик,триллер         0.0  2019         Ник Пауэлл   \n",
       "7482                  Без жанра         0.0  2019   Чарльз Е.Бастьен   \n",
       "7483                  Без жанра         0.0  2019           А.Беляев   \n",
       "7484            комедия,вестерн         0.0  2019           И.Трусов   \n",
       "\n",
       "      new_genres  \n",
       "0         боевик  \n",
       "1          драма  \n",
       "2     фантастика  \n",
       "3     фантастика  \n",
       "4     фантастика  \n",
       "...          ...  \n",
       "7480   Без жанра  \n",
       "7481      боевик  \n",
       "7482   Без жанра  \n",
       "7483   Без жанра  \n",
       "7484     комедия  \n",
       "\n",
       "[7458 rows x 19 columns]"
      ]
     },
     "execution_count": 38,
     "metadata": {},
     "output_type": "execute_result"
    }
   ],
   "source": [
    "def new_column(data, columns): #создадим функцию для создания столбцов с первыми значениями режиссера и жанра\n",
    "    for column in columns:\n",
    "        data[f'new_{column}'] = data[column].str.split(',').str[0]\n",
    "    return data\n",
    " \n",
    "data = new_column(data, ['director']) #применим функцию\n",
    "data = new_column(data, ['genres'])\n",
    "data"
   ]
  },
  {
   "cell_type": "markdown",
   "metadata": {
    "id": "1FsCXHwdgFyU"
   },
   "source": [
    "- Посчитаем, какую долю от общего бюджета фильма составляет государственная поддержка."
   ]
  },
  {
   "cell_type": "code",
   "execution_count": 39,
   "metadata": {
    "id": "LV6qFuZLgFyV"
   },
   "outputs": [
    {
     "name": "stdout",
     "output_type": "stream",
     "text": [
      "Доля гос.поддержки от общего бюджета фильма 61.0%\n"
     ]
    }
   ],
   "source": [
    "print(f'Доля гос.поддержки от общего бюджета фильма {support_factor:.1%}')"
   ]
  },
  {
   "cell_type": "markdown",
   "metadata": {},
   "source": [
    "Мы провели предобработку данных, в ходе которой: \n",
    "\n",
    "- заполнили пропуски в данных\n",
    "- изучили дубликаты в датафрейме\n",
    "- изучили категориальные значения и исправили проблему с уникальными значениями\n",
    "- изменили тип данных на подходящий\n",
    "- указали возможные причины пропусков\n",
    "- добавили новые столбцы в таблицу для дальнейшего анализа:\n"
   ]
  },
  {
   "cell_type": "markdown",
   "metadata": {},
   "source": [
    "<div class=\"alert alert-block alert-success\">\n",
    " \n",
    "### Комментарий ревьюера\n",
    "    \n",
    "#### Успех\n",
    "    \n",
    "Супер. Теперь данные готовы к дальнейшему анализу"
   ]
  },
  {
   "cell_type": "markdown",
   "metadata": {
    "id": "6t4EukPLgFyV"
   },
   "source": [
    "### Шаг 3. Проведем исследовательский анализ данных\n"
   ]
  },
  {
   "cell_type": "markdown",
   "metadata": {
    "id": "vAH8WCzugFyV"
   },
   "source": [
    "- Посмотрите, сколько фильмов выходило в прокат каждый год. Обратите внимание, что данные о прокате в кинотеатрах известны не для всех фильмов. Посчитайте, какую долю составляют фильмы с указанной информацией о прокате в кинотеатрах. Проанализируйте, как эта доля менялась по годам. Сделайте вывод о том, какой период полнее всего представлен в данных."
   ]
  },
  {
   "cell_type": "markdown",
   "metadata": {},
   "source": [
    "Рассмотрим срез данных, в котором есть информация о сборах в прокате и посчитаем количество таких фильмов"
   ]
  },
  {
   "cell_type": "code",
   "execution_count": 40,
   "metadata": {
    "id": "ABeV47y7gFyW"
   },
   "outputs": [
    {
     "data": {
      "text/plain": [
       "<AxesSubplot:title={'center':'Фильмы, вышедшие в прокат'}, xlabel='year'>"
      ]
     },
     "execution_count": 40,
     "metadata": {},
     "output_type": "execute_result"
    },
    {
     "data": {
      "image/png": "[encoded data removed]",
      "text/plain": [
       "<Figure size 720x360 with 1 Axes>"
      ]
     },
     "metadata": {
      "needs_background": "light"
     },
     "output_type": "display_data"
    }
   ],
   "source": [
    "(\n",
    "data.query('box_office > 0')\n",
    "    .pivot_table(index='year', values='puNumber', aggfunc='count')\n",
    "    .plot(grid=True, style='o-', figsize=(10, 5), title='Фильмы, вышедшие в прокат')\n",
    ")"
   ]
  },
  {
   "cell_type": "markdown",
   "metadata": {},
   "source": [
    "<div class=\"alert alert-block alert-danger\">\n",
    " \n",
    "### Комментарий ревьюера\n",
    "    \n",
    "#### Ошибка\n",
    "    \n",
    "Все хорошо, но давай привыкнем оформлять графики правильно. Не забывай давать им названия. Сделать это можно командой title() "
   ]
  },
  {
   "cell_type": "markdown",
   "metadata": {},
   "source": [
    "<div class=\"alert alert-block alert-success\">\n",
    " \n",
    "# Комментарий ревьюера ver.2 \n",
    "    \n",
    "#### Успех\n",
    "    \n",
    "Вот теперь другое дело"
   ]
  },
  {
   "cell_type": "code",
   "execution_count": 41,
   "metadata": {},
   "outputs": [
    {
     "data": {
      "text/html": [
       "<div>\n",
       "<style scoped>\n",
       "    .dataframe tbody tr th:only-of-type {\n",
       "        vertical-align: middle;\n",
       "    }\n",
       "\n",
       "    .dataframe tbody tr th {\n",
       "        vertical-align: top;\n",
       "    }\n",
       "\n",
       "    .dataframe thead th {\n",
       "        text-align: right;\n",
       "    }\n",
       "</style>\n",
       "<table border=\"1\" class=\"dataframe\">\n",
       "  <thead>\n",
       "    <tr style=\"text-align: right;\">\n",
       "      <th></th>\n",
       "      <th>puNumber</th>\n",
       "    </tr>\n",
       "    <tr>\n",
       "      <th>year</th>\n",
       "      <th></th>\n",
       "    </tr>\n",
       "  </thead>\n",
       "  <tbody>\n",
       "    <tr>\n",
       "      <th>2019</th>\n",
       "      <td>530</td>\n",
       "    </tr>\n",
       "    <tr>\n",
       "      <th>2016</th>\n",
       "      <td>524</td>\n",
       "    </tr>\n",
       "    <tr>\n",
       "      <th>2018</th>\n",
       "      <td>474</td>\n",
       "    </tr>\n",
       "    <tr>\n",
       "      <th>2015</th>\n",
       "      <td>462</td>\n",
       "    </tr>\n",
       "    <tr>\n",
       "      <th>2017</th>\n",
       "      <td>357</td>\n",
       "    </tr>\n",
       "    <tr>\n",
       "      <th>2014</th>\n",
       "      <td>273</td>\n",
       "    </tr>\n",
       "    <tr>\n",
       "      <th>2013</th>\n",
       "      <td>179</td>\n",
       "    </tr>\n",
       "    <tr>\n",
       "      <th>2012</th>\n",
       "      <td>122</td>\n",
       "    </tr>\n",
       "    <tr>\n",
       "      <th>2011</th>\n",
       "      <td>109</td>\n",
       "    </tr>\n",
       "    <tr>\n",
       "      <th>2010</th>\n",
       "      <td>101</td>\n",
       "    </tr>\n",
       "  </tbody>\n",
       "</table>\n",
       "</div>"
      ],
      "text/plain": [
       "      puNumber\n",
       "year          \n",
       "2019       530\n",
       "2016       524\n",
       "2018       474\n",
       "2015       462\n",
       "2017       357\n",
       "2014       273\n",
       "2013       179\n",
       "2012       122\n",
       "2011       109\n",
       "2010       101"
      ]
     },
     "execution_count": 41,
     "metadata": {},
     "output_type": "execute_result"
    }
   ],
   "source": [
    "(data.query('box_office > 0')\n",
    "    .pivot_table(index='year', values='puNumber', aggfunc='count')\n",
    "    .sort_values(by='puNumber', ascending = False)\n",
    ")"
   ]
  },
  {
   "cell_type": "markdown",
   "metadata": {},
   "source": [
    "С 2010 года начинается рост количества фильмов, которые выходили в прокат. Одним из пиков становится 2016 год. Затем в 2017 году идет резкое снижение, однако сразу после значения снова начинают расти. Пиком становится 2019 год, где количество фильмов, вышедших в прокат, становится максимальным: 530. "
   ]
  },
  {
   "cell_type": "code",
   "execution_count": 42,
   "metadata": {},
   "outputs": [
    {
     "name": "stdout",
     "output_type": "stream",
     "text": [
      "Доля фильмов в прокате 42.0%\n"
     ]
    }
   ],
   "source": [
    "box_office_part = round(len(data.query('box_office > 0'))/len(data), 2)\n",
    "print(f'Доля фильмов в прокате {box_office_part:.1%}')"
   ]
  },
  {
   "cell_type": "markdown",
   "metadata": {},
   "source": [
    "Доля фильмов с указанной информацией о прокате в кинотеатрах составила 42%. Это меньше половины из всех данных нашего датафрейма. Рассмотрим также динамику изменения доли таких фильмов"
   ]
  },
  {
   "cell_type": "code",
   "execution_count": 43,
   "metadata": {},
   "outputs": [
    {
     "data": {
      "text/plain": [
       "year\n",
       "2010    10.0\n",
       "2011    18.0\n",
       "2012    21.0\n",
       "2013    28.0\n",
       "2014    34.0\n",
       "2018    54.0\n",
       "2019    57.0\n",
       "2016    64.0\n",
       "2015    66.0\n",
       "2017    71.0\n",
       "Name: percent, dtype: float64"
      ]
     },
     "execution_count": 43,
     "metadata": {},
     "output_type": "execute_result"
    }
   ],
   "source": [
    "df = (data.query('box_office > 0') #создадим новый датафрейм с данными о фильмах, вышедших в прокат\n",
    "    .pivot_table(index='year', values='puNumber', aggfunc='count')\n",
    "    .sort_values(by='puNumber', ascending = False)\n",
    ")\n",
    "#добавим столбцы с информацией об общем количестве фильмов за год и процентом доли фильмов, вышедших в прокат\n",
    "df['films'] = data.pivot_table(index='year', values='puNumber', aggfunc='count').sort_values(by='puNumber', ascending = False)\n",
    "df['percent'] = round(df['puNumber']/df['films'], 2) * 100\n",
    "\n",
    "df['percent'].sort_values()"
   ]
  },
  {
   "cell_type": "markdown",
   "metadata": {},
   "source": [
    "Наиболее полно представлены данные за 2017 год. 71% - доля фильмов вышедших в прокат за этот год. Также много информации есть за 2015 и 2016 года. Меньше всего информации о прокатах фильмов есть за 2010 год - 10%. Однако с 2010 года шел стабильный рост. Резкий спад же произошел в 2018 году, с 71% до 54%"
   ]
  },
  {
   "cell_type": "markdown",
   "metadata": {},
   "source": [
    "<div class=\"alert alert-block alert-success\">\n",
    " \n",
    "### Комментарий ревьюера\n",
    "    \n",
    "#### Успех\n",
    "    \n",
    "С выводом согласен. Отлично вышло. "
   ]
  },
  {
   "cell_type": "markdown",
   "metadata": {
    "id": "BEOdcIrIgFyW"
   },
   "source": [
    "- Изучим, как менялась динамика проката по годам"
   ]
  },
  {
   "cell_type": "code",
   "execution_count": 44,
   "metadata": {},
   "outputs": [],
   "source": [
    "data['box_office'] = data['box_office'].astype('int')"
   ]
  },
  {
   "cell_type": "code",
   "execution_count": 45,
   "metadata": {
    "id": "tfEhofYvgFyX"
   },
   "outputs": [
    {
     "data": {
      "text/html": [
       "<div>\n",
       "<style scoped>\n",
       "    .dataframe tbody tr th:only-of-type {\n",
       "        vertical-align: middle;\n",
       "    }\n",
       "\n",
       "    .dataframe tbody tr th {\n",
       "        vertical-align: top;\n",
       "    }\n",
       "\n",
       "    .dataframe thead th {\n",
       "        text-align: right;\n",
       "    }\n",
       "</style>\n",
       "<table border=\"1\" class=\"dataframe\">\n",
       "  <thead>\n",
       "    <tr style=\"text-align: right;\">\n",
       "      <th></th>\n",
       "      <th>box_office</th>\n",
       "    </tr>\n",
       "    <tr>\n",
       "      <th>year</th>\n",
       "      <th></th>\n",
       "    </tr>\n",
       "  </thead>\n",
       "  <tbody>\n",
       "    <tr>\n",
       "      <th>2018</th>\n",
       "      <td>49668361724</td>\n",
       "    </tr>\n",
       "    <tr>\n",
       "      <th>2017</th>\n",
       "      <td>48563707214</td>\n",
       "    </tr>\n",
       "    <tr>\n",
       "      <th>2019</th>\n",
       "      <td>48425708592</td>\n",
       "    </tr>\n",
       "    <tr>\n",
       "      <th>2016</th>\n",
       "      <td>47866105069</td>\n",
       "    </tr>\n",
       "    <tr>\n",
       "      <th>2015</th>\n",
       "      <td>39497365062</td>\n",
       "    </tr>\n",
       "    <tr>\n",
       "      <th>2014</th>\n",
       "      <td>7444951839</td>\n",
       "    </tr>\n",
       "    <tr>\n",
       "      <th>2013</th>\n",
       "      <td>29799704</td>\n",
       "    </tr>\n",
       "    <tr>\n",
       "      <th>2011</th>\n",
       "      <td>14102765</td>\n",
       "    </tr>\n",
       "    <tr>\n",
       "      <th>2012</th>\n",
       "      <td>6911073</td>\n",
       "    </tr>\n",
       "    <tr>\n",
       "      <th>2010</th>\n",
       "      <td>2428654</td>\n",
       "    </tr>\n",
       "  </tbody>\n",
       "</table>\n",
       "</div>"
      ],
      "text/plain": [
       "       box_office\n",
       "year             \n",
       "2018  49668361724\n",
       "2017  48563707214\n",
       "2019  48425708592\n",
       "2016  47866105069\n",
       "2015  39497365062\n",
       "2014   7444951839\n",
       "2013     29799704\n",
       "2011     14102765\n",
       "2012      6911073\n",
       "2010      2428654"
      ]
     },
     "execution_count": 45,
     "metadata": {},
     "output_type": "execute_result"
    }
   ],
   "source": [
    "data.pivot_table(index='year', values='box_office', aggfunc='sum').sort_values(by='box_office', ascending=False)"
   ]
  },
  {
   "cell_type": "code",
   "execution_count": 46,
   "metadata": {},
   "outputs": [
    {
     "data": {
      "text/plain": [
       "<AxesSubplot:title={'center':'Динамика проката по годам'}, xlabel='year'>"
      ]
     },
     "execution_count": 46,
     "metadata": {},
     "output_type": "execute_result"
    },
    {
     "data": {
      "image/png": "[encoded data removed]",
      "text/plain": [
       "<Figure size 720x360 with 1 Axes>"
      ]
     },
     "metadata": {
      "needs_background": "light"
     },
     "output_type": "display_data"
    }
   ],
   "source": [
    "(\n",
    "data\n",
    "    .pivot_table(index='year', values='box_office', aggfunc='sum')\n",
    "    .plot(grid=True, style='o-', figsize=(10, 5), title='Динамика проката по годам')\n",
    ")"
   ]
  },
  {
   "cell_type": "markdown",
   "metadata": {},
   "source": [
    "С 2013 года начался рост в увеличении суммы сборов. Максимум был достигнут в 2018 году - 49 млрд. рублей было собрано в прокате. Самый сильный скачок произошел в с 2014 по 2015 год: сборы увеличились с 7 млрд. до 39 млрд. Минимум же пришелся на 2010 год - 2 млн. рублей."
   ]
  },
  {
   "cell_type": "markdown",
   "metadata": {},
   "source": [
    "<div class=\"alert alert-block alert-success\">\n",
    " \n",
    "### Комментарий ревьюера\n",
    "    \n",
    "#### Успех\n",
    "    \n",
    "И здесь нечего добавить. "
   ]
  },
  {
   "cell_type": "markdown",
   "metadata": {
    "id": "G-7qS-N-gFyY"
   },
   "source": [
    "- С помощью сводной таблицы посчитаем среднюю и медианную сумму сборов для каждого года."
   ]
  },
  {
   "cell_type": "code",
   "execution_count": 47,
   "metadata": {},
   "outputs": [
    {
     "data": {
      "text/html": [
       "<div>\n",
       "<style scoped>\n",
       "    .dataframe tbody tr th:only-of-type {\n",
       "        vertical-align: middle;\n",
       "    }\n",
       "\n",
       "    .dataframe tbody tr th {\n",
       "        vertical-align: top;\n",
       "    }\n",
       "\n",
       "    .dataframe thead tr th {\n",
       "        text-align: left;\n",
       "    }\n",
       "\n",
       "    .dataframe thead tr:last-of-type th {\n",
       "        text-align: right;\n",
       "    }\n",
       "</style>\n",
       "<table border=\"1\" class=\"dataframe\">\n",
       "  <thead>\n",
       "    <tr>\n",
       "      <th></th>\n",
       "      <th>mean</th>\n",
       "      <th>median</th>\n",
       "    </tr>\n",
       "    <tr>\n",
       "      <th></th>\n",
       "      <th>box_office</th>\n",
       "      <th>box_office</th>\n",
       "    </tr>\n",
       "    <tr>\n",
       "      <th>year</th>\n",
       "      <th></th>\n",
       "      <th></th>\n",
       "    </tr>\n",
       "  </thead>\n",
       "  <tbody>\n",
       "    <tr>\n",
       "      <th>2010</th>\n",
       "      <td>24046</td>\n",
       "      <td>1710</td>\n",
       "    </tr>\n",
       "    <tr>\n",
       "      <th>2011</th>\n",
       "      <td>129383</td>\n",
       "      <td>3000</td>\n",
       "    </tr>\n",
       "    <tr>\n",
       "      <th>2012</th>\n",
       "      <td>56648</td>\n",
       "      <td>6110</td>\n",
       "    </tr>\n",
       "    <tr>\n",
       "      <th>2013</th>\n",
       "      <td>166478</td>\n",
       "      <td>3580</td>\n",
       "    </tr>\n",
       "    <tr>\n",
       "      <th>2014</th>\n",
       "      <td>27270885</td>\n",
       "      <td>20400</td>\n",
       "    </tr>\n",
       "    <tr>\n",
       "      <th>2015</th>\n",
       "      <td>85492132</td>\n",
       "      <td>5003449</td>\n",
       "    </tr>\n",
       "    <tr>\n",
       "      <th>2016</th>\n",
       "      <td>91347528</td>\n",
       "      <td>3957926</td>\n",
       "    </tr>\n",
       "    <tr>\n",
       "      <th>2017</th>\n",
       "      <td>136032793</td>\n",
       "      <td>9968340</td>\n",
       "    </tr>\n",
       "    <tr>\n",
       "      <th>2018</th>\n",
       "      <td>104785573</td>\n",
       "      <td>8911533</td>\n",
       "    </tr>\n",
       "    <tr>\n",
       "      <th>2019</th>\n",
       "      <td>91369261</td>\n",
       "      <td>4627798</td>\n",
       "    </tr>\n",
       "  </tbody>\n",
       "</table>\n",
       "</div>"
      ],
      "text/plain": [
       "           mean     median\n",
       "     box_office box_office\n",
       "year                      \n",
       "2010      24046       1710\n",
       "2011     129383       3000\n",
       "2012      56648       6110\n",
       "2013     166478       3580\n",
       "2014   27270885      20400\n",
       "2015   85492132    5003449\n",
       "2016   91347528    3957926\n",
       "2017  136032793    9968340\n",
       "2018  104785573    8911533\n",
       "2019   91369261    4627798"
      ]
     },
     "execution_count": 47,
     "metadata": {},
     "output_type": "execute_result"
    }
   ],
   "source": [
    "(\n",
    "data\n",
    "    .query('box_office > 0')\n",
    "    .pivot_table(index='year', values='box_office', aggfunc=['mean', 'median']).astype('int')\n",
    ")"
   ]
  },
  {
   "cell_type": "markdown",
   "metadata": {},
   "source": [
    "<div class=\"alert alert-block alert-success\">\n",
    " \n",
    "### Комментарий ревьюера\n",
    "    \n",
    "#### Успех\n",
    "    \n",
    "Медианные показатели сборов значительно ниже средних. "
   ]
  },
  {
   "cell_type": "code",
   "execution_count": 48,
   "metadata": {},
   "outputs": [
    {
     "data": {
      "text/plain": [
       "<AxesSubplot:title={'center':'Средняя и медианная сумма сборов'}, xlabel='year'>"
      ]
     },
     "execution_count": 48,
     "metadata": {},
     "output_type": "execute_result"
    },
    {
     "data": {
      "image/png": "[encoded data removed]",
      "text/plain": [
       "<Figure size 720x360 with 1 Axes>"
      ]
     },
     "metadata": {
      "needs_background": "light"
     },
     "output_type": "display_data"
    }
   ],
   "source": [
    "(\n",
    "data\n",
    "    .query('box_office > 0')\n",
    "    .pivot_table(index='year', values='box_office', aggfunc=['mean', 'median']).astype('int')\n",
    "    .plot(grid=True, style='o-', figsize=(10, 5), title='Средняя и медианная сумма сборов')\n",
    ")"
   ]
  },
  {
   "cell_type": "markdown",
   "metadata": {},
   "source": [
    "По графику мы видим, что с 2013 года начало увеличиваться среднее по сборам фильмов в прокате. Пик пришелся на 2017 год. При этом медиана не увеличилась значительно с годами"
   ]
  },
  {
   "cell_type": "markdown",
   "metadata": {
    "id": "Ok89WFwJgFyZ"
   },
   "source": [
    "- Определите, влияет ли возрастное ограничение аудитории («6+», «12+», «16+», «18+» и т. д.) на сборы фильма в прокате в период с 2015 по 2019 год? Фильмы с каким возрастным ограничением собрали больше всего денег в прокате? Меняется ли картина в зависимости от года? Если да, предположите, с чем это может быть связано."
   ]
  },
  {
   "cell_type": "code",
   "execution_count": 49,
   "metadata": {},
   "outputs": [
    {
     "data": {
      "text/html": [
       "<div>\n",
       "<style scoped>\n",
       "    .dataframe tbody tr th:only-of-type {\n",
       "        vertical-align: middle;\n",
       "    }\n",
       "\n",
       "    .dataframe tbody tr th {\n",
       "        vertical-align: top;\n",
       "    }\n",
       "\n",
       "    .dataframe thead th {\n",
       "        text-align: right;\n",
       "    }\n",
       "</style>\n",
       "<table border=\"1\" class=\"dataframe\">\n",
       "  <thead>\n",
       "    <tr style=\"text-align: right;\">\n",
       "      <th>year</th>\n",
       "      <th>2015</th>\n",
       "      <th>2016</th>\n",
       "      <th>2017</th>\n",
       "      <th>2018</th>\n",
       "      <th>2019</th>\n",
       "      <th>All</th>\n",
       "    </tr>\n",
       "    <tr>\n",
       "      <th>age_restriction</th>\n",
       "      <th></th>\n",
       "      <th></th>\n",
       "      <th></th>\n",
       "      <th></th>\n",
       "      <th></th>\n",
       "      <th></th>\n",
       "    </tr>\n",
       "  </thead>\n",
       "  <tbody>\n",
       "    <tr>\n",
       "      <th>All</th>\n",
       "      <td>39497365062</td>\n",
       "      <td>47866105069</td>\n",
       "      <td>48563707214</td>\n",
       "      <td>49668361724</td>\n",
       "      <td>48425708592</td>\n",
       "      <td>234021247661</td>\n",
       "    </tr>\n",
       "    <tr>\n",
       "      <th>«16+» - для детей старше 16 лет</th>\n",
       "      <td>11368120823</td>\n",
       "      <td>16664548492</td>\n",
       "      <td>18745042899</td>\n",
       "      <td>16503602284</td>\n",
       "      <td>12753418927</td>\n",
       "      <td>76034733425</td>\n",
       "    </tr>\n",
       "    <tr>\n",
       "      <th>«12+» - для детей старше 12 лет</th>\n",
       "      <td>13616081989</td>\n",
       "      <td>12204446503</td>\n",
       "      <td>7851427659</td>\n",
       "      <td>14267250411</td>\n",
       "      <td>12680198743</td>\n",
       "      <td>60619405305</td>\n",
       "    </tr>\n",
       "    <tr>\n",
       "      <th>«6+» - для детей старше 6 лет</th>\n",
       "      <td>8701799354</td>\n",
       "      <td>12053145991</td>\n",
       "      <td>12086142145</td>\n",
       "      <td>10104974592</td>\n",
       "      <td>12852548618</td>\n",
       "      <td>55798610700</td>\n",
       "    </tr>\n",
       "    <tr>\n",
       "      <th>«18+» - запрещено для детей</th>\n",
       "      <td>5432308329</td>\n",
       "      <td>6793929771</td>\n",
       "      <td>9651495581</td>\n",
       "      <td>8760085436</td>\n",
       "      <td>10121796238</td>\n",
       "      <td>40759615355</td>\n",
       "    </tr>\n",
       "    <tr>\n",
       "      <th>«0+» - для любой зрительской аудитории</th>\n",
       "      <td>379054567</td>\n",
       "      <td>150034312</td>\n",
       "      <td>229598930</td>\n",
       "      <td>32449001</td>\n",
       "      <td>17746066</td>\n",
       "      <td>808882876</td>\n",
       "    </tr>\n",
       "  </tbody>\n",
       "</table>\n",
       "</div>"
      ],
      "text/plain": [
       "year                                           2015         2016         2017  \\\n",
       "age_restriction                                                                 \n",
       "All                                     39497365062  47866105069  48563707214   \n",
       "«16+» - для детей старше 16 лет         11368120823  16664548492  18745042899   \n",
       "«12+» - для детей старше 12 лет         13616081989  12204446503   7851427659   \n",
       "«6+» - для детей старше 6 лет            8701799354  12053145991  12086142145   \n",
       "«18+» - запрещено для детей              5432308329   6793929771   9651495581   \n",
       "«0+» - для любой зрительской аудитории    379054567    150034312    229598930   \n",
       "\n",
       "year                                           2018         2019           All  \n",
       "age_restriction                                                                 \n",
       "All                                     49668361724  48425708592  234021247661  \n",
       "«16+» - для детей старше 16 лет         16503602284  12753418927   76034733425  \n",
       "«12+» - для детей старше 12 лет         14267250411  12680198743   60619405305  \n",
       "«6+» - для детей старше 6 лет           10104974592  12852548618   55798610700  \n",
       "«18+» - запрещено для детей              8760085436  10121796238   40759615355  \n",
       "«0+» - для любой зрительской аудитории     32449001     17746066     808882876  "
      ]
     },
     "execution_count": 49,
     "metadata": {},
     "output_type": "execute_result"
    }
   ],
   "source": [
    "(\n",
    "data.query('(year >= 2015)&(year <= 2019)')\n",
    "    .pivot_table(index='age_restriction', columns='year', values='box_office', aggfunc='sum', margins=True)\n",
    "    .sort_values(by='All', ascending=False)\n",
    ")"
   ]
  },
  {
   "cell_type": "code",
   "execution_count": 50,
   "metadata": {
    "id": "jsSbEqfjgFya"
   },
   "outputs": [
    {
     "data": {
      "text/plain": [
       "<AxesSubplot:title={'center':'Влияние возрастного ограничения на сумму сборов'}, xlabel='year'>"
      ]
     },
     "execution_count": 50,
     "metadata": {},
     "output_type": "execute_result"
    },
    {
     "data": {
      "image/png": "[encoded data removed]",
      "text/plain": [
       "<Figure size 1440x720 with 1 Axes>"
      ]
     },
     "metadata": {
      "needs_background": "light"
     },
     "output_type": "display_data"
    }
   ],
   "source": [
    "(\n",
    "data.query('(year >= 2015)&(year <= 2019)')\n",
    "    .pivot_table(index='year', columns='age_restriction', values='box_office', aggfunc='sum')\n",
    "    .plot(grid=True, style='o-', figsize=(20, 10), title='Влияние возрастного ограничения на сумму сборов')\n",
    ")"
   ]
  },
  {
   "cell_type": "markdown",
   "metadata": {},
   "source": [
    "<div class=\"alert alert-block alert-success\">\n",
    " \n",
    "### Комментарий ревьюера\n",
    "    \n",
    "#### Успех\n",
    "    \n",
    "Категория +16 является явным лидером среди других."
   ]
  },
  {
   "cell_type": "markdown",
   "metadata": {},
   "source": [
    "Мы видим, что суммарно с 2015 по 2019 год больше всего денег в прокате набрали фильмы с рейтингом 16+, на втором месте фильмы 12+, затем 6+ и 18+, а наименьшее количество собрали фильмы с рейтингом 0+. При этом фильмы 16+ набирали наибольшее количество денег в 2016, 2017 и 2018 годах, а затем пошли на спад. Возможно увеличилось производство фильмов с данным рейтингом, что повлияло на аудиторию. При этом идет рост фильмов 12+ и 6+. Можем предположить увеличение спроса на категорию фильмов для всей семьи"
   ]
  },
  {
   "cell_type": "markdown",
   "metadata": {
    "id": "l_Kg6Ku4gFya"
   },
   "source": [
    "### Шаг 4. Исследуем фильмы, которые получили государственную поддержку\n"
   ]
  },
  {
   "cell_type": "markdown",
   "metadata": {},
   "source": [
    "Посмотрим, какой процент фильмов в нашем датафрейме был снят при поддержке государства. "
   ]
  },
  {
   "cell_type": "code",
   "execution_count": 51,
   "metadata": {},
   "outputs": [
    {
     "name": "stdout",
     "output_type": "stream",
     "text": [
      "Количество фильмов при поддержке государства 4.45%\n"
     ]
    }
   ],
   "source": [
    "financing_source_support = len(data.query('financing_source != \"Другой источник финансирования\"'))/len(data)\n",
    "print(f'Количество фильмов при поддержке государства {financing_source_support:.2%}')"
   ]
  },
  {
   "cell_type": "markdown",
   "metadata": {
    "id": "W9QKpjUdgFyb"
   },
   "source": [
    "Также посмотрим на средние значения возвратных и невозвратных средств государственной поддержки"
   ]
  },
  {
   "cell_type": "code",
   "execution_count": 52,
   "metadata": {},
   "outputs": [
    {
     "data": {
      "text/plain": [
       "528157.68"
      ]
     },
     "execution_count": 52,
     "metadata": {},
     "output_type": "execute_result"
    }
   ],
   "source": [
    "data['refundable_support'].mean().round(2)"
   ]
  },
  {
   "cell_type": "code",
   "execution_count": 53,
   "metadata": {},
   "outputs": [
    {
     "data": {
      "text/plain": [
       "2180435.55"
      ]
     },
     "execution_count": 53,
     "metadata": {},
     "output_type": "execute_result"
    }
   ],
   "source": [
    "data['nonrefundable_support'].mean().round(2)"
   ]
  },
  {
   "cell_type": "markdown",
   "metadata": {},
   "source": [
    "А также посмотрим на информацию по сборам фильмов, вышедших в прокат при поддержке государства"
   ]
  },
  {
   "cell_type": "code",
   "execution_count": 54,
   "metadata": {},
   "outputs": [
    {
     "data": {
      "text/plain": [
       "126847920.12650603"
      ]
     },
     "execution_count": 54,
     "metadata": {},
     "output_type": "execute_result"
    }
   ],
   "source": [
    "data_government_support = data.query('financing_source != \"Другой источник финансирования\"')\n",
    "\n",
    "data_government_support['box_office'].mean()"
   ]
  },
  {
   "cell_type": "code",
   "execution_count": 55,
   "metadata": {},
   "outputs": [
    {
     "data": {
      "text/plain": [
       "<AxesSubplot:>"
      ]
     },
     "execution_count": 55,
     "metadata": {},
     "output_type": "execute_result"
    },
    {
     "data": {
      "image/png": "[encoded data removed]",
      "text/plain": [
       "<Figure size 432x288 with 1 Axes>"
      ]
     },
     "metadata": {
      "needs_background": "light"
     },
     "output_type": "display_data"
    }
   ],
   "source": [
    "data_government_support['box_office'].hist(bins=100)"
   ]
  },
  {
   "cell_type": "markdown",
   "metadata": {},
   "source": [
    "Посмотрим также на информацию по сборам фильмов, вышедших в прокат при альтернативном источнике финансирования"
   ]
  },
  {
   "cell_type": "code",
   "execution_count": 56,
   "metadata": {},
   "outputs": [
    {
     "data": {
      "text/plain": [
       "27982870.083356723"
      ]
     },
     "execution_count": 56,
     "metadata": {},
     "output_type": "execute_result"
    }
   ],
   "source": [
    "data_other_source = data.query('financing_source == \"Другой источник финансирования\"')\n",
    "data_other_source['box_office'].mean()"
   ]
  },
  {
   "cell_type": "markdown",
   "metadata": {},
   "source": [
    "Количество фильмов, снятых при поддержке государства, оказалось не слишком большим, всего 4,45%. В среднем выделяют около 500 тыс. возвратных средств и 2 млн. невозвратных средств. В среднем фильмы при государственной поддержке собирают около 126 млн. при прокате фильмов. Однако крупных сборов довольно немного, исходя из графика преобладают сборы до 500 тыс. При этом фильмы с альтернативным источником финансирования в среднем собирают гораздо меньше - около 27 млн. "
   ]
  },
  {
   "cell_type": "markdown",
   "metadata": {},
   "source": [
    "<div class=\"alert alert-block alert-warning\">\n",
    " \n",
    "### Комментарий ревьюера\n",
    "    \n",
    "#### Совет\n",
    "    \n",
    "По выводам на основе графиков тоже отлично. Рекомендую только графики верно оформить. "
   ]
  },
  {
   "cell_type": "markdown",
   "metadata": {},
   "source": [
    "**Категоризация сборов**"
   ]
  },
  {
   "cell_type": "markdown",
   "metadata": {},
   "source": [
    "Для анализа окупаемости фильмов создадим функцию, которая категоризует сумму сборов с проката. Если бюджет фильма оказался больше, чем сумма сборов, то будем считать фильм провальным. Если наоборот, то успешным"
   ]
  },
  {
   "cell_type": "code",
   "execution_count": 57,
   "metadata": {},
   "outputs": [
    {
     "name": "stdout",
     "output_type": "stream",
     "text": [
      "0       успех\n",
      "1       успех\n",
      "2       успех\n",
      "3       успех\n",
      "4       успех\n",
      "        ...  \n",
      "7480    успех\n",
      "7481    успех\n",
      "7482    успех\n",
      "7483    успех\n",
      "7484    успех\n",
      "Name: box_office_category, Length: 7458, dtype: object\n"
     ]
    }
   ],
   "source": [
    "def categorize_box_office(row): #создадим функцию для категоризации данных\n",
    "    \n",
    "    box_office = row['box_office']\n",
    "    budget = row['budget']\n",
    "    \n",
    "    if box_office < budget: #если сборы меньше бюджета, то фильм провалился\n",
    "        return 'провал'\n",
    "    else:\n",
    "        return 'успех'\n",
    "    \n",
    "data['box_office_category'] = data.apply(categorize_box_office, axis=1)\n",
    "\n",
    "print(data['box_office_category'])"
   ]
  },
  {
   "cell_type": "markdown",
   "metadata": {},
   "source": [
    "Рассмотрим полученные данные в срезе фильмов с государственной поддержкой"
   ]
  },
  {
   "cell_type": "code",
   "execution_count": 58,
   "metadata": {},
   "outputs": [
    {
     "name": "stdout",
     "output_type": "stream",
     "text": [
      "Процент успешных фильмов при поддержке государства 21.99%\n"
     ]
    }
   ],
   "source": [
    "data_government_support = data.query('financing_source != \"Другой источник финансирования\"')\n",
    "success_rate = len(data_government_support.query('box_office_category == \"успех\"'))/len(data_government_support)\n",
    "print(f'Процент успешных фильмов при поддержке государства {success_rate:.2%}')"
   ]
  },
  {
   "cell_type": "code",
   "execution_count": 59,
   "metadata": {},
   "outputs": [
    {
     "name": "stdout",
     "output_type": "stream",
     "text": [
      "Процент неуспешных фильмов при поддержке государства 78.01%\n"
     ]
    }
   ],
   "source": [
    "fail_rate = len(data_government_support.query('box_office_category == \"провал\"'))/len(data_government_support)\n",
    "print(f'Процент неуспешных фильмов при поддержке государства {fail_rate:.2%}')"
   ]
  },
  {
   "cell_type": "markdown",
   "metadata": {},
   "source": [
    "Мы можем увидеть, что фильмы при господдержке чаще проваливаются в прокате. Доля таких фильмов составила 78%. Успешных фильмов при этом всего 22%"
   ]
  },
  {
   "cell_type": "markdown",
   "metadata": {},
   "source": [
    "**Анализ жанров фильмов**"
   ]
  },
  {
   "cell_type": "markdown",
   "metadata": {},
   "source": [
    "Составим сводную таблицу, чтобы посмотреть наиболее популярные для производства жанры фильмов с господдержкой"
   ]
  },
  {
   "cell_type": "code",
   "execution_count": 60,
   "metadata": {},
   "outputs": [
    {
     "data": {
      "text/html": [
       "<div>\n",
       "<style scoped>\n",
       "    .dataframe tbody tr th:only-of-type {\n",
       "        vertical-align: middle;\n",
       "    }\n",
       "\n",
       "    .dataframe tbody tr th {\n",
       "        vertical-align: top;\n",
       "    }\n",
       "\n",
       "    .dataframe thead th {\n",
       "        text-align: right;\n",
       "    }\n",
       "</style>\n",
       "<table border=\"1\" class=\"dataframe\">\n",
       "  <thead>\n",
       "    <tr style=\"text-align: right;\">\n",
       "      <th></th>\n",
       "      <th>puNumber</th>\n",
       "    </tr>\n",
       "    <tr>\n",
       "      <th>new_genres</th>\n",
       "      <th></th>\n",
       "    </tr>\n",
       "  </thead>\n",
       "  <tbody>\n",
       "    <tr>\n",
       "      <th>драма</th>\n",
       "      <td>93</td>\n",
       "    </tr>\n",
       "    <tr>\n",
       "      <th>комедия</th>\n",
       "      <td>74</td>\n",
       "    </tr>\n",
       "    <tr>\n",
       "      <th>мультфильм</th>\n",
       "      <td>31</td>\n",
       "    </tr>\n",
       "    <tr>\n",
       "      <th>Без жанра</th>\n",
       "      <td>16</td>\n",
       "    </tr>\n",
       "    <tr>\n",
       "      <th>триллер</th>\n",
       "      <td>15</td>\n",
       "    </tr>\n",
       "    <tr>\n",
       "      <th>мелодрама</th>\n",
       "      <td>15</td>\n",
       "    </tr>\n",
       "    <tr>\n",
       "      <th>фантастика</th>\n",
       "      <td>11</td>\n",
       "    </tr>\n",
       "    <tr>\n",
       "      <th>фэнтези</th>\n",
       "      <td>11</td>\n",
       "    </tr>\n",
       "    <tr>\n",
       "      <th>ужасы</th>\n",
       "      <td>10</td>\n",
       "    </tr>\n",
       "    <tr>\n",
       "      <th>военный</th>\n",
       "      <td>9</td>\n",
       "    </tr>\n",
       "    <tr>\n",
       "      <th>приключения</th>\n",
       "      <td>7</td>\n",
       "    </tr>\n",
       "    <tr>\n",
       "      <th>семейный</th>\n",
       "      <td>7</td>\n",
       "    </tr>\n",
       "    <tr>\n",
       "      <th>боевик</th>\n",
       "      <td>6</td>\n",
       "    </tr>\n",
       "    <tr>\n",
       "      <th>детектив</th>\n",
       "      <td>5</td>\n",
       "    </tr>\n",
       "    <tr>\n",
       "      <th>детский</th>\n",
       "      <td>4</td>\n",
       "    </tr>\n",
       "    <tr>\n",
       "      <th>история</th>\n",
       "      <td>4</td>\n",
       "    </tr>\n",
       "    <tr>\n",
       "      <th>мюзикл</th>\n",
       "      <td>4</td>\n",
       "    </tr>\n",
       "    <tr>\n",
       "      <th>криминал</th>\n",
       "      <td>3</td>\n",
       "    </tr>\n",
       "    <tr>\n",
       "      <th>биография</th>\n",
       "      <td>3</td>\n",
       "    </tr>\n",
       "    <tr>\n",
       "      <th>спорт</th>\n",
       "      <td>3</td>\n",
       "    </tr>\n",
       "    <tr>\n",
       "      <th>реальное ТВ</th>\n",
       "      <td>1</td>\n",
       "    </tr>\n",
       "  </tbody>\n",
       "</table>\n",
       "</div>"
      ],
      "text/plain": [
       "             puNumber\n",
       "new_genres           \n",
       "драма              93\n",
       "комедия            74\n",
       "мультфильм         31\n",
       "Без жанра          16\n",
       "триллер            15\n",
       "мелодрама          15\n",
       "фантастика         11\n",
       "фэнтези            11\n",
       "ужасы              10\n",
       "военный             9\n",
       "приключения         7\n",
       "семейный            7\n",
       "боевик              6\n",
       "детектив            5\n",
       "детский             4\n",
       "история             4\n",
       "мюзикл              4\n",
       "криминал            3\n",
       "биография           3\n",
       "спорт               3\n",
       "реальное ТВ         1"
      ]
     },
     "execution_count": 60,
     "metadata": {},
     "output_type": "execute_result"
    }
   ],
   "source": [
    "data_government_support.pivot_table(index='new_genres', values='puNumber', aggfunc='count').sort_values(by='puNumber', ascending=False)"
   ]
  },
  {
   "cell_type": "markdown",
   "metadata": {},
   "source": [
    "<div class=\"alert alert-block alert-success\">\n",
    " \n",
    "### Комментарий ревьюера\n",
    "    \n",
    "#### Успех\n",
    "    \n",
    "Среди лидеров достаточно предсказуемые жанры оказались "
   ]
  },
  {
   "cell_type": "markdown",
   "metadata": {},
   "source": [
    "Большинство фильмов при поддержке государтсва сняты в жанрах драмы и комедии. При этом самыми непопулярными жанрами для спонсирования являются спорт, реальное ТВ, криминал, мюзикл и детский. "
   ]
  },
  {
   "cell_type": "markdown",
   "metadata": {},
   "source": [
    "Создадим сводную таблицу, чтобы посмотреть, в каких жанрах больше успешных или провальных фильмов в прокате"
   ]
  },
  {
   "cell_type": "code",
   "execution_count": 61,
   "metadata": {},
   "outputs": [
    {
     "data": {
      "text/html": [
       "<div>\n",
       "<style scoped>\n",
       "    .dataframe tbody tr th:only-of-type {\n",
       "        vertical-align: middle;\n",
       "    }\n",
       "\n",
       "    .dataframe tbody tr th {\n",
       "        vertical-align: top;\n",
       "    }\n",
       "\n",
       "    .dataframe thead th {\n",
       "        text-align: right;\n",
       "    }\n",
       "</style>\n",
       "<table border=\"1\" class=\"dataframe\">\n",
       "  <thead>\n",
       "    <tr style=\"text-align: right;\">\n",
       "      <th>box_office_category</th>\n",
       "      <th>провал</th>\n",
       "      <th>успех</th>\n",
       "    </tr>\n",
       "    <tr>\n",
       "      <th>new_genres</th>\n",
       "      <th></th>\n",
       "      <th></th>\n",
       "    </tr>\n",
       "  </thead>\n",
       "  <tbody>\n",
       "    <tr>\n",
       "      <th>Без жанра</th>\n",
       "      <td>15.0</td>\n",
       "      <td>1.0</td>\n",
       "    </tr>\n",
       "    <tr>\n",
       "      <th>биография</th>\n",
       "      <td>2.0</td>\n",
       "      <td>1.0</td>\n",
       "    </tr>\n",
       "    <tr>\n",
       "      <th>боевик</th>\n",
       "      <td>4.0</td>\n",
       "      <td>2.0</td>\n",
       "    </tr>\n",
       "    <tr>\n",
       "      <th>военный</th>\n",
       "      <td>6.0</td>\n",
       "      <td>3.0</td>\n",
       "    </tr>\n",
       "    <tr>\n",
       "      <th>детектив</th>\n",
       "      <td>5.0</td>\n",
       "      <td>NaN</td>\n",
       "    </tr>\n",
       "    <tr>\n",
       "      <th>детский</th>\n",
       "      <td>4.0</td>\n",
       "      <td>NaN</td>\n",
       "    </tr>\n",
       "    <tr>\n",
       "      <th>драма</th>\n",
       "      <td>79.0</td>\n",
       "      <td>14.0</td>\n",
       "    </tr>\n",
       "    <tr>\n",
       "      <th>история</th>\n",
       "      <td>3.0</td>\n",
       "      <td>1.0</td>\n",
       "    </tr>\n",
       "    <tr>\n",
       "      <th>комедия</th>\n",
       "      <td>45.0</td>\n",
       "      <td>29.0</td>\n",
       "    </tr>\n",
       "    <tr>\n",
       "      <th>криминал</th>\n",
       "      <td>3.0</td>\n",
       "      <td>NaN</td>\n",
       "    </tr>\n",
       "    <tr>\n",
       "      <th>мелодрама</th>\n",
       "      <td>15.0</td>\n",
       "      <td>NaN</td>\n",
       "    </tr>\n",
       "    <tr>\n",
       "      <th>мультфильм</th>\n",
       "      <td>23.0</td>\n",
       "      <td>8.0</td>\n",
       "    </tr>\n",
       "    <tr>\n",
       "      <th>мюзикл</th>\n",
       "      <td>4.0</td>\n",
       "      <td>NaN</td>\n",
       "    </tr>\n",
       "    <tr>\n",
       "      <th>приключения</th>\n",
       "      <td>6.0</td>\n",
       "      <td>1.0</td>\n",
       "    </tr>\n",
       "    <tr>\n",
       "      <th>реальное ТВ</th>\n",
       "      <td>1.0</td>\n",
       "      <td>NaN</td>\n",
       "    </tr>\n",
       "    <tr>\n",
       "      <th>семейный</th>\n",
       "      <td>4.0</td>\n",
       "      <td>3.0</td>\n",
       "    </tr>\n",
       "    <tr>\n",
       "      <th>спорт</th>\n",
       "      <td>1.0</td>\n",
       "      <td>2.0</td>\n",
       "    </tr>\n",
       "    <tr>\n",
       "      <th>триллер</th>\n",
       "      <td>13.0</td>\n",
       "      <td>2.0</td>\n",
       "    </tr>\n",
       "    <tr>\n",
       "      <th>ужасы</th>\n",
       "      <td>7.0</td>\n",
       "      <td>3.0</td>\n",
       "    </tr>\n",
       "    <tr>\n",
       "      <th>фантастика</th>\n",
       "      <td>9.0</td>\n",
       "      <td>2.0</td>\n",
       "    </tr>\n",
       "    <tr>\n",
       "      <th>фэнтези</th>\n",
       "      <td>10.0</td>\n",
       "      <td>1.0</td>\n",
       "    </tr>\n",
       "  </tbody>\n",
       "</table>\n",
       "</div>"
      ],
      "text/plain": [
       "box_office_category  провал  успех\n",
       "new_genres                        \n",
       "Без жанра              15.0    1.0\n",
       "биография               2.0    1.0\n",
       "боевик                  4.0    2.0\n",
       "военный                 6.0    3.0\n",
       "детектив                5.0    NaN\n",
       "детский                 4.0    NaN\n",
       "драма                  79.0   14.0\n",
       "история                 3.0    1.0\n",
       "комедия                45.0   29.0\n",
       "криминал                3.0    NaN\n",
       "мелодрама              15.0    NaN\n",
       "мультфильм             23.0    8.0\n",
       "мюзикл                  4.0    NaN\n",
       "приключения             6.0    1.0\n",
       "реальное ТВ             1.0    NaN\n",
       "семейный                4.0    3.0\n",
       "спорт                   1.0    2.0\n",
       "триллер                13.0    2.0\n",
       "ужасы                   7.0    3.0\n",
       "фантастика              9.0    2.0\n",
       "фэнтези                10.0    1.0"
      ]
     },
     "execution_count": 61,
     "metadata": {},
     "output_type": "execute_result"
    }
   ],
   "source": [
    "data_government_support.pivot_table(index='new_genres', columns='box_office_category', values='puNumber', aggfunc='count')"
   ]
  },
  {
   "cell_type": "markdown",
   "metadata": {},
   "source": [
    "Рассмотрим фильмы, которые провалились в прокате более подробно. Посчитаем отношение таких фильмов к общему количеству картин в определенном жанре, снятых при поддержке государства"
   ]
  },
  {
   "cell_type": "code",
   "execution_count": 62,
   "metadata": {},
   "outputs": [
    {
     "data": {
      "text/plain": [
       "new_genres\n",
       "мелодрама      1.00\n",
       "криминал       1.00\n",
       "реальное ТВ    1.00\n",
       "мюзикл         1.00\n",
       "детектив       1.00\n",
       "детский        1.00\n",
       "Без жанра      0.94\n",
       "фэнтези        0.91\n",
       "триллер        0.87\n",
       "приключения    0.86\n",
       "драма          0.85\n",
       "фантастика     0.82\n",
       "история        0.75\n",
       "мультфильм     0.74\n",
       "ужасы          0.70\n",
       "биография      0.67\n",
       "военный        0.67\n",
       "боевик         0.67\n",
       "комедия        0.61\n",
       "семейный       0.57\n",
       "спорт          0.33\n",
       "Name: fail_percent, dtype: float64"
      ]
     },
     "execution_count": 62,
     "metadata": {},
     "output_type": "execute_result"
    }
   ],
   "source": [
    "data_government_support_pivot = data_government_support.pivot_table(index='new_genres', columns='box_office_category', values='puNumber', aggfunc='count')\n",
    "data_government_support_pivot['успех'] = data_government_support_pivot['успех'].fillna(0)\n",
    "data_government_support_pivot['fail_percent'] = data_government_support_pivot['провал']/(data_government_support_pivot['провал'] + data_government_support_pivot['успех'])\n",
    "data_government_support_pivot['fail_percent'].round(2).sort_values(ascending=False)"
   ]
  },
  {
   "cell_type": "markdown",
   "metadata": {},
   "source": [
    "Мы видим, что наименее перспективными в сборах оказались фильмы в жанрах мелодрамы, криминала, реального ТВ, мюзикла, детектива и детского кино. В данных жанрах не оказалось фильмов, которые были бы успешными в прокате. Также рассмотрим фильмы, которые наоборот оказались успешными в сборах"
   ]
  },
  {
   "cell_type": "code",
   "execution_count": 63,
   "metadata": {},
   "outputs": [
    {
     "data": {
      "text/plain": [
       "new_genres\n",
       "мелодрама      0.00\n",
       "реальное ТВ    0.00\n",
       "мюзикл         0.00\n",
       "криминал       0.00\n",
       "детектив       0.00\n",
       "детский        0.00\n",
       "Без жанра      0.06\n",
       "фэнтези        0.09\n",
       "триллер        0.13\n",
       "приключения    0.14\n",
       "драма          0.15\n",
       "фантастика     0.18\n",
       "история        0.25\n",
       "мультфильм     0.26\n",
       "ужасы          0.30\n",
       "военный        0.33\n",
       "боевик         0.33\n",
       "биография      0.33\n",
       "комедия        0.39\n",
       "семейный       0.43\n",
       "спорт          0.67\n",
       "Name: success_percent, dtype: float64"
      ]
     },
     "execution_count": 63,
     "metadata": {},
     "output_type": "execute_result"
    }
   ],
   "source": [
    "data_government_support_pivot['success_percent'] = data_government_support_pivot['успех']/(data_government_support_pivot['провал'] + data_government_support_pivot['успех'])\n",
    "data_government_support_pivot['success_percent'].round(2).sort_values()"
   ]
  },
  {
   "cell_type": "markdown",
   "metadata": {},
   "source": [
    "Лучшими можно считать жанры со спортивным, семейным, комедийным кино. Посмотрим на результаты в виде графика"
   ]
  },
  {
   "cell_type": "code",
   "execution_count": 64,
   "metadata": {},
   "outputs": [
    {
     "data": {
      "text/plain": [
       "<AxesSubplot:title={'center':'Сборы разных жанров фильмов'}, xlabel='new_genres'>"
      ]
     },
     "execution_count": 64,
     "metadata": {},
     "output_type": "execute_result"
    },
    {
     "data": {
      "image/png": "[encoded data removed]",
      "text/plain": [
       "<Figure size 1080x576 with 1 Axes>"
      ]
     },
     "metadata": {
      "needs_background": "light"
     },
     "output_type": "display_data"
    }
   ],
   "source": [
    "data_government_support.pivot_table(index='new_genres', columns='box_office_category', values='puNumber', aggfunc='count').plot(grid=True, kind='bar', figsize=(15, 8), title='Сборы разных жанров фильмов')"
   ]
  },
  {
   "cell_type": "markdown",
   "metadata": {},
   "source": [
    "<div class=\"alert alert-block alert-warning\">\n",
    " \n",
    "### Комментарий ревьюера\n",
    "    \n",
    "#### Совет\n",
    "    \n",
    "Можно было сделать сортировку значений по убыванию. "
   ]
  },
  {
   "cell_type": "markdown",
   "metadata": {},
   "source": [
    "**Анализ типов фильмов**"
   ]
  },
  {
   "cell_type": "code",
   "execution_count": 65,
   "metadata": {},
   "outputs": [
    {
     "data": {
      "text/html": [
       "<div>\n",
       "<style scoped>\n",
       "    .dataframe tbody tr th:only-of-type {\n",
       "        vertical-align: middle;\n",
       "    }\n",
       "\n",
       "    .dataframe tbody tr th {\n",
       "        vertical-align: top;\n",
       "    }\n",
       "\n",
       "    .dataframe thead th {\n",
       "        text-align: right;\n",
       "    }\n",
       "</style>\n",
       "<table border=\"1\" class=\"dataframe\">\n",
       "  <thead>\n",
       "    <tr style=\"text-align: right;\">\n",
       "      <th></th>\n",
       "      <th>puNumber</th>\n",
       "    </tr>\n",
       "    <tr>\n",
       "      <th>type</th>\n",
       "      <th></th>\n",
       "    </tr>\n",
       "  </thead>\n",
       "  <tbody>\n",
       "    <tr>\n",
       "      <th>Художественный</th>\n",
       "      <td>300</td>\n",
       "    </tr>\n",
       "    <tr>\n",
       "      <th>Анимационный</th>\n",
       "      <td>31</td>\n",
       "    </tr>\n",
       "    <tr>\n",
       "      <th>Документальный</th>\n",
       "      <td>1</td>\n",
       "    </tr>\n",
       "  </tbody>\n",
       "</table>\n",
       "</div>"
      ],
      "text/plain": [
       "                puNumber\n",
       "type                    \n",
       "Художественный       300\n",
       "Анимационный          31\n",
       "Документальный         1"
      ]
     },
     "execution_count": 65,
     "metadata": {},
     "output_type": "execute_result"
    }
   ],
   "source": [
    "data_government_support.pivot_table(index='type', values='puNumber', aggfunc='count').sort_values(by='puNumber', ascending=False)"
   ]
  },
  {
   "cell_type": "markdown",
   "metadata": {},
   "source": [
    "Чаще всего при поддержке государства снимаются художественные фильмы."
   ]
  },
  {
   "cell_type": "markdown",
   "metadata": {},
   "source": [
    "**Анализ рейтинга фильмов**"
   ]
  },
  {
   "cell_type": "markdown",
   "metadata": {},
   "source": [
    "Проанализируем рейтинг фильмов, снятых при поддержке государства. Построим сводные таблицы для анализа сравнения средних рейтингов в зависимости от жанров, сборов, типа фильмов."
   ]
  },
  {
   "cell_type": "code",
   "execution_count": 66,
   "metadata": {},
   "outputs": [
    {
     "data": {
      "text/html": [
       "<div>\n",
       "<style scoped>\n",
       "    .dataframe tbody tr th:only-of-type {\n",
       "        vertical-align: middle;\n",
       "    }\n",
       "\n",
       "    .dataframe tbody tr th {\n",
       "        vertical-align: top;\n",
       "    }\n",
       "\n",
       "    .dataframe thead th {\n",
       "        text-align: right;\n",
       "    }\n",
       "</style>\n",
       "<table border=\"1\" class=\"dataframe\">\n",
       "  <thead>\n",
       "    <tr style=\"text-align: right;\">\n",
       "      <th></th>\n",
       "      <th>ratings</th>\n",
       "    </tr>\n",
       "    <tr>\n",
       "      <th>box_office_category</th>\n",
       "      <th></th>\n",
       "    </tr>\n",
       "  </thead>\n",
       "  <tbody>\n",
       "    <tr>\n",
       "      <th>успех</th>\n",
       "      <td>6.05</td>\n",
       "    </tr>\n",
       "    <tr>\n",
       "      <th>провал</th>\n",
       "      <td>5.64</td>\n",
       "    </tr>\n",
       "  </tbody>\n",
       "</table>\n",
       "</div>"
      ],
      "text/plain": [
       "                     ratings\n",
       "box_office_category         \n",
       "успех                   6.05\n",
       "провал                  5.64"
      ]
     },
     "execution_count": 66,
     "metadata": {},
     "output_type": "execute_result"
    }
   ],
   "source": [
    "data_government_support.pivot_table(index='box_office_category', values='ratings', aggfunc='mean').sort_values(by='ratings', ascending=False).round(2)"
   ]
  },
  {
   "cell_type": "markdown",
   "metadata": {},
   "source": [
    "Успешные фильмы в прокате имеют средний рейтинг на КиноПоиске: 6,05. А провальные 5,64"
   ]
  },
  {
   "cell_type": "code",
   "execution_count": 67,
   "metadata": {},
   "outputs": [
    {
     "data": {
      "text/html": [
       "<div>\n",
       "<style scoped>\n",
       "    .dataframe tbody tr th:only-of-type {\n",
       "        vertical-align: middle;\n",
       "    }\n",
       "\n",
       "    .dataframe tbody tr th {\n",
       "        vertical-align: top;\n",
       "    }\n",
       "\n",
       "    .dataframe thead th {\n",
       "        text-align: right;\n",
       "    }\n",
       "</style>\n",
       "<table border=\"1\" class=\"dataframe\">\n",
       "  <thead>\n",
       "    <tr style=\"text-align: right;\">\n",
       "      <th></th>\n",
       "      <th>ratings</th>\n",
       "    </tr>\n",
       "    <tr>\n",
       "      <th>type</th>\n",
       "      <th></th>\n",
       "    </tr>\n",
       "  </thead>\n",
       "  <tbody>\n",
       "    <tr>\n",
       "      <th>Документальный</th>\n",
       "      <td>8.00</td>\n",
       "    </tr>\n",
       "    <tr>\n",
       "      <th>Художественный</th>\n",
       "      <td>5.74</td>\n",
       "    </tr>\n",
       "    <tr>\n",
       "      <th>Анимационный</th>\n",
       "      <td>5.56</td>\n",
       "    </tr>\n",
       "  </tbody>\n",
       "</table>\n",
       "</div>"
      ],
      "text/plain": [
       "                ratings\n",
       "type                   \n",
       "Документальный     8.00\n",
       "Художественный     5.74\n",
       "Анимационный       5.56"
      ]
     },
     "execution_count": 67,
     "metadata": {},
     "output_type": "execute_result"
    }
   ],
   "source": [
    "data_government_support.pivot_table(index='type', values='ratings', aggfunc='mean').round(2).sort_values(by='ratings', ascending=False)"
   ]
  },
  {
   "cell_type": "markdown",
   "metadata": {},
   "source": [
    "Самый низкий средний рейтинг имеется у анимационных фильмов 5,56. Художественные фильмы имеют рейтинг 5,74. У нас есть только один документальный фильм, который имеет рейтинг 8. "
   ]
  },
  {
   "cell_type": "code",
   "execution_count": 68,
   "metadata": {},
   "outputs": [
    {
     "data": {
      "text/html": [
       "<div>\n",
       "<style scoped>\n",
       "    .dataframe tbody tr th:only-of-type {\n",
       "        vertical-align: middle;\n",
       "    }\n",
       "\n",
       "    .dataframe tbody tr th {\n",
       "        vertical-align: top;\n",
       "    }\n",
       "\n",
       "    .dataframe thead th {\n",
       "        text-align: right;\n",
       "    }\n",
       "</style>\n",
       "<table border=\"1\" class=\"dataframe\">\n",
       "  <thead>\n",
       "    <tr style=\"text-align: right;\">\n",
       "      <th></th>\n",
       "      <th>ratings</th>\n",
       "    </tr>\n",
       "    <tr>\n",
       "      <th>new_genres</th>\n",
       "      <th></th>\n",
       "    </tr>\n",
       "  </thead>\n",
       "  <tbody>\n",
       "    <tr>\n",
       "      <th>криминал</th>\n",
       "      <td>7.50</td>\n",
       "    </tr>\n",
       "    <tr>\n",
       "      <th>детский</th>\n",
       "      <td>7.12</td>\n",
       "    </tr>\n",
       "    <tr>\n",
       "      <th>спорт</th>\n",
       "      <td>6.93</td>\n",
       "    </tr>\n",
       "    <tr>\n",
       "      <th>биография</th>\n",
       "      <td>6.90</td>\n",
       "    </tr>\n",
       "    <tr>\n",
       "      <th>детектив</th>\n",
       "      <td>6.76</td>\n",
       "    </tr>\n",
       "    <tr>\n",
       "      <th>боевик</th>\n",
       "      <td>6.58</td>\n",
       "    </tr>\n",
       "    <tr>\n",
       "      <th>мюзикл</th>\n",
       "      <td>6.55</td>\n",
       "    </tr>\n",
       "    <tr>\n",
       "      <th>военный</th>\n",
       "      <td>6.47</td>\n",
       "    </tr>\n",
       "    <tr>\n",
       "      <th>драма</th>\n",
       "      <td>6.42</td>\n",
       "    </tr>\n",
       "    <tr>\n",
       "      <th>фантастика</th>\n",
       "      <td>6.15</td>\n",
       "    </tr>\n",
       "    <tr>\n",
       "      <th>фэнтези</th>\n",
       "      <td>6.09</td>\n",
       "    </tr>\n",
       "    <tr>\n",
       "      <th>мелодрама</th>\n",
       "      <td>5.95</td>\n",
       "    </tr>\n",
       "    <tr>\n",
       "      <th>приключения</th>\n",
       "      <td>5.87</td>\n",
       "    </tr>\n",
       "    <tr>\n",
       "      <th>мультфильм</th>\n",
       "      <td>5.80</td>\n",
       "    </tr>\n",
       "    <tr>\n",
       "      <th>триллер</th>\n",
       "      <td>5.71</td>\n",
       "    </tr>\n",
       "    <tr>\n",
       "      <th>реальное ТВ</th>\n",
       "      <td>5.60</td>\n",
       "    </tr>\n",
       "    <tr>\n",
       "      <th>комедия</th>\n",
       "      <td>5.51</td>\n",
       "    </tr>\n",
       "    <tr>\n",
       "      <th>семейный</th>\n",
       "      <td>5.41</td>\n",
       "    </tr>\n",
       "    <tr>\n",
       "      <th>история</th>\n",
       "      <td>5.35</td>\n",
       "    </tr>\n",
       "    <tr>\n",
       "      <th>ужасы</th>\n",
       "      <td>5.20</td>\n",
       "    </tr>\n",
       "    <tr>\n",
       "      <th>Без жанра</th>\n",
       "      <td>0.00</td>\n",
       "    </tr>\n",
       "  </tbody>\n",
       "</table>\n",
       "</div>"
      ],
      "text/plain": [
       "             ratings\n",
       "new_genres          \n",
       "криминал        7.50\n",
       "детский         7.12\n",
       "спорт           6.93\n",
       "биография       6.90\n",
       "детектив        6.76\n",
       "боевик          6.58\n",
       "мюзикл          6.55\n",
       "военный         6.47\n",
       "драма           6.42\n",
       "фантастика      6.15\n",
       "фэнтези         6.09\n",
       "мелодрама       5.95\n",
       "приключения     5.87\n",
       "мультфильм      5.80\n",
       "триллер         5.71\n",
       "реальное ТВ     5.60\n",
       "комедия         5.51\n",
       "семейный        5.41\n",
       "история         5.35\n",
       "ужасы           5.20\n",
       "Без жанра       0.00"
      ]
     },
     "execution_count": 68,
     "metadata": {},
     "output_type": "execute_result"
    }
   ],
   "source": [
    "data_government_support.pivot_table(index='new_genres', values='ratings', aggfunc='mean').round(2).sort_values(by='ratings', ascending=False)"
   ]
  },
  {
   "cell_type": "markdown",
   "metadata": {},
   "source": [
    "<div class=\"alert alert-block alert-success\">\n",
    " \n",
    "### Комментарий ревьюера\n",
    "    \n",
    "#### Успех\n",
    "    \n",
    "А вот здесь лидеры оказались не из самых ожидаемых жарнов. "
   ]
  },
  {
   "cell_type": "markdown",
   "metadata": {},
   "source": [
    "Самый высокий рейтинг имеется у фильмов в жанрах: криминал, детский, спорт, биография, детектив и боевик. Худшими можно назвать жанры: ужасы, история, семейный  и комедия. Рассмотрим результаты на графике"
   ]
  },
  {
   "cell_type": "code",
   "execution_count": 69,
   "metadata": {},
   "outputs": [
    {
     "data": {
      "text/plain": [
       "<AxesSubplot:title={'center':'Рейтинг фильмов'}, xlabel='new_genres'>"
      ]
     },
     "execution_count": 69,
     "metadata": {},
     "output_type": "execute_result"
    },
    {
     "data": {
      "image/png": "[encoded data removed]",
      "text/plain": [
       "<Figure size 720x360 with 1 Axes>"
      ]
     },
     "metadata": {
      "needs_background": "light"
     },
     "output_type": "display_data"
    }
   ],
   "source": [
    "data_government_support.pivot_table(index='new_genres', values='ratings', aggfunc='mean').round(2).plot(grid=True, kind='bar', figsize=(10, 5), title='Рейтинг фильмов')"
   ]
  },
  {
   "cell_type": "markdown",
   "metadata": {},
   "source": [
    "Исходя из графика можно увидеть, что рейтинги распределились достаточно равномерно. Нет жанров, которые бы значительно выделялись как в лучшую, так и в худшую сторону. "
   ]
  },
  {
   "cell_type": "markdown",
   "metadata": {},
   "source": [
    "**Сравнение с фильмами с другим источником финансирования**"
   ]
  },
  {
   "cell_type": "markdown",
   "metadata": {},
   "source": [
    "Сравним также результаты с фильмами, которые были сняты при поддержке альтернативных источников"
   ]
  },
  {
   "cell_type": "code",
   "execution_count": 70,
   "metadata": {},
   "outputs": [
    {
     "data": {
      "text/html": [
       "<div>\n",
       "<style scoped>\n",
       "    .dataframe tbody tr th:only-of-type {\n",
       "        vertical-align: middle;\n",
       "    }\n",
       "\n",
       "    .dataframe tbody tr th {\n",
       "        vertical-align: top;\n",
       "    }\n",
       "\n",
       "    .dataframe thead th {\n",
       "        text-align: right;\n",
       "    }\n",
       "</style>\n",
       "<table border=\"1\" class=\"dataframe\">\n",
       "  <thead>\n",
       "    <tr style=\"text-align: right;\">\n",
       "      <th></th>\n",
       "      <th>ratings_goverment</th>\n",
       "      <th>ratings_other</th>\n",
       "    </tr>\n",
       "    <tr>\n",
       "      <th>new_genres</th>\n",
       "      <th></th>\n",
       "      <th></th>\n",
       "    </tr>\n",
       "  </thead>\n",
       "  <tbody>\n",
       "    <tr>\n",
       "      <th>Без жанра</th>\n",
       "      <td>0.00</td>\n",
       "      <td>0.06</td>\n",
       "    </tr>\n",
       "    <tr>\n",
       "      <th>биография</th>\n",
       "      <td>6.90</td>\n",
       "      <td>7.02</td>\n",
       "    </tr>\n",
       "    <tr>\n",
       "      <th>боевик</th>\n",
       "      <td>6.58</td>\n",
       "      <td>6.51</td>\n",
       "    </tr>\n",
       "    <tr>\n",
       "      <th>военный</th>\n",
       "      <td>6.47</td>\n",
       "      <td>6.79</td>\n",
       "    </tr>\n",
       "    <tr>\n",
       "      <th>детектив</th>\n",
       "      <td>6.76</td>\n",
       "      <td>6.64</td>\n",
       "    </tr>\n",
       "    <tr>\n",
       "      <th>детский</th>\n",
       "      <td>7.12</td>\n",
       "      <td>5.89</td>\n",
       "    </tr>\n",
       "    <tr>\n",
       "      <th>драма</th>\n",
       "      <td>6.42</td>\n",
       "      <td>6.79</td>\n",
       "    </tr>\n",
       "    <tr>\n",
       "      <th>история</th>\n",
       "      <td>5.35</td>\n",
       "      <td>6.63</td>\n",
       "    </tr>\n",
       "    <tr>\n",
       "      <th>комедия</th>\n",
       "      <td>5.51</td>\n",
       "      <td>6.04</td>\n",
       "    </tr>\n",
       "    <tr>\n",
       "      <th>криминал</th>\n",
       "      <td>7.50</td>\n",
       "      <td>6.63</td>\n",
       "    </tr>\n",
       "    <tr>\n",
       "      <th>мелодрама</th>\n",
       "      <td>5.95</td>\n",
       "      <td>6.55</td>\n",
       "    </tr>\n",
       "    <tr>\n",
       "      <th>мультфильм</th>\n",
       "      <td>5.80</td>\n",
       "      <td>6.31</td>\n",
       "    </tr>\n",
       "    <tr>\n",
       "      <th>мюзикл</th>\n",
       "      <td>6.55</td>\n",
       "      <td>6.93</td>\n",
       "    </tr>\n",
       "    <tr>\n",
       "      <th>приключения</th>\n",
       "      <td>5.87</td>\n",
       "      <td>6.48</td>\n",
       "    </tr>\n",
       "    <tr>\n",
       "      <th>реальное ТВ</th>\n",
       "      <td>5.60</td>\n",
       "      <td>NaN</td>\n",
       "    </tr>\n",
       "    <tr>\n",
       "      <th>семейный</th>\n",
       "      <td>5.41</td>\n",
       "      <td>6.10</td>\n",
       "    </tr>\n",
       "    <tr>\n",
       "      <th>спорт</th>\n",
       "      <td>6.93</td>\n",
       "      <td>7.25</td>\n",
       "    </tr>\n",
       "    <tr>\n",
       "      <th>триллер</th>\n",
       "      <td>5.71</td>\n",
       "      <td>6.62</td>\n",
       "    </tr>\n",
       "    <tr>\n",
       "      <th>ужасы</th>\n",
       "      <td>5.20</td>\n",
       "      <td>5.67</td>\n",
       "    </tr>\n",
       "    <tr>\n",
       "      <th>фантастика</th>\n",
       "      <td>6.15</td>\n",
       "      <td>6.65</td>\n",
       "    </tr>\n",
       "    <tr>\n",
       "      <th>фэнтези</th>\n",
       "      <td>6.09</td>\n",
       "      <td>6.61</td>\n",
       "    </tr>\n",
       "  </tbody>\n",
       "</table>\n",
       "</div>"
      ],
      "text/plain": [
       "             ratings_goverment  ratings_other\n",
       "new_genres                                   \n",
       "Без жанра                 0.00           0.06\n",
       "биография                 6.90           7.02\n",
       "боевик                    6.58           6.51\n",
       "военный                   6.47           6.79\n",
       "детектив                  6.76           6.64\n",
       "детский                   7.12           5.89\n",
       "драма                     6.42           6.79\n",
       "история                   5.35           6.63\n",
       "комедия                   5.51           6.04\n",
       "криминал                  7.50           6.63\n",
       "мелодрама                 5.95           6.55\n",
       "мультфильм                5.80           6.31\n",
       "мюзикл                    6.55           6.93\n",
       "приключения               5.87           6.48\n",
       "реальное ТВ               5.60            NaN\n",
       "семейный                  5.41           6.10\n",
       "спорт                     6.93           7.25\n",
       "триллер                   5.71           6.62\n",
       "ужасы                     5.20           5.67\n",
       "фантастика                6.15           6.65\n",
       "фэнтези                   6.09           6.61"
      ]
     },
     "execution_count": 70,
     "metadata": {},
     "output_type": "execute_result"
    }
   ],
   "source": [
    "pivot_goverment = data_government_support.pivot_table(index='new_genres', values='ratings', aggfunc='mean').round(2)\n",
    "pivot_goverment = pivot_goverment.rename(columns={'ratings': 'ratings_goverment'})\n",
    "\n",
    "data_other_source = data.query('financing_source == \"Другой источник финансирования\"')\n",
    "\n",
    "pivot_other = data_other_source.pivot_table(index='new_genres', values='ratings', aggfunc='mean').round(2)\n",
    "pivot_other = pivot_other.rename(columns={'ratings': 'ratings_other'})\n",
    "\n",
    "pivot = pd.merge(pivot_goverment, pivot_other, on='new_genres', how='left')\n",
    "\n",
    "pivot"
   ]
  },
  {
   "cell_type": "code",
   "execution_count": 71,
   "metadata": {},
   "outputs": [
    {
     "data": {
      "text/plain": [
       "<AxesSubplot:title={'center':'Рейтинг фильмов с разным источником финансирования'}, xlabel='new_genres'>"
      ]
     },
     "execution_count": 71,
     "metadata": {},
     "output_type": "execute_result"
    },
    {
     "data": {
      "image/png": "[encoded data removed]",
      "text/plain": [
       "<Figure size 1440x720 with 1 Axes>"
      ]
     },
     "metadata": {
      "needs_background": "light"
     },
     "output_type": "display_data"
    }
   ],
   "source": [
    "pivot.plot(grid=True, kind='bar', figsize=(20, 10), title='Рейтинг фильмов с разным источником финансирования')"
   ]
  },
  {
   "cell_type": "markdown",
   "metadata": {},
   "source": [
    "Можем увидеть, что преимущество в рейтинге оказалось у фильмов, снятых при гос. поддержке, в жанрах: криминал, боевик, детектив, детский, в отличие от фильмов, снятых без поддержки государства. При этом большой отрыв при альтернативном источнике финансирования оказался у фильмов в жанрах: история, триллер, комедия, приключения."
   ]
  },
  {
   "cell_type": "markdown",
   "metadata": {},
   "source": [
    "<div class=\"alert alert-block alert-success\">\n",
    " \n",
    "### Комментарий ревьюера\n",
    "    \n",
    "#### Успех\n",
    "    \n",
    "Все так и есть"
   ]
  },
  {
   "cell_type": "markdown",
   "metadata": {},
   "source": [
    "# Общий вывод"
   ]
  },
  {
   "cell_type": "markdown",
   "metadata": {},
   "source": [
    "Мы провели исследование рынка российского кинопроката при помощи данных Министерства культуры. Набор данных содержит информацию о прокатных удостоверениях, сборах и государственной поддержке фильмов, а также информацию с сайта КиноПоиск.\n",
    "\n",
    "**Целью исследования было определение текущих трендов кинопроката, а также анализ фильмов, снятых при государственной поддержке.**\n",
    "\n",
    "*Этапы исследования и выводы:*\n",
    "\n",
    "**1. Изучили общую информацию о данных.**\n",
    "\n",
    "Мы объединили в единый датафрейм данные о прокатных удостоверениях и данные о прокате в российских кинотеатрах. Наш датафрейм состоял из 7485 записей. Было обнаружено большое количество пропущенных значений в столбцах, некорректный тип данных, аномальные значения.\n",
    "\n",
    "**2. Выполнили предобработку данных**\n",
    "\n",
    "- заполнили пропуски в данных\n",
    "- изучили дубликаты в датафрейме\n",
    "- изучили категориальные значения и исправили проблему с уникальными значениями\n",
    "- изменили тип данных на подходящий\n",
    "- указали возможные причины пропусков\n",
    "\n",
    "**3. Добавили новые столбцы в таблицу для дальнейшего анализа**\n",
    "- new_director – имя и фамилия главного режиссера\n",
    "- new_genres – основной жанр фильма\n",
    "- year – информация о годе проката\n",
    "\n",
    "**4. Провели исследовательский анализ данных**\n",
    "\n",
    "**4.1 Изучили фильмы, вышедшие в прокат, и проанализировали полноту этих данных по годам**\n",
    "\n",
    "В нашем датасете доля фильмов с указанной информацией о прокате в кинотеатрах составила 42% от общего числа фильмов. При этом с 2010 года шел стабильный рост количества фильмов, которые выходили в прокат. Пиковым значением стал 2016 год. После резкого снижения в 2017 году информация о фильмах в прокате снова начала увеличиваться. Пиком становится 2019 год, где количество фильмов, вышедших в прокат, становится максимальным: 530. Наиболее полно представлены данные за 2017 год. 71% - доля фильмов вышедших в прокат за этот год. Также много информации есть за 2015 и 2016 года. Меньше всего информации о прокатах фильмов есть за 2010 год - 10%. Однако с 2010 года шел стабильный рост. Спад же произошел в 2018 году, с 71% до 54%\n",
    "\n",
    "**4.2 Изучили динамику проката по годам**\n",
    "\n",
    "С 2013 года начался рост в увеличении суммы сборов. Максимум был достигнут в 2018 году - 49 млрд. рублей. Самый сильный скачок произошел в 2015 году: сборы увеличились с 7 млрд. до 39 млрд. Минимум же пришелся на 2010 год - 2 млн. рублей.Также с 2013 года начало увеличиваться среднее по сборам фильмов в прокате. Пик пришелся на 2017 год. При этом медиана не увеличилась значительно с годами\n",
    "\n",
    "**4.3 Изучили влияние возрастного ограничения аудитории на сборы фильма с 2015 по 2019 год**\n",
    "\n",
    "Мы увидели, что суммарно с 2015 по 2019 год больше всего денег в прокате набрали фильмы с рейтингом 16+, на втором месте фильмы 12+, затем 6+ и 18+, а наименьшее количество собрали фильмы с рейтингом 0+. При этом фильмы 16+ набирали наибольшее количество денег в 2016, 2017 и 2018 годах, а затем пошли на спад. Возможно увеличилось производство фильмов с данным рейтингом, что повлияло на аудиторию. При этом идет рост фильмов 12+ и 6+. Можем предположить, что произошло увеличение спроса на категорию фильмов для всей семьи\n",
    "\n",
    "**5. Исследовали фильмы, которые получили государственную поддержку**\n",
    "\n",
    "**5.1 Изучили общую информацию**\n",
    "\n",
    "Количество фильмов, снятых при поддержке государства, оказалось не слишком большим, всего 4,45%. В среднем выделяют около 500 тыс. возвратных средств и 2 млн. невозвратных средств. В среднем фильмы при гос. поддержке собирают около 126 млн. при прокате фильмов. Однако крупных сборов довольно немного, исходя из данных преобладают сборы до 500 тыс. При этом фильмы с альтернативным источником финансирования в среднем собирают гораздо меньше - около 27 млн.\n",
    "\n",
    "**5.2 Изучили сборы фильмов в кинотеатрах**\n",
    "Мы можем увидеть, что фильмы при господдержке чаще проваливаются в прокате. Доля таких фильмов составила 78%. Успешных фильмов при этом всего 22%\n",
    "\n",
    "**5.3. Изучили жанры и типы таких фильмов**\n",
    "\n",
    "Чаще всего при поддержке государства снимаются художественные фильмы. Большинство фильмов при этом сняты в жанрах драмы и комедии. При этом самыми непопулярными жанрами для спонсирования являются спорт, реальное ТВ, криминал, мюзикл и детский. Мы видим, что наименее перспективными в сборах оказались фильмы в жанрах мелодрамы, криминала, реального ТВ, мюзикла, детектива и детского кино. В данных жанрах не оказалось фильмов, которые были бы успешными в прокате. Также рассмотрели фильмы, которые наоборот оказались успешными в сборах. Лучшими можно считать жанры со спортивным, семейным, комедийным кино. \n",
    "\n",
    "**5.4 Изучили рейтинг фильмов**\n",
    "\n",
    "Успешные фильмы в прокате имеют средний рейтинг на КиноПоиске: 6,05. А провальные 5,64. Самый низкий средний рейтинг имеется у анимационных фильмов (5,56). Художественные фильмы имеют рейтинг 5,74. Самый высокий рейтинг имеется у фильмов в жанрах: криминал, детский, спорт, биография, детектив и боевик. Худшими можно назвать жанры: ужасы, история, семейный и комедия. При этом стоит отметить, что рейтинги распределились достаточно равномерно. Нет жанров, которые бы значительно выделялись как в лучшую, так и в худшую сторону.\n",
    "\n",
    "**5.5 Сравнили с рейтингами коммерческих фильмов**\n",
    "\n",
    "Мы увидели, что преимущество в рейтинге оказалось у фильмов, снятых при государственной поддержке, в жанрах: криминал, боевик, детектив, детский, в отличие от фильмов, снятых без поддержки государства. При этом большой отрыв при альтернативном источнике финансирования оказался у фильмов в жанрах: история, триллер, комедия, приключения.\n"
   ]
  },
  {
   "cell_type": "markdown",
   "metadata": {},
   "source": [
    "<div class=\"alert alert-block alert-success\">\n",
    " \n",
    "### Комментарий ревьюера\n",
    "    \n",
    "#### Успех\n",
    "    \n",
    "С таким подробным выводом у нас точно получится составить представление о рынке кино перед министерством Культуры. Очень подробное изложение вышло. Здорово. "
   ]
  },
  {
   "cell_type": "markdown",
   "metadata": {},
   "source": [
    "<div class=\"alert alert-block alert-info\">\n",
    "\n",
    "## Итоговый комментарии от ревьюера:\n",
    "    \n",
    "#### Успех\n",
    "\n",
    "Спасибо большое тебе за такую качественную работу. Мне было приятно проверять проект и делиться обратной связью. Особенно впечатлила Предобработка данных. Все достаточно структурировано и последовательно. Ты применяешь верные навыки для работы с кодом. Еще хочу отметить понятные и информативные графики. Однако, в проекте есть несколько замечаний, которые надо исправить:\n",
    "\n",
    "* Описать какая общая проблема есть почти у всех категориальных столбцов. \n",
    "* Верно оформить все графики. \n",
    "       \n",
    "Еще я оставил рекомендации. Очень надеюсь, что ты учтешь их в этом и последующих проектах.\n",
    "       \n",
    "Жду проект после доработки. Уверен, ты справишься.\n",
    "</div>"
   ]
  },
  {
   "cell_type": "markdown",
   "metadata": {},
   "source": [
    "**Спасибо большое за все комментарии! Приятно познакомиться :)**"
   ]
  },
  {
   "cell_type": "markdown",
   "metadata": {},
   "source": [
    "<div class=\"alert alert-block alert-success\">\n",
    " \n",
    "# Итоговый Комментарий ревьюера ver.2 \n",
    "    \n",
    "#### Успех\n",
    "    \n",
    "Спасибо тебе за доработку проекта. Вот теперь я его готов принять. От себя я хочу пожелать успехов в дальнешей учебе. Ты точно справишься и дальше, я уверен. "
   ]
  },
  {
   "cell_type": "code",
   "execution_count": null,
   "metadata": {},
   "outputs": [],
   "source": []
  }
 ],
 "metadata": {
  "ExecuteTimeLog": [
   {
    "duration": 537,
    "start_time": "2021-07-07T10:12:08.634Z"
   },
   {
    "duration": 206,
    "start_time": "2021-07-07T10:12:30.191Z"
   },
   {
    "duration": 227,
    "start_time": "2021-07-07T10:12:33.078Z"
   },
   {
    "duration": 153,
    "start_time": "2021-07-07T10:13:42.146Z"
   },
   {
    "duration": 233,
    "start_time": "2021-07-07T10:30:09.252Z"
   },
   {
    "duration": 19,
    "start_time": "2021-07-07T10:30:15.577Z"
   },
   {
    "duration": 18,
    "start_time": "2021-07-07T10:30:57.348Z"
   },
   {
    "duration": 19,
    "start_time": "2021-07-07T10:31:17.452Z"
   },
   {
    "duration": 21,
    "start_time": "2021-07-07T10:31:32.227Z"
   },
   {
    "duration": 27,
    "start_time": "2021-07-07T10:32:06.588Z"
   },
   {
    "duration": 23,
    "start_time": "2021-07-07T10:32:43.645Z"
   },
   {
    "duration": 24,
    "start_time": "2021-07-07T10:33:06.948Z"
   },
   {
    "duration": 7,
    "start_time": "2021-07-07T10:33:28.558Z"
   },
   {
    "duration": 23,
    "start_time": "2021-07-07T10:33:43.761Z"
   },
   {
    "duration": 28,
    "start_time": "2021-07-07T10:34:13.466Z"
   },
   {
    "duration": 23,
    "start_time": "2021-07-07T10:35:56.187Z"
   },
   {
    "duration": 6,
    "start_time": "2021-07-07T10:36:48.182Z"
   },
   {
    "duration": 14,
    "start_time": "2021-07-07T10:37:49.641Z"
   },
   {
    "duration": 6,
    "start_time": "2021-07-07T10:38:06.694Z"
   },
   {
    "duration": 6,
    "start_time": "2021-07-07T10:38:13.493Z"
   },
   {
    "duration": 19,
    "start_time": "2021-07-07T10:38:44.056Z"
   },
   {
    "duration": 186,
    "start_time": "2021-07-07T10:48:35.618Z"
   },
   {
    "duration": 24,
    "start_time": "2021-07-07T10:48:51.498Z"
   },
   {
    "duration": 20,
    "start_time": "2021-07-07T10:48:59.415Z"
   },
   {
    "duration": 20,
    "start_time": "2021-07-07T10:53:02.195Z"
   },
   {
    "duration": 188,
    "start_time": "2021-07-07T10:54:40.486Z"
   },
   {
    "duration": 115,
    "start_time": "2021-07-07T10:54:52.552Z"
   },
   {
    "duration": 214,
    "start_time": "2021-07-07T10:54:56.354Z"
   },
   {
    "duration": 47,
    "start_time": "2021-07-07T10:54:58.282Z"
   },
   {
    "duration": 217,
    "start_time": "2021-07-07T10:59:16.075Z"
   },
   {
    "duration": 51,
    "start_time": "2021-07-07T10:59:16.243Z"
   },
   {
    "duration": 578,
    "start_time": "2021-07-07T10:59:18.774Z"
   },
   {
    "duration": 161,
    "start_time": "2021-07-07T10:59:21.238Z"
   },
   {
    "duration": 59,
    "start_time": "2021-07-07T10:59:21.453Z"
   },
   {
    "duration": 3,
    "start_time": "2021-07-07T11:02:10.786Z"
   },
   {
    "duration": 13,
    "start_time": "2021-07-07T11:07:07.722Z"
   },
   {
    "duration": 26,
    "start_time": "2021-07-07T11:07:17.958Z"
   },
   {
    "duration": 22,
    "start_time": "2021-07-07T11:08:17.939Z"
   },
   {
    "duration": 212,
    "start_time": "2021-07-07T11:08:19.665Z"
   },
   {
    "duration": 21,
    "start_time": "2021-07-07T11:08:29.945Z"
   },
   {
    "duration": 31,
    "start_time": "2021-07-07T11:08:38.899Z"
   },
   {
    "duration": 23,
    "start_time": "2021-07-07T11:08:54.527Z"
   },
   {
    "duration": 8,
    "start_time": "2021-07-07T11:18:55.974Z"
   },
   {
    "duration": 7,
    "start_time": "2021-07-07T11:19:03.639Z"
   },
   {
    "duration": 7,
    "start_time": "2021-07-07T11:19:06.444Z"
   },
   {
    "duration": 578,
    "start_time": "2021-07-07T12:09:59.576Z"
   },
   {
    "duration": 195,
    "start_time": "2021-07-07T12:10:00.156Z"
   },
   {
    "duration": 115,
    "start_time": "2021-07-07T12:10:00.353Z"
   },
   {
    "duration": 3,
    "start_time": "2021-07-07T12:10:00.470Z"
   },
   {
    "duration": 32,
    "start_time": "2021-07-07T12:10:00.474Z"
   },
   {
    "duration": 23,
    "start_time": "2021-07-07T12:10:00.508Z"
   },
   {
    "duration": 19,
    "start_time": "2021-07-07T12:10:00.533Z"
   },
   {
    "duration": 44,
    "start_time": "2021-07-07T12:10:00.553Z"
   },
   {
    "duration": 7,
    "start_time": "2021-07-07T12:10:00.600Z"
   },
   {
    "duration": 7,
    "start_time": "2021-07-07T12:19:45.761Z"
   },
   {
    "duration": 21,
    "start_time": "2021-07-07T12:21:35.482Z"
   },
   {
    "duration": 21,
    "start_time": "2021-07-07T12:29:23.569Z"
   },
   {
    "duration": 525,
    "start_time": "2021-07-07T12:29:44.542Z"
   },
   {
    "duration": 214,
    "start_time": "2021-07-07T12:29:45.069Z"
   },
   {
    "duration": 92,
    "start_time": "2021-07-07T12:29:45.285Z"
   },
   {
    "duration": 3,
    "start_time": "2021-07-07T12:29:45.379Z"
   },
   {
    "duration": 28,
    "start_time": "2021-07-07T12:29:45.384Z"
   },
   {
    "duration": 23,
    "start_time": "2021-07-07T12:29:45.413Z"
   },
   {
    "duration": 21,
    "start_time": "2021-07-07T12:29:45.437Z"
   },
   {
    "duration": 41,
    "start_time": "2021-07-07T12:29:45.460Z"
   },
   {
    "duration": 7,
    "start_time": "2021-07-07T12:29:45.502Z"
   },
   {
    "duration": 20,
    "start_time": "2021-07-07T12:29:45.511Z"
   },
   {
    "duration": 12,
    "start_time": "2021-07-07T12:34:02.800Z"
   },
   {
    "duration": 7,
    "start_time": "2021-07-07T12:35:10.479Z"
   },
   {
    "duration": 8,
    "start_time": "2021-07-07T12:35:22.440Z"
   },
   {
    "duration": 6,
    "start_time": "2021-07-07T12:35:35.649Z"
   },
   {
    "duration": 6,
    "start_time": "2021-07-07T12:35:43.107Z"
   },
   {
    "duration": 22,
    "start_time": "2021-07-07T12:38:03.029Z"
   },
   {
    "duration": 10,
    "start_time": "2021-07-07T12:38:06.592Z"
   },
   {
    "duration": 563,
    "start_time": "2021-07-07T12:38:46.493Z"
   },
   {
    "duration": 265,
    "start_time": "2021-07-07T12:38:47.058Z"
   },
   {
    "duration": 94,
    "start_time": "2021-07-07T12:38:47.325Z"
   },
   {
    "duration": 3,
    "start_time": "2021-07-07T12:38:47.422Z"
   },
   {
    "duration": 30,
    "start_time": "2021-07-07T12:38:47.427Z"
   },
   {
    "duration": 16,
    "start_time": "2021-07-07T12:38:53.305Z"
   },
   {
    "duration": 10,
    "start_time": "2021-07-07T12:38:53.499Z"
   },
   {
    "duration": 8,
    "start_time": "2021-07-07T12:39:48.161Z"
   },
   {
    "duration": 27,
    "start_time": "2021-07-07T12:41:17.629Z"
   },
   {
    "duration": 17,
    "start_time": "2021-07-07T12:41:17.867Z"
   },
   {
    "duration": 21,
    "start_time": "2021-07-07T12:41:19.310Z"
   },
   {
    "duration": 7,
    "start_time": "2021-07-07T12:41:19.544Z"
   },
   {
    "duration": 20,
    "start_time": "2021-07-07T12:41:20.504Z"
   },
   {
    "duration": 554,
    "start_time": "2021-07-07T12:56:23.696Z"
   },
   {
    "duration": 200,
    "start_time": "2021-07-07T12:56:25.234Z"
   },
   {
    "duration": 119,
    "start_time": "2021-07-07T12:56:25.480Z"
   },
   {
    "duration": 4,
    "start_time": "2021-07-07T12:56:25.762Z"
   },
   {
    "duration": 26,
    "start_time": "2021-07-07T12:56:27.172Z"
   },
   {
    "duration": 12,
    "start_time": "2021-07-07T12:56:29.051Z"
   },
   {
    "duration": 10,
    "start_time": "2021-07-07T12:56:29.291Z"
   },
   {
    "duration": 8,
    "start_time": "2021-07-07T12:56:29.623Z"
   },
   {
    "duration": 28,
    "start_time": "2021-07-07T12:56:32.137Z"
   },
   {
    "duration": 19,
    "start_time": "2021-07-07T12:56:39.785Z"
   },
   {
    "duration": 20,
    "start_time": "2021-07-07T12:56:44.297Z"
   },
   {
    "duration": 7,
    "start_time": "2021-07-07T12:56:45.392Z"
   },
   {
    "duration": 23,
    "start_time": "2021-07-07T12:56:46.615Z"
   },
   {
    "duration": 4,
    "start_time": "2021-07-07T12:57:06.625Z"
   },
   {
    "duration": 32,
    "start_time": "2021-07-07T12:57:36.690Z"
   },
   {
    "duration": 18,
    "start_time": "2021-07-07T12:58:00.149Z"
   },
   {
    "duration": 15,
    "start_time": "2021-07-07T12:59:16.793Z"
   },
   {
    "duration": 7,
    "start_time": "2021-07-07T13:19:22.624Z"
   },
   {
    "duration": 6,
    "start_time": "2021-07-07T14:17:33.527Z"
   },
   {
    "duration": 9,
    "start_time": "2021-07-07T14:17:48.409Z"
   },
   {
    "duration": 8,
    "start_time": "2021-07-07T14:20:13.060Z"
   },
   {
    "duration": 8,
    "start_time": "2021-07-07T14:20:37.957Z"
   },
   {
    "duration": 8,
    "start_time": "2021-07-07T14:20:47.470Z"
   },
   {
    "duration": 9,
    "start_time": "2021-07-07T14:20:54.503Z"
   },
   {
    "duration": 10,
    "start_time": "2021-07-07T14:28:57.763Z"
   },
   {
    "duration": 3,
    "start_time": "2021-07-07T14:30:23.377Z"
   },
   {
    "duration": 3,
    "start_time": "2021-07-07T14:30:36.489Z"
   },
   {
    "duration": 103,
    "start_time": "2021-07-07T14:30:52.351Z"
   },
   {
    "duration": 8,
    "start_time": "2021-07-07T14:30:54.763Z"
   },
   {
    "duration": 8,
    "start_time": "2021-07-07T14:31:29.301Z"
   },
   {
    "duration": 13,
    "start_time": "2021-07-07T14:31:44.516Z"
   },
   {
    "duration": 7,
    "start_time": "2021-07-07T14:33:10.972Z"
   },
   {
    "duration": 11,
    "start_time": "2021-07-07T14:33:27.780Z"
   },
   {
    "duration": 8,
    "start_time": "2021-07-07T14:34:44.588Z"
   },
   {
    "duration": 57,
    "start_time": "2021-07-07T14:35:59.042Z"
   },
   {
    "duration": 3,
    "start_time": "2021-07-07T14:36:28.168Z"
   },
   {
    "duration": 5,
    "start_time": "2021-07-07T14:36:46.254Z"
   },
   {
    "duration": 4,
    "start_time": "2021-07-07T14:36:52.714Z"
   },
   {
    "duration": 3,
    "start_time": "2021-07-07T14:36:56.612Z"
   },
   {
    "duration": 4,
    "start_time": "2021-07-07T14:36:57.049Z"
   },
   {
    "duration": 3,
    "start_time": "2021-07-07T14:39:21.214Z"
   },
   {
    "duration": 7,
    "start_time": "2021-07-07T14:39:52.406Z"
   },
   {
    "duration": 11,
    "start_time": "2021-07-07T14:39:58.576Z"
   },
   {
    "duration": 9,
    "start_time": "2021-07-07T14:40:26.301Z"
   },
   {
    "duration": 10,
    "start_time": "2021-07-07T14:40:31.704Z"
   },
   {
    "duration": 11,
    "start_time": "2021-07-07T14:40:36.249Z"
   },
   {
    "duration": 10,
    "start_time": "2021-07-07T14:40:39.783Z"
   },
   {
    "duration": 9,
    "start_time": "2021-07-07T14:40:48.558Z"
   },
   {
    "duration": 10,
    "start_time": "2021-07-07T14:40:57.143Z"
   },
   {
    "duration": 9,
    "start_time": "2021-07-07T14:41:06.074Z"
   },
   {
    "duration": 4324,
    "start_time": "2021-07-07T14:41:22.004Z"
   },
   {
    "duration": 11,
    "start_time": "2021-07-07T14:41:33.392Z"
   },
   {
    "duration": 9,
    "start_time": "2021-07-07T14:41:39.288Z"
   },
   {
    "duration": 569,
    "start_time": "2021-07-07T14:42:14.387Z"
   },
   {
    "duration": 197,
    "start_time": "2021-07-07T14:42:14.959Z"
   },
   {
    "duration": 84,
    "start_time": "2021-07-07T14:42:16.052Z"
   },
   {
    "duration": 4,
    "start_time": "2021-07-07T14:42:16.900Z"
   },
   {
    "duration": 27,
    "start_time": "2021-07-07T14:42:19.898Z"
   },
   {
    "duration": 12,
    "start_time": "2021-07-07T14:42:21.577Z"
   },
   {
    "duration": 9,
    "start_time": "2021-07-07T14:42:21.813Z"
   },
   {
    "duration": 9,
    "start_time": "2021-07-07T14:42:22.569Z"
   },
   {
    "duration": 29,
    "start_time": "2021-07-07T14:42:25.837Z"
   },
   {
    "duration": 20,
    "start_time": "2021-07-07T14:42:27.003Z"
   },
   {
    "duration": 21,
    "start_time": "2021-07-07T14:42:28.767Z"
   },
   {
    "duration": 7,
    "start_time": "2021-07-07T14:42:29.838Z"
   },
   {
    "duration": 4,
    "start_time": "2021-07-07T14:43:25.493Z"
   },
   {
    "duration": 7,
    "start_time": "2021-07-07T14:43:26.573Z"
   },
   {
    "duration": 10,
    "start_time": "2021-07-07T14:43:31.639Z"
   },
   {
    "duration": 9,
    "start_time": "2021-07-07T14:43:32.046Z"
   },
   {
    "duration": 10,
    "start_time": "2021-07-07T14:43:33.301Z"
   },
   {
    "duration": 12,
    "start_time": "2021-07-07T14:43:33.658Z"
   },
   {
    "duration": 8,
    "start_time": "2021-07-07T14:43:34.552Z"
   },
   {
    "duration": 9,
    "start_time": "2021-07-07T14:43:35.058Z"
   },
   {
    "duration": 12,
    "start_time": "2021-07-07T14:43:35.914Z"
   },
   {
    "duration": 17,
    "start_time": "2021-07-07T14:45:34.368Z"
   },
   {
    "duration": 512,
    "start_time": "2021-07-07T14:51:58.236Z"
   },
   {
    "duration": 223,
    "start_time": "2021-07-07T14:51:58.750Z"
   },
   {
    "duration": 93,
    "start_time": "2021-07-07T14:51:58.977Z"
   },
   {
    "duration": 4,
    "start_time": "2021-07-07T14:51:59.071Z"
   },
   {
    "duration": 37,
    "start_time": "2021-07-07T14:51:59.077Z"
   },
   {
    "duration": 18,
    "start_time": "2021-07-07T14:51:59.116Z"
   },
   {
    "duration": 10,
    "start_time": "2021-07-07T14:51:59.137Z"
   },
   {
    "duration": 8,
    "start_time": "2021-07-07T14:51:59.149Z"
   },
   {
    "duration": 54,
    "start_time": "2021-07-07T14:51:59.158Z"
   },
   {
    "duration": 18,
    "start_time": "2021-07-07T14:51:59.213Z"
   },
   {
    "duration": 22,
    "start_time": "2021-07-07T14:51:59.232Z"
   },
   {
    "duration": 36,
    "start_time": "2021-07-07T14:51:59.255Z"
   },
   {
    "duration": 7,
    "start_time": "2021-07-07T14:51:59.293Z"
   },
   {
    "duration": 10,
    "start_time": "2021-07-07T14:51:59.302Z"
   },
   {
    "duration": 9,
    "start_time": "2021-07-07T14:51:59.313Z"
   },
   {
    "duration": 11,
    "start_time": "2021-07-07T14:51:59.324Z"
   },
   {
    "duration": 8,
    "start_time": "2021-07-07T14:51:59.337Z"
   },
   {
    "duration": 46,
    "start_time": "2021-07-07T14:51:59.347Z"
   },
   {
    "duration": 22,
    "start_time": "2021-07-07T14:51:59.395Z"
   },
   {
    "duration": 24,
    "start_time": "2021-07-07T14:57:32.911Z"
   },
   {
    "duration": 7,
    "start_time": "2021-07-07T14:58:22.070Z"
   },
   {
    "duration": 4,
    "start_time": "2021-07-07T14:59:11.239Z"
   },
   {
    "duration": 25,
    "start_time": "2021-07-07T15:07:22.208Z"
   },
   {
    "duration": 16,
    "start_time": "2021-07-07T15:08:25.560Z"
   },
   {
    "duration": 15,
    "start_time": "2021-07-07T15:08:40.647Z"
   },
   {
    "duration": 14,
    "start_time": "2021-07-07T15:08:46.669Z"
   },
   {
    "duration": 533,
    "start_time": "2021-07-07T15:18:07.440Z"
   },
   {
    "duration": 173,
    "start_time": "2021-07-07T15:18:07.974Z"
   },
   {
    "duration": 84,
    "start_time": "2021-07-07T15:18:08.149Z"
   },
   {
    "duration": 3,
    "start_time": "2021-07-07T15:18:08.235Z"
   },
   {
    "duration": 30,
    "start_time": "2021-07-07T15:18:08.240Z"
   },
   {
    "duration": 22,
    "start_time": "2021-07-07T15:18:08.272Z"
   },
   {
    "duration": 11,
    "start_time": "2021-07-07T15:18:08.295Z"
   },
   {
    "duration": 11,
    "start_time": "2021-07-07T15:18:08.309Z"
   },
   {
    "duration": 40,
    "start_time": "2021-07-07T15:18:08.322Z"
   },
   {
    "duration": 42,
    "start_time": "2021-07-07T15:18:08.364Z"
   },
   {
    "duration": 22,
    "start_time": "2021-07-07T15:18:08.408Z"
   },
   {
    "duration": 5,
    "start_time": "2021-07-07T15:18:08.432Z"
   },
   {
    "duration": 13,
    "start_time": "2021-07-07T15:18:08.439Z"
   },
   {
    "duration": 9,
    "start_time": "2021-07-07T15:18:08.454Z"
   },
   {
    "duration": 32,
    "start_time": "2021-07-07T15:18:08.465Z"
   },
   {
    "duration": 10,
    "start_time": "2021-07-07T15:18:08.501Z"
   },
   {
    "duration": 7,
    "start_time": "2021-07-07T15:18:08.513Z"
   },
   {
    "duration": 11,
    "start_time": "2021-07-07T15:18:08.521Z"
   },
   {
    "duration": 17,
    "start_time": "2021-07-07T15:18:08.534Z"
   },
   {
    "duration": 44,
    "start_time": "2021-07-07T15:18:08.553Z"
   },
   {
    "duration": 22,
    "start_time": "2021-07-07T15:18:08.599Z"
   },
   {
    "duration": 61,
    "start_time": "2021-07-07T15:18:08.622Z"
   },
   {
    "duration": 7,
    "start_time": "2021-07-07T15:18:39.457Z"
   },
   {
    "duration": 5,
    "start_time": "2021-07-07T16:05:17.020Z"
   },
   {
    "duration": 5,
    "start_time": "2021-07-07T16:51:28.794Z"
   },
   {
    "duration": 546,
    "start_time": "2021-07-07T16:52:26.306Z"
   },
   {
    "duration": 203,
    "start_time": "2021-07-07T16:52:27.523Z"
   },
   {
    "duration": 85,
    "start_time": "2021-07-07T16:52:27.736Z"
   },
   {
    "duration": 4,
    "start_time": "2021-07-07T16:52:27.899Z"
   },
   {
    "duration": 25,
    "start_time": "2021-07-07T16:52:28.674Z"
   },
   {
    "duration": 8,
    "start_time": "2021-07-07T16:52:32.956Z"
   },
   {
    "duration": 18,
    "start_time": "2021-07-07T16:52:35.616Z"
   },
   {
    "duration": 6,
    "start_time": "2021-07-07T16:52:36.913Z"
   },
   {
    "duration": 11,
    "start_time": "2021-07-07T16:52:40.258Z"
   },
   {
    "duration": 10,
    "start_time": "2021-07-07T16:52:46.251Z"
   },
   {
    "duration": 8,
    "start_time": "2021-07-07T16:52:47.182Z"
   },
   {
    "duration": 27,
    "start_time": "2021-07-07T16:53:20.391Z"
   },
   {
    "duration": 20,
    "start_time": "2021-07-07T16:53:22.022Z"
   },
   {
    "duration": 23,
    "start_time": "2021-07-07T16:53:23.690Z"
   },
   {
    "duration": 8,
    "start_time": "2021-07-07T16:53:24.261Z"
   },
   {
    "duration": 4,
    "start_time": "2021-07-07T16:53:38.733Z"
   },
   {
    "duration": 7,
    "start_time": "2021-07-07T16:53:40.445Z"
   },
   {
    "duration": 11,
    "start_time": "2021-07-07T16:53:41.348Z"
   },
   {
    "duration": 13,
    "start_time": "2021-07-07T16:53:45.250Z"
   },
   {
    "duration": 12,
    "start_time": "2021-07-07T16:53:45.467Z"
   },
   {
    "duration": 4,
    "start_time": "2021-07-07T16:55:32.704Z"
   },
   {
    "duration": 12,
    "start_time": "2021-07-07T16:55:49.012Z"
   },
   {
    "duration": 18,
    "start_time": "2021-07-07T16:55:49.547Z"
   },
   {
    "duration": 611,
    "start_time": "2021-07-07T16:58:35.156Z"
   },
   {
    "duration": 200,
    "start_time": "2021-07-07T16:58:35.770Z"
   },
   {
    "duration": 86,
    "start_time": "2021-07-07T16:58:35.972Z"
   },
   {
    "duration": 3,
    "start_time": "2021-07-07T16:58:36.060Z"
   },
   {
    "duration": 27,
    "start_time": "2021-07-07T16:58:36.065Z"
   },
   {
    "duration": 8,
    "start_time": "2021-07-07T16:58:36.094Z"
   },
   {
    "duration": 17,
    "start_time": "2021-07-07T16:58:36.103Z"
   },
   {
    "duration": 5,
    "start_time": "2021-07-07T16:58:36.123Z"
   },
   {
    "duration": 11,
    "start_time": "2021-07-07T16:58:36.130Z"
   },
   {
    "duration": 7,
    "start_time": "2021-07-07T16:58:36.143Z"
   },
   {
    "duration": 37,
    "start_time": "2021-07-07T16:58:36.152Z"
   },
   {
    "duration": 27,
    "start_time": "2021-07-07T16:58:36.191Z"
   },
   {
    "duration": 19,
    "start_time": "2021-07-07T16:58:36.219Z"
   },
   {
    "duration": 49,
    "start_time": "2021-07-07T16:58:36.240Z"
   },
   {
    "duration": 6,
    "start_time": "2021-07-07T16:58:36.291Z"
   },
   {
    "duration": 3,
    "start_time": "2021-07-07T16:58:36.299Z"
   },
   {
    "duration": 13,
    "start_time": "2021-07-07T16:58:36.304Z"
   },
   {
    "duration": 10,
    "start_time": "2021-07-07T16:58:36.319Z"
   },
   {
    "duration": 10,
    "start_time": "2021-07-07T16:58:36.331Z"
   },
   {
    "duration": 44,
    "start_time": "2021-07-07T16:58:36.343Z"
   },
   {
    "duration": 4,
    "start_time": "2021-07-07T16:58:36.388Z"
   },
   {
    "duration": 13,
    "start_time": "2021-07-07T16:58:36.394Z"
   },
   {
    "duration": 16,
    "start_time": "2021-07-07T16:58:36.410Z"
   },
   {
    "duration": 8,
    "start_time": "2021-07-07T17:02:31.629Z"
   },
   {
    "duration": 8,
    "start_time": "2021-07-07T17:02:34.308Z"
   },
   {
    "duration": 6,
    "start_time": "2021-07-07T17:05:13.483Z"
   },
   {
    "duration": 17,
    "start_time": "2021-07-07T17:05:20.606Z"
   },
   {
    "duration": 7,
    "start_time": "2021-07-07T17:05:34.638Z"
   },
   {
    "duration": 3,
    "start_time": "2021-07-07T17:06:31.883Z"
   },
   {
    "duration": 570,
    "start_time": "2021-07-07T17:06:37.165Z"
   },
   {
    "duration": 174,
    "start_time": "2021-07-07T17:06:37.737Z"
   },
   {
    "duration": 47,
    "start_time": "2021-07-07T17:06:37.913Z"
   },
   {
    "duration": 3,
    "start_time": "2021-07-07T17:06:37.962Z"
   },
   {
    "duration": 27,
    "start_time": "2021-07-07T17:06:37.967Z"
   },
   {
    "duration": 7,
    "start_time": "2021-07-07T17:06:37.996Z"
   },
   {
    "duration": 16,
    "start_time": "2021-07-07T17:06:38.005Z"
   },
   {
    "duration": 6,
    "start_time": "2021-07-07T17:06:38.024Z"
   },
   {
    "duration": 12,
    "start_time": "2021-07-07T17:06:38.031Z"
   },
   {
    "duration": 41,
    "start_time": "2021-07-07T17:06:38.045Z"
   },
   {
    "duration": 8,
    "start_time": "2021-07-07T17:06:38.088Z"
   },
   {
    "duration": 26,
    "start_time": "2021-07-07T17:06:38.098Z"
   },
   {
    "duration": 17,
    "start_time": "2021-07-07T17:06:38.126Z"
   },
   {
    "duration": 43,
    "start_time": "2021-07-07T17:06:38.144Z"
   },
   {
    "duration": 6,
    "start_time": "2021-07-07T17:06:38.188Z"
   },
   {
    "duration": 5,
    "start_time": "2021-07-07T17:06:38.195Z"
   },
   {
    "duration": 9,
    "start_time": "2021-07-07T17:06:38.201Z"
   },
   {
    "duration": 12,
    "start_time": "2021-07-07T17:06:38.212Z"
   },
   {
    "duration": 11,
    "start_time": "2021-07-07T17:06:38.226Z"
   },
   {
    "duration": 47,
    "start_time": "2021-07-07T17:06:38.239Z"
   },
   {
    "duration": 4,
    "start_time": "2021-07-07T17:06:38.288Z"
   },
   {
    "duration": 13,
    "start_time": "2021-07-07T17:06:38.293Z"
   },
   {
    "duration": 5,
    "start_time": "2021-07-07T17:06:38.309Z"
   },
   {
    "duration": 18,
    "start_time": "2021-07-07T17:06:38.325Z"
   },
   {
    "duration": 20,
    "start_time": "2021-07-07T17:07:02.805Z"
   },
   {
    "duration": 19,
    "start_time": "2021-07-07T17:07:08.527Z"
   },
   {
    "duration": 19,
    "start_time": "2021-07-07T17:07:12.758Z"
   },
   {
    "duration": 22,
    "start_time": "2021-07-07T17:07:17.497Z"
   },
   {
    "duration": 19,
    "start_time": "2021-07-07T17:07:19.645Z"
   },
   {
    "duration": 10,
    "start_time": "2021-07-07T17:07:34.239Z"
   },
   {
    "duration": 17,
    "start_time": "2021-07-07T17:07:54.144Z"
   },
   {
    "duration": 14,
    "start_time": "2021-07-07T17:08:14.357Z"
   },
   {
    "duration": 616,
    "start_time": "2021-07-07T17:08:45.254Z"
   },
   {
    "duration": 178,
    "start_time": "2021-07-07T17:08:45.872Z"
   },
   {
    "duration": 60,
    "start_time": "2021-07-07T17:08:46.054Z"
   },
   {
    "duration": 3,
    "start_time": "2021-07-07T17:08:46.116Z"
   },
   {
    "duration": 26,
    "start_time": "2021-07-07T17:08:46.121Z"
   },
   {
    "duration": 7,
    "start_time": "2021-07-07T17:08:46.149Z"
   },
   {
    "duration": 17,
    "start_time": "2021-07-07T17:08:46.158Z"
   },
   {
    "duration": 14,
    "start_time": "2021-07-07T17:08:46.176Z"
   },
   {
    "duration": 17,
    "start_time": "2021-07-07T17:08:46.193Z"
   },
   {
    "duration": 9,
    "start_time": "2021-07-07T17:08:46.211Z"
   },
   {
    "duration": 21,
    "start_time": "2021-07-07T17:08:46.221Z"
   },
   {
    "duration": 49,
    "start_time": "2021-07-07T17:08:46.244Z"
   },
   {
    "duration": 24,
    "start_time": "2021-07-07T17:08:46.295Z"
   },
   {
    "duration": 22,
    "start_time": "2021-07-07T17:08:46.321Z"
   },
   {
    "duration": 6,
    "start_time": "2021-07-07T17:08:46.345Z"
   },
   {
    "duration": 5,
    "start_time": "2021-07-07T17:08:46.353Z"
   },
   {
    "duration": 13,
    "start_time": "2021-07-07T17:08:46.386Z"
   },
   {
    "duration": 12,
    "start_time": "2021-07-07T17:08:46.402Z"
   },
   {
    "duration": 10,
    "start_time": "2021-07-07T17:08:46.415Z"
   },
   {
    "duration": 7,
    "start_time": "2021-07-07T17:08:46.427Z"
   },
   {
    "duration": 8,
    "start_time": "2021-07-07T17:08:46.435Z"
   },
   {
    "duration": 68,
    "start_time": "2021-07-07T17:08:46.446Z"
   },
   {
    "duration": 13,
    "start_time": "2021-07-07T17:08:46.516Z"
   },
   {
    "duration": 78,
    "start_time": "2021-07-07T17:08:46.530Z"
   },
   {
    "duration": 40,
    "start_time": "2021-07-07T17:09:08.185Z"
   },
   {
    "duration": 16,
    "start_time": "2021-07-07T17:09:19.324Z"
   },
   {
    "duration": 21,
    "start_time": "2021-07-07T17:09:23.290Z"
   },
   {
    "duration": 13,
    "start_time": "2021-07-07T17:09:54.812Z"
   },
   {
    "duration": 13,
    "start_time": "2021-07-07T17:10:02.039Z"
   },
   {
    "duration": 10,
    "start_time": "2021-07-07T17:10:29.632Z"
   },
   {
    "duration": 13,
    "start_time": "2021-07-07T17:10:52.372Z"
   },
   {
    "duration": 13,
    "start_time": "2021-07-07T17:11:17.270Z"
   },
   {
    "duration": 13,
    "start_time": "2021-07-07T17:14:59.284Z"
   },
   {
    "duration": 547,
    "start_time": "2021-07-07T17:18:52.403Z"
   },
   {
    "duration": 163,
    "start_time": "2021-07-07T17:18:52.952Z"
   },
   {
    "duration": 44,
    "start_time": "2021-07-07T17:18:53.117Z"
   },
   {
    "duration": 3,
    "start_time": "2021-07-07T17:18:53.162Z"
   },
   {
    "duration": 26,
    "start_time": "2021-07-07T17:18:53.167Z"
   },
   {
    "duration": 6,
    "start_time": "2021-07-07T17:18:53.195Z"
   },
   {
    "duration": 15,
    "start_time": "2021-07-07T17:18:53.203Z"
   },
   {
    "duration": 5,
    "start_time": "2021-07-07T17:18:53.220Z"
   },
   {
    "duration": 11,
    "start_time": "2021-07-07T17:18:53.228Z"
   },
   {
    "duration": 9,
    "start_time": "2021-07-07T17:18:53.241Z"
   },
   {
    "duration": 41,
    "start_time": "2021-07-07T17:18:53.252Z"
   },
   {
    "duration": 33,
    "start_time": "2021-07-07T17:18:53.295Z"
   },
   {
    "duration": 19,
    "start_time": "2021-07-07T17:18:53.330Z"
   },
   {
    "duration": 49,
    "start_time": "2021-07-07T17:18:53.350Z"
   },
   {
    "duration": 5,
    "start_time": "2021-07-07T17:18:53.401Z"
   },
   {
    "duration": 5,
    "start_time": "2021-07-07T17:18:53.408Z"
   },
   {
    "duration": 11,
    "start_time": "2021-07-07T17:18:53.414Z"
   },
   {
    "duration": 9,
    "start_time": "2021-07-07T17:18:53.427Z"
   },
   {
    "duration": 10,
    "start_time": "2021-07-07T17:18:53.437Z"
   },
   {
    "duration": 39,
    "start_time": "2021-07-07T17:18:53.448Z"
   },
   {
    "duration": 26,
    "start_time": "2021-07-07T17:18:55.799Z"
   },
   {
    "duration": 598,
    "start_time": "2021-07-07T17:20:17.862Z"
   },
   {
    "duration": 161,
    "start_time": "2021-07-07T17:20:18.462Z"
   },
   {
    "duration": 45,
    "start_time": "2021-07-07T17:20:18.626Z"
   },
   {
    "duration": 4,
    "start_time": "2021-07-07T17:20:18.673Z"
   },
   {
    "duration": 38,
    "start_time": "2021-07-07T17:20:26.877Z"
   },
   {
    "duration": 7,
    "start_time": "2021-07-07T17:20:37.405Z"
   },
   {
    "duration": 19,
    "start_time": "2021-07-07T17:20:51.534Z"
   },
   {
    "duration": 5,
    "start_time": "2021-07-07T17:20:57.228Z"
   },
   {
    "duration": 7,
    "start_time": "2021-07-07T17:21:08.235Z"
   },
   {
    "duration": 19,
    "start_time": "2021-07-07T17:21:42.158Z"
   },
   {
    "duration": 14,
    "start_time": "2021-07-07T17:21:50.225Z"
   },
   {
    "duration": 22,
    "start_time": "2021-07-07T17:22:54.104Z"
   },
   {
    "duration": 5,
    "start_time": "2021-07-07T17:22:56.371Z"
   },
   {
    "duration": 14,
    "start_time": "2021-07-07T17:22:58.316Z"
   },
   {
    "duration": 5,
    "start_time": "2021-07-07T17:22:58.493Z"
   },
   {
    "duration": 35,
    "start_time": "2021-07-07T17:22:59.666Z"
   },
   {
    "duration": 6,
    "start_time": "2021-07-07T17:23:02.410Z"
   },
   {
    "duration": 611,
    "start_time": "2021-07-07T17:24:59.664Z"
   },
   {
    "duration": 178,
    "start_time": "2021-07-07T17:25:01.945Z"
   },
   {
    "duration": 47,
    "start_time": "2021-07-07T17:25:02.125Z"
   },
   {
    "duration": 2,
    "start_time": "2021-07-07T17:25:07.903Z"
   },
   {
    "duration": 254,
    "start_time": "2021-07-07T17:25:08.232Z"
   },
   {
    "duration": 182,
    "start_time": "2021-07-07T17:25:08.671Z"
   },
   {
    "duration": 6,
    "start_time": "2021-07-07T17:25:13.104Z"
   },
   {
    "duration": 36,
    "start_time": "2021-07-07T17:25:13.662Z"
   },
   {
    "duration": 7,
    "start_time": "2021-07-07T17:25:14.528Z"
   },
   {
    "duration": 24,
    "start_time": "2021-07-07T17:25:27.982Z"
   },
   {
    "duration": 3,
    "start_time": "2021-07-07T17:25:48.982Z"
   },
   {
    "duration": 165,
    "start_time": "2021-07-07T17:25:48.987Z"
   },
   {
    "duration": 50,
    "start_time": "2021-07-07T17:25:49.154Z"
   },
   {
    "duration": 4,
    "start_time": "2021-07-07T17:25:49.206Z"
   },
   {
    "duration": 26,
    "start_time": "2021-07-07T17:25:49.212Z"
   },
   {
    "duration": 7,
    "start_time": "2021-07-07T17:25:49.240Z"
   },
   {
    "duration": 16,
    "start_time": "2021-07-07T17:25:49.249Z"
   },
   {
    "duration": 22,
    "start_time": "2021-07-07T17:25:49.266Z"
   },
   {
    "duration": 16,
    "start_time": "2021-07-07T17:25:49.291Z"
   },
   {
    "duration": 9,
    "start_time": "2021-07-07T17:25:49.309Z"
   },
   {
    "duration": 7,
    "start_time": "2021-07-07T17:25:49.319Z"
   },
   {
    "duration": 28,
    "start_time": "2021-07-07T17:25:49.328Z"
   },
   {
    "duration": 44,
    "start_time": "2021-07-07T17:25:49.357Z"
   },
   {
    "duration": 22,
    "start_time": "2021-07-07T17:25:49.403Z"
   },
   {
    "duration": 7,
    "start_time": "2021-07-07T17:25:49.427Z"
   },
   {
    "duration": 3,
    "start_time": "2021-07-07T17:25:49.436Z"
   },
   {
    "duration": 44,
    "start_time": "2021-07-07T17:25:49.441Z"
   },
   {
    "duration": 12,
    "start_time": "2021-07-07T17:25:49.488Z"
   },
   {
    "duration": 13,
    "start_time": "2021-07-07T17:25:49.502Z"
   },
   {
    "duration": 10,
    "start_time": "2021-07-07T17:25:49.516Z"
   },
   {
    "duration": 62,
    "start_time": "2021-07-07T17:25:49.527Z"
   },
   {
    "duration": 26,
    "start_time": "2021-07-07T17:26:51.809Z"
   },
   {
    "duration": 26,
    "start_time": "2021-07-07T17:26:55.759Z"
   },
   {
    "duration": 26,
    "start_time": "2021-07-07T17:27:04.501Z"
   },
   {
    "duration": 25,
    "start_time": "2021-07-07T17:28:24.859Z"
   },
   {
    "duration": 21,
    "start_time": "2021-07-07T17:28:55.250Z"
   },
   {
    "duration": 21,
    "start_time": "2021-07-07T17:28:58.885Z"
   },
   {
    "duration": 7,
    "start_time": "2021-07-07T17:45:40.972Z"
   },
   {
    "duration": 13,
    "start_time": "2021-07-07T17:45:42.529Z"
   },
   {
    "duration": 27,
    "start_time": "2021-07-07T17:45:51.026Z"
   },
   {
    "duration": 518,
    "start_time": "2021-07-07T17:46:15.532Z"
   },
   {
    "duration": 235,
    "start_time": "2021-07-07T17:46:16.053Z"
   },
   {
    "duration": 80,
    "start_time": "2021-07-07T17:46:16.292Z"
   },
   {
    "duration": 5,
    "start_time": "2021-07-07T17:46:16.373Z"
   },
   {
    "duration": 26,
    "start_time": "2021-07-07T17:46:16.380Z"
   },
   {
    "duration": 7,
    "start_time": "2021-07-07T17:46:16.408Z"
   },
   {
    "duration": 16,
    "start_time": "2021-07-07T17:46:16.418Z"
   },
   {
    "duration": 5,
    "start_time": "2021-07-07T17:46:16.436Z"
   },
   {
    "duration": 13,
    "start_time": "2021-07-07T17:46:16.442Z"
   },
   {
    "duration": 35,
    "start_time": "2021-07-07T17:46:16.456Z"
   },
   {
    "duration": 8,
    "start_time": "2021-07-07T17:46:16.493Z"
   },
   {
    "duration": 28,
    "start_time": "2021-07-07T17:46:16.502Z"
   },
   {
    "duration": 17,
    "start_time": "2021-07-07T17:46:16.532Z"
   },
   {
    "duration": 44,
    "start_time": "2021-07-07T17:46:16.551Z"
   },
   {
    "duration": 6,
    "start_time": "2021-07-07T17:46:16.597Z"
   },
   {
    "duration": 4,
    "start_time": "2021-07-07T17:46:16.605Z"
   },
   {
    "duration": 9,
    "start_time": "2021-07-07T17:46:16.610Z"
   },
   {
    "duration": 9,
    "start_time": "2021-07-07T17:46:16.621Z"
   },
   {
    "duration": 10,
    "start_time": "2021-07-07T17:46:16.632Z"
   },
   {
    "duration": 43,
    "start_time": "2021-07-07T17:46:16.644Z"
   },
   {
    "duration": 26,
    "start_time": "2021-07-07T17:46:16.689Z"
   },
   {
    "duration": 19,
    "start_time": "2021-07-07T17:46:16.718Z"
   },
   {
    "duration": 8,
    "start_time": "2021-07-07T17:46:16.738Z"
   },
   {
    "duration": 43,
    "start_time": "2021-07-07T17:46:16.747Z"
   },
   {
    "duration": 19,
    "start_time": "2021-07-07T17:46:16.791Z"
   },
   {
    "duration": 9,
    "start_time": "2021-07-07T17:46:16.812Z"
   },
   {
    "duration": 60,
    "start_time": "2021-07-07T17:46:16.822Z"
   },
   {
    "duration": -8,
    "start_time": "2021-07-07T17:46:16.892Z"
   },
   {
    "duration": 12,
    "start_time": "2021-07-07T17:48:47.707Z"
   },
   {
    "duration": 553,
    "start_time": "2021-07-07T18:10:09.350Z"
   },
   {
    "duration": 230,
    "start_time": "2021-07-07T18:10:09.905Z"
   },
   {
    "duration": 97,
    "start_time": "2021-07-07T18:10:10.137Z"
   },
   {
    "duration": 5,
    "start_time": "2021-07-07T18:10:10.236Z"
   },
   {
    "duration": 29,
    "start_time": "2021-07-07T18:10:10.242Z"
   },
   {
    "duration": 7,
    "start_time": "2021-07-07T18:10:10.272Z"
   },
   {
    "duration": 15,
    "start_time": "2021-07-07T18:10:10.281Z"
   },
   {
    "duration": 4,
    "start_time": "2021-07-07T18:10:10.299Z"
   },
   {
    "duration": 14,
    "start_time": "2021-07-07T18:10:10.305Z"
   },
   {
    "duration": 8,
    "start_time": "2021-07-07T18:10:10.321Z"
   },
   {
    "duration": 8,
    "start_time": "2021-07-07T18:10:10.331Z"
   },
   {
    "duration": 56,
    "start_time": "2021-07-07T18:10:10.341Z"
   },
   {
    "duration": 19,
    "start_time": "2021-07-07T18:10:10.399Z"
   },
   {
    "duration": 23,
    "start_time": "2021-07-07T18:10:10.419Z"
   },
   {
    "duration": 6,
    "start_time": "2021-07-07T18:10:10.444Z"
   },
   {
    "duration": 9,
    "start_time": "2021-07-07T18:10:10.451Z"
   },
   {
    "duration": 30,
    "start_time": "2021-07-07T18:10:10.462Z"
   },
   {
    "duration": 9,
    "start_time": "2021-07-07T18:10:10.494Z"
   },
   {
    "duration": 14,
    "start_time": "2021-07-07T18:10:10.505Z"
   },
   {
    "duration": 7,
    "start_time": "2021-07-07T18:10:10.521Z"
   },
   {
    "duration": 26,
    "start_time": "2021-07-07T18:10:10.530Z"
   },
   {
    "duration": 44,
    "start_time": "2021-07-07T18:10:10.558Z"
   },
   {
    "duration": 7,
    "start_time": "2021-07-07T18:10:10.605Z"
   },
   {
    "duration": 11,
    "start_time": "2021-07-07T18:10:10.614Z"
   },
   {
    "duration": 19,
    "start_time": "2021-07-07T18:10:10.626Z"
   },
   {
    "duration": 44,
    "start_time": "2021-07-07T18:10:10.646Z"
   },
   {
    "duration": 516,
    "start_time": "2021-07-07T18:14:00.826Z"
   },
   {
    "duration": 230,
    "start_time": "2021-07-07T18:14:01.344Z"
   },
   {
    "duration": 105,
    "start_time": "2021-07-07T18:14:01.576Z"
   },
   {
    "duration": 5,
    "start_time": "2021-07-07T18:14:01.683Z"
   },
   {
    "duration": 46,
    "start_time": "2021-07-07T18:14:01.690Z"
   },
   {
    "duration": 7,
    "start_time": "2021-07-07T18:14:01.738Z"
   },
   {
    "duration": 20,
    "start_time": "2021-07-07T18:14:01.747Z"
   },
   {
    "duration": 16,
    "start_time": "2021-07-07T18:14:01.769Z"
   },
   {
    "duration": 14,
    "start_time": "2021-07-07T18:14:01.787Z"
   },
   {
    "duration": 15,
    "start_time": "2021-07-07T18:14:01.803Z"
   },
   {
    "duration": 12,
    "start_time": "2021-07-07T18:14:01.820Z"
   },
   {
    "duration": 35,
    "start_time": "2021-07-07T18:14:01.833Z"
   },
   {
    "duration": 31,
    "start_time": "2021-07-07T18:14:01.869Z"
   },
   {
    "duration": 37,
    "start_time": "2021-07-07T18:14:01.902Z"
   },
   {
    "duration": 8,
    "start_time": "2021-07-07T18:14:01.942Z"
   },
   {
    "duration": 16,
    "start_time": "2021-07-07T18:14:01.952Z"
   },
   {
    "duration": 13,
    "start_time": "2021-07-07T18:14:01.970Z"
   },
   {
    "duration": 32,
    "start_time": "2021-07-07T18:14:01.985Z"
   },
   {
    "duration": 11,
    "start_time": "2021-07-07T18:14:02.019Z"
   },
   {
    "duration": 22,
    "start_time": "2021-07-07T18:14:02.031Z"
   },
   {
    "duration": 27,
    "start_time": "2021-07-07T18:14:02.055Z"
   },
   {
    "duration": 18,
    "start_time": "2021-07-07T18:14:02.084Z"
   },
   {
    "duration": 18,
    "start_time": "2021-07-07T18:14:02.106Z"
   },
   {
    "duration": 11,
    "start_time": "2021-07-07T18:14:02.126Z"
   },
   {
    "duration": 21,
    "start_time": "2021-07-07T18:14:02.138Z"
   },
   {
    "duration": 32,
    "start_time": "2021-07-07T18:14:02.161Z"
   },
   {
    "duration": 28,
    "start_time": "2021-07-07T18:14:44.295Z"
   },
   {
    "duration": 6,
    "start_time": "2021-07-07T18:15:05.834Z"
   },
   {
    "duration": 511,
    "start_time": "2021-07-07T18:15:41.541Z"
   },
   {
    "duration": 183,
    "start_time": "2021-07-07T18:15:42.054Z"
   },
   {
    "duration": 50,
    "start_time": "2021-07-07T18:15:42.239Z"
   },
   {
    "duration": 5,
    "start_time": "2021-07-07T18:15:42.291Z"
   },
   {
    "duration": 48,
    "start_time": "2021-07-07T18:15:42.297Z"
   },
   {
    "duration": 8,
    "start_time": "2021-07-07T18:15:42.346Z"
   },
   {
    "duration": 17,
    "start_time": "2021-07-07T18:15:42.356Z"
   },
   {
    "duration": 15,
    "start_time": "2021-07-07T18:15:42.375Z"
   },
   {
    "duration": 12,
    "start_time": "2021-07-07T18:15:42.392Z"
   },
   {
    "duration": 7,
    "start_time": "2021-07-07T18:15:42.406Z"
   },
   {
    "duration": 7,
    "start_time": "2021-07-07T18:15:42.415Z"
   },
   {
    "duration": 29,
    "start_time": "2021-07-07T18:15:42.423Z"
   },
   {
    "duration": 43,
    "start_time": "2021-07-07T18:15:42.453Z"
   },
   {
    "duration": 18,
    "start_time": "2021-07-07T18:15:42.497Z"
   },
   {
    "duration": 6,
    "start_time": "2021-07-07T18:15:42.516Z"
   },
   {
    "duration": 3,
    "start_time": "2021-07-07T18:15:42.523Z"
   },
   {
    "duration": 18,
    "start_time": "2021-07-07T18:15:42.528Z"
   },
   {
    "duration": 10,
    "start_time": "2021-07-07T18:15:42.547Z"
   },
   {
    "duration": 36,
    "start_time": "2021-07-07T18:15:42.559Z"
   },
   {
    "duration": 8,
    "start_time": "2021-07-07T18:15:42.597Z"
   },
   {
    "duration": 28,
    "start_time": "2021-07-07T18:15:42.606Z"
   },
   {
    "duration": 52,
    "start_time": "2021-07-07T18:15:42.635Z"
   },
   {
    "duration": 7,
    "start_time": "2021-07-07T18:15:42.690Z"
   },
   {
    "duration": 10,
    "start_time": "2021-07-07T18:15:42.699Z"
   },
   {
    "duration": 19,
    "start_time": "2021-07-07T18:15:42.711Z"
   },
   {
    "duration": 9,
    "start_time": "2021-07-07T18:15:42.732Z"
   },
   {
    "duration": 5,
    "start_time": "2021-07-07T18:15:42.743Z"
   },
   {
    "duration": 1450,
    "start_time": "2021-07-07T18:15:51.984Z"
   },
   {
    "duration": 161,
    "start_time": "2021-07-07T18:15:53.435Z"
   },
   {
    "duration": 124,
    "start_time": "2021-07-07T18:15:53.598Z"
   },
   {
    "duration": 5,
    "start_time": "2021-07-07T18:15:53.724Z"
   },
   {
    "duration": 34,
    "start_time": "2021-07-07T18:15:53.730Z"
   },
   {
    "duration": 7,
    "start_time": "2021-07-07T18:15:53.765Z"
   },
   {
    "duration": 15,
    "start_time": "2021-07-07T18:15:53.773Z"
   },
   {
    "duration": 5,
    "start_time": "2021-07-07T18:15:53.791Z"
   },
   {
    "duration": 19,
    "start_time": "2021-07-07T18:15:53.798Z"
   },
   {
    "duration": 9,
    "start_time": "2021-07-07T18:15:53.818Z"
   },
   {
    "duration": 19,
    "start_time": "2021-07-07T18:15:53.828Z"
   },
   {
    "duration": 27,
    "start_time": "2021-07-07T18:15:53.848Z"
   },
   {
    "duration": 16,
    "start_time": "2021-07-07T18:15:53.884Z"
   },
   {
    "duration": 29,
    "start_time": "2021-07-07T18:15:53.901Z"
   },
   {
    "duration": 5,
    "start_time": "2021-07-07T18:15:53.932Z"
   },
   {
    "duration": 15,
    "start_time": "2021-07-07T18:15:53.939Z"
   },
   {
    "duration": 13,
    "start_time": "2021-07-07T18:15:53.956Z"
   },
   {
    "duration": 20,
    "start_time": "2021-07-07T18:15:53.971Z"
   },
   {
    "duration": 14,
    "start_time": "2021-07-07T18:15:53.992Z"
   },
   {
    "duration": 9,
    "start_time": "2021-07-07T18:15:54.009Z"
   },
   {
    "duration": 28,
    "start_time": "2021-07-07T18:15:54.020Z"
   },
   {
    "duration": 50,
    "start_time": "2021-07-07T18:15:54.051Z"
   },
   {
    "duration": 8,
    "start_time": "2021-07-07T18:15:54.105Z"
   },
   {
    "duration": 11,
    "start_time": "2021-07-07T18:15:54.115Z"
   },
   {
    "duration": 20,
    "start_time": "2021-07-07T18:15:54.128Z"
   },
   {
    "duration": 13,
    "start_time": "2021-07-07T18:15:54.184Z"
   },
   {
    "duration": 7,
    "start_time": "2021-07-07T18:15:54.199Z"
   },
   {
    "duration": 7,
    "start_time": "2021-07-07T18:17:08.042Z"
   },
   {
    "duration": 8,
    "start_time": "2021-07-07T18:17:21.008Z"
   },
   {
    "duration": 7,
    "start_time": "2021-07-07T18:17:29.003Z"
   },
   {
    "duration": 8,
    "start_time": "2021-07-07T18:17:32.492Z"
   },
   {
    "duration": 9,
    "start_time": "2021-07-07T18:17:41.758Z"
   },
   {
    "duration": 255,
    "start_time": "2021-07-07T18:20:20.897Z"
   },
   {
    "duration": 173,
    "start_time": "2021-07-07T18:20:26.636Z"
   },
   {
    "duration": 7,
    "start_time": "2021-07-07T18:21:47.164Z"
   },
   {
    "duration": 254,
    "start_time": "2021-07-07T18:23:08.703Z"
   },
   {
    "duration": 21,
    "start_time": "2021-07-07T18:23:22.506Z"
   },
   {
    "duration": 315,
    "start_time": "2021-07-07T18:25:54.801Z"
   },
   {
    "duration": 34,
    "start_time": "2021-07-07T18:26:51.817Z"
   },
   {
    "duration": 327,
    "start_time": "2021-07-07T18:26:56.147Z"
   },
   {
    "duration": 342,
    "start_time": "2021-07-07T18:27:15.887Z"
   },
   {
    "duration": 302,
    "start_time": "2021-07-07T18:28:18.569Z"
   },
   {
    "duration": 226,
    "start_time": "2021-07-07T18:29:20.879Z"
   },
   {
    "duration": 207,
    "start_time": "2021-07-07T18:29:58.114Z"
   },
   {
    "duration": 140,
    "start_time": "2021-07-07T18:32:04.372Z"
   },
   {
    "duration": 158,
    "start_time": "2021-07-07T18:32:32.508Z"
   },
   {
    "duration": 145,
    "start_time": "2021-07-07T18:32:41.365Z"
   },
   {
    "duration": 132,
    "start_time": "2021-07-07T18:32:45.199Z"
   },
   {
    "duration": 11,
    "start_time": "2021-07-07T18:35:24.679Z"
   },
   {
    "duration": 268,
    "start_time": "2021-07-07T18:36:16.145Z"
   },
   {
    "duration": 227,
    "start_time": "2021-07-07T18:37:04.918Z"
   },
   {
    "duration": 3,
    "start_time": "2021-07-07T18:37:33.012Z"
   },
   {
    "duration": 671,
    "start_time": "2021-07-07T18:37:38.295Z"
   },
   {
    "duration": 54,
    "start_time": "2021-07-07T18:37:53.406Z"
   },
   {
    "duration": 631,
    "start_time": "2021-07-07T18:37:56.463Z"
   },
   {
    "duration": 19,
    "start_time": "2021-07-07T18:39:40.535Z"
   },
   {
    "duration": 20,
    "start_time": "2021-07-07T18:40:12.236Z"
   },
   {
    "duration": 633,
    "start_time": "2021-07-07T18:42:00.398Z"
   },
   {
    "duration": 218,
    "start_time": "2021-07-07T18:42:01.033Z"
   },
   {
    "duration": 49,
    "start_time": "2021-07-07T18:42:01.253Z"
   },
   {
    "duration": 5,
    "start_time": "2021-07-07T18:42:01.303Z"
   },
   {
    "duration": 27,
    "start_time": "2021-07-07T18:42:01.310Z"
   },
   {
    "duration": 8,
    "start_time": "2021-07-07T18:42:01.339Z"
   },
   {
    "duration": 20,
    "start_time": "2021-07-07T18:42:01.348Z"
   },
   {
    "duration": 6,
    "start_time": "2021-07-07T18:42:01.386Z"
   },
   {
    "duration": 16,
    "start_time": "2021-07-07T18:42:01.394Z"
   },
   {
    "duration": 9,
    "start_time": "2021-07-07T18:42:01.411Z"
   },
   {
    "duration": 11,
    "start_time": "2021-07-07T18:42:01.421Z"
   },
   {
    "duration": 31,
    "start_time": "2021-07-07T18:42:01.434Z"
   },
   {
    "duration": 18,
    "start_time": "2021-07-07T18:42:01.485Z"
   },
   {
    "duration": 23,
    "start_time": "2021-07-07T18:42:01.505Z"
   },
   {
    "duration": 6,
    "start_time": "2021-07-07T18:42:01.530Z"
   },
   {
    "duration": 10,
    "start_time": "2021-07-07T18:42:01.538Z"
   },
   {
    "duration": 13,
    "start_time": "2021-07-07T18:42:01.550Z"
   },
   {
    "duration": 24,
    "start_time": "2021-07-07T18:42:01.564Z"
   },
   {
    "duration": 20,
    "start_time": "2021-07-07T18:42:01.590Z"
   },
   {
    "duration": 8,
    "start_time": "2021-07-07T18:42:01.611Z"
   },
   {
    "duration": 31,
    "start_time": "2021-07-07T18:42:01.620Z"
   },
   {
    "duration": 39,
    "start_time": "2021-07-07T18:42:01.653Z"
   },
   {
    "duration": 8,
    "start_time": "2021-07-07T18:42:01.696Z"
   },
   {
    "duration": 13,
    "start_time": "2021-07-07T18:42:01.705Z"
   },
   {
    "duration": 20,
    "start_time": "2021-07-07T18:42:01.720Z"
   },
   {
    "duration": 12,
    "start_time": "2021-07-07T18:42:01.741Z"
   },
   {
    "duration": 35,
    "start_time": "2021-07-07T18:42:01.755Z"
   },
   {
    "duration": 14,
    "start_time": "2021-07-07T18:42:01.792Z"
   },
   {
    "duration": 188,
    "start_time": "2021-07-07T18:42:01.808Z"
   },
   {
    "duration": 19,
    "start_time": "2021-07-07T18:42:01.998Z"
   },
   {
    "duration": 175,
    "start_time": "2021-07-07T18:42:02.019Z"
   },
   {
    "duration": 134,
    "start_time": "2021-07-07T18:42:02.196Z"
   },
   {
    "duration": 10,
    "start_time": "2021-07-07T18:42:02.331Z"
   },
   {
    "duration": 19,
    "start_time": "2021-07-07T18:42:02.343Z"
   },
   {
    "duration": 628,
    "start_time": "2021-07-07T18:46:30.701Z"
   },
   {
    "duration": 183,
    "start_time": "2021-07-07T18:46:31.331Z"
   },
   {
    "duration": 48,
    "start_time": "2021-07-07T18:46:31.516Z"
   },
   {
    "duration": 5,
    "start_time": "2021-07-07T18:46:31.566Z"
   },
   {
    "duration": 28,
    "start_time": "2021-07-07T18:46:31.572Z"
   },
   {
    "duration": 8,
    "start_time": "2021-07-07T18:46:31.602Z"
   },
   {
    "duration": 19,
    "start_time": "2021-07-07T18:46:31.611Z"
   },
   {
    "duration": 6,
    "start_time": "2021-07-07T18:46:31.633Z"
   },
   {
    "duration": 17,
    "start_time": "2021-07-07T18:46:31.642Z"
   },
   {
    "duration": 10,
    "start_time": "2021-07-07T18:46:31.684Z"
   },
   {
    "duration": 9,
    "start_time": "2021-07-07T18:46:31.695Z"
   },
   {
    "duration": 28,
    "start_time": "2021-07-07T18:46:31.705Z"
   },
   {
    "duration": 18,
    "start_time": "2021-07-07T18:46:31.735Z"
   },
   {
    "duration": 48,
    "start_time": "2021-07-07T18:46:31.755Z"
   },
   {
    "duration": 6,
    "start_time": "2021-07-07T18:46:31.804Z"
   },
   {
    "duration": 4,
    "start_time": "2021-07-07T18:46:31.812Z"
   },
   {
    "duration": 9,
    "start_time": "2021-07-07T18:46:31.817Z"
   },
   {
    "duration": 10,
    "start_time": "2021-07-07T18:46:31.827Z"
   },
   {
    "duration": 12,
    "start_time": "2021-07-07T18:46:31.838Z"
   },
   {
    "duration": 39,
    "start_time": "2021-07-07T18:46:31.851Z"
   },
   {
    "duration": 24,
    "start_time": "2021-07-07T18:46:31.892Z"
   },
   {
    "duration": 15,
    "start_time": "2021-07-07T18:46:31.918Z"
   },
   {
    "duration": 7,
    "start_time": "2021-07-07T18:46:31.936Z"
   },
   {
    "duration": 8,
    "start_time": "2021-07-07T18:46:31.944Z"
   },
   {
    "duration": 19,
    "start_time": "2021-07-07T18:46:31.984Z"
   },
   {
    "duration": 10,
    "start_time": "2021-07-07T18:46:32.004Z"
   },
   {
    "duration": 5,
    "start_time": "2021-07-07T18:46:32.016Z"
   },
   {
    "duration": 9,
    "start_time": "2021-07-07T18:46:32.023Z"
   },
   {
    "duration": 199,
    "start_time": "2021-07-07T18:46:32.033Z"
   },
   {
    "duration": 19,
    "start_time": "2021-07-07T18:46:32.234Z"
   },
   {
    "duration": 159,
    "start_time": "2021-07-07T18:46:32.255Z"
   },
   {
    "duration": 134,
    "start_time": "2021-07-07T18:46:32.416Z"
   },
   {
    "duration": 10,
    "start_time": "2021-07-07T18:46:32.552Z"
   },
   {
    "duration": 34,
    "start_time": "2021-07-07T18:46:32.563Z"
   },
   {
    "duration": 1039,
    "start_time": "2021-07-08T08:41:09.419Z"
   },
   {
    "duration": 333,
    "start_time": "2021-07-08T08:41:10.459Z"
   },
   {
    "duration": 173,
    "start_time": "2021-07-08T08:41:10.794Z"
   },
   {
    "duration": 5,
    "start_time": "2021-07-08T08:41:10.968Z"
   },
   {
    "duration": 25,
    "start_time": "2021-07-08T08:41:10.975Z"
   },
   {
    "duration": 9,
    "start_time": "2021-07-08T08:41:11.002Z"
   },
   {
    "duration": 18,
    "start_time": "2021-07-08T08:41:11.013Z"
   },
   {
    "duration": 6,
    "start_time": "2021-07-08T08:41:11.033Z"
   },
   {
    "duration": 44,
    "start_time": "2021-07-08T08:41:11.042Z"
   },
   {
    "duration": 10,
    "start_time": "2021-07-08T08:41:11.088Z"
   },
   {
    "duration": 9,
    "start_time": "2021-07-08T08:41:11.100Z"
   },
   {
    "duration": 27,
    "start_time": "2021-07-08T08:41:11.111Z"
   },
   {
    "duration": 46,
    "start_time": "2021-07-08T08:41:11.140Z"
   },
   {
    "duration": 17,
    "start_time": "2021-07-08T08:41:11.187Z"
   },
   {
    "duration": 6,
    "start_time": "2021-07-08T08:41:11.206Z"
   },
   {
    "duration": 5,
    "start_time": "2021-07-08T08:41:11.213Z"
   },
   {
    "duration": 10,
    "start_time": "2021-07-08T08:41:11.219Z"
   },
   {
    "duration": 9,
    "start_time": "2021-07-08T08:41:11.230Z"
   },
   {
    "duration": 45,
    "start_time": "2021-07-08T08:41:11.241Z"
   },
   {
    "duration": 7,
    "start_time": "2021-07-08T08:41:11.287Z"
   },
   {
    "duration": 24,
    "start_time": "2021-07-08T08:41:11.296Z"
   },
   {
    "duration": 16,
    "start_time": "2021-07-08T08:41:11.322Z"
   },
   {
    "duration": 7,
    "start_time": "2021-07-08T08:41:11.341Z"
   },
   {
    "duration": 41,
    "start_time": "2021-07-08T08:41:11.349Z"
   },
   {
    "duration": 17,
    "start_time": "2021-07-08T08:41:11.391Z"
   },
   {
    "duration": 9,
    "start_time": "2021-07-08T08:41:11.410Z"
   },
   {
    "duration": 5,
    "start_time": "2021-07-08T08:41:11.421Z"
   },
   {
    "duration": 6,
    "start_time": "2021-07-08T08:41:11.428Z"
   },
   {
    "duration": 198,
    "start_time": "2021-07-08T08:41:11.435Z"
   },
   {
    "duration": 18,
    "start_time": "2021-07-08T08:41:11.635Z"
   },
   {
    "duration": 155,
    "start_time": "2021-07-08T08:41:11.655Z"
   },
   {
    "duration": 138,
    "start_time": "2021-07-08T08:41:11.811Z"
   },
   {
    "duration": 10,
    "start_time": "2021-07-08T08:41:11.950Z"
   },
   {
    "duration": 29,
    "start_time": "2021-07-08T08:41:11.961Z"
   },
   {
    "duration": 171,
    "start_time": "2021-07-08T08:47:44.522Z"
   },
   {
    "duration": 124,
    "start_time": "2021-07-08T08:47:46.872Z"
   },
   {
    "duration": 191,
    "start_time": "2021-07-08T08:47:58.148Z"
   },
   {
    "duration": 191,
    "start_time": "2021-07-08T08:48:07.412Z"
   },
   {
    "duration": 261,
    "start_time": "2021-07-08T08:48:10.385Z"
   },
   {
    "duration": 255,
    "start_time": "2021-07-08T08:48:14.494Z"
   },
   {
    "duration": 219,
    "start_time": "2021-07-08T08:48:22.752Z"
   },
   {
    "duration": 173,
    "start_time": "2021-07-08T08:49:06.395Z"
   },
   {
    "duration": 180,
    "start_time": "2021-07-08T08:49:21.011Z"
   },
   {
    "duration": 6,
    "start_time": "2021-07-08T08:50:31.697Z"
   },
   {
    "duration": 10,
    "start_time": "2021-07-08T08:50:47.394Z"
   },
   {
    "duration": 11,
    "start_time": "2021-07-08T08:53:49.332Z"
   },
   {
    "duration": 171,
    "start_time": "2021-07-08T08:54:28.408Z"
   },
   {
    "duration": 636,
    "start_time": "2021-07-08T09:02:48.385Z"
   },
   {
    "duration": 227,
    "start_time": "2021-07-08T09:02:49.023Z"
   },
   {
    "duration": 104,
    "start_time": "2021-07-08T09:02:49.252Z"
   },
   {
    "duration": 5,
    "start_time": "2021-07-08T09:02:49.358Z"
   },
   {
    "duration": 27,
    "start_time": "2021-07-08T09:02:49.365Z"
   },
   {
    "duration": 8,
    "start_time": "2021-07-08T09:02:49.394Z"
   },
   {
    "duration": 18,
    "start_time": "2021-07-08T09:02:49.404Z"
   },
   {
    "duration": 6,
    "start_time": "2021-07-08T09:02:49.424Z"
   },
   {
    "duration": 11,
    "start_time": "2021-07-08T09:02:49.433Z"
   },
   {
    "duration": 13,
    "start_time": "2021-07-08T09:02:49.485Z"
   },
   {
    "duration": 9,
    "start_time": "2021-07-08T09:02:49.500Z"
   },
   {
    "duration": 38,
    "start_time": "2021-07-08T09:02:49.511Z"
   },
   {
    "duration": 42,
    "start_time": "2021-07-08T09:02:49.551Z"
   },
   {
    "duration": 21,
    "start_time": "2021-07-08T09:02:49.594Z"
   },
   {
    "duration": 6,
    "start_time": "2021-07-08T09:02:49.616Z"
   },
   {
    "duration": 3,
    "start_time": "2021-07-08T09:02:49.623Z"
   },
   {
    "duration": 9,
    "start_time": "2021-07-08T09:02:49.628Z"
   },
   {
    "duration": 52,
    "start_time": "2021-07-08T09:02:49.638Z"
   },
   {
    "duration": 11,
    "start_time": "2021-07-08T09:02:49.692Z"
   },
   {
    "duration": 8,
    "start_time": "2021-07-08T09:02:49.704Z"
   },
   {
    "duration": 27,
    "start_time": "2021-07-08T09:02:49.713Z"
   },
   {
    "duration": 59,
    "start_time": "2021-07-08T09:02:49.741Z"
   },
   {
    "duration": 8,
    "start_time": "2021-07-08T09:02:49.803Z"
   },
   {
    "duration": 14,
    "start_time": "2021-07-08T09:02:49.813Z"
   },
   {
    "duration": 20,
    "start_time": "2021-07-08T09:02:49.829Z"
   },
   {
    "duration": 44,
    "start_time": "2021-07-08T09:02:49.851Z"
   },
   {
    "duration": 14,
    "start_time": "2021-07-08T09:02:49.896Z"
   },
   {
    "duration": 221,
    "start_time": "2021-07-08T09:02:49.912Z"
   },
   {
    "duration": 6,
    "start_time": "2021-07-08T09:02:50.134Z"
   },
   {
    "duration": 206,
    "start_time": "2021-07-08T09:02:50.142Z"
   },
   {
    "duration": 19,
    "start_time": "2021-07-08T09:02:50.350Z"
   },
   {
    "duration": 21,
    "start_time": "2021-07-08T09:02:50.370Z"
   },
   {
    "duration": 20,
    "start_time": "2021-07-08T09:02:50.393Z"
   },
   {
    "duration": 5,
    "start_time": "2021-07-08T09:02:50.414Z"
   },
   {
    "duration": 5,
    "start_time": "2021-07-08T09:03:34.173Z"
   },
   {
    "duration": 6,
    "start_time": "2021-07-08T09:04:49.062Z"
   },
   {
    "duration": 9,
    "start_time": "2021-07-08T09:04:50.118Z"
   },
   {
    "duration": 14,
    "start_time": "2021-07-08T09:04:58.512Z"
   },
   {
    "duration": 9,
    "start_time": "2021-07-08T09:05:10.988Z"
   },
   {
    "duration": 11,
    "start_time": "2021-07-08T09:05:11.743Z"
   },
   {
    "duration": 7,
    "start_time": "2021-07-08T09:05:25.677Z"
   },
   {
    "duration": 13,
    "start_time": "2021-07-08T09:05:47.189Z"
   },
   {
    "duration": 13,
    "start_time": "2021-07-08T09:05:54.755Z"
   },
   {
    "duration": 4,
    "start_time": "2021-07-08T09:06:29.189Z"
   },
   {
    "duration": 244,
    "start_time": "2021-07-08T09:06:29.195Z"
   },
   {
    "duration": 91,
    "start_time": "2021-07-08T09:06:29.441Z"
   },
   {
    "duration": 4,
    "start_time": "2021-07-08T09:06:29.534Z"
   },
   {
    "duration": 28,
    "start_time": "2021-07-08T09:06:29.540Z"
   },
   {
    "duration": 6,
    "start_time": "2021-07-08T09:06:29.570Z"
   },
   {
    "duration": 18,
    "start_time": "2021-07-08T09:06:29.578Z"
   },
   {
    "duration": 5,
    "start_time": "2021-07-08T09:06:29.597Z"
   },
   {
    "duration": 13,
    "start_time": "2021-07-08T09:06:29.605Z"
   },
   {
    "duration": 8,
    "start_time": "2021-07-08T09:06:29.620Z"
   },
   {
    "duration": 7,
    "start_time": "2021-07-08T09:06:29.630Z"
   },
   {
    "duration": 63,
    "start_time": "2021-07-08T09:06:29.639Z"
   },
   {
    "duration": 17,
    "start_time": "2021-07-08T09:06:29.704Z"
   },
   {
    "duration": 20,
    "start_time": "2021-07-08T09:06:29.723Z"
   },
   {
    "duration": 6,
    "start_time": "2021-07-08T09:06:29.745Z"
   },
   {
    "duration": 3,
    "start_time": "2021-07-08T09:06:29.752Z"
   },
   {
    "duration": 7,
    "start_time": "2021-07-08T09:06:29.785Z"
   },
   {
    "duration": 11,
    "start_time": "2021-07-08T09:06:29.794Z"
   },
   {
    "duration": 15,
    "start_time": "2021-07-08T09:06:29.807Z"
   },
   {
    "duration": 8,
    "start_time": "2021-07-08T09:06:29.823Z"
   },
   {
    "duration": 70,
    "start_time": "2021-07-08T09:06:29.832Z"
   },
   {
    "duration": 17,
    "start_time": "2021-07-08T09:06:29.903Z"
   },
   {
    "duration": 9,
    "start_time": "2021-07-08T09:06:29.921Z"
   },
   {
    "duration": 9,
    "start_time": "2021-07-08T09:06:29.932Z"
   },
   {
    "duration": 57,
    "start_time": "2021-07-08T09:06:29.942Z"
   },
   {
    "duration": 11,
    "start_time": "2021-07-08T09:06:30.001Z"
   },
   {
    "duration": 19,
    "start_time": "2021-07-08T09:06:30.016Z"
   },
   {
    "duration": 217,
    "start_time": "2021-07-08T09:06:30.037Z"
   },
   {
    "duration": 6,
    "start_time": "2021-07-08T09:06:30.255Z"
   },
   {
    "duration": 205,
    "start_time": "2021-07-08T09:06:30.263Z"
   },
   {
    "duration": 27,
    "start_time": "2021-07-08T09:06:30.470Z"
   },
   {
    "duration": 11,
    "start_time": "2021-07-08T09:06:30.500Z"
   },
   {
    "duration": 31,
    "start_time": "2021-07-08T09:06:30.513Z"
   },
   {
    "duration": 18,
    "start_time": "2021-07-08T09:06:30.546Z"
   },
   {
    "duration": 11,
    "start_time": "2021-07-08T09:06:30.566Z"
   },
   {
    "duration": 19,
    "start_time": "2021-07-08T09:06:30.579Z"
   },
   {
    "duration": 20,
    "start_time": "2021-07-08T09:06:49.466Z"
   },
   {
    "duration": 9,
    "start_time": "2021-07-08T09:06:51.994Z"
   },
   {
    "duration": 20,
    "start_time": "2021-07-08T09:06:52.273Z"
   },
   {
    "duration": 246,
    "start_time": "2021-07-08T09:10:21.272Z"
   },
   {
    "duration": 84,
    "start_time": "2021-07-08T09:10:21.436Z"
   },
   {
    "duration": 7,
    "start_time": "2021-07-08T09:10:37.608Z"
   },
   {
    "duration": 189,
    "start_time": "2021-07-08T09:10:38.573Z"
   },
   {
    "duration": 185,
    "start_time": "2021-07-08T09:10:53.181Z"
   },
   {
    "duration": 11,
    "start_time": "2021-07-08T09:10:59.549Z"
   },
   {
    "duration": 42,
    "start_time": "2021-07-08T09:10:59.709Z"
   },
   {
    "duration": 12,
    "start_time": "2021-07-08T09:11:02.857Z"
   },
   {
    "duration": 28,
    "start_time": "2021-07-08T09:11:10.062Z"
   },
   {
    "duration": 249,
    "start_time": "2021-07-08T09:11:37.388Z"
   },
   {
    "duration": 232,
    "start_time": "2021-07-08T09:11:49.485Z"
   },
   {
    "duration": 453,
    "start_time": "2021-07-08T09:12:01.546Z"
   },
   {
    "duration": 440,
    "start_time": "2021-07-08T09:12:12.347Z"
   },
   {
    "duration": 213,
    "start_time": "2021-07-08T09:13:32.196Z"
   },
   {
    "duration": 172,
    "start_time": "2021-07-08T09:14:07.400Z"
   },
   {
    "duration": 185,
    "start_time": "2021-07-08T09:14:14.905Z"
   },
   {
    "duration": 209,
    "start_time": "2021-07-08T09:14:40.109Z"
   },
   {
    "duration": 201,
    "start_time": "2021-07-08T09:14:54.506Z"
   },
   {
    "duration": 622,
    "start_time": "2021-07-08T09:18:14.497Z"
   },
   {
    "duration": 220,
    "start_time": "2021-07-08T09:18:15.121Z"
   },
   {
    "duration": 79,
    "start_time": "2021-07-08T09:18:15.343Z"
   },
   {
    "duration": 4,
    "start_time": "2021-07-08T09:18:15.425Z"
   },
   {
    "duration": 24,
    "start_time": "2021-07-08T09:18:15.431Z"
   },
   {
    "duration": 8,
    "start_time": "2021-07-08T09:18:15.457Z"
   },
   {
    "duration": 16,
    "start_time": "2021-07-08T09:18:15.466Z"
   },
   {
    "duration": 5,
    "start_time": "2021-07-08T09:18:15.484Z"
   },
   {
    "duration": 10,
    "start_time": "2021-07-08T09:18:15.493Z"
   },
   {
    "duration": 8,
    "start_time": "2021-07-08T09:18:15.504Z"
   },
   {
    "duration": 7,
    "start_time": "2021-07-08T09:18:15.513Z"
   },
   {
    "duration": 26,
    "start_time": "2021-07-08T09:18:15.522Z"
   },
   {
    "duration": 49,
    "start_time": "2021-07-08T09:18:15.550Z"
   },
   {
    "duration": 21,
    "start_time": "2021-07-08T09:18:15.601Z"
   },
   {
    "duration": 8,
    "start_time": "2021-07-08T09:18:15.624Z"
   },
   {
    "duration": 3,
    "start_time": "2021-07-08T09:18:15.634Z"
   },
   {
    "duration": 8,
    "start_time": "2021-07-08T09:18:15.639Z"
   },
   {
    "duration": 45,
    "start_time": "2021-07-08T09:18:15.649Z"
   },
   {
    "duration": 13,
    "start_time": "2021-07-08T09:18:15.696Z"
   },
   {
    "duration": 10,
    "start_time": "2021-07-08T09:18:15.711Z"
   },
   {
    "duration": 64,
    "start_time": "2021-07-08T09:18:15.722Z"
   },
   {
    "duration": 19,
    "start_time": "2021-07-08T09:18:15.788Z"
   },
   {
    "duration": 9,
    "start_time": "2021-07-08T09:18:15.809Z"
   },
   {
    "duration": 9,
    "start_time": "2021-07-08T09:18:15.820Z"
   },
   {
    "duration": 18,
    "start_time": "2021-07-08T09:18:15.831Z"
   },
   {
    "duration": 43,
    "start_time": "2021-07-08T09:18:15.851Z"
   },
   {
    "duration": 12,
    "start_time": "2021-07-08T09:18:15.897Z"
   },
   {
    "duration": 219,
    "start_time": "2021-07-08T09:18:15.911Z"
   },
   {
    "duration": 8,
    "start_time": "2021-07-08T09:18:16.132Z"
   },
   {
    "duration": 199,
    "start_time": "2021-07-08T09:18:16.141Z"
   },
   {
    "duration": 18,
    "start_time": "2021-07-08T09:18:16.341Z"
   },
   {
    "duration": 24,
    "start_time": "2021-07-08T09:18:16.361Z"
   },
   {
    "duration": 24,
    "start_time": "2021-07-08T09:18:16.387Z"
   },
   {
    "duration": 211,
    "start_time": "2021-07-08T09:18:16.413Z"
   },
   {
    "duration": 18,
    "start_time": "2021-07-08T09:18:16.626Z"
   },
   {
    "duration": 596,
    "start_time": "2021-07-08T10:06:33.623Z"
   },
   {
    "duration": 181,
    "start_time": "2021-07-08T10:06:34.221Z"
   },
   {
    "duration": 176,
    "start_time": "2021-07-08T10:06:34.635Z"
   },
   {
    "duration": 239,
    "start_time": "2021-07-08T10:06:55.572Z"
   },
   {
    "duration": 6,
    "start_time": "2021-07-08T10:06:57.687Z"
   },
   {
    "duration": 4,
    "start_time": "2021-07-08T10:07:03.956Z"
   },
   {
    "duration": 4,
    "start_time": "2021-07-08T10:07:10.376Z"
   },
   {
    "duration": 4,
    "start_time": "2021-07-08T10:17:19.889Z"
   },
   {
    "duration": 3,
    "start_time": "2021-07-08T10:19:19.407Z"
   },
   {
    "duration": 197,
    "start_time": "2021-07-08T10:19:19.412Z"
   },
   {
    "duration": 127,
    "start_time": "2021-07-08T10:19:19.611Z"
   },
   {
    "duration": 4,
    "start_time": "2021-07-08T10:19:19.740Z"
   },
   {
    "duration": 27,
    "start_time": "2021-07-08T10:19:19.746Z"
   },
   {
    "duration": 7,
    "start_time": "2021-07-08T10:19:19.775Z"
   },
   {
    "duration": 30,
    "start_time": "2021-07-08T10:19:19.784Z"
   },
   {
    "duration": 7,
    "start_time": "2021-07-08T10:19:19.817Z"
   },
   {
    "duration": 26,
    "start_time": "2021-07-08T10:19:19.826Z"
   },
   {
    "duration": 18,
    "start_time": "2021-07-08T10:19:19.854Z"
   },
   {
    "duration": 14,
    "start_time": "2021-07-08T10:19:19.874Z"
   },
   {
    "duration": 48,
    "start_time": "2021-07-08T10:19:19.890Z"
   },
   {
    "duration": 17,
    "start_time": "2021-07-08T10:19:19.940Z"
   },
   {
    "duration": 38,
    "start_time": "2021-07-08T10:19:19.959Z"
   },
   {
    "duration": 8,
    "start_time": "2021-07-08T10:19:19.999Z"
   },
   {
    "duration": 15,
    "start_time": "2021-07-08T10:19:20.009Z"
   },
   {
    "duration": 22,
    "start_time": "2021-07-08T10:19:20.026Z"
   },
   {
    "duration": 10,
    "start_time": "2021-07-08T10:19:20.050Z"
   },
   {
    "duration": 10,
    "start_time": "2021-07-08T10:19:20.062Z"
   },
   {
    "duration": 20,
    "start_time": "2021-07-08T10:19:20.073Z"
   },
   {
    "duration": 29,
    "start_time": "2021-07-08T10:19:20.095Z"
   },
   {
    "duration": 17,
    "start_time": "2021-07-08T10:19:20.126Z"
   },
   {
    "duration": 40,
    "start_time": "2021-07-08T10:19:20.146Z"
   },
   {
    "duration": 15,
    "start_time": "2021-07-08T10:19:20.189Z"
   },
   {
    "duration": 19,
    "start_time": "2021-07-08T10:19:20.206Z"
   },
   {
    "duration": 10,
    "start_time": "2021-07-08T10:19:20.226Z"
   },
   {
    "duration": 11,
    "start_time": "2021-07-08T10:19:20.238Z"
   },
   {
    "duration": 297,
    "start_time": "2021-07-08T10:19:20.250Z"
   },
   {
    "duration": 6,
    "start_time": "2021-07-08T10:19:20.549Z"
   },
   {
    "duration": 191,
    "start_time": "2021-07-08T10:19:20.557Z"
   },
   {
    "duration": 19,
    "start_time": "2021-07-08T10:19:20.750Z"
   },
   {
    "duration": 20,
    "start_time": "2021-07-08T10:19:20.771Z"
   },
   {
    "duration": 15,
    "start_time": "2021-07-08T10:19:20.793Z"
   },
   {
    "duration": 222,
    "start_time": "2021-07-08T10:19:20.809Z"
   },
   {
    "duration": 20,
    "start_time": "2021-07-08T10:19:21.033Z"
   },
   {
    "duration": 27,
    "start_time": "2021-07-08T10:45:04.055Z"
   },
   {
    "duration": 8,
    "start_time": "2021-07-08T10:45:08.478Z"
   },
   {
    "duration": 8,
    "start_time": "2021-07-08T10:45:31.982Z"
   },
   {
    "duration": 10,
    "start_time": "2021-07-08T10:46:01.221Z"
   },
   {
    "duration": 17,
    "start_time": "2021-07-08T10:46:40.011Z"
   },
   {
    "duration": 193,
    "start_time": "2021-07-08T10:48:19.471Z"
   },
   {
    "duration": 225,
    "start_time": "2021-07-08T10:49:26.480Z"
   },
   {
    "duration": 204,
    "start_time": "2021-07-08T10:49:59.992Z"
   },
   {
    "duration": 435,
    "start_time": "2021-07-08T10:50:06.779Z"
   },
   {
    "duration": 199,
    "start_time": "2021-07-08T10:50:14.891Z"
   },
   {
    "duration": 204,
    "start_time": "2021-07-08T10:50:18.501Z"
   },
   {
    "duration": 244,
    "start_time": "2021-07-08T10:50:23.359Z"
   },
   {
    "duration": 192,
    "start_time": "2021-07-08T10:50:29.135Z"
   },
   {
    "duration": 218,
    "start_time": "2021-07-08T10:50:33.092Z"
   },
   {
    "duration": 207,
    "start_time": "2021-07-08T10:52:45.381Z"
   },
   {
    "duration": 5,
    "start_time": "2021-07-08T10:53:34.641Z"
   },
   {
    "duration": 196,
    "start_time": "2021-07-08T10:53:41.478Z"
   },
   {
    "duration": 43,
    "start_time": "2021-07-08T10:53:50.335Z"
   },
   {
    "duration": 32,
    "start_time": "2021-07-08T10:53:55.294Z"
   },
   {
    "duration": 55,
    "start_time": "2021-07-08T10:54:09.675Z"
   },
   {
    "duration": 16,
    "start_time": "2021-07-08T10:54:12.260Z"
   },
   {
    "duration": 15,
    "start_time": "2021-07-08T10:54:49.150Z"
   },
   {
    "duration": 20,
    "start_time": "2021-07-08T10:56:07.596Z"
   },
   {
    "duration": 16,
    "start_time": "2021-07-08T10:58:26.276Z"
   },
   {
    "duration": 22,
    "start_time": "2021-07-08T10:59:00.486Z"
   },
   {
    "duration": 18,
    "start_time": "2021-07-08T11:02:09.653Z"
   },
   {
    "duration": 10,
    "start_time": "2021-07-08T11:03:44.331Z"
   },
   {
    "duration": 10,
    "start_time": "2021-07-08T11:03:54.055Z"
   },
   {
    "duration": 12,
    "start_time": "2021-07-08T11:04:41.967Z"
   },
   {
    "duration": 24,
    "start_time": "2021-07-08T11:07:30.732Z"
   },
   {
    "duration": 6,
    "start_time": "2021-07-08T11:07:37.364Z"
   },
   {
    "duration": 16,
    "start_time": "2021-07-08T11:08:01.819Z"
   },
   {
    "duration": 17,
    "start_time": "2021-07-08T11:09:47.488Z"
   },
   {
    "duration": 246,
    "start_time": "2021-07-08T11:10:00.830Z"
   },
   {
    "duration": 18,
    "start_time": "2021-07-08T11:13:55.195Z"
   },
   {
    "duration": 204,
    "start_time": "2021-07-08T11:14:04.951Z"
   },
   {
    "duration": 19,
    "start_time": "2021-07-08T11:15:10.613Z"
   },
   {
    "duration": 680,
    "start_time": "2021-07-08T11:16:25.793Z"
   },
   {
    "duration": 451,
    "start_time": "2021-07-08T11:16:40.313Z"
   },
   {
    "duration": 469,
    "start_time": "2021-07-08T11:17:21.286Z"
   },
   {
    "duration": 20,
    "start_time": "2021-07-08T11:19:12.554Z"
   },
   {
    "duration": 35,
    "start_time": "2021-07-08T11:20:05.484Z"
   },
   {
    "duration": 53,
    "start_time": "2021-07-08T11:21:40.050Z"
   },
   {
    "duration": 13,
    "start_time": "2021-07-08T11:22:26.059Z"
   },
   {
    "duration": 19,
    "start_time": "2021-07-08T11:22:47.419Z"
   },
   {
    "duration": 25,
    "start_time": "2021-07-08T11:23:19.958Z"
   },
   {
    "duration": 29,
    "start_time": "2021-07-08T11:23:25.415Z"
   },
   {
    "duration": 10,
    "start_time": "2021-07-08T11:24:45.138Z"
   },
   {
    "duration": 19,
    "start_time": "2021-07-08T11:24:54.498Z"
   },
   {
    "duration": 12,
    "start_time": "2021-07-08T11:25:32.225Z"
   },
   {
    "duration": 19,
    "start_time": "2021-07-08T11:25:37.092Z"
   },
   {
    "duration": 17,
    "start_time": "2021-07-08T11:25:58.116Z"
   },
   {
    "duration": 15,
    "start_time": "2021-07-08T11:26:02.258Z"
   },
   {
    "duration": 8,
    "start_time": "2021-07-08T11:26:59.682Z"
   },
   {
    "duration": 184,
    "start_time": "2021-07-08T11:27:21.894Z"
   },
   {
    "duration": 8,
    "start_time": "2021-07-08T11:27:23.824Z"
   },
   {
    "duration": 202,
    "start_time": "2021-07-08T11:27:23.962Z"
   },
   {
    "duration": 360,
    "start_time": "2021-07-08T11:28:33.215Z"
   },
   {
    "duration": 231,
    "start_time": "2021-07-08T11:32:05.542Z"
   },
   {
    "duration": 607,
    "start_time": "2021-07-08T11:36:27.854Z"
   },
   {
    "duration": 241,
    "start_time": "2021-07-08T11:36:28.463Z"
   },
   {
    "duration": 67,
    "start_time": "2021-07-08T11:36:28.709Z"
   },
   {
    "duration": 5,
    "start_time": "2021-07-08T11:36:28.778Z"
   },
   {
    "duration": 32,
    "start_time": "2021-07-08T11:36:28.784Z"
   },
   {
    "duration": 11,
    "start_time": "2021-07-08T11:36:28.819Z"
   },
   {
    "duration": 20,
    "start_time": "2021-07-08T11:36:28.834Z"
   },
   {
    "duration": 36,
    "start_time": "2021-07-08T11:36:28.857Z"
   },
   {
    "duration": 16,
    "start_time": "2021-07-08T11:36:28.895Z"
   },
   {
    "duration": 14,
    "start_time": "2021-07-08T11:36:28.913Z"
   },
   {
    "duration": 9,
    "start_time": "2021-07-08T11:36:28.930Z"
   },
   {
    "duration": 55,
    "start_time": "2021-07-08T11:36:28.941Z"
   },
   {
    "duration": 27,
    "start_time": "2021-07-08T11:36:28.999Z"
   },
   {
    "duration": 30,
    "start_time": "2021-07-08T11:36:29.028Z"
   },
   {
    "duration": 31,
    "start_time": "2021-07-08T11:36:29.060Z"
   },
   {
    "duration": 3,
    "start_time": "2021-07-08T11:36:29.093Z"
   },
   {
    "duration": 12,
    "start_time": "2021-07-08T11:36:29.099Z"
   },
   {
    "duration": 11,
    "start_time": "2021-07-08T11:36:29.112Z"
   },
   {
    "duration": 12,
    "start_time": "2021-07-08T11:36:29.125Z"
   },
   {
    "duration": 9,
    "start_time": "2021-07-08T11:36:29.139Z"
   },
   {
    "duration": 31,
    "start_time": "2021-07-08T11:36:29.191Z"
   },
   {
    "duration": 17,
    "start_time": "2021-07-08T11:36:29.226Z"
   },
   {
    "duration": 7,
    "start_time": "2021-07-08T11:36:29.245Z"
   },
   {
    "duration": 10,
    "start_time": "2021-07-08T11:36:29.254Z"
   },
   {
    "duration": 30,
    "start_time": "2021-07-08T11:36:29.292Z"
   },
   {
    "duration": 11,
    "start_time": "2021-07-08T11:36:29.324Z"
   },
   {
    "duration": 11,
    "start_time": "2021-07-08T11:36:29.337Z"
   },
   {
    "duration": 230,
    "start_time": "2021-07-08T11:36:29.349Z"
   },
   {
    "duration": 13,
    "start_time": "2021-07-08T11:36:29.588Z"
   },
   {
    "duration": 205,
    "start_time": "2021-07-08T11:36:29.603Z"
   },
   {
    "duration": 20,
    "start_time": "2021-07-08T11:36:29.810Z"
   },
   {
    "duration": 9,
    "start_time": "2021-07-08T11:36:29.832Z"
   },
   {
    "duration": 16,
    "start_time": "2021-07-08T11:36:29.843Z"
   },
   {
    "duration": 283,
    "start_time": "2021-07-08T11:36:29.861Z"
   },
   {
    "duration": 50,
    "start_time": "2021-07-08T11:36:30.146Z"
   },
   {
    "duration": 14,
    "start_time": "2021-07-08T11:36:30.198Z"
   },
   {
    "duration": 11,
    "start_time": "2021-07-08T11:36:30.214Z"
   },
   {
    "duration": 245,
    "start_time": "2021-07-08T11:36:30.227Z"
   },
   {
    "duration": 439,
    "start_time": "2021-07-08T11:36:30.474Z"
   },
   {
    "duration": 210,
    "start_time": "2021-07-08T11:36:30.915Z"
   },
   {
    "duration": 15,
    "start_time": "2021-07-08T11:36:31.127Z"
   },
   {
    "duration": 17,
    "start_time": "2021-07-08T11:38:20.451Z"
   },
   {
    "duration": 642,
    "start_time": "2021-07-08T11:46:17.881Z"
   },
   {
    "duration": 210,
    "start_time": "2021-07-08T11:46:18.525Z"
   },
   {
    "duration": 104,
    "start_time": "2021-07-08T11:46:18.741Z"
   },
   {
    "duration": 8,
    "start_time": "2021-07-08T11:46:18.847Z"
   },
   {
    "duration": 25,
    "start_time": "2021-07-08T11:46:18.857Z"
   },
   {
    "duration": 14,
    "start_time": "2021-07-08T11:46:18.884Z"
   },
   {
    "duration": 22,
    "start_time": "2021-07-08T11:46:18.900Z"
   },
   {
    "duration": 5,
    "start_time": "2021-07-08T11:46:18.924Z"
   },
   {
    "duration": 13,
    "start_time": "2021-07-08T11:46:18.931Z"
   },
   {
    "duration": 45,
    "start_time": "2021-07-08T11:46:18.946Z"
   },
   {
    "duration": 12,
    "start_time": "2021-07-08T11:46:18.993Z"
   },
   {
    "duration": 38,
    "start_time": "2021-07-08T11:46:19.006Z"
   },
   {
    "duration": 50,
    "start_time": "2021-07-08T11:46:19.046Z"
   },
   {
    "duration": 29,
    "start_time": "2021-07-08T11:46:19.099Z"
   },
   {
    "duration": 7,
    "start_time": "2021-07-08T11:46:19.130Z"
   },
   {
    "duration": 3,
    "start_time": "2021-07-08T11:46:19.139Z"
   },
   {
    "duration": 11,
    "start_time": "2021-07-08T11:46:19.144Z"
   },
   {
    "duration": 40,
    "start_time": "2021-07-08T11:46:19.157Z"
   },
   {
    "duration": 15,
    "start_time": "2021-07-08T11:46:19.199Z"
   },
   {
    "duration": 10,
    "start_time": "2021-07-08T11:46:19.217Z"
   },
   {
    "duration": 68,
    "start_time": "2021-07-08T11:46:19.230Z"
   },
   {
    "duration": 17,
    "start_time": "2021-07-08T11:46:19.301Z"
   },
   {
    "duration": 7,
    "start_time": "2021-07-08T11:46:19.321Z"
   },
   {
    "duration": 11,
    "start_time": "2021-07-08T11:46:19.330Z"
   },
   {
    "duration": 59,
    "start_time": "2021-07-08T11:46:19.343Z"
   },
   {
    "duration": 17,
    "start_time": "2021-07-08T11:46:19.405Z"
   },
   {
    "duration": 16,
    "start_time": "2021-07-08T11:46:19.424Z"
   },
   {
    "duration": 252,
    "start_time": "2021-07-08T11:46:19.443Z"
   },
   {
    "duration": 9,
    "start_time": "2021-07-08T11:46:19.697Z"
   },
   {
    "duration": 224,
    "start_time": "2021-07-08T11:46:19.708Z"
   },
   {
    "duration": 21,
    "start_time": "2021-07-08T11:46:19.934Z"
   },
   {
    "duration": 9,
    "start_time": "2021-07-08T11:46:19.956Z"
   },
   {
    "duration": 32,
    "start_time": "2021-07-08T11:46:19.967Z"
   },
   {
    "duration": 288,
    "start_time": "2021-07-08T11:46:20.004Z"
   },
   {
    "duration": 23,
    "start_time": "2021-07-08T11:46:20.300Z"
   },
   {
    "duration": 11,
    "start_time": "2021-07-08T11:46:20.325Z"
   },
   {
    "duration": 11,
    "start_time": "2021-07-08T11:46:20.339Z"
   },
   {
    "duration": 259,
    "start_time": "2021-07-08T11:46:20.352Z"
   },
   {
    "duration": 438,
    "start_time": "2021-07-08T11:46:20.613Z"
   },
   {
    "duration": 207,
    "start_time": "2021-07-08T11:46:21.054Z"
   },
   {
    "duration": 27,
    "start_time": "2021-07-08T11:46:21.262Z"
   },
   {
    "duration": 19,
    "start_time": "2021-07-08T11:46:21.291Z"
   },
   {
    "duration": 820,
    "start_time": "2021-07-08T11:49:01.655Z"
   },
   {
    "duration": 372,
    "start_time": "2021-07-08T11:49:02.478Z"
   },
   {
    "duration": 98,
    "start_time": "2021-07-08T11:49:02.853Z"
   },
   {
    "duration": 6,
    "start_time": "2021-07-08T11:49:02.953Z"
   },
   {
    "duration": 39,
    "start_time": "2021-07-08T11:49:02.960Z"
   },
   {
    "duration": 9,
    "start_time": "2021-07-08T11:49:03.003Z"
   },
   {
    "duration": 23,
    "start_time": "2021-07-08T11:49:03.014Z"
   },
   {
    "duration": 6,
    "start_time": "2021-07-08T11:49:03.041Z"
   },
   {
    "duration": 20,
    "start_time": "2021-07-08T11:49:03.049Z"
   },
   {
    "duration": 18,
    "start_time": "2021-07-08T11:49:03.084Z"
   },
   {
    "duration": 14,
    "start_time": "2021-07-08T11:49:03.104Z"
   },
   {
    "duration": 39,
    "start_time": "2021-07-08T11:49:03.119Z"
   },
   {
    "duration": 38,
    "start_time": "2021-07-08T11:49:03.160Z"
   },
   {
    "duration": 26,
    "start_time": "2021-07-08T11:49:03.200Z"
   },
   {
    "duration": 7,
    "start_time": "2021-07-08T11:49:03.227Z"
   },
   {
    "duration": 4,
    "start_time": "2021-07-08T11:49:03.236Z"
   },
   {
    "duration": 15,
    "start_time": "2021-07-08T11:49:03.243Z"
   },
   {
    "duration": 21,
    "start_time": "2021-07-08T11:49:03.285Z"
   },
   {
    "duration": 17,
    "start_time": "2021-07-08T11:49:03.309Z"
   },
   {
    "duration": 10,
    "start_time": "2021-07-08T11:49:03.328Z"
   },
   {
    "duration": 65,
    "start_time": "2021-07-08T11:49:03.340Z"
   },
   {
    "duration": 18,
    "start_time": "2021-07-08T11:49:03.407Z"
   },
   {
    "duration": 8,
    "start_time": "2021-07-08T11:49:03.428Z"
   },
   {
    "duration": 15,
    "start_time": "2021-07-08T11:49:03.438Z"
   },
   {
    "duration": 40,
    "start_time": "2021-07-08T11:49:03.455Z"
   },
   {
    "duration": 12,
    "start_time": "2021-07-08T11:49:03.497Z"
   },
   {
    "duration": 29,
    "start_time": "2021-07-08T11:49:03.511Z"
   },
   {
    "duration": 285,
    "start_time": "2021-07-08T11:49:03.542Z"
   },
   {
    "duration": 8,
    "start_time": "2021-07-08T11:49:03.829Z"
   },
   {
    "duration": 227,
    "start_time": "2021-07-08T11:49:03.838Z"
   },
   {
    "duration": 40,
    "start_time": "2021-07-08T11:49:04.066Z"
   },
   {
    "duration": 10,
    "start_time": "2021-07-08T11:49:04.108Z"
   },
   {
    "duration": 26,
    "start_time": "2021-07-08T11:49:04.121Z"
   },
   {
    "duration": 290,
    "start_time": "2021-07-08T11:49:04.149Z"
   },
   {
    "duration": 26,
    "start_time": "2021-07-08T11:49:04.441Z"
   },
   {
    "duration": 31,
    "start_time": "2021-07-08T11:49:04.470Z"
   },
   {
    "duration": 14,
    "start_time": "2021-07-08T11:49:04.503Z"
   },
   {
    "duration": 259,
    "start_time": "2021-07-08T11:49:04.521Z"
   },
   {
    "duration": 480,
    "start_time": "2021-07-08T11:49:04.782Z"
   },
   {
    "duration": 225,
    "start_time": "2021-07-08T11:49:05.264Z"
   },
   {
    "duration": 22,
    "start_time": "2021-07-08T11:49:05.491Z"
   },
   {
    "duration": 24,
    "start_time": "2021-07-08T11:49:05.515Z"
   },
   {
    "duration": 634,
    "start_time": "2021-07-08T11:52:24.960Z"
   },
   {
    "duration": 199,
    "start_time": "2021-07-08T11:52:25.599Z"
   },
   {
    "duration": 106,
    "start_time": "2021-07-08T11:52:25.803Z"
   },
   {
    "duration": 7,
    "start_time": "2021-07-08T11:52:25.911Z"
   },
   {
    "duration": 29,
    "start_time": "2021-07-08T11:52:25.920Z"
   },
   {
    "duration": 7,
    "start_time": "2021-07-08T11:52:25.951Z"
   },
   {
    "duration": 26,
    "start_time": "2021-07-08T11:52:25.961Z"
   },
   {
    "duration": 11,
    "start_time": "2021-07-08T11:52:25.990Z"
   },
   {
    "duration": 29,
    "start_time": "2021-07-08T11:52:26.005Z"
   },
   {
    "duration": 9,
    "start_time": "2021-07-08T11:52:26.036Z"
   },
   {
    "duration": 8,
    "start_time": "2021-07-08T11:52:26.047Z"
   },
   {
    "duration": 63,
    "start_time": "2021-07-08T11:52:26.057Z"
   },
   {
    "duration": 17,
    "start_time": "2021-07-08T11:52:26.122Z"
   },
   {
    "duration": 43,
    "start_time": "2021-07-08T11:52:26.142Z"
   },
   {
    "duration": 17,
    "start_time": "2021-07-08T11:52:26.187Z"
   },
   {
    "duration": 5,
    "start_time": "2021-07-08T11:52:26.206Z"
   },
   {
    "duration": 12,
    "start_time": "2021-07-08T11:52:26.212Z"
   },
   {
    "duration": 11,
    "start_time": "2021-07-08T11:52:26.226Z"
   },
   {
    "duration": 12,
    "start_time": "2021-07-08T11:52:26.238Z"
   },
   {
    "duration": 38,
    "start_time": "2021-07-08T11:52:26.252Z"
   },
   {
    "duration": 40,
    "start_time": "2021-07-08T11:52:26.292Z"
   },
   {
    "duration": 17,
    "start_time": "2021-07-08T11:52:26.336Z"
   },
   {
    "duration": 39,
    "start_time": "2021-07-08T11:52:26.355Z"
   },
   {
    "duration": 11,
    "start_time": "2021-07-08T11:52:26.395Z"
   },
   {
    "duration": 23,
    "start_time": "2021-07-08T11:52:26.408Z"
   },
   {
    "duration": 12,
    "start_time": "2021-07-08T11:52:26.432Z"
   },
   {
    "duration": 41,
    "start_time": "2021-07-08T11:52:26.446Z"
   },
   {
    "duration": 215,
    "start_time": "2021-07-08T11:52:26.493Z"
   },
   {
    "duration": 8,
    "start_time": "2021-07-08T11:52:26.710Z"
   },
   {
    "duration": 228,
    "start_time": "2021-07-08T11:52:26.720Z"
   },
   {
    "duration": 18,
    "start_time": "2021-07-08T11:52:26.950Z"
   },
   {
    "duration": 35,
    "start_time": "2021-07-08T11:52:26.969Z"
   },
   {
    "duration": 23,
    "start_time": "2021-07-08T11:52:27.006Z"
   },
   {
    "duration": 258,
    "start_time": "2021-07-08T11:52:27.030Z"
   },
   {
    "duration": 24,
    "start_time": "2021-07-08T11:52:27.290Z"
   },
   {
    "duration": 12,
    "start_time": "2021-07-08T11:52:27.316Z"
   },
   {
    "duration": 10,
    "start_time": "2021-07-08T11:52:27.329Z"
   },
   {
    "duration": 298,
    "start_time": "2021-07-08T11:52:27.341Z"
   },
   {
    "duration": 436,
    "start_time": "2021-07-08T11:52:27.641Z"
   },
   {
    "duration": 216,
    "start_time": "2021-07-08T11:52:28.079Z"
   },
   {
    "duration": 20,
    "start_time": "2021-07-08T11:52:28.297Z"
   },
   {
    "duration": 17,
    "start_time": "2021-07-08T11:52:28.319Z"
   },
   {
    "duration": 408,
    "start_time": "2024-04-08T12:37:09.105Z"
   },
   {
    "duration": 298,
    "start_time": "2024-04-08T12:37:10.461Z"
   },
   {
    "duration": 108,
    "start_time": "2024-04-08T12:37:55.421Z"
   },
   {
    "duration": 12,
    "start_time": "2024-04-08T12:46:38.744Z"
   },
   {
    "duration": 10,
    "start_time": "2024-04-08T12:46:48.439Z"
   },
   {
    "duration": 11,
    "start_time": "2024-04-08T12:47:07.383Z"
   },
   {
    "duration": 365,
    "start_time": "2024-04-08T12:48:24.183Z"
   },
   {
    "duration": 329,
    "start_time": "2024-04-08T12:49:20.824Z"
   },
   {
    "duration": 4,
    "start_time": "2024-04-08T12:56:12.587Z"
   },
   {
    "duration": 8,
    "start_time": "2024-04-08T12:56:27.428Z"
   },
   {
    "duration": 86,
    "start_time": "2024-04-08T12:57:09.858Z"
   },
   {
    "duration": 14,
    "start_time": "2024-04-08T12:57:26.834Z"
   },
   {
    "duration": 6,
    "start_time": "2024-04-08T13:02:25.236Z"
   },
   {
    "duration": 28,
    "start_time": "2024-04-08T13:02:31.014Z"
   },
   {
    "duration": 77,
    "start_time": "2024-04-08T13:02:57.534Z"
   },
   {
    "duration": 10,
    "start_time": "2024-04-08T13:03:10.022Z"
   },
   {
    "duration": 16,
    "start_time": "2024-04-08T13:03:22.198Z"
   },
   {
    "duration": 324,
    "start_time": "2024-04-08T13:03:29.534Z"
   },
   {
    "duration": 4,
    "start_time": "2024-04-08T13:04:27.804Z"
   },
   {
    "duration": 481,
    "start_time": "2024-04-08T13:04:31.053Z"
   },
   {
    "duration": 3,
    "start_time": "2024-04-08T13:04:44.154Z"
   },
   {
    "duration": 27,
    "start_time": "2024-04-08T13:04:47.028Z"
   },
   {
    "duration": 488,
    "start_time": "2024-04-13T10:49:29.915Z"
   },
   {
    "duration": 259,
    "start_time": "2024-04-13T10:49:31.701Z"
   },
   {
    "duration": 334,
    "start_time": "2024-04-13T10:50:53.816Z"
   },
   {
    "duration": 10,
    "start_time": "2024-04-13T10:51:50.598Z"
   },
   {
    "duration": 5,
    "start_time": "2024-04-13T10:52:41.999Z"
   },
   {
    "duration": 312,
    "start_time": "2024-04-13T10:52:47.677Z"
   },
   {
    "duration": 4,
    "start_time": "2024-04-13T10:53:07.285Z"
   },
   {
    "duration": 11,
    "start_time": "2024-04-13T10:53:10.087Z"
   },
   {
    "duration": 41,
    "start_time": "2024-04-13T10:53:26.191Z"
   },
   {
    "duration": 3,
    "start_time": "2024-04-13T10:57:31.607Z"
   },
   {
    "duration": 143,
    "start_time": "2024-04-13T10:57:35.406Z"
   },
   {
    "duration": 212,
    "start_time": "2024-04-13T10:59:58.870Z"
   },
   {
    "duration": 72,
    "start_time": "2024-04-13T11:05:05.167Z"
   },
   {
    "duration": 3,
    "start_time": "2024-04-13T11:06:02.490Z"
   },
   {
    "duration": 153,
    "start_time": "2024-04-13T11:06:04.783Z"
   },
   {
    "duration": 35,
    "start_time": "2024-04-13T11:06:07.872Z"
   },
   {
    "duration": 16,
    "start_time": "2024-04-13T11:06:10.521Z"
   },
   {
    "duration": 18,
    "start_time": "2024-04-13T12:54:54.031Z"
   },
   {
    "duration": 12,
    "start_time": "2024-04-13T12:56:43.059Z"
   },
   {
    "duration": 5,
    "start_time": "2024-04-13T13:00:06.776Z"
   },
   {
    "duration": 9,
    "start_time": "2024-04-13T14:21:00.205Z"
   },
   {
    "duration": 5,
    "start_time": "2024-04-13T14:21:20.048Z"
   },
   {
    "duration": 5,
    "start_time": "2024-04-13T14:21:38.214Z"
   },
   {
    "duration": 6,
    "start_time": "2024-04-13T14:21:50.172Z"
   },
   {
    "duration": 9,
    "start_time": "2024-04-13T14:26:34.057Z"
   },
   {
    "duration": 11,
    "start_time": "2024-04-13T14:26:51.504Z"
   },
   {
    "duration": 5,
    "start_time": "2024-04-13T14:27:02.293Z"
   },
   {
    "duration": 3,
    "start_time": "2024-04-13T14:30:17.318Z"
   },
   {
    "duration": 150,
    "start_time": "2024-04-13T14:30:18.642Z"
   },
   {
    "duration": 39,
    "start_time": "2024-04-13T14:30:21.289Z"
   },
   {
    "duration": 15,
    "start_time": "2024-04-13T14:30:26.208Z"
   },
   {
    "duration": 10,
    "start_time": "2024-04-13T14:30:28.565Z"
   },
   {
    "duration": 5,
    "start_time": "2024-04-13T14:30:32.917Z"
   },
   {
    "duration": 9,
    "start_time": "2024-04-13T14:30:44.016Z"
   },
   {
    "duration": 4,
    "start_time": "2024-04-13T14:30:58.064Z"
   },
   {
    "duration": 5,
    "start_time": "2024-04-13T14:31:00.274Z"
   },
   {
    "duration": 7,
    "start_time": "2024-04-13T14:31:26.225Z"
   },
   {
    "duration": 155,
    "start_time": "2024-04-13T14:37:30.579Z"
   },
   {
    "duration": 34,
    "start_time": "2024-04-13T14:37:33.611Z"
   },
   {
    "duration": 24,
    "start_time": "2024-04-13T14:37:35.481Z"
   },
   {
    "duration": 10,
    "start_time": "2024-04-13T14:37:42.752Z"
   },
   {
    "duration": 4,
    "start_time": "2024-04-13T14:37:48.045Z"
   },
   {
    "duration": 10,
    "start_time": "2024-04-13T14:37:55.902Z"
   },
   {
    "duration": 12,
    "start_time": "2024-04-13T14:38:03.806Z"
   },
   {
    "duration": 18,
    "start_time": "2024-04-13T15:27:10.830Z"
   },
   {
    "duration": 31,
    "start_time": "2024-04-13T16:09:14.371Z"
   },
   {
    "duration": 525,
    "start_time": "2024-04-15T19:22:29.816Z"
   },
   {
    "duration": 257,
    "start_time": "2024-04-15T19:22:30.872Z"
   },
   {
    "duration": 42,
    "start_time": "2024-04-15T19:22:33.188Z"
   },
   {
    "duration": 16,
    "start_time": "2024-04-15T19:22:33.750Z"
   },
   {
    "duration": 9,
    "start_time": "2024-04-15T19:22:34.480Z"
   },
   {
    "duration": 5,
    "start_time": "2024-04-15T19:22:36.914Z"
   },
   {
    "duration": 39,
    "start_time": "2024-04-15T19:22:40.638Z"
   },
   {
    "duration": 11,
    "start_time": "2024-04-15T19:22:43.174Z"
   },
   {
    "duration": 9,
    "start_time": "2024-04-15T19:22:49.157Z"
   },
   {
    "duration": 9,
    "start_time": "2024-04-15T19:30:50.325Z"
   },
   {
    "duration": 54,
    "start_time": "2024-04-15T19:37:03.194Z"
   },
   {
    "duration": 51,
    "start_time": "2024-04-15T19:38:50.667Z"
   },
   {
    "duration": 59,
    "start_time": "2024-04-15T19:39:14.611Z"
   },
   {
    "duration": 51,
    "start_time": "2024-04-15T19:39:26.770Z"
   },
   {
    "duration": 54,
    "start_time": "2024-04-15T19:39:35.223Z"
   },
   {
    "duration": 53,
    "start_time": "2024-04-15T19:40:29.328Z"
   },
   {
    "duration": 8,
    "start_time": "2024-04-15T19:40:46.605Z"
   },
   {
    "duration": 8,
    "start_time": "2024-04-15T19:41:37.657Z"
   },
   {
    "duration": 63,
    "start_time": "2024-04-15T19:45:06.238Z"
   },
   {
    "duration": 7,
    "start_time": "2024-04-15T19:46:26.243Z"
   },
   {
    "duration": 4,
    "start_time": "2024-04-15T19:46:51.814Z"
   },
   {
    "duration": 7,
    "start_time": "2024-04-15T19:47:00.702Z"
   },
   {
    "duration": 25,
    "start_time": "2024-04-15T19:47:32.900Z"
   },
   {
    "duration": 4,
    "start_time": "2024-04-15T19:47:52.298Z"
   },
   {
    "duration": 8,
    "start_time": "2024-04-15T19:49:31.361Z"
   },
   {
    "duration": 4,
    "start_time": "2024-04-15T19:50:51.821Z"
   },
   {
    "duration": 7,
    "start_time": "2024-04-15T19:51:56.886Z"
   },
   {
    "duration": 4,
    "start_time": "2024-04-15T19:54:25.007Z"
   },
   {
    "duration": 5,
    "start_time": "2024-04-15T19:54:47.313Z"
   },
   {
    "duration": 4,
    "start_time": "2024-04-15T19:55:03.046Z"
   },
   {
    "duration": 5,
    "start_time": "2024-04-15T19:55:50.007Z"
   },
   {
    "duration": 4,
    "start_time": "2024-04-15T19:56:07.820Z"
   },
   {
    "duration": 5,
    "start_time": "2024-04-15T20:06:03.699Z"
   },
   {
    "duration": 64,
    "start_time": "2024-04-15T20:11:51.745Z"
   },
   {
    "duration": 3,
    "start_time": "2024-04-15T20:12:18.836Z"
   },
   {
    "duration": 7,
    "start_time": "2024-04-15T20:14:38.354Z"
   },
   {
    "duration": 7,
    "start_time": "2024-04-15T20:15:20.987Z"
   },
   {
    "duration": 10,
    "start_time": "2024-04-15T20:15:59.911Z"
   },
   {
    "duration": 453,
    "start_time": "2024-04-16T19:26:33.737Z"
   },
   {
    "duration": 231,
    "start_time": "2024-04-16T19:26:35.294Z"
   },
   {
    "duration": 37,
    "start_time": "2024-04-16T19:26:36.383Z"
   },
   {
    "duration": 14,
    "start_time": "2024-04-16T19:26:38.054Z"
   },
   {
    "duration": 9,
    "start_time": "2024-04-16T19:26:41.817Z"
   },
   {
    "duration": 4,
    "start_time": "2024-04-16T19:26:44.388Z"
   },
   {
    "duration": 31,
    "start_time": "2024-04-16T19:26:49.513Z"
   },
   {
    "duration": 8,
    "start_time": "2024-04-16T19:26:52.342Z"
   },
   {
    "duration": 8,
    "start_time": "2024-04-16T19:26:57.396Z"
   },
   {
    "duration": 4,
    "start_time": "2024-04-16T19:27:00.183Z"
   },
   {
    "duration": 4,
    "start_time": "2024-04-16T19:27:01.252Z"
   },
   {
    "duration": 4,
    "start_time": "2024-04-16T19:27:02.140Z"
   },
   {
    "duration": 3,
    "start_time": "2024-04-16T19:27:10.221Z"
   },
   {
    "duration": 3,
    "start_time": "2024-04-16T19:27:12.852Z"
   },
   {
    "duration": 6,
    "start_time": "2024-04-16T19:27:15.254Z"
   },
   {
    "duration": 5,
    "start_time": "2024-04-16T19:51:55.649Z"
   },
   {
    "duration": 8,
    "start_time": "2024-04-16T19:54:45.015Z"
   },
   {
    "duration": 2,
    "start_time": "2024-04-16T20:04:17.847Z"
   },
   {
    "duration": 3,
    "start_time": "2024-04-16T20:09:39.311Z"
   },
   {
    "duration": 3,
    "start_time": "2024-04-16T20:11:26.631Z"
   },
   {
    "duration": 8,
    "start_time": "2024-04-16T20:15:48.380Z"
   },
   {
    "duration": 22,
    "start_time": "2024-04-16T20:15:57.504Z"
   },
   {
    "duration": 516,
    "start_time": "2024-04-18T17:28:47.859Z"
   },
   {
    "duration": 266,
    "start_time": "2024-04-18T17:28:49.629Z"
   },
   {
    "duration": 59,
    "start_time": "2024-04-18T17:28:49.941Z"
   },
   {
    "duration": 16,
    "start_time": "2024-04-18T17:28:50.485Z"
   },
   {
    "duration": 10,
    "start_time": "2024-04-18T17:28:50.921Z"
   },
   {
    "duration": 5,
    "start_time": "2024-04-18T17:28:51.404Z"
   },
   {
    "duration": 49,
    "start_time": "2024-04-18T17:28:51.757Z"
   },
   {
    "duration": 11,
    "start_time": "2024-04-18T17:28:51.957Z"
   },
   {
    "duration": 11,
    "start_time": "2024-04-18T17:28:52.351Z"
   },
   {
    "duration": 5,
    "start_time": "2024-04-18T17:28:52.708Z"
   },
   {
    "duration": 5,
    "start_time": "2024-04-18T17:28:53.049Z"
   },
   {
    "duration": 5,
    "start_time": "2024-04-18T17:28:53.409Z"
   },
   {
    "duration": 5,
    "start_time": "2024-04-18T17:28:53.811Z"
   },
   {
    "duration": 5,
    "start_time": "2024-04-18T17:28:54.171Z"
   },
   {
    "duration": 8,
    "start_time": "2024-04-18T17:28:54.521Z"
   },
   {
    "duration": 6,
    "start_time": "2024-04-18T17:28:54.902Z"
   },
   {
    "duration": 11,
    "start_time": "2024-04-18T17:28:55.447Z"
   },
   {
    "duration": 5,
    "start_time": "2024-04-18T17:28:55.963Z"
   },
   {
    "duration": 4,
    "start_time": "2024-04-18T17:28:56.523Z"
   },
   {
    "duration": 3,
    "start_time": "2024-04-18T17:28:57.038Z"
   },
   {
    "duration": 11,
    "start_time": "2024-04-18T17:28:57.397Z"
   },
   {
    "duration": 27,
    "start_time": "2024-04-18T17:28:57.778Z"
   },
   {
    "duration": 6,
    "start_time": "2024-04-18T17:32:54.094Z"
   },
   {
    "duration": 6,
    "start_time": "2024-04-18T17:34:49.297Z"
   },
   {
    "duration": 17,
    "start_time": "2024-04-18T17:35:07.160Z"
   },
   {
    "duration": 6,
    "start_time": "2024-04-18T17:35:41.714Z"
   },
   {
    "duration": 69,
    "start_time": "2024-04-18T17:41:21.569Z"
   },
   {
    "duration": 8,
    "start_time": "2024-04-18T17:41:58.022Z"
   },
   {
    "duration": 8,
    "start_time": "2024-04-18T17:42:01.669Z"
   },
   {
    "duration": 492,
    "start_time": "2024-04-18T17:43:02.947Z"
   },
   {
    "duration": 149,
    "start_time": "2024-04-18T17:43:03.442Z"
   },
   {
    "duration": 44,
    "start_time": "2024-04-18T17:43:03.593Z"
   },
   {
    "duration": 16,
    "start_time": "2024-04-18T17:43:03.639Z"
   },
   {
    "duration": 63,
    "start_time": "2024-04-18T17:43:03.657Z"
   },
   {
    "duration": 4,
    "start_time": "2024-04-18T17:43:03.722Z"
   },
   {
    "duration": 13,
    "start_time": "2024-04-18T17:43:03.728Z"
   },
   {
    "duration": 15,
    "start_time": "2024-04-18T17:43:03.743Z"
   },
   {
    "duration": 28,
    "start_time": "2024-04-18T17:43:03.759Z"
   },
   {
    "duration": 7,
    "start_time": "2024-04-18T17:43:03.788Z"
   },
   {
    "duration": 6,
    "start_time": "2024-04-18T17:43:03.796Z"
   },
   {
    "duration": 8,
    "start_time": "2024-04-18T17:43:03.804Z"
   },
   {
    "duration": 5,
    "start_time": "2024-04-18T17:43:03.813Z"
   },
   {
    "duration": 5,
    "start_time": "2024-04-18T17:43:03.820Z"
   },
   {
    "duration": 19,
    "start_time": "2024-04-18T17:43:03.827Z"
   },
   {
    "duration": 20,
    "start_time": "2024-04-18T17:43:03.848Z"
   },
   {
    "duration": 44,
    "start_time": "2024-04-18T17:43:03.869Z"
   },
   {
    "duration": 18,
    "start_time": "2024-04-18T17:43:03.915Z"
   },
   {
    "duration": 21,
    "start_time": "2024-04-18T17:43:03.934Z"
   },
   {
    "duration": 5,
    "start_time": "2024-04-18T17:43:03.957Z"
   },
   {
    "duration": 10,
    "start_time": "2024-04-18T17:43:03.964Z"
   },
   {
    "duration": 37,
    "start_time": "2024-04-18T17:43:03.976Z"
   },
   {
    "duration": 16,
    "start_time": "2024-04-18T17:43:04.015Z"
   },
   {
    "duration": 71,
    "start_time": "2024-04-18T17:43:04.033Z"
   },
   {
    "duration": 520,
    "start_time": "2024-04-18T17:44:32.176Z"
   },
   {
    "duration": 147,
    "start_time": "2024-04-18T17:44:32.698Z"
   },
   {
    "duration": 43,
    "start_time": "2024-04-18T17:44:32.847Z"
   },
   {
    "duration": 15,
    "start_time": "2024-04-18T17:44:32.892Z"
   },
   {
    "duration": 43,
    "start_time": "2024-04-18T17:44:32.908Z"
   },
   {
    "duration": 5,
    "start_time": "2024-04-18T17:44:32.952Z"
   },
   {
    "duration": 31,
    "start_time": "2024-04-18T17:44:32.959Z"
   },
   {
    "duration": 11,
    "start_time": "2024-04-18T17:44:32.991Z"
   },
   {
    "duration": 9,
    "start_time": "2024-04-18T17:44:33.004Z"
   },
   {
    "duration": 5,
    "start_time": "2024-04-18T17:44:33.015Z"
   },
   {
    "duration": 4,
    "start_time": "2024-04-18T17:44:33.021Z"
   },
   {
    "duration": 4,
    "start_time": "2024-04-18T17:44:33.027Z"
   },
   {
    "duration": 6,
    "start_time": "2024-04-18T17:44:33.033Z"
   },
   {
    "duration": 43,
    "start_time": "2024-04-18T17:44:33.040Z"
   },
   {
    "duration": 8,
    "start_time": "2024-04-18T17:44:33.085Z"
   },
   {
    "duration": 7,
    "start_time": "2024-04-18T17:44:33.095Z"
   },
   {
    "duration": 15,
    "start_time": "2024-04-18T17:44:33.103Z"
   },
   {
    "duration": 3,
    "start_time": "2024-04-18T17:44:33.120Z"
   },
   {
    "duration": 12,
    "start_time": "2024-04-18T17:44:33.125Z"
   },
   {
    "duration": 4,
    "start_time": "2024-04-18T17:44:33.139Z"
   },
   {
    "duration": 44,
    "start_time": "2024-04-18T17:44:33.145Z"
   },
   {
    "duration": 25,
    "start_time": "2024-04-18T17:44:33.190Z"
   },
   {
    "duration": 17,
    "start_time": "2024-04-18T17:44:33.217Z"
   },
   {
    "duration": 5,
    "start_time": "2024-04-18T17:44:33.235Z"
   },
   {
    "duration": 16,
    "start_time": "2024-04-18T17:44:44.213Z"
   },
   {
    "duration": 16,
    "start_time": "2024-04-18T17:45:01.605Z"
   },
   {
    "duration": 16,
    "start_time": "2024-04-18T17:45:18.807Z"
   },
   {
    "duration": 7,
    "start_time": "2024-04-18T17:46:04.509Z"
   },
   {
    "duration": 19,
    "start_time": "2024-04-18T17:46:59.501Z"
   },
   {
    "duration": 3,
    "start_time": "2024-04-18T17:47:04.928Z"
   },
   {
    "duration": 150,
    "start_time": "2024-04-18T17:47:05.158Z"
   },
   {
    "duration": 35,
    "start_time": "2024-04-18T17:47:05.629Z"
   },
   {
    "duration": 16,
    "start_time": "2024-04-18T17:47:06.118Z"
   },
   {
    "duration": 11,
    "start_time": "2024-04-18T17:47:06.458Z"
   },
   {
    "duration": 4,
    "start_time": "2024-04-18T17:47:07.213Z"
   },
   {
    "duration": 10,
    "start_time": "2024-04-18T17:47:09.156Z"
   },
   {
    "duration": 10,
    "start_time": "2024-04-18T17:47:09.312Z"
   },
   {
    "duration": 11,
    "start_time": "2024-04-18T17:47:16.453Z"
   },
   {
    "duration": 5,
    "start_time": "2024-04-18T17:47:18.754Z"
   },
   {
    "duration": 5,
    "start_time": "2024-04-18T17:47:19.051Z"
   },
   {
    "duration": 4,
    "start_time": "2024-04-18T17:47:19.331Z"
   },
   {
    "duration": 4,
    "start_time": "2024-04-18T17:47:20.930Z"
   },
   {
    "duration": 5,
    "start_time": "2024-04-18T17:47:21.222Z"
   },
   {
    "duration": 7,
    "start_time": "2024-04-18T17:47:22.755Z"
   },
   {
    "duration": 6,
    "start_time": "2024-04-18T17:47:22.998Z"
   },
   {
    "duration": 10,
    "start_time": "2024-04-18T17:47:23.442Z"
   },
   {
    "duration": 4,
    "start_time": "2024-04-18T17:47:25.062Z"
   },
   {
    "duration": 4,
    "start_time": "2024-04-18T17:47:25.614Z"
   },
   {
    "duration": 3,
    "start_time": "2024-04-18T17:47:26.061Z"
   },
   {
    "duration": 10,
    "start_time": "2024-04-18T17:47:27.942Z"
   },
   {
    "duration": 25,
    "start_time": "2024-04-18T17:47:28.808Z"
   },
   {
    "duration": 16,
    "start_time": "2024-04-18T17:47:32.849Z"
   },
   {
    "duration": 24,
    "start_time": "2024-04-18T17:47:41.096Z"
   },
   {
    "duration": 6,
    "start_time": "2024-04-18T17:48:42.436Z"
   },
   {
    "duration": 5,
    "start_time": "2024-04-18T17:50:31.631Z"
   },
   {
    "duration": 19,
    "start_time": "2024-04-18T17:51:15.418Z"
   },
   {
    "duration": 5,
    "start_time": "2024-04-18T17:51:51.567Z"
   },
   {
    "duration": 5,
    "start_time": "2024-04-18T17:52:02.408Z"
   },
   {
    "duration": 5,
    "start_time": "2024-04-18T17:55:11.318Z"
   },
   {
    "duration": 12,
    "start_time": "2024-04-18T17:56:02.463Z"
   },
   {
    "duration": 5,
    "start_time": "2024-04-18T17:57:24.154Z"
   },
   {
    "duration": 6,
    "start_time": "2024-04-18T17:58:21.529Z"
   },
   {
    "duration": 8,
    "start_time": "2024-04-18T17:59:20.389Z"
   },
   {
    "duration": 5,
    "start_time": "2024-04-18T17:59:52.601Z"
   },
   {
    "duration": 7,
    "start_time": "2024-04-18T18:00:13.153Z"
   },
   {
    "duration": 8,
    "start_time": "2024-04-18T18:00:34.101Z"
   },
   {
    "duration": 11,
    "start_time": "2024-04-18T18:02:43.595Z"
   },
   {
    "duration": 9,
    "start_time": "2024-04-18T18:03:42.719Z"
   },
   {
    "duration": 30,
    "start_time": "2024-04-18T18:06:46.364Z"
   },
   {
    "duration": 12,
    "start_time": "2024-04-18T18:07:36.572Z"
   },
   {
    "duration": 18,
    "start_time": "2024-04-18T18:09:06.767Z"
   },
   {
    "duration": 446,
    "start_time": "2024-04-18T18:17:23.723Z"
   },
   {
    "duration": 149,
    "start_time": "2024-04-18T18:17:24.171Z"
   },
   {
    "duration": 45,
    "start_time": "2024-04-18T18:17:24.321Z"
   },
   {
    "duration": 16,
    "start_time": "2024-04-18T18:17:24.367Z"
   },
   {
    "duration": 49,
    "start_time": "2024-04-18T18:17:24.386Z"
   },
   {
    "duration": 13,
    "start_time": "2024-04-18T18:17:24.436Z"
   },
   {
    "duration": 14,
    "start_time": "2024-04-18T18:17:24.451Z"
   },
   {
    "duration": 27,
    "start_time": "2024-04-18T18:17:24.466Z"
   },
   {
    "duration": 21,
    "start_time": "2024-04-18T18:17:24.495Z"
   },
   {
    "duration": 4,
    "start_time": "2024-04-18T18:17:24.518Z"
   },
   {
    "duration": 5,
    "start_time": "2024-04-18T18:17:24.525Z"
   },
   {
    "duration": 8,
    "start_time": "2024-04-18T18:17:24.531Z"
   },
   {
    "duration": 6,
    "start_time": "2024-04-18T18:17:24.540Z"
   },
   {
    "duration": 7,
    "start_time": "2024-04-18T18:17:24.549Z"
   },
   {
    "duration": 31,
    "start_time": "2024-04-18T18:17:24.558Z"
   },
   {
    "duration": 20,
    "start_time": "2024-04-18T18:17:24.591Z"
   },
   {
    "duration": 12,
    "start_time": "2024-04-18T18:17:24.613Z"
   },
   {
    "duration": 14,
    "start_time": "2024-04-18T18:17:24.627Z"
   },
   {
    "duration": 11,
    "start_time": "2024-04-18T18:17:24.643Z"
   },
   {
    "duration": 8,
    "start_time": "2024-04-18T18:17:24.656Z"
   },
   {
    "duration": 19,
    "start_time": "2024-04-18T18:17:24.666Z"
   },
   {
    "duration": 41,
    "start_time": "2024-04-18T18:17:24.686Z"
   },
   {
    "duration": 7,
    "start_time": "2024-04-18T18:17:24.729Z"
   },
   {
    "duration": 21,
    "start_time": "2024-04-18T18:17:24.738Z"
   },
   {
    "duration": 7,
    "start_time": "2024-04-18T18:17:24.761Z"
   },
   {
    "duration": 35,
    "start_time": "2024-04-18T18:17:24.770Z"
   },
   {
    "duration": 37,
    "start_time": "2024-04-18T18:17:24.807Z"
   },
   {
    "duration": 16,
    "start_time": "2024-04-18T18:17:24.845Z"
   },
   {
    "duration": 22,
    "start_time": "2024-04-18T18:17:24.863Z"
   },
   {
    "duration": 20,
    "start_time": "2024-04-18T18:17:24.886Z"
   },
   {
    "duration": 16,
    "start_time": "2024-04-18T18:17:24.907Z"
   },
   {
    "duration": 7,
    "start_time": "2024-04-18T18:21:40.735Z"
   },
   {
    "duration": 430,
    "start_time": "2024-04-20T09:20:08.685Z"
   },
   {
    "duration": 274,
    "start_time": "2024-04-20T09:20:09.117Z"
   },
   {
    "duration": 48,
    "start_time": "2024-04-20T09:20:09.392Z"
   },
   {
    "duration": 15,
    "start_time": "2024-04-20T09:20:09.442Z"
   },
   {
    "duration": 54,
    "start_time": "2024-04-20T09:20:09.459Z"
   },
   {
    "duration": 16,
    "start_time": "2024-04-20T09:20:09.515Z"
   },
   {
    "duration": 26,
    "start_time": "2024-04-20T09:20:09.533Z"
   },
   {
    "duration": 21,
    "start_time": "2024-04-20T09:20:09.560Z"
   },
   {
    "duration": 11,
    "start_time": "2024-04-20T09:20:09.582Z"
   },
   {
    "duration": 6,
    "start_time": "2024-04-20T09:20:09.594Z"
   },
   {
    "duration": 15,
    "start_time": "2024-04-20T09:20:09.601Z"
   },
   {
    "duration": 6,
    "start_time": "2024-04-20T09:20:09.629Z"
   },
   {
    "duration": 14,
    "start_time": "2024-04-20T09:20:09.636Z"
   },
   {
    "duration": 5,
    "start_time": "2024-04-20T09:20:09.653Z"
   },
   {
    "duration": 8,
    "start_time": "2024-04-20T09:20:09.660Z"
   },
   {
    "duration": 14,
    "start_time": "2024-04-20T09:20:09.669Z"
   },
   {
    "duration": 19,
    "start_time": "2024-04-20T09:20:09.684Z"
   },
   {
    "duration": 26,
    "start_time": "2024-04-20T09:20:09.705Z"
   },
   {
    "duration": 8,
    "start_time": "2024-04-20T09:20:09.733Z"
   },
   {
    "duration": 5,
    "start_time": "2024-04-20T09:20:09.743Z"
   },
   {
    "duration": 17,
    "start_time": "2024-04-20T09:20:09.750Z"
   },
   {
    "duration": 46,
    "start_time": "2024-04-20T09:20:09.769Z"
   },
   {
    "duration": 6,
    "start_time": "2024-04-20T09:20:09.816Z"
   },
   {
    "duration": 23,
    "start_time": "2024-04-20T09:20:09.824Z"
   },
   {
    "duration": 5,
    "start_time": "2024-04-20T09:20:09.848Z"
   },
   {
    "duration": 30,
    "start_time": "2024-04-20T09:20:09.855Z"
   },
   {
    "duration": 10,
    "start_time": "2024-04-20T09:20:09.887Z"
   },
   {
    "duration": 25,
    "start_time": "2024-04-20T09:20:09.899Z"
   },
   {
    "duration": 38,
    "start_time": "2024-04-20T09:20:09.926Z"
   },
   {
    "duration": 14,
    "start_time": "2024-04-20T09:20:09.966Z"
   },
   {
    "duration": 6,
    "start_time": "2024-04-20T09:20:09.981Z"
   },
   {
    "duration": 37,
    "start_time": "2024-04-20T09:20:09.988Z"
   },
   {
    "duration": 16,
    "start_time": "2024-04-20T09:20:10.026Z"
   },
   {
    "duration": 903,
    "start_time": "2024-04-20T09:20:43.591Z"
   },
   {
    "duration": 163,
    "start_time": "2024-04-20T09:20:44.497Z"
   },
   {
    "duration": 60,
    "start_time": "2024-04-20T09:20:44.663Z"
   },
   {
    "duration": 19,
    "start_time": "2024-04-20T09:20:44.725Z"
   },
   {
    "duration": 70,
    "start_time": "2024-04-20T09:20:44.746Z"
   },
   {
    "duration": 10,
    "start_time": "2024-04-20T09:20:44.820Z"
   },
   {
    "duration": 18,
    "start_time": "2024-04-20T09:20:44.832Z"
   },
   {
    "duration": 25,
    "start_time": "2024-04-20T09:20:44.852Z"
   },
   {
    "duration": 14,
    "start_time": "2024-04-20T09:20:44.879Z"
   },
   {
    "duration": 23,
    "start_time": "2024-04-20T09:20:44.894Z"
   },
   {
    "duration": 10,
    "start_time": "2024-04-20T09:20:44.920Z"
   },
   {
    "duration": 29,
    "start_time": "2024-04-20T09:20:44.933Z"
   },
   {
    "duration": 6,
    "start_time": "2024-04-20T09:20:44.964Z"
   },
   {
    "duration": 5,
    "start_time": "2024-04-20T09:20:44.974Z"
   },
   {
    "duration": 14,
    "start_time": "2024-04-20T09:20:44.981Z"
   },
   {
    "duration": 51,
    "start_time": "2024-04-20T09:20:44.997Z"
   },
   {
    "duration": 255,
    "start_time": "2024-04-20T09:20:45.050Z"
   },
   {
    "duration": 66,
    "start_time": "2024-04-20T09:20:45.307Z"
   },
   {
    "duration": 14,
    "start_time": "2024-04-20T09:20:45.375Z"
   },
   {
    "duration": 45,
    "start_time": "2024-04-20T09:20:45.391Z"
   },
   {
    "duration": 34,
    "start_time": "2024-04-20T09:20:45.438Z"
   },
   {
    "duration": 39,
    "start_time": "2024-04-20T09:20:45.474Z"
   },
   {
    "duration": 8,
    "start_time": "2024-04-20T09:20:45.515Z"
   },
   {
    "duration": 35,
    "start_time": "2024-04-20T09:20:45.524Z"
   },
   {
    "duration": 61,
    "start_time": "2024-04-20T09:20:45.561Z"
   },
   {
    "duration": 219,
    "start_time": "2024-04-20T09:20:45.623Z"
   },
   {
    "duration": 29,
    "start_time": "2024-04-20T09:20:45.843Z"
   },
   {
    "duration": 43,
    "start_time": "2024-04-20T09:20:45.874Z"
   },
   {
    "duration": 29,
    "start_time": "2024-04-20T09:20:45.919Z"
   },
   {
    "duration": 21,
    "start_time": "2024-04-20T09:20:45.949Z"
   },
   {
    "duration": 32,
    "start_time": "2024-04-20T09:20:45.971Z"
   },
   {
    "duration": 24,
    "start_time": "2024-04-20T09:20:46.004Z"
   },
   {
    "duration": 35,
    "start_time": "2024-04-20T09:20:46.030Z"
   },
   {
    "duration": 7,
    "start_time": "2024-04-20T09:21:10.728Z"
   },
   {
    "duration": 458,
    "start_time": "2024-04-20T09:21:14.688Z"
   },
   {
    "duration": 190,
    "start_time": "2024-04-20T09:21:15.148Z"
   },
   {
    "duration": 48,
    "start_time": "2024-04-20T09:21:15.340Z"
   },
   {
    "duration": 42,
    "start_time": "2024-04-20T09:21:15.391Z"
   },
   {
    "duration": 56,
    "start_time": "2024-04-20T09:21:15.436Z"
   },
   {
    "duration": 19,
    "start_time": "2024-04-20T09:21:15.494Z"
   },
   {
    "duration": 29,
    "start_time": "2024-04-20T09:21:15.515Z"
   },
   {
    "duration": 42,
    "start_time": "2024-04-20T09:21:15.546Z"
   },
   {
    "duration": 31,
    "start_time": "2024-04-20T09:21:15.590Z"
   },
   {
    "duration": 33,
    "start_time": "2024-04-20T09:21:15.623Z"
   },
   {
    "duration": 20,
    "start_time": "2024-04-20T09:21:15.658Z"
   },
   {
    "duration": 14,
    "start_time": "2024-04-20T09:21:15.680Z"
   },
   {
    "duration": 16,
    "start_time": "2024-04-20T09:21:15.696Z"
   },
   {
    "duration": 23,
    "start_time": "2024-04-20T09:21:15.716Z"
   },
   {
    "duration": 32,
    "start_time": "2024-04-20T09:21:15.741Z"
   },
   {
    "duration": 21,
    "start_time": "2024-04-20T09:21:15.775Z"
   },
   {
    "duration": 19,
    "start_time": "2024-04-20T09:21:15.798Z"
   },
   {
    "duration": 14,
    "start_time": "2024-04-20T09:21:15.819Z"
   },
   {
    "duration": 17,
    "start_time": "2024-04-20T09:21:15.835Z"
   },
   {
    "duration": 12,
    "start_time": "2024-04-20T09:21:15.854Z"
   },
   {
    "duration": 23,
    "start_time": "2024-04-20T09:21:15.868Z"
   },
   {
    "duration": 39,
    "start_time": "2024-04-20T09:21:15.893Z"
   },
   {
    "duration": 6,
    "start_time": "2024-04-20T09:21:15.934Z"
   },
   {
    "duration": 19,
    "start_time": "2024-04-20T09:21:15.941Z"
   },
   {
    "duration": 22,
    "start_time": "2024-04-20T09:21:15.961Z"
   },
   {
    "duration": 21,
    "start_time": "2024-04-20T09:21:15.985Z"
   },
   {
    "duration": 21,
    "start_time": "2024-04-20T09:21:16.008Z"
   },
   {
    "duration": 7,
    "start_time": "2024-04-20T09:21:16.031Z"
   },
   {
    "duration": 13,
    "start_time": "2024-04-20T09:21:16.039Z"
   },
   {
    "duration": 7,
    "start_time": "2024-04-20T09:21:16.053Z"
   },
   {
    "duration": 6,
    "start_time": "2024-04-20T09:21:16.061Z"
   },
   {
    "duration": 11,
    "start_time": "2024-04-20T09:21:16.069Z"
   },
   {
    "duration": 12,
    "start_time": "2024-04-20T09:21:16.081Z"
   },
   {
    "duration": 458,
    "start_time": "2024-04-20T09:21:41.392Z"
   },
   {
    "duration": 163,
    "start_time": "2024-04-20T09:21:41.852Z"
   },
   {
    "duration": 45,
    "start_time": "2024-04-20T09:21:42.017Z"
   },
   {
    "duration": 17,
    "start_time": "2024-04-20T09:21:42.063Z"
   },
   {
    "duration": 62,
    "start_time": "2024-04-20T09:21:42.082Z"
   },
   {
    "duration": 16,
    "start_time": "2024-04-20T09:21:42.145Z"
   },
   {
    "duration": 11,
    "start_time": "2024-04-20T09:21:42.163Z"
   },
   {
    "duration": 15,
    "start_time": "2024-04-20T09:21:42.175Z"
   },
   {
    "duration": 9,
    "start_time": "2024-04-20T09:21:42.192Z"
   },
   {
    "duration": 5,
    "start_time": "2024-04-20T09:21:42.203Z"
   },
   {
    "duration": 6,
    "start_time": "2024-04-20T09:21:42.229Z"
   },
   {
    "duration": 27,
    "start_time": "2024-04-20T09:21:42.237Z"
   },
   {
    "duration": 16,
    "start_time": "2024-04-20T09:21:42.266Z"
   },
   {
    "duration": 13,
    "start_time": "2024-04-20T09:21:42.285Z"
   },
   {
    "duration": 22,
    "start_time": "2024-04-20T09:21:42.300Z"
   },
   {
    "duration": 11,
    "start_time": "2024-04-20T09:21:42.325Z"
   },
   {
    "duration": 12,
    "start_time": "2024-04-20T09:21:42.338Z"
   },
   {
    "duration": 4,
    "start_time": "2024-04-20T09:21:42.351Z"
   },
   {
    "duration": 30,
    "start_time": "2024-04-20T09:21:42.356Z"
   },
   {
    "duration": 31,
    "start_time": "2024-04-20T09:21:42.387Z"
   },
   {
    "duration": 26,
    "start_time": "2024-04-20T09:21:42.419Z"
   },
   {
    "duration": 45,
    "start_time": "2024-04-20T09:21:42.447Z"
   },
   {
    "duration": 16,
    "start_time": "2024-04-20T09:21:42.493Z"
   },
   {
    "duration": 18,
    "start_time": "2024-04-20T09:21:42.510Z"
   },
   {
    "duration": 9,
    "start_time": "2024-04-20T09:21:42.529Z"
   },
   {
    "duration": 20,
    "start_time": "2024-04-20T09:21:42.539Z"
   },
   {
    "duration": 7,
    "start_time": "2024-04-20T09:21:42.560Z"
   },
   {
    "duration": 17,
    "start_time": "2024-04-20T09:21:42.569Z"
   },
   {
    "duration": 16,
    "start_time": "2024-04-20T09:21:42.588Z"
   },
   {
    "duration": 13,
    "start_time": "2024-04-20T09:21:42.606Z"
   },
   {
    "duration": 12,
    "start_time": "2024-04-20T09:21:42.621Z"
   },
   {
    "duration": 13,
    "start_time": "2024-04-20T09:21:42.635Z"
   },
   {
    "duration": 6,
    "start_time": "2024-04-20T09:21:42.650Z"
   },
   {
    "duration": 511,
    "start_time": "2024-04-20T09:22:20.697Z"
   },
   {
    "duration": 160,
    "start_time": "2024-04-20T09:22:21.210Z"
   },
   {
    "duration": 46,
    "start_time": "2024-04-20T09:22:21.375Z"
   },
   {
    "duration": 55,
    "start_time": "2024-04-20T09:22:21.424Z"
   },
   {
    "duration": 71,
    "start_time": "2024-04-20T09:22:21.481Z"
   },
   {
    "duration": 15,
    "start_time": "2024-04-20T09:22:21.554Z"
   },
   {
    "duration": 60,
    "start_time": "2024-04-20T09:22:21.571Z"
   },
   {
    "duration": 28,
    "start_time": "2024-04-20T09:22:21.633Z"
   },
   {
    "duration": 28,
    "start_time": "2024-04-20T09:22:21.662Z"
   },
   {
    "duration": 77,
    "start_time": "2024-04-20T09:22:21.692Z"
   },
   {
    "duration": 39,
    "start_time": "2024-04-20T09:22:21.771Z"
   },
   {
    "duration": 24,
    "start_time": "2024-04-20T09:22:21.812Z"
   },
   {
    "duration": 17,
    "start_time": "2024-04-20T09:22:21.839Z"
   },
   {
    "duration": 36,
    "start_time": "2024-04-20T09:22:21.858Z"
   },
   {
    "duration": 11,
    "start_time": "2024-04-20T09:22:21.896Z"
   },
   {
    "duration": 20,
    "start_time": "2024-04-20T09:22:21.909Z"
   },
   {
    "duration": 42,
    "start_time": "2024-04-20T09:22:21.931Z"
   },
   {
    "duration": 24,
    "start_time": "2024-04-20T09:22:21.975Z"
   },
   {
    "duration": 13,
    "start_time": "2024-04-20T09:22:22.001Z"
   },
   {
    "duration": 23,
    "start_time": "2024-04-20T09:22:22.016Z"
   },
   {
    "duration": 17,
    "start_time": "2024-04-20T09:22:22.041Z"
   },
   {
    "duration": 29,
    "start_time": "2024-04-20T09:22:22.059Z"
   },
   {
    "duration": 6,
    "start_time": "2024-04-20T09:22:22.089Z"
   },
   {
    "duration": 36,
    "start_time": "2024-04-20T09:22:22.097Z"
   },
   {
    "duration": 34,
    "start_time": "2024-04-20T09:22:22.135Z"
   },
   {
    "duration": 69,
    "start_time": "2024-04-20T09:22:22.170Z"
   },
   {
    "duration": 28,
    "start_time": "2024-04-20T09:22:22.241Z"
   },
   {
    "duration": 54,
    "start_time": "2024-04-20T09:22:22.271Z"
   },
   {
    "duration": 31,
    "start_time": "2024-04-20T09:22:22.327Z"
   },
   {
    "duration": 8,
    "start_time": "2024-04-20T09:22:22.360Z"
   },
   {
    "duration": 13,
    "start_time": "2024-04-20T09:22:22.370Z"
   },
   {
    "duration": 21,
    "start_time": "2024-04-20T09:22:22.385Z"
   },
   {
    "duration": 6,
    "start_time": "2024-04-20T09:22:22.408Z"
   },
   {
    "duration": 461,
    "start_time": "2024-04-20T09:26:10.480Z"
   },
   {
    "duration": 146,
    "start_time": "2024-04-20T09:26:10.944Z"
   },
   {
    "duration": 46,
    "start_time": "2024-04-20T09:26:11.092Z"
   },
   {
    "duration": 23,
    "start_time": "2024-04-20T09:26:11.139Z"
   },
   {
    "duration": 84,
    "start_time": "2024-04-20T09:26:11.165Z"
   },
   {
    "duration": 5,
    "start_time": "2024-04-20T09:26:11.251Z"
   },
   {
    "duration": 45,
    "start_time": "2024-04-20T09:26:11.258Z"
   },
   {
    "duration": 28,
    "start_time": "2024-04-20T09:26:11.305Z"
   },
   {
    "duration": 10,
    "start_time": "2024-04-20T09:26:11.335Z"
   },
   {
    "duration": 7,
    "start_time": "2024-04-20T09:26:11.347Z"
   },
   {
    "duration": 27,
    "start_time": "2024-04-20T09:26:11.355Z"
   },
   {
    "duration": 10,
    "start_time": "2024-04-20T09:26:11.384Z"
   },
   {
    "duration": 16,
    "start_time": "2024-04-20T09:26:11.396Z"
   },
   {
    "duration": 19,
    "start_time": "2024-04-20T09:26:11.415Z"
   },
   {
    "duration": 22,
    "start_time": "2024-04-20T09:26:11.436Z"
   },
   {
    "duration": 24,
    "start_time": "2024-04-20T09:26:11.459Z"
   },
   {
    "duration": 33,
    "start_time": "2024-04-20T09:26:11.486Z"
   },
   {
    "duration": 10,
    "start_time": "2024-04-20T09:26:11.521Z"
   },
   {
    "duration": 21,
    "start_time": "2024-04-20T09:26:11.533Z"
   },
   {
    "duration": 12,
    "start_time": "2024-04-20T09:26:11.556Z"
   },
   {
    "duration": 26,
    "start_time": "2024-04-20T09:26:11.570Z"
   },
   {
    "duration": 41,
    "start_time": "2024-04-20T09:26:11.597Z"
   },
   {
    "duration": 7,
    "start_time": "2024-04-20T09:26:11.639Z"
   },
   {
    "duration": 32,
    "start_time": "2024-04-20T09:26:11.648Z"
   },
   {
    "duration": 25,
    "start_time": "2024-04-20T09:26:11.682Z"
   },
   {
    "duration": 47,
    "start_time": "2024-04-20T09:26:11.709Z"
   },
   {
    "duration": 18,
    "start_time": "2024-04-20T09:26:11.758Z"
   },
   {
    "duration": 17,
    "start_time": "2024-04-20T09:26:11.778Z"
   },
   {
    "duration": 15,
    "start_time": "2024-04-20T09:26:11.797Z"
   },
   {
    "duration": 27,
    "start_time": "2024-04-20T09:26:11.814Z"
   },
   {
    "duration": 23,
    "start_time": "2024-04-20T09:26:11.843Z"
   },
   {
    "duration": 17,
    "start_time": "2024-04-20T09:26:11.868Z"
   },
   {
    "duration": 84,
    "start_time": "2024-04-20T09:26:11.886Z"
   },
   {
    "duration": 11,
    "start_time": "2024-04-20T09:27:01.244Z"
   },
   {
    "duration": 29,
    "start_time": "2024-04-20T09:28:18.071Z"
   },
   {
    "duration": 40,
    "start_time": "2024-04-20T09:34:09.585Z"
   },
   {
    "duration": 31,
    "start_time": "2024-04-20T09:34:45.955Z"
   },
   {
    "duration": 23,
    "start_time": "2024-04-20T09:38:05.027Z"
   },
   {
    "duration": 26,
    "start_time": "2024-04-20T09:38:37.322Z"
   },
   {
    "duration": 28,
    "start_time": "2024-04-20T09:41:57.972Z"
   },
   {
    "duration": 30,
    "start_time": "2024-04-20T09:43:18.567Z"
   },
   {
    "duration": 10,
    "start_time": "2024-04-20T09:45:34.558Z"
   },
   {
    "duration": 10,
    "start_time": "2024-04-20T09:45:46.820Z"
   },
   {
    "duration": 487,
    "start_time": "2024-04-20T09:46:37.549Z"
   },
   {
    "duration": 149,
    "start_time": "2024-04-20T09:46:38.037Z"
   },
   {
    "duration": 45,
    "start_time": "2024-04-20T09:46:38.188Z"
   },
   {
    "duration": 16,
    "start_time": "2024-04-20T09:46:38.235Z"
   },
   {
    "duration": 48,
    "start_time": "2024-04-20T09:46:38.253Z"
   },
   {
    "duration": 6,
    "start_time": "2024-04-20T09:46:38.302Z"
   },
   {
    "duration": 12,
    "start_time": "2024-04-20T09:46:38.328Z"
   },
   {
    "duration": 14,
    "start_time": "2024-04-20T09:46:38.342Z"
   },
   {
    "duration": 11,
    "start_time": "2024-04-20T09:46:38.357Z"
   },
   {
    "duration": 4,
    "start_time": "2024-04-20T09:46:38.369Z"
   },
   {
    "duration": 23,
    "start_time": "2024-04-20T09:46:38.375Z"
   },
   {
    "duration": 6,
    "start_time": "2024-04-20T09:46:38.400Z"
   },
   {
    "duration": 21,
    "start_time": "2024-04-20T09:46:38.408Z"
   },
   {
    "duration": 5,
    "start_time": "2024-04-20T09:46:38.433Z"
   },
   {
    "duration": 9,
    "start_time": "2024-04-20T09:46:38.440Z"
   },
   {
    "duration": 7,
    "start_time": "2024-04-20T09:46:38.451Z"
   },
   {
    "duration": 14,
    "start_time": "2024-04-20T09:46:38.460Z"
   },
   {
    "duration": 3,
    "start_time": "2024-04-20T09:46:38.476Z"
   },
   {
    "duration": 7,
    "start_time": "2024-04-20T09:46:38.481Z"
   },
   {
    "duration": 4,
    "start_time": "2024-04-20T09:46:38.489Z"
   },
   {
    "duration": 10,
    "start_time": "2024-04-20T09:46:38.528Z"
   },
   {
    "duration": 53,
    "start_time": "2024-04-20T09:46:38.540Z"
   },
   {
    "duration": 5,
    "start_time": "2024-04-20T09:46:38.595Z"
   },
   {
    "duration": 41,
    "start_time": "2024-04-20T09:46:38.602Z"
   },
   {
    "duration": 5,
    "start_time": "2024-04-20T09:46:38.644Z"
   },
   {
    "duration": 25,
    "start_time": "2024-04-20T09:46:38.651Z"
   },
   {
    "duration": 22,
    "start_time": "2024-04-20T09:46:38.677Z"
   },
   {
    "duration": 15,
    "start_time": "2024-04-20T09:46:38.701Z"
   },
   {
    "duration": 13,
    "start_time": "2024-04-20T09:46:38.717Z"
   },
   {
    "duration": 14,
    "start_time": "2024-04-20T09:46:38.731Z"
   },
   {
    "duration": 26,
    "start_time": "2024-04-20T09:46:38.746Z"
   },
   {
    "duration": 21,
    "start_time": "2024-04-20T09:46:38.774Z"
   },
   {
    "duration": 10,
    "start_time": "2024-04-20T09:46:38.796Z"
   },
   {
    "duration": 697,
    "start_time": "2024-04-20T09:46:58.644Z"
   },
   {
    "duration": 150,
    "start_time": "2024-04-20T09:46:59.343Z"
   },
   {
    "duration": 54,
    "start_time": "2024-04-20T09:46:59.495Z"
   },
   {
    "duration": 15,
    "start_time": "2024-04-20T09:46:59.551Z"
   },
   {
    "duration": 62,
    "start_time": "2024-04-20T09:46:59.568Z"
   },
   {
    "duration": 6,
    "start_time": "2024-04-20T09:46:59.631Z"
   },
   {
    "duration": 33,
    "start_time": "2024-04-20T09:46:59.638Z"
   },
   {
    "duration": 13,
    "start_time": "2024-04-20T09:46:59.673Z"
   },
   {
    "duration": 10,
    "start_time": "2024-04-20T09:46:59.687Z"
   },
   {
    "duration": 5,
    "start_time": "2024-04-20T09:46:59.698Z"
   },
   {
    "duration": 7,
    "start_time": "2024-04-20T09:46:59.704Z"
   },
   {
    "duration": 18,
    "start_time": "2024-04-20T09:46:59.712Z"
   },
   {
    "duration": 12,
    "start_time": "2024-04-20T09:46:59.732Z"
   },
   {
    "duration": 21,
    "start_time": "2024-04-20T09:46:59.747Z"
   },
   {
    "duration": 27,
    "start_time": "2024-04-20T09:46:59.770Z"
   },
   {
    "duration": 11,
    "start_time": "2024-04-20T09:46:59.799Z"
   },
   {
    "duration": 26,
    "start_time": "2024-04-20T09:46:59.812Z"
   },
   {
    "duration": 24,
    "start_time": "2024-04-20T09:46:59.839Z"
   },
   {
    "duration": 13,
    "start_time": "2024-04-20T09:46:59.865Z"
   },
   {
    "duration": 6,
    "start_time": "2024-04-20T09:46:59.880Z"
   },
   {
    "duration": 11,
    "start_time": "2024-04-20T09:46:59.888Z"
   },
   {
    "duration": 29,
    "start_time": "2024-04-20T09:46:59.901Z"
   },
   {
    "duration": 6,
    "start_time": "2024-04-20T09:46:59.931Z"
   },
   {
    "duration": 42,
    "start_time": "2024-04-20T09:46:59.938Z"
   },
   {
    "duration": 5,
    "start_time": "2024-04-20T09:46:59.982Z"
   },
   {
    "duration": 76,
    "start_time": "2024-04-20T09:46:59.988Z"
   },
   {
    "duration": 248,
    "start_time": "2024-04-20T09:47:00.066Z"
   },
   {
    "duration": 160,
    "start_time": "2024-04-20T09:47:00.315Z"
   },
   {
    "duration": 89,
    "start_time": "2024-04-20T09:47:00.477Z"
   },
   {
    "duration": 68,
    "start_time": "2024-04-20T09:47:00.568Z"
   },
   {
    "duration": 98,
    "start_time": "2024-04-20T09:47:00.637Z"
   },
   {
    "duration": 99,
    "start_time": "2024-04-20T09:47:00.738Z"
   },
   {
    "duration": 74,
    "start_time": "2024-04-20T09:47:00.839Z"
   },
   {
    "duration": 5,
    "start_time": "2024-04-20T09:47:17.979Z"
   },
   {
    "duration": 4,
    "start_time": "2024-04-20T09:47:32.636Z"
   },
   {
    "duration": 5,
    "start_time": "2024-04-20T09:47:39.315Z"
   },
   {
    "duration": 11,
    "start_time": "2024-04-20T09:56:33.932Z"
   },
   {
    "duration": 10,
    "start_time": "2024-04-20T09:58:33.455Z"
   },
   {
    "duration": 8,
    "start_time": "2024-04-20T09:58:50.283Z"
   },
   {
    "duration": 9,
    "start_time": "2024-04-20T09:59:46.227Z"
   },
   {
    "duration": 9,
    "start_time": "2024-04-20T10:00:35.387Z"
   },
   {
    "duration": 10,
    "start_time": "2024-04-20T10:00:40.465Z"
   },
   {
    "duration": 63,
    "start_time": "2024-04-20T10:01:46.521Z"
   },
   {
    "duration": 63,
    "start_time": "2024-04-20T10:01:55.724Z"
   },
   {
    "duration": 77,
    "start_time": "2024-04-20T10:02:11.482Z"
   },
   {
    "duration": 69,
    "start_time": "2024-04-20T10:02:23.383Z"
   },
   {
    "duration": 10,
    "start_time": "2024-04-20T10:02:42.823Z"
   },
   {
    "duration": 526,
    "start_time": "2024-04-20T10:02:52.804Z"
   },
   {
    "duration": 149,
    "start_time": "2024-04-20T10:02:53.333Z"
   },
   {
    "duration": 59,
    "start_time": "2024-04-20T10:02:53.484Z"
   },
   {
    "duration": 16,
    "start_time": "2024-04-20T10:02:53.545Z"
   },
   {
    "duration": 68,
    "start_time": "2024-04-20T10:02:53.564Z"
   },
   {
    "duration": 5,
    "start_time": "2024-04-20T10:02:53.633Z"
   },
   {
    "duration": 59,
    "start_time": "2024-04-20T10:02:53.639Z"
   },
   {
    "duration": 37,
    "start_time": "2024-04-20T10:02:53.700Z"
   },
   {
    "duration": 29,
    "start_time": "2024-04-20T10:02:53.738Z"
   },
   {
    "duration": 38,
    "start_time": "2024-04-20T10:02:53.769Z"
   },
   {
    "duration": 18,
    "start_time": "2024-04-20T10:02:53.808Z"
   },
   {
    "duration": 37,
    "start_time": "2024-04-20T10:02:53.828Z"
   },
   {
    "duration": 51,
    "start_time": "2024-04-20T10:02:53.867Z"
   },
   {
    "duration": 24,
    "start_time": "2024-04-20T10:02:53.921Z"
   },
   {
    "duration": 46,
    "start_time": "2024-04-20T10:02:53.947Z"
   },
   {
    "duration": 31,
    "start_time": "2024-04-20T10:02:53.995Z"
   },
   {
    "duration": 24,
    "start_time": "2024-04-20T10:02:54.028Z"
   },
   {
    "duration": 39,
    "start_time": "2024-04-20T10:02:54.053Z"
   },
   {
    "duration": 8,
    "start_time": "2024-04-20T10:02:54.094Z"
   },
   {
    "duration": 22,
    "start_time": "2024-04-20T10:02:54.104Z"
   },
   {
    "duration": 38,
    "start_time": "2024-04-20T10:02:54.128Z"
   },
   {
    "duration": 59,
    "start_time": "2024-04-20T10:02:54.167Z"
   },
   {
    "duration": 7,
    "start_time": "2024-04-20T10:02:54.227Z"
   },
   {
    "duration": 20,
    "start_time": "2024-04-20T10:02:54.235Z"
   },
   {
    "duration": 35,
    "start_time": "2024-04-20T10:02:54.256Z"
   },
   {
    "duration": 40,
    "start_time": "2024-04-20T10:02:54.293Z"
   },
   {
    "duration": 27,
    "start_time": "2024-04-20T10:02:54.335Z"
   },
   {
    "duration": 16,
    "start_time": "2024-04-20T10:02:54.364Z"
   },
   {
    "duration": 21,
    "start_time": "2024-04-20T10:02:54.381Z"
   },
   {
    "duration": 13,
    "start_time": "2024-04-20T10:02:54.404Z"
   },
   {
    "duration": 29,
    "start_time": "2024-04-20T10:02:54.419Z"
   },
   {
    "duration": 17,
    "start_time": "2024-04-20T10:02:54.449Z"
   },
   {
    "duration": 11,
    "start_time": "2024-04-20T10:02:54.470Z"
   },
   {
    "duration": 11,
    "start_time": "2024-04-20T10:02:54.483Z"
   },
   {
    "duration": 10,
    "start_time": "2024-04-20T10:03:06.865Z"
   },
   {
    "duration": 457,
    "start_time": "2024-04-20T10:09:54.583Z"
   },
   {
    "duration": 152,
    "start_time": "2024-04-20T10:09:55.042Z"
   },
   {
    "duration": 48,
    "start_time": "2024-04-20T10:09:55.196Z"
   },
   {
    "duration": 16,
    "start_time": "2024-04-20T10:09:55.246Z"
   },
   {
    "duration": 68,
    "start_time": "2024-04-20T10:09:55.264Z"
   },
   {
    "duration": 5,
    "start_time": "2024-04-20T10:09:55.334Z"
   },
   {
    "duration": 16,
    "start_time": "2024-04-20T10:09:55.340Z"
   },
   {
    "duration": 11,
    "start_time": "2024-04-20T10:09:55.358Z"
   },
   {
    "duration": 20,
    "start_time": "2024-04-20T10:09:55.371Z"
   },
   {
    "duration": 13,
    "start_time": "2024-04-20T10:09:55.392Z"
   },
   {
    "duration": 24,
    "start_time": "2024-04-20T10:09:55.407Z"
   },
   {
    "duration": 7,
    "start_time": "2024-04-20T10:09:55.433Z"
   },
   {
    "duration": 9,
    "start_time": "2024-04-20T10:09:55.441Z"
   },
   {
    "duration": 4,
    "start_time": "2024-04-20T10:09:55.453Z"
   },
   {
    "duration": 14,
    "start_time": "2024-04-20T10:09:55.459Z"
   },
   {
    "duration": 7,
    "start_time": "2024-04-20T10:09:55.475Z"
   },
   {
    "duration": 22,
    "start_time": "2024-04-20T10:09:55.484Z"
   },
   {
    "duration": 22,
    "start_time": "2024-04-20T10:09:55.508Z"
   },
   {
    "duration": 6,
    "start_time": "2024-04-20T10:09:55.532Z"
   },
   {
    "duration": 26,
    "start_time": "2024-04-20T10:09:55.540Z"
   },
   {
    "duration": 11,
    "start_time": "2024-04-20T10:09:55.568Z"
   },
   {
    "duration": 46,
    "start_time": "2024-04-20T10:09:55.581Z"
   },
   {
    "duration": 6,
    "start_time": "2024-04-20T10:09:55.628Z"
   },
   {
    "duration": 18,
    "start_time": "2024-04-20T10:09:55.636Z"
   },
   {
    "duration": 18,
    "start_time": "2024-04-20T10:09:55.656Z"
   },
   {
    "duration": 57,
    "start_time": "2024-04-20T10:09:55.676Z"
   },
   {
    "duration": 17,
    "start_time": "2024-04-20T10:09:55.734Z"
   },
   {
    "duration": 17,
    "start_time": "2024-04-20T10:09:55.753Z"
   },
   {
    "duration": 35,
    "start_time": "2024-04-20T10:09:55.772Z"
   },
   {
    "duration": 14,
    "start_time": "2024-04-20T10:09:55.809Z"
   },
   {
    "duration": 30,
    "start_time": "2024-04-20T10:09:55.825Z"
   },
   {
    "duration": 8,
    "start_time": "2024-04-20T10:09:55.857Z"
   },
   {
    "duration": 15,
    "start_time": "2024-04-20T10:09:55.866Z"
   },
   {
    "duration": 476,
    "start_time": "2024-04-20T10:10:09.849Z"
   },
   {
    "duration": 148,
    "start_time": "2024-04-20T10:10:10.327Z"
   },
   {
    "duration": 43,
    "start_time": "2024-04-20T10:10:10.477Z"
   },
   {
    "duration": 15,
    "start_time": "2024-04-20T10:10:10.522Z"
   },
   {
    "duration": 64,
    "start_time": "2024-04-20T10:10:10.539Z"
   },
   {
    "duration": 4,
    "start_time": "2024-04-20T10:10:10.605Z"
   },
   {
    "duration": 37,
    "start_time": "2024-04-20T10:10:10.611Z"
   },
   {
    "duration": 13,
    "start_time": "2024-04-20T10:10:10.650Z"
   },
   {
    "duration": 13,
    "start_time": "2024-04-20T10:10:10.665Z"
   },
   {
    "duration": 13,
    "start_time": "2024-04-20T10:10:10.680Z"
   },
   {
    "duration": 13,
    "start_time": "2024-04-20T10:10:10.694Z"
   },
   {
    "duration": 44,
    "start_time": "2024-04-20T10:10:10.709Z"
   },
   {
    "duration": 23,
    "start_time": "2024-04-20T10:10:10.755Z"
   },
   {
    "duration": 56,
    "start_time": "2024-04-20T10:10:10.782Z"
   },
   {
    "duration": 15,
    "start_time": "2024-04-20T10:10:10.839Z"
   },
   {
    "duration": 16,
    "start_time": "2024-04-20T10:10:10.856Z"
   },
   {
    "duration": 11,
    "start_time": "2024-04-20T10:10:10.874Z"
   },
   {
    "duration": 3,
    "start_time": "2024-04-20T10:10:10.887Z"
   },
   {
    "duration": 12,
    "start_time": "2024-04-20T10:10:10.892Z"
   },
   {
    "duration": 5,
    "start_time": "2024-04-20T10:10:10.906Z"
   },
   {
    "duration": 17,
    "start_time": "2024-04-20T10:10:10.913Z"
   },
   {
    "duration": 28,
    "start_time": "2024-04-20T10:10:10.931Z"
   },
   {
    "duration": 6,
    "start_time": "2024-04-20T10:10:10.960Z"
   },
   {
    "duration": 21,
    "start_time": "2024-04-20T10:10:10.968Z"
   },
   {
    "duration": 5,
    "start_time": "2024-04-20T10:10:10.991Z"
   },
   {
    "duration": 43,
    "start_time": "2024-04-20T10:10:10.997Z"
   },
   {
    "duration": 12,
    "start_time": "2024-04-20T10:10:11.041Z"
   },
   {
    "duration": 30,
    "start_time": "2024-04-20T10:10:11.055Z"
   },
   {
    "duration": 30,
    "start_time": "2024-04-20T10:10:11.086Z"
   },
   {
    "duration": 8,
    "start_time": "2024-04-20T10:10:11.117Z"
   },
   {
    "duration": 5,
    "start_time": "2024-04-20T10:10:11.127Z"
   },
   {
    "duration": 14,
    "start_time": "2024-04-20T10:10:11.134Z"
   },
   {
    "duration": 23,
    "start_time": "2024-04-20T10:10:11.149Z"
   },
   {
    "duration": 463,
    "start_time": "2024-04-20T10:13:35.188Z"
   },
   {
    "duration": 153,
    "start_time": "2024-04-20T10:13:35.653Z"
   },
   {
    "duration": 46,
    "start_time": "2024-04-20T10:13:35.808Z"
   },
   {
    "duration": 16,
    "start_time": "2024-04-20T10:13:35.856Z"
   },
   {
    "duration": 64,
    "start_time": "2024-04-20T10:13:35.875Z"
   },
   {
    "duration": 25,
    "start_time": "2024-04-20T10:13:35.942Z"
   },
   {
    "duration": 20,
    "start_time": "2024-04-20T10:13:35.969Z"
   },
   {
    "duration": 32,
    "start_time": "2024-04-20T10:13:35.991Z"
   },
   {
    "duration": 36,
    "start_time": "2024-04-20T10:13:36.025Z"
   },
   {
    "duration": 7,
    "start_time": "2024-04-20T10:13:36.063Z"
   },
   {
    "duration": 7,
    "start_time": "2024-04-20T10:13:36.072Z"
   },
   {
    "duration": 17,
    "start_time": "2024-04-20T10:13:36.080Z"
   },
   {
    "duration": 29,
    "start_time": "2024-04-20T10:13:36.099Z"
   },
   {
    "duration": 24,
    "start_time": "2024-04-20T10:13:36.131Z"
   },
   {
    "duration": 20,
    "start_time": "2024-04-20T10:13:36.156Z"
   },
   {
    "duration": 48,
    "start_time": "2024-04-20T10:13:36.178Z"
   },
   {
    "duration": 19,
    "start_time": "2024-04-20T10:13:36.227Z"
   },
   {
    "duration": 5,
    "start_time": "2024-04-20T10:13:36.248Z"
   },
   {
    "duration": 7,
    "start_time": "2024-04-20T10:13:36.255Z"
   },
   {
    "duration": 15,
    "start_time": "2024-04-20T10:13:36.263Z"
   },
   {
    "duration": 53,
    "start_time": "2024-04-20T10:13:36.280Z"
   },
   {
    "duration": 39,
    "start_time": "2024-04-20T10:13:36.335Z"
   },
   {
    "duration": 7,
    "start_time": "2024-04-20T10:13:36.375Z"
   },
   {
    "duration": 90,
    "start_time": "2024-04-20T10:13:36.383Z"
   },
   {
    "duration": 18,
    "start_time": "2024-04-20T10:13:36.474Z"
   },
   {
    "duration": 58,
    "start_time": "2024-04-20T10:13:36.493Z"
   },
   {
    "duration": 5,
    "start_time": "2024-04-20T10:13:36.553Z"
   },
   {
    "duration": 35,
    "start_time": "2024-04-20T10:13:36.559Z"
   },
   {
    "duration": 13,
    "start_time": "2024-04-20T10:13:36.596Z"
   },
   {
    "duration": 17,
    "start_time": "2024-04-20T10:13:36.611Z"
   },
   {
    "duration": 7,
    "start_time": "2024-04-20T10:13:36.629Z"
   },
   {
    "duration": 7,
    "start_time": "2024-04-20T10:13:36.638Z"
   },
   {
    "duration": 21,
    "start_time": "2024-04-20T10:13:36.646Z"
   },
   {
    "duration": 39,
    "start_time": "2024-04-20T10:13:36.669Z"
   },
   {
    "duration": 38,
    "start_time": "2024-04-20T10:14:29.929Z"
   },
   {
    "duration": 29,
    "start_time": "2024-04-20T10:15:32.897Z"
   },
   {
    "duration": 500,
    "start_time": "2024-04-20T10:18:09.459Z"
   },
   {
    "duration": 151,
    "start_time": "2024-04-20T10:18:09.961Z"
   },
   {
    "duration": 47,
    "start_time": "2024-04-20T10:18:10.114Z"
   },
   {
    "duration": 16,
    "start_time": "2024-04-20T10:18:10.163Z"
   },
   {
    "duration": 65,
    "start_time": "2024-04-20T10:18:10.182Z"
   },
   {
    "duration": 5,
    "start_time": "2024-04-20T10:18:10.248Z"
   },
   {
    "duration": 14,
    "start_time": "2024-04-20T10:18:10.255Z"
   },
   {
    "duration": 11,
    "start_time": "2024-04-20T10:18:10.270Z"
   },
   {
    "duration": 9,
    "start_time": "2024-04-20T10:18:10.283Z"
   },
   {
    "duration": 5,
    "start_time": "2024-04-20T10:18:10.293Z"
   },
   {
    "duration": 34,
    "start_time": "2024-04-20T10:18:10.299Z"
   },
   {
    "duration": 22,
    "start_time": "2024-04-20T10:18:10.334Z"
   },
   {
    "duration": 11,
    "start_time": "2024-04-20T10:18:10.357Z"
   },
   {
    "duration": 21,
    "start_time": "2024-04-20T10:18:10.371Z"
   },
   {
    "duration": 7,
    "start_time": "2024-04-20T10:18:10.394Z"
   },
   {
    "duration": 5,
    "start_time": "2024-04-20T10:18:10.403Z"
   },
   {
    "duration": 12,
    "start_time": "2024-04-20T10:18:10.410Z"
   },
   {
    "duration": 4,
    "start_time": "2024-04-20T10:18:10.424Z"
   },
   {
    "duration": 6,
    "start_time": "2024-04-20T10:18:10.429Z"
   },
   {
    "duration": 20,
    "start_time": "2024-04-20T10:18:10.437Z"
   },
   {
    "duration": 13,
    "start_time": "2024-04-20T10:18:10.459Z"
   },
   {
    "duration": 25,
    "start_time": "2024-04-20T10:18:10.474Z"
   },
   {
    "duration": 8,
    "start_time": "2024-04-20T10:18:10.500Z"
   },
   {
    "duration": 29,
    "start_time": "2024-04-20T10:18:10.509Z"
   },
   {
    "duration": 15,
    "start_time": "2024-04-20T10:18:10.540Z"
   },
   {
    "duration": 20,
    "start_time": "2024-04-20T10:18:10.557Z"
   },
   {
    "duration": 7,
    "start_time": "2024-04-20T10:18:10.578Z"
   },
   {
    "duration": 8,
    "start_time": "2024-04-20T10:18:10.586Z"
   },
   {
    "duration": 9,
    "start_time": "2024-04-20T10:18:10.595Z"
   },
   {
    "duration": 24,
    "start_time": "2024-04-20T10:18:10.606Z"
   },
   {
    "duration": 6,
    "start_time": "2024-04-20T10:18:10.632Z"
   },
   {
    "duration": 17,
    "start_time": "2024-04-20T10:18:10.639Z"
   },
   {
    "duration": 13,
    "start_time": "2024-04-20T10:18:10.658Z"
   },
   {
    "duration": 10,
    "start_time": "2024-04-20T10:18:10.672Z"
   },
   {
    "duration": 57,
    "start_time": "2024-04-20T10:18:10.684Z"
   },
   {
    "duration": 5,
    "start_time": "2024-04-20T10:19:24.665Z"
   },
   {
    "duration": 6,
    "start_time": "2024-04-20T10:20:09.608Z"
   },
   {
    "duration": 51,
    "start_time": "2024-04-20T10:27:39.588Z"
   },
   {
    "duration": 66,
    "start_time": "2024-04-20T10:31:15.004Z"
   },
   {
    "duration": 4,
    "start_time": "2024-04-20T11:21:04.618Z"
   },
   {
    "duration": 3,
    "start_time": "2024-04-20T11:21:10.866Z"
   },
   {
    "duration": 39,
    "start_time": "2024-04-20T11:26:55.292Z"
   },
   {
    "duration": 22,
    "start_time": "2024-04-20T11:29:29.549Z"
   },
   {
    "duration": 473,
    "start_time": "2024-04-20T11:30:43.422Z"
   },
   {
    "duration": 62,
    "start_time": "2024-04-20T14:09:00.238Z"
   },
   {
    "duration": 22,
    "start_time": "2024-04-20T14:09:15.381Z"
   },
   {
    "duration": 27,
    "start_time": "2024-04-20T14:09:38.685Z"
   },
   {
    "duration": 16,
    "start_time": "2024-04-20T14:09:55.041Z"
   },
   {
    "duration": 139,
    "start_time": "2024-04-20T14:10:09.297Z"
   },
   {
    "duration": 202,
    "start_time": "2024-04-20T14:10:13.868Z"
   },
   {
    "duration": 130,
    "start_time": "2024-04-20T14:10:38.864Z"
   },
   {
    "duration": 170,
    "start_time": "2024-04-20T14:10:45.578Z"
   },
   {
    "duration": 149,
    "start_time": "2024-04-20T14:10:54.094Z"
   },
   {
    "duration": 822,
    "start_time": "2024-04-20T14:11:19.668Z"
   },
   {
    "duration": 155,
    "start_time": "2024-04-20T14:11:56.235Z"
   },
   {
    "duration": 155,
    "start_time": "2024-04-20T14:12:07.230Z"
   },
   {
    "duration": 12,
    "start_time": "2024-04-20T15:08:50.282Z"
   },
   {
    "duration": 13,
    "start_time": "2024-04-20T15:08:58.859Z"
   },
   {
    "duration": 11,
    "start_time": "2024-04-20T15:09:13.512Z"
   },
   {
    "duration": 8,
    "start_time": "2024-04-20T15:09:16.622Z"
   },
   {
    "duration": 11,
    "start_time": "2024-04-20T15:09:44.269Z"
   },
   {
    "duration": 10,
    "start_time": "2024-04-20T15:11:03.337Z"
   },
   {
    "duration": 51,
    "start_time": "2024-04-20T15:11:52.699Z"
   },
   {
    "duration": 7,
    "start_time": "2024-04-20T15:12:01.839Z"
   },
   {
    "duration": 7,
    "start_time": "2024-04-20T15:12:12.020Z"
   },
   {
    "duration": 19,
    "start_time": "2024-04-20T15:24:04.634Z"
   },
   {
    "duration": 16,
    "start_time": "2024-04-20T15:24:10.931Z"
   },
   {
    "duration": 22,
    "start_time": "2024-04-20T15:25:28.714Z"
   },
   {
    "duration": 25,
    "start_time": "2024-04-20T15:26:38.472Z"
   },
   {
    "duration": 22,
    "start_time": "2024-04-20T15:27:08.627Z"
   },
   {
    "duration": 29,
    "start_time": "2024-04-20T15:27:47.205Z"
   },
   {
    "duration": 23,
    "start_time": "2024-04-20T15:28:09.219Z"
   },
   {
    "duration": 5,
    "start_time": "2024-04-20T15:28:22.180Z"
   },
   {
    "duration": 24,
    "start_time": "2024-04-20T15:28:38.317Z"
   },
   {
    "duration": 23,
    "start_time": "2024-04-20T15:28:47.984Z"
   },
   {
    "duration": 23,
    "start_time": "2024-04-20T15:28:52.303Z"
   },
   {
    "duration": 27,
    "start_time": "2024-04-20T15:28:56.531Z"
   },
   {
    "duration": 23,
    "start_time": "2024-04-20T15:29:58.293Z"
   },
   {
    "duration": 188,
    "start_time": "2024-04-20T15:30:24.416Z"
   },
   {
    "duration": 26,
    "start_time": "2024-04-20T15:30:40.675Z"
   },
   {
    "duration": 150,
    "start_time": "2024-04-20T15:30:51.645Z"
   },
   {
    "duration": 148,
    "start_time": "2024-04-20T15:30:57.917Z"
   },
   {
    "duration": 171,
    "start_time": "2024-04-20T15:31:23.002Z"
   },
   {
    "duration": 28,
    "start_time": "2024-04-20T15:31:57.557Z"
   },
   {
    "duration": 136,
    "start_time": "2024-04-20T15:32:11.214Z"
   },
   {
    "duration": 21,
    "start_time": "2024-04-20T15:32:19.901Z"
   },
   {
    "duration": 26,
    "start_time": "2024-04-20T15:32:50.611Z"
   },
   {
    "duration": 1984,
    "start_time": "2024-04-20T15:33:34.528Z"
   },
   {
    "duration": 28,
    "start_time": "2024-04-20T15:33:48.604Z"
   },
   {
    "duration": 10,
    "start_time": "2024-04-20T15:34:06.938Z"
   },
   {
    "duration": 8,
    "start_time": "2024-04-20T15:34:15.780Z"
   },
   {
    "duration": 265,
    "start_time": "2024-04-20T15:41:28.994Z"
   },
   {
    "duration": 30,
    "start_time": "2024-04-20T15:41:44.157Z"
   },
   {
    "duration": 146,
    "start_time": "2024-04-20T15:42:17.555Z"
   },
   {
    "duration": 3,
    "start_time": "2024-04-20T15:43:40.629Z"
   },
   {
    "duration": 8,
    "start_time": "2024-04-20T15:49:29.631Z"
   },
   {
    "duration": 15,
    "start_time": "2024-04-20T15:49:44.746Z"
   },
   {
    "duration": 17,
    "start_time": "2024-04-20T15:50:34.635Z"
   },
   {
    "duration": 15,
    "start_time": "2024-04-20T15:51:37.931Z"
   },
   {
    "duration": 16,
    "start_time": "2024-04-20T15:51:44.300Z"
   },
   {
    "duration": 16,
    "start_time": "2024-04-20T15:51:59.129Z"
   },
   {
    "duration": 16,
    "start_time": "2024-04-20T15:52:08.946Z"
   },
   {
    "duration": 4,
    "start_time": "2024-04-20T15:54:01.611Z"
   },
   {
    "duration": 14,
    "start_time": "2024-04-20T15:54:19.484Z"
   },
   {
    "duration": 153,
    "start_time": "2024-04-20T15:57:12.143Z"
   },
   {
    "duration": 160,
    "start_time": "2024-04-20T15:57:52.901Z"
   },
   {
    "duration": 152,
    "start_time": "2024-04-20T15:58:18.062Z"
   },
   {
    "duration": 5,
    "start_time": "2024-04-20T15:59:00.904Z"
   },
   {
    "duration": 168,
    "start_time": "2024-04-20T15:59:03.963Z"
   },
   {
    "duration": 761,
    "start_time": "2024-04-20T15:59:54.723Z"
   },
   {
    "duration": 168,
    "start_time": "2024-04-20T16:00:04.698Z"
   },
   {
    "duration": 159,
    "start_time": "2024-04-20T16:01:17.047Z"
   },
   {
    "duration": 158,
    "start_time": "2024-04-20T16:01:46.531Z"
   },
   {
    "duration": 12,
    "start_time": "2024-04-20T16:02:50.514Z"
   },
   {
    "duration": 16,
    "start_time": "2024-04-20T16:04:26.483Z"
   },
   {
    "duration": 19,
    "start_time": "2024-04-20T16:05:56.652Z"
   },
   {
    "duration": 15,
    "start_time": "2024-04-20T16:06:22.252Z"
   },
   {
    "duration": 34,
    "start_time": "2024-04-20T16:08:03.066Z"
   },
   {
    "duration": 21,
    "start_time": "2024-04-20T16:08:11.428Z"
   },
   {
    "duration": 34,
    "start_time": "2024-04-20T16:09:31.600Z"
   },
   {
    "duration": 23,
    "start_time": "2024-04-20T16:13:07.837Z"
   },
   {
    "duration": 171,
    "start_time": "2024-04-20T16:13:48.287Z"
   },
   {
    "duration": 201,
    "start_time": "2024-04-20T16:14:01.522Z"
   },
   {
    "duration": 149,
    "start_time": "2024-04-20T16:16:13.116Z"
   },
   {
    "duration": 24,
    "start_time": "2024-04-20T20:36:31.672Z"
   },
   {
    "duration": 53,
    "start_time": "2024-04-20T20:36:52.176Z"
   },
   {
    "duration": 23,
    "start_time": "2024-04-20T20:37:00.389Z"
   },
   {
    "duration": 24,
    "start_time": "2024-04-20T20:37:10.512Z"
   },
   {
    "duration": 21,
    "start_time": "2024-04-20T20:37:14.613Z"
   },
   {
    "duration": 300,
    "start_time": "2024-04-20T20:37:35.758Z"
   },
   {
    "duration": 284,
    "start_time": "2024-04-20T20:37:48.744Z"
   },
   {
    "duration": 981,
    "start_time": "2024-04-20T20:38:13.454Z"
   },
   {
    "duration": 1138,
    "start_time": "2024-04-20T20:38:25.209Z"
   },
   {
    "duration": 628,
    "start_time": "2024-04-20T20:38:39.851Z"
   },
   {
    "duration": 226,
    "start_time": "2024-04-20T20:38:47.281Z"
   },
   {
    "duration": 250,
    "start_time": "2024-04-20T20:39:43.578Z"
   },
   {
    "duration": 279,
    "start_time": "2024-04-20T20:39:57.068Z"
   },
   {
    "duration": 303,
    "start_time": "2024-04-20T20:40:03.279Z"
   },
   {
    "duration": 23,
    "start_time": "2024-04-20T20:40:34.781Z"
   },
   {
    "duration": 43,
    "start_time": "2024-04-20T20:50:25.018Z"
   },
   {
    "duration": 40,
    "start_time": "2024-04-20T20:51:25.901Z"
   },
   {
    "duration": 51,
    "start_time": "2024-04-20T20:51:42.141Z"
   },
   {
    "duration": 42,
    "start_time": "2024-04-20T20:52:49.693Z"
   },
   {
    "duration": 956,
    "start_time": "2024-04-20T20:54:27.710Z"
   },
   {
    "duration": 8,
    "start_time": "2024-04-20T20:54:53.731Z"
   },
   {
    "duration": 65,
    "start_time": "2024-04-22T18:46:39.952Z"
   },
   {
    "duration": 488,
    "start_time": "2024-04-22T18:46:53.325Z"
   },
   {
    "duration": 415,
    "start_time": "2024-04-22T18:46:53.815Z"
   },
   {
    "duration": 48,
    "start_time": "2024-04-22T18:46:54.231Z"
   },
   {
    "duration": 23,
    "start_time": "2024-04-22T18:46:54.281Z"
   },
   {
    "duration": 85,
    "start_time": "2024-04-22T18:46:54.307Z"
   },
   {
    "duration": 5,
    "start_time": "2024-04-22T18:46:54.394Z"
   },
   {
    "duration": 19,
    "start_time": "2024-04-22T18:46:54.400Z"
   },
   {
    "duration": 13,
    "start_time": "2024-04-22T18:46:54.421Z"
   },
   {
    "duration": 10,
    "start_time": "2024-04-22T18:46:54.436Z"
   },
   {
    "duration": 7,
    "start_time": "2024-04-22T18:46:54.469Z"
   },
   {
    "duration": 7,
    "start_time": "2024-04-22T18:46:54.478Z"
   },
   {
    "duration": 8,
    "start_time": "2024-04-22T18:46:54.486Z"
   },
   {
    "duration": 6,
    "start_time": "2024-04-22T18:46:54.496Z"
   },
   {
    "duration": 5,
    "start_time": "2024-04-22T18:46:54.505Z"
   },
   {
    "duration": 11,
    "start_time": "2024-04-22T18:46:54.512Z"
   },
   {
    "duration": 4,
    "start_time": "2024-04-22T18:46:54.524Z"
   },
   {
    "duration": 16,
    "start_time": "2024-04-22T18:46:54.572Z"
   },
   {
    "duration": 5,
    "start_time": "2024-04-22T18:46:54.596Z"
   },
   {
    "duration": 6,
    "start_time": "2024-04-22T18:46:54.603Z"
   },
   {
    "duration": 15,
    "start_time": "2024-04-22T18:46:54.611Z"
   },
   {
    "duration": 15,
    "start_time": "2024-04-22T18:46:54.627Z"
   },
   {
    "duration": 37,
    "start_time": "2024-04-22T18:46:54.644Z"
   },
   {
    "duration": 7,
    "start_time": "2024-04-22T18:46:54.683Z"
   },
   {
    "duration": 24,
    "start_time": "2024-04-22T18:46:54.692Z"
   },
   {
    "duration": 5,
    "start_time": "2024-04-22T18:46:54.718Z"
   },
   {
    "duration": 57,
    "start_time": "2024-04-22T18:46:54.725Z"
   },
   {
    "duration": 5,
    "start_time": "2024-04-22T18:46:54.784Z"
   },
   {
    "duration": 7,
    "start_time": "2024-04-22T18:46:54.793Z"
   },
   {
    "duration": 8,
    "start_time": "2024-04-22T18:46:54.802Z"
   },
   {
    "duration": 6,
    "start_time": "2024-04-22T18:46:54.811Z"
   },
   {
    "duration": 5,
    "start_time": "2024-04-22T18:46:54.818Z"
   },
   {
    "duration": 8,
    "start_time": "2024-04-22T18:46:54.825Z"
   },
   {
    "duration": 39,
    "start_time": "2024-04-22T18:46:54.835Z"
   },
   {
    "duration": 15,
    "start_time": "2024-04-22T18:46:54.876Z"
   },
   {
    "duration": 42,
    "start_time": "2024-04-22T18:46:54.892Z"
   },
   {
    "duration": 6,
    "start_time": "2024-04-22T18:46:54.936Z"
   },
   {
    "duration": 43,
    "start_time": "2024-04-22T18:46:54.944Z"
   },
   {
    "duration": 53,
    "start_time": "2024-04-22T18:46:54.989Z"
   },
   {
    "duration": 4,
    "start_time": "2024-04-22T18:46:55.044Z"
   },
   {
    "duration": 601,
    "start_time": "2024-04-22T18:46:55.050Z"
   },
   {
    "duration": 26,
    "start_time": "2024-04-22T18:46:55.653Z"
   },
   {
    "duration": 7,
    "start_time": "2024-04-22T18:46:55.681Z"
   },
   {
    "duration": 32,
    "start_time": "2024-04-22T18:46:55.690Z"
   },
   {
    "duration": 4,
    "start_time": "2024-04-22T18:46:55.724Z"
   },
   {
    "duration": 41,
    "start_time": "2024-04-22T18:46:55.730Z"
   },
   {
    "duration": 178,
    "start_time": "2024-04-22T18:46:55.773Z"
   },
   {
    "duration": 40,
    "start_time": "2024-04-22T18:46:55.953Z"
   },
   {
    "duration": 307,
    "start_time": "2024-04-22T18:46:55.996Z"
   },
   {
    "duration": 44,
    "start_time": "2024-04-22T18:46:56.305Z"
   },
   {
    "duration": 414,
    "start_time": "2024-04-22T18:46:56.351Z"
   },
   {
    "duration": 12,
    "start_time": "2024-04-22T18:46:56.767Z"
   },
   {
    "duration": 78,
    "start_time": "2024-04-22T18:49:48.976Z"
   },
   {
    "duration": 8,
    "start_time": "2024-04-22T18:50:43.040Z"
   },
   {
    "duration": 7,
    "start_time": "2024-04-22T18:51:07.244Z"
   },
   {
    "duration": 6,
    "start_time": "2024-04-22T18:53:08.758Z"
   },
   {
    "duration": 6,
    "start_time": "2024-04-22T18:54:03.023Z"
   },
   {
    "duration": 7,
    "start_time": "2024-04-22T18:55:48.071Z"
   },
   {
    "duration": 86,
    "start_time": "2024-04-22T18:58:03.320Z"
   },
   {
    "duration": 85,
    "start_time": "2024-04-22T18:59:33.337Z"
   },
   {
    "duration": 5,
    "start_time": "2024-04-22T19:00:54.702Z"
   },
   {
    "duration": 5,
    "start_time": "2024-04-22T19:01:03.834Z"
   },
   {
    "duration": 5,
    "start_time": "2024-04-22T19:03:29.566Z"
   },
   {
    "duration": 5,
    "start_time": "2024-04-22T19:04:23.080Z"
   },
   {
    "duration": 6,
    "start_time": "2024-04-22T19:04:48.567Z"
   },
   {
    "duration": 4,
    "start_time": "2024-04-22T19:05:02.231Z"
   },
   {
    "duration": 5,
    "start_time": "2024-04-22T19:05:04.183Z"
   },
   {
    "duration": 7,
    "start_time": "2024-04-22T19:06:01.544Z"
   },
   {
    "duration": 7,
    "start_time": "2024-04-22T19:06:10.544Z"
   },
   {
    "duration": 5,
    "start_time": "2024-04-22T19:07:09.339Z"
   },
   {
    "duration": 4,
    "start_time": "2024-04-22T19:07:38.635Z"
   },
   {
    "duration": 4,
    "start_time": "2024-04-22T19:09:36.417Z"
   },
   {
    "duration": 109,
    "start_time": "2024-04-22T19:10:44.547Z"
   },
   {
    "duration": 13,
    "start_time": "2024-04-22T19:10:50.679Z"
   },
   {
    "duration": 4,
    "start_time": "2024-04-22T19:11:07.832Z"
   },
   {
    "duration": 8,
    "start_time": "2024-04-22T19:14:14.102Z"
   },
   {
    "duration": 10,
    "start_time": "2024-04-22T19:16:22.438Z"
   },
   {
    "duration": 12,
    "start_time": "2024-04-22T19:16:36.795Z"
   },
   {
    "duration": 8,
    "start_time": "2024-04-22T19:16:44.494Z"
   },
   {
    "duration": 10,
    "start_time": "2024-04-22T19:19:05.414Z"
   },
   {
    "duration": 135,
    "start_time": "2024-04-22T19:19:26.496Z"
   },
   {
    "duration": 249,
    "start_time": "2024-04-22T19:19:33.788Z"
   },
   {
    "duration": 187,
    "start_time": "2024-04-22T19:20:07.063Z"
   },
   {
    "duration": 137,
    "start_time": "2024-04-22T19:20:11.716Z"
   },
   {
    "duration": 245,
    "start_time": "2024-04-22T19:20:18.177Z"
   },
   {
    "duration": 101,
    "start_time": "2024-04-22T19:21:08.879Z"
   },
   {
    "duration": 8,
    "start_time": "2024-04-22T19:21:52.074Z"
   },
   {
    "duration": 9,
    "start_time": "2024-04-22T19:22:49.111Z"
   },
   {
    "duration": 9,
    "start_time": "2024-04-22T19:22:57.698Z"
   },
   {
    "duration": 10,
    "start_time": "2024-04-22T19:23:12.362Z"
   },
   {
    "duration": 516,
    "start_time": "2024-04-22T19:25:10.463Z"
   },
   {
    "duration": 525,
    "start_time": "2024-04-22T19:25:43.031Z"
   },
   {
    "duration": 9,
    "start_time": "2024-04-22T19:27:28.663Z"
   },
   {
    "duration": 10,
    "start_time": "2024-04-22T19:27:46.752Z"
   },
   {
    "duration": 13,
    "start_time": "2024-04-22T19:28:25.095Z"
   },
   {
    "duration": 10,
    "start_time": "2024-04-22T19:28:34.439Z"
   },
   {
    "duration": 9,
    "start_time": "2024-04-22T19:28:37.840Z"
   },
   {
    "duration": 261,
    "start_time": "2024-04-22T19:29:15.004Z"
   },
   {
    "duration": 127,
    "start_time": "2024-04-22T19:29:52.809Z"
   },
   {
    "duration": 126,
    "start_time": "2024-04-22T19:30:08.362Z"
   },
   {
    "duration": 11,
    "start_time": "2024-04-22T19:33:14.265Z"
   },
   {
    "duration": 5,
    "start_time": "2024-04-22T19:33:25.539Z"
   },
   {
    "duration": 6,
    "start_time": "2024-04-22T19:33:39.285Z"
   },
   {
    "duration": 8,
    "start_time": "2024-04-22T19:36:33.642Z"
   },
   {
    "duration": 88,
    "start_time": "2024-04-22T19:47:21.960Z"
   },
   {
    "duration": 6,
    "start_time": "2024-04-22T19:47:46.678Z"
   },
   {
    "duration": 10,
    "start_time": "2024-04-22T19:48:57.468Z"
   },
   {
    "duration": 11,
    "start_time": "2024-04-22T19:52:40.713Z"
   },
   {
    "duration": 6,
    "start_time": "2024-04-22T19:55:55.246Z"
   },
   {
    "duration": 107,
    "start_time": "2024-04-22T19:56:57.167Z"
   },
   {
    "duration": 15,
    "start_time": "2024-04-22T19:57:08.622Z"
   },
   {
    "duration": 215,
    "start_time": "2024-04-22T19:57:15.348Z"
   },
   {
    "duration": 210,
    "start_time": "2024-04-22T19:57:23.513Z"
   },
   {
    "duration": 153,
    "start_time": "2024-04-22T19:57:28.793Z"
   },
   {
    "duration": 13,
    "start_time": "2024-04-22T20:00:29.645Z"
   },
   {
    "duration": 13,
    "start_time": "2024-04-22T20:00:52.047Z"
   },
   {
    "duration": 12,
    "start_time": "2024-04-22T20:01:04.495Z"
   },
   {
    "duration": 16,
    "start_time": "2024-04-22T20:01:25.874Z"
   },
   {
    "duration": 21,
    "start_time": "2024-04-22T20:01:49.531Z"
   },
   {
    "duration": 41,
    "start_time": "2024-04-22T20:02:53.032Z"
   },
   {
    "duration": 18,
    "start_time": "2024-04-22T20:03:14.514Z"
   },
   {
    "duration": 98,
    "start_time": "2024-04-22T20:04:15.914Z"
   },
   {
    "duration": 18,
    "start_time": "2024-04-22T20:04:41.773Z"
   },
   {
    "duration": 28,
    "start_time": "2024-04-22T20:05:08.609Z"
   },
   {
    "duration": 19,
    "start_time": "2024-04-22T20:06:17.173Z"
   },
   {
    "duration": 18,
    "start_time": "2024-04-22T20:06:46.461Z"
   },
   {
    "duration": 21,
    "start_time": "2024-04-22T20:06:55.383Z"
   },
   {
    "duration": 19,
    "start_time": "2024-04-22T20:07:02.110Z"
   },
   {
    "duration": 153,
    "start_time": "2024-04-22T20:07:46.678Z"
   },
   {
    "duration": 231,
    "start_time": "2024-04-22T20:08:10.196Z"
   },
   {
    "duration": 155,
    "start_time": "2024-04-22T20:08:21.981Z"
   },
   {
    "duration": 178,
    "start_time": "2024-04-22T20:08:38.791Z"
   },
   {
    "duration": 191,
    "start_time": "2024-04-22T20:08:46.765Z"
   },
   {
    "duration": 207,
    "start_time": "2024-04-22T20:09:11.862Z"
   },
   {
    "duration": 191,
    "start_time": "2024-04-22T20:09:18.471Z"
   },
   {
    "duration": 219,
    "start_time": "2024-04-22T20:09:52.380Z"
   },
   {
    "duration": 210,
    "start_time": "2024-04-22T20:10:00.903Z"
   },
   {
    "duration": 1213,
    "start_time": "2024-04-22T20:10:13.454Z"
   },
   {
    "duration": 186,
    "start_time": "2024-04-22T20:10:26.041Z"
   },
   {
    "duration": 248,
    "start_time": "2024-04-22T20:14:08.320Z"
   },
   {
    "duration": 603,
    "start_time": "2024-04-22T20:14:17.605Z"
   },
   {
    "duration": 1443,
    "start_time": "2024-04-22T20:14:30.645Z"
   },
   {
    "duration": 1427,
    "start_time": "2024-04-22T20:14:40.095Z"
   },
   {
    "duration": 1288,
    "start_time": "2024-04-22T20:14:45.700Z"
   },
   {
    "duration": 1364,
    "start_time": "2024-04-22T20:14:57.979Z"
   },
   {
    "duration": 1357,
    "start_time": "2024-04-22T20:15:16.109Z"
   },
   {
    "duration": 436,
    "start_time": "2024-04-22T20:15:21.149Z"
   },
   {
    "duration": 236,
    "start_time": "2024-04-22T20:17:00.975Z"
   },
   {
    "duration": 345,
    "start_time": "2024-04-22T20:17:56.086Z"
   },
   {
    "duration": 356,
    "start_time": "2024-04-22T20:18:09.855Z"
   },
   {
    "duration": 433,
    "start_time": "2024-04-22T20:18:17.215Z"
   },
   {
    "duration": 19,
    "start_time": "2024-04-22T20:22:11.812Z"
   },
   {
    "duration": 12,
    "start_time": "2024-04-22T20:23:40.927Z"
   },
   {
    "duration": 13,
    "start_time": "2024-04-22T20:23:58.816Z"
   },
   {
    "duration": 12,
    "start_time": "2024-04-22T20:24:15.430Z"
   },
   {
    "duration": 11,
    "start_time": "2024-04-22T20:26:13.639Z"
   },
   {
    "duration": 17,
    "start_time": "2024-04-22T20:26:50.007Z"
   },
   {
    "duration": 242,
    "start_time": "2024-04-22T20:27:49.082Z"
   },
   {
    "duration": 180,
    "start_time": "2024-04-22T20:27:59.765Z"
   },
   {
    "duration": 154,
    "start_time": "2024-04-22T20:28:11.554Z"
   },
   {
    "duration": 148,
    "start_time": "2024-04-22T20:29:37.887Z"
   },
   {
    "duration": 128,
    "start_time": "2024-04-22T20:29:49.994Z"
   },
   {
    "duration": 163,
    "start_time": "2024-04-22T20:30:48.531Z"
   },
   {
    "duration": 23,
    "start_time": "2024-04-22T20:37:51.014Z"
   },
   {
    "duration": 11,
    "start_time": "2024-04-22T20:38:51.508Z"
   },
   {
    "duration": 14,
    "start_time": "2024-04-22T20:39:04.629Z"
   },
   {
    "duration": 24,
    "start_time": "2024-04-22T20:39:16.066Z"
   },
   {
    "duration": 15,
    "start_time": "2024-04-22T20:40:27.380Z"
   },
   {
    "duration": 18,
    "start_time": "2024-04-22T20:40:43.422Z"
   },
   {
    "duration": 13,
    "start_time": "2024-04-22T20:41:00.782Z"
   },
   {
    "duration": 16,
    "start_time": "2024-04-22T20:41:21.283Z"
   },
   {
    "duration": 15,
    "start_time": "2024-04-22T20:42:39.243Z"
   },
   {
    "duration": 16,
    "start_time": "2024-04-22T20:43:22.440Z"
   },
   {
    "duration": 304,
    "start_time": "2024-04-22T20:43:51.193Z"
   },
   {
    "duration": 264,
    "start_time": "2024-04-22T20:44:01.012Z"
   },
   {
    "duration": 284,
    "start_time": "2024-04-22T20:44:06.418Z"
   },
   {
    "duration": 260,
    "start_time": "2024-04-22T20:44:20.921Z"
   },
   {
    "duration": 302,
    "start_time": "2024-04-22T20:44:32.174Z"
   },
   {
    "duration": 189,
    "start_time": "2024-04-22T20:44:58.085Z"
   },
   {
    "duration": 170,
    "start_time": "2024-04-22T20:45:04.505Z"
   },
   {
    "duration": 161,
    "start_time": "2024-04-22T20:45:24.998Z"
   },
   {
    "duration": 328,
    "start_time": "2024-04-22T20:45:37.056Z"
   },
   {
    "duration": 43,
    "start_time": "2024-04-22T20:53:21.658Z"
   },
   {
    "duration": 334,
    "start_time": "2024-04-22T20:54:27.018Z"
   },
   {
    "duration": 372,
    "start_time": "2024-04-22T20:54:35.571Z"
   },
   {
    "duration": 167,
    "start_time": "2024-04-22T20:54:45.750Z"
   },
   {
    "duration": 144,
    "start_time": "2024-04-22T20:55:27.948Z"
   },
   {
    "duration": 205,
    "start_time": "2024-04-22T20:56:01.061Z"
   },
   {
    "duration": 171,
    "start_time": "2024-04-22T20:56:16.687Z"
   },
   {
    "duration": 175,
    "start_time": "2024-04-22T20:56:27.628Z"
   },
   {
    "duration": 173,
    "start_time": "2024-04-22T20:56:34.816Z"
   },
   {
    "duration": 160,
    "start_time": "2024-04-22T20:56:40.786Z"
   },
   {
    "duration": 162,
    "start_time": "2024-04-22T20:56:50.782Z"
   },
   {
    "duration": 166,
    "start_time": "2024-04-22T20:56:57.868Z"
   },
   {
    "duration": 170,
    "start_time": "2024-04-22T20:57:07.080Z"
   },
   {
    "duration": 192,
    "start_time": "2024-04-22T20:57:12.134Z"
   },
   {
    "duration": 175,
    "start_time": "2024-04-22T20:57:18.597Z"
   },
   {
    "duration": 203,
    "start_time": "2024-04-22T20:57:28.038Z"
   },
   {
    "duration": 235,
    "start_time": "2024-04-22T20:57:46.781Z"
   },
   {
    "duration": 312,
    "start_time": "2024-04-22T20:57:51.531Z"
   },
   {
    "duration": 321,
    "start_time": "2024-04-22T20:57:58.422Z"
   },
   {
    "duration": 4,
    "start_time": "2024-04-22T22:01:11.421Z"
   },
   {
    "duration": 141,
    "start_time": "2024-04-22T22:01:13.383Z"
   },
   {
    "duration": 3,
    "start_time": "2024-04-22T22:13:45.538Z"
   },
   {
    "duration": 148,
    "start_time": "2024-04-22T22:13:46.089Z"
   },
   {
    "duration": 34,
    "start_time": "2024-04-22T22:13:49.542Z"
   },
   {
    "duration": 10,
    "start_time": "2024-04-22T22:13:54.634Z"
   },
   {
    "duration": 5,
    "start_time": "2024-04-22T22:13:56.718Z"
   },
   {
    "duration": 10,
    "start_time": "2024-04-22T22:13:58.981Z"
   },
   {
    "duration": 15,
    "start_time": "2024-04-22T22:14:02.755Z"
   },
   {
    "duration": 10,
    "start_time": "2024-04-22T22:14:14.065Z"
   },
   {
    "duration": 16,
    "start_time": "2024-04-22T22:16:10.047Z"
   },
   {
    "duration": 7,
    "start_time": "2024-04-22T22:18:03.572Z"
   },
   {
    "duration": 6,
    "start_time": "2024-04-22T22:18:50.468Z"
   },
   {
    "duration": 4,
    "start_time": "2024-04-22T22:18:54.667Z"
   },
   {
    "duration": 5,
    "start_time": "2024-04-22T22:19:10.042Z"
   },
   {
    "duration": 3,
    "start_time": "2024-04-22T22:19:14.234Z"
   },
   {
    "duration": 141,
    "start_time": "2024-04-22T22:19:14.426Z"
   },
   {
    "duration": 33,
    "start_time": "2024-04-22T22:19:14.842Z"
   },
   {
    "duration": 15,
    "start_time": "2024-04-22T22:19:15.778Z"
   },
   {
    "duration": 11,
    "start_time": "2024-04-22T22:19:16.150Z"
   },
   {
    "duration": 4,
    "start_time": "2024-04-22T22:19:16.694Z"
   },
   {
    "duration": 8,
    "start_time": "2024-04-22T22:19:17.319Z"
   },
   {
    "duration": 10,
    "start_time": "2024-04-22T22:19:17.601Z"
   },
   {
    "duration": 11,
    "start_time": "2024-04-22T22:19:19.506Z"
   },
   {
    "duration": 6,
    "start_time": "2024-04-22T22:19:21.181Z"
   },
   {
    "duration": 5,
    "start_time": "2024-04-22T22:19:22.263Z"
   },
   {
    "duration": 4,
    "start_time": "2024-04-22T22:19:23.522Z"
   },
   {
    "duration": 4,
    "start_time": "2024-04-22T22:20:34.392Z"
   },
   {
    "duration": 136,
    "start_time": "2024-04-22T22:20:50.129Z"
   },
   {
    "duration": 37,
    "start_time": "2024-04-22T22:20:50.475Z"
   },
   {
    "duration": 16,
    "start_time": "2024-04-22T22:20:51.886Z"
   },
   {
    "duration": 9,
    "start_time": "2024-04-22T22:20:52.216Z"
   },
   {
    "duration": 5,
    "start_time": "2024-04-22T22:20:52.553Z"
   },
   {
    "duration": 9,
    "start_time": "2024-04-22T22:20:52.902Z"
   },
   {
    "duration": 9,
    "start_time": "2024-04-22T22:20:53.130Z"
   },
   {
    "duration": 9,
    "start_time": "2024-04-22T22:20:53.650Z"
   },
   {
    "duration": 7,
    "start_time": "2024-04-22T22:20:55.312Z"
   },
   {
    "duration": 5,
    "start_time": "2024-04-22T22:20:57.897Z"
   },
   {
    "duration": 4,
    "start_time": "2024-04-22T22:20:58.897Z"
   },
   {
    "duration": 2,
    "start_time": "2024-04-22T22:22:38.718Z"
   },
   {
    "duration": 146,
    "start_time": "2024-04-22T22:22:38.884Z"
   },
   {
    "duration": 33,
    "start_time": "2024-04-22T22:22:39.194Z"
   },
   {
    "duration": 15,
    "start_time": "2024-04-22T22:22:39.836Z"
   },
   {
    "duration": 9,
    "start_time": "2024-04-22T22:22:40.196Z"
   },
   {
    "duration": 5,
    "start_time": "2024-04-22T22:22:40.551Z"
   },
   {
    "duration": 9,
    "start_time": "2024-04-22T22:22:40.889Z"
   },
   {
    "duration": 9,
    "start_time": "2024-04-22T22:22:41.060Z"
   },
   {
    "duration": 10,
    "start_time": "2024-04-22T22:22:41.428Z"
   },
   {
    "duration": 6,
    "start_time": "2024-04-22T22:22:42.548Z"
   },
   {
    "duration": 4,
    "start_time": "2024-04-22T22:22:44.417Z"
   },
   {
    "duration": 4,
    "start_time": "2024-04-22T22:22:45.690Z"
   },
   {
    "duration": 3,
    "start_time": "2024-04-22T22:24:13.474Z"
   },
   {
    "duration": 141,
    "start_time": "2024-04-22T22:24:14.826Z"
   },
   {
    "duration": 36,
    "start_time": "2024-04-22T22:24:15.461Z"
   },
   {
    "duration": 14,
    "start_time": "2024-04-22T22:24:16.202Z"
   },
   {
    "duration": 10,
    "start_time": "2024-04-22T22:24:16.562Z"
   },
   {
    "duration": 5,
    "start_time": "2024-04-22T22:24:17.028Z"
   },
   {
    "duration": 10,
    "start_time": "2024-04-22T22:24:17.388Z"
   },
   {
    "duration": 10,
    "start_time": "2024-04-22T22:24:17.572Z"
   },
   {
    "duration": 11,
    "start_time": "2024-04-22T22:24:19.198Z"
   },
   {
    "duration": 8,
    "start_time": "2024-04-22T22:24:20.201Z"
   },
   {
    "duration": 5,
    "start_time": "2024-04-22T22:24:20.930Z"
   },
   {
    "duration": 5,
    "start_time": "2024-04-22T22:24:21.902Z"
   },
   {
    "duration": 7,
    "start_time": "2024-04-22T22:24:52.552Z"
   },
   {
    "duration": 474,
    "start_time": "2024-04-22T22:25:57.779Z"
   },
   {
    "duration": 141,
    "start_time": "2024-04-22T22:25:58.255Z"
   },
   {
    "duration": 41,
    "start_time": "2024-04-22T22:25:58.397Z"
   },
   {
    "duration": 13,
    "start_time": "2024-04-22T22:25:58.440Z"
   },
   {
    "duration": 51,
    "start_time": "2024-04-22T22:25:58.454Z"
   },
   {
    "duration": 4,
    "start_time": "2024-04-22T22:25:58.506Z"
   },
   {
    "duration": 24,
    "start_time": "2024-04-22T22:25:58.511Z"
   },
   {
    "duration": 14,
    "start_time": "2024-04-22T22:25:58.536Z"
   },
   {
    "duration": 8,
    "start_time": "2024-04-22T22:25:58.551Z"
   },
   {
    "duration": 12,
    "start_time": "2024-04-22T22:25:58.561Z"
   },
   {
    "duration": 4,
    "start_time": "2024-04-22T22:25:58.574Z"
   },
   {
    "duration": 10,
    "start_time": "2024-04-22T22:25:58.579Z"
   },
   {
    "duration": 4,
    "start_time": "2024-04-22T22:25:58.590Z"
   },
   {
    "duration": 19,
    "start_time": "2024-04-22T22:25:58.595Z"
   },
   {
    "duration": 34,
    "start_time": "2024-04-22T22:25:58.616Z"
   },
   {
    "duration": 21,
    "start_time": "2024-04-22T22:25:58.652Z"
   },
   {
    "duration": 3,
    "start_time": "2024-04-22T22:25:58.674Z"
   },
   {
    "duration": 9,
    "start_time": "2024-04-22T22:25:58.679Z"
   },
   {
    "duration": 9,
    "start_time": "2024-04-22T22:25:58.689Z"
   },
   {
    "duration": 10,
    "start_time": "2024-04-22T22:25:58.699Z"
   },
   {
    "duration": 22,
    "start_time": "2024-04-22T22:25:58.711Z"
   },
   {
    "duration": 4,
    "start_time": "2024-04-22T22:25:58.735Z"
   },
   {
    "duration": 29,
    "start_time": "2024-04-22T22:25:58.741Z"
   },
   {
    "duration": 4,
    "start_time": "2024-04-22T22:25:58.771Z"
   },
   {
    "duration": 16,
    "start_time": "2024-04-22T22:25:58.776Z"
   },
   {
    "duration": 4,
    "start_time": "2024-04-22T22:25:58.794Z"
   },
   {
    "duration": 12,
    "start_time": "2024-04-22T22:25:58.799Z"
   },
   {
    "duration": 11,
    "start_time": "2024-04-22T22:25:58.814Z"
   },
   {
    "duration": 5,
    "start_time": "2024-04-22T22:25:58.826Z"
   },
   {
    "duration": 5,
    "start_time": "2024-04-22T22:25:58.833Z"
   },
   {
    "duration": 31,
    "start_time": "2024-04-22T22:25:58.839Z"
   },
   {
    "duration": 8,
    "start_time": "2024-04-22T22:25:58.871Z"
   },
   {
    "duration": 6,
    "start_time": "2024-04-22T22:25:58.880Z"
   },
   {
    "duration": 34,
    "start_time": "2024-04-22T22:25:58.887Z"
   },
   {
    "duration": 4,
    "start_time": "2024-04-22T22:25:58.922Z"
   },
   {
    "duration": 20,
    "start_time": "2024-04-22T22:25:58.928Z"
   },
   {
    "duration": 59,
    "start_time": "2024-04-22T22:25:58.949Z"
   },
   {
    "duration": 3,
    "start_time": "2024-04-22T22:25:59.010Z"
   },
   {
    "duration": 295,
    "start_time": "2024-04-22T22:25:59.014Z"
   },
   {
    "duration": 14,
    "start_time": "2024-04-22T22:25:59.311Z"
   },
   {
    "duration": 6,
    "start_time": "2024-04-22T22:25:59.327Z"
   },
   {
    "duration": 37,
    "start_time": "2024-04-22T22:25:59.334Z"
   },
   {
    "duration": 4,
    "start_time": "2024-04-22T22:25:59.373Z"
   },
   {
    "duration": 27,
    "start_time": "2024-04-22T22:25:59.378Z"
   },
   {
    "duration": 139,
    "start_time": "2024-04-22T22:25:59.406Z"
   },
   {
    "duration": 32,
    "start_time": "2024-04-22T22:25:59.547Z"
   },
   {
    "duration": 215,
    "start_time": "2024-04-22T22:25:59.580Z"
   },
   {
    "duration": 39,
    "start_time": "2024-04-22T22:25:59.796Z"
   },
   {
    "duration": 327,
    "start_time": "2024-04-22T22:25:59.837Z"
   },
   {
    "duration": 7,
    "start_time": "2024-04-22T22:26:00.169Z"
   },
   {
    "duration": 43,
    "start_time": "2024-04-22T22:26:00.177Z"
   },
   {
    "duration": 42,
    "start_time": "2024-04-22T22:26:00.222Z"
   },
   {
    "duration": 43,
    "start_time": "2024-04-22T22:26:00.267Z"
   },
   {
    "duration": 499,
    "start_time": "2024-04-22T22:26:00.312Z"
   },
   {
    "duration": 101,
    "start_time": "2024-04-22T22:26:00.812Z"
   },
   {
    "duration": 8,
    "start_time": "2024-04-22T22:26:00.914Z"
   },
   {
    "duration": 127,
    "start_time": "2024-04-22T22:26:00.923Z"
   },
   {
    "duration": 5,
    "start_time": "2024-04-22T22:26:01.052Z"
   },
   {
    "duration": 108,
    "start_time": "2024-04-22T22:26:01.058Z"
   },
   {
    "duration": 37,
    "start_time": "2024-04-22T22:26:01.168Z"
   },
   {
    "duration": 47,
    "start_time": "2024-04-22T22:26:01.207Z"
   },
   {
    "duration": 52,
    "start_time": "2024-04-22T22:26:01.256Z"
   },
   {
    "duration": 364,
    "start_time": "2024-04-22T22:26:01.310Z"
   },
   {
    "duration": 12,
    "start_time": "2024-04-22T22:26:01.675Z"
   },
   {
    "duration": 202,
    "start_time": "2024-04-22T22:26:01.689Z"
   },
   {
    "duration": 12,
    "start_time": "2024-04-22T22:26:01.893Z"
   },
   {
    "duration": 135,
    "start_time": "2024-04-22T22:26:01.907Z"
   },
   {
    "duration": 19,
    "start_time": "2024-04-22T22:26:02.043Z"
   },
   {
    "duration": 290,
    "start_time": "2024-04-22T22:26:02.063Z"
   },
   {
    "duration": 35,
    "start_time": "2024-04-22T22:26:02.354Z"
   },
   {
    "duration": 2,
    "start_time": "2024-04-22T22:28:44.130Z"
   },
   {
    "duration": 143,
    "start_time": "2024-04-22T22:28:45.668Z"
   },
   {
    "duration": 34,
    "start_time": "2024-04-22T22:28:46.498Z"
   },
   {
    "duration": 15,
    "start_time": "2024-04-22T22:28:48.641Z"
   },
   {
    "duration": 14,
    "start_time": "2024-04-22T22:28:48.994Z"
   },
   {
    "duration": 4,
    "start_time": "2024-04-22T22:28:49.364Z"
   },
   {
    "duration": 9,
    "start_time": "2024-04-22T22:28:49.758Z"
   },
   {
    "duration": 10,
    "start_time": "2024-04-22T22:28:51.201Z"
   },
   {
    "duration": 12,
    "start_time": "2024-04-22T22:28:51.584Z"
   },
   {
    "duration": 6,
    "start_time": "2024-04-22T22:28:53.746Z"
   },
   {
    "duration": 5,
    "start_time": "2024-04-22T22:28:54.560Z"
   },
   {
    "duration": 6,
    "start_time": "2024-04-22T22:28:55.448Z"
   },
   {
    "duration": 4,
    "start_time": "2024-04-22T22:29:15.418Z"
   },
   {
    "duration": 4,
    "start_time": "2024-04-22T22:35:36.874Z"
   },
   {
    "duration": 5,
    "start_time": "2024-04-22T22:39:59.736Z"
   },
   {
    "duration": 6,
    "start_time": "2024-04-22T22:41:46.347Z"
   },
   {
    "duration": 3,
    "start_time": "2024-04-22T22:43:53.921Z"
   },
   {
    "duration": 2,
    "start_time": "2024-04-22T22:44:00.953Z"
   },
   {
    "duration": 141,
    "start_time": "2024-04-22T22:44:03.807Z"
   },
   {
    "duration": 34,
    "start_time": "2024-04-22T22:44:08.951Z"
   },
   {
    "duration": 9,
    "start_time": "2024-04-22T22:44:14.516Z"
   },
   {
    "duration": 4,
    "start_time": "2024-04-22T22:44:17.290Z"
   },
   {
    "duration": 9,
    "start_time": "2024-04-22T22:44:19.730Z"
   },
   {
    "duration": 10,
    "start_time": "2024-04-22T22:44:20.828Z"
   },
   {
    "duration": 9,
    "start_time": "2024-04-22T22:44:24.297Z"
   },
   {
    "duration": 7,
    "start_time": "2024-04-22T22:44:27.055Z"
   },
   {
    "duration": 4,
    "start_time": "2024-04-22T22:44:28.910Z"
   },
   {
    "duration": 5,
    "start_time": "2024-04-22T22:45:03.342Z"
   },
   {
    "duration": 5,
    "start_time": "2024-04-22T22:45:20.115Z"
   },
   {
    "duration": 2,
    "start_time": "2024-04-22T22:49:04.297Z"
   },
   {
    "duration": 140,
    "start_time": "2024-04-22T22:49:05.442Z"
   },
   {
    "duration": 32,
    "start_time": "2024-04-22T22:49:06.066Z"
   },
   {
    "duration": 14,
    "start_time": "2024-04-22T22:49:07.632Z"
   },
   {
    "duration": 10,
    "start_time": "2024-04-22T22:49:08.464Z"
   },
   {
    "duration": 5,
    "start_time": "2024-04-22T22:49:08.881Z"
   },
   {
    "duration": 9,
    "start_time": "2024-04-22T22:49:10.547Z"
   },
   {
    "duration": 10,
    "start_time": "2024-04-22T22:49:10.850Z"
   },
   {
    "duration": 9,
    "start_time": "2024-04-22T22:49:11.316Z"
   },
   {
    "duration": 7,
    "start_time": "2024-04-22T22:49:14.024Z"
   },
   {
    "duration": 5,
    "start_time": "2024-04-22T22:49:14.737Z"
   },
   {
    "duration": 5,
    "start_time": "2024-04-22T22:49:16.784Z"
   },
   {
    "duration": 4,
    "start_time": "2024-04-22T22:49:17.285Z"
   },
   {
    "duration": 4,
    "start_time": "2024-04-22T22:49:25.298Z"
   },
   {
    "duration": 5,
    "start_time": "2024-04-22T22:50:22.120Z"
   },
   {
    "duration": 5,
    "start_time": "2024-04-22T22:50:24.229Z"
   },
   {
    "duration": 5,
    "start_time": "2024-04-22T22:50:29.618Z"
   },
   {
    "duration": 5,
    "start_time": "2024-04-22T22:50:33.259Z"
   },
   {
    "duration": 453,
    "start_time": "2024-04-22T22:50:42.794Z"
   },
   {
    "duration": 136,
    "start_time": "2024-04-22T22:50:43.249Z"
   },
   {
    "duration": 39,
    "start_time": "2024-04-22T22:50:43.387Z"
   },
   {
    "duration": 12,
    "start_time": "2024-04-22T22:50:43.428Z"
   },
   {
    "duration": 51,
    "start_time": "2024-04-22T22:50:43.442Z"
   },
   {
    "duration": 4,
    "start_time": "2024-04-22T22:50:43.494Z"
   },
   {
    "duration": 15,
    "start_time": "2024-04-22T22:50:43.499Z"
   },
   {
    "duration": 11,
    "start_time": "2024-04-22T22:50:43.516Z"
   },
   {
    "duration": 8,
    "start_time": "2024-04-22T22:50:43.529Z"
   },
   {
    "duration": 5,
    "start_time": "2024-04-22T22:50:43.538Z"
   },
   {
    "duration": 25,
    "start_time": "2024-04-22T22:50:43.545Z"
   },
   {
    "duration": 6,
    "start_time": "2024-04-22T22:50:43.572Z"
   },
   {
    "duration": 14,
    "start_time": "2024-04-22T22:50:43.580Z"
   },
   {
    "duration": 8,
    "start_time": "2024-04-22T22:50:43.598Z"
   },
   {
    "duration": 10,
    "start_time": "2024-04-22T22:50:43.607Z"
   },
   {
    "duration": 7,
    "start_time": "2024-04-22T22:50:43.619Z"
   },
   {
    "duration": 23,
    "start_time": "2024-04-22T22:50:43.628Z"
   },
   {
    "duration": 3,
    "start_time": "2024-04-22T22:50:43.652Z"
   },
   {
    "duration": 12,
    "start_time": "2024-04-22T22:50:43.657Z"
   },
   {
    "duration": 15,
    "start_time": "2024-04-22T22:50:43.670Z"
   },
   {
    "duration": 33,
    "start_time": "2024-04-22T22:50:43.686Z"
   },
   {
    "duration": 33,
    "start_time": "2024-04-22T22:50:43.720Z"
   },
   {
    "duration": 6,
    "start_time": "2024-04-22T22:50:43.755Z"
   },
   {
    "duration": 16,
    "start_time": "2024-04-22T22:50:43.763Z"
   },
   {
    "duration": 4,
    "start_time": "2024-04-22T22:50:43.781Z"
   },
   {
    "duration": 30,
    "start_time": "2024-04-22T22:50:43.787Z"
   },
   {
    "duration": 5,
    "start_time": "2024-04-22T22:50:43.819Z"
   },
   {
    "duration": 12,
    "start_time": "2024-04-22T22:50:43.825Z"
   },
   {
    "duration": 22,
    "start_time": "2024-04-22T22:50:43.838Z"
   },
   {
    "duration": 6,
    "start_time": "2024-04-22T22:50:43.862Z"
   },
   {
    "duration": 10,
    "start_time": "2024-04-22T22:50:43.869Z"
   },
   {
    "duration": 7,
    "start_time": "2024-04-22T22:50:43.881Z"
   },
   {
    "duration": 8,
    "start_time": "2024-04-22T22:50:43.890Z"
   },
   {
    "duration": 4,
    "start_time": "2024-04-22T22:50:43.900Z"
   },
   {
    "duration": 34,
    "start_time": "2024-04-22T22:50:43.906Z"
   },
   {
    "duration": 5,
    "start_time": "2024-04-22T22:50:43.941Z"
   },
   {
    "duration": 36,
    "start_time": "2024-04-22T22:50:43.947Z"
   },
   {
    "duration": 49,
    "start_time": "2024-04-22T22:50:43.985Z"
   },
   {
    "duration": 3,
    "start_time": "2024-04-22T22:50:44.035Z"
   },
   {
    "duration": 294,
    "start_time": "2024-04-22T22:50:44.040Z"
   },
   {
    "duration": 13,
    "start_time": "2024-04-22T22:50:44.338Z"
   },
   {
    "duration": 19,
    "start_time": "2024-04-22T22:50:44.353Z"
   },
   {
    "duration": 27,
    "start_time": "2024-04-22T22:50:44.373Z"
   },
   {
    "duration": 3,
    "start_time": "2024-04-22T22:50:44.401Z"
   },
   {
    "duration": 14,
    "start_time": "2024-04-22T22:50:44.406Z"
   },
   {
    "duration": 149,
    "start_time": "2024-04-22T22:50:44.422Z"
   },
   {
    "duration": 21,
    "start_time": "2024-04-22T22:50:44.573Z"
   },
   {
    "duration": 221,
    "start_time": "2024-04-22T22:50:44.596Z"
   },
   {
    "duration": 51,
    "start_time": "2024-04-22T22:50:44.818Z"
   },
   {
    "duration": 303,
    "start_time": "2024-04-22T22:50:44.871Z"
   },
   {
    "duration": 6,
    "start_time": "2024-04-22T22:50:45.176Z"
   },
   {
    "duration": 30,
    "start_time": "2024-04-22T22:50:45.184Z"
   },
   {
    "duration": 41,
    "start_time": "2024-04-22T22:50:45.215Z"
   },
   {
    "duration": 70,
    "start_time": "2024-04-22T22:50:45.257Z"
   },
   {
    "duration": 264,
    "start_time": "2024-04-22T22:50:45.328Z"
   },
   {
    "duration": 100,
    "start_time": "2024-04-22T22:50:45.594Z"
   },
   {
    "duration": 8,
    "start_time": "2024-04-22T22:50:45.696Z"
   },
   {
    "duration": 133,
    "start_time": "2024-04-22T22:50:45.705Z"
   },
   {
    "duration": 6,
    "start_time": "2024-04-22T22:50:45.839Z"
   },
   {
    "duration": 34,
    "start_time": "2024-04-22T22:50:45.847Z"
   },
   {
    "duration": 25,
    "start_time": "2024-04-22T22:50:45.883Z"
   },
   {
    "duration": 49,
    "start_time": "2024-04-22T22:50:45.910Z"
   },
   {
    "duration": 28,
    "start_time": "2024-04-22T22:50:45.961Z"
   },
   {
    "duration": 347,
    "start_time": "2024-04-22T22:50:45.990Z"
   },
   {
    "duration": 11,
    "start_time": "2024-04-22T22:50:46.338Z"
   },
   {
    "duration": 147,
    "start_time": "2024-04-22T22:50:46.350Z"
   },
   {
    "duration": 12,
    "start_time": "2024-04-22T22:50:46.498Z"
   },
   {
    "duration": 25,
    "start_time": "2024-04-22T22:50:46.512Z"
   },
   {
    "duration": 14,
    "start_time": "2024-04-22T22:50:46.538Z"
   },
   {
    "duration": 257,
    "start_time": "2024-04-22T22:50:46.554Z"
   },
   {
    "duration": 29,
    "start_time": "2024-04-22T22:50:46.812Z"
   },
   {
    "duration": 3,
    "start_time": "2024-04-22T23:06:47.271Z"
   },
   {
    "duration": 3,
    "start_time": "2024-04-22T23:06:52.373Z"
   },
   {
    "duration": 146,
    "start_time": "2024-04-22T23:06:54.146Z"
   },
   {
    "duration": 35,
    "start_time": "2024-04-22T23:06:54.486Z"
   },
   {
    "duration": 15,
    "start_time": "2024-04-22T23:06:55.218Z"
   },
   {
    "duration": 10,
    "start_time": "2024-04-22T23:06:55.542Z"
   },
   {
    "duration": 5,
    "start_time": "2024-04-22T23:06:55.876Z"
   },
   {
    "duration": 10,
    "start_time": "2024-04-22T23:06:56.226Z"
   },
   {
    "duration": 11,
    "start_time": "2024-04-22T23:06:57.705Z"
   },
   {
    "duration": 9,
    "start_time": "2024-04-22T23:06:58.027Z"
   },
   {
    "duration": 7,
    "start_time": "2024-04-22T23:06:59.786Z"
   },
   {
    "duration": 5,
    "start_time": "2024-04-22T23:07:02.585Z"
   },
   {
    "duration": 4,
    "start_time": "2024-04-22T23:07:08.500Z"
   },
   {
    "duration": 4,
    "start_time": "2024-04-22T23:07:18.273Z"
   },
   {
    "duration": 7,
    "start_time": "2024-04-22T23:07:23.421Z"
   },
   {
    "duration": 4,
    "start_time": "2024-04-22T23:07:24.357Z"
   },
   {
    "duration": 59,
    "start_time": "2024-04-22T23:08:00.954Z"
   },
   {
    "duration": 0,
    "start_time": "2024-04-22T23:08:01.016Z"
   },
   {
    "duration": 0,
    "start_time": "2024-04-22T23:08:01.017Z"
   },
   {
    "duration": 0,
    "start_time": "2024-04-22T23:08:01.019Z"
   },
   {
    "duration": 0,
    "start_time": "2024-04-22T23:08:01.020Z"
   },
   {
    "duration": 0,
    "start_time": "2024-04-22T23:08:01.021Z"
   },
   {
    "duration": 0,
    "start_time": "2024-04-22T23:08:01.023Z"
   },
   {
    "duration": 0,
    "start_time": "2024-04-22T23:08:01.024Z"
   },
   {
    "duration": 0,
    "start_time": "2024-04-22T23:08:01.025Z"
   },
   {
    "duration": 0,
    "start_time": "2024-04-22T23:08:01.026Z"
   },
   {
    "duration": 0,
    "start_time": "2024-04-22T23:08:01.027Z"
   },
   {
    "duration": 0,
    "start_time": "2024-04-22T23:08:01.071Z"
   },
   {
    "duration": 0,
    "start_time": "2024-04-22T23:08:01.072Z"
   },
   {
    "duration": 0,
    "start_time": "2024-04-22T23:08:01.073Z"
   },
   {
    "duration": 0,
    "start_time": "2024-04-22T23:08:01.074Z"
   },
   {
    "duration": 0,
    "start_time": "2024-04-22T23:08:01.075Z"
   },
   {
    "duration": 0,
    "start_time": "2024-04-22T23:08:01.076Z"
   },
   {
    "duration": 0,
    "start_time": "2024-04-22T23:08:01.077Z"
   },
   {
    "duration": 0,
    "start_time": "2024-04-22T23:08:01.078Z"
   },
   {
    "duration": 0,
    "start_time": "2024-04-22T23:08:01.079Z"
   },
   {
    "duration": 0,
    "start_time": "2024-04-22T23:08:01.080Z"
   },
   {
    "duration": 0,
    "start_time": "2024-04-22T23:08:01.081Z"
   },
   {
    "duration": 0,
    "start_time": "2024-04-22T23:08:01.082Z"
   },
   {
    "duration": 0,
    "start_time": "2024-04-22T23:08:01.083Z"
   },
   {
    "duration": 0,
    "start_time": "2024-04-22T23:08:01.085Z"
   },
   {
    "duration": 0,
    "start_time": "2024-04-22T23:08:01.086Z"
   },
   {
    "duration": 0,
    "start_time": "2024-04-22T23:08:01.087Z"
   },
   {
    "duration": 0,
    "start_time": "2024-04-22T23:08:01.088Z"
   },
   {
    "duration": 0,
    "start_time": "2024-04-22T23:08:01.089Z"
   },
   {
    "duration": 0,
    "start_time": "2024-04-22T23:08:01.090Z"
   },
   {
    "duration": 0,
    "start_time": "2024-04-22T23:08:01.091Z"
   },
   {
    "duration": 0,
    "start_time": "2024-04-22T23:08:01.092Z"
   },
   {
    "duration": 0,
    "start_time": "2024-04-22T23:08:01.093Z"
   },
   {
    "duration": 0,
    "start_time": "2024-04-22T23:08:01.094Z"
   },
   {
    "duration": 0,
    "start_time": "2024-04-22T23:08:01.095Z"
   },
   {
    "duration": 0,
    "start_time": "2024-04-22T23:08:01.096Z"
   },
   {
    "duration": 0,
    "start_time": "2024-04-22T23:08:01.097Z"
   },
   {
    "duration": 0,
    "start_time": "2024-04-22T23:08:01.098Z"
   },
   {
    "duration": 0,
    "start_time": "2024-04-22T23:08:01.099Z"
   },
   {
    "duration": 71,
    "start_time": "2024-04-22T23:08:01.105Z"
   },
   {
    "duration": 0,
    "start_time": "2024-04-22T23:08:01.177Z"
   },
   {
    "duration": 0,
    "start_time": "2024-04-22T23:08:01.179Z"
   },
   {
    "duration": 0,
    "start_time": "2024-04-22T23:08:01.180Z"
   },
   {
    "duration": 0,
    "start_time": "2024-04-22T23:08:01.181Z"
   },
   {
    "duration": 0,
    "start_time": "2024-04-22T23:08:01.183Z"
   },
   {
    "duration": 0,
    "start_time": "2024-04-22T23:08:01.184Z"
   },
   {
    "duration": 1,
    "start_time": "2024-04-22T23:08:01.184Z"
   },
   {
    "duration": 0,
    "start_time": "2024-04-22T23:08:01.186Z"
   },
   {
    "duration": 0,
    "start_time": "2024-04-22T23:08:01.187Z"
   },
   {
    "duration": 0,
    "start_time": "2024-04-22T23:08:01.188Z"
   },
   {
    "duration": 0,
    "start_time": "2024-04-22T23:08:01.189Z"
   },
   {
    "duration": 0,
    "start_time": "2024-04-22T23:08:01.190Z"
   },
   {
    "duration": 0,
    "start_time": "2024-04-22T23:08:01.191Z"
   },
   {
    "duration": 0,
    "start_time": "2024-04-22T23:08:01.192Z"
   },
   {
    "duration": 0,
    "start_time": "2024-04-22T23:08:01.193Z"
   },
   {
    "duration": 0,
    "start_time": "2024-04-22T23:08:01.194Z"
   },
   {
    "duration": 0,
    "start_time": "2024-04-22T23:08:01.195Z"
   },
   {
    "duration": 0,
    "start_time": "2024-04-22T23:08:01.196Z"
   },
   {
    "duration": 0,
    "start_time": "2024-04-22T23:08:01.197Z"
   },
   {
    "duration": 0,
    "start_time": "2024-04-22T23:08:01.198Z"
   },
   {
    "duration": 0,
    "start_time": "2024-04-22T23:08:01.199Z"
   },
   {
    "duration": 0,
    "start_time": "2024-04-22T23:08:01.200Z"
   },
   {
    "duration": 0,
    "start_time": "2024-04-22T23:08:01.201Z"
   },
   {
    "duration": 0,
    "start_time": "2024-04-22T23:08:01.202Z"
   },
   {
    "duration": 0,
    "start_time": "2024-04-22T23:08:01.203Z"
   },
   {
    "duration": 0,
    "start_time": "2024-04-22T23:08:01.204Z"
   },
   {
    "duration": 0,
    "start_time": "2024-04-22T23:08:01.205Z"
   },
   {
    "duration": 0,
    "start_time": "2024-04-22T23:08:01.206Z"
   },
   {
    "duration": 0,
    "start_time": "2024-04-22T23:08:01.269Z"
   },
   {
    "duration": 0,
    "start_time": "2024-04-22T23:08:01.270Z"
   },
   {
    "duration": 0,
    "start_time": "2024-04-22T23:08:01.271Z"
   },
   {
    "duration": 439,
    "start_time": "2024-04-22T23:08:32.826Z"
   },
   {
    "duration": 142,
    "start_time": "2024-04-22T23:08:33.267Z"
   },
   {
    "duration": 42,
    "start_time": "2024-04-22T23:08:33.410Z"
   },
   {
    "duration": 13,
    "start_time": "2024-04-22T23:08:33.454Z"
   },
   {
    "duration": 50,
    "start_time": "2024-04-22T23:08:33.469Z"
   },
   {
    "duration": 5,
    "start_time": "2024-04-22T23:08:33.521Z"
   },
   {
    "duration": 11,
    "start_time": "2024-04-22T23:08:33.527Z"
   },
   {
    "duration": 21,
    "start_time": "2024-04-22T23:08:33.540Z"
   },
   {
    "duration": 9,
    "start_time": "2024-04-22T23:08:33.570Z"
   },
   {
    "duration": 13,
    "start_time": "2024-04-22T23:08:33.581Z"
   },
   {
    "duration": 10,
    "start_time": "2024-04-22T23:08:33.595Z"
   },
   {
    "duration": 6,
    "start_time": "2024-04-22T23:08:33.606Z"
   },
   {
    "duration": 7,
    "start_time": "2024-04-22T23:08:33.613Z"
   },
   {
    "duration": 8,
    "start_time": "2024-04-22T23:08:33.622Z"
   },
   {
    "duration": 7,
    "start_time": "2024-04-22T23:08:33.631Z"
   },
   {
    "duration": 36,
    "start_time": "2024-04-22T23:08:33.639Z"
   },
   {
    "duration": 3,
    "start_time": "2024-04-22T23:08:33.677Z"
   },
   {
    "duration": 6,
    "start_time": "2024-04-22T23:08:33.682Z"
   },
   {
    "duration": 15,
    "start_time": "2024-04-22T23:08:33.690Z"
   },
   {
    "duration": 10,
    "start_time": "2024-04-22T23:08:33.706Z"
   },
   {
    "duration": 22,
    "start_time": "2024-04-22T23:08:33.718Z"
   },
   {
    "duration": 5,
    "start_time": "2024-04-22T23:08:33.742Z"
   },
   {
    "duration": 35,
    "start_time": "2024-04-22T23:08:33.748Z"
   },
   {
    "duration": 5,
    "start_time": "2024-04-22T23:08:33.784Z"
   },
   {
    "duration": 20,
    "start_time": "2024-04-22T23:08:33.790Z"
   },
   {
    "duration": 11,
    "start_time": "2024-04-22T23:08:33.812Z"
   },
   {
    "duration": 4,
    "start_time": "2024-04-22T23:08:33.825Z"
   },
   {
    "duration": 7,
    "start_time": "2024-04-22T23:08:33.830Z"
   },
   {
    "duration": 7,
    "start_time": "2024-04-22T23:08:33.839Z"
   },
   {
    "duration": 23,
    "start_time": "2024-04-22T23:08:33.847Z"
   },
   {
    "duration": 6,
    "start_time": "2024-04-22T23:08:33.872Z"
   },
   {
    "duration": 7,
    "start_time": "2024-04-22T23:08:33.879Z"
   },
   {
    "duration": 15,
    "start_time": "2024-04-22T23:08:33.888Z"
   },
   {
    "duration": 26,
    "start_time": "2024-04-22T23:08:33.905Z"
   },
   {
    "duration": 17,
    "start_time": "2024-04-22T23:08:33.933Z"
   },
   {
    "duration": 18,
    "start_time": "2024-04-22T23:08:33.951Z"
   },
   {
    "duration": 46,
    "start_time": "2024-04-22T23:08:33.971Z"
   },
   {
    "duration": 3,
    "start_time": "2024-04-22T23:08:34.019Z"
   },
   {
    "duration": 306,
    "start_time": "2024-04-22T23:08:34.023Z"
   },
   {
    "duration": 14,
    "start_time": "2024-04-22T23:08:34.331Z"
   },
   {
    "duration": 21,
    "start_time": "2024-04-22T23:08:34.349Z"
   },
   {
    "duration": 20,
    "start_time": "2024-04-22T23:08:34.371Z"
   },
   {
    "duration": 3,
    "start_time": "2024-04-22T23:08:34.392Z"
   },
   {
    "duration": 27,
    "start_time": "2024-04-22T23:08:34.396Z"
   },
   {
    "duration": 139,
    "start_time": "2024-04-22T23:08:34.424Z"
   },
   {
    "duration": 23,
    "start_time": "2024-04-22T23:08:34.570Z"
   },
   {
    "duration": 248,
    "start_time": "2024-04-22T23:08:34.594Z"
   },
   {
    "duration": 56,
    "start_time": "2024-04-22T23:08:34.844Z"
   },
   {
    "duration": 292,
    "start_time": "2024-04-22T23:08:34.902Z"
   },
   {
    "duration": 6,
    "start_time": "2024-04-22T23:08:35.196Z"
   },
   {
    "duration": 23,
    "start_time": "2024-04-22T23:08:35.203Z"
   },
   {
    "duration": 7,
    "start_time": "2024-04-22T23:08:35.228Z"
   },
   {
    "duration": 10,
    "start_time": "2024-04-22T23:08:35.236Z"
   },
   {
    "duration": 240,
    "start_time": "2024-04-22T23:08:35.247Z"
   },
   {
    "duration": 122,
    "start_time": "2024-04-22T23:08:35.488Z"
   },
   {
    "duration": 8,
    "start_time": "2024-04-22T23:08:35.611Z"
   },
   {
    "duration": 95,
    "start_time": "2024-04-22T23:08:35.620Z"
   },
   {
    "duration": 5,
    "start_time": "2024-04-22T23:08:35.717Z"
   },
   {
    "duration": 16,
    "start_time": "2024-04-22T23:08:35.724Z"
   },
   {
    "duration": 6,
    "start_time": "2024-04-22T23:08:35.742Z"
   },
   {
    "duration": 29,
    "start_time": "2024-04-22T23:08:35.749Z"
   },
   {
    "duration": 37,
    "start_time": "2024-04-22T23:08:35.780Z"
   },
   {
    "duration": 337,
    "start_time": "2024-04-22T23:08:35.818Z"
   },
   {
    "duration": 13,
    "start_time": "2024-04-22T23:08:36.157Z"
   },
   {
    "duration": 158,
    "start_time": "2024-04-22T23:08:36.172Z"
   },
   {
    "duration": 14,
    "start_time": "2024-04-22T23:08:36.332Z"
   },
   {
    "duration": 25,
    "start_time": "2024-04-22T23:08:36.349Z"
   },
   {
    "duration": 15,
    "start_time": "2024-04-22T23:08:36.376Z"
   },
   {
    "duration": 274,
    "start_time": "2024-04-22T23:08:36.393Z"
   },
   {
    "duration": 32,
    "start_time": "2024-04-22T23:08:36.670Z"
   },
   {
    "duration": 5,
    "start_time": "2024-04-22T23:57:50.371Z"
   },
   {
    "duration": 5,
    "start_time": "2024-04-23T00:03:26.747Z"
   },
   {
    "duration": 9,
    "start_time": "2024-04-23T00:04:17.702Z"
   },
   {
    "duration": 11,
    "start_time": "2024-04-23T00:06:32.098Z"
   },
   {
    "duration": 9,
    "start_time": "2024-04-23T00:07:11.967Z"
   },
   {
    "duration": 9,
    "start_time": "2024-04-23T00:07:20.607Z"
   },
   {
    "duration": 8,
    "start_time": "2024-04-23T00:07:30.108Z"
   },
   {
    "duration": 566,
    "start_time": "2024-04-23T07:17:04.801Z"
   },
   {
    "duration": 376,
    "start_time": "2024-04-23T07:17:05.368Z"
   },
   {
    "duration": 34,
    "start_time": "2024-04-23T07:17:05.745Z"
   },
   {
    "duration": 12,
    "start_time": "2024-04-23T07:17:05.781Z"
   },
   {
    "duration": 29,
    "start_time": "2024-04-23T07:17:05.794Z"
   },
   {
    "duration": 34,
    "start_time": "2024-04-23T07:17:05.824Z"
   },
   {
    "duration": 9,
    "start_time": "2024-04-23T07:17:05.859Z"
   },
   {
    "duration": 25,
    "start_time": "2024-04-23T07:17:05.869Z"
   },
   {
    "duration": 6,
    "start_time": "2024-04-23T07:17:05.895Z"
   },
   {
    "duration": 7,
    "start_time": "2024-04-23T07:17:05.903Z"
   },
   {
    "duration": 17,
    "start_time": "2024-04-23T07:17:05.911Z"
   },
   {
    "duration": 10,
    "start_time": "2024-04-23T07:17:05.929Z"
   },
   {
    "duration": 16,
    "start_time": "2024-04-23T07:17:05.940Z"
   },
   {
    "duration": 7,
    "start_time": "2024-04-23T07:17:05.957Z"
   },
   {
    "duration": 5,
    "start_time": "2024-04-23T07:17:05.965Z"
   },
   {
    "duration": 16,
    "start_time": "2024-04-23T07:17:05.971Z"
   },
   {
    "duration": 3,
    "start_time": "2024-04-23T07:17:05.988Z"
   },
   {
    "duration": 4,
    "start_time": "2024-04-23T07:17:05.992Z"
   },
   {
    "duration": 5,
    "start_time": "2024-04-23T07:17:05.998Z"
   },
   {
    "duration": 8,
    "start_time": "2024-04-23T07:17:06.004Z"
   },
   {
    "duration": 22,
    "start_time": "2024-04-23T07:17:06.013Z"
   },
   {
    "duration": 5,
    "start_time": "2024-04-23T07:17:06.036Z"
   },
   {
    "duration": 56,
    "start_time": "2024-04-23T07:17:06.042Z"
   },
   {
    "duration": 4,
    "start_time": "2024-04-23T07:17:06.099Z"
   },
   {
    "duration": 21,
    "start_time": "2024-04-23T07:17:06.105Z"
   },
   {
    "duration": 46,
    "start_time": "2024-04-23T07:17:06.127Z"
   },
   {
    "duration": 5,
    "start_time": "2024-04-23T07:17:06.175Z"
   },
   {
    "duration": 6,
    "start_time": "2024-04-23T07:17:06.184Z"
   },
   {
    "duration": 5,
    "start_time": "2024-04-23T07:17:06.191Z"
   },
   {
    "duration": 8,
    "start_time": "2024-04-23T07:17:06.197Z"
   },
   {
    "duration": 24,
    "start_time": "2024-04-23T07:17:06.206Z"
   },
   {
    "duration": 14,
    "start_time": "2024-04-23T07:17:06.232Z"
   },
   {
    "duration": 17,
    "start_time": "2024-04-23T07:17:06.247Z"
   },
   {
    "duration": 32,
    "start_time": "2024-04-23T07:17:06.265Z"
   },
   {
    "duration": 7,
    "start_time": "2024-04-23T07:17:06.298Z"
   },
   {
    "duration": 9,
    "start_time": "2024-04-23T07:17:06.306Z"
   },
   {
    "duration": 38,
    "start_time": "2024-04-23T07:17:06.316Z"
   },
   {
    "duration": 27,
    "start_time": "2024-04-23T07:17:06.356Z"
   },
   {
    "duration": 433,
    "start_time": "2024-04-23T07:17:06.384Z"
   },
   {
    "duration": 16,
    "start_time": "2024-04-23T07:17:06.818Z"
   },
   {
    "duration": 6,
    "start_time": "2024-04-23T07:17:06.835Z"
   },
   {
    "duration": 23,
    "start_time": "2024-04-23T07:17:06.843Z"
   },
   {
    "duration": 11,
    "start_time": "2024-04-23T07:17:06.867Z"
   },
   {
    "duration": 14,
    "start_time": "2024-04-23T07:17:06.880Z"
   },
   {
    "duration": 132,
    "start_time": "2024-04-23T07:17:06.895Z"
   },
   {
    "duration": 18,
    "start_time": "2024-04-23T07:17:07.029Z"
   },
   {
    "duration": 196,
    "start_time": "2024-04-23T07:17:07.048Z"
   },
   {
    "duration": 42,
    "start_time": "2024-04-23T07:17:07.245Z"
   },
   {
    "duration": 289,
    "start_time": "2024-04-23T07:17:07.288Z"
   },
   {
    "duration": 6,
    "start_time": "2024-04-23T07:17:07.579Z"
   },
   {
    "duration": 5,
    "start_time": "2024-04-23T07:17:07.587Z"
   },
   {
    "duration": 5,
    "start_time": "2024-04-23T07:17:07.593Z"
   },
   {
    "duration": 6,
    "start_time": "2024-04-23T07:17:07.599Z"
   },
   {
    "duration": 208,
    "start_time": "2024-04-23T07:17:07.607Z"
   },
   {
    "duration": 7,
    "start_time": "2024-04-23T07:17:07.817Z"
   },
   {
    "duration": 95,
    "start_time": "2024-04-23T07:17:07.826Z"
   },
   {
    "duration": 5,
    "start_time": "2024-04-23T07:17:07.922Z"
   },
   {
    "duration": 14,
    "start_time": "2024-04-23T07:17:07.929Z"
   },
   {
    "duration": 9,
    "start_time": "2024-04-23T07:17:07.945Z"
   },
   {
    "duration": 91,
    "start_time": "2024-04-23T07:17:07.955Z"
   },
   {
    "duration": 0,
    "start_time": "2024-04-23T07:17:08.048Z"
   },
   {
    "duration": 0,
    "start_time": "2024-04-23T07:17:08.050Z"
   },
   {
    "duration": 0,
    "start_time": "2024-04-23T07:17:08.051Z"
   },
   {
    "duration": 0,
    "start_time": "2024-04-23T07:17:08.052Z"
   },
   {
    "duration": 0,
    "start_time": "2024-04-23T07:17:08.053Z"
   },
   {
    "duration": 0,
    "start_time": "2024-04-23T07:17:08.055Z"
   },
   {
    "duration": 0,
    "start_time": "2024-04-23T07:17:08.056Z"
   },
   {
    "duration": 0,
    "start_time": "2024-04-23T07:17:08.057Z"
   },
   {
    "duration": 0,
    "start_time": "2024-04-23T07:17:08.058Z"
   },
   {
    "duration": 0,
    "start_time": "2024-04-23T07:17:08.059Z"
   },
   {
    "duration": 0,
    "start_time": "2024-04-23T07:17:08.060Z"
   },
   {
    "duration": 463,
    "start_time": "2024-04-23T07:19:59.375Z"
   },
   {
    "duration": 124,
    "start_time": "2024-04-23T07:19:59.840Z"
   },
   {
    "duration": 35,
    "start_time": "2024-04-23T07:19:59.966Z"
   },
   {
    "duration": 12,
    "start_time": "2024-04-23T07:20:00.002Z"
   },
   {
    "duration": 80,
    "start_time": "2024-04-23T07:20:00.015Z"
   },
   {
    "duration": 57,
    "start_time": "2024-04-23T07:20:00.096Z"
   },
   {
    "duration": 115,
    "start_time": "2024-04-23T07:20:00.154Z"
   },
   {
    "duration": 65,
    "start_time": "2024-04-23T07:20:00.271Z"
   },
   {
    "duration": 88,
    "start_time": "2024-04-23T07:20:00.337Z"
   },
   {
    "duration": 44,
    "start_time": "2024-04-23T07:20:00.427Z"
   },
   {
    "duration": 53,
    "start_time": "2024-04-23T07:20:00.472Z"
   },
   {
    "duration": 73,
    "start_time": "2024-04-23T07:20:00.527Z"
   },
   {
    "duration": 83,
    "start_time": "2024-04-23T07:20:00.602Z"
   },
   {
    "duration": 60,
    "start_time": "2024-04-23T07:20:00.686Z"
   },
   {
    "duration": 40,
    "start_time": "2024-04-23T07:20:00.747Z"
   },
   {
    "duration": 126,
    "start_time": "2024-04-23T07:20:00.788Z"
   },
   {
    "duration": 150,
    "start_time": "2024-04-23T07:20:00.915Z"
   },
   {
    "duration": 47,
    "start_time": "2024-04-23T07:20:01.066Z"
   },
   {
    "duration": 31,
    "start_time": "2024-04-23T07:20:01.114Z"
   },
   {
    "duration": 45,
    "start_time": "2024-04-23T07:20:01.146Z"
   },
   {
    "duration": 108,
    "start_time": "2024-04-23T07:20:01.193Z"
   },
   {
    "duration": 9,
    "start_time": "2024-04-23T07:20:01.302Z"
   },
   {
    "duration": 48,
    "start_time": "2024-04-23T07:20:01.312Z"
   },
   {
    "duration": 36,
    "start_time": "2024-04-23T07:20:01.362Z"
   },
   {
    "duration": 28,
    "start_time": "2024-04-23T07:20:01.400Z"
   },
   {
    "duration": 30,
    "start_time": "2024-04-23T07:20:01.429Z"
   },
   {
    "duration": 26,
    "start_time": "2024-04-23T07:20:01.460Z"
   },
   {
    "duration": 38,
    "start_time": "2024-04-23T07:20:01.489Z"
   },
   {
    "duration": 50,
    "start_time": "2024-04-23T07:20:01.528Z"
   },
   {
    "duration": 85,
    "start_time": "2024-04-23T07:20:01.580Z"
   },
   {
    "duration": 38,
    "start_time": "2024-04-23T07:20:01.666Z"
   },
   {
    "duration": 71,
    "start_time": "2024-04-23T07:20:01.706Z"
   },
   {
    "duration": 49,
    "start_time": "2024-04-23T07:20:01.779Z"
   },
   {
    "duration": 57,
    "start_time": "2024-04-23T07:20:01.829Z"
   },
   {
    "duration": 88,
    "start_time": "2024-04-23T07:20:01.888Z"
   },
   {
    "duration": 208,
    "start_time": "2024-04-23T07:20:01.978Z"
   },
   {
    "duration": 170,
    "start_time": "2024-04-23T07:20:02.187Z"
   },
   {
    "duration": 95,
    "start_time": "2024-04-23T07:20:02.359Z"
   },
   {
    "duration": 390,
    "start_time": "2024-04-23T07:20:02.456Z"
   },
   {
    "duration": 14,
    "start_time": "2024-04-23T07:20:02.847Z"
   },
   {
    "duration": 244,
    "start_time": "2024-04-23T07:20:02.862Z"
   },
   {
    "duration": 102,
    "start_time": "2024-04-23T07:20:03.107Z"
   },
   {
    "duration": 34,
    "start_time": "2024-04-23T07:20:03.211Z"
   },
   {
    "duration": 62,
    "start_time": "2024-04-23T07:20:03.246Z"
   },
   {
    "duration": 119,
    "start_time": "2024-04-23T07:20:03.310Z"
   },
   {
    "duration": 18,
    "start_time": "2024-04-23T07:20:03.430Z"
   },
   {
    "duration": 184,
    "start_time": "2024-04-23T07:20:03.450Z"
   },
   {
    "duration": 33,
    "start_time": "2024-04-23T07:20:03.635Z"
   },
   {
    "duration": 299,
    "start_time": "2024-04-23T07:20:03.670Z"
   },
   {
    "duration": 5,
    "start_time": "2024-04-23T07:20:03.971Z"
   },
   {
    "duration": 9,
    "start_time": "2024-04-23T07:20:03.978Z"
   },
   {
    "duration": 18,
    "start_time": "2024-04-23T07:20:03.988Z"
   },
   {
    "duration": 23,
    "start_time": "2024-04-23T07:20:04.008Z"
   },
   {
    "duration": 201,
    "start_time": "2024-04-23T07:20:04.032Z"
   },
   {
    "duration": 7,
    "start_time": "2024-04-23T07:20:04.235Z"
   },
   {
    "duration": 103,
    "start_time": "2024-04-23T07:20:04.243Z"
   },
   {
    "duration": 5,
    "start_time": "2024-04-23T07:20:04.347Z"
   },
   {
    "duration": 24,
    "start_time": "2024-04-23T07:20:04.353Z"
   },
   {
    "duration": 8,
    "start_time": "2024-04-23T07:20:04.378Z"
   },
   {
    "duration": 13,
    "start_time": "2024-04-23T07:20:04.387Z"
   },
   {
    "duration": 4,
    "start_time": "2024-04-23T07:20:04.401Z"
   },
   {
    "duration": 31,
    "start_time": "2024-04-23T07:20:04.407Z"
   },
   {
    "duration": 22,
    "start_time": "2024-04-23T07:20:04.439Z"
   },
   {
    "duration": 273,
    "start_time": "2024-04-23T07:20:04.462Z"
   },
   {
    "duration": 9,
    "start_time": "2024-04-23T07:20:04.737Z"
   },
   {
    "duration": 125,
    "start_time": "2024-04-23T07:20:04.747Z"
   },
   {
    "duration": 16,
    "start_time": "2024-04-23T07:20:04.874Z"
   },
   {
    "duration": 18,
    "start_time": "2024-04-23T07:20:04.891Z"
   },
   {
    "duration": 16,
    "start_time": "2024-04-23T07:20:04.910Z"
   },
   {
    "duration": 219,
    "start_time": "2024-04-23T07:20:04.927Z"
   },
   {
    "duration": 26,
    "start_time": "2024-04-23T07:20:05.147Z"
   },
   {
    "duration": 15,
    "start_time": "2024-04-23T08:08:40.977Z"
   },
   {
    "duration": 16,
    "start_time": "2024-04-23T08:09:20.843Z"
   },
   {
    "duration": 16,
    "start_time": "2024-04-23T08:10:52.850Z"
   },
   {
    "duration": 6,
    "start_time": "2024-04-23T08:13:23.782Z"
   },
   {
    "duration": 405,
    "start_time": "2024-04-23T08:15:50.019Z"
   },
   {
    "duration": 126,
    "start_time": "2024-04-23T08:15:50.426Z"
   },
   {
    "duration": 36,
    "start_time": "2024-04-23T08:15:50.553Z"
   },
   {
    "duration": 11,
    "start_time": "2024-04-23T08:15:50.591Z"
   },
   {
    "duration": 37,
    "start_time": "2024-04-23T08:15:50.603Z"
   },
   {
    "duration": 4,
    "start_time": "2024-04-23T08:15:50.641Z"
   },
   {
    "duration": 19,
    "start_time": "2024-04-23T08:15:50.646Z"
   },
   {
    "duration": 21,
    "start_time": "2024-04-23T08:15:50.666Z"
   },
   {
    "duration": 8,
    "start_time": "2024-04-23T08:15:50.688Z"
   },
   {
    "duration": 5,
    "start_time": "2024-04-23T08:15:50.698Z"
   },
   {
    "duration": 4,
    "start_time": "2024-04-23T08:15:50.705Z"
   },
   {
    "duration": 19,
    "start_time": "2024-04-23T08:15:50.710Z"
   },
   {
    "duration": 5,
    "start_time": "2024-04-23T08:15:50.730Z"
   },
   {
    "duration": 20,
    "start_time": "2024-04-23T08:15:50.736Z"
   },
   {
    "duration": 3,
    "start_time": "2024-04-23T08:15:50.758Z"
   },
   {
    "duration": 15,
    "start_time": "2024-04-23T08:15:50.762Z"
   },
   {
    "duration": 3,
    "start_time": "2024-04-23T08:15:50.778Z"
   },
   {
    "duration": 6,
    "start_time": "2024-04-23T08:15:50.782Z"
   },
   {
    "duration": 6,
    "start_time": "2024-04-23T08:15:50.789Z"
   },
   {
    "duration": 8,
    "start_time": "2024-04-23T08:15:50.796Z"
   },
   {
    "duration": 40,
    "start_time": "2024-04-23T08:15:50.805Z"
   },
   {
    "duration": 5,
    "start_time": "2024-04-23T08:15:50.847Z"
   },
   {
    "duration": 17,
    "start_time": "2024-04-23T08:15:50.853Z"
   },
   {
    "duration": 22,
    "start_time": "2024-04-23T08:15:50.871Z"
   },
   {
    "duration": 20,
    "start_time": "2024-04-23T08:15:50.894Z"
   },
   {
    "duration": 13,
    "start_time": "2024-04-23T08:15:50.916Z"
   },
   {
    "duration": 8,
    "start_time": "2024-04-23T08:15:50.930Z"
   },
   {
    "duration": 7,
    "start_time": "2024-04-23T08:15:50.942Z"
   },
   {
    "duration": 4,
    "start_time": "2024-04-23T08:15:50.951Z"
   },
   {
    "duration": 4,
    "start_time": "2024-04-23T08:15:50.957Z"
   },
   {
    "duration": 12,
    "start_time": "2024-04-23T08:15:50.962Z"
   },
   {
    "duration": 15,
    "start_time": "2024-04-23T08:15:50.976Z"
   },
   {
    "duration": 17,
    "start_time": "2024-04-23T08:15:50.992Z"
   },
   {
    "duration": 32,
    "start_time": "2024-04-23T08:15:51.010Z"
   },
   {
    "duration": 4,
    "start_time": "2024-04-23T08:15:51.044Z"
   },
   {
    "duration": 7,
    "start_time": "2024-04-23T08:15:51.049Z"
   },
   {
    "duration": 40,
    "start_time": "2024-04-23T08:15:51.057Z"
   },
   {
    "duration": 3,
    "start_time": "2024-04-23T08:15:51.099Z"
   },
   {
    "duration": 263,
    "start_time": "2024-04-23T08:15:51.104Z"
   },
   {
    "duration": 22,
    "start_time": "2024-04-23T08:15:51.369Z"
   },
   {
    "duration": 7,
    "start_time": "2024-04-23T08:15:51.392Z"
   },
   {
    "duration": 32,
    "start_time": "2024-04-23T08:15:51.401Z"
   },
   {
    "duration": 22,
    "start_time": "2024-04-23T08:15:51.434Z"
   },
   {
    "duration": 19,
    "start_time": "2024-04-23T08:15:51.458Z"
   },
   {
    "duration": 139,
    "start_time": "2024-04-23T08:15:51.479Z"
   },
   {
    "duration": 18,
    "start_time": "2024-04-23T08:15:51.619Z"
   },
   {
    "duration": 187,
    "start_time": "2024-04-23T08:15:51.639Z"
   },
   {
    "duration": 33,
    "start_time": "2024-04-23T08:15:51.827Z"
   },
   {
    "duration": 287,
    "start_time": "2024-04-23T08:15:51.862Z"
   },
   {
    "duration": 5,
    "start_time": "2024-04-23T08:15:52.151Z"
   },
   {
    "duration": 7,
    "start_time": "2024-04-23T08:15:52.157Z"
   },
   {
    "duration": 7,
    "start_time": "2024-04-23T08:15:52.166Z"
   },
   {
    "duration": 9,
    "start_time": "2024-04-23T08:15:52.174Z"
   },
   {
    "duration": 199,
    "start_time": "2024-04-23T08:15:52.184Z"
   },
   {
    "duration": 6,
    "start_time": "2024-04-23T08:15:52.385Z"
   },
   {
    "duration": 82,
    "start_time": "2024-04-23T08:15:52.393Z"
   },
   {
    "duration": 10,
    "start_time": "2024-04-23T08:15:52.476Z"
   },
   {
    "duration": 21,
    "start_time": "2024-04-23T08:15:52.488Z"
   },
   {
    "duration": 26,
    "start_time": "2024-04-23T08:15:52.510Z"
   },
   {
    "duration": 22,
    "start_time": "2024-04-23T08:15:52.537Z"
   },
   {
    "duration": 42,
    "start_time": "2024-04-23T08:15:52.560Z"
   },
   {
    "duration": 32,
    "start_time": "2024-04-23T08:15:52.604Z"
   },
   {
    "duration": 296,
    "start_time": "2024-04-23T08:15:52.637Z"
   },
   {
    "duration": 10,
    "start_time": "2024-04-23T08:15:52.934Z"
   },
   {
    "duration": 134,
    "start_time": "2024-04-23T08:15:52.945Z"
   },
   {
    "duration": 9,
    "start_time": "2024-04-23T08:15:53.084Z"
   },
   {
    "duration": 10,
    "start_time": "2024-04-23T08:15:53.094Z"
   },
   {
    "duration": 13,
    "start_time": "2024-04-23T08:15:53.105Z"
   },
   {
    "duration": 228,
    "start_time": "2024-04-23T08:15:53.120Z"
   },
   {
    "duration": 25,
    "start_time": "2024-04-23T08:15:53.349Z"
   },
   {
    "duration": 428,
    "start_time": "2024-04-23T08:16:28.795Z"
   },
   {
    "duration": 129,
    "start_time": "2024-04-23T08:16:29.224Z"
   },
   {
    "duration": 35,
    "start_time": "2024-04-23T08:16:29.354Z"
   },
   {
    "duration": 11,
    "start_time": "2024-04-23T08:16:29.390Z"
   },
   {
    "duration": 49,
    "start_time": "2024-04-23T08:16:29.402Z"
   },
   {
    "duration": 3,
    "start_time": "2024-04-23T08:16:29.452Z"
   },
   {
    "duration": 7,
    "start_time": "2024-04-23T08:16:29.457Z"
   },
   {
    "duration": 36,
    "start_time": "2024-04-23T08:16:29.466Z"
   },
   {
    "duration": 13,
    "start_time": "2024-04-23T08:16:29.503Z"
   },
   {
    "duration": 18,
    "start_time": "2024-04-23T08:16:29.518Z"
   },
   {
    "duration": 10,
    "start_time": "2024-04-23T08:16:29.537Z"
   },
   {
    "duration": 14,
    "start_time": "2024-04-23T08:16:29.548Z"
   },
   {
    "duration": 4,
    "start_time": "2024-04-23T08:16:29.563Z"
   },
   {
    "duration": 20,
    "start_time": "2024-04-23T08:16:29.568Z"
   },
   {
    "duration": 6,
    "start_time": "2024-04-23T08:16:29.589Z"
   },
   {
    "duration": 9,
    "start_time": "2024-04-23T08:16:29.596Z"
   },
   {
    "duration": 11,
    "start_time": "2024-04-23T08:16:29.606Z"
   },
   {
    "duration": 4,
    "start_time": "2024-04-23T08:16:29.618Z"
   },
   {
    "duration": 4,
    "start_time": "2024-04-23T08:16:29.623Z"
   },
   {
    "duration": 11,
    "start_time": "2024-04-23T08:16:29.628Z"
   },
   {
    "duration": 29,
    "start_time": "2024-04-23T08:16:29.640Z"
   },
   {
    "duration": 4,
    "start_time": "2024-04-23T08:16:29.670Z"
   },
   {
    "duration": 19,
    "start_time": "2024-04-23T08:16:29.675Z"
   },
   {
    "duration": 4,
    "start_time": "2024-04-23T08:16:29.695Z"
   },
   {
    "duration": 21,
    "start_time": "2024-04-23T08:16:29.701Z"
   },
   {
    "duration": 5,
    "start_time": "2024-04-23T08:16:29.723Z"
   },
   {
    "duration": 5,
    "start_time": "2024-04-23T08:16:29.729Z"
   },
   {
    "duration": 6,
    "start_time": "2024-04-23T08:16:29.738Z"
   },
   {
    "duration": 5,
    "start_time": "2024-04-23T08:16:29.746Z"
   },
   {
    "duration": 9,
    "start_time": "2024-04-23T08:16:29.753Z"
   },
   {
    "duration": 25,
    "start_time": "2024-04-23T08:16:29.763Z"
   },
   {
    "duration": 12,
    "start_time": "2024-04-23T08:16:29.790Z"
   },
   {
    "duration": 7,
    "start_time": "2024-04-23T08:16:29.803Z"
   },
   {
    "duration": 22,
    "start_time": "2024-04-23T08:16:29.812Z"
   },
   {
    "duration": 6,
    "start_time": "2024-04-23T08:16:29.836Z"
   },
   {
    "duration": 10,
    "start_time": "2024-04-23T08:16:29.843Z"
   },
   {
    "duration": 54,
    "start_time": "2024-04-23T08:16:29.854Z"
   },
   {
    "duration": 3,
    "start_time": "2024-04-23T08:16:29.909Z"
   },
   {
    "duration": 258,
    "start_time": "2024-04-23T08:16:29.914Z"
   },
   {
    "duration": 17,
    "start_time": "2024-04-23T08:16:30.173Z"
   },
   {
    "duration": 30,
    "start_time": "2024-04-23T08:16:30.192Z"
   },
   {
    "duration": 47,
    "start_time": "2024-04-23T08:16:30.223Z"
   },
   {
    "duration": 114,
    "start_time": "2024-04-23T08:16:30.272Z"
   },
   {
    "duration": 129,
    "start_time": "2024-04-23T08:16:30.388Z"
   },
   {
    "duration": 239,
    "start_time": "2024-04-23T08:16:30.519Z"
   },
   {
    "duration": 28,
    "start_time": "2024-04-23T08:16:30.760Z"
   },
   {
    "duration": 252,
    "start_time": "2024-04-23T08:16:30.790Z"
   },
   {
    "duration": 42,
    "start_time": "2024-04-23T08:16:31.043Z"
   },
   {
    "duration": 371,
    "start_time": "2024-04-23T08:16:31.086Z"
   },
   {
    "duration": 32,
    "start_time": "2024-04-23T08:16:31.459Z"
   },
   {
    "duration": 73,
    "start_time": "2024-04-23T08:16:31.492Z"
   },
   {
    "duration": 29,
    "start_time": "2024-04-23T08:16:31.566Z"
   },
   {
    "duration": 54,
    "start_time": "2024-04-23T08:16:31.596Z"
   },
   {
    "duration": 227,
    "start_time": "2024-04-23T08:16:31.651Z"
   },
   {
    "duration": 7,
    "start_time": "2024-04-23T08:16:31.879Z"
   },
   {
    "duration": 108,
    "start_time": "2024-04-23T08:16:31.887Z"
   },
   {
    "duration": 5,
    "start_time": "2024-04-23T08:16:31.996Z"
   },
   {
    "duration": 43,
    "start_time": "2024-04-23T08:16:32.002Z"
   },
   {
    "duration": 26,
    "start_time": "2024-04-23T08:16:32.047Z"
   },
   {
    "duration": 23,
    "start_time": "2024-04-23T08:16:32.075Z"
   },
   {
    "duration": 42,
    "start_time": "2024-04-23T08:16:32.100Z"
   },
   {
    "duration": 22,
    "start_time": "2024-04-23T08:16:32.144Z"
   },
   {
    "duration": 308,
    "start_time": "2024-04-23T08:16:32.168Z"
   },
   {
    "duration": 13,
    "start_time": "2024-04-23T08:16:32.477Z"
   },
   {
    "duration": 126,
    "start_time": "2024-04-23T08:16:32.491Z"
   },
   {
    "duration": 10,
    "start_time": "2024-04-23T08:16:32.618Z"
   },
   {
    "duration": 14,
    "start_time": "2024-04-23T08:16:32.629Z"
   },
   {
    "duration": 11,
    "start_time": "2024-04-23T08:16:32.644Z"
   },
   {
    "duration": 237,
    "start_time": "2024-04-23T08:16:32.656Z"
   },
   {
    "duration": 26,
    "start_time": "2024-04-23T08:16:32.894Z"
   },
   {
    "duration": 6,
    "start_time": "2024-04-23T08:21:12.518Z"
   },
   {
    "duration": 10,
    "start_time": "2024-04-23T08:34:42.563Z"
   },
   {
    "duration": 135,
    "start_time": "2024-04-23T08:42:52.714Z"
   },
   {
    "duration": 192,
    "start_time": "2024-04-23T08:43:23.354Z"
   },
   {
    "duration": 333,
    "start_time": "2024-04-23T08:43:46.431Z"
   },
   {
    "duration": 3,
    "start_time": "2024-04-23T09:59:37.061Z"
   },
   {
    "duration": 125,
    "start_time": "2024-04-23T09:59:41.692Z"
   },
   {
    "duration": 427,
    "start_time": "2024-04-23T09:59:49.913Z"
   },
   {
    "duration": 125,
    "start_time": "2024-04-23T09:59:50.342Z"
   },
   {
    "duration": 35,
    "start_time": "2024-04-23T09:59:50.469Z"
   },
   {
    "duration": 10,
    "start_time": "2024-04-23T09:59:50.506Z"
   },
   {
    "duration": 62,
    "start_time": "2024-04-23T09:59:50.517Z"
   },
   {
    "duration": 4,
    "start_time": "2024-04-23T09:59:50.580Z"
   },
   {
    "duration": 21,
    "start_time": "2024-04-23T09:59:50.585Z"
   },
   {
    "duration": 33,
    "start_time": "2024-04-23T09:59:50.608Z"
   },
   {
    "duration": 13,
    "start_time": "2024-04-23T09:59:50.643Z"
   },
   {
    "duration": 37,
    "start_time": "2024-04-23T09:59:50.657Z"
   },
   {
    "duration": 31,
    "start_time": "2024-04-23T09:59:50.695Z"
   },
   {
    "duration": 29,
    "start_time": "2024-04-23T09:59:50.728Z"
   },
   {
    "duration": 22,
    "start_time": "2024-04-23T09:59:50.760Z"
   },
   {
    "duration": 46,
    "start_time": "2024-04-23T09:59:50.784Z"
   },
   {
    "duration": 32,
    "start_time": "2024-04-23T09:59:50.831Z"
   },
   {
    "duration": 14,
    "start_time": "2024-04-23T09:59:50.864Z"
   },
   {
    "duration": 36,
    "start_time": "2024-04-23T09:59:50.879Z"
   },
   {
    "duration": 4,
    "start_time": "2024-04-23T09:59:50.917Z"
   },
   {
    "duration": 57,
    "start_time": "2024-04-23T09:59:50.922Z"
   },
   {
    "duration": 88,
    "start_time": "2024-04-23T09:59:50.981Z"
   },
   {
    "duration": 44,
    "start_time": "2024-04-23T09:59:51.070Z"
   },
   {
    "duration": 5,
    "start_time": "2024-04-23T09:59:51.115Z"
   },
   {
    "duration": 24,
    "start_time": "2024-04-23T09:59:51.121Z"
   },
   {
    "duration": 4,
    "start_time": "2024-04-23T09:59:51.146Z"
   },
   {
    "duration": 44,
    "start_time": "2024-04-23T09:59:51.151Z"
   },
   {
    "duration": 27,
    "start_time": "2024-04-23T09:59:51.196Z"
   },
   {
    "duration": 14,
    "start_time": "2024-04-23T09:59:51.225Z"
   },
   {
    "duration": 33,
    "start_time": "2024-04-23T09:59:51.241Z"
   },
   {
    "duration": 32,
    "start_time": "2024-04-23T09:59:51.276Z"
   },
   {
    "duration": 17,
    "start_time": "2024-04-23T09:59:51.309Z"
   },
   {
    "duration": 6,
    "start_time": "2024-04-23T09:59:51.327Z"
   },
   {
    "duration": 7,
    "start_time": "2024-04-23T09:59:51.334Z"
   },
   {
    "duration": 7,
    "start_time": "2024-04-23T09:59:51.342Z"
   },
   {
    "duration": 35,
    "start_time": "2024-04-23T09:59:51.350Z"
   },
   {
    "duration": 14,
    "start_time": "2024-04-23T09:59:51.386Z"
   },
   {
    "duration": 22,
    "start_time": "2024-04-23T09:59:51.401Z"
   },
   {
    "duration": 42,
    "start_time": "2024-04-23T09:59:51.424Z"
   },
   {
    "duration": 3,
    "start_time": "2024-04-23T09:59:51.467Z"
   },
   {
    "duration": 266,
    "start_time": "2024-04-23T09:59:51.471Z"
   },
   {
    "duration": 12,
    "start_time": "2024-04-23T09:59:51.741Z"
   },
   {
    "duration": 19,
    "start_time": "2024-04-23T09:59:51.754Z"
   },
   {
    "duration": 39,
    "start_time": "2024-04-23T09:59:51.775Z"
   },
   {
    "duration": 20,
    "start_time": "2024-04-23T09:59:51.815Z"
   },
   {
    "duration": 12,
    "start_time": "2024-04-23T09:59:51.836Z"
   },
   {
    "duration": 128,
    "start_time": "2024-04-23T09:59:51.849Z"
   },
   {
    "duration": 22,
    "start_time": "2024-04-23T09:59:51.979Z"
   },
   {
    "duration": 190,
    "start_time": "2024-04-23T09:59:52.003Z"
   },
   {
    "duration": 35,
    "start_time": "2024-04-23T09:59:52.195Z"
   },
   {
    "duration": 285,
    "start_time": "2024-04-23T09:59:52.232Z"
   },
   {
    "duration": 6,
    "start_time": "2024-04-23T09:59:52.519Z"
   },
   {
    "duration": 34,
    "start_time": "2024-04-23T09:59:52.527Z"
   },
   {
    "duration": 11,
    "start_time": "2024-04-23T09:59:52.563Z"
   },
   {
    "duration": 28,
    "start_time": "2024-04-23T09:59:52.575Z"
   },
   {
    "duration": 218,
    "start_time": "2024-04-23T09:59:52.604Z"
   },
   {
    "duration": 6,
    "start_time": "2024-04-23T09:59:52.823Z"
   },
   {
    "duration": 92,
    "start_time": "2024-04-23T09:59:52.831Z"
   },
   {
    "duration": 5,
    "start_time": "2024-04-23T09:59:52.924Z"
   },
   {
    "duration": 48,
    "start_time": "2024-04-23T09:59:52.930Z"
   },
   {
    "duration": 68,
    "start_time": "2024-04-23T09:59:52.979Z"
   },
   {
    "duration": 33,
    "start_time": "2024-04-23T09:59:53.048Z"
   },
   {
    "duration": 34,
    "start_time": "2024-04-23T09:59:53.082Z"
   },
   {
    "duration": 43,
    "start_time": "2024-04-23T09:59:53.118Z"
   },
   {
    "duration": 11,
    "start_time": "2024-04-23T09:59:53.162Z"
   },
   {
    "duration": 269,
    "start_time": "2024-04-23T09:59:53.174Z"
   },
   {
    "duration": 10,
    "start_time": "2024-04-23T09:59:53.444Z"
   },
   {
    "duration": 27,
    "start_time": "2024-04-23T09:59:53.455Z"
   },
   {
    "duration": 30,
    "start_time": "2024-04-23T09:59:53.483Z"
   },
   {
    "duration": 20,
    "start_time": "2024-04-23T09:59:53.514Z"
   },
   {
    "duration": 236,
    "start_time": "2024-04-23T09:59:53.535Z"
   },
   {
    "duration": 28,
    "start_time": "2024-04-23T09:59:53.773Z"
   },
   {
    "duration": 293,
    "start_time": "2024-04-23T09:59:53.802Z"
   },
   {
    "duration": 472,
    "start_time": "2024-04-23T10:44:23.667Z"
   },
   {
    "duration": 125,
    "start_time": "2024-04-23T10:44:24.140Z"
   },
   {
    "duration": 37,
    "start_time": "2024-04-23T10:44:24.266Z"
   },
   {
    "duration": 11,
    "start_time": "2024-04-23T10:44:24.304Z"
   },
   {
    "duration": 42,
    "start_time": "2024-04-23T10:44:24.317Z"
   },
   {
    "duration": 4,
    "start_time": "2024-04-23T10:44:24.360Z"
   },
   {
    "duration": 25,
    "start_time": "2024-04-23T10:44:24.365Z"
   },
   {
    "duration": 17,
    "start_time": "2024-04-23T10:44:24.391Z"
   },
   {
    "duration": 25,
    "start_time": "2024-04-23T10:44:24.409Z"
   },
   {
    "duration": 11,
    "start_time": "2024-04-23T10:44:24.435Z"
   },
   {
    "duration": 11,
    "start_time": "2024-04-23T10:44:24.448Z"
   },
   {
    "duration": 8,
    "start_time": "2024-04-23T10:44:24.460Z"
   },
   {
    "duration": 14,
    "start_time": "2024-04-23T10:44:24.469Z"
   },
   {
    "duration": 10,
    "start_time": "2024-04-23T10:44:24.485Z"
   },
   {
    "duration": 3,
    "start_time": "2024-04-23T10:44:24.496Z"
   },
   {
    "duration": 16,
    "start_time": "2024-04-23T10:44:24.500Z"
   },
   {
    "duration": 2,
    "start_time": "2024-04-23T10:44:24.517Z"
   },
   {
    "duration": 6,
    "start_time": "2024-04-23T10:44:24.520Z"
   },
   {
    "duration": 11,
    "start_time": "2024-04-23T10:44:24.527Z"
   },
   {
    "duration": 9,
    "start_time": "2024-04-23T10:44:24.539Z"
   },
   {
    "duration": 32,
    "start_time": "2024-04-23T10:44:24.549Z"
   },
   {
    "duration": 5,
    "start_time": "2024-04-23T10:44:24.581Z"
   },
   {
    "duration": 14,
    "start_time": "2024-04-23T10:44:24.587Z"
   },
   {
    "duration": 15,
    "start_time": "2024-04-23T10:44:24.602Z"
   },
   {
    "duration": 13,
    "start_time": "2024-04-23T10:44:24.618Z"
   },
   {
    "duration": 5,
    "start_time": "2024-04-23T10:44:24.632Z"
   },
   {
    "duration": 9,
    "start_time": "2024-04-23T10:44:24.638Z"
   },
   {
    "duration": 7,
    "start_time": "2024-04-23T10:44:24.648Z"
   },
   {
    "duration": 14,
    "start_time": "2024-04-23T10:44:24.656Z"
   },
   {
    "duration": 8,
    "start_time": "2024-04-23T10:44:24.671Z"
   },
   {
    "duration": 5,
    "start_time": "2024-04-23T10:44:24.680Z"
   },
   {
    "duration": 8,
    "start_time": "2024-04-23T10:44:24.687Z"
   },
   {
    "duration": 4,
    "start_time": "2024-04-23T10:44:24.696Z"
   },
   {
    "duration": 24,
    "start_time": "2024-04-23T10:44:24.701Z"
   },
   {
    "duration": 3,
    "start_time": "2024-04-23T10:44:24.726Z"
   },
   {
    "duration": 6,
    "start_time": "2024-04-23T10:44:24.730Z"
   },
   {
    "duration": 53,
    "start_time": "2024-04-23T10:44:24.737Z"
   },
   {
    "duration": 3,
    "start_time": "2024-04-23T10:44:24.792Z"
   },
   {
    "duration": 264,
    "start_time": "2024-04-23T10:44:24.797Z"
   },
   {
    "duration": 12,
    "start_time": "2024-04-23T10:44:25.063Z"
   },
   {
    "duration": 6,
    "start_time": "2024-04-23T10:44:25.084Z"
   },
   {
    "duration": 36,
    "start_time": "2024-04-23T10:44:25.091Z"
   },
   {
    "duration": 3,
    "start_time": "2024-04-23T10:44:25.129Z"
   },
   {
    "duration": 14,
    "start_time": "2024-04-23T10:44:25.133Z"
   },
   {
    "duration": 116,
    "start_time": "2024-04-23T10:44:25.149Z"
   },
   {
    "duration": 27,
    "start_time": "2024-04-23T10:44:25.266Z"
   },
   {
    "duration": 192,
    "start_time": "2024-04-23T10:44:25.294Z"
   },
   {
    "duration": 34,
    "start_time": "2024-04-23T10:44:25.487Z"
   },
   {
    "duration": 303,
    "start_time": "2024-04-23T10:44:25.522Z"
   },
   {
    "duration": 6,
    "start_time": "2024-04-23T10:44:25.827Z"
   },
   {
    "duration": 7,
    "start_time": "2024-04-23T10:44:25.835Z"
   },
   {
    "duration": 7,
    "start_time": "2024-04-23T10:44:25.843Z"
   },
   {
    "duration": 12,
    "start_time": "2024-04-23T10:44:25.851Z"
   },
   {
    "duration": 196,
    "start_time": "2024-04-23T10:44:25.864Z"
   },
   {
    "duration": 7,
    "start_time": "2024-04-23T10:44:26.062Z"
   },
   {
    "duration": 90,
    "start_time": "2024-04-23T10:44:26.071Z"
   },
   {
    "duration": 22,
    "start_time": "2024-04-23T10:44:26.163Z"
   },
   {
    "duration": 5,
    "start_time": "2024-04-23T10:44:26.187Z"
   },
   {
    "duration": 21,
    "start_time": "2024-04-23T10:44:26.194Z"
   },
   {
    "duration": 20,
    "start_time": "2024-04-23T10:44:26.217Z"
   },
   {
    "duration": 14,
    "start_time": "2024-04-23T10:44:26.239Z"
   },
   {
    "duration": 6,
    "start_time": "2024-04-23T10:44:26.254Z"
   },
   {
    "duration": 287,
    "start_time": "2024-04-23T10:44:26.261Z"
   },
   {
    "duration": 10,
    "start_time": "2024-04-23T10:44:26.550Z"
   },
   {
    "duration": 22,
    "start_time": "2024-04-23T10:44:26.561Z"
   },
   {
    "duration": 10,
    "start_time": "2024-04-23T10:44:26.585Z"
   },
   {
    "duration": 12,
    "start_time": "2024-04-23T10:44:26.596Z"
   },
   {
    "duration": 219,
    "start_time": "2024-04-23T10:44:26.609Z"
   },
   {
    "duration": 25,
    "start_time": "2024-04-23T10:44:26.830Z"
   },
   {
    "duration": 302,
    "start_time": "2024-04-23T10:44:26.856Z"
   },
   {
    "duration": 65,
    "start_time": "2024-04-24T18:34:58.054Z"
   },
   {
    "duration": 0,
    "start_time": "2024-04-24T18:34:58.122Z"
   },
   {
    "duration": 0,
    "start_time": "2024-04-24T18:34:58.123Z"
   },
   {
    "duration": 0,
    "start_time": "2024-04-24T18:34:58.124Z"
   },
   {
    "duration": 0,
    "start_time": "2024-04-24T18:34:58.125Z"
   },
   {
    "duration": 0,
    "start_time": "2024-04-24T18:34:58.128Z"
   },
   {
    "duration": 0,
    "start_time": "2024-04-24T18:34:58.129Z"
   },
   {
    "duration": 0,
    "start_time": "2024-04-24T18:34:58.129Z"
   },
   {
    "duration": 0,
    "start_time": "2024-04-24T18:34:58.130Z"
   },
   {
    "duration": 0,
    "start_time": "2024-04-24T18:34:58.133Z"
   },
   {
    "duration": 0,
    "start_time": "2024-04-24T18:34:58.133Z"
   },
   {
    "duration": 0,
    "start_time": "2024-04-24T18:34:58.134Z"
   },
   {
    "duration": 0,
    "start_time": "2024-04-24T18:34:58.135Z"
   },
   {
    "duration": 0,
    "start_time": "2024-04-24T18:34:58.136Z"
   },
   {
    "duration": 0,
    "start_time": "2024-04-24T18:34:58.136Z"
   },
   {
    "duration": 0,
    "start_time": "2024-04-24T18:34:58.138Z"
   },
   {
    "duration": 0,
    "start_time": "2024-04-24T18:34:58.139Z"
   },
   {
    "duration": 0,
    "start_time": "2024-04-24T18:34:58.140Z"
   },
   {
    "duration": 0,
    "start_time": "2024-04-24T18:34:58.142Z"
   },
   {
    "duration": 0,
    "start_time": "2024-04-24T18:34:58.143Z"
   },
   {
    "duration": 0,
    "start_time": "2024-04-24T18:34:58.144Z"
   },
   {
    "duration": 0,
    "start_time": "2024-04-24T18:34:58.145Z"
   },
   {
    "duration": 0,
    "start_time": "2024-04-24T18:34:58.146Z"
   },
   {
    "duration": 0,
    "start_time": "2024-04-24T18:34:58.147Z"
   },
   {
    "duration": 0,
    "start_time": "2024-04-24T18:34:58.148Z"
   },
   {
    "duration": 0,
    "start_time": "2024-04-24T18:34:58.149Z"
   },
   {
    "duration": 0,
    "start_time": "2024-04-24T18:34:58.151Z"
   },
   {
    "duration": 0,
    "start_time": "2024-04-24T18:34:58.152Z"
   },
   {
    "duration": 0,
    "start_time": "2024-04-24T18:34:58.153Z"
   },
   {
    "duration": 0,
    "start_time": "2024-04-24T18:34:58.154Z"
   },
   {
    "duration": 0,
    "start_time": "2024-04-24T18:34:58.156Z"
   },
   {
    "duration": 0,
    "start_time": "2024-04-24T18:34:58.157Z"
   },
   {
    "duration": 0,
    "start_time": "2024-04-24T18:34:58.158Z"
   },
   {
    "duration": 0,
    "start_time": "2024-04-24T18:34:58.160Z"
   },
   {
    "duration": 0,
    "start_time": "2024-04-24T18:34:58.160Z"
   },
   {
    "duration": 0,
    "start_time": "2024-04-24T18:34:58.162Z"
   },
   {
    "duration": 0,
    "start_time": "2024-04-24T18:34:58.163Z"
   },
   {
    "duration": 0,
    "start_time": "2024-04-24T18:34:58.164Z"
   },
   {
    "duration": 0,
    "start_time": "2024-04-24T18:34:58.165Z"
   },
   {
    "duration": 0,
    "start_time": "2024-04-24T18:34:58.222Z"
   },
   {
    "duration": 0,
    "start_time": "2024-04-24T18:34:58.223Z"
   },
   {
    "duration": 122,
    "start_time": "2024-04-24T18:34:58.228Z"
   },
   {
    "duration": 0,
    "start_time": "2024-04-24T18:34:58.351Z"
   },
   {
    "duration": 0,
    "start_time": "2024-04-24T18:34:58.352Z"
   },
   {
    "duration": 0,
    "start_time": "2024-04-24T18:34:58.353Z"
   },
   {
    "duration": 0,
    "start_time": "2024-04-24T18:34:58.354Z"
   },
   {
    "duration": 0,
    "start_time": "2024-04-24T18:34:58.355Z"
   },
   {
    "duration": 0,
    "start_time": "2024-04-24T18:34:58.357Z"
   },
   {
    "duration": 0,
    "start_time": "2024-04-24T18:34:58.358Z"
   },
   {
    "duration": 0,
    "start_time": "2024-04-24T18:34:58.360Z"
   },
   {
    "duration": 0,
    "start_time": "2024-04-24T18:34:58.361Z"
   },
   {
    "duration": 0,
    "start_time": "2024-04-24T18:34:58.362Z"
   },
   {
    "duration": 0,
    "start_time": "2024-04-24T18:34:58.363Z"
   },
   {
    "duration": 0,
    "start_time": "2024-04-24T18:34:58.364Z"
   },
   {
    "duration": 0,
    "start_time": "2024-04-24T18:34:58.365Z"
   },
   {
    "duration": 0,
    "start_time": "2024-04-24T18:34:58.366Z"
   },
   {
    "duration": 0,
    "start_time": "2024-04-24T18:34:58.423Z"
   },
   {
    "duration": 0,
    "start_time": "2024-04-24T18:34:58.424Z"
   },
   {
    "duration": 0,
    "start_time": "2024-04-24T18:34:58.424Z"
   },
   {
    "duration": 0,
    "start_time": "2024-04-24T18:34:58.426Z"
   },
   {
    "duration": 0,
    "start_time": "2024-04-24T18:34:58.428Z"
   },
   {
    "duration": 0,
    "start_time": "2024-04-24T18:34:58.428Z"
   },
   {
    "duration": 0,
    "start_time": "2024-04-24T18:34:58.430Z"
   },
   {
    "duration": 0,
    "start_time": "2024-04-24T18:34:58.430Z"
   },
   {
    "duration": 0,
    "start_time": "2024-04-24T18:34:58.433Z"
   },
   {
    "duration": 0,
    "start_time": "2024-04-24T18:34:58.434Z"
   },
   {
    "duration": 0,
    "start_time": "2024-04-24T18:34:58.435Z"
   },
   {
    "duration": 0,
    "start_time": "2024-04-24T18:34:58.436Z"
   },
   {
    "duration": 0,
    "start_time": "2024-04-24T18:34:58.436Z"
   },
   {
    "duration": 0,
    "start_time": "2024-04-24T18:34:58.437Z"
   },
   {
    "duration": 0,
    "start_time": "2024-04-24T18:34:58.438Z"
   },
   {
    "duration": 504,
    "start_time": "2024-04-24T18:35:21.447Z"
   },
   {
    "duration": 16,
    "start_time": "2024-04-24T18:36:21.911Z"
   },
   {
    "duration": 7,
    "start_time": "2024-04-24T18:36:46.502Z"
   },
   {
    "duration": 3314,
    "start_time": "2024-04-24T18:38:52.861Z"
   },
   {
    "duration": 948,
    "start_time": "2024-04-24T18:39:00.621Z"
   },
   {
    "duration": 3,
    "start_time": "2024-04-24T18:39:24.451Z"
   },
   {
    "duration": 157,
    "start_time": "2024-04-24T18:39:24.456Z"
   },
   {
    "duration": 39,
    "start_time": "2024-04-24T18:39:24.614Z"
   },
   {
    "duration": 14,
    "start_time": "2024-04-24T18:39:24.655Z"
   },
   {
    "duration": 10,
    "start_time": "2024-04-24T18:39:24.671Z"
   },
   {
    "duration": 8,
    "start_time": "2024-04-24T18:39:24.683Z"
   },
   {
    "duration": 34,
    "start_time": "2024-04-24T18:39:24.692Z"
   },
   {
    "duration": 11,
    "start_time": "2024-04-24T18:39:24.728Z"
   },
   {
    "duration": 13,
    "start_time": "2024-04-24T18:39:24.741Z"
   },
   {
    "duration": 849,
    "start_time": "2024-04-24T18:39:24.756Z"
   },
   {
    "duration": 12,
    "start_time": "2024-04-24T18:39:25.622Z"
   },
   {
    "duration": 7,
    "start_time": "2024-04-24T18:39:25.636Z"
   },
   {
    "duration": 10,
    "start_time": "2024-04-24T18:39:25.645Z"
   },
   {
    "duration": 33,
    "start_time": "2024-04-24T18:39:25.656Z"
   },
   {
    "duration": 7,
    "start_time": "2024-04-24T18:39:25.691Z"
   },
   {
    "duration": 7,
    "start_time": "2024-04-24T18:39:25.700Z"
   },
   {
    "duration": 25,
    "start_time": "2024-04-24T18:39:25.709Z"
   },
   {
    "duration": 4,
    "start_time": "2024-04-24T18:39:25.736Z"
   },
   {
    "duration": 7,
    "start_time": "2024-04-24T18:39:25.741Z"
   },
   {
    "duration": 5,
    "start_time": "2024-04-24T18:39:25.749Z"
   },
   {
    "duration": 18,
    "start_time": "2024-04-24T18:39:25.756Z"
   },
   {
    "duration": 24,
    "start_time": "2024-04-24T18:39:25.776Z"
   },
   {
    "duration": 32,
    "start_time": "2024-04-24T18:39:25.801Z"
   },
   {
    "duration": 16,
    "start_time": "2024-04-24T18:39:25.835Z"
   },
   {
    "duration": 5,
    "start_time": "2024-04-24T18:39:25.853Z"
   },
   {
    "duration": 19,
    "start_time": "2024-04-24T18:39:25.859Z"
   },
   {
    "duration": 9,
    "start_time": "2024-04-24T18:39:25.879Z"
   },
   {
    "duration": 18,
    "start_time": "2024-04-24T18:39:25.890Z"
   },
   {
    "duration": 14,
    "start_time": "2024-04-24T18:39:25.909Z"
   },
   {
    "duration": 14,
    "start_time": "2024-04-24T18:39:25.924Z"
   },
   {
    "duration": 10,
    "start_time": "2024-04-24T18:39:25.940Z"
   },
   {
    "duration": 7,
    "start_time": "2024-04-24T18:39:25.952Z"
   },
   {
    "duration": 9,
    "start_time": "2024-04-24T18:39:25.960Z"
   },
   {
    "duration": 5,
    "start_time": "2024-04-24T18:39:25.971Z"
   },
   {
    "duration": 57,
    "start_time": "2024-04-24T18:39:25.978Z"
   },
   {
    "duration": 11,
    "start_time": "2024-04-24T18:39:26.037Z"
   },
   {
    "duration": 21,
    "start_time": "2024-04-24T18:39:26.050Z"
   },
   {
    "duration": 73,
    "start_time": "2024-04-24T18:39:26.073Z"
   },
   {
    "duration": 4,
    "start_time": "2024-04-24T18:39:26.147Z"
   },
   {
    "duration": 156,
    "start_time": "2024-04-24T18:39:26.152Z"
   },
   {
    "duration": 30,
    "start_time": "2024-04-24T18:39:26.310Z"
   },
   {
    "duration": 8,
    "start_time": "2024-04-24T18:39:26.341Z"
   },
   {
    "duration": 98,
    "start_time": "2024-04-24T18:39:26.350Z"
   },
   {
    "duration": 3,
    "start_time": "2024-04-24T18:39:26.449Z"
   },
   {
    "duration": 18,
    "start_time": "2024-04-24T18:39:26.454Z"
   },
   {
    "duration": 161,
    "start_time": "2024-04-24T18:39:26.473Z"
   },
   {
    "duration": 23,
    "start_time": "2024-04-24T18:39:26.635Z"
   },
   {
    "duration": 194,
    "start_time": "2024-04-24T18:39:26.660Z"
   },
   {
    "duration": 37,
    "start_time": "2024-04-24T18:39:26.856Z"
   },
   {
    "duration": 319,
    "start_time": "2024-04-24T18:39:26.895Z"
   },
   {
    "duration": 8,
    "start_time": "2024-04-24T18:39:27.216Z"
   },
   {
    "duration": 18,
    "start_time": "2024-04-24T18:39:27.227Z"
   },
   {
    "duration": 5,
    "start_time": "2024-04-24T18:39:27.247Z"
   },
   {
    "duration": 10,
    "start_time": "2024-04-24T18:39:27.253Z"
   },
   {
    "duration": 276,
    "start_time": "2024-04-24T18:39:27.264Z"
   },
   {
    "duration": 8,
    "start_time": "2024-04-24T18:39:27.542Z"
   },
   {
    "duration": 104,
    "start_time": "2024-04-24T18:39:27.551Z"
   },
   {
    "duration": 10,
    "start_time": "2024-04-24T18:39:27.656Z"
   },
   {
    "duration": 15,
    "start_time": "2024-04-24T18:39:27.667Z"
   },
   {
    "duration": 19,
    "start_time": "2024-04-24T18:39:27.683Z"
   },
   {
    "duration": 27,
    "start_time": "2024-04-24T18:39:27.703Z"
   },
   {
    "duration": 18,
    "start_time": "2024-04-24T18:39:27.737Z"
   },
   {
    "duration": 24,
    "start_time": "2024-04-24T18:39:27.756Z"
   },
   {
    "duration": 371,
    "start_time": "2024-04-24T18:39:27.782Z"
   },
   {
    "duration": 12,
    "start_time": "2024-04-24T18:39:28.155Z"
   },
   {
    "duration": 13,
    "start_time": "2024-04-24T18:39:28.168Z"
   },
   {
    "duration": 15,
    "start_time": "2024-04-24T18:39:28.182Z"
   },
   {
    "duration": 39,
    "start_time": "2024-04-24T18:39:28.199Z"
   },
   {
    "duration": 286,
    "start_time": "2024-04-24T18:39:28.240Z"
   },
   {
    "duration": 35,
    "start_time": "2024-04-24T18:39:28.529Z"
   },
   {
    "duration": 390,
    "start_time": "2024-04-24T18:39:28.566Z"
   },
   {
    "duration": 1114,
    "start_time": "2024-04-24T19:06:32.617Z"
   },
   {
    "duration": 145,
    "start_time": "2024-04-24T19:06:33.733Z"
   },
   {
    "duration": 34,
    "start_time": "2024-04-24T19:06:33.879Z"
   },
   {
    "duration": 14,
    "start_time": "2024-04-24T19:06:33.914Z"
   },
   {
    "duration": 10,
    "start_time": "2024-04-24T19:06:33.930Z"
   },
   {
    "duration": 11,
    "start_time": "2024-04-24T19:06:33.941Z"
   },
   {
    "duration": 14,
    "start_time": "2024-04-24T19:06:33.953Z"
   },
   {
    "duration": 9,
    "start_time": "2024-04-24T19:06:33.968Z"
   },
   {
    "duration": 8,
    "start_time": "2024-04-24T19:06:33.978Z"
   },
   {
    "duration": 836,
    "start_time": "2024-04-24T19:06:33.987Z"
   },
   {
    "duration": 7,
    "start_time": "2024-04-24T19:06:34.825Z"
   },
   {
    "duration": 12,
    "start_time": "2024-04-24T19:06:34.833Z"
   },
   {
    "duration": 7,
    "start_time": "2024-04-24T19:06:34.846Z"
   },
   {
    "duration": 18,
    "start_time": "2024-04-24T19:06:34.856Z"
   },
   {
    "duration": 11,
    "start_time": "2024-04-24T19:06:34.875Z"
   },
   {
    "duration": 5,
    "start_time": "2024-04-24T19:06:34.888Z"
   },
   {
    "duration": 13,
    "start_time": "2024-04-24T19:06:34.895Z"
   },
   {
    "duration": 11,
    "start_time": "2024-04-24T19:06:34.910Z"
   },
   {
    "duration": 11,
    "start_time": "2024-04-24T19:06:34.923Z"
   },
   {
    "duration": 8,
    "start_time": "2024-04-24T19:06:34.935Z"
   },
   {
    "duration": 18,
    "start_time": "2024-04-24T19:06:34.944Z"
   },
   {
    "duration": 30,
    "start_time": "2024-04-24T19:06:34.964Z"
   },
   {
    "duration": 5,
    "start_time": "2024-04-24T19:06:34.996Z"
   },
   {
    "duration": 29,
    "start_time": "2024-04-24T19:06:35.003Z"
   },
   {
    "duration": 5,
    "start_time": "2024-04-24T19:06:35.034Z"
   },
   {
    "duration": 27,
    "start_time": "2024-04-24T19:06:35.040Z"
   },
   {
    "duration": 5,
    "start_time": "2024-04-24T19:06:35.068Z"
   },
   {
    "duration": 8,
    "start_time": "2024-04-24T19:06:35.075Z"
   },
   {
    "duration": 12,
    "start_time": "2024-04-24T19:06:35.085Z"
   },
   {
    "duration": 7,
    "start_time": "2024-04-24T19:06:35.099Z"
   },
   {
    "duration": 7,
    "start_time": "2024-04-24T19:06:35.121Z"
   },
   {
    "duration": 17,
    "start_time": "2024-04-24T19:06:35.130Z"
   },
   {
    "duration": 13,
    "start_time": "2024-04-24T19:06:35.149Z"
   },
   {
    "duration": 30,
    "start_time": "2024-04-24T19:06:35.163Z"
   },
   {
    "duration": 30,
    "start_time": "2024-04-24T19:06:35.195Z"
   },
   {
    "duration": 848,
    "start_time": "2024-04-24T19:06:35.227Z"
   },
   {
    "duration": 0,
    "start_time": "2024-04-24T19:06:36.077Z"
   },
   {
    "duration": 0,
    "start_time": "2024-04-24T19:06:36.080Z"
   },
   {
    "duration": 0,
    "start_time": "2024-04-24T19:06:36.081Z"
   },
   {
    "duration": 0,
    "start_time": "2024-04-24T19:06:36.083Z"
   },
   {
    "duration": 0,
    "start_time": "2024-04-24T19:06:36.084Z"
   },
   {
    "duration": 0,
    "start_time": "2024-04-24T19:06:36.085Z"
   },
   {
    "duration": 0,
    "start_time": "2024-04-24T19:06:36.086Z"
   },
   {
    "duration": 0,
    "start_time": "2024-04-24T19:06:36.088Z"
   },
   {
    "duration": 0,
    "start_time": "2024-04-24T19:06:36.089Z"
   },
   {
    "duration": 0,
    "start_time": "2024-04-24T19:06:36.090Z"
   },
   {
    "duration": 0,
    "start_time": "2024-04-24T19:06:36.091Z"
   },
   {
    "duration": 0,
    "start_time": "2024-04-24T19:06:36.092Z"
   },
   {
    "duration": 0,
    "start_time": "2024-04-24T19:06:36.093Z"
   },
   {
    "duration": 1,
    "start_time": "2024-04-24T19:06:36.094Z"
   },
   {
    "duration": 0,
    "start_time": "2024-04-24T19:06:36.096Z"
   },
   {
    "duration": 0,
    "start_time": "2024-04-24T19:06:36.097Z"
   },
   {
    "duration": 0,
    "start_time": "2024-04-24T19:06:36.098Z"
   },
   {
    "duration": 0,
    "start_time": "2024-04-24T19:06:36.100Z"
   },
   {
    "duration": 0,
    "start_time": "2024-04-24T19:06:36.101Z"
   },
   {
    "duration": 0,
    "start_time": "2024-04-24T19:06:36.102Z"
   },
   {
    "duration": 0,
    "start_time": "2024-04-24T19:06:36.103Z"
   },
   {
    "duration": 0,
    "start_time": "2024-04-24T19:06:36.104Z"
   },
   {
    "duration": 0,
    "start_time": "2024-04-24T19:06:36.105Z"
   },
   {
    "duration": 0,
    "start_time": "2024-04-24T19:06:36.106Z"
   },
   {
    "duration": 0,
    "start_time": "2024-04-24T19:06:36.107Z"
   },
   {
    "duration": 0,
    "start_time": "2024-04-24T19:06:36.108Z"
   },
   {
    "duration": 0,
    "start_time": "2024-04-24T19:06:36.110Z"
   },
   {
    "duration": 0,
    "start_time": "2024-04-24T19:06:36.113Z"
   },
   {
    "duration": 0,
    "start_time": "2024-04-24T19:06:36.120Z"
   },
   {
    "duration": 0,
    "start_time": "2024-04-24T19:06:36.121Z"
   },
   {
    "duration": 0,
    "start_time": "2024-04-24T19:06:36.122Z"
   },
   {
    "duration": 0,
    "start_time": "2024-04-24T19:06:36.123Z"
   },
   {
    "duration": 0,
    "start_time": "2024-04-24T19:06:36.124Z"
   },
   {
    "duration": 0,
    "start_time": "2024-04-24T19:06:36.125Z"
   },
   {
    "duration": 0,
    "start_time": "2024-04-24T19:06:36.126Z"
   },
   {
    "duration": 0,
    "start_time": "2024-04-24T19:06:36.128Z"
   },
   {
    "duration": 1108,
    "start_time": "2024-04-24T19:20:44.578Z"
   },
   {
    "duration": 149,
    "start_time": "2024-04-24T19:20:45.688Z"
   },
   {
    "duration": 37,
    "start_time": "2024-04-24T19:20:45.838Z"
   },
   {
    "duration": 15,
    "start_time": "2024-04-24T19:20:45.877Z"
   },
   {
    "duration": 33,
    "start_time": "2024-04-24T19:20:45.893Z"
   },
   {
    "duration": 4,
    "start_time": "2024-04-24T19:20:45.928Z"
   },
   {
    "duration": 9,
    "start_time": "2024-04-24T19:20:45.933Z"
   },
   {
    "duration": 9,
    "start_time": "2024-04-24T19:20:45.943Z"
   },
   {
    "duration": 8,
    "start_time": "2024-04-24T19:20:45.953Z"
   },
   {
    "duration": 856,
    "start_time": "2024-04-24T19:20:45.963Z"
   },
   {
    "duration": 6,
    "start_time": "2024-04-24T19:20:46.821Z"
   },
   {
    "duration": 8,
    "start_time": "2024-04-24T19:20:46.828Z"
   },
   {
    "duration": 12,
    "start_time": "2024-04-24T19:20:46.837Z"
   },
   {
    "duration": 14,
    "start_time": "2024-04-24T19:20:46.850Z"
   },
   {
    "duration": 7,
    "start_time": "2024-04-24T19:20:46.866Z"
   },
   {
    "duration": 4,
    "start_time": "2024-04-24T19:20:46.874Z"
   },
   {
    "duration": 8,
    "start_time": "2024-04-24T19:20:46.879Z"
   },
   {
    "duration": 3,
    "start_time": "2024-04-24T19:20:46.888Z"
   },
   {
    "duration": 11,
    "start_time": "2024-04-24T19:20:46.893Z"
   },
   {
    "duration": 15,
    "start_time": "2024-04-24T19:20:46.905Z"
   },
   {
    "duration": 8,
    "start_time": "2024-04-24T19:20:46.922Z"
   },
   {
    "duration": 23,
    "start_time": "2024-04-24T19:20:46.931Z"
   },
   {
    "duration": 10,
    "start_time": "2024-04-24T19:20:46.956Z"
   },
   {
    "duration": 22,
    "start_time": "2024-04-24T19:20:46.968Z"
   },
   {
    "duration": 29,
    "start_time": "2024-04-24T19:20:46.992Z"
   },
   {
    "duration": 16,
    "start_time": "2024-04-24T19:20:47.023Z"
   },
   {
    "duration": 5,
    "start_time": "2024-04-24T19:20:47.041Z"
   },
   {
    "duration": 4,
    "start_time": "2024-04-24T19:20:47.050Z"
   },
   {
    "duration": 10,
    "start_time": "2024-04-24T19:20:47.055Z"
   },
   {
    "duration": 5,
    "start_time": "2024-04-24T19:20:47.067Z"
   },
   {
    "duration": 7,
    "start_time": "2024-04-24T19:20:47.073Z"
   },
   {
    "duration": 39,
    "start_time": "2024-04-24T19:20:47.081Z"
   },
   {
    "duration": 7,
    "start_time": "2024-04-24T19:20:47.122Z"
   },
   {
    "duration": 16,
    "start_time": "2024-04-24T19:20:47.130Z"
   },
   {
    "duration": 31,
    "start_time": "2024-04-24T19:20:47.147Z"
   },
   {
    "duration": 60,
    "start_time": "2024-04-24T19:20:47.180Z"
   },
   {
    "duration": 4,
    "start_time": "2024-04-24T19:20:47.242Z"
   },
   {
    "duration": 11,
    "start_time": "2024-04-24T19:20:47.247Z"
   },
   {
    "duration": 61,
    "start_time": "2024-04-24T19:20:47.260Z"
   },
   {
    "duration": 3,
    "start_time": "2024-04-24T19:20:47.323Z"
   },
   {
    "duration": 154,
    "start_time": "2024-04-24T19:20:47.328Z"
   },
   {
    "duration": 15,
    "start_time": "2024-04-24T19:20:47.483Z"
   },
   {
    "duration": 5,
    "start_time": "2024-04-24T19:20:47.499Z"
   },
   {
    "duration": 31,
    "start_time": "2024-04-24T19:20:47.506Z"
   },
   {
    "duration": 3,
    "start_time": "2024-04-24T19:20:47.539Z"
   },
   {
    "duration": 11,
    "start_time": "2024-04-24T19:20:47.544Z"
   },
   {
    "duration": 157,
    "start_time": "2024-04-24T19:20:47.557Z"
   },
   {
    "duration": 22,
    "start_time": "2024-04-24T19:20:47.721Z"
   },
   {
    "duration": 190,
    "start_time": "2024-04-24T19:20:47.744Z"
   },
   {
    "duration": 42,
    "start_time": "2024-04-24T19:20:47.935Z"
   },
   {
    "duration": 296,
    "start_time": "2024-04-24T19:20:47.978Z"
   },
   {
    "duration": 6,
    "start_time": "2024-04-24T19:20:48.276Z"
   },
   {
    "duration": 19,
    "start_time": "2024-04-24T19:20:48.283Z"
   },
   {
    "duration": 9,
    "start_time": "2024-04-24T19:20:48.303Z"
   },
   {
    "duration": 9,
    "start_time": "2024-04-24T19:20:48.313Z"
   },
   {
    "duration": 313,
    "start_time": "2024-04-24T19:20:48.323Z"
   },
   {
    "duration": 9,
    "start_time": "2024-04-24T19:20:48.637Z"
   },
   {
    "duration": 104,
    "start_time": "2024-04-24T19:20:48.649Z"
   },
   {
    "duration": 11,
    "start_time": "2024-04-24T19:20:48.755Z"
   },
   {
    "duration": 21,
    "start_time": "2024-04-24T19:20:48.767Z"
   },
   {
    "duration": 14,
    "start_time": "2024-04-24T19:20:48.791Z"
   },
   {
    "duration": 26,
    "start_time": "2024-04-24T19:20:48.807Z"
   },
   {
    "duration": 17,
    "start_time": "2024-04-24T19:20:48.834Z"
   },
   {
    "duration": 9,
    "start_time": "2024-04-24T19:20:48.852Z"
   },
   {
    "duration": 338,
    "start_time": "2024-04-24T19:20:48.863Z"
   },
   {
    "duration": 17,
    "start_time": "2024-04-24T19:20:49.203Z"
   },
   {
    "duration": 16,
    "start_time": "2024-04-24T19:20:49.222Z"
   },
   {
    "duration": 20,
    "start_time": "2024-04-24T19:20:49.240Z"
   },
   {
    "duration": 14,
    "start_time": "2024-04-24T19:20:49.261Z"
   },
   {
    "duration": 268,
    "start_time": "2024-04-24T19:20:49.276Z"
   },
   {
    "duration": 29,
    "start_time": "2024-04-24T19:20:49.545Z"
   },
   {
    "duration": 345,
    "start_time": "2024-04-24T19:20:49.576Z"
   },
   {
    "duration": 10,
    "start_time": "2024-04-24T19:22:19.083Z"
   },
   {
    "duration": 145,
    "start_time": "2024-04-24T19:24:07.048Z"
   },
   {
    "duration": 172,
    "start_time": "2024-04-24T19:25:48.622Z"
   },
   {
    "duration": 178,
    "start_time": "2024-04-24T19:26:50.224Z"
   },
   {
    "duration": 240,
    "start_time": "2024-04-24T19:26:58.371Z"
   },
   {
    "duration": 310,
    "start_time": "2024-04-24T19:28:31.667Z"
   },
   {
    "duration": 317,
    "start_time": "2024-04-24T19:29:24.748Z"
   },
   {
    "duration": 231,
    "start_time": "2024-04-24T19:30:15.797Z"
   },
   {
    "duration": 234,
    "start_time": "2024-04-24T19:30:21.521Z"
   },
   {
    "duration": 255,
    "start_time": "2024-04-24T19:32:30.618Z"
   },
   {
    "duration": 455,
    "start_time": "2024-04-24T19:33:28.258Z"
   },
   {
    "duration": 7,
    "start_time": "2024-04-24T19:34:56.879Z"
   },
   {
    "duration": 249,
    "start_time": "2024-04-24T19:36:11.293Z"
   },
   {
    "duration": 350,
    "start_time": "2024-04-24T19:36:58.808Z"
   },
   {
    "duration": 1187,
    "start_time": "2024-04-24T21:19:02.333Z"
   },
   {
    "duration": 154,
    "start_time": "2024-04-24T21:19:03.523Z"
   },
   {
    "duration": 36,
    "start_time": "2024-04-24T21:19:03.678Z"
   },
   {
    "duration": 14,
    "start_time": "2024-04-24T21:19:03.716Z"
   },
   {
    "duration": 8,
    "start_time": "2024-04-24T21:19:03.732Z"
   },
   {
    "duration": 5,
    "start_time": "2024-04-24T21:19:03.741Z"
   },
   {
    "duration": 11,
    "start_time": "2024-04-24T21:19:03.747Z"
   },
   {
    "duration": 10,
    "start_time": "2024-04-24T21:19:03.759Z"
   },
   {
    "duration": 10,
    "start_time": "2024-04-24T21:19:03.770Z"
   },
   {
    "duration": 798,
    "start_time": "2024-04-24T21:19:03.781Z"
   },
   {
    "duration": 8,
    "start_time": "2024-04-24T21:19:04.581Z"
   },
   {
    "duration": 12,
    "start_time": "2024-04-24T21:19:04.590Z"
   },
   {
    "duration": 13,
    "start_time": "2024-04-24T21:19:04.603Z"
   },
   {
    "duration": 4,
    "start_time": "2024-04-24T21:19:04.620Z"
   },
   {
    "duration": 20,
    "start_time": "2024-04-24T21:19:04.625Z"
   },
   {
    "duration": 13,
    "start_time": "2024-04-24T21:19:04.647Z"
   },
   {
    "duration": 27,
    "start_time": "2024-04-24T21:19:04.662Z"
   },
   {
    "duration": 5,
    "start_time": "2024-04-24T21:19:04.690Z"
   },
   {
    "duration": 10,
    "start_time": "2024-04-24T21:19:04.696Z"
   },
   {
    "duration": 5,
    "start_time": "2024-04-24T21:19:04.707Z"
   },
   {
    "duration": 15,
    "start_time": "2024-04-24T21:19:04.713Z"
   },
   {
    "duration": 24,
    "start_time": "2024-04-24T21:19:04.729Z"
   },
   {
    "duration": 6,
    "start_time": "2024-04-24T21:19:04.754Z"
   },
   {
    "duration": 17,
    "start_time": "2024-04-24T21:19:04.762Z"
   },
   {
    "duration": 6,
    "start_time": "2024-04-24T21:19:04.780Z"
   },
   {
    "duration": 53,
    "start_time": "2024-04-24T21:19:04.787Z"
   },
   {
    "duration": 5,
    "start_time": "2024-04-24T21:19:04.841Z"
   },
   {
    "duration": 26,
    "start_time": "2024-04-24T21:19:04.848Z"
   },
   {
    "duration": 10,
    "start_time": "2024-04-24T21:19:04.875Z"
   },
   {
    "duration": 14,
    "start_time": "2024-04-24T21:19:04.886Z"
   },
   {
    "duration": 25,
    "start_time": "2024-04-24T21:19:04.901Z"
   },
   {
    "duration": 6,
    "start_time": "2024-04-24T21:19:04.928Z"
   },
   {
    "duration": 19,
    "start_time": "2024-04-24T21:19:04.935Z"
   },
   {
    "duration": 24,
    "start_time": "2024-04-24T21:19:04.956Z"
   },
   {
    "duration": 41,
    "start_time": "2024-04-24T21:19:04.981Z"
   },
   {
    "duration": 85,
    "start_time": "2024-04-24T21:19:05.024Z"
   },
   {
    "duration": 6,
    "start_time": "2024-04-24T21:19:05.110Z"
   },
   {
    "duration": 69,
    "start_time": "2024-04-24T21:19:05.117Z"
   },
   {
    "duration": 2,
    "start_time": "2024-04-24T21:19:05.188Z"
   },
   {
    "duration": 163,
    "start_time": "2024-04-24T21:19:05.191Z"
   },
   {
    "duration": 14,
    "start_time": "2024-04-24T21:19:05.357Z"
   },
   {
    "duration": 6,
    "start_time": "2024-04-24T21:19:05.372Z"
   },
   {
    "duration": 45,
    "start_time": "2024-04-24T21:19:05.379Z"
   },
   {
    "duration": 4,
    "start_time": "2024-04-24T21:19:05.425Z"
   },
   {
    "duration": 31,
    "start_time": "2024-04-24T21:19:05.430Z"
   },
   {
    "duration": 137,
    "start_time": "2024-04-24T21:19:05.462Z"
   },
   {
    "duration": 24,
    "start_time": "2024-04-24T21:19:05.601Z"
   },
   {
    "duration": 187,
    "start_time": "2024-04-24T21:19:05.626Z"
   },
   {
    "duration": 40,
    "start_time": "2024-04-24T21:19:05.815Z"
   },
   {
    "duration": 307,
    "start_time": "2024-04-24T21:19:05.856Z"
   },
   {
    "duration": 6,
    "start_time": "2024-04-24T21:19:06.165Z"
   },
   {
    "duration": 39,
    "start_time": "2024-04-24T21:19:06.173Z"
   },
   {
    "duration": 14,
    "start_time": "2024-04-24T21:19:06.213Z"
   },
   {
    "duration": 24,
    "start_time": "2024-04-24T21:19:06.229Z"
   },
   {
    "duration": 278,
    "start_time": "2024-04-24T21:19:06.254Z"
   },
   {
    "duration": 8,
    "start_time": "2024-04-24T21:19:06.533Z"
   },
   {
    "duration": 91,
    "start_time": "2024-04-24T21:19:06.543Z"
   },
   {
    "duration": 10,
    "start_time": "2024-04-24T21:19:06.636Z"
   },
   {
    "duration": 5,
    "start_time": "2024-04-24T21:19:06.648Z"
   },
   {
    "duration": 11,
    "start_time": "2024-04-24T21:19:06.655Z"
   },
   {
    "duration": 17,
    "start_time": "2024-04-24T21:19:06.668Z"
   },
   {
    "duration": 45,
    "start_time": "2024-04-24T21:19:06.687Z"
   },
   {
    "duration": 8,
    "start_time": "2024-04-24T21:19:06.734Z"
   },
   {
    "duration": 361,
    "start_time": "2024-04-24T21:19:06.743Z"
   },
   {
    "duration": 23,
    "start_time": "2024-04-24T21:19:07.105Z"
   },
   {
    "duration": 21,
    "start_time": "2024-04-24T21:19:07.130Z"
   },
   {
    "duration": 41,
    "start_time": "2024-04-24T21:19:07.153Z"
   },
   {
    "duration": 22,
    "start_time": "2024-04-24T21:19:07.196Z"
   },
   {
    "duration": 255,
    "start_time": "2024-04-24T21:19:07.219Z"
   },
   {
    "duration": 29,
    "start_time": "2024-04-24T21:19:07.476Z"
   },
   {
    "duration": 355,
    "start_time": "2024-04-24T21:19:07.507Z"
   }
  ],
  "colab": {
   "name": "DA+. Сборный проект 1. Шаблон (1).ipynb",
   "provenance": []
  },
  "kernelspec": {
   "display_name": "Python 3 (ipykernel)",
   "language": "python",
   "name": "python3"
  },
  "language_info": {
   "codemirror_mode": {
    "name": "ipython",
    "version": 3
   },
   "file_extension": ".py",
   "mimetype": "text/x-python",
   "name": "python",
   "nbconvert_exporter": "python",
   "pygments_lexer": "ipython3",
   "version": "3.9.5"
  },
  "toc": {
   "base_numbering": 1,
   "nav_menu": {},
   "number_sections": true,
   "sideBar": true,
   "skip_h1_title": true,
   "title_cell": "Table of Contents",
   "title_sidebar": "Contents",
   "toc_cell": false,
   "toc_position": {
    "height": "calc(100% - 180px)",
    "left": "10px",
    "top": "150px",
    "width": "375.391px"
   },
   "toc_section_display": true,
   "toc_window_display": false
  }
 },
 "nbformat": 4,
 "nbformat_minor": 1
}
