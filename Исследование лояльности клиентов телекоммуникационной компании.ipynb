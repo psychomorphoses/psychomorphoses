{
 "cells": [
  {
   "cell_type": "markdown",
   "id": "d37ac357",
   "metadata": {},
   "source": [
    "<div style=\"border:solid Chocolate 2px; padding: 40px\">\n",
    "\n",
    "Гузель привет, меня зовут Станислав, и я буду проверять твой проект. Предлагаю общаться на «ты», но если это неудобно - дай знать, и мы перейдем на «вы».\n",
    "Это учебный проект и здесь не стоит бояться делать ошибки, я хочу поделиться своим опытом и помочь тебе стать аналитиком данных.\n",
    "Уже выполнена большая работа над проектом, давай сделаем его еще лучше. Ниже ты найдешь мои комментарии - пожалуйста, не перемещай, не изменяй и не удаляй их. Я буду использовать цветовую разметку:\n",
    "\n",
    "<div class=\"alert alert-danger\">\n",
    "❌ <b>Комментарий с замечанием ревьюера:</b> Так выделены самые важные замечания. Как только ты их исправишь проект будет принят. </div>\n",
    "\n",
    "<div class=\"alert alert-warning\">\n",
    "⚠️  <b>Комментарий с небольшим замечанием или советом ревьюера:</b> Так выделены небольшие замечания или советы. \n",
    "</div>\n",
    "\n",
    "<div class=\"alert alert-success\">\n",
    "✔️ <b>Комментарий с комплиментом ревьюера:</b> Так я выделяю все остальные комментарии.</div>\n",
    "\n",
    "Давай работать над проектом в диалоге: если ты что-то меняешь в проекте или отвечаешь на мои комментарии — пиши об этом.\n",
    "Мне будет легче отследить изменения, если ты выделишь свои комментарии:\n",
    "<div class=\"alert alert-info\"> <b>🎓 Комментарий студента:</b> Например, вот так.</div>\n",
    "Всё это поможет выполнить повторную проверку твоего проекта оперативнее.\n",
    "</div>\n"
   ]
  },
  {
   "cell_type": "markdown",
   "id": "521c67a5",
   "metadata": {},
   "source": [
    "# Исследование лояльности клиентов телекоммуникационной компании\n",
    "\n",
    "**Описание проекта**\n",
    "\n",
    "Заказчиком исследования стала большая телекоммуникационная компания, которая оказывает услуги на территории всего СНГ. Перед компанией стоит задача определить текущий уровень потребительской лояльности (NPS) среди клиентов из России. Чтобы определить уровень лояльности, клиентам задавали классический вопрос: «Оцените по шкале от 1 до 10 вероятность того, что вы порекомендуете компанию друзьям и знакомым».\n",
    "\n",
    "**Цель исследования** - проанализировать результаты опроса и построить дашборд, который представит информацию о текущем уровне NPS среди клиентов и покажет, как этот уровень меняется в зависимости от пользовательских признаков. \n",
    "\n",
    "**Описание данных:**\n",
    "\n",
    "Данные взяты из SQLite. Путь к файлу - */datasets/telecomm_csi.db*\n",
    "\n",
    "Переменные:\n",
    "\n",
    "*Таблица user*:\n",
    "\n",
    "- user_id - Идентификатор клиента, первичный ключ таблицы\n",
    "- lt_day - Количество дней «жизни» клиента\n",
    "- age - Возраст клиента в годах\n",
    "- gender_segment - Пол клиента (1 – женщина, 0 – мужчина)\n",
    "- os_name - Тип операционной системы\n",
    "- cpe_type_name - Тип устройства\n",
    "- location_id - Идентификатор домашнего региона клиента, внешний ключ, отсылающий к таблице location\n",
    "- age_gr_id - Идентификатор возрастного сегмента клиента, внешний ключ, отсылающий к таблице age_segment\n",
    "- tr_gr_id - Идентификатор сегмента клиента по объёму потребляемого трафика в месяц, внешний ключ, отсылающий к таблице \n",
    "- lt_gr_id - Идентификатор сегмента клиента по количеству месяцев «жизни», внешний ключ, отсылающий к таблице lifetime_segment\n",
    "- nps_score - Оценка клиента в NPS-опросе (от 1 до 10)\n",
    "\n",
    "*Таблица location*:\n",
    "\n",
    "- location_id - Идентификатор записи, первичный ключ\n",
    "- country - Страна\n",
    "- city - Город\n",
    "\n",
    "*Таблица age_segment*:\n",
    "\n",
    "- age_gr_id - Идентификатор сегмента, первичный ключ\n",
    "- bucket_min - Минимальная граница сегмента\n",
    "- bucket_max - Максимальная граница сегмента\n",
    "- title - Название сегмента\n",
    "\n",
    "*Таблица traffic_segment*:\n",
    "\n",
    "- tr_gr_id - Идентификатор сегмента, первичный ключ\n",
    "- bucket_min - Минимальная граница сегмента\n",
    "- bucket_max - Максимальная граница сегмента\n",
    "- title - Название сегмента\n",
    "\n",
    "*Таблица lifetime_segment*:\n",
    "\n",
    "- lt_gr_id - Идентификатор сегмента, первичный ключ\n",
    "- bucket_min - Минимальная граница сегмента\n",
    "- bucket_max - Максимальная граница сегмента\n",
    "- title - Название сегмента\n",
    "\n",
    "**План исследования:**\n",
    "\n",
    "1. Подключение к базе\n",
    "2. Выгрузка данных\n",
    "3. Исследование распределения участников\n",
    "4. Исследование лояльности пользователей\n",
    "5. Составление портрета типичного сторонника компании\n",
    "6. Создание дашборда в Tableau\n",
    "7. Создание презентации\n",
    "8. Общий вывод"
   ]
  },
  {
   "cell_type": "markdown",
   "id": "307487b4",
   "metadata": {},
   "source": [
    "## Подключение к базе"
   ]
  },
  {
   "cell_type": "code",
   "execution_count": 1,
   "id": "fc7efa54",
   "metadata": {},
   "outputs": [],
   "source": [
    "import os\n",
    "import pandas as pd\n",
    "import numpy as np\n",
    "\n",
    "from sqlalchemy import create_engine"
   ]
  },
  {
   "cell_type": "code",
   "execution_count": 2,
   "id": "0017f8e7",
   "metadata": {},
   "outputs": [],
   "source": [
    "path_to_db_local = 'telecomm_csi.db'\n",
    "path_to_db_platform = '/datasets/telecomm_csi.db'\n",
    "path_to_db = None\n",
    "\n",
    "if os.path.exists(path_to_db_local):\n",
    "    path_to_db = path_to_db_local\n",
    "elif os.path.exists(path_to_db_platform):\n",
    "    path_to_db = path_to_db_platform\n",
    "else:\n",
    "    raise Exception('Файл с базой данных SQLite не найден!')\n",
    "\n",
    "if path_to_db:\n",
    "    engine = create_engine(f'sqlite:///{path_to_db}', echo=False)"
   ]
  },
  {
   "cell_type": "markdown",
   "id": "afed786d",
   "metadata": {},
   "source": [
    "## Выгрузка данных"
   ]
  },
  {
   "cell_type": "markdown",
   "id": "af1c8af5",
   "metadata": {},
   "source": [
    "Для создания дашборда выгрузим данные, собрав их из разных таблиц. Для определения лайфтайма клиента (времени жизни в использовании услуг) возьмем условие, что клиента считают новым, если количество дней «жизни» составляет не более 365 дней. А для составления категории по оценкам NPS используем следующее условие: \n",
    "\n",
    "- 9-10 баллов — «cторонники» \n",
    "- 7-8 баллов — «нейтралы» \n",
    "- 0-6 баллов — «критики» "
   ]
  },
  {
   "cell_type": "code",
   "execution_count": 3,
   "id": "4831a71a",
   "metadata": {},
   "outputs": [],
   "source": [
    "data = \"\"\"\n",
    "    SELECT u.user_id,\n",
    "           u.lt_day,\n",
    "           CASE\n",
    "               WHEN u.lt_day <= 365 THEN 'новый'\n",
    "               ELSE 'старый'\n",
    "           END AS is_new,\n",
    "           u.age,\n",
    "           CASE\n",
    "               WHEN u.gender_segment = 1 THEN 'женщина'\n",
    "               WHEN u.gender_segment = 0 THEN 'мужчина'\n",
    "               ELSE 'нет данных'\n",
    "           END AS gender_segment,\n",
    "           u.os_name,\n",
    "           u.cpe_type_name,\n",
    "           l.country,\n",
    "           l.city,\n",
    "           a.title AS age_segment,\n",
    "           t.title AS traffic_segment,\n",
    "           lt.title AS lifetime_segment,\n",
    "           u.nps_score,\n",
    "           CASE\n",
    "               WHEN u.nps_score <= 6 THEN 'критики'\n",
    "               WHEN u.nps_score <= 8 THEN 'нейтралы'\n",
    "               ELSE 'cторонники'\n",
    "           END AS nps_group\n",
    "    FROM user AS u\n",
    "    LEFT JOIN location AS l ON l.location_id = u.location_id\n",
    "    LEFT JOIN age_segment AS a ON a.age_gr_id = u.age_gr_id\n",
    "    LEFT JOIN traffic_segment AS t ON t.tr_gr_id = u.tr_gr_id\n",
    "    LEFT JOIN lifetime_segment AS lt ON lt.lt_gr_id = u.lt_gr_id;\n",
    "    \"\"\"          "
   ]
  },
  {
   "cell_type": "code",
   "execution_count": 4,
   "id": "ffd7be35",
   "metadata": {},
   "outputs": [
    {
     "data": {
      "text/html": [
       "<div>\n",
       "<style scoped>\n",
       "    .dataframe tbody tr th:only-of-type {\n",
       "        vertical-align: middle;\n",
       "    }\n",
       "\n",
       "    .dataframe tbody tr th {\n",
       "        vertical-align: top;\n",
       "    }\n",
       "\n",
       "    .dataframe thead th {\n",
       "        text-align: right;\n",
       "    }\n",
       "</style>\n",
       "<table border=\"1\" class=\"dataframe\">\n",
       "  <thead>\n",
       "    <tr style=\"text-align: right;\">\n",
       "      <th></th>\n",
       "      <th>user_id</th>\n",
       "      <th>lt_day</th>\n",
       "      <th>is_new</th>\n",
       "      <th>age</th>\n",
       "      <th>gender_segment</th>\n",
       "      <th>os_name</th>\n",
       "      <th>cpe_type_name</th>\n",
       "      <th>country</th>\n",
       "      <th>city</th>\n",
       "      <th>age_segment</th>\n",
       "      <th>traffic_segment</th>\n",
       "      <th>lifetime_segment</th>\n",
       "      <th>nps_score</th>\n",
       "      <th>nps_group</th>\n",
       "    </tr>\n",
       "  </thead>\n",
       "  <tbody>\n",
       "    <tr>\n",
       "      <th>0</th>\n",
       "      <td>A001A2</td>\n",
       "      <td>2320</td>\n",
       "      <td>старый</td>\n",
       "      <td>45.0</td>\n",
       "      <td>женщина</td>\n",
       "      <td>ANDROID</td>\n",
       "      <td>SMARTPHONE</td>\n",
       "      <td>Россия</td>\n",
       "      <td>Уфа</td>\n",
       "      <td>05 45-54</td>\n",
       "      <td>04 1-5</td>\n",
       "      <td>08 36+</td>\n",
       "      <td>10</td>\n",
       "      <td>cторонники</td>\n",
       "    </tr>\n",
       "    <tr>\n",
       "      <th>1</th>\n",
       "      <td>A001WF</td>\n",
       "      <td>2344</td>\n",
       "      <td>старый</td>\n",
       "      <td>53.0</td>\n",
       "      <td>мужчина</td>\n",
       "      <td>ANDROID</td>\n",
       "      <td>SMARTPHONE</td>\n",
       "      <td>Россия</td>\n",
       "      <td>Киров</td>\n",
       "      <td>05 45-54</td>\n",
       "      <td>04 1-5</td>\n",
       "      <td>08 36+</td>\n",
       "      <td>10</td>\n",
       "      <td>cторонники</td>\n",
       "    </tr>\n",
       "    <tr>\n",
       "      <th>2</th>\n",
       "      <td>A003Q7</td>\n",
       "      <td>467</td>\n",
       "      <td>старый</td>\n",
       "      <td>57.0</td>\n",
       "      <td>мужчина</td>\n",
       "      <td>ANDROID</td>\n",
       "      <td>SMARTPHONE</td>\n",
       "      <td>Россия</td>\n",
       "      <td>Москва</td>\n",
       "      <td>06 55-64</td>\n",
       "      <td>08 20-25</td>\n",
       "      <td>06 13-24</td>\n",
       "      <td>10</td>\n",
       "      <td>cторонники</td>\n",
       "    </tr>\n",
       "    <tr>\n",
       "      <th>3</th>\n",
       "      <td>A004TB</td>\n",
       "      <td>4190</td>\n",
       "      <td>старый</td>\n",
       "      <td>44.0</td>\n",
       "      <td>женщина</td>\n",
       "      <td>IOS</td>\n",
       "      <td>SMARTPHONE</td>\n",
       "      <td>Россия</td>\n",
       "      <td>РостовнаДону</td>\n",
       "      <td>04 35-44</td>\n",
       "      <td>03 0.1-1</td>\n",
       "      <td>08 36+</td>\n",
       "      <td>10</td>\n",
       "      <td>cторонники</td>\n",
       "    </tr>\n",
       "    <tr>\n",
       "      <th>4</th>\n",
       "      <td>A004XT</td>\n",
       "      <td>1163</td>\n",
       "      <td>старый</td>\n",
       "      <td>24.0</td>\n",
       "      <td>мужчина</td>\n",
       "      <td>ANDROID</td>\n",
       "      <td>SMARTPHONE</td>\n",
       "      <td>Россия</td>\n",
       "      <td>Рязань</td>\n",
       "      <td>02 16-24</td>\n",
       "      <td>05 5-10</td>\n",
       "      <td>08 36+</td>\n",
       "      <td>10</td>\n",
       "      <td>cторонники</td>\n",
       "    </tr>\n",
       "    <tr>\n",
       "      <th>...</th>\n",
       "      <td>...</td>\n",
       "      <td>...</td>\n",
       "      <td>...</td>\n",
       "      <td>...</td>\n",
       "      <td>...</td>\n",
       "      <td>...</td>\n",
       "      <td>...</td>\n",
       "      <td>...</td>\n",
       "      <td>...</td>\n",
       "      <td>...</td>\n",
       "      <td>...</td>\n",
       "      <td>...</td>\n",
       "      <td>...</td>\n",
       "      <td>...</td>\n",
       "    </tr>\n",
       "    <tr>\n",
       "      <th>502488</th>\n",
       "      <td>ZZZKLD</td>\n",
       "      <td>1249</td>\n",
       "      <td>старый</td>\n",
       "      <td>54.0</td>\n",
       "      <td>женщина</td>\n",
       "      <td>ANDROID</td>\n",
       "      <td>SMARTPHONE</td>\n",
       "      <td>Россия</td>\n",
       "      <td>Москва</td>\n",
       "      <td>05 45-54</td>\n",
       "      <td>04 1-5</td>\n",
       "      <td>08 36+</td>\n",
       "      <td>5</td>\n",
       "      <td>критики</td>\n",
       "    </tr>\n",
       "    <tr>\n",
       "      <th>502489</th>\n",
       "      <td>ZZZLWY</td>\n",
       "      <td>129</td>\n",
       "      <td>новый</td>\n",
       "      <td>31.0</td>\n",
       "      <td>мужчина</td>\n",
       "      <td>ANDROID</td>\n",
       "      <td>SMARTPHONE</td>\n",
       "      <td>Россия</td>\n",
       "      <td>Москва</td>\n",
       "      <td>03 25-34</td>\n",
       "      <td>04 1-5</td>\n",
       "      <td>04 4-6</td>\n",
       "      <td>8</td>\n",
       "      <td>нейтралы</td>\n",
       "    </tr>\n",
       "    <tr>\n",
       "      <th>502490</th>\n",
       "      <td>ZZZQ5F</td>\n",
       "      <td>522</td>\n",
       "      <td>старый</td>\n",
       "      <td>36.0</td>\n",
       "      <td>мужчина</td>\n",
       "      <td>ANDROID</td>\n",
       "      <td>SMARTPHONE</td>\n",
       "      <td>Россия</td>\n",
       "      <td>Сургут</td>\n",
       "      <td>04 35-44</td>\n",
       "      <td>09 25-30</td>\n",
       "      <td>06 13-24</td>\n",
       "      <td>10</td>\n",
       "      <td>cторонники</td>\n",
       "    </tr>\n",
       "    <tr>\n",
       "      <th>502491</th>\n",
       "      <td>ZZZQ8E</td>\n",
       "      <td>2936</td>\n",
       "      <td>старый</td>\n",
       "      <td>37.0</td>\n",
       "      <td>женщина</td>\n",
       "      <td>ANDROID</td>\n",
       "      <td>SMARTPHONE</td>\n",
       "      <td>Россия</td>\n",
       "      <td>УланУдэ</td>\n",
       "      <td>04 35-44</td>\n",
       "      <td>17 65-70</td>\n",
       "      <td>08 36+</td>\n",
       "      <td>9</td>\n",
       "      <td>cторонники</td>\n",
       "    </tr>\n",
       "    <tr>\n",
       "      <th>502492</th>\n",
       "      <td>ZZZYH0</td>\n",
       "      <td>2471</td>\n",
       "      <td>старый</td>\n",
       "      <td>37.0</td>\n",
       "      <td>мужчина</td>\n",
       "      <td>IOS</td>\n",
       "      <td>SMARTPHONE</td>\n",
       "      <td>Россия</td>\n",
       "      <td>Самара</td>\n",
       "      <td>04 35-44</td>\n",
       "      <td>06 10-15</td>\n",
       "      <td>08 36+</td>\n",
       "      <td>2</td>\n",
       "      <td>критики</td>\n",
       "    </tr>\n",
       "  </tbody>\n",
       "</table>\n",
       "<p>502493 rows × 14 columns</p>\n",
       "</div>"
      ],
      "text/plain": [
       "       user_id  lt_day  is_new   age gender_segment  os_name cpe_type_name  \\\n",
       "0       A001A2    2320  старый  45.0        женщина  ANDROID    SMARTPHONE   \n",
       "1       A001WF    2344  старый  53.0        мужчина  ANDROID    SMARTPHONE   \n",
       "2       A003Q7     467  старый  57.0        мужчина  ANDROID    SMARTPHONE   \n",
       "3       A004TB    4190  старый  44.0        женщина      IOS    SMARTPHONE   \n",
       "4       A004XT    1163  старый  24.0        мужчина  ANDROID    SMARTPHONE   \n",
       "...        ...     ...     ...   ...            ...      ...           ...   \n",
       "502488  ZZZKLD    1249  старый  54.0        женщина  ANDROID    SMARTPHONE   \n",
       "502489  ZZZLWY     129   новый  31.0        мужчина  ANDROID    SMARTPHONE   \n",
       "502490  ZZZQ5F     522  старый  36.0        мужчина  ANDROID    SMARTPHONE   \n",
       "502491  ZZZQ8E    2936  старый  37.0        женщина  ANDROID    SMARTPHONE   \n",
       "502492  ZZZYH0    2471  старый  37.0        мужчина      IOS    SMARTPHONE   \n",
       "\n",
       "       country          city age_segment traffic_segment lifetime_segment  \\\n",
       "0       Россия           Уфа    05 45-54          04 1-5           08 36+   \n",
       "1       Россия         Киров    05 45-54          04 1-5           08 36+   \n",
       "2       Россия        Москва    06 55-64        08 20-25         06 13-24   \n",
       "3       Россия  РостовнаДону    04 35-44        03 0.1-1           08 36+   \n",
       "4       Россия        Рязань    02 16-24         05 5-10           08 36+   \n",
       "...        ...           ...         ...             ...              ...   \n",
       "502488  Россия        Москва    05 45-54          04 1-5           08 36+   \n",
       "502489  Россия        Москва    03 25-34          04 1-5           04 4-6   \n",
       "502490  Россия        Сургут    04 35-44        09 25-30         06 13-24   \n",
       "502491  Россия       УланУдэ    04 35-44        17 65-70           08 36+   \n",
       "502492  Россия        Самара    04 35-44        06 10-15           08 36+   \n",
       "\n",
       "        nps_score   nps_group  \n",
       "0              10  cторонники  \n",
       "1              10  cторонники  \n",
       "2              10  cторонники  \n",
       "3              10  cторонники  \n",
       "4              10  cторонники  \n",
       "...           ...         ...  \n",
       "502488          5     критики  \n",
       "502489          8    нейтралы  \n",
       "502490         10  cторонники  \n",
       "502491          9  cторонники  \n",
       "502492          2     критики  \n",
       "\n",
       "[502493 rows x 14 columns]"
      ]
     },
     "execution_count": 4,
     "metadata": {},
     "output_type": "execute_result"
    }
   ],
   "source": [
    "df = pd.read_sql(data, engine)\n",
    "df"
   ]
  },
  {
   "cell_type": "code",
   "execution_count": 5,
   "id": "d1db981c",
   "metadata": {},
   "outputs": [
    {
     "data": {
      "text/html": [
       "<div>\n",
       "<style scoped>\n",
       "    .dataframe tbody tr th:only-of-type {\n",
       "        vertical-align: middle;\n",
       "    }\n",
       "\n",
       "    .dataframe tbody tr th {\n",
       "        vertical-align: top;\n",
       "    }\n",
       "\n",
       "    .dataframe thead th {\n",
       "        text-align: right;\n",
       "    }\n",
       "</style>\n",
       "<table border=\"1\" class=\"dataframe\">\n",
       "  <thead>\n",
       "    <tr style=\"text-align: right;\">\n",
       "      <th></th>\n",
       "      <th>lt_day</th>\n",
       "      <th>age</th>\n",
       "      <th>nps_score</th>\n",
       "    </tr>\n",
       "  </thead>\n",
       "  <tbody>\n",
       "    <tr>\n",
       "      <th>count</th>\n",
       "      <td>502493.000000</td>\n",
       "      <td>501939.000000</td>\n",
       "      <td>502493.000000</td>\n",
       "    </tr>\n",
       "    <tr>\n",
       "      <th>mean</th>\n",
       "      <td>1868.841439</td>\n",
       "      <td>39.621946</td>\n",
       "      <td>7.508562</td>\n",
       "    </tr>\n",
       "    <tr>\n",
       "      <th>std</th>\n",
       "      <td>1683.701762</td>\n",
       "      <td>11.188249</td>\n",
       "      <td>3.020378</td>\n",
       "    </tr>\n",
       "    <tr>\n",
       "      <th>min</th>\n",
       "      <td>-21.000000</td>\n",
       "      <td>10.000000</td>\n",
       "      <td>1.000000</td>\n",
       "    </tr>\n",
       "    <tr>\n",
       "      <th>25%</th>\n",
       "      <td>533.000000</td>\n",
       "      <td>31.000000</td>\n",
       "      <td>5.000000</td>\n",
       "    </tr>\n",
       "    <tr>\n",
       "      <th>50%</th>\n",
       "      <td>1239.000000</td>\n",
       "      <td>38.000000</td>\n",
       "      <td>9.000000</td>\n",
       "    </tr>\n",
       "    <tr>\n",
       "      <th>75%</th>\n",
       "      <td>3064.000000</td>\n",
       "      <td>47.000000</td>\n",
       "      <td>10.000000</td>\n",
       "    </tr>\n",
       "    <tr>\n",
       "      <th>max</th>\n",
       "      <td>9162.000000</td>\n",
       "      <td>89.000000</td>\n",
       "      <td>10.000000</td>\n",
       "    </tr>\n",
       "  </tbody>\n",
       "</table>\n",
       "</div>"
      ],
      "text/plain": [
       "              lt_day            age      nps_score\n",
       "count  502493.000000  501939.000000  502493.000000\n",
       "mean     1868.841439      39.621946       7.508562\n",
       "std      1683.701762      11.188249       3.020378\n",
       "min       -21.000000      10.000000       1.000000\n",
       "25%       533.000000      31.000000       5.000000\n",
       "50%      1239.000000      38.000000       9.000000\n",
       "75%      3064.000000      47.000000      10.000000\n",
       "max      9162.000000      89.000000      10.000000"
      ]
     },
     "execution_count": 5,
     "metadata": {},
     "output_type": "execute_result"
    }
   ],
   "source": [
    "df.describe()"
   ]
  },
  {
   "cell_type": "code",
   "execution_count": 6,
   "id": "b5a3d038",
   "metadata": {},
   "outputs": [
    {
     "name": "stdout",
     "output_type": "stream",
     "text": [
      "<class 'pandas.core.frame.DataFrame'>\n",
      "RangeIndex: 502493 entries, 0 to 502492\n",
      "Data columns (total 14 columns):\n",
      " #   Column            Non-Null Count   Dtype  \n",
      "---  ------            --------------   -----  \n",
      " 0   user_id           502493 non-null  object \n",
      " 1   lt_day            502493 non-null  int64  \n",
      " 2   is_new            502493 non-null  object \n",
      " 3   age               501939 non-null  float64\n",
      " 4   gender_segment    502493 non-null  object \n",
      " 5   os_name           502493 non-null  object \n",
      " 6   cpe_type_name     502493 non-null  object \n",
      " 7   country           502493 non-null  object \n",
      " 8   city              502493 non-null  object \n",
      " 9   age_segment       502493 non-null  object \n",
      " 10  traffic_segment   502493 non-null  object \n",
      " 11  lifetime_segment  502493 non-null  object \n",
      " 12  nps_score         502493 non-null  int64  \n",
      " 13  nps_group         502493 non-null  object \n",
      "dtypes: float64(1), int64(2), object(11)\n",
      "memory usage: 53.7+ MB\n"
     ]
    }
   ],
   "source": [
    "df.info()"
   ]
  },
  {
   "cell_type": "code",
   "execution_count": 16,
   "id": "ac665aa8",
   "metadata": {},
   "outputs": [],
   "source": [
    "df.to_csv('telecomm_csi_tableau.csv', index=False)"
   ]
  },
  {
   "cell_type": "markdown",
   "id": "e4df7d23",
   "metadata": {},
   "source": [
    "<div class=\"alert alert-success\">\n",
    "✔️ <b>Комментарий с комплиментом ревьюера:</b> \n",
    "\n",
    "Данные выгружены корректно, молодец. \n",
    "    \n",
    "Можно вывести более полную статистику по датафрейму, применив describe() и info().\n",
    "\n",
    "</div>\n"
   ]
  },
  {
   "cell_type": "markdown",
   "id": "10668132",
   "metadata": {},
   "source": [
    "## Исследование распределения участников опроса"
   ]
  },
  {
   "cell_type": "markdown",
   "id": "6cc99c50",
   "metadata": {},
   "source": [
    "В опросе приняли участие клиенты от 10 до 89 лет. Большую часть составил сегмент от 35 до 44 лет (33,02%). Затем сегмент от 25 до 34 лет (30,81%) и от 45 до 54 лет (18,76%). Также в опросе поучаствовали в большинстве женщины (54,22%), чем мужчины (45,52%). Больше всего опрошенных оказалось в Москве (27,36%), затем в Санкт-Петербурге (12,25%) и Новосибирске (11%). В топ 10 городов по количеству опрошенных вошли также Екатеринбург, Казань, Нижний Новгород, Ростов-на-Дону, Самара, Омск, Челябинск.\n",
    "Новых пользователей оказалось 86100 человек (17,13%), а старых гораздо больше - 416393 (82,87%)."
   ]
  },
  {
   "cell_type": "markdown",
   "id": "27f107d4",
   "metadata": {},
   "source": [
    "## Исследование лояльности пользователей"
   ]
  },
  {
   "cell_type": "markdown",
   "id": "84b533ba",
   "metadata": {},
   "source": [
    "Общий NPS пользователей оказался положительным 22%. Большая часть пользователей относятся к группе сторонников компании - 264081 пользователь (52,55%), чем к группе критиков - 154044 (30,66%). Нейтралы составили 16,79% - 84368 пользователей. Среди сторонников чаще встречаются клиенты от 35 до 44 лет (33%), а среди критиков клиенты от 25 до 34 лет (35,8%). Так как в опросе приняли участие в основном женщины, то они преобладают во всех категориях - сторонников (57%), критиков (52%) и нейтралов (51%). Чем больше время жизни клиента в компании, тем больше количество как сторонников сервиса, так и критиков. Критиков и сторонников больше при трафике 1-5. "
   ]
  },
  {
   "cell_type": "markdown",
   "id": "c14d7f71",
   "metadata": {},
   "source": [
    "## Исследование сторонников компании"
   ]
  },
  {
   "cell_type": "markdown",
   "id": "f21d83c7",
   "metadata": {},
   "source": [
    "К сторонникам компании можно отнести пользователей, которые уже продолжительное время пользуются услугами сервиса (36+), им от 35 до 44 лет, чаще всего они потребляют трафик в ссегменте 1-5. "
   ]
  },
  {
   "cell_type": "markdown",
   "id": "0647ac4d",
   "metadata": {},
   "source": [
    "## Создание дашборда в Tableau"
   ]
  },
  {
   "cell_type": "markdown",
   "id": "2af3176b",
   "metadata": {},
   "source": [
    "На основании построенных графиков был создан единый дашборд"
   ]
  },
  {
   "cell_type": "markdown",
   "id": "daaad177",
   "metadata": {},
   "source": [
    "## Создание презентации"
   ]
  },
  {
   "cell_type": "markdown",
   "id": "90c7fe73",
   "metadata": {},
   "source": [
    "Также была создана презентация со всеми полученными выводами"
   ]
  },
  {
   "cell_type": "markdown",
   "id": "d330aed4",
   "metadata": {},
   "source": [
    "Презентация находится по ссылке: https://public.tableau.com/shared/KHGSQDN33?:display_count=n&:origin=viz_share_link"
   ]
  },
  {
   "cell_type": "markdown",
   "id": "56df1a27",
   "metadata": {},
   "source": [
    "## Общий вывод"
   ]
  },
  {
   "cell_type": "markdown",
   "id": "ca102707",
   "metadata": {},
   "source": [
    "Мы провели исследование лояльности клиентов телекоммуникационной компании\n",
    "\n",
    "Целью исследования было - проанализировать результаты опроса и построить дашборд, который представит информацию о текущем уровне NPS среди клиентов и покажет, как этот уровень меняется в зависимости от пользовательских признаков.\n",
    "\n",
    "Этапы исследования и выводы:\n",
    "\n",
    "1. Подключение к базе\n",
    "\n",
    "Мы подключились к базе данных в SQLite для того, чтобы выгрузить данные по пользователям и результатам опроса.\n",
    "\n",
    "2. Выгрузка данных\n",
    "\n",
    "Мы написали запрос на sql для того, чтобы выгрузить нужные нам данные, собрав их из разных таблиц. Для определения лайфтайма клиента (времени жизни в использовании услуг) возьмем условие, что клиента считают новым, если количество дней «жизни» составляет не более 365 дней. А для составления категории по оценкам NPS используем следующее условие:\n",
    "- 9-10 баллов — «cторонники»\n",
    "- 7-8 баллов — «нейтралы»\n",
    "- 0-6 баллов — «критики»\n",
    "\n",
    "3. Исследование распределения участников\n",
    "\n",
    "В опросе приняли участие клиенты от 10 до 89 лет. Большую часть составил сегмент от 35 до 44 лет (33,02%). Затем сегмент от 25 до 34 лет (30,81%) и от 45 до 54 лет (18,76%). Также в опросе поучаствовали в большинстве женщины (54,22%), чем мужчины (45,52%). Больше всего опрошенных оказалось в Москве (27,36%), затем в Санкт-Петербурге (12,25%) и Новосибирске (11%). В топ 10 городов по количеству опрошенных вошли также Екатеринбург, Казань, Нижний Новгород, Ростов-на-Дону, Самара, Омск, Челябинск. Новых пользователей оказалось 86100 человек (17,13%), а старых гораздо больше - 416393 (82,87%).\n",
    "\n",
    "4. Исследование лояльности пользователей\n",
    "\n",
    "Общий NPS пользователей оказался положительным 22%. Большая часть пользователей относятся к группе сторонников компании - 264081 пользователь (52,55%), чем к группе критиков - 154044 (30,66%). Нейтралы составили 16,79% - 84368 пользователей. Среди сторонников чаще встречаются клиенты от 35 до 44 лет (33%), а среди критиков клиенты от 25 до 34 лет (35,8%). Так как в опросе приняли участие в основном женщины, то они преобладают во всех категориях - сторонников (57%), критиков (52%) и нейтралов (51%). Чем больше время жизни клиента в компании, тем больше количество как сторонников сервиса, так и критиков. Критиков и сторонников больше при трафике 1-5.\n",
    "\n",
    "5. Составление портрета типичного сторонника компании\n",
    "\n",
    "К сторонникам компании можно отнести пользователей, которые уже продолжительное время пользуются услугами сервиса (36+), им от 35 до 44 лет, чаще всего они потребляют трафик в сегменте 1-5.\n",
    "\n",
    "6. Создание дашборда в Tableau\n",
    "7. Создание презентации\n"
   ]
  },
  {
   "cell_type": "markdown",
   "id": "68377715",
   "metadata": {},
   "source": [
    "\n",
    "<div class=\"alert alert-success\">\n",
    "✔️ <b>Комментарий с комплиментом ревьюера по Дашборду:</b>\n",
    "\n",
    "    \n",
    "Отличный анализ групп по пользователям, добавлены графики по основным категориям: полу, полу/возрасту, городам, выведено соотношение новых и старых пользователей, добавлены все необходимые фильтры.\n",
    "    \n",
    "Здорово, что сделан анализ по группам и дополнительно проанализированны сторонники.\n",
    "    \n",
    "Добавлен подробный анализ по нескольким разрезам.\n",
    "</div>\n"
   ]
  },
  {
   "cell_type": "markdown",
   "id": "8862325e",
   "metadata": {},
   "source": [
    "<div class=\"alert alert-danger\">\n",
    "❌ <b>Комментарий с замечанием ревьюера по Дашборду:</b> \n",
    "\n",
    "Есть одно замечание, которое необходимо скорректировать:    \n",
    "\n",
    "\n",
    "    \n",
    "- добавь, пожалуйста, анализ уровня лояльности - NPS по городам, к примеру заказчику будет интересно узнать город с наименьшим или с наибольшим NPS, чтобы корректнее продумать стратегию\n",
    "    \n",
    "\n",
    "</div>\n",
    "\n"
   ]
  },
  {
   "cell_type": "markdown",
   "id": "a7654e83",
   "metadata": {},
   "source": [
    "<div class=\"alert alert-info\"> <b>🎓 Приятно познакомиться! Спасибо за комментарии) Добавила таблицу NPS в разных городах в дашборд и лист \"Лояльность пользователей\". Ссылка та же:\n",
    "    \n",
    "https://public.tableau.com/shared/2CK5CN4BD?:display_count=n&:origin=viz_share_link </div>"
   ]
  },
  {
   "cell_type": "markdown",
   "id": "30a737c0",
   "metadata": {},
   "source": [
    "<div class=\"alert alert-success\">\n",
    "✔️ <b>Комментарий с комплиментом ревьюера по Дашборду в2:</b>\n",
    "\n",
    "    \n",
    "Отлично, спасибо за доработку дашборда!"
   ]
  },
  {
   "cell_type": "code",
   "execution_count": null,
   "id": "b0cb1d65",
   "metadata": {},
   "outputs": [],
   "source": []
  }
 ],
 "metadata": {
  "ExecuteTimeLog": [
   {
    "duration": 559,
    "start_time": "2024-07-14T14:43:56.909Z"
   },
   {
    "duration": 72,
    "start_time": "2024-07-14T14:45:03.796Z"
   },
   {
    "duration": 81,
    "start_time": "2024-07-14T14:45:19.964Z"
   },
   {
    "duration": 7,
    "start_time": "2024-07-14T14:46:06.652Z"
   },
   {
    "duration": 68,
    "start_time": "2024-07-14T14:49:52.509Z"
   },
   {
    "duration": 8,
    "start_time": "2024-07-14T14:50:17.516Z"
   },
   {
    "duration": 57,
    "start_time": "2024-07-14T14:50:22.571Z"
   },
   {
    "duration": 2,
    "start_time": "2024-07-14T14:50:37.915Z"
   },
   {
    "duration": 4022,
    "start_time": "2024-07-14T14:50:40.787Z"
   },
   {
    "duration": 3,
    "start_time": "2024-07-14T14:59:39.692Z"
   },
   {
    "duration": 548,
    "start_time": "2024-07-14T14:59:41.340Z"
   },
   {
    "duration": 2,
    "start_time": "2024-07-14T15:17:13.756Z"
   },
   {
    "duration": 3506,
    "start_time": "2024-07-14T15:17:13.842Z"
   },
   {
    "duration": 2,
    "start_time": "2024-07-14T15:19:00.747Z"
   },
   {
    "duration": 3506,
    "start_time": "2024-07-14T15:19:02.437Z"
   },
   {
    "duration": 3,
    "start_time": "2024-07-14T15:21:01.207Z"
   },
   {
    "duration": 3743,
    "start_time": "2024-07-14T15:21:02.607Z"
   },
   {
    "duration": 3,
    "start_time": "2024-07-14T15:24:10.891Z"
   },
   {
    "duration": 3685,
    "start_time": "2024-07-14T15:24:12.518Z"
   },
   {
    "duration": 2,
    "start_time": "2024-07-14T15:26:13.297Z"
   },
   {
    "duration": 3770,
    "start_time": "2024-07-14T15:26:14.584Z"
   },
   {
    "duration": 3,
    "start_time": "2024-07-14T15:27:52.807Z"
   },
   {
    "duration": 3724,
    "start_time": "2024-07-14T15:27:54.223Z"
   },
   {
    "duration": 3,
    "start_time": "2024-07-14T15:28:30.857Z"
   },
   {
    "duration": 3696,
    "start_time": "2024-07-14T15:28:32.388Z"
   },
   {
    "duration": 3,
    "start_time": "2024-07-14T15:29:45.722Z"
   },
   {
    "duration": 3692,
    "start_time": "2024-07-14T15:29:47.403Z"
   },
   {
    "duration": 2,
    "start_time": "2024-07-14T15:30:00.140Z"
   },
   {
    "duration": 3697,
    "start_time": "2024-07-14T15:30:02.294Z"
   },
   {
    "duration": 3,
    "start_time": "2024-07-14T15:31:41.697Z"
   },
   {
    "duration": 541,
    "start_time": "2024-07-14T15:31:43.014Z"
   },
   {
    "duration": 2,
    "start_time": "2024-07-14T15:33:22.424Z"
   },
   {
    "duration": 540,
    "start_time": "2024-07-14T15:33:23.751Z"
   },
   {
    "duration": 2,
    "start_time": "2024-07-14T15:34:24.730Z"
   },
   {
    "duration": 537,
    "start_time": "2024-07-14T15:34:26.075Z"
   },
   {
    "duration": 2,
    "start_time": "2024-07-14T15:35:12.524Z"
   },
   {
    "duration": 543,
    "start_time": "2024-07-14T15:35:23.200Z"
   },
   {
    "duration": 2,
    "start_time": "2024-07-14T15:36:05.374Z"
   },
   {
    "duration": 542,
    "start_time": "2024-07-14T15:36:06.620Z"
   },
   {
    "duration": 2,
    "start_time": "2024-07-14T15:37:12.819Z"
   },
   {
    "duration": 3,
    "start_time": "2024-07-14T15:37:40.772Z"
   },
   {
    "duration": 545,
    "start_time": "2024-07-14T15:37:42.045Z"
   },
   {
    "duration": 102,
    "start_time": "2024-07-14T15:37:49.696Z"
   },
   {
    "duration": 3,
    "start_time": "2024-07-14T15:38:07.040Z"
   },
   {
    "duration": 1580,
    "start_time": "2024-07-14T15:38:09.213Z"
   },
   {
    "duration": 3,
    "start_time": "2024-07-14T15:41:06.983Z"
   },
   {
    "duration": 4147,
    "start_time": "2024-07-14T15:41:12.825Z"
   },
   {
    "duration": 4,
    "start_time": "2024-07-14T15:45:50.288Z"
   },
   {
    "duration": 646,
    "start_time": "2024-07-14T15:45:51.616Z"
   },
   {
    "duration": 3,
    "start_time": "2024-07-14T15:49:29.651Z"
   },
   {
    "duration": 657,
    "start_time": "2024-07-14T15:49:30.845Z"
   },
   {
    "duration": 3,
    "start_time": "2024-07-14T15:50:46.373Z"
   },
   {
    "duration": 5154,
    "start_time": "2024-07-14T15:50:47.285Z"
   },
   {
    "duration": 7,
    "start_time": "2024-07-14T18:55:02.905Z"
   },
   {
    "duration": 650,
    "start_time": "2024-07-14T18:55:04.553Z"
   },
   {
    "duration": 3,
    "start_time": "2024-07-14T18:55:21.687Z"
   },
   {
    "duration": 5976,
    "start_time": "2024-07-14T18:55:22.989Z"
   },
   {
    "duration": 3,
    "start_time": "2024-07-14T18:56:15.112Z"
   },
   {
    "duration": 600,
    "start_time": "2024-07-14T18:57:01.482Z"
   },
   {
    "duration": 74,
    "start_time": "2024-07-14T18:57:03.156Z"
   },
   {
    "duration": 3,
    "start_time": "2024-07-14T18:57:10.699Z"
   },
   {
    "duration": 6184,
    "start_time": "2024-07-14T18:57:12.309Z"
   },
   {
    "duration": 4,
    "start_time": "2024-07-14T19:01:50.469Z"
   },
   {
    "duration": 671,
    "start_time": "2024-07-14T19:01:52.263Z"
   },
   {
    "duration": 5,
    "start_time": "2024-07-14T19:03:53.287Z"
   },
   {
    "duration": 9526,
    "start_time": "2024-07-14T19:03:53.759Z"
   },
   {
    "duration": 4,
    "start_time": "2024-07-14T19:09:37.588Z"
   },
   {
    "duration": 5873,
    "start_time": "2024-07-14T19:09:38.700Z"
   },
   {
    "duration": 5388,
    "start_time": "2024-07-14T19:10:38.766Z"
   },
   {
    "duration": 5244,
    "start_time": "2024-07-14T19:16:42.783Z"
   },
   {
    "duration": 360,
    "start_time": "2024-07-14T19:26:34.229Z"
   },
   {
    "duration": 111,
    "start_time": "2024-07-14T19:28:00.489Z"
   },
   {
    "duration": 249,
    "start_time": "2024-07-14T19:28:14.557Z"
   },
   {
    "duration": 188,
    "start_time": "2024-07-14T19:30:47.762Z"
   },
   {
    "duration": 562,
    "start_time": "2024-07-20T08:59:32.162Z"
   },
   {
    "duration": 90,
    "start_time": "2024-07-20T08:59:35.746Z"
   },
   {
    "duration": 3,
    "start_time": "2024-07-20T09:00:11.307Z"
   },
   {
    "duration": 1725,
    "start_time": "2024-07-20T09:00:14.740Z"
   },
   {
    "duration": 18,
    "start_time": "2024-07-20T09:00:43.810Z"
   },
   {
    "duration": 6,
    "start_time": "2024-07-20T09:07:18.923Z"
   },
   {
    "duration": 4,
    "start_time": "2024-07-20T09:16:00.794Z"
   },
   {
    "duration": 5545,
    "start_time": "2024-07-20T09:16:03.530Z"
   },
   {
    "duration": 5,
    "start_time": "2024-07-20T09:42:52.821Z"
   },
   {
    "duration": 745,
    "start_time": "2024-07-20T09:42:54.538Z"
   },
   {
    "duration": 3,
    "start_time": "2024-07-20T09:46:03.465Z"
   },
   {
    "duration": 5810,
    "start_time": "2024-07-20T09:46:04.150Z"
   },
   {
    "duration": 154,
    "start_time": "2024-07-20T09:46:43.794Z"
   },
   {
    "duration": 7,
    "start_time": "2024-07-20T09:47:25.961Z"
   },
   {
    "duration": 140,
    "start_time": "2024-07-20T09:47:34.805Z"
   },
   {
    "duration": 5075,
    "start_time": "2024-07-20T09:48:50.632Z"
   },
   {
    "duration": 498,
    "start_time": "2024-07-21T08:23:40.558Z"
   },
   {
    "duration": 70,
    "start_time": "2024-07-21T08:23:41.671Z"
   },
   {
    "duration": 4,
    "start_time": "2024-07-21T08:23:44.225Z"
   },
   {
    "duration": 5557,
    "start_time": "2024-07-21T08:23:45.630Z"
   },
   {
    "duration": 66,
    "start_time": "2024-07-21T08:27:19.605Z"
   },
   {
    "duration": 143,
    "start_time": "2024-07-21T08:27:34.410Z"
   },
   {
    "duration": 547,
    "start_time": "2024-07-21T18:39:01.094Z"
   },
   {
    "duration": 70,
    "start_time": "2024-07-21T18:39:01.643Z"
   },
   {
    "duration": 3,
    "start_time": "2024-07-21T18:39:03.771Z"
   },
   {
    "duration": 5721,
    "start_time": "2024-07-21T18:39:05.285Z"
   },
   {
    "duration": 77,
    "start_time": "2024-07-21T18:43:43.307Z"
   },
   {
    "duration": 571,
    "start_time": "2024-07-21T18:43:48.273Z"
   }
  ],
  "kernelspec": {
   "display_name": "Python 3 (ipykernel)",
   "language": "python",
   "name": "python3"
  },
  "language_info": {
   "codemirror_mode": {
    "name": "ipython",
    "version": 3
   },
   "file_extension": ".py",
   "mimetype": "text/x-python",
   "name": "python",
   "nbconvert_exporter": "python",
   "pygments_lexer": "ipython3",
   "version": "3.9.5"
  },
  "toc": {
   "base_numbering": 1,
   "nav_menu": {},
   "number_sections": true,
   "sideBar": true,
   "skip_h1_title": true,
   "title_cell": "Table of Contents",
   "title_sidebar": "Contents",
   "toc_cell": false,
   "toc_position": {},
   "toc_section_display": true,
   "toc_window_display": false
  }
 },
 "nbformat": 4,
 "nbformat_minor": 5
}
